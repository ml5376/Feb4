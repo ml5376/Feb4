{
 "cells": [
  {
   "cell_type": "code",
   "execution_count": 1,
   "id": "5cd227a5-7068-4b24-8b95-92274962c528",
   "metadata": {
    "tags": []
   },
   "outputs": [
    {
     "name": "stdout",
     "output_type": "stream",
     "text": [
      "/bin/bash: /home/ubuntu0/miniconda3/envs/scbasset/lib/libtinfo.so.6: no version information available (required by /bin/bash)\n",
      "--2024-02-11 05:31:26--  https://docs.google.com/uc?export=download&id=14nb6pcG__i34dJxPSAV737QQivQ-TgAE\n",
      "Resolving docs.google.com (docs.google.com)... 142.251.37.14, 2a00:1450:4005:802::200e\n",
      "Connecting to docs.google.com (docs.google.com)|142.251.37.14|:443... connected.\n",
      "HTTP request sent, awaiting response... 303 See Other\n",
      "Location: https://drive.usercontent.google.com/download?id=14nb6pcG__i34dJxPSAV737QQivQ-TgAE&export=download [following]\n",
      "--2024-02-11 05:31:26--  https://drive.usercontent.google.com/download?id=14nb6pcG__i34dJxPSAV737QQivQ-TgAE&export=download\n",
      "Resolving drive.usercontent.google.com (drive.usercontent.google.com)... 142.251.209.129, 2a00:1450:4005:801::2001\n",
      "Connecting to drive.usercontent.google.com (drive.usercontent.google.com)|142.251.209.129|:443... connected.\n",
      "HTTP request sent, awaiting response... 200 OK\n",
      "Length: 27836424 (27M) [application/octet-stream]\n",
      "Saving to: ‘gdrive_atac0.h5ad’\n",
      "\n",
      "gdrive_atac0.h5ad   100%[===================>]  26.55M  36.8MB/s    in 0.7s    \n",
      "\n",
      "2024-02-11 05:31:29 (36.8 MB/s) - ‘gdrive_atac0.h5ad’ saved [27836424/27836424]\n",
      "\n",
      "/bin/bash: /home/ubuntu0/miniconda3/envs/scbasset/lib/libtinfo.so.6: no version information available (required by /bin/bash)\n",
      "--2024-02-11 05:31:30--  https://docs.google.com/uc?export=download&id=19-8dzYezWrp34XnrYt_tgvi07ias6OxP\n",
      "Resolving docs.google.com (docs.google.com)... 142.251.37.14, 2a00:1450:4005:802::200e\n",
      "Connecting to docs.google.com (docs.google.com)|142.251.37.14|:443... connected.\n",
      "HTTP request sent, awaiting response... 303 See Other\n",
      "Location: https://drive.usercontent.google.com/download?id=19-8dzYezWrp34XnrYt_tgvi07ias6OxP&export=download [following]\n",
      "--2024-02-11 05:31:30--  https://drive.usercontent.google.com/download?id=19-8dzYezWrp34XnrYt_tgvi07ias6OxP&export=download\n",
      "Resolving drive.usercontent.google.com (drive.usercontent.google.com)... 142.251.209.129, 2a00:1450:4005:801::2001\n",
      "Connecting to drive.usercontent.google.com (drive.usercontent.google.com)|142.251.209.129|:443... connected.\n",
      "HTTP request sent, awaiting response... 200 OK\n",
      "Length: 29239088 (28M) [application/octet-stream]\n",
      "Saving to: ‘gdrive_atac1.h5ad’\n",
      "\n",
      "gdrive_atac1.h5ad   100%[===================>]  27.88M  38.4MB/s    in 0.7s    \n",
      "\n",
      "2024-02-11 05:31:34 (38.4 MB/s) - ‘gdrive_atac1.h5ad’ saved [29239088/29239088]\n",
      "\n",
      "/bin/bash: /home/ubuntu0/miniconda3/envs/scbasset/lib/libtinfo.so.6: no version information available (required by /bin/bash)\n",
      "--2024-02-11 05:31:34--  https://docs.google.com/uc?export=download&id=1g2YDTrhfLXoEpQNMe5rZswMlY4y5Z8IV\n",
      "Resolving docs.google.com (docs.google.com)... 142.251.37.14, 2a00:1450:4005:802::200e\n",
      "Connecting to docs.google.com (docs.google.com)|142.251.37.14|:443... connected.\n",
      "HTTP request sent, awaiting response... 303 See Other\n",
      "Location: https://drive.usercontent.google.com/download?id=1g2YDTrhfLXoEpQNMe5rZswMlY4y5Z8IV&export=download [following]\n",
      "--2024-02-11 05:31:34--  https://drive.usercontent.google.com/download?id=1g2YDTrhfLXoEpQNMe5rZswMlY4y5Z8IV&export=download\n",
      "Resolving drive.usercontent.google.com (drive.usercontent.google.com)... 142.251.209.129, 2a00:1450:4005:801::2001\n",
      "Connecting to drive.usercontent.google.com (drive.usercontent.google.com)|142.251.209.129|:443... connected.\n",
      "HTTP request sent, awaiting response... 200 OK\n",
      "Length: 27637512 (26M) [application/octet-stream]\n",
      "Saving to: ‘gdrive_atac2.h5ad’\n",
      "\n",
      "gdrive_atac2.h5ad   100%[===================>]  26.36M  40.0MB/s    in 0.7s    \n",
      "\n",
      "2024-02-11 05:31:38 (40.0 MB/s) - ‘gdrive_atac2.h5ad’ saved [27637512/27637512]\n",
      "\n",
      "/bin/bash: /home/ubuntu0/miniconda3/envs/scbasset/lib/libtinfo.so.6: no version information available (required by /bin/bash)\n",
      "--2024-02-11 05:31:38--  https://docs.google.com/uc?export=download&id=1vn530Jt5uJJE7oGHTNK6sb44LlQ018Vr\n",
      "Resolving docs.google.com (docs.google.com)... 142.251.37.14, 2a00:1450:4005:802::200e\n",
      "Connecting to docs.google.com (docs.google.com)|142.251.37.14|:443... connected.\n",
      "HTTP request sent, awaiting response... 303 See Other\n",
      "Location: https://drive.usercontent.google.com/download?id=1vn530Jt5uJJE7oGHTNK6sb44LlQ018Vr&export=download [following]\n",
      "--2024-02-11 05:31:38--  https://drive.usercontent.google.com/download?id=1vn530Jt5uJJE7oGHTNK6sb44LlQ018Vr&export=download\n",
      "Resolving drive.usercontent.google.com (drive.usercontent.google.com)... 142.251.209.129, 2a00:1450:4005:801::2001\n",
      "Connecting to drive.usercontent.google.com (drive.usercontent.google.com)|142.251.209.129|:443... connected.\n",
      "HTTP request sent, awaiting response... 200 OK\n",
      "Length: 2431 (2.4K) [text/html]\n",
      "Saving to: ‘gdrive_rna.h5ad’\n",
      "\n",
      "gdrive_rna.h5ad     100%[===================>]   2.37K  --.-KB/s    in 0s      \n",
      "\n",
      "2024-02-11 05:31:38 (27.3 MB/s) - ‘gdrive_rna.h5ad’ saved [2431/2431]\n",
      "\n"
     ]
    }
   ],
   "source": [
    "\n",
    "!wget --no-check-certificate 'https://docs.google.com/uc?export=download&id=14nb6pcG__i34dJxPSAV737QQivQ-TgAE' -O gdrive_atac0.h5ad\n",
    "\n",
    "\n",
    "!wget --no-check-certificate 'https://docs.google.com/uc?export=download&id=19-8dzYezWrp34XnrYt_tgvi07ias6OxP' -O gdrive_atac1.h5ad\n",
    "\n",
    "\n",
    "!wget --no-check-certificate 'https://docs.google.com/uc?export=download&id=1g2YDTrhfLXoEpQNMe5rZswMlY4y5Z8IV' -O gdrive_atac2.h5ad\n",
    "\n",
    "!wget --no-check-certificate 'https://docs.google.com/uc?export=download&id=1vn530Jt5uJJE7oGHTNK6sb44LlQ018Vr' -O gdrive_rna.h5ad\n"
   ]
  },
  {
   "cell_type": "code",
   "execution_count": 5,
   "id": "cf45db70-337f-4a76-b0a3-0ddf1da1f1f3",
   "metadata": {
    "tags": []
   },
   "outputs": [],
   "source": [
    "import anndata as ad \n",
    "import os\n",
    "import pandas as pd \n",
    "import scglue \n",
    "import scanpy as sc \n",
    "#generate rna\n",
    "\n",
    "\n",
    "#generate rna \n",
    "# rna = ad.read_h5ad('/home/ubuntu0/scBasset/Chen-2019-RNA.h5ad')\n",
    "# rna.layers[\"counts\"] = rna.X.copy()\n",
    "\n",
    "# #select high expressive genes as in the tutorial the number 2000\n",
    "# sc.pp.highly_variable_genes(rna, n_top_genes=60000, flavor=\"seurat_v3\")\n",
    "\n",
    "# sc.pp.normalize_total(rna)\n",
    "# sc.pp.log1p(rna)\n",
    "# sc.pp.scale(rna)\n",
    "# sc.tl.pca(rna, n_comps=100, svd_solver=\"auto\")\n",
    "\n",
    "# sc.pp.neighbors(rna, metric=\"cosine\")\n",
    "# sc.tl.umap(rna)\n",
    "# sc.pl.umap(rna,color='cell_type')\n",
    "\n",
    "# scglue.data.get_gene_annotation(\n",
    "#     rna, gtf=\"/home/ubuntu0/GLUE/evaluation/workflow/scripts/gencode.vM25.chr_patch_hapl_scaff.annotation.gtf.gz\",\n",
    "#     gtf_by=\"gene_name\"\n",
    "# )\n",
    "rna=ad.read_h5ad('gdrive_atac2.h5ad')\n",
    "atacl=[]\n",
    "atacl.append(ad.read_h5ad('gdrive_atac0.h5ad'))\n",
    "atacl.append(ad.read_h5ad('gdrive_atac1.h5ad'))\n",
    "atacl.append(ad.read_h5ad('gdrive_atac2.h5ad'))"
   ]
  },
  {
   "cell_type": "code",
   "execution_count": 3,
   "id": "fb513809-4d04-498c-9398-380a8a608737",
   "metadata": {
    "tags": []
   },
   "outputs": [
    {
     "name": "stderr",
     "output_type": "stream",
     "text": [
      "/home/ubuntu0/miniconda3/envs/glue2_scib/lib/python3.8/site-packages/scglue/num.py:289: RuntimeWarning: divide by zero encountered in divide\n",
      "  idf = X.shape[0] / X.sum(axis=0)\n",
      "window_graph: 100%|█████████████████████████████████████████| 28930/28930 [00:00<00:00, 41267.50it/s]\n",
      "/home/ubuntu0/miniconda3/envs/glue2_scib/lib/python3.8/site-packages/scglue/num.py:289: RuntimeWarning: divide by zero encountered in divide\n",
      "  idf = X.shape[0] / X.sum(axis=0)\n",
      "window_graph: 100%|█████████████████████████████████████████| 28930/28930 [00:00<00:00, 32856.02it/s]\n",
      "/home/ubuntu0/miniconda3/envs/glue2_scib/lib/python3.8/site-packages/scglue/num.py:289: RuntimeWarning: divide by zero encountered in divide\n",
      "  idf = X.shape[0] / X.sum(axis=0)\n",
      "window_graph: 100%|█████████████████████████████████████████| 28930/28930 [00:00<00:00, 29257.79it/s]\n"
     ]
    }
   ],
   "source": [
    "#get atac0,atac1,atac2\n",
    "path='2024-01-31-22_55_35'\n",
    "\n",
    "guidancel=[]\n",
    "for i in range(3):\n",
    "    atac=atacl[i]\n",
    "    scglue.data.lsi(atac, n_components=100, n_iter=15)#enable lsi embedding\n",
    "    split = atac.var_names.str.split(r\"[:-]\")\n",
    "    atac.var[\"chrom\"] = atac.var['chr']\n",
    "    atac.var[\"chromStart\"] = atac.var['start']\n",
    "    atac.var[\"chromEnd\"] = atac.var['end']\n",
    "    guidance=scglue.genomics.rna_anchored_guidance_graph(rna, atac)\n",
    "    atac.obsm['proj']=pd.read_csv(path+'scb_embedding/scb'+str(i)+'.csv',index_col=0).values #add scbasset embedding\n",
    "    guidancel.append(guidance)\n",
    "    \n",
    "sc.pp.subsample(rna,n_obs=4000,random_state=42) #filter rna here "
   ]
  },
  {
   "cell_type": "code",
   "execution_count": 4,
   "id": "ffab9e6e-81b6-4629-88e1-b95ea726d93d",
   "metadata": {
    "tags": []
   },
   "outputs": [],
   "source": [
    "import scglue\n",
    "from itertools import chain\n",
    "import networkx as nx \n",
    "def train_glue(rna,atac,input_representation,guidance):\n",
    "     \n",
    "    #pca rna and lsi atac\n",
    "    scglue.models.configure_dataset(rna,'NB',use_highly_variable=True,use_layer='counts',use_rep='X_pca')\n",
    "\n",
    "    scglue.models.configure_dataset(atac,'NB',use_highly_variable=True,use_rep=input_representation)\n",
    "\n",
    "    guidance_hvf=guidance.subgraph(chain(rna.var.query('highly_variable').index,atac.var.query('highly_variable').index)).copy()\n",
    "\n",
    "    glue=scglue.models.fit_SCGLUE({'rna':rna,'atac':atac},guidance_hvf,fit_kws={'directory':'glue'})\n",
    "    return glue,guidance_hvf\n"
   ]
  },
  {
   "cell_type": "code",
   "execution_count": 5,
   "id": "eac35eb6-031b-4670-b7c9-6e7953045572",
   "metadata": {
    "tags": []
   },
   "outputs": [],
   "source": [
    "import os \n",
    "os.makedirs(path+'glue')"
   ]
  },
  {
   "cell_type": "code",
   "execution_count": 6,
   "id": "28b9cad2-0a2c-4bfb-84b2-47cba776007d",
   "metadata": {
    "tags": []
   },
   "outputs": [],
   "source": [
    "import warnings \n",
    "warnings.filterwarnings('ignore')\n",
    "import seaborn as sns\n",
    "import matplotlib.pyplot as plt \n",
    "import pandas as pd \n",
    "\n",
    "def run_scib(atac,proj):\n",
    "    import scib\n",
    "    clisi=False\n",
    "    ilisi=False\n",
    "    graph_connect=False\n",
    "    hvg=False\n",
    "    atac.obs['cell_type']=atac.obs['cell_type'].astype('category')\n",
    "    atac.obs['batch']=0\n",
    "    atac.obs['batch']=atac.obs['batch'].astype('category')\n",
    "    out=scib.metrics.metrics(atac, atac, batch_key='batch', label_key='cell_type', embed=proj, cluster_key='cluster', cluster_nmi=None, ari_=True, nmi_=True, nmi_method='arithmetic', nmi_dir=None, silhouette_=True, si_metric='euclidean', pcr_=True, cell_cycle_=False, organism='human', hvg_score_=hvg, isolated_labels_=True, isolated_labels_f1_=False, isolated_labels_asw_=True, n_isolated=True, graph_conn_=graph_connect, trajectory_=False, kBET_=False, lisi_graph_=False, ilisi_=ilisi, clisi_=clisi, subsample=0.5, n_cores=1, type_=None, verbose=False)\n",
    "    return out\n",
    "\n",
    "def metric_res(dflist,data_namelist):\n",
    "    gmetrics=pd.concat(dflist,axis='columns')\n",
    "    gmetrics=gmetrics.set_axis(data_namelist,axis='columns')\n",
    "\n",
    "    bio=gmetrics.loc[['NMI_cluster/label','ARI_cluster/label','ASW_label','cell_cycle_conservation','isolated_label_F1','isolated_label_silhouette','hvg_overlap','trajectory'],:,]\n",
    "    bio=bio.T\n",
    "    bio=bio.drop(columns=['hvg_overlap','trajectory','cell_cycle_conservation'])\n",
    "    #bio mean \n",
    "    bio['bio']=bio.mean(axis=1)\n",
    "    bio=bio.style.background_gradient(cmap = 'Blues')\n",
    "    return bio,bio_style\n",
    "\n",
    "\n",
    "def plot_dx(dx_lsi,dx_scb,save_pth):\n",
    "\n",
    "    fig,ax=plt.subplots(1,2,figsize=(20,6),gridspec_kw={'wspace':0.9})\n",
    "    sub=sns.lineplot(x='n_meta',y='consistency',data=dx_lsi,ax=ax[0],label='baseline').axhline(y=0.05,c='darkred',ls='--')\n",
    "    ax[0].set_title('baseline consistency score')\n",
    "    ax[0].get_legend().remove()\n",
    "    sns.lineplot(x='n_meta',y='consistency',data=dx_scb,ax=ax[1],label='scglue with scbasset embedding(input)').axhline(y=0.05,c='darkred',ls='--')\n",
    "    ax[1].set_title('scglue3_scbasset consistency score')\n",
    "    ax[1].get_legend().remove()\n",
    "\n",
    "    plt.savefig(save_pth)\n",
    "    \n",
    "def plot_dx_together(dx_lsi,dx_scb,save_pth):\n",
    "    dx_list=[]\n",
    "    dx_list.append(dx_lsi.T)\n",
    "    dx_list.append(dx_scb.T)\n",
    "    dx_metrics = pd.concat(dx_list,axis='rows')\n",
    "    dx_metrics = dx_metrics.T\n",
    "    dx_metrics = dx_metrics.iloc[:,[0,1,3]]\n",
    "    dx_metrics = dx_metrics.set_axis(['n_meta cells','baseline consistency','scglue3_scbasset consistency'],axis='columns')\n",
    "    dx_metrics = dx_metrics.set_index('n_meta cells')\n",
    "    ax=dx_metrics.plot(figsize=(8,6))\n",
    "    ax.set_ylabel('consistency')\n",
    "    ax.set_xlabel('n-meta cells')\n",
    "    plt.title('scglue consistency score metrics')\n",
    "    plt.savefig(save_pth)"
   ]
  },
  {
   "cell_type": "code",
   "execution_count": 8,
   "id": "4fb56931-483e-4879-ae97-6b62bc7322d6",
   "metadata": {
    "tags": []
   },
   "outputs": [],
   "source": [
    "os.makedirs(path+'hvfguidance',exist_ok=True)"
   ]
  },
  {
   "cell_type": "code",
   "execution_count": 9,
   "id": "d1076fab-a09a-4020-a693-58aab7b07d92",
   "metadata": {
    "tags": []
   },
   "outputs": [
    {
     "name": "stdout",
     "output_type": "stream",
     "text": [
      "[INFO] fit_SCGLUE: Pretraining SCGLUE model...\n",
      "[INFO] autodevice: Using GPU 0 as computation device.\n",
      "[INFO] check_graph: Checking variable coverage...\n",
      "[INFO] check_graph: Checking edge attributes...\n",
      "[INFO] check_graph: Checking self-loops...\n",
      "[INFO] check_graph: Checking graph symmetry...\n",
      "[INFO] SCGLUEModel: Setting `graph_batch_size` = 49939\n",
      "[INFO] SCGLUEModel: Setting `max_epochs` = 427\n",
      "[INFO] SCGLUEModel: Setting `patience` = 36\n",
      "[INFO] SCGLUEModel: Setting `reduce_lr_patience` = 18\n",
      "[INFO] SCGLUETrainer: Using training directory: \"glue/pretrain\"\n",
      "[INFO] SCGLUETrainer: [Epoch 10] train={'g_nll': 0.444, 'g_kl': 0.001, 'g_elbo': 0.445, 'x_rna_nll': 0.115, 'x_rna_kl': 0.002, 'x_rna_elbo': 0.117, 'x_atac_nll': 0.055, 'x_atac_kl': 0.001, 'x_atac_elbo': 0.056, 'dsc_loss': 0.692, 'vae_loss': 0.191, 'gen_loss': 0.156}, val={'g_nll': 0.44, 'g_kl': 0.002, 'g_elbo': 0.442, 'x_rna_nll': 0.116, 'x_rna_kl': 0.002, 'x_rna_elbo': 0.118, 'x_atac_nll': 0.058, 'x_atac_kl': 0.001, 'x_atac_elbo': 0.058, 'dsc_loss': 0.693, 'vae_loss': 0.194, 'gen_loss': 0.16}, 3.4s elapsed\n",
      "[INFO] SCGLUETrainer: [Epoch 20] train={'g_nll': 0.42, 'g_kl': 0.002, 'g_elbo': 0.423, 'x_rna_nll': 0.112, 'x_rna_kl': 0.001, 'x_rna_elbo': 0.113, 'x_atac_nll': 0.055, 'x_atac_kl': 0.001, 'x_atac_elbo': 0.055, 'dsc_loss': 0.692, 'vae_loss': 0.186, 'gen_loss': 0.151}, val={'g_nll': 0.419, 'g_kl': 0.002, 'g_elbo': 0.421, 'x_rna_nll': 0.116, 'x_rna_kl': 0.001, 'x_rna_elbo': 0.117, 'x_atac_nll': 0.057, 'x_atac_kl': 0.001, 'x_atac_elbo': 0.058, 'dsc_loss': 0.694, 'vae_loss': 0.192, 'gen_loss': 0.157}, 3.1s elapsed\n",
      "[INFO] SCGLUETrainer: [Epoch 30] train={'g_nll': 0.411, 'g_kl': 0.003, 'g_elbo': 0.414, 'x_rna_nll': 0.111, 'x_rna_kl': 0.001, 'x_rna_elbo': 0.112, 'x_atac_nll': 0.054, 'x_atac_kl': 0.001, 'x_atac_elbo': 0.055, 'dsc_loss': 0.692, 'vae_loss': 0.184, 'gen_loss': 0.149}, val={'g_nll': 0.41, 'g_kl': 0.003, 'g_elbo': 0.413, 'x_rna_nll': 0.115, 'x_rna_kl': 0.001, 'x_rna_elbo': 0.116, 'x_atac_nll': 0.057, 'x_atac_kl': 0.001, 'x_atac_elbo': 0.058, 'dsc_loss': 0.694, 'vae_loss': 0.191, 'gen_loss': 0.156}, 3.5s elapsed\n",
      "[INFO] SCGLUETrainer: [Epoch 40] train={'g_nll': 0.407, 'g_kl': 0.003, 'g_elbo': 0.41, 'x_rna_nll': 0.11, 'x_rna_kl': 0.001, 'x_rna_elbo': 0.112, 'x_atac_nll': 0.054, 'x_atac_kl': 0.001, 'x_atac_elbo': 0.055, 'dsc_loss': 0.692, 'vae_loss': 0.183, 'gen_loss': 0.148}, val={'g_nll': 0.405, 'g_kl': 0.003, 'g_elbo': 0.408, 'x_rna_nll': 0.114, 'x_rna_kl': 0.001, 'x_rna_elbo': 0.115, 'x_atac_nll': 0.055, 'x_atac_kl': 0.001, 'x_atac_elbo': 0.055, 'dsc_loss': 0.694, 'vae_loss': 0.187, 'gen_loss': 0.152}, 3.4s elapsed\n",
      "[INFO] SCGLUETrainer: [Epoch 50] train={'g_nll': 0.404, 'g_kl': 0.003, 'g_elbo': 0.407, 'x_rna_nll': 0.109, 'x_rna_kl': 0.001, 'x_rna_elbo': 0.11, 'x_atac_nll': 0.054, 'x_atac_kl': 0.001, 'x_atac_elbo': 0.055, 'dsc_loss': 0.692, 'vae_loss': 0.181, 'gen_loss': 0.147}, val={'g_nll': 0.403, 'g_kl': 0.003, 'g_elbo': 0.406, 'x_rna_nll': 0.114, 'x_rna_kl': 0.001, 'x_rna_elbo': 0.115, 'x_atac_nll': 0.056, 'x_atac_kl': 0.001, 'x_atac_elbo': 0.057, 'dsc_loss': 0.693, 'vae_loss': 0.188, 'gen_loss': 0.153}, 3.4s elapsed\n",
      "[INFO] SCGLUETrainer: [Epoch 60] train={'g_nll': 0.402, 'g_kl': 0.003, 'g_elbo': 0.405, 'x_rna_nll': 0.109, 'x_rna_kl': 0.001, 'x_rna_elbo': 0.111, 'x_atac_nll': 0.054, 'x_atac_kl': 0.001, 'x_atac_elbo': 0.054, 'dsc_loss': 0.693, 'vae_loss': 0.181, 'gen_loss': 0.147}, val={'g_nll': 0.401, 'g_kl': 0.003, 'g_elbo': 0.404, 'x_rna_nll': 0.115, 'x_rna_kl': 0.001, 'x_rna_elbo': 0.116, 'x_atac_nll': 0.058, 'x_atac_kl': 0.001, 'x_atac_elbo': 0.059, 'dsc_loss': 0.694, 'vae_loss': 0.191, 'gen_loss': 0.157}, 3.2s elapsed\n",
      "Epoch 00062: reducing learning rate of group 0 to 2.0000e-04.\n",
      "Epoch 00062: reducing learning rate of group 0 to 2.0000e-04.\n",
      "[INFO] LRScheduler: Learning rate reduction: step 1\n",
      "[INFO] SCGLUETrainer: [Epoch 70] train={'g_nll': 0.4, 'g_kl': 0.003, 'g_elbo': 0.403, 'x_rna_nll': 0.109, 'x_rna_kl': 0.001, 'x_rna_elbo': 0.11, 'x_atac_nll': 0.053, 'x_atac_kl': 0.001, 'x_atac_elbo': 0.054, 'dsc_loss': 0.693, 'vae_loss': 0.18, 'gen_loss': 0.146}, val={'g_nll': 0.401, 'g_kl': 0.003, 'g_elbo': 0.404, 'x_rna_nll': 0.113, 'x_rna_kl': 0.001, 'x_rna_elbo': 0.115, 'x_atac_nll': 0.057, 'x_atac_kl': 0.001, 'x_atac_elbo': 0.058, 'dsc_loss': 0.692, 'vae_loss': 0.189, 'gen_loss': 0.154}, 3.1s elapsed\n",
      "[INFO] SCGLUETrainer: [Epoch 80] train={'g_nll': 0.401, 'g_kl': 0.003, 'g_elbo': 0.404, 'x_rna_nll': 0.109, 'x_rna_kl': 0.001, 'x_rna_elbo': 0.11, 'x_atac_nll': 0.053, 'x_atac_kl': 0.001, 'x_atac_elbo': 0.054, 'dsc_loss': 0.693, 'vae_loss': 0.181, 'gen_loss': 0.146}, val={'g_nll': 0.4, 'g_kl': 0.003, 'g_elbo': 0.403, 'x_rna_nll': 0.114, 'x_rna_kl': 0.001, 'x_rna_elbo': 0.115, 'x_atac_nll': 0.057, 'x_atac_kl': 0.001, 'x_atac_elbo': 0.057, 'dsc_loss': 0.692, 'vae_loss': 0.189, 'gen_loss': 0.154}, 3.7s elapsed\n",
      "Epoch 00081: reducing learning rate of group 0 to 2.0000e-05.\n",
      "Epoch 00081: reducing learning rate of group 0 to 2.0000e-05.\n",
      "[INFO] LRScheduler: Learning rate reduction: step 2\n",
      "[INFO] SCGLUETrainer: [Epoch 90] train={'g_nll': 0.4, 'g_kl': 0.003, 'g_elbo': 0.403, 'x_rna_nll': 0.108, 'x_rna_kl': 0.001, 'x_rna_elbo': 0.11, 'x_atac_nll': 0.053, 'x_atac_kl': 0.001, 'x_atac_elbo': 0.054, 'dsc_loss': 0.693, 'vae_loss': 0.18, 'gen_loss': 0.145}, val={'g_nll': 0.4, 'g_kl': 0.003, 'g_elbo': 0.403, 'x_rna_nll': 0.113, 'x_rna_kl': 0.001, 'x_rna_elbo': 0.114, 'x_atac_nll': 0.057, 'x_atac_kl': 0.001, 'x_atac_elbo': 0.058, 'dsc_loss': 0.692, 'vae_loss': 0.188, 'gen_loss': 0.154}, 3.8s elapsed\n",
      "[INFO] SCGLUETrainer: [Epoch 100] train={'g_nll': 0.4, 'g_kl': 0.003, 'g_elbo': 0.403, 'x_rna_nll': 0.109, 'x_rna_kl': 0.001, 'x_rna_elbo': 0.11, 'x_atac_nll': 0.053, 'x_atac_kl': 0.001, 'x_atac_elbo': 0.054, 'dsc_loss': 0.693, 'vae_loss': 0.18, 'gen_loss': 0.146}, val={'g_nll': 0.401, 'g_kl': 0.003, 'g_elbo': 0.404, 'x_rna_nll': 0.113, 'x_rna_kl': 0.001, 'x_rna_elbo': 0.115, 'x_atac_nll': 0.057, 'x_atac_kl': 0.001, 'x_atac_elbo': 0.058, 'dsc_loss': 0.692, 'vae_loss': 0.188, 'gen_loss': 0.154}, 3.8s elapsed\n",
      "Epoch 00100: reducing learning rate of group 0 to 2.0000e-06.\n",
      "Epoch 00100: reducing learning rate of group 0 to 2.0000e-06.\n",
      "[INFO] LRScheduler: Learning rate reduction: step 3\n",
      "[INFO] SCGLUETrainer: [Epoch 110] train={'g_nll': 0.4, 'g_kl': 0.003, 'g_elbo': 0.403, 'x_rna_nll': 0.109, 'x_rna_kl': 0.001, 'x_rna_elbo': 0.111, 'x_atac_nll': 0.053, 'x_atac_kl': 0.001, 'x_atac_elbo': 0.054, 'dsc_loss': 0.693, 'vae_loss': 0.181, 'gen_loss': 0.146}, val={'g_nll': 0.4, 'g_kl': 0.003, 'g_elbo': 0.403, 'x_rna_nll': 0.115, 'x_rna_kl': 0.001, 'x_rna_elbo': 0.117, 'x_atac_nll': 0.056, 'x_atac_kl': 0.001, 'x_atac_elbo': 0.057, 'dsc_loss': 0.692, 'vae_loss': 0.19, 'gen_loss': 0.155}, 3.8s elapsed\n",
      "Epoch 00119: reducing learning rate of group 0 to 2.0000e-07.\n",
      "Epoch 00119: reducing learning rate of group 0 to 2.0000e-07.\n",
      "[INFO] LRScheduler: Learning rate reduction: step 4\n",
      "[INFO] SCGLUETrainer: [Epoch 120] train={'g_nll': 0.4, 'g_kl': 0.003, 'g_elbo': 0.403, 'x_rna_nll': 0.109, 'x_rna_kl': 0.001, 'x_rna_elbo': 0.111, 'x_atac_nll': 0.053, 'x_atac_kl': 0.001, 'x_atac_elbo': 0.054, 'dsc_loss': 0.693, 'vae_loss': 0.181, 'gen_loss': 0.146}, val={'g_nll': 0.401, 'g_kl': 0.003, 'g_elbo': 0.404, 'x_rna_nll': 0.114, 'x_rna_kl': 0.001, 'x_rna_elbo': 0.115, 'x_atac_nll': 0.056, 'x_atac_kl': 0.001, 'x_atac_elbo': 0.057, 'dsc_loss': 0.691, 'vae_loss': 0.189, 'gen_loss': 0.154}, 3.8s elapsed\n"
     ]
    },
    {
     "name": "stderr",
     "output_type": "stream",
     "text": [
      "2024-02-01 20:02:33,988 ignite.handlers.early_stopping.EarlyStopping INFO: EarlyStopping: Stop training\n"
     ]
    },
    {
     "name": "stdout",
     "output_type": "stream",
     "text": [
      "[INFO] EarlyStopping: Restoring checkpoint \"98\"...\n",
      "[INFO] EarlyStopping: Restoring checkpoint \"98\"...\n",
      "[INFO] fit_SCGLUE: Estimating balancing weight...\n",
      "[INFO] estimate_balancing_weight: Clustering cells...\n",
      "[INFO] estimate_balancing_weight: Matching clusters...\n",
      "[INFO] estimate_balancing_weight: Matching array shape = (16, 11)...\n",
      "[INFO] estimate_balancing_weight: Estimating balancing weight...\n",
      "[INFO] fit_SCGLUE: Fine-tuning SCGLUE model...\n",
      "[INFO] check_graph: Checking variable coverage...\n",
      "[INFO] check_graph: Checking edge attributes...\n",
      "[INFO] check_graph: Checking self-loops...\n",
      "[INFO] check_graph: Checking graph symmetry...\n",
      "[INFO] SCGLUEModel: Setting `graph_batch_size` = 49939\n",
      "[INFO] SCGLUEModel: Setting `align_burnin` = 72\n",
      "[INFO] SCGLUEModel: Setting `max_epochs` = 427\n",
      "[INFO] SCGLUEModel: Setting `patience` = 36\n",
      "[INFO] SCGLUEModel: Setting `reduce_lr_patience` = 18\n",
      "[INFO] SCGLUETrainer: Using training directory: \"glue/fine-tune\"\n",
      "[INFO] SCGLUETrainer: [Epoch 10] train={'g_nll': 0.4, 'g_kl': 0.003, 'g_elbo': 0.403, 'x_rna_nll': 0.11, 'x_rna_kl': 0.001, 'x_rna_elbo': 0.111, 'x_atac_nll': 0.053, 'x_atac_kl': 0.001, 'x_atac_elbo': 0.054, 'dsc_loss': 0.693, 'vae_loss': 0.181, 'gen_loss': 0.147}, val={'g_nll': 0.401, 'g_kl': 0.003, 'g_elbo': 0.404, 'x_rna_nll': 0.11, 'x_rna_kl': 0.001, 'x_rna_elbo': 0.111, 'x_atac_nll': 0.055, 'x_atac_kl': 0.001, 'x_atac_elbo': 0.056, 'dsc_loss': 0.703, 'vae_loss': 0.184, 'gen_loss': 0.149}, 3.4s elapsed\n",
      "[INFO] SCGLUETrainer: [Epoch 20] train={'g_nll': 0.399, 'g_kl': 0.003, 'g_elbo': 0.402, 'x_rna_nll': 0.109, 'x_rna_kl': 0.001, 'x_rna_elbo': 0.11, 'x_atac_nll': 0.053, 'x_atac_kl': 0.001, 'x_atac_elbo': 0.054, 'dsc_loss': 0.694, 'vae_loss': 0.18, 'gen_loss': 0.146}, val={'g_nll': 0.399, 'g_kl': 0.003, 'g_elbo': 0.402, 'x_rna_nll': 0.111, 'x_rna_kl': 0.001, 'x_rna_elbo': 0.112, 'x_atac_nll': 0.056, 'x_atac_kl': 0.001, 'x_atac_elbo': 0.057, 'dsc_loss': 0.711, 'vae_loss': 0.185, 'gen_loss': 0.15}, 3.4s elapsed\n",
      "[INFO] SCGLUETrainer: [Epoch 30] train={'g_nll': 0.397, 'g_kl': 0.003, 'g_elbo': 0.4, 'x_rna_nll': 0.109, 'x_rna_kl': 0.001, 'x_rna_elbo': 0.111, 'x_atac_nll': 0.053, 'x_atac_kl': 0.001, 'x_atac_elbo': 0.054, 'dsc_loss': 0.694, 'vae_loss': 0.18, 'gen_loss': 0.146}, val={'g_nll': 0.397, 'g_kl': 0.003, 'g_elbo': 0.4, 'x_rna_nll': 0.111, 'x_rna_kl': 0.001, 'x_rna_elbo': 0.113, 'x_atac_nll': 0.056, 'x_atac_kl': 0.001, 'x_atac_elbo': 0.057, 'dsc_loss': 0.691, 'vae_loss': 0.185, 'gen_loss': 0.151}, 3.4s elapsed\n",
      "[INFO] SCGLUETrainer: [Epoch 40] train={'g_nll': 0.393, 'g_kl': 0.003, 'g_elbo': 0.396, 'x_rna_nll': 0.109, 'x_rna_kl': 0.001, 'x_rna_elbo': 0.11, 'x_atac_nll': 0.053, 'x_atac_kl': 0.001, 'x_atac_elbo': 0.054, 'dsc_loss': 0.687, 'vae_loss': 0.18, 'gen_loss': 0.146}, val={'g_nll': 0.392, 'g_kl': 0.003, 'g_elbo': 0.396, 'x_rna_nll': 0.112, 'x_rna_kl': 0.001, 'x_rna_elbo': 0.113, 'x_atac_nll': 0.055, 'x_atac_kl': 0.001, 'x_atac_elbo': 0.056, 'dsc_loss': 0.717, 'vae_loss': 0.184, 'gen_loss': 0.149}, 3.4s elapsed\n",
      "[INFO] SCGLUETrainer: [Epoch 50] train={'g_nll': 0.391, 'g_kl': 0.003, 'g_elbo': 0.394, 'x_rna_nll': 0.108, 'x_rna_kl': 0.001, 'x_rna_elbo': 0.11, 'x_atac_nll': 0.053, 'x_atac_kl': 0.001, 'x_atac_elbo': 0.054, 'dsc_loss': 0.695, 'vae_loss': 0.179, 'gen_loss': 0.145}, val={'g_nll': 0.39, 'g_kl': 0.003, 'g_elbo': 0.393, 'x_rna_nll': 0.111, 'x_rna_kl': 0.001, 'x_rna_elbo': 0.112, 'x_atac_nll': 0.055, 'x_atac_kl': 0.001, 'x_atac_elbo': 0.056, 'dsc_loss': 0.689, 'vae_loss': 0.184, 'gen_loss': 0.15}, 3.4s elapsed\n",
      "[INFO] SCGLUETrainer: [Epoch 60] train={'g_nll': 0.388, 'g_kl': 0.003, 'g_elbo': 0.391, 'x_rna_nll': 0.109, 'x_rna_kl': 0.001, 'x_rna_elbo': 0.11, 'x_atac_nll': 0.053, 'x_atac_kl': 0.001, 'x_atac_elbo': 0.054, 'dsc_loss': 0.692, 'vae_loss': 0.18, 'gen_loss': 0.145}, val={'g_nll': 0.388, 'g_kl': 0.003, 'g_elbo': 0.391, 'x_rna_nll': 0.112, 'x_rna_kl': 0.001, 'x_rna_elbo': 0.113, 'x_atac_nll': 0.057, 'x_atac_kl': 0.001, 'x_atac_elbo': 0.058, 'dsc_loss': 0.704, 'vae_loss': 0.187, 'gen_loss': 0.152}, 3.4s elapsed\n",
      "[INFO] SCGLUETrainer: [Epoch 70] train={'g_nll': 0.387, 'g_kl': 0.003, 'g_elbo': 0.39, 'x_rna_nll': 0.108, 'x_rna_kl': 0.001, 'x_rna_elbo': 0.11, 'x_atac_nll': 0.053, 'x_atac_kl': 0.001, 'x_atac_elbo': 0.054, 'dsc_loss': 0.684, 'vae_loss': 0.179, 'gen_loss': 0.145}, val={'g_nll': 0.388, 'g_kl': 0.003, 'g_elbo': 0.391, 'x_rna_nll': 0.112, 'x_rna_kl': 0.001, 'x_rna_elbo': 0.113, 'x_atac_nll': 0.056, 'x_atac_kl': 0.001, 'x_atac_elbo': 0.057, 'dsc_loss': 0.709, 'vae_loss': 0.186, 'gen_loss': 0.15}, 3.4s elapsed\n",
      "[INFO] SCGLUETrainer: [Epoch 80] train={'g_nll': 0.386, 'g_kl': 0.003, 'g_elbo': 0.389, 'x_rna_nll': 0.108, 'x_rna_kl': 0.001, 'x_rna_elbo': 0.11, 'x_atac_nll': 0.053, 'x_atac_kl': 0.001, 'x_atac_elbo': 0.054, 'dsc_loss': 0.687, 'vae_loss': 0.179, 'gen_loss': 0.145}, val={'g_nll': 0.385, 'g_kl': 0.003, 'g_elbo': 0.388, 'x_rna_nll': 0.111, 'x_rna_kl': 0.001, 'x_rna_elbo': 0.112, 'x_atac_nll': 0.057, 'x_atac_kl': 0.001, 'x_atac_elbo': 0.058, 'dsc_loss': 0.703, 'vae_loss': 0.186, 'gen_loss': 0.15}, 3.3s elapsed\n",
      "[INFO] SCGLUETrainer: [Epoch 90] train={'g_nll': 0.385, 'g_kl': 0.003, 'g_elbo': 0.388, 'x_rna_nll': 0.109, 'x_rna_kl': 0.001, 'x_rna_elbo': 0.11, 'x_atac_nll': 0.052, 'x_atac_kl': 0.001, 'x_atac_elbo': 0.053, 'dsc_loss': 0.685, 'vae_loss': 0.179, 'gen_loss': 0.144}, val={'g_nll': 0.384, 'g_kl': 0.003, 'g_elbo': 0.388, 'x_rna_nll': 0.111, 'x_rna_kl': 0.001, 'x_rna_elbo': 0.112, 'x_atac_nll': 0.057, 'x_atac_kl': 0.001, 'x_atac_elbo': 0.057, 'dsc_loss': 0.71, 'vae_loss': 0.185, 'gen_loss': 0.149}, 3.4s elapsed\n",
      "[INFO] SCGLUETrainer: [Epoch 100] train={'g_nll': 0.383, 'g_kl': 0.003, 'g_elbo': 0.387, 'x_rna_nll': 0.108, 'x_rna_kl': 0.001, 'x_rna_elbo': 0.11, 'x_atac_nll': 0.053, 'x_atac_kl': 0.001, 'x_atac_elbo': 0.053, 'dsc_loss': 0.687, 'vae_loss': 0.179, 'gen_loss': 0.144}, val={'g_nll': 0.384, 'g_kl': 0.003, 'g_elbo': 0.387, 'x_rna_nll': 0.113, 'x_rna_kl': 0.001, 'x_rna_elbo': 0.114, 'x_atac_nll': 0.057, 'x_atac_kl': 0.001, 'x_atac_elbo': 0.058, 'dsc_loss': 0.705, 'vae_loss': 0.187, 'gen_loss': 0.152}, 3.3s elapsed\n",
      "[INFO] SCGLUETrainer: [Epoch 110] train={'g_nll': 0.383, 'g_kl': 0.003, 'g_elbo': 0.386, 'x_rna_nll': 0.108, 'x_rna_kl': 0.001, 'x_rna_elbo': 0.109, 'x_atac_nll': 0.052, 'x_atac_kl': 0.001, 'x_atac_elbo': 0.053, 'dsc_loss': 0.691, 'vae_loss': 0.178, 'gen_loss': 0.143}, val={'g_nll': 0.383, 'g_kl': 0.003, 'g_elbo': 0.386, 'x_rna_nll': 0.113, 'x_rna_kl': 0.001, 'x_rna_elbo': 0.114, 'x_atac_nll': 0.055, 'x_atac_kl': 0.001, 'x_atac_elbo': 0.056, 'dsc_loss': 0.694, 'vae_loss': 0.186, 'gen_loss': 0.151}, 3.4s elapsed\n",
      "Epoch 00114: reducing learning rate of group 0 to 2.0000e-04.\n",
      "Epoch 00114: reducing learning rate of group 0 to 2.0000e-04.\n",
      "[INFO] LRScheduler: Learning rate reduction: step 1\n",
      "[INFO] SCGLUETrainer: [Epoch 120] train={'g_nll': 0.379, 'g_kl': 0.003, 'g_elbo': 0.382, 'x_rna_nll': 0.108, 'x_rna_kl': 0.001, 'x_rna_elbo': 0.109, 'x_atac_nll': 0.053, 'x_atac_kl': 0.001, 'x_atac_elbo': 0.054, 'dsc_loss': 0.689, 'vae_loss': 0.178, 'gen_loss': 0.144}, val={'g_nll': 0.379, 'g_kl': 0.003, 'g_elbo': 0.382, 'x_rna_nll': 0.115, 'x_rna_kl': 0.001, 'x_rna_elbo': 0.116, 'x_atac_nll': 0.056, 'x_atac_kl': 0.001, 'x_atac_elbo': 0.057, 'dsc_loss': 0.69, 'vae_loss': 0.188, 'gen_loss': 0.154}, 3.4s elapsed\n",
      "[INFO] SCGLUETrainer: [Epoch 130] train={'g_nll': 0.377, 'g_kl': 0.003, 'g_elbo': 0.38, 'x_rna_nll': 0.108, 'x_rna_kl': 0.001, 'x_rna_elbo': 0.11, 'x_atac_nll': 0.053, 'x_atac_kl': 0.001, 'x_atac_elbo': 0.054, 'dsc_loss': 0.692, 'vae_loss': 0.178, 'gen_loss': 0.144}, val={'g_nll': 0.376, 'g_kl': 0.003, 'g_elbo': 0.379, 'x_rna_nll': 0.113, 'x_rna_kl': 0.001, 'x_rna_elbo': 0.115, 'x_atac_nll': 0.056, 'x_atac_kl': 0.001, 'x_atac_elbo': 0.056, 'dsc_loss': 0.697, 'vae_loss': 0.186, 'gen_loss': 0.151}, 3.5s elapsed\n",
      "Epoch 00133: reducing learning rate of group 0 to 2.0000e-05.\n",
      "Epoch 00133: reducing learning rate of group 0 to 2.0000e-05.\n",
      "[INFO] LRScheduler: Learning rate reduction: step 2\n",
      "[INFO] SCGLUETrainer: [Epoch 140] train={'g_nll': 0.377, 'g_kl': 0.003, 'g_elbo': 0.38, 'x_rna_nll': 0.108, 'x_rna_kl': 0.001, 'x_rna_elbo': 0.109, 'x_atac_nll': 0.052, 'x_atac_kl': 0.001, 'x_atac_elbo': 0.053, 'dsc_loss': 0.688, 'vae_loss': 0.178, 'gen_loss': 0.143}, val={'g_nll': 0.377, 'g_kl': 0.003, 'g_elbo': 0.38, 'x_rna_nll': 0.112, 'x_rna_kl': 0.001, 'x_rna_elbo': 0.113, 'x_atac_nll': 0.057, 'x_atac_kl': 0.001, 'x_atac_elbo': 0.058, 'dsc_loss': 0.688, 'vae_loss': 0.186, 'gen_loss': 0.151}, 3.4s elapsed\n",
      "[INFO] SCGLUETrainer: [Epoch 150] train={'g_nll': 0.377, 'g_kl': 0.003, 'g_elbo': 0.38, 'x_rna_nll': 0.108, 'x_rna_kl': 0.001, 'x_rna_elbo': 0.11, 'x_atac_nll': 0.053, 'x_atac_kl': 0.001, 'x_atac_elbo': 0.054, 'dsc_loss': 0.688, 'vae_loss': 0.178, 'gen_loss': 0.144}, val={'g_nll': 0.377, 'g_kl': 0.003, 'g_elbo': 0.38, 'x_rna_nll': 0.113, 'x_rna_kl': 0.001, 'x_rna_elbo': 0.114, 'x_atac_nll': 0.057, 'x_atac_kl': 0.001, 'x_atac_elbo': 0.058, 'dsc_loss': 0.694, 'vae_loss': 0.187, 'gen_loss': 0.153}, 3.4s elapsed\n",
      "Epoch 00152: reducing learning rate of group 0 to 2.0000e-06.\n",
      "Epoch 00152: reducing learning rate of group 0 to 2.0000e-06.\n",
      "[INFO] LRScheduler: Learning rate reduction: step 3\n"
     ]
    },
    {
     "name": "stderr",
     "output_type": "stream",
     "text": [
      "2024-02-01 20:12:23,412 ignite.handlers.early_stopping.EarlyStopping INFO: EarlyStopping: Stop training\n"
     ]
    },
    {
     "name": "stdout",
     "output_type": "stream",
     "text": [
      "[INFO] EarlyStopping: Restoring checkpoint \"132\"...\n",
      "[INFO] EarlyStopping: Restoring checkpoint \"132\"...\n"
     ]
    },
    {
     "name": "stderr",
     "output_type": "stream",
     "text": [
      "[WARNING] configure_dataset: `configure_dataset` has already been called. Previous configuration will be overwritten!\n",
      "[WARNING] configure_dataset: `configure_dataset` has already been called. Previous configuration will be overwritten!\n"
     ]
    },
    {
     "name": "stdout",
     "output_type": "stream",
     "text": [
      "[INFO] fit_SCGLUE: Pretraining SCGLUE model...\n",
      "[INFO] check_graph: Checking variable coverage...\n",
      "[INFO] check_graph: Checking edge attributes...\n",
      "[INFO] check_graph: Checking self-loops...\n",
      "[INFO] check_graph: Checking graph symmetry...\n",
      "[INFO] SCGLUEModel: Setting `graph_batch_size` = 49939\n",
      "[INFO] SCGLUEModel: Setting `max_epochs` = 427\n",
      "[INFO] SCGLUEModel: Setting `patience` = 36\n",
      "[INFO] SCGLUEModel: Setting `reduce_lr_patience` = 18\n",
      "[INFO] SCGLUETrainer: Using training directory: \"glue/pretrain\"\n",
      "[INFO] SCGLUETrainer: [Epoch 10] train={'g_nll': 0.444, 'g_kl': 0.002, 'g_elbo': 0.445, 'x_rna_nll': 0.115, 'x_rna_kl': 0.002, 'x_rna_elbo': 0.117, 'x_atac_nll': 0.055, 'x_atac_kl': 0.001, 'x_atac_elbo': 0.056, 'dsc_loss': 0.692, 'vae_loss': 0.191, 'gen_loss': 0.156}, val={'g_nll': 0.441, 'g_kl': 0.002, 'g_elbo': 0.442, 'x_rna_nll': 0.117, 'x_rna_kl': 0.002, 'x_rna_elbo': 0.119, 'x_atac_nll': 0.058, 'x_atac_kl': 0.001, 'x_atac_elbo': 0.059, 'dsc_loss': 0.695, 'vae_loss': 0.195, 'gen_loss': 0.16}, 3.2s elapsed\n",
      "[INFO] SCGLUETrainer: [Epoch 20] train={'g_nll': 0.422, 'g_kl': 0.002, 'g_elbo': 0.424, 'x_rna_nll': 0.112, 'x_rna_kl': 0.001, 'x_rna_elbo': 0.113, 'x_atac_nll': 0.054, 'x_atac_kl': 0.001, 'x_atac_elbo': 0.055, 'dsc_loss': 0.692, 'vae_loss': 0.185, 'gen_loss': 0.151}, val={'g_nll': 0.42, 'g_kl': 0.003, 'g_elbo': 0.422, 'x_rna_nll': 0.116, 'x_rna_kl': 0.001, 'x_rna_elbo': 0.117, 'x_atac_nll': 0.057, 'x_atac_kl': 0.001, 'x_atac_elbo': 0.058, 'dsc_loss': 0.693, 'vae_loss': 0.192, 'gen_loss': 0.157}, 3.2s elapsed\n",
      "[INFO] SCGLUETrainer: [Epoch 30] train={'g_nll': 0.414, 'g_kl': 0.003, 'g_elbo': 0.417, 'x_rna_nll': 0.111, 'x_rna_kl': 0.001, 'x_rna_elbo': 0.112, 'x_atac_nll': 0.054, 'x_atac_kl': 0.001, 'x_atac_elbo': 0.055, 'dsc_loss': 0.692, 'vae_loss': 0.183, 'gen_loss': 0.149}, val={'g_nll': 0.413, 'g_kl': 0.003, 'g_elbo': 0.415, 'x_rna_nll': 0.115, 'x_rna_kl': 0.001, 'x_rna_elbo': 0.116, 'x_atac_nll': 0.057, 'x_atac_kl': 0.001, 'x_atac_elbo': 0.058, 'dsc_loss': 0.694, 'vae_loss': 0.19, 'gen_loss': 0.156}, 3.1s elapsed\n",
      "[INFO] SCGLUETrainer: [Epoch 40] train={'g_nll': 0.409, 'g_kl': 0.003, 'g_elbo': 0.412, 'x_rna_nll': 0.11, 'x_rna_kl': 0.001, 'x_rna_elbo': 0.112, 'x_atac_nll': 0.054, 'x_atac_kl': 0.001, 'x_atac_elbo': 0.055, 'dsc_loss': 0.692, 'vae_loss': 0.183, 'gen_loss': 0.148}, val={'g_nll': 0.408, 'g_kl': 0.003, 'g_elbo': 0.411, 'x_rna_nll': 0.114, 'x_rna_kl': 0.001, 'x_rna_elbo': 0.115, 'x_atac_nll': 0.055, 'x_atac_kl': 0.001, 'x_atac_elbo': 0.055, 'dsc_loss': 0.696, 'vae_loss': 0.187, 'gen_loss': 0.152}, 3.2s elapsed\n",
      "[INFO] SCGLUETrainer: [Epoch 50] train={'g_nll': 0.407, 'g_kl': 0.003, 'g_elbo': 0.41, 'x_rna_nll': 0.109, 'x_rna_kl': 0.001, 'x_rna_elbo': 0.11, 'x_atac_nll': 0.053, 'x_atac_kl': 0.001, 'x_atac_elbo': 0.054, 'dsc_loss': 0.693, 'vae_loss': 0.181, 'gen_loss': 0.146}, val={'g_nll': 0.407, 'g_kl': 0.003, 'g_elbo': 0.41, 'x_rna_nll': 0.114, 'x_rna_kl': 0.001, 'x_rna_elbo': 0.115, 'x_atac_nll': 0.056, 'x_atac_kl': 0.001, 'x_atac_elbo': 0.056, 'dsc_loss': 0.693, 'vae_loss': 0.188, 'gen_loss': 0.153}, 3.2s elapsed\n",
      "[INFO] SCGLUETrainer: [Epoch 60] train={'g_nll': 0.406, 'g_kl': 0.003, 'g_elbo': 0.409, 'x_rna_nll': 0.109, 'x_rna_kl': 0.001, 'x_rna_elbo': 0.111, 'x_atac_nll': 0.053, 'x_atac_kl': 0.001, 'x_atac_elbo': 0.054, 'dsc_loss': 0.692, 'vae_loss': 0.181, 'gen_loss': 0.146}, val={'g_nll': 0.405, 'g_kl': 0.003, 'g_elbo': 0.408, 'x_rna_nll': 0.115, 'x_rna_kl': 0.001, 'x_rna_elbo': 0.116, 'x_atac_nll': 0.058, 'x_atac_kl': 0.001, 'x_atac_elbo': 0.059, 'dsc_loss': 0.694, 'vae_loss': 0.191, 'gen_loss': 0.156}, 3.1s elapsed\n",
      "Epoch 00062: reducing learning rate of group 0 to 2.0000e-04.\n",
      "Epoch 00062: reducing learning rate of group 0 to 2.0000e-04.\n",
      "[INFO] LRScheduler: Learning rate reduction: step 1\n",
      "[INFO] SCGLUETrainer: [Epoch 70] train={'g_nll': 0.405, 'g_kl': 0.003, 'g_elbo': 0.408, 'x_rna_nll': 0.109, 'x_rna_kl': 0.001, 'x_rna_elbo': 0.11, 'x_atac_nll': 0.053, 'x_atac_kl': 0.001, 'x_atac_elbo': 0.053, 'dsc_loss': 0.693, 'vae_loss': 0.18, 'gen_loss': 0.145}, val={'g_nll': 0.404, 'g_kl': 0.003, 'g_elbo': 0.407, 'x_rna_nll': 0.113, 'x_rna_kl': 0.001, 'x_rna_elbo': 0.115, 'x_atac_nll': 0.057, 'x_atac_kl': 0.001, 'x_atac_elbo': 0.058, 'dsc_loss': 0.693, 'vae_loss': 0.188, 'gen_loss': 0.154}, 3.2s elapsed\n",
      "[INFO] SCGLUETrainer: [Epoch 80] train={'g_nll': 0.405, 'g_kl': 0.003, 'g_elbo': 0.408, 'x_rna_nll': 0.109, 'x_rna_kl': 0.001, 'x_rna_elbo': 0.11, 'x_atac_nll': 0.053, 'x_atac_kl': 0.001, 'x_atac_elbo': 0.054, 'dsc_loss': 0.693, 'vae_loss': 0.18, 'gen_loss': 0.146}, val={'g_nll': 0.405, 'g_kl': 0.003, 'g_elbo': 0.408, 'x_rna_nll': 0.114, 'x_rna_kl': 0.001, 'x_rna_elbo': 0.115, 'x_atac_nll': 0.057, 'x_atac_kl': 0.001, 'x_atac_elbo': 0.057, 'dsc_loss': 0.692, 'vae_loss': 0.189, 'gen_loss': 0.154}, 3.1s elapsed\n",
      "Epoch 00081: reducing learning rate of group 0 to 2.0000e-05.\n",
      "Epoch 00081: reducing learning rate of group 0 to 2.0000e-05.\n",
      "[INFO] LRScheduler: Learning rate reduction: step 2\n",
      "[INFO] SCGLUETrainer: [Epoch 90] train={'g_nll': 0.405, 'g_kl': 0.003, 'g_elbo': 0.408, 'x_rna_nll': 0.109, 'x_rna_kl': 0.001, 'x_rna_elbo': 0.11, 'x_atac_nll': 0.053, 'x_atac_kl': 0.001, 'x_atac_elbo': 0.054, 'dsc_loss': 0.692, 'vae_loss': 0.18, 'gen_loss': 0.145}, val={'g_nll': 0.404, 'g_kl': 0.003, 'g_elbo': 0.407, 'x_rna_nll': 0.113, 'x_rna_kl': 0.001, 'x_rna_elbo': 0.114, 'x_atac_nll': 0.057, 'x_atac_kl': 0.001, 'x_atac_elbo': 0.058, 'dsc_loss': 0.692, 'vae_loss': 0.188, 'gen_loss': 0.154}, 3.1s elapsed\n",
      "[INFO] SCGLUETrainer: [Epoch 100] train={'g_nll': 0.405, 'g_kl': 0.003, 'g_elbo': 0.408, 'x_rna_nll': 0.109, 'x_rna_kl': 0.001, 'x_rna_elbo': 0.11, 'x_atac_nll': 0.053, 'x_atac_kl': 0.001, 'x_atac_elbo': 0.053, 'dsc_loss': 0.693, 'vae_loss': 0.18, 'gen_loss': 0.145}, val={'g_nll': 0.404, 'g_kl': 0.003, 'g_elbo': 0.407, 'x_rna_nll': 0.113, 'x_rna_kl': 0.001, 'x_rna_elbo': 0.115, 'x_atac_nll': 0.057, 'x_atac_kl': 0.001, 'x_atac_elbo': 0.057, 'dsc_loss': 0.692, 'vae_loss': 0.188, 'gen_loss': 0.154}, 3.1s elapsed\n",
      "Epoch 00105: reducing learning rate of group 0 to 2.0000e-06.\n",
      "Epoch 00105: reducing learning rate of group 0 to 2.0000e-06.\n",
      "[INFO] LRScheduler: Learning rate reduction: step 3\n",
      "[INFO] SCGLUETrainer: [Epoch 110] train={'g_nll': 0.405, 'g_kl': 0.003, 'g_elbo': 0.408, 'x_rna_nll': 0.109, 'x_rna_kl': 0.001, 'x_rna_elbo': 0.111, 'x_atac_nll': 0.053, 'x_atac_kl': 0.001, 'x_atac_elbo': 0.053, 'dsc_loss': 0.693, 'vae_loss': 0.18, 'gen_loss': 0.146}, val={'g_nll': 0.405, 'g_kl': 0.003, 'g_elbo': 0.408, 'x_rna_nll': 0.115, 'x_rna_kl': 0.001, 'x_rna_elbo': 0.117, 'x_atac_nll': 0.056, 'x_atac_kl': 0.001, 'x_atac_elbo': 0.057, 'dsc_loss': 0.692, 'vae_loss': 0.19, 'gen_loss': 0.155}, 3.2s elapsed\n",
      "[INFO] SCGLUETrainer: [Epoch 120] train={'g_nll': 0.405, 'g_kl': 0.003, 'g_elbo': 0.408, 'x_rna_nll': 0.109, 'x_rna_kl': 0.001, 'x_rna_elbo': 0.111, 'x_atac_nll': 0.053, 'x_atac_kl': 0.001, 'x_atac_elbo': 0.053, 'dsc_loss': 0.693, 'vae_loss': 0.18, 'gen_loss': 0.146}, val={'g_nll': 0.405, 'g_kl': 0.003, 'g_elbo': 0.408, 'x_rna_nll': 0.114, 'x_rna_kl': 0.001, 'x_rna_elbo': 0.115, 'x_atac_nll': 0.056, 'x_atac_kl': 0.001, 'x_atac_elbo': 0.057, 'dsc_loss': 0.692, 'vae_loss': 0.189, 'gen_loss': 0.154}, 3.2s elapsed\n"
     ]
    },
    {
     "name": "stderr",
     "output_type": "stream",
     "text": [
      "2024-02-01 20:19:19,305 ignite.handlers.early_stopping.EarlyStopping INFO: EarlyStopping: Stop training\n"
     ]
    },
    {
     "name": "stdout",
     "output_type": "stream",
     "text": [
      "[INFO] EarlyStopping: Restoring checkpoint \"98\"...\n",
      "[INFO] EarlyStopping: Restoring checkpoint \"98\"...\n",
      "[INFO] fit_SCGLUE: Estimating balancing weight...\n",
      "[INFO] estimate_balancing_weight: Clustering cells...\n",
      "[INFO] estimate_balancing_weight: Matching clusters...\n",
      "[INFO] estimate_balancing_weight: Matching array shape = (15, 10)...\n",
      "[INFO] estimate_balancing_weight: Estimating balancing weight...\n",
      "[INFO] fit_SCGLUE: Fine-tuning SCGLUE model...\n",
      "[INFO] check_graph: Checking variable coverage...\n",
      "[INFO] check_graph: Checking edge attributes...\n",
      "[INFO] check_graph: Checking self-loops...\n",
      "[INFO] check_graph: Checking graph symmetry...\n",
      "[INFO] SCGLUEModel: Setting `graph_batch_size` = 49939\n",
      "[INFO] SCGLUEModel: Setting `align_burnin` = 72\n",
      "[INFO] SCGLUEModel: Setting `max_epochs` = 427\n",
      "[INFO] SCGLUEModel: Setting `patience` = 36\n",
      "[INFO] SCGLUEModel: Setting `reduce_lr_patience` = 18\n",
      "[INFO] SCGLUETrainer: Using training directory: \"glue/fine-tune\"\n",
      "[INFO] SCGLUETrainer: [Epoch 10] train={'g_nll': 0.405, 'g_kl': 0.003, 'g_elbo': 0.408, 'x_rna_nll': 0.11, 'x_rna_kl': 0.001, 'x_rna_elbo': 0.111, 'x_atac_nll': 0.053, 'x_atac_kl': 0.001, 'x_atac_elbo': 0.054, 'dsc_loss': 0.695, 'vae_loss': 0.181, 'gen_loss': 0.146}, val={'g_nll': 0.405, 'g_kl': 0.003, 'g_elbo': 0.408, 'x_rna_nll': 0.11, 'x_rna_kl': 0.001, 'x_rna_elbo': 0.111, 'x_atac_nll': 0.055, 'x_atac_kl': 0.001, 'x_atac_elbo': 0.056, 'dsc_loss': 0.692, 'vae_loss': 0.184, 'gen_loss': 0.149}, 3.3s elapsed\n",
      "[INFO] SCGLUETrainer: [Epoch 20] train={'g_nll': 0.404, 'g_kl': 0.003, 'g_elbo': 0.407, 'x_rna_nll': 0.109, 'x_rna_kl': 0.001, 'x_rna_elbo': 0.111, 'x_atac_nll': 0.053, 'x_atac_kl': 0.001, 'x_atac_elbo': 0.053, 'dsc_loss': 0.691, 'vae_loss': 0.18, 'gen_loss': 0.146}, val={'g_nll': 0.403, 'g_kl': 0.003, 'g_elbo': 0.406, 'x_rna_nll': 0.111, 'x_rna_kl': 0.001, 'x_rna_elbo': 0.112, 'x_atac_nll': 0.056, 'x_atac_kl': 0.001, 'x_atac_elbo': 0.056, 'dsc_loss': 0.689, 'vae_loss': 0.185, 'gen_loss': 0.15}, 3.1s elapsed\n",
      "[INFO] SCGLUETrainer: [Epoch 30] train={'g_nll': 0.4, 'g_kl': 0.003, 'g_elbo': 0.403, 'x_rna_nll': 0.109, 'x_rna_kl': 0.001, 'x_rna_elbo': 0.111, 'x_atac_nll': 0.052, 'x_atac_kl': 0.001, 'x_atac_elbo': 0.053, 'dsc_loss': 0.692, 'vae_loss': 0.18, 'gen_loss': 0.145}, val={'g_nll': 0.4, 'g_kl': 0.003, 'g_elbo': 0.403, 'x_rna_nll': 0.111, 'x_rna_kl': 0.001, 'x_rna_elbo': 0.113, 'x_atac_nll': 0.056, 'x_atac_kl': 0.001, 'x_atac_elbo': 0.056, 'dsc_loss': 0.681, 'vae_loss': 0.185, 'gen_loss': 0.151}, 3.1s elapsed\n",
      "[INFO] SCGLUETrainer: [Epoch 40] train={'g_nll': 0.397, 'g_kl': 0.003, 'g_elbo': 0.4, 'x_rna_nll': 0.109, 'x_rna_kl': 0.001, 'x_rna_elbo': 0.11, 'x_atac_nll': 0.053, 'x_atac_kl': 0.001, 'x_atac_elbo': 0.054, 'dsc_loss': 0.695, 'vae_loss': 0.18, 'gen_loss': 0.145}, val={'g_nll': 0.396, 'g_kl': 0.003, 'g_elbo': 0.399, 'x_rna_nll': 0.112, 'x_rna_kl': 0.001, 'x_rna_elbo': 0.113, 'x_atac_nll': 0.055, 'x_atac_kl': 0.001, 'x_atac_elbo': 0.055, 'dsc_loss': 0.675, 'vae_loss': 0.184, 'gen_loss': 0.15}, 3.1s elapsed\n",
      "[INFO] SCGLUETrainer: [Epoch 50] train={'g_nll': 0.394, 'g_kl': 0.003, 'g_elbo': 0.397, 'x_rna_nll': 0.108, 'x_rna_kl': 0.001, 'x_rna_elbo': 0.11, 'x_atac_nll': 0.053, 'x_atac_kl': 0.001, 'x_atac_elbo': 0.053, 'dsc_loss': 0.698, 'vae_loss': 0.179, 'gen_loss': 0.144}, val={'g_nll': 0.394, 'g_kl': 0.003, 'g_elbo': 0.397, 'x_rna_nll': 0.111, 'x_rna_kl': 0.001, 'x_rna_elbo': 0.112, 'x_atac_nll': 0.055, 'x_atac_kl': 0.001, 'x_atac_elbo': 0.056, 'dsc_loss': 0.676, 'vae_loss': 0.184, 'gen_loss': 0.15}, 3.2s elapsed\n",
      "[INFO] SCGLUETrainer: [Epoch 60] train={'g_nll': 0.391, 'g_kl': 0.003, 'g_elbo': 0.395, 'x_rna_nll': 0.109, 'x_rna_kl': 0.001, 'x_rna_elbo': 0.11, 'x_atac_nll': 0.053, 'x_atac_kl': 0.001, 'x_atac_elbo': 0.053, 'dsc_loss': 0.689, 'vae_loss': 0.179, 'gen_loss': 0.145}, val={'g_nll': 0.392, 'g_kl': 0.003, 'g_elbo': 0.395, 'x_rna_nll': 0.112, 'x_rna_kl': 0.001, 'x_rna_elbo': 0.114, 'x_atac_nll': 0.057, 'x_atac_kl': 0.001, 'x_atac_elbo': 0.058, 'dsc_loss': 0.681, 'vae_loss': 0.187, 'gen_loss': 0.153}, 3.1s elapsed\n",
      "[INFO] SCGLUETrainer: [Epoch 70] train={'g_nll': 0.391, 'g_kl': 0.003, 'g_elbo': 0.394, 'x_rna_nll': 0.109, 'x_rna_kl': 0.001, 'x_rna_elbo': 0.11, 'x_atac_nll': 0.052, 'x_atac_kl': 0.001, 'x_atac_elbo': 0.053, 'dsc_loss': 0.689, 'vae_loss': 0.179, 'gen_loss': 0.144}, val={'g_nll': 0.391, 'g_kl': 0.003, 'g_elbo': 0.394, 'x_rna_nll': 0.112, 'x_rna_kl': 0.001, 'x_rna_elbo': 0.113, 'x_atac_nll': 0.056, 'x_atac_kl': 0.001, 'x_atac_elbo': 0.057, 'dsc_loss': 0.683, 'vae_loss': 0.186, 'gen_loss': 0.152}, 3.2s elapsed\n",
      "[INFO] SCGLUETrainer: [Epoch 80] train={'g_nll': 0.389, 'g_kl': 0.003, 'g_elbo': 0.393, 'x_rna_nll': 0.108, 'x_rna_kl': 0.001, 'x_rna_elbo': 0.11, 'x_atac_nll': 0.052, 'x_atac_kl': 0.001, 'x_atac_elbo': 0.053, 'dsc_loss': 0.693, 'vae_loss': 0.179, 'gen_loss': 0.144}, val={'g_nll': 0.389, 'g_kl': 0.003, 'g_elbo': 0.392, 'x_rna_nll': 0.111, 'x_rna_kl': 0.001, 'x_rna_elbo': 0.112, 'x_atac_nll': 0.057, 'x_atac_kl': 0.001, 'x_atac_elbo': 0.057, 'dsc_loss': 0.698, 'vae_loss': 0.185, 'gen_loss': 0.15}, 3.1s elapsed\n",
      "[INFO] SCGLUETrainer: [Epoch 90] train={'g_nll': 0.388, 'g_kl': 0.003, 'g_elbo': 0.392, 'x_rna_nll': 0.109, 'x_rna_kl': 0.001, 'x_rna_elbo': 0.11, 'x_atac_nll': 0.052, 'x_atac_kl': 0.001, 'x_atac_elbo': 0.053, 'dsc_loss': 0.686, 'vae_loss': 0.178, 'gen_loss': 0.144}, val={'g_nll': 0.388, 'g_kl': 0.003, 'g_elbo': 0.391, 'x_rna_nll': 0.111, 'x_rna_kl': 0.001, 'x_rna_elbo': 0.112, 'x_atac_nll': 0.056, 'x_atac_kl': 0.001, 'x_atac_elbo': 0.057, 'dsc_loss': 0.668, 'vae_loss': 0.185, 'gen_loss': 0.151}, 3.1s elapsed\n",
      "[INFO] SCGLUETrainer: [Epoch 100] train={'g_nll': 0.387, 'g_kl': 0.003, 'g_elbo': 0.39, 'x_rna_nll': 0.109, 'x_rna_kl': 0.001, 'x_rna_elbo': 0.11, 'x_atac_nll': 0.052, 'x_atac_kl': 0.001, 'x_atac_elbo': 0.053, 'dsc_loss': 0.692, 'vae_loss': 0.178, 'gen_loss': 0.144}, val={'g_nll': 0.387, 'g_kl': 0.003, 'g_elbo': 0.39, 'x_rna_nll': 0.112, 'x_rna_kl': 0.001, 'x_rna_elbo': 0.114, 'x_atac_nll': 0.057, 'x_atac_kl': 0.001, 'x_atac_elbo': 0.058, 'dsc_loss': 0.684, 'vae_loss': 0.187, 'gen_loss': 0.153}, 3.1s elapsed\n",
      "[INFO] SCGLUETrainer: [Epoch 110] train={'g_nll': 0.387, 'g_kl': 0.003, 'g_elbo': 0.39, 'x_rna_nll': 0.108, 'x_rna_kl': 0.001, 'x_rna_elbo': 0.11, 'x_atac_nll': 0.052, 'x_atac_kl': 0.001, 'x_atac_elbo': 0.052, 'dsc_loss': 0.689, 'vae_loss': 0.178, 'gen_loss': 0.143}, val={'g_nll': 0.387, 'g_kl': 0.003, 'g_elbo': 0.39, 'x_rna_nll': 0.113, 'x_rna_kl': 0.001, 'x_rna_elbo': 0.114, 'x_atac_nll': 0.055, 'x_atac_kl': 0.001, 'x_atac_elbo': 0.056, 'dsc_loss': 0.681, 'vae_loss': 0.186, 'gen_loss': 0.152}, 3.0s elapsed\n",
      "Epoch 00114: reducing learning rate of group 0 to 2.0000e-04.\n",
      "Epoch 00114: reducing learning rate of group 0 to 2.0000e-04.\n",
      "[INFO] LRScheduler: Learning rate reduction: step 1\n",
      "[INFO] SCGLUETrainer: [Epoch 120] train={'g_nll': 0.383, 'g_kl': 0.003, 'g_elbo': 0.386, 'x_rna_nll': 0.108, 'x_rna_kl': 0.001, 'x_rna_elbo': 0.109, 'x_atac_nll': 0.052, 'x_atac_kl': 0.001, 'x_atac_elbo': 0.053, 'dsc_loss': 0.694, 'vae_loss': 0.178, 'gen_loss': 0.143}, val={'g_nll': 0.383, 'g_kl': 0.003, 'g_elbo': 0.386, 'x_rna_nll': 0.115, 'x_rna_kl': 0.001, 'x_rna_elbo': 0.116, 'x_atac_nll': 0.056, 'x_atac_kl': 0.001, 'x_atac_elbo': 0.057, 'dsc_loss': 0.68, 'vae_loss': 0.188, 'gen_loss': 0.154}, 3.1s elapsed\n",
      "[INFO] SCGLUETrainer: [Epoch 130] train={'g_nll': 0.381, 'g_kl': 0.003, 'g_elbo': 0.384, 'x_rna_nll': 0.108, 'x_rna_kl': 0.001, 'x_rna_elbo': 0.11, 'x_atac_nll': 0.052, 'x_atac_kl': 0.001, 'x_atac_elbo': 0.053, 'dsc_loss': 0.694, 'vae_loss': 0.178, 'gen_loss': 0.143}, val={'g_nll': 0.381, 'g_kl': 0.003, 'g_elbo': 0.384, 'x_rna_nll': 0.113, 'x_rna_kl': 0.001, 'x_rna_elbo': 0.114, 'x_atac_nll': 0.055, 'x_atac_kl': 0.001, 'x_atac_elbo': 0.056, 'dsc_loss': 0.675, 'vae_loss': 0.186, 'gen_loss': 0.152}, 3.1s elapsed\n",
      "Epoch 00137: reducing learning rate of group 0 to 2.0000e-05.\n",
      "Epoch 00137: reducing learning rate of group 0 to 2.0000e-05.\n",
      "[INFO] LRScheduler: Learning rate reduction: step 2\n",
      "[INFO] SCGLUETrainer: [Epoch 140] train={'g_nll': 0.38, 'g_kl': 0.003, 'g_elbo': 0.384, 'x_rna_nll': 0.108, 'x_rna_kl': 0.001, 'x_rna_elbo': 0.11, 'x_atac_nll': 0.052, 'x_atac_kl': 0.001, 'x_atac_elbo': 0.052, 'dsc_loss': 0.692, 'vae_loss': 0.177, 'gen_loss': 0.143}, val={'g_nll': 0.38, 'g_kl': 0.003, 'g_elbo': 0.384, 'x_rna_nll': 0.112, 'x_rna_kl': 0.001, 'x_rna_elbo': 0.113, 'x_atac_nll': 0.057, 'x_atac_kl': 0.001, 'x_atac_elbo': 0.057, 'dsc_loss': 0.681, 'vae_loss': 0.186, 'gen_loss': 0.152}, 3.1s elapsed\n",
      "[INFO] SCGLUETrainer: [Epoch 150] train={'g_nll': 0.38, 'g_kl': 0.003, 'g_elbo': 0.384, 'x_rna_nll': 0.109, 'x_rna_kl': 0.001, 'x_rna_elbo': 0.11, 'x_atac_nll': 0.052, 'x_atac_kl': 0.001, 'x_atac_elbo': 0.053, 'dsc_loss': 0.69, 'vae_loss': 0.178, 'gen_loss': 0.144}, val={'g_nll': 0.38, 'g_kl': 0.003, 'g_elbo': 0.383, 'x_rna_nll': 0.113, 'x_rna_kl': 0.001, 'x_rna_elbo': 0.114, 'x_atac_nll': 0.057, 'x_atac_kl': 0.001, 'x_atac_elbo': 0.058, 'dsc_loss': 0.676, 'vae_loss': 0.187, 'gen_loss': 0.153}, 3.0s elapsed\n"
     ]
    },
    {
     "name": "stderr",
     "output_type": "stream",
     "text": [
      "2024-02-01 20:27:55,287 ignite.handlers.early_stopping.EarlyStopping INFO: EarlyStopping: Stop training\n"
     ]
    },
    {
     "name": "stdout",
     "output_type": "stream",
     "text": [
      "[INFO] EarlyStopping: Restoring checkpoint \"132\"...\n",
      "[INFO] EarlyStopping: Restoring checkpoint \"132\"...\n"
     ]
    },
    {
     "name": "stderr",
     "output_type": "stream",
     "text": [
      "[WARNING] configure_dataset: `configure_dataset` has already been called. Previous configuration will be overwritten!\n"
     ]
    },
    {
     "name": "stdout",
     "output_type": "stream",
     "text": [
      "[INFO] fit_SCGLUE: Pretraining SCGLUE model...\n",
      "[INFO] check_graph: Checking variable coverage...\n",
      "[INFO] check_graph: Checking edge attributes...\n",
      "[INFO] check_graph: Checking self-loops...\n",
      "[INFO] check_graph: Checking graph symmetry...\n",
      "[INFO] SCGLUEModel: Setting `graph_batch_size` = 49723\n",
      "[INFO] SCGLUEModel: Setting `max_epochs` = 427\n",
      "[INFO] SCGLUEModel: Setting `patience` = 36\n",
      "[INFO] SCGLUEModel: Setting `reduce_lr_patience` = 18\n",
      "[INFO] SCGLUETrainer: Using training directory: \"glue/pretrain\"\n",
      "[INFO] SCGLUETrainer: [Epoch 10] train={'g_nll': 0.443, 'g_kl': 0.002, 'g_elbo': 0.445, 'x_rna_nll': 0.115, 'x_rna_kl': 0.002, 'x_rna_elbo': 0.117, 'x_atac_nll': 0.055, 'x_atac_kl': 0.001, 'x_atac_elbo': 0.056, 'dsc_loss': 0.692, 'vae_loss': 0.191, 'gen_loss': 0.156}, val={'g_nll': 0.441, 'g_kl': 0.002, 'g_elbo': 0.442, 'x_rna_nll': 0.116, 'x_rna_kl': 0.002, 'x_rna_elbo': 0.118, 'x_atac_nll': 0.055, 'x_atac_kl': 0.001, 'x_atac_elbo': 0.056, 'dsc_loss': 0.695, 'vae_loss': 0.192, 'gen_loss': 0.157}, 3.1s elapsed\n",
      "[INFO] SCGLUETrainer: [Epoch 20] train={'g_nll': 0.42, 'g_kl': 0.002, 'g_elbo': 0.423, 'x_rna_nll': 0.112, 'x_rna_kl': 0.001, 'x_rna_elbo': 0.113, 'x_atac_nll': 0.055, 'x_atac_kl': 0.001, 'x_atac_elbo': 0.055, 'dsc_loss': 0.692, 'vae_loss': 0.185, 'gen_loss': 0.151}, val={'g_nll': 0.42, 'g_kl': 0.002, 'g_elbo': 0.422, 'x_rna_nll': 0.115, 'x_rna_kl': 0.001, 'x_rna_elbo': 0.117, 'x_atac_nll': 0.056, 'x_atac_kl': 0.001, 'x_atac_elbo': 0.057, 'dsc_loss': 0.694, 'vae_loss': 0.191, 'gen_loss': 0.156}, 3.1s elapsed\n",
      "[INFO] SCGLUETrainer: [Epoch 30] train={'g_nll': 0.413, 'g_kl': 0.003, 'g_elbo': 0.416, 'x_rna_nll': 0.111, 'x_rna_kl': 0.001, 'x_rna_elbo': 0.112, 'x_atac_nll': 0.054, 'x_atac_kl': 0.001, 'x_atac_elbo': 0.054, 'dsc_loss': 0.692, 'vae_loss': 0.183, 'gen_loss': 0.148}, val={'g_nll': 0.412, 'g_kl': 0.003, 'g_elbo': 0.415, 'x_rna_nll': 0.115, 'x_rna_kl': 0.001, 'x_rna_elbo': 0.116, 'x_atac_nll': 0.055, 'x_atac_kl': 0.001, 'x_atac_elbo': 0.056, 'dsc_loss': 0.694, 'vae_loss': 0.188, 'gen_loss': 0.154}, 3.1s elapsed\n",
      "[INFO] SCGLUETrainer: [Epoch 40] train={'g_nll': 0.408, 'g_kl': 0.003, 'g_elbo': 0.411, 'x_rna_nll': 0.11, 'x_rna_kl': 0.001, 'x_rna_elbo': 0.112, 'x_atac_nll': 0.054, 'x_atac_kl': 0.001, 'x_atac_elbo': 0.054, 'dsc_loss': 0.692, 'vae_loss': 0.182, 'gen_loss': 0.148}, val={'g_nll': 0.408, 'g_kl': 0.003, 'g_elbo': 0.411, 'x_rna_nll': 0.114, 'x_rna_kl': 0.001, 'x_rna_elbo': 0.115, 'x_atac_nll': 0.055, 'x_atac_kl': 0.001, 'x_atac_elbo': 0.056, 'dsc_loss': 0.694, 'vae_loss': 0.187, 'gen_loss': 0.153}, 3.1s elapsed\n",
      "[INFO] SCGLUETrainer: [Epoch 50] train={'g_nll': 0.405, 'g_kl': 0.003, 'g_elbo': 0.408, 'x_rna_nll': 0.109, 'x_rna_kl': 0.001, 'x_rna_elbo': 0.11, 'x_atac_nll': 0.053, 'x_atac_kl': 0.001, 'x_atac_elbo': 0.054, 'dsc_loss': 0.692, 'vae_loss': 0.181, 'gen_loss': 0.146}, val={'g_nll': 0.405, 'g_kl': 0.003, 'g_elbo': 0.408, 'x_rna_nll': 0.114, 'x_rna_kl': 0.001, 'x_rna_elbo': 0.115, 'x_atac_nll': 0.055, 'x_atac_kl': 0.001, 'x_atac_elbo': 0.056, 'dsc_loss': 0.693, 'vae_loss': 0.187, 'gen_loss': 0.153}, 3.1s elapsed\n",
      "[INFO] SCGLUETrainer: [Epoch 60] train={'g_nll': 0.404, 'g_kl': 0.003, 'g_elbo': 0.407, 'x_rna_nll': 0.109, 'x_rna_kl': 0.001, 'x_rna_elbo': 0.111, 'x_atac_nll': 0.053, 'x_atac_kl': 0.001, 'x_atac_elbo': 0.054, 'dsc_loss': 0.693, 'vae_loss': 0.181, 'gen_loss': 0.146}, val={'g_nll': 0.404, 'g_kl': 0.003, 'g_elbo': 0.407, 'x_rna_nll': 0.115, 'x_rna_kl': 0.001, 'x_rna_elbo': 0.116, 'x_atac_nll': 0.054, 'x_atac_kl': 0.001, 'x_atac_elbo': 0.055, 'dsc_loss': 0.693, 'vae_loss': 0.187, 'gen_loss': 0.153}, 3.1s elapsed\n",
      "[INFO] SCGLUETrainer: [Epoch 70] train={'g_nll': 0.403, 'g_kl': 0.003, 'g_elbo': 0.406, 'x_rna_nll': 0.109, 'x_rna_kl': 0.001, 'x_rna_elbo': 0.11, 'x_atac_nll': 0.053, 'x_atac_kl': 0.001, 'x_atac_elbo': 0.053, 'dsc_loss': 0.693, 'vae_loss': 0.18, 'gen_loss': 0.145}, val={'g_nll': 0.403, 'g_kl': 0.003, 'g_elbo': 0.406, 'x_rna_nll': 0.113, 'x_rna_kl': 0.001, 'x_rna_elbo': 0.115, 'x_atac_nll': 0.055, 'x_atac_kl': 0.001, 'x_atac_elbo': 0.056, 'dsc_loss': 0.693, 'vae_loss': 0.187, 'gen_loss': 0.152}, 3.1s elapsed\n",
      "Epoch 00071: reducing learning rate of group 0 to 2.0000e-04.\n",
      "Epoch 00071: reducing learning rate of group 0 to 2.0000e-04.\n",
      "[INFO] LRScheduler: Learning rate reduction: step 1\n",
      "[INFO] SCGLUETrainer: [Epoch 80] train={'g_nll': 0.402, 'g_kl': 0.003, 'g_elbo': 0.405, 'x_rna_nll': 0.109, 'x_rna_kl': 0.001, 'x_rna_elbo': 0.11, 'x_atac_nll': 0.053, 'x_atac_kl': 0.001, 'x_atac_elbo': 0.053, 'dsc_loss': 0.693, 'vae_loss': 0.18, 'gen_loss': 0.145}, val={'g_nll': 0.402, 'g_kl': 0.003, 'g_elbo': 0.405, 'x_rna_nll': 0.114, 'x_rna_kl': 0.001, 'x_rna_elbo': 0.115, 'x_atac_nll': 0.056, 'x_atac_kl': 0.001, 'x_atac_elbo': 0.057, 'dsc_loss': 0.692, 'vae_loss': 0.188, 'gen_loss': 0.154}, 3.1s elapsed\n",
      "[INFO] SCGLUETrainer: [Epoch 90] train={'g_nll': 0.401, 'g_kl': 0.003, 'g_elbo': 0.404, 'x_rna_nll': 0.108, 'x_rna_kl': 0.001, 'x_rna_elbo': 0.11, 'x_atac_nll': 0.053, 'x_atac_kl': 0.001, 'x_atac_elbo': 0.053, 'dsc_loss': 0.692, 'vae_loss': 0.179, 'gen_loss': 0.145}, val={'g_nll': 0.401, 'g_kl': 0.003, 'g_elbo': 0.404, 'x_rna_nll': 0.113, 'x_rna_kl': 0.001, 'x_rna_elbo': 0.114, 'x_atac_nll': 0.056, 'x_atac_kl': 0.001, 'x_atac_elbo': 0.057, 'dsc_loss': 0.692, 'vae_loss': 0.187, 'gen_loss': 0.153}, 3.1s elapsed\n",
      "Epoch 00090: reducing learning rate of group 0 to 2.0000e-05.\n",
      "Epoch 00090: reducing learning rate of group 0 to 2.0000e-05.\n",
      "[INFO] LRScheduler: Learning rate reduction: step 2\n",
      "[INFO] SCGLUETrainer: [Epoch 100] train={'g_nll': 0.401, 'g_kl': 0.003, 'g_elbo': 0.404, 'x_rna_nll': 0.109, 'x_rna_kl': 0.001, 'x_rna_elbo': 0.11, 'x_atac_nll': 0.053, 'x_atac_kl': 0.001, 'x_atac_elbo': 0.054, 'dsc_loss': 0.693, 'vae_loss': 0.18, 'gen_loss': 0.145}, val={'g_nll': 0.401, 'g_kl': 0.003, 'g_elbo': 0.404, 'x_rna_nll': 0.113, 'x_rna_kl': 0.001, 'x_rna_elbo': 0.115, 'x_atac_nll': 0.056, 'x_atac_kl': 0.001, 'x_atac_elbo': 0.057, 'dsc_loss': 0.692, 'vae_loss': 0.188, 'gen_loss': 0.153}, 3.0s elapsed\n",
      "Epoch 00109: reducing learning rate of group 0 to 2.0000e-06.\n",
      "Epoch 00109: reducing learning rate of group 0 to 2.0000e-06.\n",
      "[INFO] LRScheduler: Learning rate reduction: step 3\n",
      "[INFO] SCGLUETrainer: [Epoch 110] train={'g_nll': 0.401, 'g_kl': 0.003, 'g_elbo': 0.404, 'x_rna_nll': 0.109, 'x_rna_kl': 0.001, 'x_rna_elbo': 0.111, 'x_atac_nll': 0.053, 'x_atac_kl': 0.001, 'x_atac_elbo': 0.054, 'dsc_loss': 0.693, 'vae_loss': 0.18, 'gen_loss': 0.146}, val={'g_nll': 0.401, 'g_kl': 0.003, 'g_elbo': 0.404, 'x_rna_nll': 0.115, 'x_rna_kl': 0.001, 'x_rna_elbo': 0.117, 'x_atac_nll': 0.054, 'x_atac_kl': 0.001, 'x_atac_elbo': 0.055, 'dsc_loss': 0.692, 'vae_loss': 0.188, 'gen_loss': 0.153}, 3.1s elapsed\n",
      "[INFO] SCGLUETrainer: [Epoch 120] train={'g_nll': 0.401, 'g_kl': 0.003, 'g_elbo': 0.404, 'x_rna_nll': 0.109, 'x_rna_kl': 0.001, 'x_rna_elbo': 0.11, 'x_atac_nll': 0.053, 'x_atac_kl': 0.001, 'x_atac_elbo': 0.054, 'dsc_loss': 0.693, 'vae_loss': 0.18, 'gen_loss': 0.146}, val={'g_nll': 0.401, 'g_kl': 0.003, 'g_elbo': 0.404, 'x_rna_nll': 0.114, 'x_rna_kl': 0.001, 'x_rna_elbo': 0.115, 'x_atac_nll': 0.055, 'x_atac_kl': 0.001, 'x_atac_elbo': 0.056, 'dsc_loss': 0.693, 'vae_loss': 0.188, 'gen_loss': 0.153}, 3.1s elapsed\n"
     ]
    },
    {
     "name": "stderr",
     "output_type": "stream",
     "text": [
      "2024-02-01 20:34:50,437 ignite.handlers.early_stopping.EarlyStopping INFO: EarlyStopping: Stop training\n"
     ]
    },
    {
     "name": "stdout",
     "output_type": "stream",
     "text": [
      "[INFO] EarlyStopping: Restoring checkpoint \"111\"...\n",
      "[INFO] EarlyStopping: Restoring checkpoint \"111\"...\n",
      "[INFO] fit_SCGLUE: Estimating balancing weight...\n",
      "[INFO] estimate_balancing_weight: Clustering cells...\n",
      "[INFO] estimate_balancing_weight: Matching clusters...\n",
      "[INFO] estimate_balancing_weight: Matching array shape = (14, 11)...\n",
      "[INFO] estimate_balancing_weight: Estimating balancing weight...\n",
      "[INFO] fit_SCGLUE: Fine-tuning SCGLUE model...\n",
      "[INFO] check_graph: Checking variable coverage...\n",
      "[INFO] check_graph: Checking edge attributes...\n",
      "[INFO] check_graph: Checking self-loops...\n",
      "[INFO] check_graph: Checking graph symmetry...\n",
      "[INFO] SCGLUEModel: Setting `graph_batch_size` = 49723\n",
      "[INFO] SCGLUEModel: Setting `align_burnin` = 72\n",
      "[INFO] SCGLUEModel: Setting `max_epochs` = 427\n",
      "[INFO] SCGLUEModel: Setting `patience` = 36\n",
      "[INFO] SCGLUEModel: Setting `reduce_lr_patience` = 18\n",
      "[INFO] SCGLUETrainer: Using training directory: \"glue/fine-tune\"\n",
      "[INFO] SCGLUETrainer: [Epoch 10] train={'g_nll': 0.4, 'g_kl': 0.003, 'g_elbo': 0.403, 'x_rna_nll': 0.11, 'x_rna_kl': 0.001, 'x_rna_elbo': 0.111, 'x_atac_nll': 0.053, 'x_atac_kl': 0.001, 'x_atac_elbo': 0.054, 'dsc_loss': 0.692, 'vae_loss': 0.181, 'gen_loss': 0.146}, val={'g_nll': 0.4, 'g_kl': 0.003, 'g_elbo': 0.403, 'x_rna_nll': 0.11, 'x_rna_kl': 0.001, 'x_rna_elbo': 0.111, 'x_atac_nll': 0.054, 'x_atac_kl': 0.001, 'x_atac_elbo': 0.055, 'dsc_loss': 0.715, 'vae_loss': 0.182, 'gen_loss': 0.147}, 3.1s elapsed\n",
      "[INFO] SCGLUETrainer: [Epoch 20] train={'g_nll': 0.396, 'g_kl': 0.003, 'g_elbo': 0.399, 'x_rna_nll': 0.109, 'x_rna_kl': 0.001, 'x_rna_elbo': 0.11, 'x_atac_nll': 0.053, 'x_atac_kl': 0.001, 'x_atac_elbo': 0.053, 'dsc_loss': 0.69, 'vae_loss': 0.18, 'gen_loss': 0.145}, val={'g_nll': 0.395, 'g_kl': 0.003, 'g_elbo': 0.398, 'x_rna_nll': 0.111, 'x_rna_kl': 0.001, 'x_rna_elbo': 0.112, 'x_atac_nll': 0.055, 'x_atac_kl': 0.001, 'x_atac_elbo': 0.055, 'dsc_loss': 0.7, 'vae_loss': 0.184, 'gen_loss': 0.149}, 3.1s elapsed\n",
      "[INFO] SCGLUETrainer: [Epoch 30] train={'g_nll': 0.391, 'g_kl': 0.003, 'g_elbo': 0.394, 'x_rna_nll': 0.109, 'x_rna_kl': 0.001, 'x_rna_elbo': 0.111, 'x_atac_nll': 0.053, 'x_atac_kl': 0.001, 'x_atac_elbo': 0.054, 'dsc_loss': 0.688, 'vae_loss': 0.18, 'gen_loss': 0.146}, val={'g_nll': 0.391, 'g_kl': 0.003, 'g_elbo': 0.394, 'x_rna_nll': 0.111, 'x_rna_kl': 0.001, 'x_rna_elbo': 0.113, 'x_atac_nll': 0.056, 'x_atac_kl': 0.001, 'x_atac_elbo': 0.057, 'dsc_loss': 0.697, 'vae_loss': 0.185, 'gen_loss': 0.15}, 3.1s elapsed\n",
      "[INFO] SCGLUETrainer: [Epoch 40] train={'g_nll': 0.389, 'g_kl': 0.003, 'g_elbo': 0.392, 'x_rna_nll': 0.109, 'x_rna_kl': 0.001, 'x_rna_elbo': 0.11, 'x_atac_nll': 0.052, 'x_atac_kl': 0.001, 'x_atac_elbo': 0.053, 'dsc_loss': 0.693, 'vae_loss': 0.179, 'gen_loss': 0.144}, val={'g_nll': 0.389, 'g_kl': 0.003, 'g_elbo': 0.392, 'x_rna_nll': 0.112, 'x_rna_kl': 0.001, 'x_rna_elbo': 0.113, 'x_atac_nll': 0.055, 'x_atac_kl': 0.001, 'x_atac_elbo': 0.056, 'dsc_loss': 0.699, 'vae_loss': 0.184, 'gen_loss': 0.149}, 3.1s elapsed\n",
      "[INFO] SCGLUETrainer: [Epoch 50] train={'g_nll': 0.387, 'g_kl': 0.003, 'g_elbo': 0.39, 'x_rna_nll': 0.108, 'x_rna_kl': 0.001, 'x_rna_elbo': 0.11, 'x_atac_nll': 0.052, 'x_atac_kl': 0.001, 'x_atac_elbo': 0.053, 'dsc_loss': 0.694, 'vae_loss': 0.178, 'gen_loss': 0.144}, val={'g_nll': 0.387, 'g_kl': 0.003, 'g_elbo': 0.39, 'x_rna_nll': 0.111, 'x_rna_kl': 0.001, 'x_rna_elbo': 0.112, 'x_atac_nll': 0.055, 'x_atac_kl': 0.001, 'x_atac_elbo': 0.056, 'dsc_loss': 0.718, 'vae_loss': 0.184, 'gen_loss': 0.148}, 3.1s elapsed\n",
      "[INFO] SCGLUETrainer: [Epoch 60] train={'g_nll': 0.386, 'g_kl': 0.003, 'g_elbo': 0.389, 'x_rna_nll': 0.109, 'x_rna_kl': 0.001, 'x_rna_elbo': 0.11, 'x_atac_nll': 0.052, 'x_atac_kl': 0.001, 'x_atac_elbo': 0.053, 'dsc_loss': 0.687, 'vae_loss': 0.179, 'gen_loss': 0.144}, val={'g_nll': 0.386, 'g_kl': 0.003, 'g_elbo': 0.389, 'x_rna_nll': 0.112, 'x_rna_kl': 0.001, 'x_rna_elbo': 0.113, 'x_atac_nll': 0.056, 'x_atac_kl': 0.001, 'x_atac_elbo': 0.057, 'dsc_loss': 0.718, 'vae_loss': 0.186, 'gen_loss': 0.15}, 3.1s elapsed\n",
      "[INFO] SCGLUETrainer: [Epoch 70] train={'g_nll': 0.385, 'g_kl': 0.003, 'g_elbo': 0.388, 'x_rna_nll': 0.109, 'x_rna_kl': 0.001, 'x_rna_elbo': 0.11, 'x_atac_nll': 0.053, 'x_atac_kl': 0.001, 'x_atac_elbo': 0.053, 'dsc_loss': 0.68, 'vae_loss': 0.179, 'gen_loss': 0.145}, val={'g_nll': 0.384, 'g_kl': 0.003, 'g_elbo': 0.387, 'x_rna_nll': 0.112, 'x_rna_kl': 0.001, 'x_rna_elbo': 0.113, 'x_atac_nll': 0.054, 'x_atac_kl': 0.001, 'x_atac_elbo': 0.055, 'dsc_loss': 0.712, 'vae_loss': 0.184, 'gen_loss': 0.148}, 3.1s elapsed\n",
      "[INFO] SCGLUETrainer: [Epoch 80] train={'g_nll': 0.384, 'g_kl': 0.003, 'g_elbo': 0.387, 'x_rna_nll': 0.108, 'x_rna_kl': 0.001, 'x_rna_elbo': 0.11, 'x_atac_nll': 0.052, 'x_atac_kl': 0.001, 'x_atac_elbo': 0.053, 'dsc_loss': 0.685, 'vae_loss': 0.178, 'gen_loss': 0.144}, val={'g_nll': 0.384, 'g_kl': 0.003, 'g_elbo': 0.388, 'x_rna_nll': 0.111, 'x_rna_kl': 0.001, 'x_rna_elbo': 0.112, 'x_atac_nll': 0.056, 'x_atac_kl': 0.001, 'x_atac_elbo': 0.056, 'dsc_loss': 0.727, 'vae_loss': 0.184, 'gen_loss': 0.148}, 3.1s elapsed\n",
      "[INFO] SCGLUETrainer: [Epoch 90] train={'g_nll': 0.384, 'g_kl': 0.003, 'g_elbo': 0.387, 'x_rna_nll': 0.109, 'x_rna_kl': 0.001, 'x_rna_elbo': 0.11, 'x_atac_nll': 0.052, 'x_atac_kl': 0.001, 'x_atac_elbo': 0.053, 'dsc_loss': 0.683, 'vae_loss': 0.178, 'gen_loss': 0.144}, val={'g_nll': 0.385, 'g_kl': 0.003, 'g_elbo': 0.388, 'x_rna_nll': 0.111, 'x_rna_kl': 0.001, 'x_rna_elbo': 0.112, 'x_atac_nll': 0.056, 'x_atac_kl': 0.001, 'x_atac_elbo': 0.056, 'dsc_loss': 0.73, 'vae_loss': 0.184, 'gen_loss': 0.147}, 3.1s elapsed\n",
      "[INFO] SCGLUETrainer: [Epoch 100] train={'g_nll': 0.383, 'g_kl': 0.003, 'g_elbo': 0.386, 'x_rna_nll': 0.108, 'x_rna_kl': 0.001, 'x_rna_elbo': 0.11, 'x_atac_nll': 0.052, 'x_atac_kl': 0.001, 'x_atac_elbo': 0.053, 'dsc_loss': 0.688, 'vae_loss': 0.178, 'gen_loss': 0.144}, val={'g_nll': 0.384, 'g_kl': 0.003, 'g_elbo': 0.387, 'x_rna_nll': 0.112, 'x_rna_kl': 0.001, 'x_rna_elbo': 0.114, 'x_atac_nll': 0.056, 'x_atac_kl': 0.001, 'x_atac_elbo': 0.057, 'dsc_loss': 0.699, 'vae_loss': 0.186, 'gen_loss': 0.151}, 3.1s elapsed\n",
      "[INFO] SCGLUETrainer: [Epoch 110] train={'g_nll': 0.383, 'g_kl': 0.003, 'g_elbo': 0.386, 'x_rna_nll': 0.108, 'x_rna_kl': 0.001, 'x_rna_elbo': 0.109, 'x_atac_nll': 0.052, 'x_atac_kl': 0.001, 'x_atac_elbo': 0.053, 'dsc_loss': 0.691, 'vae_loss': 0.178, 'gen_loss': 0.143}, val={'g_nll': 0.382, 'g_kl': 0.003, 'g_elbo': 0.385, 'x_rna_nll': 0.113, 'x_rna_kl': 0.001, 'x_rna_elbo': 0.114, 'x_atac_nll': 0.055, 'x_atac_kl': 0.001, 'x_atac_elbo': 0.056, 'dsc_loss': 0.726, 'vae_loss': 0.185, 'gen_loss': 0.149}, 3.0s elapsed\n",
      "Epoch 00114: reducing learning rate of group 0 to 2.0000e-04.\n",
      "Epoch 00114: reducing learning rate of group 0 to 2.0000e-04.\n",
      "[INFO] LRScheduler: Learning rate reduction: step 1\n",
      "[INFO] SCGLUETrainer: [Epoch 120] train={'g_nll': 0.378, 'g_kl': 0.003, 'g_elbo': 0.381, 'x_rna_nll': 0.108, 'x_rna_kl': 0.001, 'x_rna_elbo': 0.109, 'x_atac_nll': 0.052, 'x_atac_kl': 0.001, 'x_atac_elbo': 0.053, 'dsc_loss': 0.695, 'vae_loss': 0.177, 'gen_loss': 0.143}, val={'g_nll': 0.378, 'g_kl': 0.003, 'g_elbo': 0.381, 'x_rna_nll': 0.115, 'x_rna_kl': 0.001, 'x_rna_elbo': 0.116, 'x_atac_nll': 0.054, 'x_atac_kl': 0.001, 'x_atac_elbo': 0.055, 'dsc_loss': 0.703, 'vae_loss': 0.187, 'gen_loss': 0.152}, 3.1s elapsed\n",
      "[INFO] SCGLUETrainer: [Epoch 130] train={'g_nll': 0.377, 'g_kl': 0.003, 'g_elbo': 0.38, 'x_rna_nll': 0.108, 'x_rna_kl': 0.001, 'x_rna_elbo': 0.11, 'x_atac_nll': 0.052, 'x_atac_kl': 0.001, 'x_atac_elbo': 0.053, 'dsc_loss': 0.687, 'vae_loss': 0.178, 'gen_loss': 0.144}, val={'g_nll': 0.377, 'g_kl': 0.003, 'g_elbo': 0.38, 'x_rna_nll': 0.113, 'x_rna_kl': 0.001, 'x_rna_elbo': 0.115, 'x_atac_nll': 0.056, 'x_atac_kl': 0.001, 'x_atac_elbo': 0.057, 'dsc_loss': 0.698, 'vae_loss': 0.187, 'gen_loss': 0.152}, 3.1s elapsed\n",
      "Epoch 00137: reducing learning rate of group 0 to 2.0000e-05.\n",
      "Epoch 00137: reducing learning rate of group 0 to 2.0000e-05.\n",
      "[INFO] LRScheduler: Learning rate reduction: step 2\n",
      "[INFO] SCGLUETrainer: [Epoch 140] train={'g_nll': 0.376, 'g_kl': 0.003, 'g_elbo': 0.379, 'x_rna_nll': 0.108, 'x_rna_kl': 0.001, 'x_rna_elbo': 0.109, 'x_atac_nll': 0.052, 'x_atac_kl': 0.001, 'x_atac_elbo': 0.053, 'dsc_loss': 0.688, 'vae_loss': 0.177, 'gen_loss': 0.143}, val={'g_nll': 0.375, 'g_kl': 0.003, 'g_elbo': 0.379, 'x_rna_nll': 0.112, 'x_rna_kl': 0.001, 'x_rna_elbo': 0.113, 'x_atac_nll': 0.055, 'x_atac_kl': 0.001, 'x_atac_elbo': 0.055, 'dsc_loss': 0.72, 'vae_loss': 0.184, 'gen_loss': 0.148}, 3.1s elapsed\n",
      "[INFO] SCGLUETrainer: [Epoch 150] train={'g_nll': 0.376, 'g_kl': 0.003, 'g_elbo': 0.379, 'x_rna_nll': 0.108, 'x_rna_kl': 0.001, 'x_rna_elbo': 0.11, 'x_atac_nll': 0.052, 'x_atac_kl': 0.001, 'x_atac_elbo': 0.053, 'dsc_loss': 0.684, 'vae_loss': 0.178, 'gen_loss': 0.143}, val={'g_nll': 0.375, 'g_kl': 0.003, 'g_elbo': 0.379, 'x_rna_nll': 0.113, 'x_rna_kl': 0.001, 'x_rna_elbo': 0.114, 'x_atac_nll': 0.055, 'x_atac_kl': 0.001, 'x_atac_elbo': 0.056, 'dsc_loss': 0.724, 'vae_loss': 0.185, 'gen_loss': 0.149}, 3.1s elapsed\n"
     ]
    },
    {
     "name": "stderr",
     "output_type": "stream",
     "text": [
      "2024-02-01 20:43:23,088 ignite.handlers.early_stopping.EarlyStopping INFO: EarlyStopping: Stop training\n"
     ]
    },
    {
     "name": "stdout",
     "output_type": "stream",
     "text": [
      "[INFO] EarlyStopping: Restoring checkpoint \"137\"...\n",
      "[INFO] EarlyStopping: Restoring checkpoint \"137\"...\n"
     ]
    },
    {
     "name": "stderr",
     "output_type": "stream",
     "text": [
      "[WARNING] configure_dataset: `configure_dataset` has already been called. Previous configuration will be overwritten!\n",
      "[WARNING] configure_dataset: `configure_dataset` has already been called. Previous configuration will be overwritten!\n"
     ]
    },
    {
     "name": "stdout",
     "output_type": "stream",
     "text": [
      "[INFO] fit_SCGLUE: Pretraining SCGLUE model...\n",
      "[INFO] check_graph: Checking variable coverage...\n",
      "[INFO] check_graph: Checking edge attributes...\n",
      "[INFO] check_graph: Checking self-loops...\n",
      "[INFO] check_graph: Checking graph symmetry...\n",
      "[INFO] SCGLUEModel: Setting `graph_batch_size` = 49723\n",
      "[INFO] SCGLUEModel: Setting `max_epochs` = 427\n",
      "[INFO] SCGLUEModel: Setting `patience` = 36\n",
      "[INFO] SCGLUEModel: Setting `reduce_lr_patience` = 18\n",
      "[INFO] SCGLUETrainer: Using training directory: \"glue/pretrain\"\n",
      "[INFO] SCGLUETrainer: [Epoch 10] train={'g_nll': 0.444, 'g_kl': 0.002, 'g_elbo': 0.446, 'x_rna_nll': 0.115, 'x_rna_kl': 0.002, 'x_rna_elbo': 0.117, 'x_atac_nll': 0.055, 'x_atac_kl': 0.001, 'x_atac_elbo': 0.056, 'dsc_loss': 0.692, 'vae_loss': 0.191, 'gen_loss': 0.156}, val={'g_nll': 0.441, 'g_kl': 0.002, 'g_elbo': 0.443, 'x_rna_nll': 0.116, 'x_rna_kl': 0.002, 'x_rna_elbo': 0.118, 'x_atac_nll': 0.055, 'x_atac_kl': 0.001, 'x_atac_elbo': 0.056, 'dsc_loss': 0.695, 'vae_loss': 0.192, 'gen_loss': 0.157}, 3.1s elapsed\n",
      "[INFO] SCGLUETrainer: [Epoch 20] train={'g_nll': 0.42, 'g_kl': 0.002, 'g_elbo': 0.422, 'x_rna_nll': 0.112, 'x_rna_kl': 0.001, 'x_rna_elbo': 0.113, 'x_atac_nll': 0.054, 'x_atac_kl': 0.001, 'x_atac_elbo': 0.055, 'dsc_loss': 0.692, 'vae_loss': 0.185, 'gen_loss': 0.151}, val={'g_nll': 0.419, 'g_kl': 0.003, 'g_elbo': 0.421, 'x_rna_nll': 0.116, 'x_rna_kl': 0.001, 'x_rna_elbo': 0.117, 'x_atac_nll': 0.056, 'x_atac_kl': 0.001, 'x_atac_elbo': 0.057, 'dsc_loss': 0.694, 'vae_loss': 0.191, 'gen_loss': 0.156}, 3.1s elapsed\n",
      "[INFO] SCGLUETrainer: [Epoch 30] train={'g_nll': 0.412, 'g_kl': 0.003, 'g_elbo': 0.415, 'x_rna_nll': 0.111, 'x_rna_kl': 0.001, 'x_rna_elbo': 0.112, 'x_atac_nll': 0.053, 'x_atac_kl': 0.001, 'x_atac_elbo': 0.054, 'dsc_loss': 0.692, 'vae_loss': 0.183, 'gen_loss': 0.148}, val={'g_nll': 0.411, 'g_kl': 0.003, 'g_elbo': 0.414, 'x_rna_nll': 0.114, 'x_rna_kl': 0.001, 'x_rna_elbo': 0.116, 'x_atac_nll': 0.055, 'x_atac_kl': 0.001, 'x_atac_elbo': 0.056, 'dsc_loss': 0.694, 'vae_loss': 0.188, 'gen_loss': 0.154}, 3.1s elapsed\n",
      "[INFO] SCGLUETrainer: [Epoch 40] train={'g_nll': 0.409, 'g_kl': 0.003, 'g_elbo': 0.412, 'x_rna_nll': 0.111, 'x_rna_kl': 0.001, 'x_rna_elbo': 0.112, 'x_atac_nll': 0.053, 'x_atac_kl': 0.001, 'x_atac_elbo': 0.054, 'dsc_loss': 0.691, 'vae_loss': 0.182, 'gen_loss': 0.148}, val={'g_nll': 0.407, 'g_kl': 0.003, 'g_elbo': 0.41, 'x_rna_nll': 0.114, 'x_rna_kl': 0.001, 'x_rna_elbo': 0.115, 'x_atac_nll': 0.055, 'x_atac_kl': 0.001, 'x_atac_elbo': 0.056, 'dsc_loss': 0.693, 'vae_loss': 0.187, 'gen_loss': 0.153}, 3.2s elapsed\n",
      "[INFO] SCGLUETrainer: [Epoch 50] train={'g_nll': 0.406, 'g_kl': 0.003, 'g_elbo': 0.409, 'x_rna_nll': 0.109, 'x_rna_kl': 0.001, 'x_rna_elbo': 0.11, 'x_atac_nll': 0.053, 'x_atac_kl': 0.001, 'x_atac_elbo': 0.054, 'dsc_loss': 0.692, 'vae_loss': 0.18, 'gen_loss': 0.146}, val={'g_nll': 0.406, 'g_kl': 0.003, 'g_elbo': 0.409, 'x_rna_nll': 0.114, 'x_rna_kl': 0.001, 'x_rna_elbo': 0.115, 'x_atac_nll': 0.055, 'x_atac_kl': 0.001, 'x_atac_elbo': 0.056, 'dsc_loss': 0.694, 'vae_loss': 0.188, 'gen_loss': 0.153}, 3.1s elapsed\n",
      "[INFO] SCGLUETrainer: [Epoch 60] train={'g_nll': 0.406, 'g_kl': 0.003, 'g_elbo': 0.409, 'x_rna_nll': 0.109, 'x_rna_kl': 0.001, 'x_rna_elbo': 0.111, 'x_atac_nll': 0.053, 'x_atac_kl': 0.001, 'x_atac_elbo': 0.054, 'dsc_loss': 0.692, 'vae_loss': 0.181, 'gen_loss': 0.146}, val={'g_nll': 0.405, 'g_kl': 0.003, 'g_elbo': 0.408, 'x_rna_nll': 0.115, 'x_rna_kl': 0.001, 'x_rna_elbo': 0.116, 'x_atac_nll': 0.054, 'x_atac_kl': 0.001, 'x_atac_elbo': 0.055, 'dsc_loss': 0.693, 'vae_loss': 0.188, 'gen_loss': 0.153}, 3.1s elapsed\n",
      "[INFO] SCGLUETrainer: [Epoch 70] train={'g_nll': 0.405, 'g_kl': 0.003, 'g_elbo': 0.408, 'x_rna_nll': 0.109, 'x_rna_kl': 0.001, 'x_rna_elbo': 0.11, 'x_atac_nll': 0.052, 'x_atac_kl': 0.001, 'x_atac_elbo': 0.053, 'dsc_loss': 0.692, 'vae_loss': 0.179, 'gen_loss': 0.145}, val={'g_nll': 0.404, 'g_kl': 0.003, 'g_elbo': 0.407, 'x_rna_nll': 0.113, 'x_rna_kl': 0.001, 'x_rna_elbo': 0.115, 'x_atac_nll': 0.055, 'x_atac_kl': 0.001, 'x_atac_elbo': 0.056, 'dsc_loss': 0.694, 'vae_loss': 0.187, 'gen_loss': 0.152}, 3.1s elapsed\n",
      "Epoch 00071: reducing learning rate of group 0 to 2.0000e-04.\n",
      "Epoch 00071: reducing learning rate of group 0 to 2.0000e-04.\n",
      "[INFO] LRScheduler: Learning rate reduction: step 1\n",
      "[INFO] SCGLUETrainer: [Epoch 80] train={'g_nll': 0.403, 'g_kl': 0.003, 'g_elbo': 0.406, 'x_rna_nll': 0.109, 'x_rna_kl': 0.001, 'x_rna_elbo': 0.11, 'x_atac_nll': 0.052, 'x_atac_kl': 0.001, 'x_atac_elbo': 0.053, 'dsc_loss': 0.692, 'vae_loss': 0.179, 'gen_loss': 0.145}, val={'g_nll': 0.403, 'g_kl': 0.003, 'g_elbo': 0.406, 'x_rna_nll': 0.114, 'x_rna_kl': 0.001, 'x_rna_elbo': 0.115, 'x_atac_nll': 0.056, 'x_atac_kl': 0.001, 'x_atac_elbo': 0.057, 'dsc_loss': 0.692, 'vae_loss': 0.188, 'gen_loss': 0.154}, 3.0s elapsed\n",
      "[INFO] SCGLUETrainer: [Epoch 90] train={'g_nll': 0.403, 'g_kl': 0.003, 'g_elbo': 0.406, 'x_rna_nll': 0.108, 'x_rna_kl': 0.001, 'x_rna_elbo': 0.11, 'x_atac_nll': 0.052, 'x_atac_kl': 0.001, 'x_atac_elbo': 0.053, 'dsc_loss': 0.693, 'vae_loss': 0.179, 'gen_loss': 0.144}, val={'g_nll': 0.404, 'g_kl': 0.003, 'g_elbo': 0.407, 'x_rna_nll': 0.113, 'x_rna_kl': 0.001, 'x_rna_elbo': 0.114, 'x_atac_nll': 0.056, 'x_atac_kl': 0.001, 'x_atac_elbo': 0.057, 'dsc_loss': 0.693, 'vae_loss': 0.187, 'gen_loss': 0.153}, 3.1s elapsed\n",
      "Epoch 00090: reducing learning rate of group 0 to 2.0000e-05.\n",
      "Epoch 00090: reducing learning rate of group 0 to 2.0000e-05.\n",
      "[INFO] LRScheduler: Learning rate reduction: step 2\n",
      "[INFO] SCGLUETrainer: [Epoch 100] train={'g_nll': 0.403, 'g_kl': 0.003, 'g_elbo': 0.406, 'x_rna_nll': 0.109, 'x_rna_kl': 0.001, 'x_rna_elbo': 0.11, 'x_atac_nll': 0.052, 'x_atac_kl': 0.001, 'x_atac_elbo': 0.053, 'dsc_loss': 0.692, 'vae_loss': 0.179, 'gen_loss': 0.145}, val={'g_nll': 0.403, 'g_kl': 0.003, 'g_elbo': 0.406, 'x_rna_nll': 0.114, 'x_rna_kl': 0.001, 'x_rna_elbo': 0.115, 'x_atac_nll': 0.056, 'x_atac_kl': 0.001, 'x_atac_elbo': 0.057, 'dsc_loss': 0.692, 'vae_loss': 0.188, 'gen_loss': 0.153}, 3.1s elapsed\n",
      "Epoch 00109: reducing learning rate of group 0 to 2.0000e-06.\n",
      "Epoch 00109: reducing learning rate of group 0 to 2.0000e-06.\n",
      "[INFO] LRScheduler: Learning rate reduction: step 3\n",
      "[INFO] SCGLUETrainer: [Epoch 110] train={'g_nll': 0.403, 'g_kl': 0.003, 'g_elbo': 0.406, 'x_rna_nll': 0.109, 'x_rna_kl': 0.001, 'x_rna_elbo': 0.111, 'x_atac_nll': 0.052, 'x_atac_kl': 0.001, 'x_atac_elbo': 0.053, 'dsc_loss': 0.692, 'vae_loss': 0.18, 'gen_loss': 0.145}, val={'g_nll': 0.403, 'g_kl': 0.003, 'g_elbo': 0.406, 'x_rna_nll': 0.115, 'x_rna_kl': 0.001, 'x_rna_elbo': 0.117, 'x_atac_nll': 0.054, 'x_atac_kl': 0.001, 'x_atac_elbo': 0.055, 'dsc_loss': 0.692, 'vae_loss': 0.188, 'gen_loss': 0.153}, 3.1s elapsed\n",
      "[INFO] SCGLUETrainer: [Epoch 120] train={'g_nll': 0.403, 'g_kl': 0.003, 'g_elbo': 0.406, 'x_rna_nll': 0.109, 'x_rna_kl': 0.001, 'x_rna_elbo': 0.11, 'x_atac_nll': 0.052, 'x_atac_kl': 0.001, 'x_atac_elbo': 0.053, 'dsc_loss': 0.692, 'vae_loss': 0.18, 'gen_loss': 0.145}, val={'g_nll': 0.403, 'g_kl': 0.003, 'g_elbo': 0.406, 'x_rna_nll': 0.114, 'x_rna_kl': 0.001, 'x_rna_elbo': 0.115, 'x_atac_nll': 0.055, 'x_atac_kl': 0.001, 'x_atac_elbo': 0.056, 'dsc_loss': 0.692, 'vae_loss': 0.188, 'gen_loss': 0.153}, 3.1s elapsed\n"
     ]
    },
    {
     "name": "stderr",
     "output_type": "stream",
     "text": [
      "2024-02-01 20:50:16,246 ignite.handlers.early_stopping.EarlyStopping INFO: EarlyStopping: Stop training\n"
     ]
    },
    {
     "name": "stdout",
     "output_type": "stream",
     "text": [
      "[INFO] EarlyStopping: Restoring checkpoint \"111\"...\n",
      "[INFO] EarlyStopping: Restoring checkpoint \"111\"...\n",
      "[INFO] fit_SCGLUE: Estimating balancing weight...\n",
      "[INFO] estimate_balancing_weight: Clustering cells...\n",
      "[INFO] estimate_balancing_weight: Matching clusters...\n",
      "[INFO] estimate_balancing_weight: Matching array shape = (14, 9)...\n",
      "[INFO] estimate_balancing_weight: Estimating balancing weight...\n",
      "[INFO] fit_SCGLUE: Fine-tuning SCGLUE model...\n",
      "[INFO] check_graph: Checking variable coverage...\n",
      "[INFO] check_graph: Checking edge attributes...\n",
      "[INFO] check_graph: Checking self-loops...\n",
      "[INFO] check_graph: Checking graph symmetry...\n",
      "[INFO] SCGLUEModel: Setting `graph_batch_size` = 49723\n",
      "[INFO] SCGLUEModel: Setting `align_burnin` = 72\n",
      "[INFO] SCGLUEModel: Setting `max_epochs` = 427\n",
      "[INFO] SCGLUEModel: Setting `patience` = 36\n",
      "[INFO] SCGLUEModel: Setting `reduce_lr_patience` = 18\n",
      "[INFO] SCGLUETrainer: Using training directory: \"glue/fine-tune\"\n",
      "[INFO] SCGLUETrainer: [Epoch 10] train={'g_nll': 0.402, 'g_kl': 0.003, 'g_elbo': 0.405, 'x_rna_nll': 0.11, 'x_rna_kl': 0.001, 'x_rna_elbo': 0.111, 'x_atac_nll': 0.052, 'x_atac_kl': 0.001, 'x_atac_elbo': 0.053, 'dsc_loss': 0.693, 'vae_loss': 0.18, 'gen_loss': 0.146}, val={'g_nll': 0.402, 'g_kl': 0.003, 'g_elbo': 0.405, 'x_rna_nll': 0.11, 'x_rna_kl': 0.001, 'x_rna_elbo': 0.111, 'x_atac_nll': 0.054, 'x_atac_kl': 0.001, 'x_atac_elbo': 0.055, 'dsc_loss': 0.688, 'vae_loss': 0.182, 'gen_loss': 0.148}, 3.1s elapsed\n",
      "[INFO] SCGLUETrainer: [Epoch 20] train={'g_nll': 0.399, 'g_kl': 0.003, 'g_elbo': 0.402, 'x_rna_nll': 0.109, 'x_rna_kl': 0.001, 'x_rna_elbo': 0.11, 'x_atac_nll': 0.052, 'x_atac_kl': 0.001, 'x_atac_elbo': 0.053, 'dsc_loss': 0.693, 'vae_loss': 0.179, 'gen_loss': 0.145}, val={'g_nll': 0.399, 'g_kl': 0.003, 'g_elbo': 0.402, 'x_rna_nll': 0.111, 'x_rna_kl': 0.001, 'x_rna_elbo': 0.112, 'x_atac_nll': 0.054, 'x_atac_kl': 0.001, 'x_atac_elbo': 0.055, 'dsc_loss': 0.695, 'vae_loss': 0.184, 'gen_loss': 0.149}, 3.1s elapsed\n",
      "[INFO] SCGLUETrainer: [Epoch 30] train={'g_nll': 0.394, 'g_kl': 0.003, 'g_elbo': 0.397, 'x_rna_nll': 0.109, 'x_rna_kl': 0.001, 'x_rna_elbo': 0.111, 'x_atac_nll': 0.052, 'x_atac_kl': 0.001, 'x_atac_elbo': 0.053, 'dsc_loss': 0.689, 'vae_loss': 0.179, 'gen_loss': 0.145}, val={'g_nll': 0.394, 'g_kl': 0.003, 'g_elbo': 0.397, 'x_rna_nll': 0.111, 'x_rna_kl': 0.001, 'x_rna_elbo': 0.113, 'x_atac_nll': 0.056, 'x_atac_kl': 0.001, 'x_atac_elbo': 0.057, 'dsc_loss': 0.696, 'vae_loss': 0.185, 'gen_loss': 0.15}, 3.1s elapsed\n",
      "[INFO] SCGLUETrainer: [Epoch 40] train={'g_nll': 0.392, 'g_kl': 0.003, 'g_elbo': 0.395, 'x_rna_nll': 0.109, 'x_rna_kl': 0.001, 'x_rna_elbo': 0.11, 'x_atac_nll': 0.052, 'x_atac_kl': 0.001, 'x_atac_elbo': 0.052, 'dsc_loss': 0.694, 'vae_loss': 0.178, 'gen_loss': 0.144}, val={'g_nll': 0.392, 'g_kl': 0.003, 'g_elbo': 0.395, 'x_rna_nll': 0.112, 'x_rna_kl': 0.001, 'x_rna_elbo': 0.113, 'x_atac_nll': 0.055, 'x_atac_kl': 0.001, 'x_atac_elbo': 0.056, 'dsc_loss': 0.692, 'vae_loss': 0.184, 'gen_loss': 0.15}, 3.1s elapsed\n",
      "[INFO] SCGLUETrainer: [Epoch 50] train={'g_nll': 0.39, 'g_kl': 0.003, 'g_elbo': 0.393, 'x_rna_nll': 0.108, 'x_rna_kl': 0.001, 'x_rna_elbo': 0.11, 'x_atac_nll': 0.052, 'x_atac_kl': 0.001, 'x_atac_elbo': 0.053, 'dsc_loss': 0.694, 'vae_loss': 0.178, 'gen_loss': 0.143}, val={'g_nll': 0.389, 'g_kl': 0.003, 'g_elbo': 0.393, 'x_rna_nll': 0.111, 'x_rna_kl': 0.001, 'x_rna_elbo': 0.113, 'x_atac_nll': 0.055, 'x_atac_kl': 0.001, 'x_atac_elbo': 0.056, 'dsc_loss': 0.69, 'vae_loss': 0.184, 'gen_loss': 0.149}, 3.1s elapsed\n",
      "[INFO] SCGLUETrainer: [Epoch 60] train={'g_nll': 0.389, 'g_kl': 0.003, 'g_elbo': 0.392, 'x_rna_nll': 0.109, 'x_rna_kl': 0.001, 'x_rna_elbo': 0.11, 'x_atac_nll': 0.051, 'x_atac_kl': 0.001, 'x_atac_elbo': 0.052, 'dsc_loss': 0.691, 'vae_loss': 0.178, 'gen_loss': 0.144}, val={'g_nll': 0.388, 'g_kl': 0.003, 'g_elbo': 0.391, 'x_rna_nll': 0.112, 'x_rna_kl': 0.001, 'x_rna_elbo': 0.113, 'x_atac_nll': 0.056, 'x_atac_kl': 0.001, 'x_atac_elbo': 0.057, 'dsc_loss': 0.698, 'vae_loss': 0.186, 'gen_loss': 0.151}, 3.1s elapsed\n",
      "[INFO] SCGLUETrainer: [Epoch 70] train={'g_nll': 0.388, 'g_kl': 0.003, 'g_elbo': 0.391, 'x_rna_nll': 0.108, 'x_rna_kl': 0.001, 'x_rna_elbo': 0.11, 'x_atac_nll': 0.052, 'x_atac_kl': 0.001, 'x_atac_elbo': 0.053, 'dsc_loss': 0.688, 'vae_loss': 0.178, 'gen_loss': 0.144}, val={'g_nll': 0.387, 'g_kl': 0.003, 'g_elbo': 0.39, 'x_rna_nll': 0.112, 'x_rna_kl': 0.001, 'x_rna_elbo': 0.113, 'x_atac_nll': 0.054, 'x_atac_kl': 0.001, 'x_atac_elbo': 0.055, 'dsc_loss': 0.697, 'vae_loss': 0.184, 'gen_loss': 0.149}, 3.1s elapsed\n",
      "[INFO] SCGLUETrainer: [Epoch 80] train={'g_nll': 0.387, 'g_kl': 0.003, 'g_elbo': 0.39, 'x_rna_nll': 0.108, 'x_rna_kl': 0.001, 'x_rna_elbo': 0.11, 'x_atac_nll': 0.052, 'x_atac_kl': 0.001, 'x_atac_elbo': 0.052, 'dsc_loss': 0.69, 'vae_loss': 0.178, 'gen_loss': 0.143}, val={'g_nll': 0.387, 'g_kl': 0.003, 'g_elbo': 0.39, 'x_rna_nll': 0.111, 'x_rna_kl': 0.001, 'x_rna_elbo': 0.112, 'x_atac_nll': 0.055, 'x_atac_kl': 0.001, 'x_atac_elbo': 0.056, 'dsc_loss': 0.693, 'vae_loss': 0.184, 'gen_loss': 0.149}, 3.0s elapsed\n",
      "[INFO] SCGLUETrainer: [Epoch 90] train={'g_nll': 0.386, 'g_kl': 0.003, 'g_elbo': 0.389, 'x_rna_nll': 0.109, 'x_rna_kl': 0.001, 'x_rna_elbo': 0.11, 'x_atac_nll': 0.051, 'x_atac_kl': 0.001, 'x_atac_elbo': 0.052, 'dsc_loss': 0.685, 'vae_loss': 0.178, 'gen_loss': 0.143}, val={'g_nll': 0.386, 'g_kl': 0.003, 'g_elbo': 0.389, 'x_rna_nll': 0.111, 'x_rna_kl': 0.001, 'x_rna_elbo': 0.112, 'x_atac_nll': 0.055, 'x_atac_kl': 0.001, 'x_atac_elbo': 0.056, 'dsc_loss': 0.692, 'vae_loss': 0.184, 'gen_loss': 0.149}, 3.0s elapsed\n",
      "[INFO] SCGLUETrainer: [Epoch 100] train={'g_nll': 0.385, 'g_kl': 0.003, 'g_elbo': 0.388, 'x_rna_nll': 0.108, 'x_rna_kl': 0.001, 'x_rna_elbo': 0.11, 'x_atac_nll': 0.051, 'x_atac_kl': 0.001, 'x_atac_elbo': 0.052, 'dsc_loss': 0.69, 'vae_loss': 0.178, 'gen_loss': 0.143}, val={'g_nll': 0.386, 'g_kl': 0.003, 'g_elbo': 0.389, 'x_rna_nll': 0.113, 'x_rna_kl': 0.001, 'x_rna_elbo': 0.114, 'x_atac_nll': 0.056, 'x_atac_kl': 0.001, 'x_atac_elbo': 0.057, 'dsc_loss': 0.698, 'vae_loss': 0.186, 'gen_loss': 0.151}, 3.0s elapsed\n",
      "[INFO] SCGLUETrainer: [Epoch 110] train={'g_nll': 0.385, 'g_kl': 0.003, 'g_elbo': 0.388, 'x_rna_nll': 0.108, 'x_rna_kl': 0.001, 'x_rna_elbo': 0.109, 'x_atac_nll': 0.051, 'x_atac_kl': 0.001, 'x_atac_elbo': 0.052, 'dsc_loss': 0.691, 'vae_loss': 0.177, 'gen_loss': 0.142}, val={'g_nll': 0.385, 'g_kl': 0.003, 'g_elbo': 0.388, 'x_rna_nll': 0.113, 'x_rna_kl': 0.001, 'x_rna_elbo': 0.114, 'x_atac_nll': 0.055, 'x_atac_kl': 0.001, 'x_atac_elbo': 0.055, 'dsc_loss': 0.679, 'vae_loss': 0.185, 'gen_loss': 0.151}, 3.0s elapsed\n",
      "Epoch 00114: reducing learning rate of group 0 to 2.0000e-04.\n",
      "Epoch 00114: reducing learning rate of group 0 to 2.0000e-04.\n",
      "[INFO] LRScheduler: Learning rate reduction: step 1\n",
      "[INFO] SCGLUETrainer: [Epoch 120] train={'g_nll': 0.38, 'g_kl': 0.003, 'g_elbo': 0.384, 'x_rna_nll': 0.108, 'x_rna_kl': 0.001, 'x_rna_elbo': 0.109, 'x_atac_nll': 0.051, 'x_atac_kl': 0.001, 'x_atac_elbo': 0.052, 'dsc_loss': 0.69, 'vae_loss': 0.177, 'gen_loss': 0.142}, val={'g_nll': 0.38, 'g_kl': 0.003, 'g_elbo': 0.383, 'x_rna_nll': 0.115, 'x_rna_kl': 0.001, 'x_rna_elbo': 0.116, 'x_atac_nll': 0.054, 'x_atac_kl': 0.001, 'x_atac_elbo': 0.055, 'dsc_loss': 0.695, 'vae_loss': 0.186, 'gen_loss': 0.152}, 3.0s elapsed\n",
      "[INFO] SCGLUETrainer: [Epoch 130] train={'g_nll': 0.379, 'g_kl': 0.003, 'g_elbo': 0.382, 'x_rna_nll': 0.108, 'x_rna_kl': 0.001, 'x_rna_elbo': 0.11, 'x_atac_nll': 0.051, 'x_atac_kl': 0.001, 'x_atac_elbo': 0.052, 'dsc_loss': 0.693, 'vae_loss': 0.177, 'gen_loss': 0.143}, val={'g_nll': 0.379, 'g_kl': 0.003, 'g_elbo': 0.382, 'x_rna_nll': 0.113, 'x_rna_kl': 0.001, 'x_rna_elbo': 0.114, 'x_atac_nll': 0.056, 'x_atac_kl': 0.001, 'x_atac_elbo': 0.057, 'dsc_loss': 0.676, 'vae_loss': 0.187, 'gen_loss': 0.153}, 3.0s elapsed\n",
      "Epoch 00137: reducing learning rate of group 0 to 2.0000e-05.\n",
      "Epoch 00137: reducing learning rate of group 0 to 2.0000e-05.\n",
      "[INFO] LRScheduler: Learning rate reduction: step 2\n",
      "[INFO] SCGLUETrainer: [Epoch 140] train={'g_nll': 0.378, 'g_kl': 0.003, 'g_elbo': 0.381, 'x_rna_nll': 0.108, 'x_rna_kl': 0.001, 'x_rna_elbo': 0.109, 'x_atac_nll': 0.051, 'x_atac_kl': 0.001, 'x_atac_elbo': 0.052, 'dsc_loss': 0.687, 'vae_loss': 0.177, 'gen_loss': 0.142}, val={'g_nll': 0.377, 'g_kl': 0.003, 'g_elbo': 0.381, 'x_rna_nll': 0.112, 'x_rna_kl': 0.001, 'x_rna_elbo': 0.113, 'x_atac_nll': 0.054, 'x_atac_kl': 0.001, 'x_atac_elbo': 0.055, 'dsc_loss': 0.688, 'vae_loss': 0.183, 'gen_loss': 0.149}, 3.1s elapsed\n",
      "[INFO] SCGLUETrainer: [Epoch 150] train={'g_nll': 0.378, 'g_kl': 0.003, 'g_elbo': 0.382, 'x_rna_nll': 0.108, 'x_rna_kl': 0.001, 'x_rna_elbo': 0.11, 'x_atac_nll': 0.051, 'x_atac_kl': 0.001, 'x_atac_elbo': 0.052, 'dsc_loss': 0.689, 'vae_loss': 0.177, 'gen_loss': 0.142}, val={'g_nll': 0.378, 'g_kl': 0.003, 'g_elbo': 0.382, 'x_rna_nll': 0.113, 'x_rna_kl': 0.001, 'x_rna_elbo': 0.114, 'x_atac_nll': 0.055, 'x_atac_kl': 0.001, 'x_atac_elbo': 0.056, 'dsc_loss': 0.691, 'vae_loss': 0.185, 'gen_loss': 0.151}, 3.0s elapsed\n"
     ]
    },
    {
     "name": "stderr",
     "output_type": "stream",
     "text": [
      "2024-02-01 20:58:46,036 ignite.handlers.early_stopping.EarlyStopping INFO: EarlyStopping: Stop training\n"
     ]
    },
    {
     "name": "stdout",
     "output_type": "stream",
     "text": [
      "[INFO] EarlyStopping: Restoring checkpoint \"137\"...\n",
      "[INFO] EarlyStopping: Restoring checkpoint \"137\"...\n"
     ]
    },
    {
     "name": "stderr",
     "output_type": "stream",
     "text": [
      "[WARNING] configure_dataset: `configure_dataset` has already been called. Previous configuration will be overwritten!\n"
     ]
    },
    {
     "name": "stdout",
     "output_type": "stream",
     "text": [
      "[INFO] fit_SCGLUE: Pretraining SCGLUE model...\n",
      "[INFO] check_graph: Checking variable coverage...\n",
      "[INFO] check_graph: Checking edge attributes...\n",
      "[INFO] check_graph: Checking self-loops...\n",
      "[INFO] check_graph: Checking graph symmetry...\n",
      "[INFO] SCGLUEModel: Setting `graph_batch_size` = 49723\n",
      "[INFO] SCGLUEModel: Setting `max_epochs` = 427\n",
      "[INFO] SCGLUEModel: Setting `patience` = 36\n",
      "[INFO] SCGLUEModel: Setting `reduce_lr_patience` = 18\n",
      "[INFO] SCGLUETrainer: Using training directory: \"glue/pretrain\"\n",
      "[INFO] SCGLUETrainer: [Epoch 10] train={'g_nll': 0.444, 'g_kl': 0.002, 'g_elbo': 0.446, 'x_rna_nll': 0.115, 'x_rna_kl': 0.002, 'x_rna_elbo': 0.117, 'x_atac_nll': 0.055, 'x_atac_kl': 0.001, 'x_atac_elbo': 0.056, 'dsc_loss': 0.691, 'vae_loss': 0.191, 'gen_loss': 0.156}, val={'g_nll': 0.443, 'g_kl': 0.002, 'g_elbo': 0.445, 'x_rna_nll': 0.116, 'x_rna_kl': 0.002, 'x_rna_elbo': 0.118, 'x_atac_nll': 0.055, 'x_atac_kl': 0.001, 'x_atac_elbo': 0.056, 'dsc_loss': 0.699, 'vae_loss': 0.192, 'gen_loss': 0.157}, 3.2s elapsed\n",
      "[INFO] SCGLUETrainer: [Epoch 20] train={'g_nll': 0.42, 'g_kl': 0.002, 'g_elbo': 0.423, 'x_rna_nll': 0.112, 'x_rna_kl': 0.001, 'x_rna_elbo': 0.113, 'x_atac_nll': 0.055, 'x_atac_kl': 0.001, 'x_atac_elbo': 0.055, 'dsc_loss': 0.692, 'vae_loss': 0.186, 'gen_loss': 0.151}, val={'g_nll': 0.42, 'g_kl': 0.002, 'g_elbo': 0.422, 'x_rna_nll': 0.116, 'x_rna_kl': 0.001, 'x_rna_elbo': 0.117, 'x_atac_nll': 0.056, 'x_atac_kl': 0.001, 'x_atac_elbo': 0.057, 'dsc_loss': 0.693, 'vae_loss': 0.191, 'gen_loss': 0.156}, 3.1s elapsed\n",
      "[INFO] SCGLUETrainer: [Epoch 30] train={'g_nll': 0.413, 'g_kl': 0.003, 'g_elbo': 0.416, 'x_rna_nll': 0.111, 'x_rna_kl': 0.001, 'x_rna_elbo': 0.112, 'x_atac_nll': 0.054, 'x_atac_kl': 0.001, 'x_atac_elbo': 0.054, 'dsc_loss': 0.692, 'vae_loss': 0.183, 'gen_loss': 0.148}, val={'g_nll': 0.412, 'g_kl': 0.003, 'g_elbo': 0.415, 'x_rna_nll': 0.115, 'x_rna_kl': 0.001, 'x_rna_elbo': 0.116, 'x_atac_nll': 0.055, 'x_atac_kl': 0.001, 'x_atac_elbo': 0.056, 'dsc_loss': 0.694, 'vae_loss': 0.188, 'gen_loss': 0.154}, 3.2s elapsed\n",
      "[INFO] SCGLUETrainer: [Epoch 40] train={'g_nll': 0.409, 'g_kl': 0.003, 'g_elbo': 0.412, 'x_rna_nll': 0.11, 'x_rna_kl': 0.001, 'x_rna_elbo': 0.112, 'x_atac_nll': 0.054, 'x_atac_kl': 0.001, 'x_atac_elbo': 0.054, 'dsc_loss': 0.693, 'vae_loss': 0.182, 'gen_loss': 0.148}, val={'g_nll': 0.408, 'g_kl': 0.003, 'g_elbo': 0.411, 'x_rna_nll': 0.114, 'x_rna_kl': 0.001, 'x_rna_elbo': 0.115, 'x_atac_nll': 0.055, 'x_atac_kl': 0.001, 'x_atac_elbo': 0.056, 'dsc_loss': 0.693, 'vae_loss': 0.187, 'gen_loss': 0.153}, 3.1s elapsed\n",
      "[INFO] SCGLUETrainer: [Epoch 50] train={'g_nll': 0.406, 'g_kl': 0.003, 'g_elbo': 0.409, 'x_rna_nll': 0.109, 'x_rna_kl': 0.001, 'x_rna_elbo': 0.11, 'x_atac_nll': 0.053, 'x_atac_kl': 0.001, 'x_atac_elbo': 0.054, 'dsc_loss': 0.692, 'vae_loss': 0.181, 'gen_loss': 0.146}, val={'g_nll': 0.406, 'g_kl': 0.003, 'g_elbo': 0.409, 'x_rna_nll': 0.114, 'x_rna_kl': 0.001, 'x_rna_elbo': 0.115, 'x_atac_nll': 0.055, 'x_atac_kl': 0.001, 'x_atac_elbo': 0.056, 'dsc_loss': 0.694, 'vae_loss': 0.187, 'gen_loss': 0.153}, 3.1s elapsed\n",
      "[INFO] SCGLUETrainer: [Epoch 60] train={'g_nll': 0.404, 'g_kl': 0.003, 'g_elbo': 0.407, 'x_rna_nll': 0.109, 'x_rna_kl': 0.001, 'x_rna_elbo': 0.111, 'x_atac_nll': 0.053, 'x_atac_kl': 0.001, 'x_atac_elbo': 0.054, 'dsc_loss': 0.692, 'vae_loss': 0.181, 'gen_loss': 0.146}, val={'g_nll': 0.403, 'g_kl': 0.003, 'g_elbo': 0.406, 'x_rna_nll': 0.115, 'x_rna_kl': 0.001, 'x_rna_elbo': 0.116, 'x_atac_nll': 0.054, 'x_atac_kl': 0.001, 'x_atac_elbo': 0.055, 'dsc_loss': 0.694, 'vae_loss': 0.187, 'gen_loss': 0.153}, 3.1s elapsed\n",
      "[INFO] SCGLUETrainer: [Epoch 70] train={'g_nll': 0.402, 'g_kl': 0.003, 'g_elbo': 0.405, 'x_rna_nll': 0.109, 'x_rna_kl': 0.001, 'x_rna_elbo': 0.11, 'x_atac_nll': 0.053, 'x_atac_kl': 0.001, 'x_atac_elbo': 0.053, 'dsc_loss': 0.693, 'vae_loss': 0.18, 'gen_loss': 0.145}, val={'g_nll': 0.402, 'g_kl': 0.003, 'g_elbo': 0.405, 'x_rna_nll': 0.113, 'x_rna_kl': 0.001, 'x_rna_elbo': 0.115, 'x_atac_nll': 0.055, 'x_atac_kl': 0.001, 'x_atac_elbo': 0.056, 'dsc_loss': 0.694, 'vae_loss': 0.187, 'gen_loss': 0.152}, 3.1s elapsed\n",
      "Epoch 00071: reducing learning rate of group 0 to 2.0000e-04.\n",
      "Epoch 00071: reducing learning rate of group 0 to 2.0000e-04.\n",
      "[INFO] LRScheduler: Learning rate reduction: step 1\n",
      "[INFO] SCGLUETrainer: [Epoch 80] train={'g_nll': 0.4, 'g_kl': 0.003, 'g_elbo': 0.403, 'x_rna_nll': 0.109, 'x_rna_kl': 0.001, 'x_rna_elbo': 0.11, 'x_atac_nll': 0.053, 'x_atac_kl': 0.001, 'x_atac_elbo': 0.053, 'dsc_loss': 0.693, 'vae_loss': 0.18, 'gen_loss': 0.145}, val={'g_nll': 0.4, 'g_kl': 0.003, 'g_elbo': 0.403, 'x_rna_nll': 0.114, 'x_rna_kl': 0.001, 'x_rna_elbo': 0.115, 'x_atac_nll': 0.056, 'x_atac_kl': 0.001, 'x_atac_elbo': 0.057, 'dsc_loss': 0.692, 'vae_loss': 0.188, 'gen_loss': 0.154}, 3.2s elapsed\n",
      "[INFO] SCGLUETrainer: [Epoch 90] train={'g_nll': 0.399, 'g_kl': 0.003, 'g_elbo': 0.401, 'x_rna_nll': 0.108, 'x_rna_kl': 0.001, 'x_rna_elbo': 0.11, 'x_atac_nll': 0.053, 'x_atac_kl': 0.001, 'x_atac_elbo': 0.053, 'dsc_loss': 0.693, 'vae_loss': 0.179, 'gen_loss': 0.144}, val={'g_nll': 0.399, 'g_kl': 0.003, 'g_elbo': 0.402, 'x_rna_nll': 0.113, 'x_rna_kl': 0.001, 'x_rna_elbo': 0.114, 'x_atac_nll': 0.056, 'x_atac_kl': 0.001, 'x_atac_elbo': 0.057, 'dsc_loss': 0.692, 'vae_loss': 0.187, 'gen_loss': 0.152}, 3.1s elapsed\n",
      "Epoch 00090: reducing learning rate of group 0 to 2.0000e-05.\n",
      "Epoch 00090: reducing learning rate of group 0 to 2.0000e-05.\n",
      "[INFO] LRScheduler: Learning rate reduction: step 2\n",
      "[INFO] SCGLUETrainer: [Epoch 100] train={'g_nll': 0.398, 'g_kl': 0.003, 'g_elbo': 0.401, 'x_rna_nll': 0.109, 'x_rna_kl': 0.001, 'x_rna_elbo': 0.11, 'x_atac_nll': 0.053, 'x_atac_kl': 0.001, 'x_atac_elbo': 0.054, 'dsc_loss': 0.693, 'vae_loss': 0.18, 'gen_loss': 0.145}, val={'g_nll': 0.399, 'g_kl': 0.003, 'g_elbo': 0.402, 'x_rna_nll': 0.113, 'x_rna_kl': 0.001, 'x_rna_elbo': 0.115, 'x_atac_nll': 0.056, 'x_atac_kl': 0.001, 'x_atac_elbo': 0.057, 'dsc_loss': 0.692, 'vae_loss': 0.188, 'gen_loss': 0.153}, 3.1s elapsed\n",
      "Epoch 00109: reducing learning rate of group 0 to 2.0000e-06.\n",
      "Epoch 00109: reducing learning rate of group 0 to 2.0000e-06.\n",
      "[INFO] LRScheduler: Learning rate reduction: step 3\n",
      "[INFO] SCGLUETrainer: [Epoch 110] train={'g_nll': 0.398, 'g_kl': 0.003, 'g_elbo': 0.401, 'x_rna_nll': 0.109, 'x_rna_kl': 0.001, 'x_rna_elbo': 0.111, 'x_atac_nll': 0.053, 'x_atac_kl': 0.001, 'x_atac_elbo': 0.054, 'dsc_loss': 0.692, 'vae_loss': 0.18, 'gen_loss': 0.146}, val={'g_nll': 0.398, 'g_kl': 0.003, 'g_elbo': 0.401, 'x_rna_nll': 0.115, 'x_rna_kl': 0.001, 'x_rna_elbo': 0.117, 'x_atac_nll': 0.054, 'x_atac_kl': 0.001, 'x_atac_elbo': 0.055, 'dsc_loss': 0.692, 'vae_loss': 0.188, 'gen_loss': 0.153}, 3.2s elapsed\n",
      "[INFO] SCGLUETrainer: [Epoch 120] train={'g_nll': 0.399, 'g_kl': 0.003, 'g_elbo': 0.402, 'x_rna_nll': 0.109, 'x_rna_kl': 0.001, 'x_rna_elbo': 0.11, 'x_atac_nll': 0.053, 'x_atac_kl': 0.001, 'x_atac_elbo': 0.054, 'dsc_loss': 0.692, 'vae_loss': 0.18, 'gen_loss': 0.146}, val={'g_nll': 0.399, 'g_kl': 0.003, 'g_elbo': 0.402, 'x_rna_nll': 0.114, 'x_rna_kl': 0.001, 'x_rna_elbo': 0.115, 'x_atac_nll': 0.055, 'x_atac_kl': 0.001, 'x_atac_elbo': 0.056, 'dsc_loss': 0.692, 'vae_loss': 0.188, 'gen_loss': 0.153}, 3.1s elapsed\n"
     ]
    },
    {
     "name": "stderr",
     "output_type": "stream",
     "text": [
      "2024-02-01 21:05:41,749 ignite.handlers.early_stopping.EarlyStopping INFO: EarlyStopping: Stop training\n"
     ]
    },
    {
     "name": "stdout",
     "output_type": "stream",
     "text": [
      "[INFO] EarlyStopping: Restoring checkpoint \"111\"...\n",
      "[INFO] EarlyStopping: Restoring checkpoint \"111\"...\n",
      "[INFO] fit_SCGLUE: Estimating balancing weight...\n",
      "[INFO] estimate_balancing_weight: Clustering cells...\n",
      "[INFO] estimate_balancing_weight: Matching clusters...\n",
      "[INFO] estimate_balancing_weight: Matching array shape = (16, 10)...\n",
      "[INFO] estimate_balancing_weight: Estimating balancing weight...\n",
      "[INFO] fit_SCGLUE: Fine-tuning SCGLUE model...\n",
      "[INFO] check_graph: Checking variable coverage...\n",
      "[INFO] check_graph: Checking edge attributes...\n",
      "[INFO] check_graph: Checking self-loops...\n",
      "[INFO] check_graph: Checking graph symmetry...\n",
      "[INFO] SCGLUEModel: Setting `graph_batch_size` = 49723\n",
      "[INFO] SCGLUEModel: Setting `align_burnin` = 72\n",
      "[INFO] SCGLUEModel: Setting `max_epochs` = 427\n",
      "[INFO] SCGLUEModel: Setting `patience` = 36\n",
      "[INFO] SCGLUEModel: Setting `reduce_lr_patience` = 18\n",
      "[INFO] SCGLUETrainer: Using training directory: \"glue/fine-tune\"\n",
      "[INFO] SCGLUETrainer: [Epoch 10] train={'g_nll': 0.397, 'g_kl': 0.003, 'g_elbo': 0.4, 'x_rna_nll': 0.11, 'x_rna_kl': 0.001, 'x_rna_elbo': 0.111, 'x_atac_nll': 0.053, 'x_atac_kl': 0.001, 'x_atac_elbo': 0.054, 'dsc_loss': 0.69, 'vae_loss': 0.181, 'gen_loss': 0.146}, val={'g_nll': 0.397, 'g_kl': 0.003, 'g_elbo': 0.4, 'x_rna_nll': 0.11, 'x_rna_kl': 0.001, 'x_rna_elbo': 0.111, 'x_atac_nll': 0.054, 'x_atac_kl': 0.001, 'x_atac_elbo': 0.055, 'dsc_loss': 0.707, 'vae_loss': 0.182, 'gen_loss': 0.147}, 3.1s elapsed\n",
      "[INFO] SCGLUETrainer: [Epoch 20] train={'g_nll': 0.394, 'g_kl': 0.003, 'g_elbo': 0.397, 'x_rna_nll': 0.109, 'x_rna_kl': 0.001, 'x_rna_elbo': 0.11, 'x_atac_nll': 0.053, 'x_atac_kl': 0.001, 'x_atac_elbo': 0.053, 'dsc_loss': 0.692, 'vae_loss': 0.18, 'gen_loss': 0.145}, val={'g_nll': 0.394, 'g_kl': 0.003, 'g_elbo': 0.397, 'x_rna_nll': 0.111, 'x_rna_kl': 0.001, 'x_rna_elbo': 0.112, 'x_atac_nll': 0.055, 'x_atac_kl': 0.001, 'x_atac_elbo': 0.055, 'dsc_loss': 0.674, 'vae_loss': 0.183, 'gen_loss': 0.15}, 3.1s elapsed\n",
      "[INFO] SCGLUETrainer: [Epoch 30] train={'g_nll': 0.391, 'g_kl': 0.003, 'g_elbo': 0.394, 'x_rna_nll': 0.109, 'x_rna_kl': 0.001, 'x_rna_elbo': 0.111, 'x_atac_nll': 0.053, 'x_atac_kl': 0.001, 'x_atac_elbo': 0.054, 'dsc_loss': 0.685, 'vae_loss': 0.18, 'gen_loss': 0.146}, val={'g_nll': 0.391, 'g_kl': 0.003, 'g_elbo': 0.394, 'x_rna_nll': 0.111, 'x_rna_kl': 0.001, 'x_rna_elbo': 0.113, 'x_atac_nll': 0.056, 'x_atac_kl': 0.001, 'x_atac_elbo': 0.057, 'dsc_loss': 0.689, 'vae_loss': 0.185, 'gen_loss': 0.151}, 3.1s elapsed\n",
      "[INFO] SCGLUETrainer: [Epoch 40] train={'g_nll': 0.39, 'g_kl': 0.003, 'g_elbo': 0.393, 'x_rna_nll': 0.109, 'x_rna_kl': 0.001, 'x_rna_elbo': 0.11, 'x_atac_nll': 0.053, 'x_atac_kl': 0.001, 'x_atac_elbo': 0.053, 'dsc_loss': 0.691, 'vae_loss': 0.179, 'gen_loss': 0.145}, val={'g_nll': 0.39, 'g_kl': 0.003, 'g_elbo': 0.393, 'x_rna_nll': 0.112, 'x_rna_kl': 0.001, 'x_rna_elbo': 0.113, 'x_atac_nll': 0.055, 'x_atac_kl': 0.001, 'x_atac_elbo': 0.056, 'dsc_loss': 0.687, 'vae_loss': 0.184, 'gen_loss': 0.15}, 3.1s elapsed\n",
      "[INFO] SCGLUETrainer: [Epoch 50] train={'g_nll': 0.389, 'g_kl': 0.003, 'g_elbo': 0.392, 'x_rna_nll': 0.108, 'x_rna_kl': 0.001, 'x_rna_elbo': 0.11, 'x_atac_nll': 0.053, 'x_atac_kl': 0.001, 'x_atac_elbo': 0.053, 'dsc_loss': 0.691, 'vae_loss': 0.179, 'gen_loss': 0.144}, val={'g_nll': 0.388, 'g_kl': 0.003, 'g_elbo': 0.391, 'x_rna_nll': 0.111, 'x_rna_kl': 0.001, 'x_rna_elbo': 0.112, 'x_atac_nll': 0.055, 'x_atac_kl': 0.001, 'x_atac_elbo': 0.056, 'dsc_loss': 0.684, 'vae_loss': 0.184, 'gen_loss': 0.15}, 3.1s elapsed\n",
      "[INFO] SCGLUETrainer: [Epoch 60] train={'g_nll': 0.387, 'g_kl': 0.003, 'g_elbo': 0.39, 'x_rna_nll': 0.109, 'x_rna_kl': 0.001, 'x_rna_elbo': 0.11, 'x_atac_nll': 0.052, 'x_atac_kl': 0.001, 'x_atac_elbo': 0.053, 'dsc_loss': 0.69, 'vae_loss': 0.179, 'gen_loss': 0.144}, val={'g_nll': 0.386, 'g_kl': 0.003, 'g_elbo': 0.389, 'x_rna_nll': 0.112, 'x_rna_kl': 0.001, 'x_rna_elbo': 0.113, 'x_atac_nll': 0.056, 'x_atac_kl': 0.001, 'x_atac_elbo': 0.057, 'dsc_loss': 0.674, 'vae_loss': 0.186, 'gen_loss': 0.152}, 3.1s elapsed\n",
      "[INFO] SCGLUETrainer: [Epoch 70] train={'g_nll': 0.386, 'g_kl': 0.003, 'g_elbo': 0.389, 'x_rna_nll': 0.109, 'x_rna_kl': 0.001, 'x_rna_elbo': 0.11, 'x_atac_nll': 0.053, 'x_atac_kl': 0.001, 'x_atac_elbo': 0.053, 'dsc_loss': 0.684, 'vae_loss': 0.179, 'gen_loss': 0.145}, val={'g_nll': 0.385, 'g_kl': 0.003, 'g_elbo': 0.389, 'x_rna_nll': 0.112, 'x_rna_kl': 0.001, 'x_rna_elbo': 0.113, 'x_atac_nll': 0.055, 'x_atac_kl': 0.001, 'x_atac_elbo': 0.055, 'dsc_loss': 0.689, 'vae_loss': 0.184, 'gen_loss': 0.149}, 3.1s elapsed\n",
      "[INFO] SCGLUETrainer: [Epoch 80] train={'g_nll': 0.384, 'g_kl': 0.003, 'g_elbo': 0.388, 'x_rna_nll': 0.108, 'x_rna_kl': 0.001, 'x_rna_elbo': 0.11, 'x_atac_nll': 0.052, 'x_atac_kl': 0.001, 'x_atac_elbo': 0.053, 'dsc_loss': 0.692, 'vae_loss': 0.178, 'gen_loss': 0.144}, val={'g_nll': 0.385, 'g_kl': 0.003, 'g_elbo': 0.388, 'x_rna_nll': 0.111, 'x_rna_kl': 0.001, 'x_rna_elbo': 0.112, 'x_atac_nll': 0.056, 'x_atac_kl': 0.001, 'x_atac_elbo': 0.056, 'dsc_loss': 0.681, 'vae_loss': 0.184, 'gen_loss': 0.15}, 3.1s elapsed\n",
      "[INFO] SCGLUETrainer: [Epoch 90] train={'g_nll': 0.383, 'g_kl': 0.003, 'g_elbo': 0.387, 'x_rna_nll': 0.109, 'x_rna_kl': 0.001, 'x_rna_elbo': 0.11, 'x_atac_nll': 0.052, 'x_atac_kl': 0.001, 'x_atac_elbo': 0.053, 'dsc_loss': 0.685, 'vae_loss': 0.178, 'gen_loss': 0.144}, val={'g_nll': 0.384, 'g_kl': 0.003, 'g_elbo': 0.387, 'x_rna_nll': 0.111, 'x_rna_kl': 0.001, 'x_rna_elbo': 0.112, 'x_atac_nll': 0.056, 'x_atac_kl': 0.001, 'x_atac_elbo': 0.056, 'dsc_loss': 0.68, 'vae_loss': 0.184, 'gen_loss': 0.15}, 3.1s elapsed\n",
      "[INFO] SCGLUETrainer: [Epoch 100] train={'g_nll': 0.382, 'g_kl': 0.003, 'g_elbo': 0.386, 'x_rna_nll': 0.108, 'x_rna_kl': 0.001, 'x_rna_elbo': 0.11, 'x_atac_nll': 0.052, 'x_atac_kl': 0.001, 'x_atac_elbo': 0.053, 'dsc_loss': 0.688, 'vae_loss': 0.178, 'gen_loss': 0.144}, val={'g_nll': 0.383, 'g_kl': 0.003, 'g_elbo': 0.386, 'x_rna_nll': 0.112, 'x_rna_kl': 0.001, 'x_rna_elbo': 0.114, 'x_atac_nll': 0.056, 'x_atac_kl': 0.001, 'x_atac_elbo': 0.057, 'dsc_loss': 0.678, 'vae_loss': 0.186, 'gen_loss': 0.152}, 3.1s elapsed\n",
      "[INFO] SCGLUETrainer: [Epoch 110] train={'g_nll': 0.382, 'g_kl': 0.003, 'g_elbo': 0.385, 'x_rna_nll': 0.108, 'x_rna_kl': 0.001, 'x_rna_elbo': 0.109, 'x_atac_nll': 0.052, 'x_atac_kl': 0.001, 'x_atac_elbo': 0.053, 'dsc_loss': 0.692, 'vae_loss': 0.178, 'gen_loss': 0.143}, val={'g_nll': 0.382, 'g_kl': 0.003, 'g_elbo': 0.385, 'x_rna_nll': 0.113, 'x_rna_kl': 0.001, 'x_rna_elbo': 0.114, 'x_atac_nll': 0.055, 'x_atac_kl': 0.001, 'x_atac_elbo': 0.056, 'dsc_loss': 0.707, 'vae_loss': 0.185, 'gen_loss': 0.15}, 3.1s elapsed\n",
      "Epoch 00114: reducing learning rate of group 0 to 2.0000e-04.\n",
      "Epoch 00114: reducing learning rate of group 0 to 2.0000e-04.\n",
      "[INFO] LRScheduler: Learning rate reduction: step 1\n",
      "[INFO] SCGLUETrainer: [Epoch 120] train={'g_nll': 0.378, 'g_kl': 0.003, 'g_elbo': 0.381, 'x_rna_nll': 0.108, 'x_rna_kl': 0.001, 'x_rna_elbo': 0.109, 'x_atac_nll': 0.052, 'x_atac_kl': 0.001, 'x_atac_elbo': 0.053, 'dsc_loss': 0.697, 'vae_loss': 0.177, 'gen_loss': 0.143}, val={'g_nll': 0.378, 'g_kl': 0.003, 'g_elbo': 0.381, 'x_rna_nll': 0.115, 'x_rna_kl': 0.001, 'x_rna_elbo': 0.116, 'x_atac_nll': 0.054, 'x_atac_kl': 0.001, 'x_atac_elbo': 0.055, 'dsc_loss': 0.689, 'vae_loss': 0.186, 'gen_loss': 0.152}, 3.1s elapsed\n",
      "[INFO] SCGLUETrainer: [Epoch 130] train={'g_nll': 0.376, 'g_kl': 0.003, 'g_elbo': 0.38, 'x_rna_nll': 0.108, 'x_rna_kl': 0.001, 'x_rna_elbo': 0.11, 'x_atac_nll': 0.052, 'x_atac_kl': 0.001, 'x_atac_elbo': 0.053, 'dsc_loss': 0.693, 'vae_loss': 0.178, 'gen_loss': 0.143}, val={'g_nll': 0.376, 'g_kl': 0.003, 'g_elbo': 0.38, 'x_rna_nll': 0.113, 'x_rna_kl': 0.001, 'x_rna_elbo': 0.115, 'x_atac_nll': 0.056, 'x_atac_kl': 0.001, 'x_atac_elbo': 0.057, 'dsc_loss': 0.674, 'vae_loss': 0.187, 'gen_loss': 0.153}, 3.1s elapsed\n",
      "Epoch 00137: reducing learning rate of group 0 to 2.0000e-05.\n",
      "Epoch 00137: reducing learning rate of group 0 to 2.0000e-05.\n",
      "[INFO] LRScheduler: Learning rate reduction: step 2\n",
      "[INFO] SCGLUETrainer: [Epoch 140] train={'g_nll': 0.376, 'g_kl': 0.003, 'g_elbo': 0.379, 'x_rna_nll': 0.108, 'x_rna_kl': 0.001, 'x_rna_elbo': 0.109, 'x_atac_nll': 0.052, 'x_atac_kl': 0.001, 'x_atac_elbo': 0.053, 'dsc_loss': 0.689, 'vae_loss': 0.177, 'gen_loss': 0.143}, val={'g_nll': 0.375, 'g_kl': 0.003, 'g_elbo': 0.379, 'x_rna_nll': 0.112, 'x_rna_kl': 0.001, 'x_rna_elbo': 0.113, 'x_atac_nll': 0.055, 'x_atac_kl': 0.001, 'x_atac_elbo': 0.055, 'dsc_loss': 0.686, 'vae_loss': 0.183, 'gen_loss': 0.149}, 3.1s elapsed\n",
      "[INFO] SCGLUETrainer: [Epoch 150] train={'g_nll': 0.376, 'g_kl': 0.003, 'g_elbo': 0.379, 'x_rna_nll': 0.108, 'x_rna_kl': 0.001, 'x_rna_elbo': 0.11, 'x_atac_nll': 0.052, 'x_atac_kl': 0.001, 'x_atac_elbo': 0.053, 'dsc_loss': 0.688, 'vae_loss': 0.178, 'gen_loss': 0.143}, val={'g_nll': 0.376, 'g_kl': 0.003, 'g_elbo': 0.379, 'x_rna_nll': 0.113, 'x_rna_kl': 0.001, 'x_rna_elbo': 0.114, 'x_atac_nll': 0.055, 'x_atac_kl': 0.001, 'x_atac_elbo': 0.056, 'dsc_loss': 0.691, 'vae_loss': 0.185, 'gen_loss': 0.151}, 3.1s elapsed\n"
     ]
    },
    {
     "name": "stderr",
     "output_type": "stream",
     "text": [
      "2024-02-01 21:14:15,647 ignite.handlers.early_stopping.EarlyStopping INFO: EarlyStopping: Stop training\n"
     ]
    },
    {
     "name": "stdout",
     "output_type": "stream",
     "text": [
      "[INFO] EarlyStopping: Restoring checkpoint \"137\"...\n",
      "[INFO] EarlyStopping: Restoring checkpoint \"137\"...\n"
     ]
    },
    {
     "name": "stderr",
     "output_type": "stream",
     "text": [
      "[WARNING] configure_dataset: `configure_dataset` has already been called. Previous configuration will be overwritten!\n",
      "[WARNING] configure_dataset: `configure_dataset` has already been called. Previous configuration will be overwritten!\n"
     ]
    },
    {
     "name": "stdout",
     "output_type": "stream",
     "text": [
      "[INFO] fit_SCGLUE: Pretraining SCGLUE model...\n",
      "[INFO] check_graph: Checking variable coverage...\n",
      "[INFO] check_graph: Checking edge attributes...\n",
      "[INFO] check_graph: Checking self-loops...\n",
      "[INFO] check_graph: Checking graph symmetry...\n",
      "[INFO] SCGLUEModel: Setting `graph_batch_size` = 49723\n",
      "[INFO] SCGLUEModel: Setting `max_epochs` = 427\n",
      "[INFO] SCGLUEModel: Setting `patience` = 36\n",
      "[INFO] SCGLUEModel: Setting `reduce_lr_patience` = 18\n",
      "[INFO] SCGLUETrainer: Using training directory: \"glue/pretrain\"\n",
      "[INFO] SCGLUETrainer: [Epoch 10] train={'g_nll': 0.444, 'g_kl': 0.002, 'g_elbo': 0.446, 'x_rna_nll': 0.115, 'x_rna_kl': 0.002, 'x_rna_elbo': 0.117, 'x_atac_nll': 0.055, 'x_atac_kl': 0.001, 'x_atac_elbo': 0.056, 'dsc_loss': 0.692, 'vae_loss': 0.191, 'gen_loss': 0.156}, val={'g_nll': 0.442, 'g_kl': 0.002, 'g_elbo': 0.443, 'x_rna_nll': 0.116, 'x_rna_kl': 0.002, 'x_rna_elbo': 0.118, 'x_atac_nll': 0.055, 'x_atac_kl': 0.001, 'x_atac_elbo': 0.056, 'dsc_loss': 0.696, 'vae_loss': 0.192, 'gen_loss': 0.157}, 3.1s elapsed\n",
      "[INFO] SCGLUETrainer: [Epoch 20] train={'g_nll': 0.42, 'g_kl': 0.002, 'g_elbo': 0.423, 'x_rna_nll': 0.112, 'x_rna_kl': 0.001, 'x_rna_elbo': 0.113, 'x_atac_nll': 0.054, 'x_atac_kl': 0.001, 'x_atac_elbo': 0.055, 'dsc_loss': 0.692, 'vae_loss': 0.185, 'gen_loss': 0.151}, val={'g_nll': 0.419, 'g_kl': 0.003, 'g_elbo': 0.422, 'x_rna_nll': 0.116, 'x_rna_kl': 0.001, 'x_rna_elbo': 0.117, 'x_atac_nll': 0.056, 'x_atac_kl': 0.001, 'x_atac_elbo': 0.057, 'dsc_loss': 0.694, 'vae_loss': 0.191, 'gen_loss': 0.156}, 3.1s elapsed\n",
      "[INFO] SCGLUETrainer: [Epoch 30] train={'g_nll': 0.413, 'g_kl': 0.003, 'g_elbo': 0.415, 'x_rna_nll': 0.111, 'x_rna_kl': 0.001, 'x_rna_elbo': 0.112, 'x_atac_nll': 0.053, 'x_atac_kl': 0.001, 'x_atac_elbo': 0.054, 'dsc_loss': 0.692, 'vae_loss': 0.183, 'gen_loss': 0.148}, val={'g_nll': 0.412, 'g_kl': 0.003, 'g_elbo': 0.415, 'x_rna_nll': 0.115, 'x_rna_kl': 0.001, 'x_rna_elbo': 0.116, 'x_atac_nll': 0.055, 'x_atac_kl': 0.001, 'x_atac_elbo': 0.056, 'dsc_loss': 0.694, 'vae_loss': 0.188, 'gen_loss': 0.154}, 3.1s elapsed\n",
      "[INFO] SCGLUETrainer: [Epoch 40] train={'g_nll': 0.409, 'g_kl': 0.003, 'g_elbo': 0.412, 'x_rna_nll': 0.11, 'x_rna_kl': 0.001, 'x_rna_elbo': 0.112, 'x_atac_nll': 0.053, 'x_atac_kl': 0.001, 'x_atac_elbo': 0.054, 'dsc_loss': 0.692, 'vae_loss': 0.182, 'gen_loss': 0.148}, val={'g_nll': 0.408, 'g_kl': 0.003, 'g_elbo': 0.411, 'x_rna_nll': 0.114, 'x_rna_kl': 0.001, 'x_rna_elbo': 0.115, 'x_atac_nll': 0.055, 'x_atac_kl': 0.001, 'x_atac_elbo': 0.056, 'dsc_loss': 0.694, 'vae_loss': 0.187, 'gen_loss': 0.153}, 3.1s elapsed\n",
      "[INFO] SCGLUETrainer: [Epoch 50] train={'g_nll': 0.406, 'g_kl': 0.003, 'g_elbo': 0.409, 'x_rna_nll': 0.109, 'x_rna_kl': 0.001, 'x_rna_elbo': 0.11, 'x_atac_nll': 0.053, 'x_atac_kl': 0.001, 'x_atac_elbo': 0.054, 'dsc_loss': 0.692, 'vae_loss': 0.18, 'gen_loss': 0.146}, val={'g_nll': 0.406, 'g_kl': 0.003, 'g_elbo': 0.409, 'x_rna_nll': 0.114, 'x_rna_kl': 0.001, 'x_rna_elbo': 0.115, 'x_atac_nll': 0.055, 'x_atac_kl': 0.001, 'x_atac_elbo': 0.056, 'dsc_loss': 0.694, 'vae_loss': 0.188, 'gen_loss': 0.153}, 3.1s elapsed\n",
      "[INFO] SCGLUETrainer: [Epoch 60] train={'g_nll': 0.404, 'g_kl': 0.003, 'g_elbo': 0.407, 'x_rna_nll': 0.109, 'x_rna_kl': 0.001, 'x_rna_elbo': 0.111, 'x_atac_nll': 0.053, 'x_atac_kl': 0.001, 'x_atac_elbo': 0.054, 'dsc_loss': 0.693, 'vae_loss': 0.18, 'gen_loss': 0.146}, val={'g_nll': 0.403, 'g_kl': 0.003, 'g_elbo': 0.406, 'x_rna_nll': 0.115, 'x_rna_kl': 0.001, 'x_rna_elbo': 0.116, 'x_atac_nll': 0.054, 'x_atac_kl': 0.001, 'x_atac_elbo': 0.055, 'dsc_loss': 0.694, 'vae_loss': 0.187, 'gen_loss': 0.153}, 3.1s elapsed\n",
      "[INFO] SCGLUETrainer: [Epoch 70] train={'g_nll': 0.403, 'g_kl': 0.003, 'g_elbo': 0.406, 'x_rna_nll': 0.109, 'x_rna_kl': 0.001, 'x_rna_elbo': 0.11, 'x_atac_nll': 0.052, 'x_atac_kl': 0.001, 'x_atac_elbo': 0.053, 'dsc_loss': 0.692, 'vae_loss': 0.179, 'gen_loss': 0.145}, val={'g_nll': 0.403, 'g_kl': 0.003, 'g_elbo': 0.406, 'x_rna_nll': 0.113, 'x_rna_kl': 0.001, 'x_rna_elbo': 0.115, 'x_atac_nll': 0.055, 'x_atac_kl': 0.001, 'x_atac_elbo': 0.056, 'dsc_loss': 0.694, 'vae_loss': 0.187, 'gen_loss': 0.152}, 3.2s elapsed\n",
      "Epoch 00071: reducing learning rate of group 0 to 2.0000e-04.\n",
      "Epoch 00071: reducing learning rate of group 0 to 2.0000e-04.\n",
      "[INFO] LRScheduler: Learning rate reduction: step 1\n",
      "[INFO] SCGLUETrainer: [Epoch 80] train={'g_nll': 0.402, 'g_kl': 0.003, 'g_elbo': 0.405, 'x_rna_nll': 0.109, 'x_rna_kl': 0.001, 'x_rna_elbo': 0.11, 'x_atac_nll': 0.052, 'x_atac_kl': 0.001, 'x_atac_elbo': 0.053, 'dsc_loss': 0.692, 'vae_loss': 0.179, 'gen_loss': 0.145}, val={'g_nll': 0.402, 'g_kl': 0.003, 'g_elbo': 0.405, 'x_rna_nll': 0.114, 'x_rna_kl': 0.001, 'x_rna_elbo': 0.115, 'x_atac_nll': 0.056, 'x_atac_kl': 0.001, 'x_atac_elbo': 0.057, 'dsc_loss': 0.693, 'vae_loss': 0.188, 'gen_loss': 0.154}, 3.1s elapsed\n",
      "[INFO] SCGLUETrainer: [Epoch 90] train={'g_nll': 0.402, 'g_kl': 0.003, 'g_elbo': 0.405, 'x_rna_nll': 0.108, 'x_rna_kl': 0.001, 'x_rna_elbo': 0.11, 'x_atac_nll': 0.052, 'x_atac_kl': 0.001, 'x_atac_elbo': 0.053, 'dsc_loss': 0.693, 'vae_loss': 0.178, 'gen_loss': 0.144}, val={'g_nll': 0.403, 'g_kl': 0.003, 'g_elbo': 0.406, 'x_rna_nll': 0.113, 'x_rna_kl': 0.001, 'x_rna_elbo': 0.115, 'x_atac_nll': 0.056, 'x_atac_kl': 0.001, 'x_atac_elbo': 0.057, 'dsc_loss': 0.692, 'vae_loss': 0.187, 'gen_loss': 0.153}, 3.1s elapsed\n",
      "Epoch 00090: reducing learning rate of group 0 to 2.0000e-05.\n",
      "Epoch 00090: reducing learning rate of group 0 to 2.0000e-05.\n",
      "[INFO] LRScheduler: Learning rate reduction: step 2\n",
      "[INFO] SCGLUETrainer: [Epoch 100] train={'g_nll': 0.402, 'g_kl': 0.003, 'g_elbo': 0.405, 'x_rna_nll': 0.109, 'x_rna_kl': 0.001, 'x_rna_elbo': 0.11, 'x_atac_nll': 0.052, 'x_atac_kl': 0.001, 'x_atac_elbo': 0.053, 'dsc_loss': 0.692, 'vae_loss': 0.179, 'gen_loss': 0.145}, val={'g_nll': 0.402, 'g_kl': 0.003, 'g_elbo': 0.405, 'x_rna_nll': 0.114, 'x_rna_kl': 0.001, 'x_rna_elbo': 0.115, 'x_atac_nll': 0.056, 'x_atac_kl': 0.001, 'x_atac_elbo': 0.057, 'dsc_loss': 0.693, 'vae_loss': 0.188, 'gen_loss': 0.153}, 3.1s elapsed\n",
      "Epoch 00109: reducing learning rate of group 0 to 2.0000e-06.\n",
      "Epoch 00109: reducing learning rate of group 0 to 2.0000e-06.\n",
      "[INFO] LRScheduler: Learning rate reduction: step 3\n",
      "[INFO] SCGLUETrainer: [Epoch 110] train={'g_nll': 0.402, 'g_kl': 0.003, 'g_elbo': 0.405, 'x_rna_nll': 0.109, 'x_rna_kl': 0.001, 'x_rna_elbo': 0.11, 'x_atac_nll': 0.052, 'x_atac_kl': 0.001, 'x_atac_elbo': 0.053, 'dsc_loss': 0.692, 'vae_loss': 0.18, 'gen_loss': 0.145}, val={'g_nll': 0.402, 'g_kl': 0.003, 'g_elbo': 0.405, 'x_rna_nll': 0.115, 'x_rna_kl': 0.001, 'x_rna_elbo': 0.117, 'x_atac_nll': 0.054, 'x_atac_kl': 0.001, 'x_atac_elbo': 0.055, 'dsc_loss': 0.693, 'vae_loss': 0.188, 'gen_loss': 0.153}, 3.1s elapsed\n",
      "[INFO] SCGLUETrainer: [Epoch 120] train={'g_nll': 0.402, 'g_kl': 0.003, 'g_elbo': 0.405, 'x_rna_nll': 0.109, 'x_rna_kl': 0.001, 'x_rna_elbo': 0.11, 'x_atac_nll': 0.052, 'x_atac_kl': 0.001, 'x_atac_elbo': 0.053, 'dsc_loss': 0.692, 'vae_loss': 0.18, 'gen_loss': 0.145}, val={'g_nll': 0.402, 'g_kl': 0.003, 'g_elbo': 0.405, 'x_rna_nll': 0.114, 'x_rna_kl': 0.001, 'x_rna_elbo': 0.116, 'x_atac_nll': 0.055, 'x_atac_kl': 0.001, 'x_atac_elbo': 0.056, 'dsc_loss': 0.692, 'vae_loss': 0.188, 'gen_loss': 0.153}, 3.1s elapsed\n"
     ]
    },
    {
     "name": "stderr",
     "output_type": "stream",
     "text": [
      "2024-02-01 21:21:11,636 ignite.handlers.early_stopping.EarlyStopping INFO: EarlyStopping: Stop training\n"
     ]
    },
    {
     "name": "stdout",
     "output_type": "stream",
     "text": [
      "[INFO] EarlyStopping: Restoring checkpoint \"111\"...\n",
      "[INFO] EarlyStopping: Restoring checkpoint \"111\"...\n",
      "[INFO] fit_SCGLUE: Estimating balancing weight...\n",
      "[INFO] estimate_balancing_weight: Clustering cells...\n",
      "[INFO] estimate_balancing_weight: Matching clusters...\n",
      "[INFO] estimate_balancing_weight: Matching array shape = (15, 9)...\n",
      "[INFO] estimate_balancing_weight: Estimating balancing weight...\n",
      "[INFO] fit_SCGLUE: Fine-tuning SCGLUE model...\n",
      "[INFO] check_graph: Checking variable coverage...\n",
      "[INFO] check_graph: Checking edge attributes...\n",
      "[INFO] check_graph: Checking self-loops...\n",
      "[INFO] check_graph: Checking graph symmetry...\n",
      "[INFO] SCGLUEModel: Setting `graph_batch_size` = 49723\n",
      "[INFO] SCGLUEModel: Setting `align_burnin` = 72\n",
      "[INFO] SCGLUEModel: Setting `max_epochs` = 427\n",
      "[INFO] SCGLUEModel: Setting `patience` = 36\n",
      "[INFO] SCGLUEModel: Setting `reduce_lr_patience` = 18\n",
      "[INFO] SCGLUETrainer: Using training directory: \"glue/fine-tune\"\n",
      "[INFO] SCGLUETrainer: [Epoch 10] train={'g_nll': 0.402, 'g_kl': 0.003, 'g_elbo': 0.405, 'x_rna_nll': 0.11, 'x_rna_kl': 0.001, 'x_rna_elbo': 0.111, 'x_atac_nll': 0.052, 'x_atac_kl': 0.001, 'x_atac_elbo': 0.053, 'dsc_loss': 0.69, 'vae_loss': 0.18, 'gen_loss': 0.146}, val={'g_nll': 0.401, 'g_kl': 0.003, 'g_elbo': 0.404, 'x_rna_nll': 0.11, 'x_rna_kl': 0.001, 'x_rna_elbo': 0.111, 'x_atac_nll': 0.054, 'x_atac_kl': 0.001, 'x_atac_elbo': 0.055, 'dsc_loss': 0.715, 'vae_loss': 0.182, 'gen_loss': 0.147}, 3.2s elapsed\n",
      "[INFO] SCGLUETrainer: [Epoch 20] train={'g_nll': 0.399, 'g_kl': 0.003, 'g_elbo': 0.402, 'x_rna_nll': 0.109, 'x_rna_kl': 0.001, 'x_rna_elbo': 0.11, 'x_atac_nll': 0.052, 'x_atac_kl': 0.001, 'x_atac_elbo': 0.053, 'dsc_loss': 0.693, 'vae_loss': 0.179, 'gen_loss': 0.145}, val={'g_nll': 0.399, 'g_kl': 0.003, 'g_elbo': 0.402, 'x_rna_nll': 0.111, 'x_rna_kl': 0.001, 'x_rna_elbo': 0.112, 'x_atac_nll': 0.054, 'x_atac_kl': 0.001, 'x_atac_elbo': 0.055, 'dsc_loss': 0.715, 'vae_loss': 0.183, 'gen_loss': 0.148}, 3.2s elapsed\n",
      "[INFO] SCGLUETrainer: [Epoch 30] train={'g_nll': 0.395, 'g_kl': 0.003, 'g_elbo': 0.398, 'x_rna_nll': 0.109, 'x_rna_kl': 0.001, 'x_rna_elbo': 0.111, 'x_atac_nll': 0.052, 'x_atac_kl': 0.001, 'x_atac_elbo': 0.053, 'dsc_loss': 0.692, 'vae_loss': 0.179, 'gen_loss': 0.145}, val={'g_nll': 0.395, 'g_kl': 0.003, 'g_elbo': 0.398, 'x_rna_nll': 0.112, 'x_rna_kl': 0.001, 'x_rna_elbo': 0.113, 'x_atac_nll': 0.056, 'x_atac_kl': 0.001, 'x_atac_elbo': 0.057, 'dsc_loss': 0.708, 'vae_loss': 0.185, 'gen_loss': 0.15}, 3.2s elapsed\n",
      "[INFO] SCGLUETrainer: [Epoch 40] train={'g_nll': 0.392, 'g_kl': 0.003, 'g_elbo': 0.395, 'x_rna_nll': 0.109, 'x_rna_kl': 0.001, 'x_rna_elbo': 0.11, 'x_atac_nll': 0.052, 'x_atac_kl': 0.001, 'x_atac_elbo': 0.052, 'dsc_loss': 0.689, 'vae_loss': 0.178, 'gen_loss': 0.144}, val={'g_nll': 0.393, 'g_kl': 0.003, 'g_elbo': 0.396, 'x_rna_nll': 0.112, 'x_rna_kl': 0.001, 'x_rna_elbo': 0.113, 'x_atac_nll': 0.055, 'x_atac_kl': 0.001, 'x_atac_elbo': 0.056, 'dsc_loss': 0.709, 'vae_loss': 0.185, 'gen_loss': 0.149}, 3.2s elapsed\n",
      "[INFO] SCGLUETrainer: [Epoch 50] train={'g_nll': 0.39, 'g_kl': 0.003, 'g_elbo': 0.393, 'x_rna_nll': 0.108, 'x_rna_kl': 0.001, 'x_rna_elbo': 0.11, 'x_atac_nll': 0.052, 'x_atac_kl': 0.001, 'x_atac_elbo': 0.052, 'dsc_loss': 0.69, 'vae_loss': 0.178, 'gen_loss': 0.143}, val={'g_nll': 0.389, 'g_kl': 0.003, 'g_elbo': 0.392, 'x_rna_nll': 0.111, 'x_rna_kl': 0.001, 'x_rna_elbo': 0.112, 'x_atac_nll': 0.055, 'x_atac_kl': 0.001, 'x_atac_elbo': 0.056, 'dsc_loss': 0.711, 'vae_loss': 0.184, 'gen_loss': 0.148}, 3.1s elapsed\n",
      "[INFO] SCGLUETrainer: [Epoch 60] train={'g_nll': 0.389, 'g_kl': 0.003, 'g_elbo': 0.392, 'x_rna_nll': 0.109, 'x_rna_kl': 0.001, 'x_rna_elbo': 0.11, 'x_atac_nll': 0.051, 'x_atac_kl': 0.001, 'x_atac_elbo': 0.052, 'dsc_loss': 0.689, 'vae_loss': 0.178, 'gen_loss': 0.143}, val={'g_nll': 0.388, 'g_kl': 0.003, 'g_elbo': 0.391, 'x_rna_nll': 0.112, 'x_rna_kl': 0.001, 'x_rna_elbo': 0.113, 'x_atac_nll': 0.056, 'x_atac_kl': 0.001, 'x_atac_elbo': 0.057, 'dsc_loss': 0.721, 'vae_loss': 0.186, 'gen_loss': 0.15}, 3.1s elapsed\n",
      "[INFO] SCGLUETrainer: [Epoch 70] train={'g_nll': 0.388, 'g_kl': 0.003, 'g_elbo': 0.391, 'x_rna_nll': 0.108, 'x_rna_kl': 0.001, 'x_rna_elbo': 0.11, 'x_atac_nll': 0.052, 'x_atac_kl': 0.001, 'x_atac_elbo': 0.053, 'dsc_loss': 0.687, 'vae_loss': 0.178, 'gen_loss': 0.144}, val={'g_nll': 0.387, 'g_kl': 0.003, 'g_elbo': 0.39, 'x_rna_nll': 0.112, 'x_rna_kl': 0.001, 'x_rna_elbo': 0.113, 'x_atac_nll': 0.054, 'x_atac_kl': 0.001, 'x_atac_elbo': 0.055, 'dsc_loss': 0.72, 'vae_loss': 0.184, 'gen_loss': 0.148}, 3.2s elapsed\n",
      "[INFO] SCGLUETrainer: [Epoch 80] train={'g_nll': 0.387, 'g_kl': 0.003, 'g_elbo': 0.39, 'x_rna_nll': 0.108, 'x_rna_kl': 0.001, 'x_rna_elbo': 0.11, 'x_atac_nll': 0.051, 'x_atac_kl': 0.001, 'x_atac_elbo': 0.052, 'dsc_loss': 0.685, 'vae_loss': 0.177, 'gen_loss': 0.143}, val={'g_nll': 0.387, 'g_kl': 0.003, 'g_elbo': 0.39, 'x_rna_nll': 0.111, 'x_rna_kl': 0.001, 'x_rna_elbo': 0.112, 'x_atac_nll': 0.055, 'x_atac_kl': 0.001, 'x_atac_elbo': 0.056, 'dsc_loss': 0.711, 'vae_loss': 0.184, 'gen_loss': 0.149}, 3.1s elapsed\n",
      "[INFO] SCGLUETrainer: [Epoch 90] train={'g_nll': 0.386, 'g_kl': 0.003, 'g_elbo': 0.389, 'x_rna_nll': 0.109, 'x_rna_kl': 0.001, 'x_rna_elbo': 0.11, 'x_atac_nll': 0.051, 'x_atac_kl': 0.001, 'x_atac_elbo': 0.052, 'dsc_loss': 0.684, 'vae_loss': 0.178, 'gen_loss': 0.143}, val={'g_nll': 0.386, 'g_kl': 0.003, 'g_elbo': 0.389, 'x_rna_nll': 0.111, 'x_rna_kl': 0.001, 'x_rna_elbo': 0.112, 'x_atac_nll': 0.055, 'x_atac_kl': 0.001, 'x_atac_elbo': 0.056, 'dsc_loss': 0.708, 'vae_loss': 0.184, 'gen_loss': 0.148}, 3.0s elapsed\n",
      "[INFO] SCGLUETrainer: [Epoch 100] train={'g_nll': 0.385, 'g_kl': 0.003, 'g_elbo': 0.388, 'x_rna_nll': 0.108, 'x_rna_kl': 0.001, 'x_rna_elbo': 0.11, 'x_atac_nll': 0.051, 'x_atac_kl': 0.001, 'x_atac_elbo': 0.052, 'dsc_loss': 0.687, 'vae_loss': 0.177, 'gen_loss': 0.143}, val={'g_nll': 0.385, 'g_kl': 0.003, 'g_elbo': 0.388, 'x_rna_nll': 0.113, 'x_rna_kl': 0.001, 'x_rna_elbo': 0.114, 'x_atac_nll': 0.056, 'x_atac_kl': 0.001, 'x_atac_elbo': 0.057, 'dsc_loss': 0.717, 'vae_loss': 0.186, 'gen_loss': 0.151}, 3.0s elapsed\n",
      "[INFO] SCGLUETrainer: [Epoch 110] train={'g_nll': 0.385, 'g_kl': 0.003, 'g_elbo': 0.388, 'x_rna_nll': 0.108, 'x_rna_kl': 0.001, 'x_rna_elbo': 0.109, 'x_atac_nll': 0.051, 'x_atac_kl': 0.001, 'x_atac_elbo': 0.052, 'dsc_loss': 0.687, 'vae_loss': 0.177, 'gen_loss': 0.142}, val={'g_nll': 0.385, 'g_kl': 0.003, 'g_elbo': 0.388, 'x_rna_nll': 0.113, 'x_rna_kl': 0.001, 'x_rna_elbo': 0.114, 'x_atac_nll': 0.055, 'x_atac_kl': 0.001, 'x_atac_elbo': 0.056, 'dsc_loss': 0.726, 'vae_loss': 0.185, 'gen_loss': 0.149}, 3.0s elapsed\n",
      "Epoch 00114: reducing learning rate of group 0 to 2.0000e-04.\n",
      "Epoch 00114: reducing learning rate of group 0 to 2.0000e-04.\n",
      "[INFO] LRScheduler: Learning rate reduction: step 1\n",
      "[INFO] SCGLUETrainer: [Epoch 120] train={'g_nll': 0.38, 'g_kl': 0.003, 'g_elbo': 0.383, 'x_rna_nll': 0.108, 'x_rna_kl': 0.001, 'x_rna_elbo': 0.109, 'x_atac_nll': 0.051, 'x_atac_kl': 0.001, 'x_atac_elbo': 0.052, 'dsc_loss': 0.689, 'vae_loss': 0.177, 'gen_loss': 0.142}, val={'g_nll': 0.379, 'g_kl': 0.003, 'g_elbo': 0.383, 'x_rna_nll': 0.115, 'x_rna_kl': 0.001, 'x_rna_elbo': 0.116, 'x_atac_nll': 0.054, 'x_atac_kl': 0.001, 'x_atac_elbo': 0.055, 'dsc_loss': 0.719, 'vae_loss': 0.187, 'gen_loss': 0.151}, 3.0s elapsed\n",
      "[INFO] SCGLUETrainer: [Epoch 130] train={'g_nll': 0.378, 'g_kl': 0.003, 'g_elbo': 0.382, 'x_rna_nll': 0.108, 'x_rna_kl': 0.001, 'x_rna_elbo': 0.11, 'x_atac_nll': 0.051, 'x_atac_kl': 0.001, 'x_atac_elbo': 0.052, 'dsc_loss': 0.691, 'vae_loss': 0.177, 'gen_loss': 0.142}, val={'g_nll': 0.378, 'g_kl': 0.003, 'g_elbo': 0.381, 'x_rna_nll': 0.113, 'x_rna_kl': 0.001, 'x_rna_elbo': 0.115, 'x_atac_nll': 0.056, 'x_atac_kl': 0.001, 'x_atac_elbo': 0.057, 'dsc_loss': 0.704, 'vae_loss': 0.187, 'gen_loss': 0.152}, 3.1s elapsed\n",
      "Epoch 00137: reducing learning rate of group 0 to 2.0000e-05.\n",
      "Epoch 00137: reducing learning rate of group 0 to 2.0000e-05.\n",
      "[INFO] LRScheduler: Learning rate reduction: step 2\n",
      "[INFO] SCGLUETrainer: [Epoch 140] train={'g_nll': 0.378, 'g_kl': 0.003, 'g_elbo': 0.381, 'x_rna_nll': 0.108, 'x_rna_kl': 0.001, 'x_rna_elbo': 0.109, 'x_atac_nll': 0.051, 'x_atac_kl': 0.001, 'x_atac_elbo': 0.052, 'dsc_loss': 0.684, 'vae_loss': 0.177, 'gen_loss': 0.142}, val={'g_nll': 0.377, 'g_kl': 0.003, 'g_elbo': 0.38, 'x_rna_nll': 0.112, 'x_rna_kl': 0.001, 'x_rna_elbo': 0.113, 'x_atac_nll': 0.054, 'x_atac_kl': 0.001, 'x_atac_elbo': 0.055, 'dsc_loss': 0.709, 'vae_loss': 0.184, 'gen_loss': 0.148}, 3.1s elapsed\n",
      "[INFO] SCGLUETrainer: [Epoch 150] train={'g_nll': 0.378, 'g_kl': 0.003, 'g_elbo': 0.381, 'x_rna_nll': 0.108, 'x_rna_kl': 0.001, 'x_rna_elbo': 0.11, 'x_atac_nll': 0.051, 'x_atac_kl': 0.001, 'x_atac_elbo': 0.052, 'dsc_loss': 0.684, 'vae_loss': 0.177, 'gen_loss': 0.143}, val={'g_nll': 0.378, 'g_kl': 0.003, 'g_elbo': 0.381, 'x_rna_nll': 0.113, 'x_rna_kl': 0.001, 'x_rna_elbo': 0.114, 'x_atac_nll': 0.055, 'x_atac_kl': 0.001, 'x_atac_elbo': 0.056, 'dsc_loss': 0.71, 'vae_loss': 0.185, 'gen_loss': 0.15}, 3.1s elapsed\n"
     ]
    },
    {
     "name": "stderr",
     "output_type": "stream",
     "text": [
      "2024-02-01 21:29:45,644 ignite.handlers.early_stopping.EarlyStopping INFO: EarlyStopping: Stop training\n"
     ]
    },
    {
     "name": "stdout",
     "output_type": "stream",
     "text": [
      "[INFO] EarlyStopping: Restoring checkpoint \"137\"...\n",
      "[INFO] EarlyStopping: Restoring checkpoint \"137\"...\n"
     ]
    }
   ],
   "source": [
    "# path='2024-01-31-22_55_35'\n",
    "# bio_result=[]\n",
    "# name_list=[]\n",
    "# for i in range(3):# to train glue embedding\n",
    "#     atac=atacl[i]\n",
    "#     guidance=guidancel[i]\n",
    "    \n",
    "#     glue_scb,guidance_hvf_scb=train_glue(rna,atac,'proj',guidance)\n",
    "#     glue_scb.save(path+'glue/scb'+str(i)+'.dill')\n",
    "#     nx.write_graphml(guidance_hvf_scb,path+'hvfguidance/'+'hvfscb'+str(i))\n",
    "    \n",
    "#     glue_lsi,guidance_hvf_lsi=train_glue(rna,atac,'X_lsi',guidance)\n",
    "#     glue_lsi.save(path+'glue/lsi'+str(i)+'.dill')\n",
    "#     nx.write_graphml(guidance_hvf_lsi,path+'hvfguidance/'+'hvflsi'+str(i))\n",
    "    \n"
   ]
  },
  {
   "cell_type": "code",
   "execution_count": 10,
   "id": "d9dad87f-abfe-428d-92ea-cbaa2faad4da",
   "metadata": {},
   "outputs": [
    {
     "name": "stderr",
     "output_type": "stream",
     "text": [
      "/home/ubuntu0/miniconda3/envs/glue2_scib/lib/python3.8/site-packages/scib/metrics/metrics.py:293: DeprecationWarning: Call to deprecated function (or staticmethod) opt_louvain.\n",
      "  res_max, nmi_max, nmi_all = opt_louvain(\n"
     ]
    },
    {
     "name": "stdout",
     "output_type": "stream",
     "text": [
      "NMI...\n",
      "ARI...\n",
      "Silhouette score...\n",
      "PC regression...\n"
     ]
    },
    {
     "name": "stderr",
     "output_type": "stream",
     "text": [
      "/home/ubuntu0/miniconda3/envs/glue2_scib/lib/python3.8/site-packages/anndata/_core/anndata.py:453: PendingDeprecationWarning: The dtype argument will be deprecated in anndata 0.10.0\n",
      "  warnings.warn(\n",
      "/home/ubuntu0/miniconda3/envs/glue2_scib/lib/python3.8/site-packages/anndata/_core/anndata.py:453: PendingDeprecationWarning: The dtype argument will be deprecated in anndata 0.10.0\n",
      "  warnings.warn(\n"
     ]
    },
    {
     "name": "stdout",
     "output_type": "stream",
     "text": [
      "Isolated labels F1...\n",
      "Compute neighbors on rep X_glue\n",
      "Compute neighbors on rep X_glue\n",
      "Compute neighbors on rep X_glue\n",
      "Compute neighbors on rep X_glue\n",
      "Compute neighbors on rep X_glue\n",
      "Compute neighbors on rep X_glue\n",
      "Compute neighbors on rep X_glue\n",
      "Compute neighbors on rep X_glue\n",
      "Compute neighbors on rep X_glue\n",
      "Compute neighbors on rep X_glue\n",
      "Compute neighbors on rep X_glue\n",
      "Compute neighbors on rep X_glue\n",
      "Compute neighbors on rep X_glue\n",
      "Compute neighbors on rep X_glue\n",
      "Compute neighbors on rep X_glue\n",
      "Compute neighbors on rep X_glue\n",
      "Compute neighbors on rep X_glue\n",
      "Compute neighbors on rep X_glue\n",
      "Compute neighbors on rep X_glue\n",
      "Compute neighbors on rep X_glue\n",
      "Compute neighbors on rep X_glue\n",
      "Compute neighbors on rep X_glue\n",
      "Isolated labels ASW...\n"
     ]
    },
    {
     "name": "stderr",
     "output_type": "stream",
     "text": [
      "/home/ubuntu0/miniconda3/envs/glue2_scib/lib/python3.8/site-packages/scib/metrics/metrics.py:293: DeprecationWarning: Call to deprecated function (or staticmethod) opt_louvain.\n",
      "  res_max, nmi_max, nmi_all = opt_louvain(\n"
     ]
    },
    {
     "name": "stdout",
     "output_type": "stream",
     "text": [
      "Warning: cluster key cluster already exists in adata.obs and will be overwritten\n",
      "NMI...\n",
      "ARI...\n",
      "Silhouette score...\n",
      "PC regression...\n"
     ]
    },
    {
     "name": "stderr",
     "output_type": "stream",
     "text": [
      "/home/ubuntu0/miniconda3/envs/glue2_scib/lib/python3.8/site-packages/anndata/_core/anndata.py:453: PendingDeprecationWarning: The dtype argument will be deprecated in anndata 0.10.0\n",
      "  warnings.warn(\n",
      "/home/ubuntu0/miniconda3/envs/glue2_scib/lib/python3.8/site-packages/anndata/_core/anndata.py:453: PendingDeprecationWarning: The dtype argument will be deprecated in anndata 0.10.0\n",
      "  warnings.warn(\n"
     ]
    },
    {
     "name": "stdout",
     "output_type": "stream",
     "text": [
      "Variance contribution increased after integration!\n",
      "Setting PCR comparison score to 0.\n",
      "Isolated labels F1...\n",
      "Compute neighbors on rep X_glue\n",
      "Compute neighbors on rep X_glue\n",
      "Compute neighbors on rep X_glue\n",
      "Compute neighbors on rep X_glue\n",
      "Compute neighbors on rep X_glue\n",
      "Compute neighbors on rep X_glue\n",
      "Compute neighbors on rep X_glue\n",
      "Compute neighbors on rep X_glue\n",
      "Compute neighbors on rep X_glue\n",
      "Compute neighbors on rep X_glue\n",
      "Compute neighbors on rep X_glue\n",
      "Compute neighbors on rep X_glue\n",
      "Compute neighbors on rep X_glue\n",
      "Compute neighbors on rep X_glue\n",
      "Compute neighbors on rep X_glue\n",
      "Compute neighbors on rep X_glue\n",
      "Compute neighbors on rep X_glue\n",
      "Compute neighbors on rep X_glue\n",
      "Compute neighbors on rep X_glue\n",
      "Compute neighbors on rep X_glue\n",
      "Compute neighbors on rep X_glue\n",
      "Compute neighbors on rep X_glue\n",
      "Isolated labels ASW...\n"
     ]
    },
    {
     "name": "stderr",
     "output_type": "stream",
     "text": [
      "/home/ubuntu0/miniconda3/envs/glue2_scib/lib/python3.8/site-packages/scib/metrics/metrics.py:293: DeprecationWarning: Call to deprecated function (or staticmethod) opt_louvain.\n",
      "  res_max, nmi_max, nmi_all = opt_louvain(\n"
     ]
    },
    {
     "name": "stdout",
     "output_type": "stream",
     "text": [
      "NMI...\n",
      "ARI...\n",
      "Silhouette score...\n",
      "PC regression...\n"
     ]
    },
    {
     "name": "stderr",
     "output_type": "stream",
     "text": [
      "/home/ubuntu0/miniconda3/envs/glue2_scib/lib/python3.8/site-packages/anndata/_core/anndata.py:453: PendingDeprecationWarning: The dtype argument will be deprecated in anndata 0.10.0\n",
      "  warnings.warn(\n",
      "/home/ubuntu0/miniconda3/envs/glue2_scib/lib/python3.8/site-packages/anndata/_core/anndata.py:453: PendingDeprecationWarning: The dtype argument will be deprecated in anndata 0.10.0\n",
      "  warnings.warn(\n"
     ]
    },
    {
     "name": "stdout",
     "output_type": "stream",
     "text": [
      "Isolated labels F1...\n",
      "Compute neighbors on rep X_glue\n",
      "Compute neighbors on rep X_glue\n",
      "Compute neighbors on rep X_glue\n",
      "Compute neighbors on rep X_glue\n",
      "Compute neighbors on rep X_glue\n",
      "Compute neighbors on rep X_glue\n",
      "Compute neighbors on rep X_glue\n",
      "Compute neighbors on rep X_glue\n",
      "Compute neighbors on rep X_glue\n",
      "Compute neighbors on rep X_glue\n",
      "Compute neighbors on rep X_glue\n",
      "Compute neighbors on rep X_glue\n",
      "Compute neighbors on rep X_glue\n",
      "Compute neighbors on rep X_glue\n",
      "Compute neighbors on rep X_glue\n",
      "Compute neighbors on rep X_glue\n",
      "Compute neighbors on rep X_glue\n",
      "Compute neighbors on rep X_glue\n",
      "Compute neighbors on rep X_glue\n",
      "Compute neighbors on rep X_glue\n",
      "Compute neighbors on rep X_glue\n",
      "Compute neighbors on rep X_glue\n",
      "Isolated labels ASW...\n"
     ]
    },
    {
     "name": "stderr",
     "output_type": "stream",
     "text": [
      "/home/ubuntu0/miniconda3/envs/glue2_scib/lib/python3.8/site-packages/scib/metrics/metrics.py:293: DeprecationWarning: Call to deprecated function (or staticmethod) opt_louvain.\n",
      "  res_max, nmi_max, nmi_all = opt_louvain(\n"
     ]
    },
    {
     "name": "stdout",
     "output_type": "stream",
     "text": [
      "Warning: cluster key cluster already exists in adata.obs and will be overwritten\n",
      "NMI...\n",
      "ARI...\n",
      "Silhouette score...\n",
      "PC regression...\n"
     ]
    },
    {
     "name": "stderr",
     "output_type": "stream",
     "text": [
      "/home/ubuntu0/miniconda3/envs/glue2_scib/lib/python3.8/site-packages/anndata/_core/anndata.py:453: PendingDeprecationWarning: The dtype argument will be deprecated in anndata 0.10.0\n",
      "  warnings.warn(\n",
      "/home/ubuntu0/miniconda3/envs/glue2_scib/lib/python3.8/site-packages/anndata/_core/anndata.py:453: PendingDeprecationWarning: The dtype argument will be deprecated in anndata 0.10.0\n",
      "  warnings.warn(\n"
     ]
    },
    {
     "name": "stdout",
     "output_type": "stream",
     "text": [
      "Isolated labels F1...\n",
      "Compute neighbors on rep X_glue\n",
      "Compute neighbors on rep X_glue\n",
      "Compute neighbors on rep X_glue\n",
      "Compute neighbors on rep X_glue\n",
      "Compute neighbors on rep X_glue\n",
      "Compute neighbors on rep X_glue\n",
      "Compute neighbors on rep X_glue\n",
      "Compute neighbors on rep X_glue\n",
      "Compute neighbors on rep X_glue\n",
      "Compute neighbors on rep X_glue\n",
      "Compute neighbors on rep X_glue\n",
      "Compute neighbors on rep X_glue\n",
      "Compute neighbors on rep X_glue\n",
      "Compute neighbors on rep X_glue\n",
      "Compute neighbors on rep X_glue\n",
      "Compute neighbors on rep X_glue\n",
      "Compute neighbors on rep X_glue\n",
      "Compute neighbors on rep X_glue\n",
      "Compute neighbors on rep X_glue\n",
      "Compute neighbors on rep X_glue\n",
      "Compute neighbors on rep X_glue\n",
      "Compute neighbors on rep X_glue\n",
      "Isolated labels ASW...\n"
     ]
    },
    {
     "name": "stderr",
     "output_type": "stream",
     "text": [
      "/home/ubuntu0/miniconda3/envs/glue2_scib/lib/python3.8/site-packages/scib/metrics/metrics.py:293: DeprecationWarning: Call to deprecated function (or staticmethod) opt_louvain.\n",
      "  res_max, nmi_max, nmi_all = opt_louvain(\n"
     ]
    },
    {
     "name": "stdout",
     "output_type": "stream",
     "text": [
      "NMI...\n",
      "ARI...\n",
      "Silhouette score...\n",
      "PC regression...\n"
     ]
    },
    {
     "name": "stderr",
     "output_type": "stream",
     "text": [
      "/home/ubuntu0/miniconda3/envs/glue2_scib/lib/python3.8/site-packages/anndata/_core/anndata.py:453: PendingDeprecationWarning: The dtype argument will be deprecated in anndata 0.10.0\n",
      "  warnings.warn(\n",
      "/home/ubuntu0/miniconda3/envs/glue2_scib/lib/python3.8/site-packages/anndata/_core/anndata.py:453: PendingDeprecationWarning: The dtype argument will be deprecated in anndata 0.10.0\n",
      "  warnings.warn(\n"
     ]
    },
    {
     "name": "stdout",
     "output_type": "stream",
     "text": [
      "Isolated labels F1...\n",
      "Compute neighbors on rep X_glue\n",
      "Compute neighbors on rep X_glue\n",
      "Compute neighbors on rep X_glue\n",
      "Compute neighbors on rep X_glue\n",
      "Compute neighbors on rep X_glue\n",
      "Compute neighbors on rep X_glue\n",
      "Compute neighbors on rep X_glue\n",
      "Compute neighbors on rep X_glue\n",
      "Compute neighbors on rep X_glue\n",
      "Compute neighbors on rep X_glue\n",
      "Compute neighbors on rep X_glue\n",
      "Compute neighbors on rep X_glue\n",
      "Compute neighbors on rep X_glue\n",
      "Compute neighbors on rep X_glue\n",
      "Compute neighbors on rep X_glue\n",
      "Compute neighbors on rep X_glue\n",
      "Compute neighbors on rep X_glue\n",
      "Compute neighbors on rep X_glue\n",
      "Compute neighbors on rep X_glue\n",
      "Compute neighbors on rep X_glue\n",
      "Compute neighbors on rep X_glue\n",
      "Compute neighbors on rep X_glue\n",
      "Isolated labels ASW...\n"
     ]
    },
    {
     "name": "stderr",
     "output_type": "stream",
     "text": [
      "/home/ubuntu0/miniconda3/envs/glue2_scib/lib/python3.8/site-packages/scib/metrics/metrics.py:293: DeprecationWarning: Call to deprecated function (or staticmethod) opt_louvain.\n",
      "  res_max, nmi_max, nmi_all = opt_louvain(\n"
     ]
    },
    {
     "name": "stdout",
     "output_type": "stream",
     "text": [
      "Warning: cluster key cluster already exists in adata.obs and will be overwritten\n",
      "NMI...\n",
      "ARI...\n",
      "Silhouette score...\n",
      "PC regression...\n"
     ]
    },
    {
     "name": "stderr",
     "output_type": "stream",
     "text": [
      "/home/ubuntu0/miniconda3/envs/glue2_scib/lib/python3.8/site-packages/anndata/_core/anndata.py:453: PendingDeprecationWarning: The dtype argument will be deprecated in anndata 0.10.0\n",
      "  warnings.warn(\n",
      "/home/ubuntu0/miniconda3/envs/glue2_scib/lib/python3.8/site-packages/anndata/_core/anndata.py:453: PendingDeprecationWarning: The dtype argument will be deprecated in anndata 0.10.0\n",
      "  warnings.warn(\n"
     ]
    },
    {
     "name": "stdout",
     "output_type": "stream",
     "text": [
      "Isolated labels F1...\n",
      "Compute neighbors on rep X_glue\n",
      "Compute neighbors on rep X_glue\n",
      "Compute neighbors on rep X_glue\n",
      "Compute neighbors on rep X_glue\n",
      "Compute neighbors on rep X_glue\n",
      "Compute neighbors on rep X_glue\n",
      "Compute neighbors on rep X_glue\n",
      "Compute neighbors on rep X_glue\n",
      "Compute neighbors on rep X_glue\n",
      "Compute neighbors on rep X_glue\n",
      "Compute neighbors on rep X_glue\n",
      "Compute neighbors on rep X_glue\n",
      "Compute neighbors on rep X_glue\n",
      "Compute neighbors on rep X_glue\n",
      "Compute neighbors on rep X_glue\n",
      "Compute neighbors on rep X_glue\n",
      "Compute neighbors on rep X_glue\n",
      "Compute neighbors on rep X_glue\n",
      "Compute neighbors on rep X_glue\n",
      "Compute neighbors on rep X_glue\n",
      "Compute neighbors on rep X_glue\n",
      "Compute neighbors on rep X_glue\n",
      "Isolated labels ASW...\n"
     ]
    }
   ],
   "source": [
    "#scib check\n",
    "scib=[]\n",
    "name_list=[]\n",
    "for i in range(3):\n",
    "    atac=atacl[i]\n",
    "    glue_scb=scglue.models.load_model(path+'glue/scb'+str(i)+'.dill')\n",
    "    glue_lsi=scglue.models.load_model(path+'glue/lsi'+str(i)+'.dill')\n",
    "    atac.obsm['X_glue']=glue_lsi.encode_data('atac',atac)\n",
    "    df1=run_scib(atac,'X_glue')\n",
    "    atac.obsm['X_glue']=glue_scb.encode_data('atac',atac)\n",
    "    df2=run_scib(atac,'X_glue')\n",
    "    scib.append(df1)\n",
    "    scib.append(df2)\n",
    "    name_list.append('d'+str(i)+'lsi')\n",
    "    name_list.append('d'+str(i)+'scbasset')\n",
    "bio_df,bio=metric_res(scib,name_list)"
   ]
  },
  {
   "cell_type": "code",
   "execution_count": 13,
   "id": "ee4727ad-0642-4c73-93ca-4b9985dc7d2f",
   "metadata": {
    "tags": []
   },
   "outputs": [
    {
     "data": {
      "text/html": [
       "<style type=\"text/css\">\n",
       "#T_bce90_row0_col0, #T_bce90_row1_col0, #T_bce90_row1_col2, #T_bce90_row1_col3, #T_bce90_row1_col4, #T_bce90_row4_col1, #T_bce90_row5_col1, #T_bce90_row5_col4, #T_bce90_row5_col5 {\n",
       "  background-color: #f7fbff;\n",
       "  color: #000000;\n",
       "}\n",
       "#T_bce90_row0_col1, #T_bce90_row1_col1 {\n",
       "  background-color: #084285;\n",
       "  color: #f1f1f1;\n",
       "}\n",
       "#T_bce90_row0_col2, #T_bce90_row2_col0, #T_bce90_row2_col1, #T_bce90_row2_col3, #T_bce90_row2_col4, #T_bce90_row2_col5, #T_bce90_row3_col0, #T_bce90_row3_col1 {\n",
       "  background-color: #08306b;\n",
       "  color: #f1f1f1;\n",
       "}\n",
       "#T_bce90_row0_col3 {\n",
       "  background-color: #105ba4;\n",
       "  color: #f1f1f1;\n",
       "}\n",
       "#T_bce90_row0_col4 {\n",
       "  background-color: #084990;\n",
       "  color: #f1f1f1;\n",
       "}\n",
       "#T_bce90_row0_col5 {\n",
       "  background-color: #1865ac;\n",
       "  color: #f1f1f1;\n",
       "}\n",
       "#T_bce90_row1_col5 {\n",
       "  background-color: #d8e7f5;\n",
       "  color: #000000;\n",
       "}\n",
       "#T_bce90_row2_col2 {\n",
       "  background-color: #3888c1;\n",
       "  color: #f1f1f1;\n",
       "}\n",
       "#T_bce90_row3_col2 {\n",
       "  background-color: #3585bf;\n",
       "  color: #f1f1f1;\n",
       "}\n",
       "#T_bce90_row3_col3 {\n",
       "  background-color: #caddf0;\n",
       "  color: #000000;\n",
       "}\n",
       "#T_bce90_row3_col4 {\n",
       "  background-color: #e4eff9;\n",
       "  color: #000000;\n",
       "}\n",
       "#T_bce90_row3_col5 {\n",
       "  background-color: #7db8da;\n",
       "  color: #000000;\n",
       "}\n",
       "#T_bce90_row4_col0, #T_bce90_row5_col0 {\n",
       "  background-color: #3b8bc2;\n",
       "  color: #f1f1f1;\n",
       "}\n",
       "#T_bce90_row4_col2 {\n",
       "  background-color: #5aa2cf;\n",
       "  color: #f1f1f1;\n",
       "}\n",
       "#T_bce90_row4_col3 {\n",
       "  background-color: #08519c;\n",
       "  color: #f1f1f1;\n",
       "}\n",
       "#T_bce90_row4_col4 {\n",
       "  background-color: #0f5aa3;\n",
       "  color: #f1f1f1;\n",
       "}\n",
       "#T_bce90_row4_col5 {\n",
       "  background-color: #4594c7;\n",
       "  color: #f1f1f1;\n",
       "}\n",
       "#T_bce90_row5_col2 {\n",
       "  background-color: #d9e7f5;\n",
       "  color: #000000;\n",
       "}\n",
       "#T_bce90_row5_col3 {\n",
       "  background-color: #f4f9fe;\n",
       "  color: #000000;\n",
       "}\n",
       "</style>\n",
       "<table id=\"T_bce90\">\n",
       "  <thead>\n",
       "    <tr>\n",
       "      <th class=\"blank level0\" >&nbsp;</th>\n",
       "      <th id=\"T_bce90_level0_col0\" class=\"col_heading level0 col0\" >NMI_cluster/label</th>\n",
       "      <th id=\"T_bce90_level0_col1\" class=\"col_heading level0 col1\" >ARI_cluster/label</th>\n",
       "      <th id=\"T_bce90_level0_col2\" class=\"col_heading level0 col2\" >ASW_label</th>\n",
       "      <th id=\"T_bce90_level0_col3\" class=\"col_heading level0 col3\" >isolated_label_F1</th>\n",
       "      <th id=\"T_bce90_level0_col4\" class=\"col_heading level0 col4\" >isolated_label_silhouette</th>\n",
       "      <th id=\"T_bce90_level0_col5\" class=\"col_heading level0 col5\" >bio</th>\n",
       "    </tr>\n",
       "  </thead>\n",
       "  <tbody>\n",
       "    <tr>\n",
       "      <th id=\"T_bce90_level0_row0\" class=\"row_heading level0 row0\" >d0lsi</th>\n",
       "      <td id=\"T_bce90_row0_col0\" class=\"data row0 col0\" >0.495361</td>\n",
       "      <td id=\"T_bce90_row0_col1\" class=\"data row0 col1\" >0.454859</td>\n",
       "      <td id=\"T_bce90_row0_col2\" class=\"data row0 col2\" >0.506001</td>\n",
       "      <td id=\"T_bce90_row0_col3\" class=\"data row0 col3\" >0.389654</td>\n",
       "      <td id=\"T_bce90_row0_col4\" class=\"data row0 col4\" >0.491710</td>\n",
       "      <td id=\"T_bce90_row0_col5\" class=\"data row0 col5\" >0.467517</td>\n",
       "    </tr>\n",
       "    <tr>\n",
       "      <th id=\"T_bce90_level0_row1\" class=\"row_heading level0 row1\" >d0scbasset</th>\n",
       "      <td id=\"T_bce90_row1_col0\" class=\"data row1 col0\" >0.495361</td>\n",
       "      <td id=\"T_bce90_row1_col1\" class=\"data row1 col1\" >0.454859</td>\n",
       "      <td id=\"T_bce90_row1_col2\" class=\"data row1 col2\" >0.499139</td>\n",
       "      <td id=\"T_bce90_row1_col3\" class=\"data row1 col3\" >0.323529</td>\n",
       "      <td id=\"T_bce90_row1_col4\" class=\"data row1 col4\" >0.482583</td>\n",
       "      <td id=\"T_bce90_row1_col5\" class=\"data row1 col5\" >0.451094</td>\n",
       "    </tr>\n",
       "    <tr>\n",
       "      <th id=\"T_bce90_level0_row2\" class=\"row_heading level0 row2\" >d1lsi</th>\n",
       "      <td id=\"T_bce90_row2_col0\" class=\"data row2 col0\" >0.507868</td>\n",
       "      <td id=\"T_bce90_row2_col1\" class=\"data row2 col1\" >0.457058</td>\n",
       "      <td id=\"T_bce90_row2_col2\" class=\"data row2 col2\" >0.503679</td>\n",
       "      <td id=\"T_bce90_row2_col3\" class=\"data row2 col3\" >0.403003</td>\n",
       "      <td id=\"T_bce90_row2_col4\" class=\"data row2 col4\" >0.492673</td>\n",
       "      <td id=\"T_bce90_row2_col5\" class=\"data row2 col5\" >0.472856</td>\n",
       "    </tr>\n",
       "    <tr>\n",
       "      <th id=\"T_bce90_level0_row3\" class=\"row_heading level0 row3\" >d1scbasset</th>\n",
       "      <td id=\"T_bce90_row3_col0\" class=\"data row3 col0\" >0.507868</td>\n",
       "      <td id=\"T_bce90_row3_col1\" class=\"data row3 col1\" >0.457058</td>\n",
       "      <td id=\"T_bce90_row3_col2\" class=\"data row3 col2\" >0.503770</td>\n",
       "      <td id=\"T_bce90_row3_col3\" class=\"data row3 col3\" >0.341859</td>\n",
       "      <td id=\"T_bce90_row3_col4\" class=\"data row3 col4\" >0.483535</td>\n",
       "      <td id=\"T_bce90_row3_col5\" class=\"data row3 col5\" >0.458818</td>\n",
       "    </tr>\n",
       "    <tr>\n",
       "      <th id=\"T_bce90_level0_row4\" class=\"row_heading level0 row4\" >d2lsi</th>\n",
       "      <td id=\"T_bce90_row4_col0\" class=\"data row4 col0\" >0.503475</td>\n",
       "      <td id=\"T_bce90_row4_col1\" class=\"data row4 col1\" >0.424021</td>\n",
       "      <td id=\"T_bce90_row4_col2\" class=\"data row4 col2\" >0.502942</td>\n",
       "      <td id=\"T_bce90_row4_col3\" class=\"data row4 col3\" >0.393062</td>\n",
       "      <td id=\"T_bce90_row4_col4\" class=\"data row4 col4\" >0.491038</td>\n",
       "      <td id=\"T_bce90_row4_col5\" class=\"data row4 col5\" >0.462908</td>\n",
       "    </tr>\n",
       "    <tr>\n",
       "      <th id=\"T_bce90_level0_row5\" class=\"row_heading level0 row5\" >d2scbasset</th>\n",
       "      <td id=\"T_bce90_row5_col0\" class=\"data row5 col0\" >0.503475</td>\n",
       "      <td id=\"T_bce90_row5_col1\" class=\"data row5 col1\" >0.424021</td>\n",
       "      <td id=\"T_bce90_row5_col2\" class=\"data row5 col2\" >0.500188</td>\n",
       "      <td id=\"T_bce90_row5_col3\" class=\"data row5 col3\" >0.324868</td>\n",
       "      <td id=\"T_bce90_row5_col4\" class=\"data row5 col4\" >0.482608</td>\n",
       "      <td id=\"T_bce90_row5_col5\" class=\"data row5 col5\" >0.447032</td>\n",
       "    </tr>\n",
       "  </tbody>\n",
       "</table>\n"
      ],
      "text/plain": [
       "<pandas.io.formats.style.Styler at 0x7f8e29a5c0d0>"
      ]
     },
     "execution_count": 13,
     "metadata": {},
     "output_type": "execute_result"
    }
   ],
   "source": [
    "bio"
   ]
  },
  {
   "cell_type": "code",
   "execution_count": 20,
   "id": "a32f73ae-b679-4ce7-9d31-51da092c41ca",
   "metadata": {
    "tags": []
   },
   "outputs": [
    {
     "data": {
      "text/html": [
       "<div>\n",
       "<style scoped>\n",
       "    .dataframe tbody tr th:only-of-type {\n",
       "        vertical-align: middle;\n",
       "    }\n",
       "\n",
       "    .dataframe tbody tr th {\n",
       "        vertical-align: top;\n",
       "    }\n",
       "\n",
       "    .dataframe thead th {\n",
       "        text-align: right;\n",
       "    }\n",
       "</style>\n",
       "<table border=\"1\" class=\"dataframe\">\n",
       "  <thead>\n",
       "    <tr style=\"text-align: right;\">\n",
       "      <th></th>\n",
       "      <th>NMI_cluster/label</th>\n",
       "      <th>ARI_cluster/label</th>\n",
       "      <th>ASW_label</th>\n",
       "      <th>isolated_label_F1</th>\n",
       "      <th>isolated_label_silhouette</th>\n",
       "      <th>bio</th>\n",
       "    </tr>\n",
       "  </thead>\n",
       "  <tbody>\n",
       "    <tr>\n",
       "      <th>d0lsi</th>\n",
       "      <td>0.495361</td>\n",
       "      <td>0.454859</td>\n",
       "      <td>0.506001</td>\n",
       "      <td>0.389654</td>\n",
       "      <td>0.491710</td>\n",
       "      <td>0.47</td>\n",
       "    </tr>\n",
       "    <tr>\n",
       "      <th>d0scbasset</th>\n",
       "      <td>0.495361</td>\n",
       "      <td>0.454859</td>\n",
       "      <td>0.499139</td>\n",
       "      <td>0.323529</td>\n",
       "      <td>0.482583</td>\n",
       "      <td>0.45</td>\n",
       "    </tr>\n",
       "    <tr>\n",
       "      <th>d1lsi</th>\n",
       "      <td>0.507868</td>\n",
       "      <td>0.457058</td>\n",
       "      <td>0.503679</td>\n",
       "      <td>0.403003</td>\n",
       "      <td>0.492673</td>\n",
       "      <td>0.47</td>\n",
       "    </tr>\n",
       "    <tr>\n",
       "      <th>d1scbasset</th>\n",
       "      <td>0.507868</td>\n",
       "      <td>0.457058</td>\n",
       "      <td>0.503770</td>\n",
       "      <td>0.341859</td>\n",
       "      <td>0.483535</td>\n",
       "      <td>0.46</td>\n",
       "    </tr>\n",
       "    <tr>\n",
       "      <th>d2lsi</th>\n",
       "      <td>0.503475</td>\n",
       "      <td>0.424021</td>\n",
       "      <td>0.502942</td>\n",
       "      <td>0.393062</td>\n",
       "      <td>0.491038</td>\n",
       "      <td>0.46</td>\n",
       "    </tr>\n",
       "    <tr>\n",
       "      <th>d2scbasset</th>\n",
       "      <td>0.503475</td>\n",
       "      <td>0.424021</td>\n",
       "      <td>0.500188</td>\n",
       "      <td>0.324868</td>\n",
       "      <td>0.482608</td>\n",
       "      <td>0.45</td>\n",
       "    </tr>\n",
       "  </tbody>\n",
       "</table>\n",
       "</div>"
      ],
      "text/plain": [
       "            NMI_cluster/label  ARI_cluster/label  ASW_label  \\\n",
       "d0lsi                0.495361           0.454859   0.506001   \n",
       "d0scbasset           0.495361           0.454859   0.499139   \n",
       "d1lsi                0.507868           0.457058   0.503679   \n",
       "d1scbasset           0.507868           0.457058   0.503770   \n",
       "d2lsi                0.503475           0.424021   0.502942   \n",
       "d2scbasset           0.503475           0.424021   0.500188   \n",
       "\n",
       "            isolated_label_F1  isolated_label_silhouette   bio  \n",
       "d0lsi                0.389654                   0.491710  0.47  \n",
       "d0scbasset           0.323529                   0.482583  0.45  \n",
       "d1lsi                0.403003                   0.492673  0.47  \n",
       "d1scbasset           0.341859                   0.483535  0.46  \n",
       "d2lsi                0.393062                   0.491038  0.46  \n",
       "d2scbasset           0.324868                   0.482608  0.45  "
      ]
     },
     "execution_count": 20,
     "metadata": {},
     "output_type": "execute_result"
    }
   ],
   "source": [
    "\n",
    "bio_df,bio=metric_res(scib,name_list)\n",
    "bio_df['bio']=bio_df['bio'].round(2)\n",
    "bio_df"
   ]
  },
  {
   "cell_type": "code",
   "execution_count": 21,
   "id": "9491a1a6-197f-497f-b369-537989a519f5",
   "metadata": {
    "tags": []
   },
   "outputs": [],
   "source": [
    "bio_df.to_csv(path+'bio.csv')"
   ]
  },
  {
   "cell_type": "code",
   "execution_count": null,
   "id": "c4f59161-0f65-4dd7-81d1-1745546322b4",
   "metadata": {},
   "outputs": [],
   "source": [
    "plt.figure(dpi=120)\n",
    "\n",
    "\n",
    "sns.heatmap(data=bio,\n",
    "           cmap=plt.get_cmap('Greens'),\n",
    "           annot=True\n",
    "           )\n",
    "\n",
    "plt.title('scib metrics')\n",
    "plt.xlabel('metric type')\n",
    "plt.ylabel('modified models')\n",
    "plt.savefig('test_code_example/scib_heatmap.png',bbox_inches='tight')"
   ]
  }
 ],
 "metadata": {
  "kernelspec": {
   "display_name": "glue2_scib_env",
   "language": "python",
   "name": "glue2_scib"
  },
  "language_info": {
   "codemirror_mode": {
    "name": "ipython",
    "version": 3
   },
   "file_extension": ".py",
   "mimetype": "text/x-python",
   "name": "python",
   "nbconvert_exporter": "python",
   "pygments_lexer": "ipython3",
   "version": "3.8.18"
  }
 },
 "nbformat": 4,
 "nbformat_minor