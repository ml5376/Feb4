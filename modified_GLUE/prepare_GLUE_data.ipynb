{
 "cells": [
  {
   "cell_type": "code",
   "execution_count": 1,
   "id": "90e8194b-3c20-42c3-9b36-0e2b83f6cef6",
   "metadata": {},
   "outputs": [
    {
     "name": "stderr",
     "output_type": "stream",
     "text": [
      "/home/ubuntu0/miniconda3/envs/glue2/lib/python3.8/site-packages/tqdm/auto.py:21: TqdmWarning: IProgress not found. Please update jupyter and ipywidgets. See https://ipywidgets.readthedocs.io/en/stable/user_install.html\n",
      "  from .autonotebook import tqdm as notebook_tqdm\n"
     ]
    },
    {
     "name": "stdout",
     "output_type": "stream",
     "text": [
      "/home/ubuntu0/GLUE/paired_data\n"
     ]
    },
    {
     "name": "stderr",
     "output_type": "stream",
     "text": [
      "/home/ubuntu0/miniconda3/envs/glue2/lib/python3.8/site-packages/numba/np/ufunc/parallel.py:371: NumbaWarning: The TBB threading layer requires TBB version 2021 update 6 or later i.e., TBB_INTERFACE_VERSION >= 12060. Found TBB_INTERFACE_VERSION = 12050. The TBB threading layer is disabled.\n",
      "  warnings.warn(problem)\n"
     ]
    },
    {
     "name": "stdout",
     "output_type": "stream",
     "text": [
      "               chrom  chromStart   chromEnd\n",
      "genes                                      \n",
      "0610005C13Rik   chr7    45567793   45575327\n",
      "0610009B22Rik  chr11    51685385   51688874\n",
      "0610009E02Rik   chr2    26445695   26459390\n",
      "0610009L18Rik  chr11   120348677  120351190\n",
      "0610010F05Rik  chr11    23564960   23633639\n",
      "                     chrom  chromStart  chromEnd\n",
      "peaks                                           \n",
      "chr1:3005833-3005982  chr1     3005833   3005982\n",
      "chr1:3094772-3095489  chr1     3094772   3095489\n",
      "chr1:3119556-3120739  chr1     3119556   3120739\n",
      "chr1:3121334-3121696  chr1     3121334   3121696\n",
      "chr1:3134637-3135032  chr1     3134637   3135032\n"
     ]
    },
    {
     "name": "stderr",
     "output_type": "stream",
     "text": [
      "window_graph: 100%|████████████████████████████████████████████████████████████████████████| 28930/28930 [00:02<00:00, 13759.75it/s]\n"
     ]
    }
   ],
   "source": [
    "import anndata as ad\n",
    "import networkx as nx\n",
    "import scanpy as sc\n",
    "\n",
    "from itertools import chain\n",
    "from matplotlib import rcParams\n",
    "import pandas as pd\n",
    "import scglue\n",
    "import os\n",
    "print(os.getcwd())\n",
    "path='/home/ubuntu0/scBasset/'\n",
    "#\n",
    "\n",
    "rna = ad.read_h5ad(path+\"Chen-2019-RNA.h5ad\")\n",
    "atac = ad.read_h5ad(path+\"Chen-2019-ATAC.h5ad\")\n",
    "rna.layers[\"counts\"] = rna.X.copy()\n",
    "\n",
    "#select high expressive genes as in the tutorial the number 2000\n",
    "sc.pp.highly_variable_genes(rna, n_top_genes=2000, flavor=\"seurat_v3\")\n",
    "\n",
    "sc.pp.normalize_total(rna)\n",
    "sc.pp.log1p(rna)\n",
    "sc.pp.scale(rna)\n",
    "sc.tl.pca(rna, n_comps=100, svd_solver=\"auto\")\n",
    "\n",
    "sc.pp.neighbors(rna, metric=\"cosine\")\n",
    "sc.tl.umap(rna)\n",
    "\n",
    "scglue.data.lsi(atac, n_components=100, n_iter=15)#embedding is computed before the subsetting \n",
    "# sc.pp.subsample(rna, n_obs=2000, random_state=42)\n",
    "\n",
    "scglue.data.get_gene_annotation(\n",
    "    rna, gtf=\"/home/ubuntu0/GLUE/evaluation/workflow/scripts/gencode.vM25.chr_patch_hapl_scaff.annotation.gtf.gz\",\n",
    "    gtf_by=\"gene_name\"\n",
    ")\n",
    "\n",
    "print(rna.var.loc[:,[\"chrom\",\"chromStart\",\"chromEnd\"]].head())\n",
    "# sc.pp.filter_cells(atac, min_genes=0)\n",
    "# sc.pp.filter_genes(atac, min_cells=0)\n",
    "\n",
    "split = atac.var_names.str.split(r\"[:-]\")\n",
    "atac.var[\"chrom\"] = split.map(lambda x: x[0])\n",
    "atac.var[\"chromStart\"] = split.map(lambda x: x[1]).astype(int)\n",
    "atac.var[\"chromEnd\"] = split.map(lambda x: x[2]).astype(int)\n",
    "print(atac.var.head())\n",
    "\n",
    "guidance=scglue.genomics.rna_anchored_guidance_graph(rna, atac)\n",
    "\n",
    "atac=atac[pd.Series(atac.obs_names).sample(2000),pd.Series(atac.var_names).sample(30000)].copy()\n",
    "sc.pp.subsample(rna, n_obs=2000, random_state=42)\n",
    "\n"
   ]
  },
  {
   "cell_type": "code",
   "execution_count": 2,
   "id": "0d8c72d5-13d5-4ca5-9612-2781c9834ee7",
   "metadata": {},
   "outputs": [
    {
     "data": {
      "text/plain": [
       "(AnnData object with n_obs × n_vars = 2000 × 28930\n",
       "     obs: 'domain', 'cell_type'\n",
       "     var: 'highly_variable', 'highly_variable_rank', 'means', 'variances', 'variances_norm', 'mean', 'std', 'chrom', 'chromStart', 'chromEnd', 'name', 'score', 'strand', 'thickStart', 'thickEnd', 'itemRgb', 'blockCount', 'blockSizes', 'blockStarts', 'gene_id', 'gene_type', 'mgi_id', 'havana_gene', 'tag'\n",
       "     uns: 'hvg', 'log1p', 'pca', 'neighbors', 'umap'\n",
       "     obsm: 'X_pca', 'X_umap'\n",
       "     varm: 'PCs'\n",
       "     layers: 'counts'\n",
       "     obsp: 'distances', 'connectivities',\n",
       " AnnData object with n_obs × n_vars = 2000 × 30000\n",
       "     obs: 'domain', 'cell_type'\n",
       "     var: 'chrom', 'chromStart', 'chromEnd', 'highly_variable'\n",
       "     obsm: 'X_lsi')"
      ]
     },
     "execution_count": 2,
     "metadata": {},
     "output_type": "execute_result"
    }
   ],
   "source": [
    "rna,atac"
   ]
  },
  {
   "cell_type": "code",
   "execution_count": 4,
   "id": "d827f3f3-aadd-4543-bdde-efd1bef3240a",
   "metadata": {},
   "outputs": [],
   "source": [
    "rna.write_h5ad('rna1129.h5ad')\n",
    "atac.write_h5ad('atac1129.h5ad')\n",
    "nx.write_graphml(guidance,'full_guidance.graphml.gz')"
   ]
  },
  {
   "cell_type": "code",
   "execution_count": null,
   "id": "7bd04a7b-bf6d-45db-a277-791008bcfc4b",
   "metadata": {},
   "outputs": [],
   "source": []
  }
 ],
 "metadata": {
  "kernelspec": {
   "display_name": "glue2_kernel",
   "language": "python",
   "name": "glue2"
  },
  "language_info": {
   "codemirror_mode": {
    "name": "ipython",
    "version": 3
   },
   "file_extension": ".py",
   "mimetype": "text/x-python",
   "name": "python",
   "nbconvert_exporter": "python",
   "pygments_lexer": "ipython3",
   "version": "3.8.18"
  }
 },
 "nbformat": 4,
 "nbformat_minor": 5
}
