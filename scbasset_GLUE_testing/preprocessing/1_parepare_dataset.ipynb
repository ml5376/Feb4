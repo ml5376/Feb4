{
 "cells": [
  {
   "cell_type": "code",
   "execution_count": 1,
   "id": "5df6f16d-5e5d-44e4-bfa3-9ee8b63218a3",
   "metadata": {
    "tags": []
   },
   "outputs": [],
   "source": [
    "#prepare atac data : generate 3 dataset of same size\n",
    "import anndata as ad\n",
    "import scanpy as sc\n",
    "import pandas as pd\n",
    "import os\n",
    "\n",
    "def draw_scb_data(atac,ncell,nfeature):\n",
    "    '''\n",
    "    return randomly sumsampled atac dataset\n",
    "    input: atac read from h5ad \n",
    "    '''\n",
    "    split = atac.var_names.str.split(r'[:-]')\n",
    "    atac.var['chr']=split.map(lambda x:x[0])\n",
    "    atac.var['start']=split.map(lambda x:x[1]).astype(int)\n",
    "    atac.var['end']=split.map(lambda x:x[2]).astype(int)\n",
    "    sc.pp.filter_cells(atac,min_genes=0)\n",
    "    sc.pp.filter_genes(atac,min_cells=0)\n",
    "    chrs = ['chr'+str(i) for i in range(1,23)] + ['chrX', 'chrY']\n",
    "    atac = atac[:, atac.var['chr'].isin(chrs)]\n",
    "    return atac[pd.Series(atac.obs_names).sample(ncell),pd.Series(atac.var_names).sample(nfeature)].copy()\n",
    "\n",
    "def call_preprocess(file,process):   \n",
    "    from preprocess import main\n",
    "    main(file,'hg38.fa',process)  \n",
    "\n",
    "def call_train(pth,epoch,bottle_neck,output,trained_model):\n",
    "    from train import main\n",
    "    main(pth,epoch,bottle_neck,output,trained_model)\n"
   ]
  },
  {
   "cell_type": "code",
   "execution_count": 2,
   "id": "00ed8c7c-8ee6-4b5c-b0aa-f2c22e340675",
   "metadata": {
    "tags": []
   },
   "outputs": [
    {
     "data": {
      "text/plain": [
       "'/home/ubuntu0/scBasset/training_pipeline'"
      ]
     },
     "execution_count": 2,
     "metadata": {},
     "output_type": "execute_result"
    }
   ],
   "source": [
    "import os\n",
    "os.getcwd()"
   ]
  },
  {
   "cell_type": "code",
   "execution_count": 3,
   "id": "a5cdf4b3-07f4-4f0e-b074-0a7630e37c14",
   "metadata": {
    "tags": []
   },
   "outputs": [
    {
     "data": {
      "text/plain": [
       "'2024-01-27-06_43_00'"
      ]
     },
     "execution_count": 3,
     "metadata": {},
     "output_type": "execute_result"
    }
   ],
   "source": [
    "import time \n",
    "now = time.strftime('%Y-%m-%d-%H_%M_%S',time.localtime(time.time()))\n",
    "now"
   ]
  },
  {
   "cell_type": "code",
   "execution_count": 4,
   "id": "c45d9d65-c132-469e-b0e1-afe01f68304b",
   "metadata": {
    "tags": []
   },
   "outputs": [
    {
     "name": "stdout",
     "output_type": "stream",
     "text": [
      "/home/ubuntu0/scBasset/training_pipeline\n",
      "['/home/ubuntu0/scBasset/training_pipeline', '/home/ubuntu0/miniconda3/envs/scbasset/lib/python37.zip', '/home/ubuntu0/miniconda3/envs/scbasset/lib/python3.7', '/home/ubuntu0/miniconda3/envs/scbasset/lib/python3.7/lib-dynload', '', '/home/ubuntu0/miniconda3/envs/scbasset/lib/python3.7/site-packages', '/home/ubuntu0/miniconda3/envs/scbasset/lib/python3.7/site-packages/IPython/extensions', '/home/ubuntu0/.ipython']\n"
     ]
    },
    {
     "name": "stderr",
     "output_type": "stream",
     "text": [
      "2024-01-27 06:43:03.506112: I tensorflow/core/platform/cpu_feature_guard.cc:193] This TensorFlow binary is optimized with oneAPI Deep Neural Network Library (oneDNN) to use the following CPU instructions in performance-critical operations:  AVX2 AVX_VNNI FMA\n",
      "To enable them in other operations, rebuild TensorFlow with the appropriate compiler flags.\n",
      "2024-01-27 06:43:03.580179: I tensorflow/core/util/util.cc:169] oneDNN custom operations are on. You may see slightly different numerical results due to floating-point round-off errors from different computation orders. To turn them off, set the environment variable `TF_ENABLE_ONEDNN_OPTS=0`.\n",
      "2024-01-27 06:43:03.596725: E tensorflow/stream_executor/cuda/cuda_blas.cc:2981] Unable to register cuBLAS factory: Attempting to register factory for plugin cuBLAS when one has already been registered\n",
      "2024-01-27 06:43:03.933981: W tensorflow/stream_executor/platform/default/dso_loader.cc:64] Could not load dynamic library 'libnvinfer.so.7'; dlerror: libnvinfer.so.7: cannot open shared object file: No such file or directory; LD_LIBRARY_PATH: :/home/ubuntu0/miniconda3/envs/scbasset/lib\n",
      "2024-01-27 06:43:03.934080: W tensorflow/stream_executor/platform/default/dso_loader.cc:64] Could not load dynamic library 'libnvinfer_plugin.so.7'; dlerror: libnvinfer_plugin.so.7: cannot open shared object file: No such file or directory; LD_LIBRARY_PATH: :/home/ubuntu0/miniconda3/envs/scbasset/lib\n",
      "2024-01-27 06:43:03.934086: W tensorflow/compiler/tf2tensorrt/utils/py_utils.cc:38] TF-TRT Warning: Cannot dlopen some TensorRT libraries. If you would like to use Nvidia GPU with TensorRT, please make sure the missing libraries mentioned above are installed properly.\n"
     ]
    },
    {
     "name": "stdout",
     "output_type": "stream",
     "text": [
      "Namespace(ad_file='2024-01-27-06_43_00data/atac0.h5ad', input_fasta='hg38.fa', out_path='2024-01-27-06_43_00processed/processed0')\n",
      "successful writing h5ad file.\n",
      "successful writing bed file.\n",
      "successful writing split file.\n",
      "successful writing sparse m.\n"
     ]
    },
    {
     "name": "stderr",
     "output_type": "stream",
     "text": [
      "Adding 1344 Ns to chr14:123513383-123513737\n",
      "Adding 1344 Ns to chr17:84657087-84657280\n",
      "Adding 1344 Ns to chr14:115821025-115821339\n",
      "Adding 1344 Ns to chr19:59024270-59024484\n",
      "Adding 1344 Ns to chr17:93109849-93110294\n",
      "Adding 1344 Ns to chr14:124502159-124502542\n",
      "Adding 1344 Ns to chr16:95897645-95898127\n",
      "Adding 1344 Ns to chrX:157597748-157598984\n",
      "Adding 1344 Ns to chr15:103013593-103013813\n",
      "Adding 1344 Ns to chr14:120289025-120289918\n",
      "Adding 1344 Ns to chr17:91085768-91086186\n",
      "Adding 1344 Ns to chrX:162035915-162036111\n",
      "Adding 1344 Ns to chr18:89768925-89770201\n",
      "Adding 1344 Ns to chr16:91392886-91393297\n",
      "Adding 1344 Ns to chr16:96468641-96469124\n",
      "Adding 1344 Ns to chr14:109660514-109660730\n",
      "Adding 1344 Ns to chrX:163938552-163939120\n",
      "Adding 1344 Ns to chr14:113930764-113931073\n",
      "Adding 1344 Ns to chr14:116459449-116459763\n",
      "Adding 1344 Ns to chr15:103457965-103458122\n",
      "Adding 1344 Ns to chr18:80630110-80630629\n",
      "Adding 1344 Ns to chr13:117267102-117267385\n"
     ]
    },
    {
     "name": "stdout",
     "output_type": "stream",
     "text": [
      "process 0 peaks takes 0.3 s\n"
     ]
    },
    {
     "name": "stderr",
     "output_type": "stream",
     "text": [
      "Adding 1344 Ns to chr19:59324700-59324981\n",
      "Adding 1344 Ns to chr18:88774197-88774416\n",
      "Adding 1344 Ns to chrX:168673338-168674673\n",
      "Adding 1344 Ns to chr14:115633070-115633705\n",
      "Adding 1344 Ns to chr14:118703385-118703747\n",
      "Adding 1344 Ns to chr14:121615408-121615829\n",
      "Adding 1344 Ns to chr17:89081328-89081714\n",
      "Adding 1344 Ns to chr19:58860244-58861354\n",
      "Adding 1344 Ns to chr19:58872651-58873038\n",
      "Adding 1344 Ns to chr17:85019212-85019583\n",
      "Adding 1344 Ns to chr16:96039263-96039897\n",
      "Adding 1344 Ns to chr17:88694253-88694444\n",
      "Adding 1344 Ns to chr16:96436876-96437061\n",
      "Adding 1344 Ns to chr16:96976090-96976379\n",
      "Adding 1344 Ns to chrX:167860890-167861355\n",
      "Adding 1344 Ns to chr17:84385612-84385994\n",
      "Adding 1344 Ns to chr15:102779868-102780362\n",
      "Adding 1344 Ns to chr18:86319184-86319579\n",
      "Adding 1344 Ns to chr18:82616370-82616670\n",
      "Adding 1344 Ns to chr16:95278997-95279249\n",
      "Adding 1344 Ns to chrX:160773053-160773919\n",
      "Adding 1344 Ns to chr17:85892012-85892200\n",
      "Adding 1344 Ns to chr19:60437620-60438313\n",
      "Adding 1344 Ns to chr14:111100109-111100765\n",
      "Adding 1344 Ns to chr16:94253940-94254460\n",
      "Adding 1344 Ns to chr19:58850273-58850451\n",
      "Adding 1344 Ns to chr17:88580245-88580604\n",
      "Adding 1344 Ns to chr14:120757577-120757851\n",
      "Adding 1344 Ns to chr16:97158744-97159153\n",
      "Adding 1344 Ns to chr15:102691069-102691407\n"
     ]
    },
    {
     "name": "stdout",
     "output_type": "stream",
     "text": [
      "process 1000 peaks takes 0.6 s\n"
     ]
    },
    {
     "name": "stderr",
     "output_type": "stream",
     "text": [
      "Adding 1344 Ns to chr14:121313078-121313836\n",
      "Adding 1344 Ns to chr14:119335966-119336406\n",
      "Adding 1344 Ns to chr14:116543637-116544101\n",
      "Adding 1344 Ns to chr19:61021380-61022020\n",
      "Adding 1344 Ns to chr18:82961266-82961512\n",
      "Adding 1344 Ns to chr14:109009809-109010009\n",
      "Adding 1344 Ns to chr16:97033328-97033891\n",
      "Adding 1344 Ns to chrX:166900689-166901280\n",
      "Adding 1344 Ns to chr18:84937580-84937798\n",
      "Adding 1344 Ns to chrX:159409262-159409584\n",
      "Adding 1344 Ns to chr13:119743154-119743596\n",
      "Adding 1344 Ns to chrX:167207773-167208250\n",
      "Adding 1344 Ns to chr14:121347321-121347514\n",
      "Adding 1344 Ns to chr18:85362874-85363617\n",
      "Adding 1344 Ns to chr18:82526101-82526440\n",
      "Adding 1344 Ns to chr17:90704745-90705233\n",
      "Adding 1344 Ns to chr14:120680810-120681135\n",
      "Adding 1344 Ns to chr14:121480110-121480429\n",
      "Adding 1344 Ns to chrX:165246218-165246442\n",
      "Adding 1344 Ns to chr18:80836052-80836366\n",
      "Adding 1344 Ns to chr13:118295321-118295627\n",
      "Adding 1344 Ns to chr14:111437397-111437673\n"
     ]
    },
    {
     "name": "stdout",
     "output_type": "stream",
     "text": [
      "process 2000 peaks takes 0.9 s\n"
     ]
    },
    {
     "name": "stderr",
     "output_type": "stream",
     "text": [
      "Adding 1344 Ns to chr14:119980965-119981217\n",
      "Adding 1344 Ns to chr17:89583105-89583301\n",
      "Adding 1344 Ns to chr14:121710091-121710416\n",
      "Adding 1344 Ns to chr14:117113230-117113466\n",
      "Adding 1344 Ns to chr17:88379364-88379590\n",
      "Adding 1344 Ns to chrX:169473815-169474384\n",
      "Adding 1344 Ns to chr19:59074801-59076045\n",
      "Adding 1344 Ns to chrX:157810829-157811243\n",
      "Adding 1344 Ns to chr17:93226155-93226396\n",
      "Adding 1344 Ns to chrX:157781257-157781459\n",
      "Adding 1344 Ns to chr14:123664553-123664983\n",
      "Adding 1344 Ns to chr16:94631950-94632319\n",
      "Adding 1344 Ns to chr18:84074220-84074413\n",
      "Adding 1344 Ns to chr15:102770858-102771531\n",
      "Adding 1344 Ns to chr17:91216520-91216742\n",
      "Adding 1344 Ns to chrX:167205837-167206140\n",
      "Adding 1344 Ns to chrX:161854000-161854210\n",
      "Adding 1344 Ns to chr14:117571961-117572779\n",
      "Adding 1344 Ns to chr13:115725691-115725881\n",
      "Adding 1344 Ns to chrX:162548987-162549311\n",
      "Adding 1344 Ns to chr13:118041065-118041440\n",
      "Adding 1344 Ns to chr14:121171975-121172488\n",
      "Adding 1344 Ns to chr17:90696030-90696892\n",
      "Adding 1344 Ns to chr14:119884496-119884792\n",
      "Adding 1344 Ns to chr14:114425475-114425963\n",
      "Adding 1344 Ns to chr14:110442459-110442887\n",
      "Adding 1344 Ns to chr16:91504773-91505596\n",
      "Adding 1344 Ns to chrX:167984815-167985223\n"
     ]
    },
    {
     "name": "stdout",
     "output_type": "stream",
     "text": [
      "process 3000 peaks takes 1.2 s\n"
     ]
    },
    {
     "name": "stderr",
     "output_type": "stream",
     "text": [
      "Adding 1344 Ns to chr17:90542630-90542875\n",
      "Adding 1344 Ns to chr14:110225203-110225597\n",
      "Adding 1344 Ns to chr17:93379925-93380336\n",
      "Adding 1344 Ns to chr14:115362244-115362435\n",
      "Adding 1344 Ns to chr16:91043794-91045071\n",
      "Adding 1344 Ns to chr18:81467934-81468249\n",
      "Adding 1344 Ns to chr17:86655077-86655382\n",
      "Adding 1344 Ns to chr14:109434108-109434544\n",
      "Adding 1344 Ns to chr17:89533525-89534002\n",
      "Adding 1344 Ns to chr17:89100363-89100669\n",
      "Adding 1344 Ns to chr14:112895632-112895898\n",
      "Adding 1344 Ns to chr19:60789941-60791233\n",
      "Adding 1344 Ns to chrX:167747255-167747660\n",
      "Adding 1344 Ns to chrX:163038832-163039243\n",
      "Adding 1344 Ns to chrX:161689377-161689644\n",
      "Adding 1344 Ns to chr15:102203244-102204438\n",
      "Adding 1344 Ns to chr14:120750070-120750260\n",
      "Adding 1344 Ns to chr16:94354463-94354766\n",
      "Adding 1344 Ns to chr17:90276482-90276716\n",
      "Adding 1344 Ns to chr14:121987153-121987810\n",
      "Adding 1344 Ns to chr16:95659375-95659884\n",
      "Adding 1344 Ns to chrX:163957837-163959015\n"
     ]
    },
    {
     "name": "stdout",
     "output_type": "stream",
     "text": [
      "process 4000 peaks takes 1.4 s\n"
     ]
    },
    {
     "name": "stderr",
     "output_type": "stream",
     "text": [
      "Adding 1344 Ns to chr16:96335755-96336239\n",
      "Adding 1344 Ns to chr17:83552615-83553064\n",
      "Adding 1344 Ns to chr15:102635778-102636556\n",
      "Adding 1344 Ns to chr14:124514766-124515318\n",
      "Adding 1344 Ns to chrX:163192429-163192834\n",
      "Adding 1344 Ns to chr16:93912175-93912488\n",
      "Adding 1344 Ns to chr14:118236726-118237494\n",
      "Adding 1344 Ns to chr13:117717826-117718169\n",
      "Adding 1344 Ns to chr17:89505298-89505654\n",
      "Adding 1344 Ns to chrX:160700955-160701226\n",
      "Adding 1344 Ns to chr18:82994643-82995139\n",
      "Adding 1344 Ns to chr14:117695401-117695792\n",
      "Adding 1344 Ns to chr13:119393143-119393371\n",
      "Adding 1344 Ns to chr18:83636241-83636538\n",
      "Adding 1344 Ns to chr14:117478814-117479223\n",
      "Adding 1344 Ns to chrX:159414836-159415292\n",
      "Adding 1344 Ns to chr14:119614685-119615024\n",
      "Adding 1344 Ns to chr14:111996235-111996629\n",
      "Adding 1344 Ns to chr14:124269205-124269434\n",
      "Adding 1344 Ns to chr19:59339199-59339360\n",
      "Adding 1344 Ns to chr16:90463039-90463188\n",
      "Adding 1344 Ns to chr16:92282927-92283224\n",
      "Adding 1344 Ns to chr13:118344198-118344638\n",
      "Adding 1344 Ns to chr14:120637448-120637894\n",
      "Adding 1344 Ns to chr15:102331513-102332211\n"
     ]
    },
    {
     "name": "stdout",
     "output_type": "stream",
     "text": [
      "process 5000 peaks takes 1.7 s\n"
     ]
    },
    {
     "name": "stderr",
     "output_type": "stream",
     "text": [
      "Adding 1344 Ns to chr16:90422134-90422602\n",
      "Adding 1344 Ns to chr14:112380586-112380809\n",
      "Adding 1344 Ns to chr16:91809757-91810247\n",
      "Adding 1344 Ns to chr16:97075206-97075466\n",
      "Adding 1344 Ns to chr17:86296536-86296751\n",
      "Adding 1344 Ns to chr14:121191708-121192845\n",
      "Adding 1344 Ns to chr17:90218012-90218259\n",
      "Adding 1344 Ns to chr17:86331408-86331630\n",
      "Adding 1344 Ns to chrX:167549670-167550113\n",
      "Adding 1344 Ns to chrX:157819009-157819174\n",
      "Adding 1344 Ns to chr16:95341196-95341923\n",
      "Adding 1344 Ns to chr14:116668341-116668595\n",
      "Adding 1344 Ns to chr17:84926294-84926550\n",
      "Adding 1344 Ns to chr17:88594334-88594568\n",
      "Adding 1344 Ns to chr14:118878475-118878927\n",
      "Adding 1344 Ns to chr14:120897715-120898074\n",
      "Adding 1344 Ns to chr15:101996484-101996855\n",
      "Adding 1344 Ns to chrX:160863488-160863811\n"
     ]
    },
    {
     "name": "stdout",
     "output_type": "stream",
     "text": [
      "process 6000 peaks takes 2.0 s\n"
     ]
    },
    {
     "name": "stderr",
     "output_type": "stream",
     "text": [
      "Adding 1344 Ns to chr14:108833295-108833496\n",
      "Adding 1344 Ns to chrX:164013278-164013427\n",
      "Adding 1344 Ns to chrX:159020188-159020490\n",
      "Adding 1344 Ns to chr17:90400508-90400851\n",
      "Adding 1344 Ns to chr16:97462685-97463075\n",
      "Adding 1344 Ns to chr16:92557942-92558402\n",
      "Adding 1344 Ns to chrX:161006380-161006657\n",
      "Adding 1344 Ns to chr16:93374688-93375154\n",
      "Adding 1344 Ns to chr17:91013808-91014345\n",
      "Adding 1344 Ns to chr16:96236372-96236724\n",
      "Adding 1344 Ns to chr14:123968751-123969110\n",
      "Adding 1344 Ns to chr14:117810413-117810708\n",
      "Adding 1344 Ns to chr16:92573442-92573690\n",
      "Adding 1344 Ns to chr17:87236596-87236841\n",
      "Adding 1344 Ns to chr17:84790286-84791114\n",
      "Adding 1344 Ns to chr13:117224573-117225103\n",
      "Adding 1344 Ns to chr17:84332541-84333276\n",
      "Adding 1344 Ns to chr18:89391618-89392029\n",
      "Adding 1344 Ns to chr17:86482575-86483060\n",
      "Adding 1344 Ns to chr14:117940394-117940662\n",
      "Adding 1344 Ns to chr16:95825751-95826034\n",
      "Adding 1344 Ns to chr16:92538452-92538676\n",
      "Adding 1344 Ns to chr18:82522435-82523123\n"
     ]
    },
    {
     "name": "stdout",
     "output_type": "stream",
     "text": [
      "process 7000 peaks takes 2.3 s\n"
     ]
    },
    {
     "name": "stderr",
     "output_type": "stream",
     "text": [
      "Adding 1344 Ns to chr17:89358456-89358824\n",
      "Adding 1344 Ns to chr14:119040331-119040587\n",
      "Adding 1344 Ns to chr14:118709607-118710176\n",
      "Adding 1344 Ns to chr16:92158474-92159340\n",
      "Adding 1344 Ns to chr14:120949767-120950019\n",
      "Adding 1344 Ns to chrX:167814105-167814894\n",
      "Adding 1344 Ns to chr14:111396788-111397429\n",
      "Adding 1344 Ns to chr18:89469038-89469383\n",
      "Adding 1344 Ns to chr14:120895801-120896201\n",
      "Adding 1344 Ns to chr17:84903611-84904011\n",
      "Adding 1344 Ns to chr14:123759552-123759941\n",
      "Adding 1344 Ns to chr18:90545830-90546033\n",
      "Adding 1344 Ns to chrX:167518091-167518819\n",
      "Adding 1344 Ns to chr17:91046350-91046577\n",
      "Adding 1344 Ns to chr13:117811154-117811497\n",
      "Adding 1344 Ns to chr16:97002086-97002695\n",
      "Adding 1344 Ns to chr14:116779582-116780085\n",
      "Adding 1344 Ns to chr14:115843698-115844654\n",
      "Adding 1344 Ns to chr13:114478521-114478818\n",
      "Adding 1344 Ns to chr13:118379200-118379482\n",
      "Adding 1344 Ns to chr17:91061085-91061451\n",
      "Adding 1344 Ns to chr16:94312597-94313125\n",
      "Adding 1344 Ns to chr18:88765170-88765607\n",
      "Adding 1344 Ns to chrX:157829970-157830581\n",
      "Adding 1344 Ns to chr17:87986469-87986738\n",
      "Adding 1344 Ns to chr18:83815684-83815934\n",
      "Adding 1344 Ns to chr14:110128305-110128626\n"
     ]
    },
    {
     "name": "stdout",
     "output_type": "stream",
     "text": [
      "process 8000 peaks takes 2.5 s\n"
     ]
    },
    {
     "name": "stderr",
     "output_type": "stream",
     "text": [
      "Adding 1344 Ns to chrX:165767889-165768198\n",
      "Adding 1344 Ns to chr16:94302578-94303202\n",
      "Adding 1344 Ns to chrX:159508806-159509024\n",
      "Adding 1344 Ns to chr16:96345132-96345479\n",
      "Adding 1344 Ns to chr18:84598913-84599649\n",
      "Adding 1344 Ns to chr16:91184500-91184919\n",
      "Adding 1344 Ns to chr16:94388080-94388411\n",
      "Adding 1344 Ns to chr14:108729232-108729384\n",
      "Adding 1344 Ns to chr19:60580354-60581357\n",
      "Adding 1344 Ns to chr13:120320122-120320315\n",
      "Adding 1344 Ns to chr17:87945237-87945702\n",
      "Adding 1344 Ns to chrX:164339821-164340043\n",
      "Adding 1344 Ns to chr17:86282781-86283444\n",
      "Adding 1344 Ns to chr19:60678262-60678610\n",
      "Adding 1344 Ns to chr17:86234613-86235100\n",
      "Adding 1344 Ns to chr16:91704942-91705621\n",
      "Adding 1344 Ns to chr14:122009632-122009878\n",
      "Adding 1344 Ns to chr13:117482634-117483688\n",
      "Adding 1344 Ns to chr15:102144552-102144795\n",
      "Adding 1344 Ns to chr16:92423377-92423954\n",
      "Adding 1344 Ns to chrX:167640727-167641233\n",
      "Adding 1344 Ns to chr17:86290919-86291607\n",
      "Adding 1344 Ns to chr14:119608276-119609023\n",
      "Adding 1344 Ns to chr18:85561617-85561997\n",
      "Adding 1344 Ns to chr17:87041706-87042397\n",
      "Adding 1344 Ns to chr16:95778237-95778867\n",
      "Adding 1344 Ns to chr16:91166885-91167224\n",
      "Adding 1344 Ns to chrX:165260674-165260839\n",
      "Adding 1344 Ns to chr14:116993975-116994250\n",
      "Adding 1344 Ns to chr18:84930496-84930788\n",
      "Adding 1344 Ns to chr13:117204510-117205105\n",
      "Adding 1344 Ns to chr18:89352600-89353025\n"
     ]
    },
    {
     "name": "stdout",
     "output_type": "stream",
     "text": [
      "process 9000 peaks takes 2.8 s\n"
     ]
    },
    {
     "name": "stderr",
     "output_type": "stream",
     "text": [
      "Adding 1344 Ns to chr18:85353480-85353837\n",
      "Adding 1344 Ns to chr17:83617900-83618106\n",
      "Adding 1344 Ns to chr17:86063348-86063808\n",
      "Adding 1344 Ns to chr16:90864669-90865273\n",
      "Adding 1344 Ns to chr16:94986697-94987110\n",
      "Adding 1344 Ns to chr15:101995950-101996358\n",
      "Adding 1344 Ns to chr17:83335184-83335566\n",
      "Adding 1344 Ns to chrX:159001183-159001369\n",
      "Adding 1344 Ns to chr16:90610044-90610948\n",
      "Adding 1344 Ns to chr18:86671309-86671526\n",
      "Adding 1344 Ns to chr19:60179338-60179832\n",
      "Adding 1344 Ns to chr16:96304984-96305287\n",
      "Adding 1344 Ns to chr14:118903181-118903855\n",
      "Adding 1344 Ns to chr17:91430802-91431172\n",
      "Adding 1344 Ns to chr16:90594854-90595144\n",
      "Adding 1344 Ns to chr14:120892251-120892890\n",
      "Adding 1344 Ns to chr16:94723978-94724627\n",
      "Adding 1344 Ns to chr14:118612985-118613290\n",
      "Adding 1344 Ns to chr13:117335308-117336009\n",
      "Adding 1344 Ns to chr15:102870924-102871301\n",
      "Adding 1344 Ns to chr15:103368913-103369655\n",
      "Adding 1344 Ns to chr18:80944464-80945117\n",
      "Adding 1344 Ns to chr17:93263202-93263421\n",
      "Adding 1344 Ns to chr13:118409318-118409549\n",
      "Adding 1344 Ns to chr16:94034501-94034823\n"
     ]
    },
    {
     "name": "stdout",
     "output_type": "stream",
     "text": [
      "process 10000 peaks takes 3.1 s\n"
     ]
    },
    {
     "name": "stderr",
     "output_type": "stream",
     "text": [
      "Adding 1344 Ns to chr15:102746128-102747300\n",
      "Adding 1344 Ns to chr17:93900381-93900935\n",
      "Adding 1344 Ns to chrX:164401638-164402191\n",
      "Adding 1344 Ns to chr14:113519458-113519849\n",
      "Adding 1344 Ns to chr13:116879681-116880281\n",
      "Adding 1344 Ns to chr16:96843711-96844321\n",
      "Adding 1344 Ns to chr16:90495434-90496074\n",
      "Adding 1344 Ns to chr19:60611586-60612046\n",
      "Adding 1344 Ns to chr18:83536822-83537053\n",
      "Adding 1344 Ns to chr17:83566145-83566354\n",
      "Adding 1344 Ns to chr14:121165320-121166216\n",
      "Adding 1344 Ns to chr14:122974548-122975145\n",
      "Adding 1344 Ns to chr17:91082230-91082457\n",
      "Adding 1344 Ns to chrX:158536245-158536628\n",
      "Adding 1344 Ns to chr15:102451790-102452396\n",
      "Adding 1344 Ns to chr17:85073212-85073516\n",
      "Adding 1344 Ns to chr17:88440206-88441133\n",
      "Adding 1344 Ns to chr16:96632783-96632986\n",
      "Adding 1344 Ns to chr14:120353327-120353549\n",
      "Adding 1344 Ns to chr17:87492069-87492709\n",
      "Adding 1344 Ns to chr17:84942686-84943365\n",
      "Adding 1344 Ns to chr17:83389585-83389781\n",
      "Adding 1344 Ns to chr14:120835835-120836113\n",
      "Adding 1344 Ns to chr16:91314153-91314724\n",
      "Adding 1344 Ns to chr16:95241568-95241998\n",
      "Adding 1344 Ns to chr16:94436736-94437247\n",
      "Adding 1344 Ns to chr17:86979274-86979569\n"
     ]
    },
    {
     "name": "stdout",
     "output_type": "stream",
     "text": [
      "process 11000 peaks takes 3.4 s\n"
     ]
    },
    {
     "name": "stderr",
     "output_type": "stream",
     "text": [
      "Adding 1344 Ns to chr14:115523891-115524080\n",
      "Adding 1344 Ns to chrX:164179762-164180116\n",
      "Adding 1344 Ns to chr16:95117536-95117928\n",
      "Adding 1344 Ns to chr17:89255786-89256153\n",
      "Adding 1344 Ns to chr16:96034357-96034937\n",
      "Adding 1344 Ns to chrX:162779376-162779709\n",
      "Adding 1344 Ns to chr18:82654168-82654787\n",
      "Adding 1344 Ns to chr18:81962130-81962358\n",
      "Adding 1344 Ns to chr14:110618781-110618940\n",
      "Adding 1344 Ns to chr17:86247590-86247828\n",
      "Adding 1344 Ns to chr17:88898668-88898947\n",
      "Adding 1344 Ns to chr18:86711184-86711865\n",
      "Adding 1344 Ns to chrX:160587847-160588055\n",
      "Adding 1344 Ns to chr14:122463319-122463557\n",
      "Adding 1344 Ns to chrX:169377727-169377964\n",
      "Adding 1344 Ns to chr16:95847505-95848458\n",
      "Adding 1344 Ns to chr14:119723583-119723898\n",
      "Adding 1344 Ns to chr13:114848979-114849327\n",
      "Adding 1344 Ns to chr16:96740059-96740867\n",
      "Adding 1344 Ns to chr16:92697308-92697519\n",
      "Adding 1344 Ns to chr17:84322210-84322490\n",
      "Adding 1344 Ns to chrX:158833048-158833524\n",
      "Adding 1344 Ns to chrX:161511131-161511460\n"
     ]
    },
    {
     "name": "stdout",
     "output_type": "stream",
     "text": [
      "process 12000 peaks takes 3.7 s\n"
     ]
    },
    {
     "name": "stderr",
     "output_type": "stream",
     "text": [
      "Adding 1344 Ns to chrX:164426011-164426183\n",
      "Adding 1344 Ns to chr14:118226035-118226261\n",
      "Adding 1344 Ns to chr17:86640192-86640518\n",
      "Adding 1344 Ns to chr14:108913878-108914332\n",
      "Adding 1344 Ns to chr14:116747210-116747718\n",
      "Adding 1344 Ns to chr15:103530388-103530752\n",
      "Adding 1344 Ns to chr13:118204669-118204855\n",
      "Adding 1344 Ns to chr18:83958056-83958616\n",
      "Adding 1344 Ns to chr13:116975090-116975381\n",
      "Adding 1344 Ns to chr17:84103340-84103719\n",
      "Adding 1344 Ns to chr17:86283842-86284067\n",
      "Adding 1344 Ns to chr14:120275267-120275845\n",
      "Adding 1344 Ns to chrX:162159446-162159631\n",
      "Adding 1344 Ns to chr14:120967191-120967547\n",
      "Adding 1344 Ns to chr18:80713613-80714774\n",
      "Adding 1344 Ns to chr19:58978586-58979415\n",
      "Adding 1344 Ns to chr16:95436182-95436450\n",
      "Adding 1344 Ns to chr17:89409981-89410617\n",
      "Adding 1344 Ns to chr14:121366193-121366550\n",
      "Adding 1344 Ns to chr18:86490708-86491013\n"
     ]
    },
    {
     "name": "stdout",
     "output_type": "stream",
     "text": [
      "process 13000 peaks takes 3.9 s\n"
     ]
    },
    {
     "name": "stderr",
     "output_type": "stream",
     "text": [
      "Adding 1344 Ns to chrX:167337506-167337982\n",
      "Adding 1344 Ns to chrX:164396694-164397096\n",
      "Adding 1344 Ns to chr18:81589515-81589905\n",
      "Adding 1344 Ns to chr15:102500716-102500882\n",
      "Adding 1344 Ns to chr17:90086845-90087224\n",
      "Adding 1344 Ns to chr17:90129703-90130098\n",
      "Adding 1344 Ns to chr18:85725283-85725811\n",
      "Adding 1344 Ns to chr18:89179050-89179327\n",
      "Adding 1344 Ns to chr18:83768030-83768246\n",
      "Adding 1344 Ns to chr17:87792679-87793030\n",
      "Adding 1344 Ns to chr14:119466828-119467475\n",
      "Adding 1344 Ns to chr17:92992875-92993144\n",
      "Adding 1344 Ns to chr14:116998941-116999570\n",
      "Adding 1344 Ns to chr16:95182478-95182689\n",
      "Adding 1344 Ns to chr17:87360966-87361883\n",
      "Adding 1344 Ns to chr17:86384647-86384839\n",
      "Adding 1344 Ns to chr14:119752245-119752763\n",
      "Adding 1344 Ns to chr14:117824874-117825061\n",
      "Adding 1344 Ns to chr15:103604317-103604935\n",
      "Adding 1344 Ns to chr14:119272983-119273321\n",
      "Adding 1344 Ns to chrX:166479055-166480195\n",
      "Adding 1344 Ns to chrX:166365868-166366736\n",
      "Adding 1344 Ns to chr16:94447220-94447433\n",
      "Adding 1344 Ns to chr16:96156032-96156526\n",
      "Adding 1344 Ns to chr14:121738357-121739025\n",
      "Adding 1344 Ns to chr18:82766106-82766418\n",
      "Adding 1344 Ns to chr16:92608326-92608721\n",
      "Adding 1344 Ns to chr14:107769381-107769641\n",
      "Adding 1344 Ns to chr17:88815215-88815570\n",
      "Adding 1344 Ns to chr16:96358927-96359141\n",
      "Adding 1344 Ns to chr18:85482223-85482670\n"
     ]
    },
    {
     "name": "stdout",
     "output_type": "stream",
     "text": [
      "process 14000 peaks takes 4.2 s\n"
     ]
    },
    {
     "name": "stderr",
     "output_type": "stream",
     "text": [
      "Adding 1344 Ns to chr17:88400972-88401197\n",
      "Adding 1344 Ns to chr17:84009158-84009591\n",
      "Adding 1344 Ns to chr14:108805290-108805942\n",
      "Adding 1344 Ns to chr17:90813719-90814051\n",
      "Adding 1344 Ns to chr18:80523016-80523192\n",
      "Adding 1344 Ns to chr14:119633689-119634033\n",
      "Adding 1344 Ns to chrX:166360463-166361030\n",
      "Adding 1344 Ns to chr17:86265952-86266472\n",
      "Adding 1344 Ns to chrX:166239677-166240225\n",
      "Adding 1344 Ns to chr14:122839291-122839786\n",
      "Adding 1344 Ns to chr17:88675315-88675664\n",
      "Adding 1344 Ns to chr14:120371210-120371607\n",
      "Adding 1344 Ns to chr17:88256426-88257512\n",
      "Adding 1344 Ns to chr18:88209010-88209190\n",
      "Adding 1344 Ns to chrX:169343270-169343577\n",
      "Adding 1344 Ns to chr17:90892313-90892748\n",
      "Adding 1344 Ns to chr16:91639605-91639987\n",
      "Adding 1344 Ns to chr15:102665544-102665912\n",
      "Adding 1344 Ns to chr18:80609659-80609854\n",
      "Adding 1344 Ns to chr16:91569101-91569317\n",
      "Adding 1344 Ns to chr14:120561784-120561978\n",
      "Adding 1344 Ns to chr16:95740131-95740403\n",
      "Adding 1344 Ns to chr14:120149115-120149887\n"
     ]
    },
    {
     "name": "stdout",
     "output_type": "stream",
     "text": [
      "process 15000 peaks takes 4.5 s\n"
     ]
    },
    {
     "name": "stderr",
     "output_type": "stream",
     "text": [
      "Adding 1344 Ns to chr18:82934996-82935273\n",
      "Adding 1344 Ns to chr16:93115983-93116412\n",
      "Adding 1344 Ns to chr14:110822368-110822603\n",
      "Adding 1344 Ns to chr18:85369496-85370250\n",
      "Adding 1344 Ns to chr14:114791383-114791814\n",
      "Adding 1344 Ns to chr17:83706980-83707164\n",
      "Adding 1344 Ns to chr17:84584926-84585562\n",
      "Adding 1344 Ns to chr16:90958346-90959110\n",
      "Adding 1344 Ns to chr16:93141953-93142503\n",
      "Adding 1344 Ns to chr17:88950723-88951064\n",
      "Adding 1344 Ns to chr18:89100234-89100590\n",
      "Adding 1344 Ns to chr16:94540106-94540806\n",
      "Adding 1344 Ns to chr14:121113687-121114234\n",
      "Adding 1344 Ns to chr17:85730817-85731117\n",
      "Adding 1344 Ns to chr17:87770809-87771261\n",
      "Adding 1344 Ns to chr17:90044698-90045112\n",
      "Adding 1344 Ns to chr14:121679802-121680040\n",
      "Adding 1344 Ns to chr19:60121388-60121569\n",
      "Adding 1344 Ns to chr15:103340814-103341181\n"
     ]
    },
    {
     "name": "stdout",
     "output_type": "stream",
     "text": [
      "process 16000 peaks takes 4.8 s\n"
     ]
    },
    {
     "name": "stderr",
     "output_type": "stream",
     "text": [
      "Adding 1344 Ns to chr14:118900046-118900250\n",
      "Adding 1344 Ns to chr14:121655109-121655288\n",
      "Adding 1344 Ns to chr17:88505269-88505835\n",
      "Adding 1344 Ns to chrX:168262653-168263154\n",
      "Adding 1344 Ns to chr15:102698271-102698512\n",
      "Adding 1344 Ns to chr15:102721986-102722691\n",
      "Adding 1344 Ns to chr17:83812025-83812657\n",
      "Adding 1344 Ns to chr14:119908054-119908548\n",
      "Adding 1344 Ns to chr14:119473129-119473399\n",
      "Adding 1344 Ns to chr17:83849123-83849386\n",
      "Adding 1344 Ns to chr14:117174903-117175115\n",
      "Adding 1344 Ns to chr16:91464670-91465260\n",
      "Adding 1344 Ns to chrX:157390079-157390513\n",
      "Adding 1344 Ns to chr16:92399853-92400794\n",
      "Adding 1344 Ns to chrX:156594839-156595234\n",
      "Adding 1344 Ns to chr17:90501120-90501565\n",
      "Adding 1344 Ns to chr17:90333875-90334142\n",
      "Adding 1344 Ns to chr18:81582129-81582306\n",
      "Adding 1344 Ns to chr16:93797882-93798953\n",
      "Adding 1344 Ns to chr16:91379141-91379727\n",
      "Adding 1344 Ns to chr19:59010791-59011210\n",
      "Adding 1344 Ns to chr17:93510170-93510534\n",
      "Adding 1344 Ns to chr13:116781304-116781679\n",
      "Adding 1344 Ns to chr16:90385327-90386234\n",
      "Adding 1344 Ns to chr14:122002300-122002574\n"
     ]
    },
    {
     "name": "stdout",
     "output_type": "stream",
     "text": [
      "process 17000 peaks takes 5.0 s\n"
     ]
    },
    {
     "name": "stderr",
     "output_type": "stream",
     "text": [
      "Adding 1344 Ns to chr17:89379383-89379641\n",
      "Adding 1344 Ns to chr16:96835322-96835509\n",
      "Adding 1344 Ns to chr14:114124194-114124401\n",
      "Adding 1344 Ns to chr18:82534466-82534738\n",
      "Adding 1344 Ns to chr19:59336204-59336644\n",
      "Adding 1344 Ns to chr17:86785329-86786310\n",
      "Adding 1344 Ns to chrX:167552808-167553320\n",
      "Adding 1344 Ns to chr18:84671775-84672148\n",
      "Adding 1344 Ns to chr13:114456205-114456472\n",
      "Adding 1344 Ns to chr18:80676155-80676401\n",
      "Adding 1344 Ns to chr17:87446617-87447605\n",
      "Adding 1344 Ns to chr15:102673575-102673931\n",
      "Adding 1344 Ns to chrX:160772197-160772466\n",
      "Adding 1344 Ns to chr16:96684669-96684903\n",
      "Adding 1344 Ns to chr16:96872668-96873101\n",
      "Adding 1344 Ns to chr14:121946790-121947326\n",
      "Adding 1344 Ns to chr13:115014149-115014625\n",
      "Adding 1344 Ns to chrX:157949228-157949472\n",
      "Adding 1344 Ns to chr14:108893725-108893896\n",
      "Adding 1344 Ns to chrX:157671043-157671264\n",
      "Adding 1344 Ns to chr17:94254715-94255247\n",
      "Adding 1344 Ns to chr16:91424664-91424922\n",
      "Adding 1344 Ns to chr14:110544106-110544469\n",
      "Adding 1344 Ns to chr14:121124393-121124981\n",
      "Adding 1344 Ns to chr13:114584678-114585038\n",
      "Adding 1344 Ns to chr18:84015384-84016124\n",
      "Adding 1344 Ns to chr17:87460663-87461016\n",
      "Adding 1344 Ns to chr16:92460486-92460703\n"
     ]
    },
    {
     "name": "stdout",
     "output_type": "stream",
     "text": [
      "process 18000 peaks takes 5.3 s\n"
     ]
    },
    {
     "name": "stderr",
     "output_type": "stream",
     "text": [
      "Adding 1344 Ns to chr19:58993325-58993517\n",
      "Adding 1344 Ns to chr13:119784062-119784635\n",
      "Adding 1344 Ns to chr16:97906067-97906305\n",
      "Adding 1344 Ns to chr17:90156599-90156860\n",
      "Adding 1344 Ns to chr14:123373768-123374257\n",
      "Adding 1344 Ns to chr17:86924791-86925048\n",
      "Adding 1344 Ns to chr17:84190983-84191303\n",
      "Adding 1344 Ns to chr17:87477650-87478047\n",
      "Adding 1344 Ns to chrX:166307717-166308220\n",
      "Adding 1344 Ns to chr19:60038376-60038677\n",
      "Adding 1344 Ns to chrX:160116751-160117067\n",
      "Adding 1344 Ns to chr18:81108002-81108436\n",
      "Adding 1344 Ns to chr17:83422434-83422757\n",
      "Adding 1344 Ns to chr18:82013325-82013793\n",
      "Adding 1344 Ns to chr18:82677125-82677734\n",
      "Adding 1344 Ns to chr14:110401878-110402223\n",
      "Adding 1344 Ns to chr16:94721847-94722035\n",
      "Adding 1344 Ns to chr17:90556958-90557325\n",
      "Adding 1344 Ns to chr13:117704829-117705275\n",
      "Adding 1344 Ns to chr16:97286577-97287150\n",
      "Adding 1344 Ns to chr14:120170502-120171312\n",
      "Adding 1344 Ns to chr18:87754003-87754353\n",
      "Adding 1344 Ns to chr15:103090816-103091272\n"
     ]
    },
    {
     "name": "stdout",
     "output_type": "stream",
     "text": [
      "process 19000 peaks takes 5.6 s\n"
     ]
    },
    {
     "name": "stderr",
     "output_type": "stream",
     "text": [
      "Adding 1344 Ns to chr14:120163136-120163548\n",
      "Adding 1344 Ns to chrX:159859740-159859937\n",
      "Adding 1344 Ns to chr16:96514673-96514869\n",
      "Adding 1344 Ns to chr16:90449390-90449605\n",
      "Adding 1344 Ns to chrX:168350276-168351010\n",
      "Adding 1344 Ns to chr16:91038537-91038790\n",
      "Adding 1344 Ns to chr19:58931176-58931528\n",
      "Adding 1344 Ns to chr17:86345193-86346112\n",
      "Adding 1344 Ns to chr17:84730582-84730926\n",
      "Adding 1344 Ns to chrX:158976812-158976995\n",
      "Adding 1344 Ns to chr14:120307961-120308495\n",
      "Adding 1344 Ns to chr18:83192815-83192993\n",
      "Adding 1344 Ns to chrX:167847546-167847792\n",
      "Adding 1344 Ns to chr14:113432767-113433229\n",
      "Adding 1344 Ns to chr16:94456208-94456411\n",
      "Adding 1344 Ns to chr19:59700847-59701248\n",
      "Adding 1344 Ns to chr17:87335048-87335773\n",
      "Adding 1344 Ns to chr17:83903389-83903890\n",
      "Adding 1344 Ns to chr16:93927622-93927888\n",
      "Adding 1344 Ns to chr13:119699761-119700203\n",
      "Adding 1344 Ns to chr17:83908757-83909007\n",
      "Adding 1344 Ns to chr18:85012934-85013417\n",
      "Adding 1344 Ns to chr14:120504545-120504811\n",
      "Adding 1344 Ns to chrX:157086572-157087193\n",
      "Adding 1344 Ns to chrX:166334384-166334959\n",
      "Adding 1344 Ns to chr18:83063316-83063604\n",
      "Adding 1344 Ns to chr14:120313112-120313554\n",
      "Adding 1344 Ns to chr17:86451327-86451558\n",
      "Adding 1344 Ns to chr14:110130577-110130983\n",
      "Adding 1344 Ns to chr18:82728764-82729412\n",
      "Adding 1344 Ns to chrX:168102067-168102759\n",
      "Adding 1344 Ns to chr15:103335406-103336137\n",
      "Adding 1344 Ns to chrX:160307511-160307924\n"
     ]
    },
    {
     "name": "stdout",
     "output_type": "stream",
     "text": [
      "process 20000 peaks takes 5.9 s\n"
     ]
    },
    {
     "name": "stderr",
     "output_type": "stream",
     "text": [
      "Adding 1344 Ns to chrX:159478312-159478644\n",
      "Adding 1344 Ns to chrX:163000813-163001253\n",
      "Adding 1344 Ns to chr15:102355946-102356375\n",
      "Adding 1344 Ns to chr16:97171510-97171960\n",
      "Adding 1344 Ns to chr13:114964227-114964677\n",
      "Adding 1344 Ns to chrX:164342489-164342784\n",
      "Adding 1344 Ns to chr16:94945527-94946186\n",
      "Adding 1344 Ns to chr14:120245016-120245469\n",
      "Adding 1344 Ns to chr19:60325197-60325543\n",
      "Adding 1344 Ns to chr17:86040349-86040611\n",
      "Adding 1344 Ns to chr15:103205710-103205891\n",
      "Adding 1344 Ns to chr15:103471530-103471990\n",
      "Adding 1344 Ns to chr16:96617879-96618069\n",
      "Adding 1344 Ns to chr18:82989227-82989611\n",
      "Adding 1344 Ns to chrX:160804428-160804779\n",
      "Adding 1344 Ns to chr17:86796909-86797199\n",
      "Adding 1344 Ns to chr17:84440320-84440643\n",
      "Adding 1344 Ns to chr18:84889952-84890369\n",
      "Adding 1344 Ns to chrX:166349329-166349489\n",
      "Adding 1344 Ns to chr17:92949158-92949482\n",
      "Adding 1344 Ns to chr14:120339016-120339325\n",
      "Adding 1344 Ns to chr17:91147127-91147389\n",
      "Adding 1344 Ns to chr17:89165491-89165845\n",
      "Adding 1344 Ns to chr14:114833750-114834104\n",
      "Adding 1344 Ns to chrX:161001719-161002187\n",
      "Adding 1344 Ns to chr17:84610506-84610741\n",
      "Adding 1344 Ns to chr13:114878688-114879137\n",
      "Adding 1344 Ns to chr16:96852442-96852895\n"
     ]
    },
    {
     "name": "stdout",
     "output_type": "stream",
     "text": [
      "process 21000 peaks takes 6.2 s\n"
     ]
    },
    {
     "name": "stderr",
     "output_type": "stream",
     "text": [
      "Adding 1344 Ns to chr16:91765371-91765705\n",
      "Adding 1344 Ns to chr19:60712181-60712467\n",
      "Adding 1344 Ns to chr17:85116718-85116951\n",
      "Adding 1344 Ns to chr16:90821524-90821894\n",
      "Adding 1344 Ns to chr14:118735099-118735549\n",
      "Adding 1344 Ns to chr16:91222323-91222847\n",
      "Adding 1344 Ns to chrX:157083062-157083266\n",
      "Adding 1344 Ns to chr17:85163108-85163558\n",
      "Adding 1344 Ns to chr19:60843429-60843884\n",
      "Adding 1344 Ns to chr15:102613066-102613288\n",
      "Adding 1344 Ns to chr14:113441289-113441480\n",
      "Adding 1344 Ns to chr17:93526246-93526680\n",
      "Adding 1344 Ns to chr14:121435683-121436291\n",
      "Adding 1344 Ns to chr16:94882021-94882566\n",
      "Adding 1344 Ns to chr18:82557177-82557565\n",
      "Adding 1344 Ns to chr17:85258208-85258461\n",
      "Adding 1344 Ns to chrX:168020875-168021059\n",
      "Adding 1344 Ns to chrX:159689877-159690337\n",
      "Adding 1344 Ns to chr18:86222177-86222536\n",
      "Adding 1344 Ns to chr17:84571644-84571950\n",
      "Adding 1344 Ns to chrX:167688893-167689143\n"
     ]
    },
    {
     "name": "stdout",
     "output_type": "stream",
     "text": [
      "process 22000 peaks takes 6.4 s\n"
     ]
    },
    {
     "name": "stderr",
     "output_type": "stream",
     "text": [
      "Adding 1344 Ns to chr13:118716290-118716547\n",
      "Adding 1344 Ns to chr17:90422387-90422579\n",
      "Adding 1344 Ns to chrX:157945223-157945616\n",
      "Adding 1344 Ns to chr14:123232667-123233287\n",
      "Adding 1344 Ns to chr17:94040716-94041225\n",
      "Adding 1344 Ns to chr14:118982053-118983240\n",
      "Adding 1344 Ns to chr16:96480839-96481455\n",
      "Adding 1344 Ns to chrX:162949709-162950169\n",
      "Adding 1344 Ns to chrX:167497783-167498193\n",
      "Adding 1344 Ns to chr13:115687333-115687693\n",
      "Adding 1344 Ns to chr16:95064452-95064676\n",
      "Adding 1344 Ns to chr17:83481632-83481964\n",
      "Adding 1344 Ns to chrX:160748869-160749137\n",
      "Adding 1344 Ns to chr16:97153873-97154342\n",
      "Adding 1344 Ns to chr16:94984221-94984663\n",
      "Adding 1344 Ns to chr13:118481355-118481675\n",
      "Adding 1344 Ns to chr16:94168092-94168390\n",
      "Adding 1344 Ns to chr16:91761144-91761465\n",
      "Adding 1344 Ns to chr16:94419459-94419887\n",
      "Adding 1344 Ns to chr17:88989281-88989997\n",
      "Adding 1344 Ns to chr16:92348897-92349326\n",
      "Adding 1344 Ns to chr14:117274752-117275009\n",
      "Adding 1344 Ns to chrX:169332358-169332848\n",
      "Adding 1344 Ns to chr18:82816319-82816840\n",
      "Adding 1344 Ns to chr19:60432567-60433139\n",
      "Adding 1344 Ns to chr14:111571384-111571574\n"
     ]
    },
    {
     "name": "stdout",
     "output_type": "stream",
     "text": [
      "process 23000 peaks takes 6.7 s\n"
     ]
    },
    {
     "name": "stderr",
     "output_type": "stream",
     "text": [
      "Adding 1344 Ns to chr16:94237196-94237410\n",
      "Adding 1344 Ns to chr16:90511345-90512145\n",
      "Adding 1344 Ns to chr17:85633707-85633961\n",
      "Adding 1344 Ns to chr14:107136741-107137224\n",
      "Adding 1344 Ns to chr19:59759913-59760198\n",
      "Adding 1344 Ns to chr15:102596203-102596472\n",
      "Adding 1344 Ns to chr14:118448505-118448658\n",
      "Adding 1344 Ns to chr14:120369005-120369375\n",
      "Adding 1344 Ns to chr17:84681672-84682211\n",
      "Adding 1344 Ns to chr17:88317352-88317628\n",
      "Adding 1344 Ns to chr14:116498036-116498433\n",
      "Adding 1344 Ns to chrX:167105876-167106311\n",
      "Adding 1344 Ns to chr18:82765183-82765604\n",
      "Adding 1344 Ns to chr14:110623818-110624018\n",
      "Adding 1344 Ns to chr16:95446579-95446754\n",
      "Adding 1344 Ns to chr16:93387706-93388003\n"
     ]
    },
    {
     "name": "stdout",
     "output_type": "stream",
     "text": [
      "process 24000 peaks takes 7.0 s\n"
     ]
    },
    {
     "name": "stderr",
     "output_type": "stream",
     "text": [
      "Adding 1344 Ns to chr13:115031289-115031550\n",
      "Adding 1344 Ns to chrX:167088445-167088793\n",
      "Adding 1344 Ns to chr14:116551054-116551449\n",
      "Adding 1344 Ns to chr16:96671510-96672004\n",
      "Adding 1344 Ns to chr18:81751865-81752233\n",
      "Adding 1344 Ns to chr17:94239384-94239557\n",
      "Adding 1344 Ns to chr17:87468455-87468940\n",
      "Adding 1344 Ns to chr14:117905444-117905832\n",
      "Adding 1344 Ns to chr14:120830278-120830861\n",
      "Adding 1344 Ns to chr17:83713745-83714140\n",
      "Adding 1344 Ns to chrX:166107220-166107587\n",
      "Adding 1344 Ns to chr14:123400576-123401093\n",
      "Adding 1344 Ns to chr13:118313670-118314089\n",
      "Adding 1344 Ns to chr15:103535923-103536121\n",
      "Adding 1344 Ns to chr14:123511966-123512325\n",
      "Adding 1344 Ns to chr18:81038829-81038995\n",
      "Adding 1344 Ns to chr16:97535868-97536392\n",
      "Adding 1344 Ns to chr16:90425567-90425781\n",
      "Adding 1344 Ns to chr16:95409068-95409354\n",
      "Adding 1344 Ns to chr18:82547763-82548296\n",
      "Adding 1344 Ns to chr14:111485578-111485998\n",
      "Adding 1344 Ns to chr16:94038283-94038495\n",
      "Adding 1344 Ns to chrX:166847105-166847464\n",
      "Adding 1344 Ns to chrX:160542780-160543248\n",
      "Adding 1344 Ns to chr17:86516468-86517130\n",
      "Adding 1344 Ns to chr16:91512277-91512730\n",
      "Adding 1344 Ns to chr13:119631591-119632138\n",
      "Adding 1344 Ns to chr19:59837216-59837379\n"
     ]
    },
    {
     "name": "stdout",
     "output_type": "stream",
     "text": [
      "process 25000 peaks takes 7.3 s\n"
     ]
    },
    {
     "name": "stderr",
     "output_type": "stream",
     "text": [
      "Adding 1344 Ns to chr14:118069408-118069603\n",
      "Adding 1344 Ns to chrX:159910569-159911115\n",
      "Adding 1344 Ns to chr18:84141675-84141880\n",
      "Adding 1344 Ns to chr16:90955697-90955937\n",
      "Adding 1344 Ns to chr17:86436806-86436966\n",
      "Adding 1344 Ns to chr17:84085338-84085669\n",
      "Adding 1344 Ns to chr13:117112418-117112823\n",
      "Adding 1344 Ns to chr16:95237501-95237704\n",
      "Adding 1344 Ns to chr17:84187799-84188802\n",
      "Adding 1344 Ns to chr17:85440825-85441199\n",
      "Adding 1344 Ns to chrX:168563134-168563359\n",
      "Adding 1344 Ns to chr16:93436775-93437048\n",
      "Adding 1344 Ns to chr17:86618580-86618897\n",
      "Adding 1344 Ns to chr16:93109670-93109955\n",
      "Adding 1344 Ns to chr13:117603485-117603751\n",
      "Adding 1344 Ns to chr16:91081493-91081895\n",
      "Adding 1344 Ns to chr16:91560970-91561425\n",
      "Adding 1344 Ns to chr14:115416462-115417029\n",
      "Adding 1344 Ns to chr14:117633892-117634157\n",
      "Adding 1344 Ns to chr16:90953131-90953594\n",
      "Adding 1344 Ns to chr14:120098499-120098824\n"
     ]
    },
    {
     "name": "stdout",
     "output_type": "stream",
     "text": [
      "process 26000 peaks takes 7.6 s\n"
     ]
    },
    {
     "name": "stderr",
     "output_type": "stream",
     "text": [
      "Adding 1344 Ns to chr14:113435842-113436215\n",
      "Adding 1344 Ns to chr15:103248279-103248522\n",
      "Adding 1344 Ns to chr18:86442676-86443089\n",
      "Adding 1344 Ns to chr15:102296004-102296504\n",
      "Adding 1344 Ns to chrX:168042418-168042720\n",
      "Adding 1344 Ns to chr17:89970558-89970730\n",
      "Adding 1344 Ns to chr13:115071850-115072356\n",
      "Adding 1344 Ns to chr19:59338415-59338721\n",
      "Adding 1344 Ns to chr14:120126445-120126661\n",
      "Adding 1344 Ns to chr18:83298168-83299066\n",
      "Adding 1344 Ns to chrX:166691083-166691619\n",
      "Adding 1344 Ns to chr16:90741021-90741241\n",
      "Adding 1344 Ns to chr14:114869640-114869884\n",
      "Adding 1344 Ns to chr14:117664408-117665182\n",
      "Adding 1344 Ns to chr14:119686994-119687239\n",
      "Adding 1344 Ns to chrX:161328414-161328631\n",
      "Adding 1344 Ns to chr14:123843693-123844039\n",
      "Adding 1344 Ns to chr16:96113525-96113843\n",
      "Adding 1344 Ns to chr16:96969672-96970104\n",
      "Adding 1344 Ns to chr18:86970795-86971130\n",
      "Adding 1344 Ns to chr14:115819124-115819350\n",
      "Adding 1344 Ns to chrX:158639790-158640066\n",
      "Adding 1344 Ns to chr17:87032450-87032711\n",
      "Adding 1344 Ns to chr14:121996776-121997063\n",
      "Adding 1344 Ns to chr16:91793431-91793669\n"
     ]
    },
    {
     "name": "stdout",
     "output_type": "stream",
     "text": [
      "process 27000 peaks takes 7.8 s\n"
     ]
    },
    {
     "name": "stderr",
     "output_type": "stream",
     "text": [
      "Adding 1344 Ns to chr13:119272977-119273250\n",
      "Adding 1344 Ns to chr17:83705530-83706561\n",
      "Adding 1344 Ns to chr16:97536933-97537092\n",
      "Adding 1344 Ns to chr17:85033805-85034667\n",
      "Adding 1344 Ns to chrX:168032516-168032757\n",
      "Adding 1344 Ns to chr13:117837604-117838003\n",
      "Adding 1344 Ns to chr14:123622855-123623129\n",
      "Adding 1344 Ns to chrX:156737552-156737968\n",
      "Adding 1344 Ns to chr19:60148521-60148715\n",
      "Adding 1344 Ns to chr17:84510269-84510809\n",
      "Adding 1344 Ns to chr13:115988071-115988367\n",
      "Adding 1344 Ns to chr16:94142823-94143244\n",
      "Adding 1344 Ns to chr14:110041231-110041655\n",
      "Adding 1344 Ns to chr14:119611898-119612220\n",
      "Adding 1344 Ns to chr16:94331943-94332102\n",
      "Adding 1344 Ns to chr13:117633179-117633368\n",
      "Adding 1344 Ns to chr17:87054941-87055523\n",
      "Adding 1344 Ns to chr17:87134616-87134776\n",
      "Adding 1344 Ns to chr16:96044151-96044413\n",
      "Adding 1344 Ns to chr16:94414287-94414442\n",
      "Adding 1344 Ns to chr14:114638605-114638885\n"
     ]
    },
    {
     "name": "stdout",
     "output_type": "stream",
     "text": [
      "process 28000 peaks takes 8.1 s\n"
     ]
    },
    {
     "name": "stderr",
     "output_type": "stream",
     "text": [
      "Adding 1344 Ns to chrX:164004845-164005150\n",
      "Adding 1344 Ns to chr13:118395855-118396124\n",
      "Adding 1344 Ns to chrX:159459054-159459292\n",
      "Adding 1344 Ns to chr15:103145764-103146579\n",
      "Adding 1344 Ns to chr17:88919585-88919970\n",
      "Adding 1344 Ns to chr14:124575103-124575522\n",
      "Adding 1344 Ns to chr19:58688229-58688529\n",
      "Adding 1344 Ns to chr16:92019339-92019813\n",
      "Adding 1344 Ns to chr16:93983572-93984239\n",
      "Adding 1344 Ns to chr18:86148580-86148784\n",
      "Adding 1344 Ns to chrX:165894366-165894650\n",
      "Adding 1344 Ns to chr17:86732112-86732431\n",
      "Adding 1344 Ns to chr19:59800707-59800970\n",
      "Adding 1344 Ns to chr14:113431289-113431575\n",
      "Adding 1344 Ns to chrX:168850625-168850814\n",
      "Adding 1344 Ns to chr14:115695153-115695671\n",
      "Adding 1344 Ns to chr18:83732269-83732490\n",
      "Adding 1344 Ns to chr18:88026649-88026848\n",
      "Adding 1344 Ns to chr18:88660745-88660936\n",
      "Adding 1344 Ns to chrX:166771280-166771478\n"
     ]
    },
    {
     "name": "stdout",
     "output_type": "stream",
     "text": [
      "process 29000 peaks takes 8.4 s\n"
     ]
    },
    {
     "name": "stderr",
     "output_type": "stream",
     "text": [
      "Adding 1344 Ns to chrX:167198246-167198529\n",
      "Adding 1344 Ns to chrX:166976849-166976998\n",
      "Adding 1344 Ns to chr16:97009127-97009991\n",
      "Adding 1344 Ns to chr15:103552145-103552415\n",
      "Adding 1344 Ns to chr17:84921528-84921793\n",
      "Adding 1344 Ns to chr18:89147048-89147214\n",
      "Adding 1344 Ns to chr18:82492357-82492967\n",
      "Adding 1344 Ns to chr18:82462019-82462580\n",
      "Adding 1344 Ns to chr14:117930591-117930998\n",
      "Adding 1344 Ns to chr14:121619632-121619862\n",
      "Adding 1344 Ns to chrX:157904081-157904431\n",
      "Adding 1344 Ns to chrX:166795566-166796052\n",
      "Adding 1344 Ns to chr19:59280952-59281180\n",
      "Adding 1344 Ns to chrX:168781515-168781714\n",
      "Adding 1344 Ns to chr17:86933029-86933218\n",
      "Adding 1344 Ns to chr17:86315034-86315422\n",
      "Adding 1344 Ns to chr16:92382539-92382988\n",
      "Adding 1344 Ns to chr15:103527633-103527939\n",
      "Adding 1344 Ns to chr16:93576582-93577048\n",
      "Adding 1344 Ns to chr16:97430044-97430586\n",
      "Adding 1344 Ns to chr18:83766835-83767005\n",
      "Adding 1344 Ns to chrX:157891546-157891729\n",
      "Adding 1344 Ns to chr17:86801967-86802174\n",
      "Adding 1344 Ns to chr14:118660718-118660984\n",
      "Adding 1344 Ns to chr14:120891175-120891619\n",
      "Adding 1344 Ns to chr19:59044657-59045066\n"
     ]
    },
    {
     "name": "stdout",
     "output_type": "stream",
     "text": [
      "process 30000 peaks takes 8.7 s\n"
     ]
    },
    {
     "name": "stderr",
     "output_type": "stream",
     "text": [
      "Adding 1344 Ns to chr17:94274230-94274569\n",
      "Adding 1344 Ns to chr18:82037371-82037668\n",
      "Adding 1344 Ns to chr16:93915298-93915793\n",
      "Adding 1344 Ns to chr13:117877917-117878218\n",
      "Adding 1344 Ns to chr16:95772177-95772633\n",
      "Adding 1344 Ns to chr14:119540432-119541348\n",
      "Adding 1344 Ns to chr18:83450926-83451308\n",
      "Adding 1344 Ns to chr18:82618787-82619145\n",
      "Adding 1344 Ns to chr13:116714880-116715163\n",
      "Adding 1344 Ns to chr14:119215668-119216284\n",
      "Adding 1344 Ns to chr14:120510625-120510942\n",
      "Adding 1344 Ns to chr14:121177968-121178243\n",
      "Adding 1344 Ns to chr16:93369121-93370158\n",
      "Adding 1344 Ns to chr17:89318317-89318783\n",
      "Adding 1344 Ns to chr17:90845662-90845858\n",
      "Adding 1344 Ns to chr15:103135274-103135966\n",
      "Adding 1344 Ns to chr14:119815847-119816186\n",
      "Adding 1344 Ns to chr14:121056302-121056562\n",
      "Adding 1344 Ns to chr17:94291203-94291851\n",
      "Adding 1344 Ns to chr14:119155466-119155723\n",
      "Adding 1344 Ns to chr13:116917446-116917757\n",
      "Adding 1344 Ns to chr14:114781150-114781597\n",
      "Adding 1344 Ns to chr16:93764522-93765046\n",
      "Adding 1344 Ns to chr14:119702938-119703608\n",
      "Adding 1344 Ns to chr14:121378427-121378673\n",
      "Adding 1344 Ns to chr17:89654169-89654920\n",
      "Adding 1344 Ns to chr17:84153502-84153745\n",
      "Adding 1344 Ns to chr18:81855308-81855673\n",
      "Adding 1344 Ns to chr18:80655281-80655791\n",
      "Adding 1344 Ns to chrX:165193641-165193890\n"
     ]
    },
    {
     "name": "stdout",
     "output_type": "stream",
     "text": [
      "process 31000 peaks takes 8.9 s\n"
     ]
    },
    {
     "name": "stderr",
     "output_type": "stream",
     "text": [
      "Adding 1344 Ns to chrX:162521146-162522186\n",
      "Adding 1344 Ns to chr14:119953144-119953776\n",
      "Adding 1344 Ns to chr17:85121776-85122263\n",
      "Adding 1344 Ns to chrX:162472596-162472791\n",
      "Adding 1344 Ns to chr18:84685332-84686111\n",
      "Adding 1344 Ns to chr18:82254174-82254534\n",
      "Adding 1344 Ns to chr17:88658371-88658948\n",
      "Adding 1344 Ns to chr17:83563999-83564187\n",
      "Adding 1344 Ns to chr17:83807969-83808329\n",
      "Adding 1344 Ns to chr14:121656906-121657323\n",
      "Adding 1344 Ns to chr16:94362084-94362642\n",
      "Adding 1344 Ns to chr16:93711371-93712472\n",
      "Adding 1344 Ns to chr14:121349925-121350352\n",
      "Adding 1344 Ns to chr14:115748017-115748416\n",
      "Adding 1344 Ns to chr18:88822710-88822962\n",
      "Adding 1344 Ns to chrX:157721589-157721842\n",
      "Adding 1344 Ns to chr18:82480221-82480495\n",
      "Adding 1344 Ns to chr16:94941179-94941522\n"
     ]
    },
    {
     "name": "stdout",
     "output_type": "stream",
     "text": [
      "process 32000 peaks takes 9.2 s\n"
     ]
    },
    {
     "name": "stderr",
     "output_type": "stream",
     "text": [
      "Adding 1344 Ns to chrX:161038725-161039109\n",
      "Adding 1344 Ns to chrX:162078512-162078683\n",
      "Adding 1344 Ns to chr18:81241566-81242271\n",
      "Adding 1344 Ns to chr19:58942871-58943989\n",
      "Adding 1344 Ns to chrX:168010518-168010878\n",
      "Adding 1344 Ns to chr19:60861050-60861695\n",
      "Adding 1344 Ns to chr16:97196701-97197055\n",
      "Adding 1344 Ns to chr16:91203034-91203324\n",
      "Adding 1344 Ns to chr17:89866995-89867253\n",
      "Adding 1344 Ns to chr14:118090139-118090522\n",
      "Adding 1344 Ns to chr18:83992489-83992735\n",
      "Adding 1344 Ns to chr16:97258930-97259161\n",
      "Adding 1344 Ns to chr17:87323180-87323610\n",
      "Adding 1344 Ns to chr17:83322562-83323132\n",
      "Adding 1344 Ns to chr13:118958246-118958423\n",
      "Adding 1344 Ns to chr18:86692705-86693158\n",
      "Adding 1344 Ns to chr14:124451848-124452181\n",
      "Adding 1344 Ns to chr14:117409770-117410205\n",
      "Adding 1344 Ns to chr14:123143492-123144069\n",
      "Adding 1344 Ns to chr16:94885041-94885590\n",
      "Adding 1344 Ns to chr14:113627116-113627561\n",
      "Adding 1344 Ns to chrX:164513254-164513758\n",
      "Adding 1344 Ns to chr16:91848513-91848792\n",
      "Adding 1344 Ns to chr16:96857583-96857958\n",
      "Adding 1344 Ns to chr17:84642043-84642831\n",
      "Adding 1344 Ns to chr14:113985954-113986231\n",
      "Adding 1344 Ns to chr18:89036563-89036955\n",
      "Adding 1344 Ns to chr16:92632263-92632689\n",
      "Adding 1344 Ns to chrX:168076280-168076510\n",
      "Adding 1344 Ns to chr14:120829866-120830147\n"
     ]
    },
    {
     "name": "stdout",
     "output_type": "stream",
     "text": [
      "process 33000 peaks takes 9.5 s\n"
     ]
    },
    {
     "name": "stderr",
     "output_type": "stream",
     "text": [
      "Adding 1344 Ns to chrX:163939866-163940227\n",
      "Adding 1344 Ns to chr14:120993367-120993561\n",
      "Adding 1344 Ns to chr18:80377258-80378113\n",
      "Adding 1344 Ns to chr16:93063704-93063853\n",
      "Adding 1344 Ns to chr17:86344970-86345163\n",
      "Adding 1344 Ns to chr14:119606762-119607179\n",
      "Adding 1344 Ns to chr18:86409120-86409320\n",
      "Adding 1344 Ns to chr18:86158216-86158805\n",
      "Adding 1344 Ns to chr14:121100880-121101197\n",
      "Adding 1344 Ns to chrX:162580112-162581162\n",
      "Adding 1344 Ns to chr18:82507309-82507669\n",
      "Adding 1344 Ns to chrX:158414513-158414812\n",
      "Adding 1344 Ns to chr14:118924796-118925719\n",
      "Adding 1344 Ns to chr17:84362933-84363247\n",
      "Adding 1344 Ns to chr16:92421362-92421628\n",
      "Adding 1344 Ns to chrX:162158731-162159345\n",
      "Adding 1344 Ns to chr16:92864331-92864525\n",
      "Adding 1344 Ns to chr13:117916827-117917029\n",
      "Adding 1344 Ns to chr18:84530707-84530960\n",
      "Adding 1344 Ns to chr14:123851631-123852044\n"
     ]
    },
    {
     "name": "stdout",
     "output_type": "stream",
     "text": [
      "process 34000 peaks takes 9.8 s\n"
     ]
    },
    {
     "name": "stderr",
     "output_type": "stream",
     "text": [
      "Adding 1344 Ns to chrX:160871062-160871438\n",
      "Adding 1344 Ns to chr14:111507854-111508379\n",
      "Adding 1344 Ns to chrX:163549639-163550042\n",
      "Adding 1344 Ns to chr13:116976288-116976681\n",
      "Adding 1344 Ns to chr18:89487515-89488007\n",
      "Adding 1344 Ns to chr18:86394050-86394324\n",
      "Adding 1344 Ns to chrX:160907313-160907507\n",
      "Adding 1344 Ns to chr19:60513510-60513718\n",
      "Adding 1344 Ns to chr13:114933631-114934011\n",
      "Adding 1344 Ns to chrX:161908387-161909425\n",
      "Adding 1344 Ns to chr13:117880603-117880978\n",
      "Adding 1344 Ns to chr14:118608672-118609734\n",
      "Adding 1344 Ns to chr17:84101712-84102040\n",
      "Adding 1344 Ns to chr18:89894549-89894749\n",
      "Adding 1344 Ns to chr14:121225474-121226219\n",
      "Adding 1344 Ns to chr14:117992412-117992839\n",
      "Adding 1344 Ns to chr17:90278853-90279192\n",
      "Adding 1344 Ns to chr19:59027916-59028543\n",
      "Adding 1344 Ns to chr17:86905305-86905557\n",
      "Adding 1344 Ns to chr18:89519453-89519778\n",
      "Adding 1344 Ns to chr16:94345380-94345847\n",
      "Adding 1344 Ns to chr15:102648561-102649322\n",
      "Adding 1344 Ns to chr18:89567751-89568234\n",
      "Adding 1344 Ns to chr17:87473566-87474501\n"
     ]
    },
    {
     "name": "stdout",
     "output_type": "stream",
     "text": [
      "process 35000 peaks takes 10.1 s\n"
     ]
    },
    {
     "name": "stderr",
     "output_type": "stream",
     "text": [
      "Adding 1344 Ns to chr13:118781527-118781875\n",
      "Adding 1344 Ns to chrX:166843919-166844277\n",
      "Adding 1344 Ns to chr16:95759825-95760514\n",
      "Adding 1344 Ns to chrX:159701074-159701481\n",
      "Adding 1344 Ns to chrX:164245801-164246058\n",
      "Adding 1344 Ns to chr15:103576723-103577330\n",
      "Adding 1344 Ns to chr14:119779774-119780137\n",
      "Adding 1344 Ns to chr14:116349264-116349706\n",
      "Adding 1344 Ns to chr14:120495557-120495706\n",
      "Adding 1344 Ns to chr16:96896809-96897032\n",
      "Adding 1344 Ns to chr16:92302110-92302459\n",
      "Adding 1344 Ns to chr19:59422567-59422780\n",
      "Adding 1344 Ns to chr14:122684696-122685080\n",
      "Adding 1344 Ns to chr14:113590852-113591418\n",
      "Adding 1344 Ns to chr16:95701792-95702795\n",
      "Adding 1344 Ns to chr16:95371733-95371906\n",
      "Adding 1344 Ns to chr16:94350034-94350214\n",
      "Adding 1344 Ns to chrX:157714045-157714727\n"
     ]
    },
    {
     "name": "stdout",
     "output_type": "stream",
     "text": [
      "process 36000 peaks takes 10.3 s\n"
     ]
    },
    {
     "name": "stderr",
     "output_type": "stream",
     "text": [
      "Adding 1344 Ns to chr18:81153469-81153706\n",
      "Adding 1344 Ns to chr17:86540582-86540897\n",
      "Adding 1344 Ns to chr14:107811886-107812129\n",
      "Adding 1344 Ns to chr13:117143803-117144233\n",
      "Adding 1344 Ns to chr15:102684645-102684904\n",
      "Adding 1344 Ns to chr14:111971964-111972178\n",
      "Adding 1344 Ns to chr14:121445254-121445543\n",
      "Adding 1344 Ns to chr18:85709114-85709319\n",
      "Adding 1344 Ns to chr14:120960092-120960868\n",
      "Adding 1344 Ns to chr15:103153295-103153782\n",
      "Adding 1344 Ns to chr16:95151279-95151624\n",
      "Adding 1344 Ns to chr16:97897605-97897865\n",
      "Adding 1344 Ns to chr13:114992265-114992684\n",
      "Adding 1344 Ns to chr17:86563989-86564555\n",
      "Adding 1344 Ns to chrX:167321497-167321814\n",
      "Adding 1344 Ns to chrX:168747118-168747314\n",
      "Adding 1344 Ns to chr18:86336263-86336641\n",
      "Adding 1344 Ns to chr17:86466716-86466978\n",
      "Adding 1344 Ns to chr14:118676433-118677049\n",
      "Adding 1344 Ns to chr14:111210644-111210924\n",
      "Adding 1344 Ns to chr16:93766949-93767346\n",
      "Adding 1344 Ns to chr17:84921935-84922383\n"
     ]
    },
    {
     "name": "stdout",
     "output_type": "stream",
     "text": [
      "process 37000 peaks takes 10.6 s\n"
     ]
    },
    {
     "name": "stderr",
     "output_type": "stream",
     "text": [
      "Adding 1344 Ns to chr17:83917018-83917330\n",
      "Adding 1344 Ns to chr18:83776690-83776899\n",
      "Adding 1344 Ns to chr16:94869259-94869711\n",
      "Adding 1344 Ns to chr14:112209062-112209239\n",
      "Adding 1344 Ns to chr14:115752620-115752936\n",
      "Adding 1344 Ns to chr14:111584476-111584691\n",
      "Adding 1344 Ns to chr14:120441139-120441642\n",
      "Adding 1344 Ns to chr17:90856604-90857053\n",
      "Adding 1344 Ns to chr13:118004701-118005022\n",
      "Adding 1344 Ns to chr18:83423942-83424096\n",
      "Adding 1344 Ns to chr13:119780192-119780587\n",
      "Adding 1344 Ns to chr16:93981206-93981742\n",
      "Adding 1344 Ns to chr14:124109183-124109533\n",
      "Adding 1344 Ns to chr16:91667168-91667434\n",
      "Adding 1344 Ns to chr17:83746593-83746898\n",
      "Adding 1344 Ns to chr18:83314155-83315091\n",
      "Adding 1344 Ns to chr18:83639019-83639277\n",
      "Adding 1344 Ns to chr18:86640835-86641465\n",
      "Adding 1344 Ns to chr16:91884338-91884487\n",
      "Adding 1344 Ns to chr16:95149826-95150063\n",
      "Adding 1344 Ns to chr17:94730541-94730769\n",
      "Adding 1344 Ns to chr19:58802661-58802917\n",
      "Adding 1344 Ns to chr17:83586907-83588183\n",
      "Adding 1344 Ns to chr18:86432390-86433281\n",
      "Adding 1344 Ns to chr17:90225726-90225978\n",
      "Adding 1344 Ns to chrX:164741996-164742337\n",
      "Adding 1344 Ns to chr16:96545576-96545783\n",
      "Adding 1344 Ns to chr14:121385410-121385965\n",
      "Adding 1344 Ns to chr17:83434505-83434963\n"
     ]
    },
    {
     "name": "stdout",
     "output_type": "stream",
     "text": [
      "process 38000 peaks takes 10.9 s\n"
     ]
    },
    {
     "name": "stderr",
     "output_type": "stream",
     "text": [
      "Adding 1344 Ns to chrX:162554532-162554815\n",
      "Adding 1344 Ns to chr16:92850622-92850911\n",
      "Adding 1344 Ns to chr14:111517647-111518032\n",
      "Adding 1344 Ns to chr18:85295454-85295774\n",
      "Adding 1344 Ns to chr18:84293664-84294306\n",
      "Adding 1344 Ns to chr14:111721176-111721587\n",
      "Adding 1344 Ns to chr18:82910538-82911102\n",
      "Adding 1344 Ns to chr18:84768791-84769178\n",
      "Adding 1344 Ns to chr13:117603044-117603311\n",
      "Adding 1344 Ns to chrX:168307270-168307503\n",
      "Adding 1344 Ns to chr16:90727206-90727802\n",
      "Adding 1344 Ns to chrX:163364832-163365178\n",
      "Adding 1344 Ns to chr19:59063458-59064236\n",
      "Adding 1344 Ns to chr18:85292154-85292447\n",
      "Adding 1344 Ns to chr18:82750935-82751683\n",
      "Adding 1344 Ns to chr14:122902958-122903287\n",
      "Adding 1344 Ns to chr17:87521783-87522181\n",
      "Adding 1344 Ns to chr16:93292958-93293580\n",
      "Adding 1344 Ns to chr14:121556720-121557108\n",
      "Adding 1344 Ns to chr16:93391947-93392356\n",
      "Adding 1344 Ns to chrX:159782614-159782917\n",
      "Adding 1344 Ns to chr14:122130429-122130891\n",
      "Adding 1344 Ns to chr16:92906460-92906748\n",
      "Adding 1344 Ns to chr14:123663320-123663673\n",
      "Adding 1344 Ns to chr16:92977490-92977639\n",
      "Adding 1344 Ns to chr14:116993648-116993815\n"
     ]
    },
    {
     "name": "stdout",
     "output_type": "stream",
     "text": [
      "process 39000 peaks takes 11.2 s\n"
     ]
    },
    {
     "name": "stderr",
     "output_type": "stream",
     "text": [
      "Adding 1344 Ns to chr15:102716314-102716560\n",
      "Adding 1344 Ns to chrX:169663059-169663209\n",
      "Adding 1344 Ns to chr17:93092564-93092947\n",
      "Adding 1344 Ns to chr17:93671590-93672053\n",
      "Adding 1344 Ns to chrX:169319847-169320714\n",
      "Adding 1344 Ns to chr16:97250940-97251213\n",
      "Adding 1344 Ns to chr17:90736003-90736533\n",
      "Adding 1344 Ns to chr14:120391603-120392094\n",
      "Adding 1344 Ns to chr14:120661270-120662076\n",
      "Adding 1344 Ns to chr14:120172657-120173292\n",
      "Adding 1344 Ns to chr15:103420837-103421292\n",
      "Adding 1344 Ns to chr17:90955124-90955583\n",
      "Adding 1344 Ns to chr18:84995959-84996316\n",
      "Adding 1344 Ns to chr14:118491390-118491606\n",
      "Adding 1344 Ns to chr15:102210961-102211142\n",
      "Adding 1344 Ns to chr14:117767336-117767590\n",
      "Adding 1344 Ns to chr16:96914156-96914956\n",
      "Adding 1344 Ns to chr17:90351642-90351915\n",
      "Adding 1344 Ns to chr14:111675387-111675639\n",
      "Adding 1344 Ns to chrX:168639450-168640031\n",
      "Adding 1344 Ns to chr17:90266321-90266576\n",
      "Adding 1344 Ns to chrX:163879327-163879687\n",
      "Adding 1344 Ns to chr17:87044306-87044750\n",
      "Adding 1344 Ns to chr13:117779728-117779949\n"
     ]
    },
    {
     "name": "stdout",
     "output_type": "stream",
     "text": [
      "process 40000 peaks takes 11.4 s\n"
     ]
    },
    {
     "name": "stderr",
     "output_type": "stream",
     "text": [
      "Adding 1344 Ns to chr17:87112654-87113013\n",
      "Adding 1344 Ns to chr17:87316428-87316811\n",
      "Adding 1344 Ns to chr16:94370129-94371951\n",
      "Adding 1344 Ns to chrX:166226909-166227207\n",
      "Adding 1344 Ns to chr15:102194377-102194796\n",
      "Adding 1344 Ns to chr16:92524615-92525030\n",
      "Adding 1344 Ns to chr16:95293013-95293917\n",
      "Adding 1344 Ns to chr14:121634710-121634967\n",
      "Adding 1344 Ns to chr14:119557624-119557912\n",
      "Adding 1344 Ns to chr17:87351655-87351936\n",
      "Adding 1344 Ns to chr16:90604811-90605341\n",
      "Adding 1344 Ns to chr14:114685206-114685458\n",
      "Adding 1344 Ns to chr15:102659619-102659937\n",
      "Adding 1344 Ns to chr13:118805985-118806262\n",
      "Adding 1344 Ns to chr16:92360621-92360973\n",
      "Adding 1344 Ns to chr17:90504057-90504403\n",
      "Adding 1344 Ns to chrX:160515713-160515926\n",
      "Adding 1344 Ns to chr16:92006885-92007327\n",
      "Adding 1344 Ns to chr16:94612528-94612677\n",
      "Adding 1344 Ns to chr16:94735388-94735619\n",
      "Adding 1344 Ns to chr17:87325580-87325888\n",
      "Adding 1344 Ns to chr13:119790505-119791641\n",
      "Adding 1344 Ns to chr18:82738243-82738544\n",
      "Adding 1344 Ns to chr16:95831544-95832621\n",
      "Adding 1344 Ns to chr18:82040594-82040783\n",
      "Adding 1344 Ns to chr14:108525396-108525635\n",
      "Adding 1344 Ns to chr18:84384211-84384716\n",
      "Adding 1344 Ns to chr15:102110895-102111170\n",
      "Adding 1344 Ns to chr19:59146295-59146585\n",
      "Adding 1344 Ns to chrX:158615164-158615536\n",
      "Adding 1344 Ns to chr16:96518813-96519219\n"
     ]
    },
    {
     "name": "stdout",
     "output_type": "stream",
     "text": [
      "process 41000 peaks takes 11.7 s\n"
     ]
    },
    {
     "name": "stderr",
     "output_type": "stream",
     "text": [
      "Adding 1344 Ns to chr17:86415800-86416376\n",
      "Adding 1344 Ns to chr16:92997404-92998124\n",
      "Adding 1344 Ns to chr14:116313157-116313323\n",
      "Adding 1344 Ns to chr14:121107861-121108238\n",
      "Adding 1344 Ns to chr17:88019193-88019781\n",
      "Adding 1344 Ns to chr16:96173220-96173402\n",
      "Adding 1344 Ns to chrX:162642978-162643235\n",
      "Adding 1344 Ns to chr19:58838574-58839170\n",
      "Adding 1344 Ns to chr14:122762232-122762645\n",
      "Adding 1344 Ns to chr14:119840407-119840796\n",
      "Adding 1344 Ns to chr13:119377649-119378032\n",
      "Adding 1344 Ns to chr18:83059670-83060438\n",
      "Adding 1344 Ns to chr18:83290654-83291127\n",
      "Adding 1344 Ns to chr17:85101995-85102366\n",
      "Adding 1344 Ns to chrX:157451685-157451900\n",
      "Adding 1344 Ns to chrX:167597817-167598243\n",
      "Adding 1344 Ns to chr19:60459000-60459281\n",
      "Adding 1344 Ns to chr17:88367939-88368314\n",
      "Adding 1344 Ns to chr18:84655730-84655908\n",
      "Adding 1344 Ns to chr17:84691288-84691526\n",
      "Adding 1344 Ns to chr17:91086467-91086658\n",
      "Adding 1344 Ns to chr13:116002538-116002821\n",
      "Adding 1344 Ns to chr16:91918590-91918830\n",
      "Adding 1344 Ns to chr17:84399323-84399717\n",
      "Adding 1344 Ns to chr18:88924387-88924987\n",
      "Adding 1344 Ns to chr16:97343583-97343851\n"
     ]
    },
    {
     "name": "stdout",
     "output_type": "stream",
     "text": [
      "process 42000 peaks takes 12.0 s\n"
     ]
    },
    {
     "name": "stderr",
     "output_type": "stream",
     "text": [
      "Adding 1344 Ns to chr19:61060021-61060288\n",
      "Adding 1344 Ns to chr17:90435478-90436505\n",
      "Adding 1344 Ns to chr18:81557173-81557866\n",
      "Adding 1344 Ns to chrX:157271665-157272015\n",
      "Adding 1344 Ns to chrX:162496483-162497124\n",
      "Adding 1344 Ns to chr16:95918615-95919206\n",
      "Adding 1344 Ns to chr13:119768512-119769143\n",
      "Adding 1344 Ns to chr14:113422999-113423345\n",
      "Adding 1344 Ns to chr15:102583708-102584512\n",
      "Adding 1344 Ns to chrX:166952558-166952845\n",
      "Adding 1344 Ns to chr19:60245834-60246169\n",
      "Adding 1344 Ns to chr14:121254077-121254285\n",
      "Adding 1344 Ns to chr17:90054435-90054695\n",
      "Adding 1344 Ns to chr17:87362286-87362539\n",
      "Adding 1344 Ns to chr14:118829555-118830230\n",
      "Adding 1344 Ns to chr13:117765389-117765892\n",
      "Adding 1344 Ns to chr17:89281298-89281668\n",
      "Adding 1344 Ns to chr17:94205534-94205842\n",
      "Adding 1344 Ns to chr18:84797392-84797649\n",
      "Adding 1344 Ns to chr13:115084560-115084867\n",
      "Adding 1344 Ns to chr17:86355739-86356344\n",
      "Adding 1344 Ns to chr15:103185863-103186134\n",
      "Adding 1344 Ns to chr16:94931283-94932417\n",
      "Adding 1344 Ns to chr16:94209635-94210145\n",
      "Adding 1344 Ns to chr19:59345303-59346441\n"
     ]
    },
    {
     "name": "stdout",
     "output_type": "stream",
     "text": [
      "process 43000 peaks takes 12.3 s\n"
     ]
    },
    {
     "name": "stderr",
     "output_type": "stream",
     "text": [
      "Adding 1344 Ns to chr14:121153270-121153615\n",
      "Adding 1344 Ns to chrX:166384935-166385162\n",
      "Adding 1344 Ns to chr15:103393601-103393916\n",
      "Adding 1344 Ns to chr14:122149271-122149515\n",
      "Adding 1344 Ns to chr16:91265976-91266251\n",
      "Adding 1344 Ns to chr14:108744060-108744368\n",
      "Adding 1344 Ns to chr15:103197776-103198105\n",
      "Adding 1344 Ns to chr18:82812375-82812740\n",
      "Adding 1344 Ns to chr18:82841317-82841658\n",
      "Adding 1344 Ns to chr18:85216591-85217040\n",
      "Adding 1344 Ns to chrX:163063872-163064359\n",
      "Adding 1344 Ns to chr18:89143775-89144341\n",
      "Adding 1344 Ns to chr16:97804996-97805244\n",
      "Adding 1344 Ns to chr17:88431706-88431883\n",
      "Adding 1344 Ns to chr16:97356443-97357859\n",
      "Adding 1344 Ns to chrX:164313802-164314288\n",
      "Adding 1344 Ns to chr16:92994923-92995310\n",
      "Adding 1344 Ns to chrX:157079641-157079940\n",
      "Adding 1344 Ns to chrX:156644708-156644965\n",
      "Adding 1344 Ns to chr16:91969441-91970109\n",
      "Adding 1344 Ns to chr16:95978274-95978553\n",
      "Adding 1344 Ns to chr16:90800723-90801645\n",
      "Adding 1344 Ns to chr14:121080805-121081088\n",
      "Adding 1344 Ns to chr18:86676314-86676729\n"
     ]
    },
    {
     "name": "stdout",
     "output_type": "stream",
     "text": [
      "process 44000 peaks takes 12.6 s\n"
     ]
    },
    {
     "name": "stderr",
     "output_type": "stream",
     "text": [
      "Adding 1344 Ns to chr19:58750657-58751213\n",
      "Adding 1344 Ns to chrX:157736514-157736854\n",
      "Adding 1344 Ns to chr14:124634779-124635324\n",
      "Adding 1344 Ns to chr18:84909649-84910128\n",
      "Adding 1344 Ns to chr17:88764982-88765217\n",
      "Adding 1344 Ns to chrX:162412014-162412235\n",
      "Adding 1344 Ns to chr15:103482618-103482783\n",
      "Adding 1344 Ns to chr17:83449657-83450209\n",
      "Adding 1344 Ns to chr17:86305317-86305603\n",
      "Adding 1344 Ns to chr17:84596011-84596294\n",
      "Adding 1344 Ns to chr17:83278661-83278943\n",
      "Adding 1344 Ns to chr17:90383160-90383426\n",
      "Adding 1344 Ns to chr18:82372696-82373172\n",
      "Adding 1344 Ns to chrX:158920249-158920612\n",
      "Adding 1344 Ns to chr18:86827390-86827553\n",
      "Adding 1344 Ns to chr16:96582662-96583057\n",
      "Adding 1344 Ns to chr16:96725436-96725714\n",
      "Adding 1344 Ns to chrX:159210972-159211688\n",
      "Adding 1344 Ns to chr16:91053711-91053975\n"
     ]
    },
    {
     "name": "stdout",
     "output_type": "stream",
     "text": [
      "process 45000 peaks takes 12.8 s\n"
     ]
    },
    {
     "name": "stderr",
     "output_type": "stream",
     "text": [
      "Adding 1344 Ns to chrX:166369639-166369860\n",
      "Adding 1344 Ns to chr15:102302400-102302962\n",
      "Adding 1344 Ns to chr18:90018887-90019710\n",
      "Adding 1344 Ns to chr14:114556818-114557275\n",
      "Adding 1344 Ns to chr17:86214211-86215146\n",
      "Adding 1344 Ns to chr18:85304334-85305064\n",
      "Adding 1344 Ns to chr17:84574767-84575061\n",
      "Adding 1344 Ns to chr16:94743783-94744854\n",
      "Adding 1344 Ns to chr18:88747157-88747607\n",
      "Adding 1344 Ns to chrX:163929618-163929978\n",
      "Adding 1344 Ns to chr13:119800948-119801302\n",
      "Adding 1344 Ns to chr17:88614144-88614781\n",
      "Adding 1344 Ns to chr17:90455859-90456347\n",
      "Adding 1344 Ns to chr17:90749500-90749953\n",
      "Adding 1344 Ns to chr18:83936266-83937170\n",
      "Adding 1344 Ns to chr14:119797275-119797787\n",
      "Adding 1344 Ns to chr14:118970756-118971233\n",
      "Adding 1344 Ns to chr13:117129849-117130071\n",
      "Adding 1344 Ns to chr15:102839599-102840067\n",
      "Adding 1344 Ns to chrX:157994027-157994435\n",
      "Adding 1344 Ns to chr17:89246767-89246948\n",
      "Adding 1344 Ns to chr18:82854045-82854464\n",
      "Adding 1344 Ns to chr17:89173211-89173519\n",
      "Adding 1344 Ns to chrX:167082588-167083041\n",
      "Adding 1344 Ns to chr14:118616697-118617194\n",
      "Adding 1344 Ns to chr13:115852770-115853250\n",
      "Adding 1344 Ns to chr13:118091638-118091910\n"
     ]
    },
    {
     "name": "stdout",
     "output_type": "stream",
     "text": [
      "process 46000 peaks takes 13.1 s\n"
     ]
    },
    {
     "name": "stderr",
     "output_type": "stream",
     "text": [
      "Adding 1344 Ns to chr14:111631072-111631350\n",
      "Adding 1344 Ns to chr17:90039761-90040181\n",
      "Adding 1344 Ns to chr16:93812573-93812871\n",
      "Adding 1344 Ns to chr16:94624898-94625261\n",
      "Adding 1344 Ns to chr16:95684879-95685213\n",
      "Adding 1344 Ns to chr14:111674507-111675022\n",
      "Adding 1344 Ns to chr14:116957483-116957684\n",
      "Adding 1344 Ns to chr16:96235387-96236065\n",
      "Adding 1344 Ns to chr14:117903961-117904125\n",
      "Adding 1344 Ns to chr14:120144563-120144936\n",
      "Adding 1344 Ns to chr16:94570452-94570832\n",
      "Adding 1344 Ns to chr14:119247947-119248677\n",
      "Adding 1344 Ns to chr14:117023020-117023406\n",
      "Adding 1344 Ns to chr16:90453141-90453703\n",
      "Adding 1344 Ns to chr19:58819189-58819371\n",
      "Adding 1344 Ns to chr14:120826276-120826571\n",
      "Adding 1344 Ns to chr14:122474839-122475561\n",
      "Adding 1344 Ns to chrX:164725705-164725981\n",
      "Adding 1344 Ns to chr14:121245815-121246877\n",
      "Adding 1344 Ns to chr18:83686047-83686433\n"
     ]
    },
    {
     "name": "stdout",
     "output_type": "stream",
     "text": [
      "process 47000 peaks takes 13.4 s\n"
     ]
    },
    {
     "name": "stderr",
     "output_type": "stream",
     "text": [
      "Adding 1344 Ns to chrX:160504041-160504401\n",
      "Adding 1344 Ns to chrX:169839989-169840195\n",
      "Adding 1344 Ns to chr16:97366944-97367156\n",
      "Adding 1344 Ns to chr17:88103319-88103525\n",
      "Adding 1344 Ns to chr17:84056807-84057735\n",
      "Adding 1344 Ns to chr18:86600639-86601322\n",
      "Adding 1344 Ns to chrX:162081975-162082309\n",
      "Adding 1344 Ns to chrX:167329682-167330173\n",
      "Adding 1344 Ns to chr14:117951715-117952082\n",
      "Adding 1344 Ns to chr19:59784436-59784934\n",
      "Adding 1344 Ns to chr17:86535713-86536643\n",
      "Adding 1344 Ns to chr17:87125210-87125711\n",
      "Adding 1344 Ns to chr14:114504794-114505313\n",
      "Adding 1344 Ns to chr18:82575375-82575997\n",
      "Adding 1344 Ns to chr19:58829438-58830567\n",
      "Adding 1344 Ns to chr14:124180084-124180808\n",
      "Adding 1344 Ns to chr18:83529145-83529403\n",
      "Adding 1344 Ns to chrX:159291697-159291977\n",
      "Adding 1344 Ns to chr18:84050099-84050365\n",
      "Adding 1344 Ns to chr14:117813436-117813932\n",
      "Adding 1344 Ns to chr16:95398847-95399536\n",
      "Adding 1344 Ns to chr17:87167362-87167799\n",
      "Adding 1344 Ns to chr14:114450599-114450824\n"
     ]
    },
    {
     "name": "stdout",
     "output_type": "stream",
     "text": [
      "process 48000 peaks takes 13.6 s\n"
     ]
    },
    {
     "name": "stderr",
     "output_type": "stream",
     "text": [
      "Adding 1344 Ns to chr16:96623647-96623926\n",
      "Adding 1344 Ns to chr17:88042529-88043120\n",
      "Adding 1344 Ns to chr17:83378490-83378804\n",
      "Adding 1344 Ns to chr17:86610733-86610890\n",
      "Adding 1344 Ns to chr18:83134799-83135578\n",
      "Adding 1344 Ns to chr14:109257197-109257710\n",
      "Adding 1344 Ns to chr13:114668520-114669029\n",
      "Adding 1344 Ns to chr14:119060690-119061237\n",
      "Adding 1344 Ns to chr14:108555534-108555715\n",
      "Adding 1344 Ns to chr14:124409436-124409600\n",
      "Adding 1344 Ns to chr14:120607790-120608253\n",
      "Adding 1344 Ns to chr14:123817621-123817811\n",
      "Adding 1344 Ns to chr15:102732460-102732809\n",
      "Adding 1344 Ns to chrX:157847043-157847472\n",
      "Adding 1344 Ns to chr16:95739366-95739907\n",
      "Adding 1344 Ns to chr14:116019896-116020155\n",
      "Adding 1344 Ns to chr17:86167279-86168558\n",
      "Adding 1344 Ns to chrX:167382474-167383055\n",
      "Adding 1344 Ns to chr13:116782561-116782753\n",
      "Adding 1344 Ns to chr14:122581878-122582118\n",
      "Adding 1344 Ns to chr14:121268415-121268733\n",
      "Adding 1344 Ns to chr15:102316329-102316565\n",
      "Adding 1344 Ns to chr18:90289604-90290010\n",
      "Adding 1344 Ns to chr18:83501682-83501844\n",
      "Adding 1344 Ns to chr15:103292697-103293090\n",
      "Adding 1344 Ns to chr18:83430442-83431131\n",
      "Adding 1344 Ns to chr19:59922329-59922584\n",
      "Adding 1344 Ns to chr16:96782893-96783352\n",
      "Adding 1344 Ns to chr16:90673373-90674083\n",
      "Adding 1344 Ns to chr15:102192420-102192783\n",
      "Adding 1344 Ns to chr15:103121347-103121805\n",
      "Adding 1344 Ns to chr15:102692943-102693437\n",
      "Adding 1344 Ns to chr16:94555931-94556437\n",
      "Adding 1344 Ns to chr16:92134120-92134759\n",
      "Adding 1344 Ns to chrX:165943416-165943937\n"
     ]
    },
    {
     "name": "stdout",
     "output_type": "stream",
     "text": [
      "process 49000 peaks takes 13.9 s\n"
     ]
    },
    {
     "name": "stderr",
     "output_type": "stream",
     "text": [
      "Adding 1344 Ns to chr17:88937278-88937486\n",
      "Adding 1344 Ns to chr16:92336244-92336642\n",
      "Adding 1344 Ns to chr17:89308938-89309351\n",
      "Adding 1344 Ns to chr17:89036680-89037272\n",
      "Adding 1344 Ns to chr17:85292272-85292887\n",
      "Adding 1344 Ns to chr18:89507199-89507399\n",
      "Adding 1344 Ns to chrX:162554858-162555357\n",
      "Adding 1344 Ns to chr14:116137842-116138188\n",
      "Adding 1344 Ns to chr18:86450576-86450915\n",
      "Adding 1344 Ns to chr18:85261679-85262132\n",
      "Adding 1344 Ns to chr14:117684789-117685096\n",
      "Adding 1344 Ns to chr17:86555003-86555152\n",
      "Adding 1344 Ns to chr16:93744003-93744354\n",
      "Adding 1344 Ns to chr19:59454277-59454507\n",
      "Adding 1344 Ns to chr17:89275785-89276137\n",
      "Adding 1344 Ns to chr16:96467419-96468005\n",
      "Adding 1344 Ns to chrX:167614894-167615357\n",
      "Adding 1344 Ns to chr16:91904499-91904648\n",
      "Adding 1344 Ns to chr17:86392531-86392846\n",
      "Adding 1344 Ns to chr14:120621079-120621465\n",
      "Adding 1344 Ns to chrX:169228597-169228746\n",
      "Adding 1344 Ns to chr18:80729299-80729696\n",
      "Adding 1344 Ns to chr16:95729816-95730126\n",
      "Adding 1344 Ns to chr13:115101481-115101661\n",
      "Adding 1344 Ns to chrX:160813695-160814091\n",
      "Adding 1344 Ns to chr14:118919113-118919319\n",
      "Adding 1344 Ns to chr17:85241998-85242683\n",
      "Adding 1344 Ns to chr17:91738886-91739344\n",
      "Adding 1344 Ns to chr14:117214135-117214729\n",
      "Adding 1344 Ns to chr14:120809309-120810026\n"
     ]
    },
    {
     "name": "stdout",
     "output_type": "stream",
     "text": [
      "process 50000 peaks takes 14.2 s\n"
     ]
    },
    {
     "name": "stderr",
     "output_type": "stream",
     "text": [
      "Adding 1344 Ns to chr13:116969645-116970197\n",
      "Adding 1344 Ns to chr16:94919448-94919611\n",
      "Adding 1344 Ns to chr17:83323724-83323948\n",
      "Adding 1344 Ns to chr14:121852518-121853437\n",
      "Adding 1344 Ns to chr16:95196717-95197004\n",
      "Adding 1344 Ns to chr17:86456554-86457081\n",
      "Adding 1344 Ns to chr19:60064890-60065118\n",
      "Adding 1344 Ns to chr17:84876077-84876404\n",
      "Adding 1344 Ns to chr18:83035403-83035697\n",
      "Adding 1344 Ns to chr14:121259799-121260149\n",
      "Adding 1344 Ns to chr17:83819484-83819937\n",
      "Adding 1344 Ns to chrX:162448543-162448734\n",
      "Adding 1344 Ns to chr17:86629701-86630146\n",
      "Adding 1344 Ns to chr16:90999986-91000144\n",
      "Adding 1344 Ns to chr19:60147054-60147284\n",
      "Adding 1344 Ns to chr17:88483830-88484020\n",
      "Adding 1344 Ns to chr14:120805660-120806008\n",
      "Adding 1344 Ns to chr17:86411897-86412103\n",
      "Adding 1344 Ns to chr14:119720513-119720879\n",
      "Adding 1344 Ns to chr16:90654714-90655250\n"
     ]
    },
    {
     "name": "stdout",
     "output_type": "stream",
     "text": [
      "process 51000 peaks takes 14.5 s\n"
     ]
    },
    {
     "name": "stderr",
     "output_type": "stream",
     "text": [
      "Adding 1344 Ns to chr18:82051628-82051829\n",
      "Adding 1344 Ns to chr17:85473045-85473645\n",
      "Adding 1344 Ns to chr18:85254800-85255229\n",
      "Adding 1344 Ns to chr18:82390611-82390936\n",
      "Adding 1344 Ns to chrX:158769376-158769916\n",
      "Adding 1344 Ns to chr16:96062446-96062956\n",
      "Adding 1344 Ns to chr16:95654012-95654683\n",
      "Adding 1344 Ns to chr17:90584163-90584388\n",
      "Adding 1344 Ns to chr15:102686376-102686617\n",
      "Adding 1344 Ns to chr14:120632755-120633140\n",
      "Adding 1344 Ns to chr14:118972224-118972540\n",
      "Adding 1344 Ns to chr13:117829107-117829322\n",
      "Adding 1344 Ns to chrX:161480531-161480736\n",
      "Adding 1344 Ns to chr14:120709372-120709675\n",
      "Adding 1344 Ns to chr14:121327294-121327545\n",
      "Adding 1344 Ns to chr13:118715810-118716095\n",
      "Adding 1344 Ns to chr14:123554936-123555282\n",
      "Adding 1344 Ns to chr16:93935744-93936075\n",
      "Adding 1344 Ns to chr17:84865200-84865531\n",
      "Adding 1344 Ns to chr13:117233982-117234214\n",
      "Adding 1344 Ns to chr16:95413471-95414054\n",
      "Adding 1344 Ns to chr13:115131495-115131764\n",
      "Adding 1344 Ns to chr17:86840951-86841433\n",
      "Adding 1344 Ns to chr16:93102040-93102567\n",
      "Adding 1344 Ns to chr13:118372801-118373454\n",
      "Adding 1344 Ns to chr13:116488997-116489385\n"
     ]
    },
    {
     "name": "stdout",
     "output_type": "stream",
     "text": [
      "process 52000 peaks takes 14.8 s\n"
     ]
    },
    {
     "name": "stderr",
     "output_type": "stream",
     "text": [
      "Adding 1344 Ns to chrX:156809252-156809489\n",
      "Adding 1344 Ns to chr19:59742991-59743143\n",
      "Adding 1344 Ns to chr18:82792800-82793152\n",
      "Adding 1344 Ns to chr16:96258753-96258982\n",
      "Adding 1344 Ns to chr17:86204163-86204740\n",
      "Adding 1344 Ns to chrX:167523231-167523457\n",
      "Adding 1344 Ns to chr17:90744383-90744744\n",
      "Adding 1344 Ns to chr14:120033683-120034200\n",
      "Adding 1344 Ns to chr18:83778014-83778192\n",
      "Adding 1344 Ns to chrX:162556158-162556837\n",
      "Adding 1344 Ns to chr14:109241314-109241698\n",
      "Adding 1344 Ns to chr14:113050824-113051050\n",
      "Adding 1344 Ns to chrX:160748428-160748706\n",
      "Adding 1344 Ns to chr17:87562914-87563669\n",
      "Adding 1344 Ns to chr16:96641965-96642355\n",
      "Adding 1344 Ns to chrX:168842213-168842483\n",
      "Adding 1344 Ns to chr13:116795827-116796241\n",
      "Adding 1344 Ns to chr16:93379653-93379993\n",
      "Adding 1344 Ns to chr15:103323047-103323760\n",
      "Adding 1344 Ns to chr16:91946336-91946533\n",
      "Adding 1344 Ns to chrX:167987329-167987750\n",
      "Adding 1344 Ns to chr16:91896354-91897077\n",
      "Adding 1344 Ns to chr14:118904424-118904809\n",
      "Adding 1344 Ns to chr16:95827199-95827802\n",
      "Adding 1344 Ns to chr19:60743267-60743692\n",
      "Adding 1344 Ns to chr14:123837586-123838254\n"
     ]
    },
    {
     "name": "stdout",
     "output_type": "stream",
     "text": [
      "process 53000 peaks takes 15.0 s\n"
     ]
    },
    {
     "name": "stderr",
     "output_type": "stream",
     "text": [
      "Adding 1344 Ns to chr18:85187985-85188348\n",
      "Adding 1344 Ns to chr16:93381240-93381591\n",
      "Adding 1344 Ns to chr14:118937515-118938117\n",
      "Adding 1344 Ns to chr17:86201087-86201513\n",
      "Adding 1344 Ns to chr14:114563179-114563454\n",
      "Adding 1344 Ns to chr14:122074257-122074586\n",
      "Adding 1344 Ns to chr14:124243760-124243985\n",
      "Adding 1344 Ns to chr17:84258622-84259283\n",
      "Adding 1344 Ns to chr16:92716796-92716977\n",
      "Adding 1344 Ns to chr16:96145062-96145860\n",
      "Adding 1344 Ns to chr18:80604045-80604206\n",
      "Adding 1344 Ns to chr16:91612693-91613152\n",
      "Adding 1344 Ns to chr14:111523871-111524176\n",
      "Adding 1344 Ns to chr16:94781951-94783126\n",
      "Adding 1344 Ns to chrX:169201160-169201313\n",
      "Adding 1344 Ns to chr14:121270494-121271098\n",
      "Adding 1344 Ns to chrX:157292854-157293502\n",
      "Adding 1344 Ns to chrX:159946170-159946524\n",
      "Adding 1344 Ns to chr14:120678508-120679466\n",
      "Adding 1344 Ns to chr14:121871916-121872232\n",
      "Adding 1344 Ns to chr14:117330408-117330690\n",
      "Adding 1344 Ns to chr17:83741163-83741563\n",
      "Adding 1344 Ns to chr18:82634708-82634880\n",
      "Adding 1344 Ns to chr16:92099991-92100549\n"
     ]
    },
    {
     "name": "stdout",
     "output_type": "stream",
     "text": [
      "process 54000 peaks takes 15.3 s\n"
     ]
    },
    {
     "name": "stderr",
     "output_type": "stream",
     "text": [
      "Adding 1344 Ns to chr19:60389865-60390135\n",
      "Adding 1344 Ns to chr16:91280600-91280975\n",
      "Adding 1344 Ns to chr14:117895055-117896126\n",
      "Adding 1344 Ns to chr16:96528446-96528879\n",
      "Adding 1344 Ns to chrX:160914112-160914662\n",
      "Adding 1344 Ns to chr18:84245850-84246362\n",
      "Adding 1344 Ns to chr17:90614675-90614880\n",
      "Adding 1344 Ns to chr16:91471666-91471873\n",
      "Adding 1344 Ns to chrX:164437140-164437333\n",
      "Adding 1344 Ns to chr18:85799417-85799615\n",
      "Adding 1344 Ns to chr17:83943035-83943527\n",
      "Adding 1344 Ns to chr17:87585223-87585473\n",
      "Adding 1344 Ns to chr14:120626765-120627005\n",
      "Adding 1344 Ns to chr16:95584396-95584545\n",
      "Adding 1344 Ns to chr14:120561316-120561651\n",
      "Adding 1344 Ns to chr14:108821313-108822062\n",
      "Adding 1344 Ns to chr14:121535847-121536210\n",
      "Adding 1344 Ns to chr17:88613777-88613974\n",
      "Adding 1344 Ns to chr18:82620868-82621869\n",
      "Adding 1344 Ns to chr16:97401717-97402184\n",
      "Adding 1344 Ns to chr16:94313166-94314123\n",
      "Adding 1344 Ns to chr16:93377168-93377367\n",
      "Adding 1344 Ns to chr16:93246647-93247246\n",
      "Adding 1344 Ns to chr16:91875515-91876361\n",
      "Adding 1344 Ns to chr14:108747699-108747857\n",
      "Adding 1344 Ns to chr17:83312215-83313037\n",
      "Adding 1344 Ns to chr17:86791213-86791613\n",
      "Adding 1344 Ns to chr18:89012934-89013150\n",
      "Adding 1344 Ns to chr14:112239485-112239882\n",
      "Adding 1344 Ns to chrX:158394105-158395039\n",
      "Adding 1344 Ns to chr17:90094927-90095406\n",
      "Adding 1344 Ns to chr18:89179399-89179902\n",
      "Adding 1344 Ns to chr16:96243884-96244070\n",
      "Adding 1344 Ns to chrX:159719520-159719927\n",
      "Adding 1344 Ns to chr19:60457723-60458112\n"
     ]
    },
    {
     "name": "stdout",
     "output_type": "stream",
     "text": [
      "process 55000 peaks takes 15.6 s\n"
     ]
    },
    {
     "name": "stderr",
     "output_type": "stream",
     "text": [
      "Adding 1344 Ns to chr19:61084325-61084850\n",
      "Adding 1344 Ns to chrX:158809911-158810344\n",
      "Adding 1344 Ns to chrX:164952684-164952943\n",
      "Adding 1344 Ns to chr19:59943085-59944087\n",
      "Adding 1344 Ns to chr16:91712246-91712449\n",
      "Adding 1344 Ns to chr16:94866578-94866985\n",
      "Adding 1344 Ns to chr14:116957203-116957472\n",
      "Adding 1344 Ns to chr14:118607792-118608134\n",
      "Adding 1344 Ns to chrX:161572623-161573140\n",
      "Adding 1344 Ns to chr18:88098016-88098319\n",
      "Adding 1344 Ns to chr16:90460337-90460634\n",
      "Adding 1344 Ns to chr17:86365359-86365527\n",
      "Adding 1344 Ns to chr13:119710290-119710478\n",
      "Adding 1344 Ns to chr15:103163133-103163737\n",
      "Adding 1344 Ns to chr17:89861359-89861613\n",
      "Adding 1344 Ns to chr17:87364244-87364437\n",
      "Adding 1344 Ns to chr13:117289491-117289995\n",
      "Adding 1344 Ns to chr17:91385878-91386443\n",
      "Adding 1344 Ns to chr14:120848689-120849511\n",
      "Adding 1344 Ns to chr16:95815408-95816109\n",
      "Adding 1344 Ns to chr14:115475293-115475681\n",
      "Adding 1344 Ns to chrX:157981822-157982250\n",
      "Adding 1344 Ns to chr17:83681868-83682350\n",
      "Adding 1344 Ns to chr17:90454166-90454630\n",
      "Adding 1344 Ns to chr17:84989492-84989988\n",
      "Adding 1344 Ns to chrX:157873795-157873954\n"
     ]
    },
    {
     "name": "stdout",
     "output_type": "stream",
     "text": [
      "process 56000 peaks takes 15.9 s\n"
     ]
    },
    {
     "name": "stderr",
     "output_type": "stream",
     "text": [
      "Adding 1344 Ns to chrX:167436403-167436790\n",
      "Adding 1344 Ns to chr18:84734652-84735103\n",
      "Adding 1344 Ns to chr17:88567572-88567970\n",
      "Adding 1344 Ns to chr17:88899096-88899692\n",
      "Adding 1344 Ns to chrX:162913635-162914088\n",
      "Adding 1344 Ns to chr17:88817488-88817945\n",
      "Adding 1344 Ns to chr17:86769908-86770198\n",
      "Adding 1344 Ns to chr14:114750693-114751022\n",
      "Adding 1344 Ns to chr17:86433717-86434255\n",
      "Adding 1344 Ns to chr13:117742847-117743351\n",
      "Adding 1344 Ns to chr17:90797534-90798091\n",
      "Adding 1344 Ns to chr17:90007699-90008261\n",
      "Adding 1344 Ns to chr18:85659013-85659446\n",
      "Adding 1344 Ns to chr14:108812346-108812610\n",
      "Adding 1344 Ns to chr16:97024456-97024787\n",
      "Adding 1344 Ns to chrX:157838489-157838857\n",
      "Adding 1344 Ns to chr14:116979951-116980637\n",
      "Adding 1344 Ns to chr17:94172956-94173596\n",
      "Adding 1344 Ns to chr14:124317168-124317332\n",
      "Adding 1344 Ns to chr16:97072466-97073181\n",
      "Adding 1344 Ns to chr17:85926366-85926664\n",
      "Adding 1344 Ns to chr14:122721724-122722073\n",
      "Adding 1344 Ns to chr14:120595583-120596159\n",
      "Adding 1344 Ns to chr14:118922278-118922467\n",
      "Adding 1344 Ns to chrX:157995728-157995909\n",
      "Adding 1344 Ns to chr14:116208947-116209610\n",
      "Adding 1344 Ns to chr14:117407888-117408371\n"
     ]
    },
    {
     "name": "stdout",
     "output_type": "stream",
     "text": [
      "process 57000 peaks takes 16.2 s\n"
     ]
    },
    {
     "name": "stderr",
     "output_type": "stream",
     "text": [
      "Adding 1344 Ns to chr14:119502659-119503070\n",
      "Adding 1344 Ns to chr14:111676946-111677370\n",
      "Adding 1344 Ns to chr16:90686084-90686403\n",
      "Adding 1344 Ns to chr18:81975223-81975820\n",
      "Adding 1344 Ns to chr18:88468558-88469114\n",
      "Adding 1344 Ns to chrX:167812277-167812803\n",
      "Adding 1344 Ns to chr16:96468210-96468359\n",
      "Adding 1344 Ns to chr15:103172571-103172860\n",
      "Adding 1344 Ns to chrX:166621512-166622177\n",
      "Adding 1344 Ns to chr18:80764929-80765185\n",
      "Adding 1344 Ns to chr16:94906036-94906528\n",
      "Adding 1344 Ns to chr14:122081834-122082143\n",
      "Adding 1344 Ns to chr14:111166039-111166277\n",
      "Adding 1344 Ns to chrX:161635132-161635460\n",
      "Adding 1344 Ns to chr18:85155089-85156060\n",
      "Adding 1344 Ns to chr16:90801992-90802238\n",
      "Adding 1344 Ns to chr16:91191344-91192351\n",
      "Adding 1344 Ns to chr17:88209478-88209631\n",
      "Adding 1344 Ns to chr14:120815891-120816303\n",
      "Adding 1344 Ns to chrX:167934445-167934923\n",
      "Adding 1344 Ns to chrX:162510445-162510985\n",
      "Adding 1344 Ns to chr18:83676728-83677119\n",
      "Adding 1344 Ns to chr14:110399054-110399436\n",
      "Adding 1344 Ns to chr18:81127905-81128170\n",
      "Adding 1344 Ns to chr15:102239251-102239670\n",
      "Adding 1344 Ns to chr18:81152632-81153110\n",
      "Adding 1344 Ns to chr17:84146012-84146164\n",
      "Adding 1344 Ns to chr17:89197249-89197617\n",
      "Adding 1344 Ns to chr16:96680023-96680435\n",
      "Adding 1344 Ns to chr16:97673629-97674036\n",
      "Adding 1344 Ns to chr15:103313497-103313873\n",
      "Adding 1344 Ns to chrX:163848593-163849094\n",
      "Adding 1344 Ns to chr14:124322165-124322405\n",
      "Adding 1344 Ns to chr17:91275871-91276251\n",
      "Adding 1344 Ns to chr15:103536813-103537542\n"
     ]
    },
    {
     "name": "stdout",
     "output_type": "stream",
     "text": [
      "process 58000 peaks takes 16.4 s\n"
     ]
    },
    {
     "name": "stderr",
     "output_type": "stream",
     "text": [
      "Adding 1344 Ns to chr18:83737193-83737408\n",
      "Adding 1344 Ns to chr17:87391113-87391642\n",
      "Adding 1344 Ns to chrX:161373508-161373771\n",
      "Adding 1344 Ns to chr16:94289087-94289645\n",
      "Adding 1344 Ns to chr14:110832066-110832334\n",
      "Adding 1344 Ns to chr16:94227709-94228001\n",
      "Adding 1344 Ns to chr16:91583983-91584271\n",
      "Adding 1344 Ns to chr17:86054549-86054852\n",
      "Adding 1344 Ns to chrX:167886096-167886496\n",
      "Adding 1344 Ns to chr13:117024272-117024985\n",
      "Adding 1344 Ns to chr17:86150809-86151334\n",
      "Adding 1344 Ns to chr14:119347281-119347852\n",
      "Adding 1344 Ns to chr14:120061173-120061413\n",
      "Adding 1344 Ns to chr14:116108262-116108632\n",
      "Adding 1344 Ns to chr17:83365989-83366393\n",
      "Adding 1344 Ns to chr17:84474378-84474804\n",
      "Adding 1344 Ns to chrX:158655970-158656251\n",
      "Adding 1344 Ns to chrX:167331861-167332128\n",
      "Adding 1344 Ns to chrX:168168935-168169225\n",
      "Adding 1344 Ns to chr17:84419361-84419640\n",
      "Adding 1344 Ns to chr13:115697911-115698284\n",
      "Adding 1344 Ns to chr16:94534610-94535038\n",
      "Adding 1344 Ns to chr14:119809471-119809620\n",
      "Adding 1344 Ns to chr17:94133141-94133683\n",
      "Adding 1344 Ns to chr18:82613310-82613882\n",
      "Adding 1344 Ns to chrX:159415414-159415778\n",
      "Adding 1344 Ns to chr14:123626473-123627389\n",
      "Adding 1344 Ns to chr17:87531449-87531908\n",
      "Adding 1344 Ns to chr14:119857174-119857906\n",
      "Adding 1344 Ns to chr16:94651740-94652621\n",
      "Adding 1344 Ns to chr17:91092381-91093572\n"
     ]
    },
    {
     "name": "stdout",
     "output_type": "stream",
     "text": [
      "process 59000 peaks takes 16.7 s\n"
     ]
    },
    {
     "name": "stderr",
     "output_type": "stream",
     "text": [
      "Adding 1344 Ns to chr14:123513383-123513737\n",
      "Adding 1344 Ns to chr17:84657087-84657280\n",
      "Adding 1344 Ns to chr19:59024270-59024484\n",
      "Adding 1344 Ns to chr17:93109849-93110294\n",
      "Adding 1344 Ns to chr14:124502159-124502542\n",
      "Adding 1344 Ns to chr16:95897645-95898127\n",
      "Adding 1344 Ns to chrX:157597748-157598984\n",
      "Adding 1344 Ns to chr15:103013593-103013813\n",
      "Adding 1344 Ns to chr14:120289025-120289918\n",
      "Adding 1344 Ns to chr17:91085768-91086186\n",
      "Adding 1344 Ns to chrX:162035915-162036111\n",
      "Adding 1344 Ns to chr18:89768925-89770201\n",
      "Adding 1344 Ns to chr16:91392886-91393297\n",
      "Adding 1344 Ns to chr16:96468641-96469124\n",
      "Adding 1344 Ns to chrX:163938552-163939120\n",
      "Adding 1344 Ns to chr14:113930764-113931073\n",
      "Adding 1344 Ns to chr14:116459449-116459763\n",
      "Adding 1344 Ns to chr18:80630110-80630629\n",
      "Adding 1344 Ns to chr13:117267102-117267385\n",
      "Adding 1344 Ns to chr19:59324700-59324981\n",
      "Adding 1344 Ns to chr18:88774197-88774416\n",
      "Adding 1344 Ns to chrX:168673338-168674673\n"
     ]
    },
    {
     "name": "stdout",
     "output_type": "stream",
     "text": [
      "process 0 peaks takes 0.3 s\n"
     ]
    },
    {
     "name": "stderr",
     "output_type": "stream",
     "text": [
      "Adding 1344 Ns to chr14:115633070-115633705\n",
      "Adding 1344 Ns to chr14:118703385-118703747\n",
      "Adding 1344 Ns to chr14:121615408-121615829\n",
      "Adding 1344 Ns to chr19:58860244-58861354\n",
      "Adding 1344 Ns to chr19:58872651-58873038\n",
      "Adding 1344 Ns to chr17:85019212-85019583\n",
      "Adding 1344 Ns to chr16:96039263-96039897\n",
      "Adding 1344 Ns to chr17:88694253-88694444\n",
      "Adding 1344 Ns to chr16:96436876-96437061\n",
      "Adding 1344 Ns to chr16:96976090-96976379\n",
      "Adding 1344 Ns to chrX:167860890-167861355\n",
      "Adding 1344 Ns to chr17:84385612-84385994\n",
      "Adding 1344 Ns to chr15:102779868-102780362\n",
      "Adding 1344 Ns to chr18:86319184-86319579\n",
      "Adding 1344 Ns to chr18:82616370-82616670\n",
      "Adding 1344 Ns to chr16:95278997-95279249\n",
      "Adding 1344 Ns to chrX:160773053-160773919\n",
      "Adding 1344 Ns to chr17:85892012-85892200\n",
      "Adding 1344 Ns to chr19:60437620-60438313\n",
      "Adding 1344 Ns to chr14:111100109-111100765\n",
      "Adding 1344 Ns to chr16:94253940-94254460\n",
      "Adding 1344 Ns to chr19:58850273-58850451\n",
      "Adding 1344 Ns to chr17:88580245-88580604\n",
      "Adding 1344 Ns to chr16:97158744-97159153\n",
      "Adding 1344 Ns to chr15:102691069-102691407\n",
      "Adding 1344 Ns to chr14:121313078-121313836\n",
      "Adding 1344 Ns to chr14:119335966-119336406\n",
      "Adding 1344 Ns to chr14:116543637-116544101\n",
      "Adding 1344 Ns to chr19:61021380-61022020\n",
      "Adding 1344 Ns to chr18:82961266-82961512\n"
     ]
    },
    {
     "name": "stdout",
     "output_type": "stream",
     "text": [
      "process 1000 peaks takes 0.6 s\n"
     ]
    },
    {
     "name": "stderr",
     "output_type": "stream",
     "text": [
      "Adding 1344 Ns to chr14:109009809-109010009\n",
      "Adding 1344 Ns to chr16:97033328-97033891\n",
      "Adding 1344 Ns to chrX:166900689-166901280\n",
      "Adding 1344 Ns to chr18:84937580-84937798\n",
      "Adding 1344 Ns to chrX:159409262-159409584\n",
      "Adding 1344 Ns to chr13:119743154-119743596\n",
      "Adding 1344 Ns to chrX:167207773-167208250\n",
      "Adding 1344 Ns to chr14:121347321-121347514\n",
      "Adding 1344 Ns to chr18:85362874-85363617\n",
      "Adding 1344 Ns to chr18:82526101-82526440\n",
      "Adding 1344 Ns to chr17:90704745-90705233\n",
      "Adding 1344 Ns to chr14:120680810-120681135\n",
      "Adding 1344 Ns to chrX:165246218-165246442\n",
      "Adding 1344 Ns to chr18:80836052-80836366\n",
      "Adding 1344 Ns to chr13:118295321-118295627\n",
      "Adding 1344 Ns to chr14:111437397-111437673\n",
      "Adding 1344 Ns to chr14:119980965-119981217\n",
      "Adding 1344 Ns to chr17:89583105-89583301\n",
      "Adding 1344 Ns to chr14:121710091-121710416\n",
      "Adding 1344 Ns to chr14:117113230-117113466\n",
      "Adding 1344 Ns to chrX:169473815-169474384\n",
      "Adding 1344 Ns to chr19:59074801-59076045\n",
      "Adding 1344 Ns to chrX:157810829-157811243\n",
      "Adding 1344 Ns to chr17:93226155-93226396\n"
     ]
    },
    {
     "name": "stdout",
     "output_type": "stream",
     "text": [
      "process 2000 peaks takes 0.8 s\n"
     ]
    },
    {
     "name": "stderr",
     "output_type": "stream",
     "text": [
      "Adding 1344 Ns to chrX:157781257-157781459\n",
      "Adding 1344 Ns to chr14:123664553-123664983\n",
      "Adding 1344 Ns to chr16:94631950-94632319\n",
      "Adding 1344 Ns to chr18:84074220-84074413\n",
      "Adding 1344 Ns to chr15:102770858-102771531\n",
      "Adding 1344 Ns to chr17:91216520-91216742\n",
      "Adding 1344 Ns to chrX:161854000-161854210\n",
      "Adding 1344 Ns to chr14:117571961-117572779\n",
      "Adding 1344 Ns to chr13:115725691-115725881\n",
      "Adding 1344 Ns to chrX:162548987-162549311\n",
      "Adding 1344 Ns to chr13:118041065-118041440\n",
      "Adding 1344 Ns to chr14:121171975-121172488\n",
      "Adding 1344 Ns to chr17:90696030-90696892\n",
      "Adding 1344 Ns to chr14:119884496-119884792\n",
      "Adding 1344 Ns to chr14:114425475-114425963\n",
      "Adding 1344 Ns to chr14:110442459-110442887\n",
      "Adding 1344 Ns to chr16:91504773-91505596\n",
      "Adding 1344 Ns to chrX:167984815-167985223\n",
      "Adding 1344 Ns to chr17:93379925-93380336\n",
      "Adding 1344 Ns to chr14:115362244-115362435\n",
      "Adding 1344 Ns to chr16:91043794-91045071\n",
      "Adding 1344 Ns to chr18:81467934-81468249\n",
      "Adding 1344 Ns to chr17:86655077-86655382\n"
     ]
    },
    {
     "name": "stdout",
     "output_type": "stream",
     "text": [
      "process 3000 peaks takes 1.1 s\n"
     ]
    },
    {
     "name": "stderr",
     "output_type": "stream",
     "text": [
      "Adding 1344 Ns to chr14:109434108-109434544\n",
      "Adding 1344 Ns to chr17:89533525-89534002\n",
      "Adding 1344 Ns to chr17:89100363-89100669\n",
      "Adding 1344 Ns to chr14:112895632-112895898\n",
      "Adding 1344 Ns to chr19:60789941-60791233\n",
      "Adding 1344 Ns to chrX:167747255-167747660\n",
      "Adding 1344 Ns to chrX:163038832-163039243\n",
      "Adding 1344 Ns to chr15:102203244-102204438\n",
      "Adding 1344 Ns to chr14:120750070-120750260\n",
      "Adding 1344 Ns to chr16:94354463-94354766\n",
      "Adding 1344 Ns to chr17:90276482-90276716\n",
      "Adding 1344 Ns to chr14:121987153-121987810\n",
      "Adding 1344 Ns to chr16:95659375-95659884\n",
      "Adding 1344 Ns to chr16:96335755-96336239\n",
      "Adding 1344 Ns to chr17:83552615-83553064\n",
      "Adding 1344 Ns to chr15:102635778-102636556\n",
      "Adding 1344 Ns to chr14:124514766-124515318\n",
      "Adding 1344 Ns to chrX:163192429-163192834\n",
      "Adding 1344 Ns to chr16:93912175-93912488\n",
      "Adding 1344 Ns to chr14:118236726-118237494\n",
      "Adding 1344 Ns to chr13:117717826-117718169\n",
      "Adding 1344 Ns to chr17:89505298-89505654\n",
      "Adding 1344 Ns to chrX:160700955-160701226\n",
      "Adding 1344 Ns to chr18:82994643-82995139\n",
      "Adding 1344 Ns to chr14:117695401-117695792\n"
     ]
    },
    {
     "name": "stdout",
     "output_type": "stream",
     "text": [
      "process 4000 peaks takes 1.4 s\n"
     ]
    },
    {
     "name": "stderr",
     "output_type": "stream",
     "text": [
      "Adding 1344 Ns to chr18:83636241-83636538\n",
      "Adding 1344 Ns to chr14:117478814-117479223\n",
      "Adding 1344 Ns to chrX:159414836-159415292\n",
      "Adding 1344 Ns to chr14:119614685-119615024\n",
      "Adding 1344 Ns to chr14:124269205-124269434\n",
      "Adding 1344 Ns to chr19:59339199-59339360\n",
      "Adding 1344 Ns to chr16:90463039-90463188\n",
      "Adding 1344 Ns to chr16:92282927-92283224\n",
      "Adding 1344 Ns to chr13:118344198-118344638\n",
      "Adding 1344 Ns to chr14:120637448-120637894\n",
      "Adding 1344 Ns to chr16:90422134-90422602\n",
      "Adding 1344 Ns to chr14:112380586-112380809\n",
      "Adding 1344 Ns to chr16:91809757-91810247\n",
      "Adding 1344 Ns to chr16:97075206-97075466\n",
      "Adding 1344 Ns to chr17:86296536-86296751\n",
      "Adding 1344 Ns to chr14:121191708-121192845\n",
      "Adding 1344 Ns to chr17:90218012-90218259\n",
      "Adding 1344 Ns to chr17:86331408-86331630\n",
      "Adding 1344 Ns to chrX:167549670-167550113\n",
      "Adding 1344 Ns to chrX:157819009-157819174\n",
      "Adding 1344 Ns to chr16:95341196-95341923\n",
      "Adding 1344 Ns to chr14:116668341-116668595\n"
     ]
    },
    {
     "name": "stdout",
     "output_type": "stream",
     "text": [
      "process 5000 peaks takes 1.6 s\n"
     ]
    },
    {
     "name": "stderr",
     "output_type": "stream",
     "text": [
      "Adding 1344 Ns to chr17:84926294-84926550\n",
      "Adding 1344 Ns to chr17:88594334-88594568\n",
      "Adding 1344 Ns to chr14:118878475-118878927\n",
      "Adding 1344 Ns to chr15:101996484-101996855\n",
      "Adding 1344 Ns to chrX:160863488-160863811\n",
      "Adding 1344 Ns to chr14:108833295-108833496\n",
      "Adding 1344 Ns to chrX:164013278-164013427\n",
      "Adding 1344 Ns to chrX:159020188-159020490\n",
      "Adding 1344 Ns to chr16:97462685-97463075\n",
      "Adding 1344 Ns to chr16:92557942-92558402\n",
      "Adding 1344 Ns to chrX:161006380-161006657\n",
      "Adding 1344 Ns to chr16:93374688-93375154\n",
      "Adding 1344 Ns to chr16:96236372-96236724\n",
      "Adding 1344 Ns to chr14:123968751-123969110\n",
      "Adding 1344 Ns to chr14:117810413-117810708\n",
      "Adding 1344 Ns to chr16:92573442-92573690\n",
      "Adding 1344 Ns to chr17:84790286-84791114\n",
      "Adding 1344 Ns to chr13:117224573-117225103\n",
      "Adding 1344 Ns to chr17:84332541-84333276\n"
     ]
    },
    {
     "name": "stdout",
     "output_type": "stream",
     "text": [
      "process 6000 peaks takes 1.9 s\n"
     ]
    },
    {
     "name": "stderr",
     "output_type": "stream",
     "text": [
      "Adding 1344 Ns to chr18:89391618-89392029\n",
      "Adding 1344 Ns to chr17:86482575-86483060\n",
      "Adding 1344 Ns to chr16:95825751-95826034\n",
      "Adding 1344 Ns to chr16:92538452-92538676\n",
      "Adding 1344 Ns to chr18:82522435-82523123\n",
      "Adding 1344 Ns to chr17:89358456-89358824\n",
      "Adding 1344 Ns to chr14:118709607-118710176\n",
      "Adding 1344 Ns to chr16:92158474-92159340\n",
      "Adding 1344 Ns to chr14:120949767-120950019\n",
      "Adding 1344 Ns to chr14:111396788-111397429\n",
      "Adding 1344 Ns to chr18:89469038-89469383\n",
      "Adding 1344 Ns to chr14:120895801-120896201\n",
      "Adding 1344 Ns to chr17:84903611-84904011\n",
      "Adding 1344 Ns to chr14:123759552-123759941\n",
      "Adding 1344 Ns to chr18:90545830-90546033\n",
      "Adding 1344 Ns to chr17:91046350-91046577\n",
      "Adding 1344 Ns to chr13:117811154-117811497\n",
      "Adding 1344 Ns to chr16:97002086-97002695\n",
      "Adding 1344 Ns to chr14:116779582-116780085\n",
      "Adding 1344 Ns to chr14:115843698-115844654\n",
      "Adding 1344 Ns to chr13:114478521-114478818\n",
      "Adding 1344 Ns to chr17:91061085-91061451\n",
      "Adding 1344 Ns to chr16:94312597-94313125\n"
     ]
    },
    {
     "name": "stdout",
     "output_type": "stream",
     "text": [
      "process 7000 peaks takes 2.1 s\n"
     ]
    },
    {
     "name": "stderr",
     "output_type": "stream",
     "text": [
      "Adding 1344 Ns to chr18:88765170-88765607\n",
      "Adding 1344 Ns to chrX:157829970-157830581\n",
      "Adding 1344 Ns to chr17:87986469-87986738\n",
      "Adding 1344 Ns to chr18:83815684-83815934\n",
      "Adding 1344 Ns to chr14:110128305-110128626\n",
      "Adding 1344 Ns to chrX:165767889-165768198\n",
      "Adding 1344 Ns to chr16:94302578-94303202\n",
      "Adding 1344 Ns to chrX:159508806-159509024\n",
      "Adding 1344 Ns to chr16:96345132-96345479\n",
      "Adding 1344 Ns to chr18:84598913-84599649\n",
      "Adding 1344 Ns to chr16:91184500-91184919\n",
      "Adding 1344 Ns to chr16:94388080-94388411\n",
      "Adding 1344 Ns to chr14:108729232-108729384\n",
      "Adding 1344 Ns to chr19:60580354-60581357\n",
      "Adding 1344 Ns to chr13:120320122-120320315\n",
      "Adding 1344 Ns to chr17:87945237-87945702\n",
      "Adding 1344 Ns to chrX:164339821-164340043\n",
      "Adding 1344 Ns to chr17:86282781-86283444\n",
      "Adding 1344 Ns to chr19:60678262-60678610\n",
      "Adding 1344 Ns to chr17:86234613-86235100\n",
      "Adding 1344 Ns to chr16:91704942-91705621\n",
      "Adding 1344 Ns to chr14:122009632-122009878\n",
      "Adding 1344 Ns to chr13:117482634-117483688\n",
      "Adding 1344 Ns to chr15:102144552-102144795\n",
      "Adding 1344 Ns to chr16:92423377-92423954\n",
      "Adding 1344 Ns to chrX:167640727-167641233\n",
      "Adding 1344 Ns to chr17:86290919-86291607\n",
      "Adding 1344 Ns to chr14:119608276-119609023\n",
      "Adding 1344 Ns to chr18:85561617-85561997\n",
      "Adding 1344 Ns to chr17:87041706-87042397\n",
      "Adding 1344 Ns to chr16:95778237-95778867\n",
      "Adding 1344 Ns to chr16:91166885-91167224\n",
      "Adding 1344 Ns to chrX:165260674-165260839\n",
      "Adding 1344 Ns to chr14:116993975-116994250\n",
      "Adding 1344 Ns to chr13:117204510-117205105\n",
      "Adding 1344 Ns to chr18:89352600-89353025\n",
      "Adding 1344 Ns to chr18:85353480-85353837\n",
      "Adding 1344 Ns to chr17:83617900-83618106\n"
     ]
    },
    {
     "name": "stdout",
     "output_type": "stream",
     "text": [
      "process 8000 peaks takes 2.4 s\n"
     ]
    },
    {
     "name": "stderr",
     "output_type": "stream",
     "text": [
      "Adding 1344 Ns to chr17:86063348-86063808\n",
      "Adding 1344 Ns to chr16:90864669-90865273\n",
      "Adding 1344 Ns to chr16:94986697-94987110\n",
      "Adding 1344 Ns to chr15:101995950-101996358\n",
      "Adding 1344 Ns to chrX:159001183-159001369\n",
      "Adding 1344 Ns to chr16:90610044-90610948\n",
      "Adding 1344 Ns to chr18:86671309-86671526\n",
      "Adding 1344 Ns to chr19:60179338-60179832\n",
      "Adding 1344 Ns to chr16:96304984-96305287\n",
      "Adding 1344 Ns to chr14:118903181-118903855\n",
      "Adding 1344 Ns to chr17:91430802-91431172\n",
      "Adding 1344 Ns to chr16:90594854-90595144\n",
      "Adding 1344 Ns to chr14:120892251-120892890\n",
      "Adding 1344 Ns to chr16:94723978-94724627\n",
      "Adding 1344 Ns to chr14:118612985-118613290\n",
      "Adding 1344 Ns to chr13:117335308-117336009\n",
      "Adding 1344 Ns to chr15:103368913-103369655\n",
      "Adding 1344 Ns to chr18:80944464-80945117\n",
      "Adding 1344 Ns to chr13:118409318-118409549\n",
      "Adding 1344 Ns to chr16:94034501-94034823\n",
      "Adding 1344 Ns to chr15:102746128-102747300\n",
      "Adding 1344 Ns to chr17:93900381-93900935\n",
      "Adding 1344 Ns to chrX:164401638-164402191\n"
     ]
    },
    {
     "name": "stdout",
     "output_type": "stream",
     "text": [
      "process 9000 peaks takes 2.7 s\n"
     ]
    },
    {
     "name": "stderr",
     "output_type": "stream",
     "text": [
      "Adding 1344 Ns to chr13:116879681-116880281\n",
      "Adding 1344 Ns to chr16:96843711-96844321\n",
      "Adding 1344 Ns to chr16:90495434-90496074\n",
      "Adding 1344 Ns to chr19:60611586-60612046\n",
      "Adding 1344 Ns to chr17:83566145-83566354\n",
      "Adding 1344 Ns to chr14:121165320-121166216\n",
      "Adding 1344 Ns to chr14:122974548-122975145\n",
      "Adding 1344 Ns to chr17:91082230-91082457\n",
      "Adding 1344 Ns to chrX:158536245-158536628\n",
      "Adding 1344 Ns to chr15:102451790-102452396\n",
      "Adding 1344 Ns to chr17:85073212-85073516\n",
      "Adding 1344 Ns to chr17:88440206-88441133\n",
      "Adding 1344 Ns to chr16:96632783-96632986\n",
      "Adding 1344 Ns to chr14:120353327-120353549\n",
      "Adding 1344 Ns to chr17:87492069-87492709\n",
      "Adding 1344 Ns to chr17:84942686-84943365\n",
      "Adding 1344 Ns to chr17:83389585-83389781\n",
      "Adding 1344 Ns to chr14:120835835-120836113\n",
      "Adding 1344 Ns to chr16:91314153-91314724\n",
      "Adding 1344 Ns to chr16:95241568-95241998\n",
      "Adding 1344 Ns to chr16:94436736-94437247\n",
      "Adding 1344 Ns to chr17:86979274-86979569\n",
      "Adding 1344 Ns to chr14:115523891-115524080\n",
      "Adding 1344 Ns to chrX:164179762-164180116\n",
      "Adding 1344 Ns to chr16:95117536-95117928\n",
      "Adding 1344 Ns to chr17:89255786-89256153\n",
      "Adding 1344 Ns to chrX:162779376-162779709\n",
      "Adding 1344 Ns to chr18:82654168-82654787\n"
     ]
    },
    {
     "name": "stdout",
     "output_type": "stream",
     "text": [
      "process 10000 peaks takes 3.0 s\n"
     ]
    },
    {
     "name": "stderr",
     "output_type": "stream",
     "text": [
      "Adding 1344 Ns to chr17:86247590-86247828\n",
      "Adding 1344 Ns to chr17:88898668-88898947\n",
      "Adding 1344 Ns to chr18:86711184-86711865\n",
      "Adding 1344 Ns to chrX:160587847-160588055\n",
      "Adding 1344 Ns to chr14:122463319-122463557\n",
      "Adding 1344 Ns to chrX:169377727-169377964\n",
      "Adding 1344 Ns to chr16:95847505-95848458\n",
      "Adding 1344 Ns to chr14:119723583-119723898\n",
      "Adding 1344 Ns to chr13:114848979-114849327\n",
      "Adding 1344 Ns to chr16:92697308-92697519\n",
      "Adding 1344 Ns to chr17:84322210-84322490\n",
      "Adding 1344 Ns to chrX:158833048-158833524\n",
      "Adding 1344 Ns to chrX:161511131-161511460\n",
      "Adding 1344 Ns to chrX:164426011-164426183\n",
      "Adding 1344 Ns to chr14:118226035-118226261\n",
      "Adding 1344 Ns to chr17:86640192-86640518\n",
      "Adding 1344 Ns to chr14:108913878-108914332\n",
      "Adding 1344 Ns to chr14:116747210-116747718\n",
      "Adding 1344 Ns to chr15:103530388-103530752\n"
     ]
    },
    {
     "name": "stdout",
     "output_type": "stream",
     "text": [
      "process 11000 peaks takes 3.2 s\n"
     ]
    },
    {
     "name": "stderr",
     "output_type": "stream",
     "text": [
      "Adding 1344 Ns to chr18:83958056-83958616\n",
      "Adding 1344 Ns to chr13:116975090-116975381\n",
      "Adding 1344 Ns to chr17:84103340-84103719\n",
      "Adding 1344 Ns to chr14:120275267-120275845\n",
      "Adding 1344 Ns to chr14:120967191-120967547\n",
      "Adding 1344 Ns to chr18:80713613-80714774\n",
      "Adding 1344 Ns to chr19:58978586-58979415\n",
      "Adding 1344 Ns to chr16:95436182-95436450\n",
      "Adding 1344 Ns to chr17:89409981-89410617\n",
      "Adding 1344 Ns to chr14:121366193-121366550\n",
      "Adding 1344 Ns to chr18:86490708-86491013\n",
      "Adding 1344 Ns to chrX:167337506-167337982\n",
      "Adding 1344 Ns to chrX:164396694-164397096\n",
      "Adding 1344 Ns to chr18:81589515-81589905\n",
      "Adding 1344 Ns to chr17:90086845-90087224\n",
      "Adding 1344 Ns to chr17:90129703-90130098\n",
      "Adding 1344 Ns to chr18:85725283-85725811\n",
      "Adding 1344 Ns to chr18:89179050-89179327\n",
      "Adding 1344 Ns to chr18:83768030-83768246\n",
      "Adding 1344 Ns to chr17:87792679-87793030\n",
      "Adding 1344 Ns to chr17:92992875-92993144\n",
      "Adding 1344 Ns to chr14:116998941-116999570\n",
      "Adding 1344 Ns to chr16:95182478-95182689\n"
     ]
    },
    {
     "name": "stdout",
     "output_type": "stream",
     "text": [
      "process 12000 peaks takes 3.5 s\n"
     ]
    },
    {
     "name": "stderr",
     "output_type": "stream",
     "text": [
      "Adding 1344 Ns to chr17:87360966-87361883\n",
      "Adding 1344 Ns to chr17:86384647-86384839\n",
      "Adding 1344 Ns to chr14:119752245-119752763\n",
      "Adding 1344 Ns to chr14:117824874-117825061\n",
      "Adding 1344 Ns to chr15:103604317-103604935\n",
      "Adding 1344 Ns to chr14:119272983-119273321\n",
      "Adding 1344 Ns to chrX:166479055-166480195\n",
      "Adding 1344 Ns to chrX:166365868-166366736\n",
      "Adding 1344 Ns to chr16:96156032-96156526\n",
      "Adding 1344 Ns to chr14:121738357-121739025\n",
      "Adding 1344 Ns to chr18:82766106-82766418\n",
      "Adding 1344 Ns to chr16:92608326-92608721\n",
      "Adding 1344 Ns to chr14:107769381-107769641\n",
      "Adding 1344 Ns to chr17:88815215-88815570\n",
      "Adding 1344 Ns to chr16:96358927-96359141\n",
      "Adding 1344 Ns to chr18:85482223-85482670\n",
      "Adding 1344 Ns to chr17:88400972-88401197\n",
      "Adding 1344 Ns to chr17:84009158-84009591\n",
      "Adding 1344 Ns to chr14:108805290-108805942\n",
      "Adding 1344 Ns to chr17:90813719-90814051\n",
      "Adding 1344 Ns to chr18:80523016-80523192\n",
      "Adding 1344 Ns to chr14:119633689-119634033\n",
      "Adding 1344 Ns to chrX:166360463-166361030\n",
      "Adding 1344 Ns to chr17:86265952-86266472\n",
      "Adding 1344 Ns to chrX:166239677-166240225\n",
      "Adding 1344 Ns to chr14:122839291-122839786\n",
      "Adding 1344 Ns to chr17:88675315-88675664\n",
      "Adding 1344 Ns to chr14:120371210-120371607\n",
      "Adding 1344 Ns to chr17:88256426-88257512\n",
      "Adding 1344 Ns to chr18:88209010-88209190\n",
      "Adding 1344 Ns to chrX:169343270-169343577\n",
      "Adding 1344 Ns to chr17:90892313-90892748\n"
     ]
    },
    {
     "name": "stdout",
     "output_type": "stream",
     "text": [
      "process 13000 peaks takes 3.7 s\n"
     ]
    },
    {
     "name": "stderr",
     "output_type": "stream",
     "text": [
      "Adding 1344 Ns to chr15:102665544-102665912\n",
      "Adding 1344 Ns to chr18:80609659-80609854\n",
      "Adding 1344 Ns to chr16:91569101-91569317\n",
      "Adding 1344 Ns to chr14:120561784-120561978\n",
      "Adding 1344 Ns to chr16:95740131-95740403\n",
      "Adding 1344 Ns to chr14:120149115-120149887\n",
      "Adding 1344 Ns to chr18:82934996-82935273\n",
      "Adding 1344 Ns to chr16:93115983-93116412\n",
      "Adding 1344 Ns to chr14:110822368-110822603\n",
      "Adding 1344 Ns to chr18:85369496-85370250\n",
      "Adding 1344 Ns to chr14:114791383-114791814\n",
      "Adding 1344 Ns to chr17:83706980-83707164\n",
      "Adding 1344 Ns to chr17:84584926-84585562\n",
      "Adding 1344 Ns to chr16:90958346-90959110\n",
      "Adding 1344 Ns to chr16:93141953-93142503\n",
      "Adding 1344 Ns to chr17:88950723-88951064\n",
      "Adding 1344 Ns to chr18:89100234-89100590\n",
      "Adding 1344 Ns to chr16:94540106-94540806\n"
     ]
    },
    {
     "name": "stdout",
     "output_type": "stream",
     "text": [
      "process 14000 peaks takes 4.0 s\n"
     ]
    },
    {
     "name": "stderr",
     "output_type": "stream",
     "text": [
      "Adding 1344 Ns to chr14:121113687-121114234\n",
      "Adding 1344 Ns to chr17:85730817-85731117\n",
      "Adding 1344 Ns to chr17:87770809-87771261\n",
      "Adding 1344 Ns to chr17:90044698-90045112\n",
      "Adding 1344 Ns to chr14:121679802-121680040\n",
      "Adding 1344 Ns to chr19:60121388-60121569\n",
      "Adding 1344 Ns to chr15:103340814-103341181\n",
      "Adding 1344 Ns to chr14:118900046-118900250\n",
      "Adding 1344 Ns to chr14:121655109-121655288\n",
      "Adding 1344 Ns to chr17:88505269-88505835\n",
      "Adding 1344 Ns to chrX:168262653-168263154\n",
      "Adding 1344 Ns to chr15:102698271-102698512\n",
      "Adding 1344 Ns to chr15:102721986-102722691\n",
      "Adding 1344 Ns to chr17:83812025-83812657\n",
      "Adding 1344 Ns to chr14:119908054-119908548\n",
      "Adding 1344 Ns to chr14:119473129-119473399\n",
      "Adding 1344 Ns to chr17:83849123-83849386\n",
      "Adding 1344 Ns to chr14:117174903-117175115\n",
      "Adding 1344 Ns to chr16:91464670-91465260\n",
      "Adding 1344 Ns to chrX:157390079-157390513\n",
      "Adding 1344 Ns to chr16:92399853-92400794\n",
      "Adding 1344 Ns to chr17:90333875-90334142\n"
     ]
    },
    {
     "name": "stdout",
     "output_type": "stream",
     "text": [
      "process 15000 peaks takes 4.3 s\n"
     ]
    },
    {
     "name": "stderr",
     "output_type": "stream",
     "text": [
      "Adding 1344 Ns to chr18:81582129-81582306\n",
      "Adding 1344 Ns to chr16:93797882-93798953\n",
      "Adding 1344 Ns to chr16:91379141-91379727\n",
      "Adding 1344 Ns to chr19:59010791-59011210\n",
      "Adding 1344 Ns to chr13:116781304-116781679\n",
      "Adding 1344 Ns to chr17:89379383-89379641\n",
      "Adding 1344 Ns to chr16:96835322-96835509\n",
      "Adding 1344 Ns to chr14:114124194-114124401\n",
      "Adding 1344 Ns to chr18:82534466-82534738\n",
      "Adding 1344 Ns to chr19:59336204-59336644\n",
      "Adding 1344 Ns to chr17:86785329-86786310\n",
      "Adding 1344 Ns to chrX:167552808-167553320\n",
      "Adding 1344 Ns to chr18:84671775-84672148\n",
      "Adding 1344 Ns to chr18:80676155-80676401\n",
      "Adding 1344 Ns to chr17:87446617-87447605\n",
      "Adding 1344 Ns to chr15:102673575-102673931\n",
      "Adding 1344 Ns to chrX:160772197-160772466\n",
      "Adding 1344 Ns to chr16:96684669-96684903\n",
      "Adding 1344 Ns to chr16:96872668-96873101\n",
      "Adding 1344 Ns to chr14:121946790-121947326\n",
      "Adding 1344 Ns to chr13:115014149-115014625\n",
      "Adding 1344 Ns to chrX:157949228-157949472\n",
      "Adding 1344 Ns to chr14:108893725-108893896\n",
      "Adding 1344 Ns to chrX:157671043-157671264\n",
      "Adding 1344 Ns to chr17:94254715-94255247\n",
      "Adding 1344 Ns to chr16:91424664-91424922\n",
      "Adding 1344 Ns to chr14:110544106-110544469\n",
      "Adding 1344 Ns to chr14:121124393-121124981\n"
     ]
    },
    {
     "name": "stdout",
     "output_type": "stream",
     "text": [
      "process 16000 peaks takes 4.6 s\n"
     ]
    },
    {
     "name": "stderr",
     "output_type": "stream",
     "text": [
      "Adding 1344 Ns to chr13:114584678-114585038\n",
      "Adding 1344 Ns to chr18:84015384-84016124\n",
      "Adding 1344 Ns to chr17:87460663-87461016\n",
      "Adding 1344 Ns to chr16:92460486-92460703\n",
      "Adding 1344 Ns to chr19:58993325-58993517\n",
      "Adding 1344 Ns to chr13:119784062-119784635\n",
      "Adding 1344 Ns to chr16:97906067-97906305\n",
      "Adding 1344 Ns to chr17:90156599-90156860\n",
      "Adding 1344 Ns to chr14:123373768-123374257\n",
      "Adding 1344 Ns to chr17:86924791-86925048\n",
      "Adding 1344 Ns to chr17:84190983-84191303\n",
      "Adding 1344 Ns to chr17:87477650-87478047\n",
      "Adding 1344 Ns to chrX:166307717-166308220\n",
      "Adding 1344 Ns to chr19:60038376-60038677\n",
      "Adding 1344 Ns to chrX:160116751-160117067\n",
      "Adding 1344 Ns to chr18:81108002-81108436\n",
      "Adding 1344 Ns to chr17:83422434-83422757\n",
      "Adding 1344 Ns to chr18:82013325-82013793\n",
      "Adding 1344 Ns to chr14:110401878-110402223\n",
      "Adding 1344 Ns to chr16:94721847-94722035\n",
      "Adding 1344 Ns to chr17:90556958-90557325\n",
      "Adding 1344 Ns to chr13:117704829-117705275\n",
      "Adding 1344 Ns to chr16:97286577-97287150\n",
      "Adding 1344 Ns to chr14:120170502-120171312\n",
      "Adding 1344 Ns to chr18:87754003-87754353\n"
     ]
    },
    {
     "name": "stdout",
     "output_type": "stream",
     "text": [
      "process 17000 peaks takes 4.8 s\n"
     ]
    },
    {
     "name": "stderr",
     "output_type": "stream",
     "text": [
      "Adding 1344 Ns to chr14:120163136-120163548\n",
      "Adding 1344 Ns to chrX:159859740-159859937\n",
      "Adding 1344 Ns to chr16:90449390-90449605\n",
      "Adding 1344 Ns to chrX:168350276-168351010\n",
      "Adding 1344 Ns to chr16:91038537-91038790\n",
      "Adding 1344 Ns to chr17:86345193-86346112\n",
      "Adding 1344 Ns to chr17:84730582-84730926\n",
      "Adding 1344 Ns to chrX:158976812-158976995\n",
      "Adding 1344 Ns to chr14:120307961-120308495\n",
      "Adding 1344 Ns to chr18:83192815-83192993\n",
      "Adding 1344 Ns to chrX:167847546-167847792\n",
      "Adding 1344 Ns to chr14:113432767-113433229\n",
      "Adding 1344 Ns to chr16:94456208-94456411\n",
      "Adding 1344 Ns to chr19:59700847-59701248\n",
      "Adding 1344 Ns to chr17:87335048-87335773\n",
      "Adding 1344 Ns to chr17:83903389-83903890\n",
      "Adding 1344 Ns to chr16:93927622-93927888\n",
      "Adding 1344 Ns to chr13:119699761-119700203\n",
      "Adding 1344 Ns to chr17:83908757-83909007\n",
      "Adding 1344 Ns to chr18:85012934-85013417\n",
      "Adding 1344 Ns to chr14:120504545-120504811\n",
      "Adding 1344 Ns to chrX:157086572-157087193\n",
      "Adding 1344 Ns to chr18:83063316-83063604\n",
      "Adding 1344 Ns to chr14:120313112-120313554\n",
      "Adding 1344 Ns to chr17:86451327-86451558\n",
      "Adding 1344 Ns to chr14:110130577-110130983\n",
      "Adding 1344 Ns to chrX:168102067-168102759\n",
      "Adding 1344 Ns to chr15:103335406-103336137\n",
      "Adding 1344 Ns to chrX:160307511-160307924\n",
      "Adding 1344 Ns to chrX:159478312-159478644\n",
      "Adding 1344 Ns to chrX:163000813-163001253\n"
     ]
    },
    {
     "name": "stdout",
     "output_type": "stream",
     "text": [
      "process 18000 peaks takes 5.1 s\n"
     ]
    },
    {
     "name": "stderr",
     "output_type": "stream",
     "text": [
      "Adding 1344 Ns to chr15:102355946-102356375\n",
      "Adding 1344 Ns to chr16:97171510-97171960\n",
      "Adding 1344 Ns to chr13:114964227-114964677\n",
      "Adding 1344 Ns to chrX:164342489-164342784\n",
      "Adding 1344 Ns to chr16:94945527-94946186\n",
      "Adding 1344 Ns to chr14:120245016-120245469\n",
      "Adding 1344 Ns to chr19:60325197-60325543\n",
      "Adding 1344 Ns to chr17:86040349-86040611\n",
      "Adding 1344 Ns to chr15:103205710-103205891\n",
      "Adding 1344 Ns to chr15:103471530-103471990\n",
      "Adding 1344 Ns to chr16:96617879-96618069\n",
      "Adding 1344 Ns to chr18:82989227-82989611\n",
      "Adding 1344 Ns to chrX:160804428-160804779\n",
      "Adding 1344 Ns to chr17:86796909-86797199\n",
      "Adding 1344 Ns to chr17:84440320-84440643\n",
      "Adding 1344 Ns to chr18:84889952-84890369\n",
      "Adding 1344 Ns to chrX:166349329-166349489\n",
      "Adding 1344 Ns to chr17:92949158-92949482\n",
      "Adding 1344 Ns to chr14:120339016-120339325\n",
      "Adding 1344 Ns to chr17:91147127-91147389\n",
      "Adding 1344 Ns to chr17:89165491-89165845\n",
      "Adding 1344 Ns to chr14:114833750-114834104\n",
      "Adding 1344 Ns to chrX:161001719-161002187\n",
      "Adding 1344 Ns to chr16:96852442-96852895\n",
      "Adding 1344 Ns to chr16:91765371-91765705\n",
      "Adding 1344 Ns to chr17:85116718-85116951\n",
      "Adding 1344 Ns to chr16:90821524-90821894\n"
     ]
    },
    {
     "name": "stdout",
     "output_type": "stream",
     "text": [
      "process 19000 peaks takes 5.4 s\n"
     ]
    },
    {
     "name": "stderr",
     "output_type": "stream",
     "text": [
      "Adding 1344 Ns to chr14:118735099-118735549\n",
      "Adding 1344 Ns to chr16:91222323-91222847\n",
      "Adding 1344 Ns to chrX:157083062-157083266\n",
      "Adding 1344 Ns to chr17:85163108-85163558\n",
      "Adding 1344 Ns to chr19:60843429-60843884\n",
      "Adding 1344 Ns to chr15:102613066-102613288\n",
      "Adding 1344 Ns to chr14:113441289-113441480\n",
      "Adding 1344 Ns to chr17:93526246-93526680\n",
      "Adding 1344 Ns to chr16:94882021-94882566\n",
      "Adding 1344 Ns to chr18:82557177-82557565\n",
      "Adding 1344 Ns to chr17:85258208-85258461\n",
      "Adding 1344 Ns to chrX:168020875-168021059\n",
      "Adding 1344 Ns to chrX:159689877-159690337\n",
      "Adding 1344 Ns to chr18:86222177-86222536\n",
      "Adding 1344 Ns to chr17:84571644-84571950\n",
      "Adding 1344 Ns to chrX:167688893-167689143\n",
      "Adding 1344 Ns to chr13:118716290-118716547\n",
      "Adding 1344 Ns to chr17:90422387-90422579\n",
      "Adding 1344 Ns to chrX:157945223-157945616\n",
      "Adding 1344 Ns to chr14:123232667-123233287\n",
      "Adding 1344 Ns to chr17:94040716-94041225\n"
     ]
    },
    {
     "name": "stdout",
     "output_type": "stream",
     "text": [
      "process 20000 peaks takes 5.6 s\n"
     ]
    },
    {
     "name": "stderr",
     "output_type": "stream",
     "text": [
      "Adding 1344 Ns to chr14:118982053-118983240\n",
      "Adding 1344 Ns to chr16:96480839-96481455\n",
      "Adding 1344 Ns to chrX:162949709-162950169\n",
      "Adding 1344 Ns to chrX:167497783-167498193\n",
      "Adding 1344 Ns to chr13:115687333-115687693\n",
      "Adding 1344 Ns to chr16:95064452-95064676\n",
      "Adding 1344 Ns to chr17:83481632-83481964\n",
      "Adding 1344 Ns to chrX:160748869-160749137\n",
      "Adding 1344 Ns to chr16:97153873-97154342\n",
      "Adding 1344 Ns to chr16:94984221-94984663\n",
      "Adding 1344 Ns to chr13:118481355-118481675\n",
      "Adding 1344 Ns to chr16:94168092-94168390\n",
      "Adding 1344 Ns to chr16:91761144-91761465\n",
      "Adding 1344 Ns to chr16:94419459-94419887\n",
      "Adding 1344 Ns to chr17:88989281-88989997\n",
      "Adding 1344 Ns to chr16:92348897-92349326\n",
      "Adding 1344 Ns to chr14:117274752-117275009\n",
      "Adding 1344 Ns to chrX:169332358-169332848\n",
      "Adding 1344 Ns to chr18:82816319-82816840\n",
      "Adding 1344 Ns to chr19:60432567-60433139\n",
      "Adding 1344 Ns to chr14:111571384-111571574\n",
      "Adding 1344 Ns to chr16:94237196-94237410\n",
      "Adding 1344 Ns to chr16:90511345-90512145\n",
      "Adding 1344 Ns to chr17:85633707-85633961\n",
      "Adding 1344 Ns to chr14:107136741-107137224\n",
      "Adding 1344 Ns to chr19:59759913-59760198\n",
      "Adding 1344 Ns to chr15:102596203-102596472\n",
      "Adding 1344 Ns to chr14:118448505-118448658\n",
      "Adding 1344 Ns to chr17:84681672-84682211\n"
     ]
    },
    {
     "name": "stdout",
     "output_type": "stream",
     "text": [
      "process 21000 peaks takes 5.9 s\n"
     ]
    },
    {
     "name": "stderr",
     "output_type": "stream",
     "text": [
      "Adding 1344 Ns to chr17:88317352-88317628\n",
      "Adding 1344 Ns to chr14:116498036-116498433\n",
      "Adding 1344 Ns to chrX:167105876-167106311\n",
      "Adding 1344 Ns to chr18:82765183-82765604\n",
      "Adding 1344 Ns to chr14:110623818-110624018\n",
      "Adding 1344 Ns to chr16:93387706-93388003\n",
      "Adding 1344 Ns to chrX:167088445-167088793\n",
      "Adding 1344 Ns to chr14:116551054-116551449\n",
      "Adding 1344 Ns to chr16:96671510-96672004\n",
      "Adding 1344 Ns to chr18:81751865-81752233\n",
      "Adding 1344 Ns to chr17:94239384-94239557\n",
      "Adding 1344 Ns to chr17:87468455-87468940\n",
      "Adding 1344 Ns to chr14:117905444-117905832\n",
      "Adding 1344 Ns to chr14:120830278-120830861\n",
      "Adding 1344 Ns to chr17:83713745-83714140\n",
      "Adding 1344 Ns to chrX:166107220-166107587\n",
      "Adding 1344 Ns to chr14:123400576-123401093\n",
      "Adding 1344 Ns to chr13:118313670-118314089\n",
      "Adding 1344 Ns to chr15:103535923-103536121\n",
      "Adding 1344 Ns to chr14:123511966-123512325\n",
      "Adding 1344 Ns to chr16:97535868-97536392\n",
      "Adding 1344 Ns to chr16:90425567-90425781\n",
      "Adding 1344 Ns to chr16:95409068-95409354\n",
      "Adding 1344 Ns to chr18:82547763-82548296\n"
     ]
    },
    {
     "name": "stdout",
     "output_type": "stream",
     "text": [
      "process 22000 peaks takes 6.1 s\n"
     ]
    },
    {
     "name": "stderr",
     "output_type": "stream",
     "text": [
      "Adding 1344 Ns to chr14:111485578-111485998\n",
      "Adding 1344 Ns to chr16:94038283-94038495\n",
      "Adding 1344 Ns to chrX:166847105-166847464\n",
      "Adding 1344 Ns to chrX:160542780-160543248\n",
      "Adding 1344 Ns to chr17:86516468-86517130\n",
      "Adding 1344 Ns to chr16:91512277-91512730\n",
      "Adding 1344 Ns to chr13:119631591-119632138\n",
      "Adding 1344 Ns to chr19:59837216-59837379\n",
      "Adding 1344 Ns to chr14:118069408-118069603\n",
      "Adding 1344 Ns to chrX:159910569-159911115\n",
      "Adding 1344 Ns to chr18:84141675-84141880\n",
      "Adding 1344 Ns to chr16:90955697-90955937\n",
      "Adding 1344 Ns to chr17:86436806-86436966\n",
      "Adding 1344 Ns to chr17:84085338-84085669\n",
      "Adding 1344 Ns to chr13:117112418-117112823\n",
      "Adding 1344 Ns to chr16:95237501-95237704\n",
      "Adding 1344 Ns to chrX:168563134-168563359\n",
      "Adding 1344 Ns to chr16:93436775-93437048\n",
      "Adding 1344 Ns to chr17:86618580-86618897\n"
     ]
    },
    {
     "name": "stdout",
     "output_type": "stream",
     "text": [
      "process 23000 peaks takes 6.4 s\n"
     ]
    },
    {
     "name": "stderr",
     "output_type": "stream",
     "text": [
      "Adding 1344 Ns to chr16:93109670-93109955\n",
      "Adding 1344 Ns to chr13:117603485-117603751\n",
      "Adding 1344 Ns to chr16:91081493-91081895\n",
      "Adding 1344 Ns to chr16:91560970-91561425\n",
      "Adding 1344 Ns to chr14:115416462-115417029\n",
      "Adding 1344 Ns to chr16:90953131-90953594\n",
      "Adding 1344 Ns to chr14:120098499-120098824\n",
      "Adding 1344 Ns to chr14:113435842-113436215\n",
      "Adding 1344 Ns to chr15:103248279-103248522\n",
      "Adding 1344 Ns to chr18:86442676-86443089\n",
      "Adding 1344 Ns to chr15:102296004-102296504\n",
      "Adding 1344 Ns to chrX:168042418-168042720\n",
      "Adding 1344 Ns to chr17:89970558-89970730\n",
      "Adding 1344 Ns to chr13:115071850-115072356\n",
      "Adding 1344 Ns to chr19:59338415-59338721\n",
      "Adding 1344 Ns to chr14:120126445-120126661\n",
      "Adding 1344 Ns to chr18:83298168-83299066\n",
      "Adding 1344 Ns to chrX:166691083-166691619\n",
      "Adding 1344 Ns to chr16:90741021-90741241\n",
      "Adding 1344 Ns to chr14:114869640-114869884\n",
      "Adding 1344 Ns to chr14:117664408-117665182\n",
      "Adding 1344 Ns to chr14:119686994-119687239\n",
      "Adding 1344 Ns to chrX:161328414-161328631\n",
      "Adding 1344 Ns to chr14:123843693-123844039\n"
     ]
    },
    {
     "name": "stdout",
     "output_type": "stream",
     "text": [
      "process 24000 peaks takes 6.7 s\n"
     ]
    },
    {
     "name": "stderr",
     "output_type": "stream",
     "text": [
      "Adding 1344 Ns to chr16:96969672-96970104\n",
      "Adding 1344 Ns to chr18:86970795-86971130\n",
      "Adding 1344 Ns to chrX:158639790-158640066\n",
      "Adding 1344 Ns to chr17:87032450-87032711\n",
      "Adding 1344 Ns to chr14:121996776-121997063\n",
      "Adding 1344 Ns to chr16:91793431-91793669\n",
      "Adding 1344 Ns to chr13:119272977-119273250\n",
      "Adding 1344 Ns to chr17:83705530-83706561\n",
      "Adding 1344 Ns to chr16:97536933-97537092\n",
      "Adding 1344 Ns to chr17:85033805-85034667\n",
      "Adding 1344 Ns to chrX:168032516-168032757\n",
      "Adding 1344 Ns to chr13:117837604-117838003\n",
      "Adding 1344 Ns to chr14:123622855-123623129\n",
      "Adding 1344 Ns to chrX:156737552-156737968\n",
      "Adding 1344 Ns to chr19:60148521-60148715\n",
      "Adding 1344 Ns to chr13:115988071-115988367\n",
      "Adding 1344 Ns to chr16:94142823-94143244\n",
      "Adding 1344 Ns to chr14:119611898-119612220\n",
      "Adding 1344 Ns to chr13:117633179-117633368\n",
      "Adding 1344 Ns to chr17:87054941-87055523\n",
      "Adding 1344 Ns to chr17:87134616-87134776\n"
     ]
    },
    {
     "name": "stdout",
     "output_type": "stream",
     "text": [
      "process 25000 peaks takes 6.9 s\n"
     ]
    },
    {
     "name": "stderr",
     "output_type": "stream",
     "text": [
      "Adding 1344 Ns to chr16:96044151-96044413\n",
      "Adding 1344 Ns to chr16:94414287-94414442\n",
      "Adding 1344 Ns to chr14:114638605-114638885\n",
      "Adding 1344 Ns to chrX:164004845-164005150\n",
      "Adding 1344 Ns to chr13:118395855-118396124\n",
      "Adding 1344 Ns to chrX:159459054-159459292\n",
      "Adding 1344 Ns to chr15:103145764-103146579\n",
      "Adding 1344 Ns to chr17:88919585-88919970\n",
      "Adding 1344 Ns to chr14:124575103-124575522\n",
      "Adding 1344 Ns to chr19:58688229-58688529\n",
      "Adding 1344 Ns to chr16:92019339-92019813\n",
      "Adding 1344 Ns to chr16:93983572-93984239\n",
      "Adding 1344 Ns to chr18:86148580-86148784\n",
      "Adding 1344 Ns to chrX:165894366-165894650\n",
      "Adding 1344 Ns to chr17:86732112-86732431\n",
      "Adding 1344 Ns to chr19:59800707-59800970\n",
      "Adding 1344 Ns to chr14:113431289-113431575\n",
      "Adding 1344 Ns to chrX:168850625-168850814\n",
      "Adding 1344 Ns to chr14:115695153-115695671\n",
      "Adding 1344 Ns to chr18:83732269-83732490\n",
      "Adding 1344 Ns to chr18:88026649-88026848\n",
      "Adding 1344 Ns to chr18:88660745-88660936\n",
      "Adding 1344 Ns to chrX:166771280-166771478\n"
     ]
    },
    {
     "name": "stdout",
     "output_type": "stream",
     "text": [
      "process 26000 peaks takes 7.2 s\n"
     ]
    },
    {
     "name": "stderr",
     "output_type": "stream",
     "text": [
      "Adding 1344 Ns to chrX:167198246-167198529\n",
      "Adding 1344 Ns to chrX:166976849-166976998\n",
      "Adding 1344 Ns to chr16:97009127-97009991\n",
      "Adding 1344 Ns to chr17:84921528-84921793\n",
      "Adding 1344 Ns to chr18:89147048-89147214\n",
      "Adding 1344 Ns to chr18:82492357-82492967\n",
      "Adding 1344 Ns to chr18:82462019-82462580\n",
      "Adding 1344 Ns to chr14:117930591-117930998\n",
      "Adding 1344 Ns to chr14:121619632-121619862\n",
      "Adding 1344 Ns to chrX:157904081-157904431\n",
      "Adding 1344 Ns to chrX:166795566-166796052\n",
      "Adding 1344 Ns to chr17:86933029-86933218\n",
      "Adding 1344 Ns to chr16:92382539-92382988\n",
      "Adding 1344 Ns to chr15:103527633-103527939\n",
      "Adding 1344 Ns to chr16:93576582-93577048\n",
      "Adding 1344 Ns to chr16:97430044-97430586\n",
      "Adding 1344 Ns to chr18:83766835-83767005\n",
      "Adding 1344 Ns to chrX:157891546-157891729\n",
      "Adding 1344 Ns to chr17:86801967-86802174\n",
      "Adding 1344 Ns to chr14:118660718-118660984\n",
      "Adding 1344 Ns to chr14:120891175-120891619\n",
      "Adding 1344 Ns to chr19:59044657-59045066\n",
      "Adding 1344 Ns to chr17:94274230-94274569\n",
      "Adding 1344 Ns to chr18:82037371-82037668\n",
      "Adding 1344 Ns to chr16:93915298-93915793\n",
      "Adding 1344 Ns to chr13:117877917-117878218\n",
      "Adding 1344 Ns to chr16:95772177-95772633\n"
     ]
    },
    {
     "name": "stdout",
     "output_type": "stream",
     "text": [
      "process 27000 peaks takes 7.5 s\n"
     ]
    },
    {
     "name": "stderr",
     "output_type": "stream",
     "text": [
      "Adding 1344 Ns to chr14:119540432-119541348\n",
      "Adding 1344 Ns to chr18:83450926-83451308\n",
      "Adding 1344 Ns to chr18:82618787-82619145\n",
      "Adding 1344 Ns to chr14:119215668-119216284\n",
      "Adding 1344 Ns to chr14:120510625-120510942\n",
      "Adding 1344 Ns to chr14:121177968-121178243\n",
      "Adding 1344 Ns to chr16:93369121-93370158\n",
      "Adding 1344 Ns to chr17:89318317-89318783\n",
      "Adding 1344 Ns to chr17:90845662-90845858\n",
      "Adding 1344 Ns to chr15:103135274-103135966\n",
      "Adding 1344 Ns to chr14:119815847-119816186\n",
      "Adding 1344 Ns to chr14:121056302-121056562\n",
      "Adding 1344 Ns to chr17:94291203-94291851\n",
      "Adding 1344 Ns to chr14:119155466-119155723\n",
      "Adding 1344 Ns to chr13:116917446-116917757\n",
      "Adding 1344 Ns to chr14:114781150-114781597\n",
      "Adding 1344 Ns to chr16:93764522-93765046\n",
      "Adding 1344 Ns to chr14:119702938-119703608\n",
      "Adding 1344 Ns to chr14:121378427-121378673\n",
      "Adding 1344 Ns to chr17:89654169-89654920\n",
      "Adding 1344 Ns to chr17:84153502-84153745\n",
      "Adding 1344 Ns to chr18:81855308-81855673\n",
      "Adding 1344 Ns to chr18:80655281-80655791\n",
      "Adding 1344 Ns to chrX:165193641-165193890\n",
      "Adding 1344 Ns to chrX:162521146-162522186\n",
      "Adding 1344 Ns to chr14:119953144-119953776\n",
      "Adding 1344 Ns to chr17:85121776-85122263\n",
      "Adding 1344 Ns to chr18:84685332-84686111\n"
     ]
    },
    {
     "name": "stdout",
     "output_type": "stream",
     "text": [
      "process 28000 peaks takes 7.7 s\n"
     ]
    },
    {
     "name": "stderr",
     "output_type": "stream",
     "text": [
      "Adding 1344 Ns to chr18:82254174-82254534\n",
      "Adding 1344 Ns to chr17:88658371-88658948\n",
      "Adding 1344 Ns to chr17:83807969-83808329\n",
      "Adding 1344 Ns to chr14:121656906-121657323\n",
      "Adding 1344 Ns to chr16:94362084-94362642\n",
      "Adding 1344 Ns to chr16:93711371-93712472\n",
      "Adding 1344 Ns to chr14:121349925-121350352\n",
      "Adding 1344 Ns to chr14:115748017-115748416\n",
      "Adding 1344 Ns to chr18:88822710-88822962\n",
      "Adding 1344 Ns to chrX:157721589-157721842\n",
      "Adding 1344 Ns to chr16:94941179-94941522\n",
      "Adding 1344 Ns to chrX:161038725-161039109\n",
      "Adding 1344 Ns to chrX:162078512-162078683\n",
      "Adding 1344 Ns to chr18:81241566-81242271\n",
      "Adding 1344 Ns to chr19:58942871-58943989\n",
      "Adding 1344 Ns to chrX:168010518-168010878\n",
      "Adding 1344 Ns to chr16:97196701-97197055\n",
      "Adding 1344 Ns to chr16:91203034-91203324\n",
      "Adding 1344 Ns to chr17:89866995-89867253\n"
     ]
    },
    {
     "name": "stdout",
     "output_type": "stream",
     "text": [
      "process 29000 peaks takes 8.0 s\n"
     ]
    },
    {
     "name": "stderr",
     "output_type": "stream",
     "text": [
      "Adding 1344 Ns to chr18:83992489-83992735\n",
      "Adding 1344 Ns to chr16:97258930-97259161\n",
      "Adding 1344 Ns to chr17:87323180-87323610\n",
      "Adding 1344 Ns to chr17:83322562-83323132\n",
      "Adding 1344 Ns to chr13:118958246-118958423\n",
      "Adding 1344 Ns to chr18:86692705-86693158\n",
      "Adding 1344 Ns to chr14:124451848-124452181\n",
      "Adding 1344 Ns to chr14:117409770-117410205\n",
      "Adding 1344 Ns to chr14:123143492-123144069\n",
      "Adding 1344 Ns to chr16:94885041-94885590\n",
      "Adding 1344 Ns to chrX:164513254-164513758\n",
      "Adding 1344 Ns to chr16:91848513-91848792\n",
      "Adding 1344 Ns to chr16:96857583-96857958\n",
      "Adding 1344 Ns to chr17:84642043-84642831\n",
      "Adding 1344 Ns to chr14:113985954-113986231\n",
      "Adding 1344 Ns to chr18:89036563-89036955\n",
      "Adding 1344 Ns to chr16:92632263-92632689\n",
      "Adding 1344 Ns to chrX:168076280-168076510\n",
      "Adding 1344 Ns to chr14:120829866-120830147\n",
      "Adding 1344 Ns to chrX:163939866-163940227\n",
      "Adding 1344 Ns to chr16:93063704-93063853\n",
      "Adding 1344 Ns to chr17:86344970-86345163\n"
     ]
    },
    {
     "name": "stdout",
     "output_type": "stream",
     "text": [
      "process 30000 peaks takes 8.3 s\n"
     ]
    },
    {
     "name": "stderr",
     "output_type": "stream",
     "text": [
      "Adding 1344 Ns to chr14:119606762-119607179\n",
      "Adding 1344 Ns to chr18:86409120-86409320\n",
      "Adding 1344 Ns to chr18:86158216-86158805\n",
      "Adding 1344 Ns to chr14:121100880-121101197\n",
      "Adding 1344 Ns to chrX:162580112-162581162\n",
      "Adding 1344 Ns to chr18:82507309-82507669\n",
      "Adding 1344 Ns to chrX:158414513-158414812\n",
      "Adding 1344 Ns to chr14:118924796-118925719\n",
      "Adding 1344 Ns to chr17:84362933-84363247\n",
      "Adding 1344 Ns to chr16:92421362-92421628\n",
      "Adding 1344 Ns to chrX:162158731-162159345\n",
      "Adding 1344 Ns to chr16:92864331-92864525\n",
      "Adding 1344 Ns to chr13:117916827-117917029\n",
      "Adding 1344 Ns to chr18:84530707-84530960\n",
      "Adding 1344 Ns to chr14:123851631-123852044\n",
      "Adding 1344 Ns to chrX:160871062-160871438\n",
      "Adding 1344 Ns to chr14:111507854-111508379\n",
      "Adding 1344 Ns to chrX:163549639-163550042\n",
      "Adding 1344 Ns to chr13:116976288-116976681\n",
      "Adding 1344 Ns to chr18:86394050-86394324\n",
      "Adding 1344 Ns to chrX:160907313-160907507\n",
      "Adding 1344 Ns to chr19:60513510-60513718\n",
      "Adding 1344 Ns to chr13:114933631-114934011\n",
      "Adding 1344 Ns to chrX:161908387-161909425\n",
      "Adding 1344 Ns to chr13:117880603-117880978\n",
      "Adding 1344 Ns to chr14:118608672-118609734\n",
      "Adding 1344 Ns to chr17:84101712-84102040\n",
      "Adding 1344 Ns to chr18:89894549-89894749\n",
      "Adding 1344 Ns to chr14:121225474-121226219\n"
     ]
    },
    {
     "name": "stdout",
     "output_type": "stream",
     "text": [
      "process 31000 peaks takes 8.5 s\n"
     ]
    },
    {
     "name": "stderr",
     "output_type": "stream",
     "text": [
      "Adding 1344 Ns to chr14:117992412-117992839\n",
      "Adding 1344 Ns to chr17:90278853-90279192\n",
      "Adding 1344 Ns to chr19:59027916-59028543\n",
      "Adding 1344 Ns to chr17:86905305-86905557\n",
      "Adding 1344 Ns to chr18:89519453-89519778\n",
      "Adding 1344 Ns to chr16:94345380-94345847\n",
      "Adding 1344 Ns to chr15:102648561-102649322\n",
      "Adding 1344 Ns to chr18:89567751-89568234\n",
      "Adding 1344 Ns to chr17:87473566-87474501\n",
      "Adding 1344 Ns to chr13:118781527-118781875\n",
      "Adding 1344 Ns to chrX:166843919-166844277\n",
      "Adding 1344 Ns to chr16:95759825-95760514\n",
      "Adding 1344 Ns to chrX:164245801-164246058\n",
      "Adding 1344 Ns to chr15:103576723-103577330\n",
      "Adding 1344 Ns to chr14:116349264-116349706\n",
      "Adding 1344 Ns to chr14:120495557-120495706\n",
      "Adding 1344 Ns to chr16:96896809-96897032\n",
      "Adding 1344 Ns to chr16:92302110-92302459\n",
      "Adding 1344 Ns to chr19:59422567-59422780\n"
     ]
    },
    {
     "name": "stdout",
     "output_type": "stream",
     "text": [
      "process 32000 peaks takes 8.8 s\n"
     ]
    },
    {
     "name": "stderr",
     "output_type": "stream",
     "text": [
      "Adding 1344 Ns to chr14:122684696-122685080\n",
      "Adding 1344 Ns to chr14:113590852-113591418\n",
      "Adding 1344 Ns to chr16:95371733-95371906\n",
      "Adding 1344 Ns to chrX:157714045-157714727\n",
      "Adding 1344 Ns to chr18:81153469-81153706\n",
      "Adding 1344 Ns to chr17:86540582-86540897\n",
      "Adding 1344 Ns to chr14:107811886-107812129\n",
      "Adding 1344 Ns to chr13:117143803-117144233\n",
      "Adding 1344 Ns to chr15:102684645-102684904\n",
      "Adding 1344 Ns to chr14:111971964-111972178\n",
      "Adding 1344 Ns to chr14:121445254-121445543\n",
      "Adding 1344 Ns to chr18:85709114-85709319\n",
      "Adding 1344 Ns to chr14:120960092-120960868\n",
      "Adding 1344 Ns to chr15:103153295-103153782\n",
      "Adding 1344 Ns to chr16:95151279-95151624\n",
      "Adding 1344 Ns to chr16:97897605-97897865\n",
      "Adding 1344 Ns to chr13:114992265-114992684\n",
      "Adding 1344 Ns to chr17:86563989-86564555\n"
     ]
    },
    {
     "name": "stdout",
     "output_type": "stream",
     "text": [
      "process 33000 peaks takes 9.1 s\n"
     ]
    },
    {
     "name": "stderr",
     "output_type": "stream",
     "text": [
      "Adding 1344 Ns to chrX:167321497-167321814\n",
      "Adding 1344 Ns to chr18:86336263-86336641\n",
      "Adding 1344 Ns to chr17:86466716-86466978\n",
      "Adding 1344 Ns to chr14:118676433-118677049\n",
      "Adding 1344 Ns to chr14:111210644-111210924\n",
      "Adding 1344 Ns to chr16:93766949-93767346\n",
      "Adding 1344 Ns to chr17:84921935-84922383\n",
      "Adding 1344 Ns to chr17:83917018-83917330\n",
      "Adding 1344 Ns to chr18:83776690-83776899\n",
      "Adding 1344 Ns to chr16:94869259-94869711\n",
      "Adding 1344 Ns to chr14:112209062-112209239\n",
      "Adding 1344 Ns to chr14:115752620-115752936\n",
      "Adding 1344 Ns to chr14:120441139-120441642\n",
      "Adding 1344 Ns to chr17:90856604-90857053\n",
      "Adding 1344 Ns to chr13:118004701-118005022\n",
      "Adding 1344 Ns to chr18:83423942-83424096\n",
      "Adding 1344 Ns to chr13:119780192-119780587\n",
      "Adding 1344 Ns to chr16:93981206-93981742\n",
      "Adding 1344 Ns to chr16:91667168-91667434\n",
      "Adding 1344 Ns to chr17:83746593-83746898\n",
      "Adding 1344 Ns to chr18:83314155-83315091\n",
      "Adding 1344 Ns to chr18:83639019-83639277\n",
      "Adding 1344 Ns to chr18:86640835-86641465\n",
      "Adding 1344 Ns to chr16:95149826-95150063\n",
      "Adding 1344 Ns to chr17:94730541-94730769\n",
      "Adding 1344 Ns to chr19:58802661-58802917\n",
      "Adding 1344 Ns to chr17:83586907-83588183\n",
      "Adding 1344 Ns to chr18:86432390-86433281\n"
     ]
    },
    {
     "name": "stdout",
     "output_type": "stream",
     "text": [
      "process 34000 peaks takes 9.3 s\n"
     ]
    },
    {
     "name": "stderr",
     "output_type": "stream",
     "text": [
      "Adding 1344 Ns to chr17:90225726-90225978\n",
      "Adding 1344 Ns to chrX:164741996-164742337\n",
      "Adding 1344 Ns to chr16:96545576-96545783\n",
      "Adding 1344 Ns to chr14:121385410-121385965\n",
      "Adding 1344 Ns to chr17:83434505-83434963\n",
      "Adding 1344 Ns to chrX:162554532-162554815\n",
      "Adding 1344 Ns to chr16:92850622-92850911\n",
      "Adding 1344 Ns to chr14:111721176-111721587\n",
      "Adding 1344 Ns to chr18:82910538-82911102\n",
      "Adding 1344 Ns to chr18:84768791-84769178\n",
      "Adding 1344 Ns to chrX:168307270-168307503\n",
      "Adding 1344 Ns to chr16:90727206-90727802\n",
      "Adding 1344 Ns to chrX:163364832-163365178\n",
      "Adding 1344 Ns to chr19:59063458-59064236\n",
      "Adding 1344 Ns to chr18:85292154-85292447\n",
      "Adding 1344 Ns to chr14:122902958-122903287\n",
      "Adding 1344 Ns to chr16:93292958-93293580\n",
      "Adding 1344 Ns to chr14:121556720-121557108\n",
      "Adding 1344 Ns to chr16:93391947-93392356\n",
      "Adding 1344 Ns to chrX:159782614-159782917\n",
      "Adding 1344 Ns to chr14:122130429-122130891\n",
      "Adding 1344 Ns to chr16:92906460-92906748\n",
      "Adding 1344 Ns to chr14:123663320-123663673\n",
      "Adding 1344 Ns to chr16:92977490-92977639\n",
      "Adding 1344 Ns to chr14:116993648-116993815\n"
     ]
    },
    {
     "name": "stdout",
     "output_type": "stream",
     "text": [
      "process 35000 peaks takes 9.6 s\n"
     ]
    },
    {
     "name": "stderr",
     "output_type": "stream",
     "text": [
      "Adding 1344 Ns to chr15:102716314-102716560\n",
      "Adding 1344 Ns to chrX:169663059-169663209\n",
      "Adding 1344 Ns to chr17:93092564-93092947\n",
      "Adding 1344 Ns to chr17:93671590-93672053\n",
      "Adding 1344 Ns to chrX:169319847-169320714\n",
      "Adding 1344 Ns to chr16:97250940-97251213\n",
      "Adding 1344 Ns to chr17:90736003-90736533\n",
      "Adding 1344 Ns to chr14:120391603-120392094\n",
      "Adding 1344 Ns to chr14:120661270-120662076\n",
      "Adding 1344 Ns to chr14:120172657-120173292\n",
      "Adding 1344 Ns to chr15:103420837-103421292\n",
      "Adding 1344 Ns to chr17:90955124-90955583\n",
      "Adding 1344 Ns to chr18:84995959-84996316\n",
      "Adding 1344 Ns to chr14:118491390-118491606\n",
      "Adding 1344 Ns to chr15:102210961-102211142\n",
      "Adding 1344 Ns to chr14:117767336-117767590\n",
      "Adding 1344 Ns to chr16:96914156-96914956\n",
      "Adding 1344 Ns to chr17:90351642-90351915\n",
      "Adding 1344 Ns to chr14:111675387-111675639\n",
      "Adding 1344 Ns to chrX:168639450-168640031\n",
      "Adding 1344 Ns to chr17:90266321-90266576\n",
      "Adding 1344 Ns to chrX:163879327-163879687\n",
      "Adding 1344 Ns to chr13:117779728-117779949\n"
     ]
    },
    {
     "name": "stdout",
     "output_type": "stream",
     "text": [
      "process 36000 peaks takes 9.9 s\n"
     ]
    },
    {
     "name": "stderr",
     "output_type": "stream",
     "text": [
      "Adding 1344 Ns to chr17:87112654-87113013\n",
      "Adding 1344 Ns to chr17:87316428-87316811\n",
      "Adding 1344 Ns to chr16:94370129-94371951\n",
      "Adding 1344 Ns to chrX:166226909-166227207\n",
      "Adding 1344 Ns to chr16:92524615-92525030\n",
      "Adding 1344 Ns to chr14:121634710-121634967\n",
      "Adding 1344 Ns to chr17:87351655-87351936\n",
      "Adding 1344 Ns to chr16:90604811-90605341\n",
      "Adding 1344 Ns to chr14:114685206-114685458\n",
      "Adding 1344 Ns to chr15:102659619-102659937\n",
      "Adding 1344 Ns to chr13:118805985-118806262\n",
      "Adding 1344 Ns to chr16:92360621-92360973\n",
      "Adding 1344 Ns to chr17:90504057-90504403\n",
      "Adding 1344 Ns to chrX:160515713-160515926\n",
      "Adding 1344 Ns to chr16:92006885-92007327\n",
      "Adding 1344 Ns to chr16:94612528-94612677\n",
      "Adding 1344 Ns to chr16:94735388-94735619\n",
      "Adding 1344 Ns to chr17:87325580-87325888\n",
      "Adding 1344 Ns to chr13:119790505-119791641\n",
      "Adding 1344 Ns to chr18:82738243-82738544\n",
      "Adding 1344 Ns to chr16:95831544-95832621\n",
      "Adding 1344 Ns to chr18:82040594-82040783\n",
      "Adding 1344 Ns to chr14:108525396-108525635\n",
      "Adding 1344 Ns to chr18:84384211-84384716\n",
      "Adding 1344 Ns to chr15:102110895-102111170\n",
      "Adding 1344 Ns to chr19:59146295-59146585\n",
      "Adding 1344 Ns to chrX:158615164-158615536\n",
      "Adding 1344 Ns to chr16:96518813-96519219\n",
      "Adding 1344 Ns to chr17:86415800-86416376\n",
      "Adding 1344 Ns to chr16:92997404-92998124\n",
      "Adding 1344 Ns to chr14:116313157-116313323\n",
      "Adding 1344 Ns to chr17:88019193-88019781\n",
      "Adding 1344 Ns to chr16:96173220-96173402\n"
     ]
    },
    {
     "name": "stdout",
     "output_type": "stream",
     "text": [
      "process 37000 peaks takes 10.1 s\n"
     ]
    },
    {
     "name": "stderr",
     "output_type": "stream",
     "text": [
      "Adding 1344 Ns to chrX:162642978-162643235\n",
      "Adding 1344 Ns to chr19:58838574-58839170\n",
      "Adding 1344 Ns to chr14:122762232-122762645\n",
      "Adding 1344 Ns to chr13:119377649-119378032\n",
      "Adding 1344 Ns to chr18:83059670-83060438\n",
      "Adding 1344 Ns to chr17:85101995-85102366\n",
      "Adding 1344 Ns to chrX:157451685-157451900\n",
      "Adding 1344 Ns to chrX:167597817-167598243\n",
      "Adding 1344 Ns to chr19:60459000-60459281\n",
      "Adding 1344 Ns to chr17:88367939-88368314\n",
      "Adding 1344 Ns to chr18:84655730-84655908\n",
      "Adding 1344 Ns to chr17:84691288-84691526\n",
      "Adding 1344 Ns to chr17:91086467-91086658\n",
      "Adding 1344 Ns to chr13:116002538-116002821\n",
      "Adding 1344 Ns to chr16:91918590-91918830\n",
      "Adding 1344 Ns to chr17:84399323-84399717\n",
      "Adding 1344 Ns to chr18:88924387-88924987\n",
      "Adding 1344 Ns to chr19:61060021-61060288\n",
      "Adding 1344 Ns to chr17:90435478-90436505\n",
      "Adding 1344 Ns to chr18:81557173-81557866\n",
      "Adding 1344 Ns to chrX:157271665-157272015\n",
      "Adding 1344 Ns to chrX:162496483-162497124\n",
      "Adding 1344 Ns to chr16:95918615-95919206\n",
      "Adding 1344 Ns to chr13:119768512-119769143\n",
      "Adding 1344 Ns to chr14:113422999-113423345\n",
      "Adding 1344 Ns to chr15:102583708-102584512\n"
     ]
    },
    {
     "name": "stdout",
     "output_type": "stream",
     "text": [
      "process 38000 peaks takes 10.4 s\n"
     ]
    },
    {
     "name": "stderr",
     "output_type": "stream",
     "text": [
      "Adding 1344 Ns to chrX:166952558-166952845\n",
      "Adding 1344 Ns to chr19:60245834-60246169\n",
      "Adding 1344 Ns to chr14:121254077-121254285\n",
      "Adding 1344 Ns to chr17:90054435-90054695\n",
      "Adding 1344 Ns to chr17:87362286-87362539\n",
      "Adding 1344 Ns to chr14:118829555-118830230\n",
      "Adding 1344 Ns to chr13:117765389-117765892\n",
      "Adding 1344 Ns to chr17:89281298-89281668\n",
      "Adding 1344 Ns to chr17:94205534-94205842\n",
      "Adding 1344 Ns to chr18:84797392-84797649\n",
      "Adding 1344 Ns to chr13:115084560-115084867\n",
      "Adding 1344 Ns to chr17:86355739-86356344\n",
      "Adding 1344 Ns to chr15:103185863-103186134\n",
      "Adding 1344 Ns to chr16:94931283-94932417\n",
      "Adding 1344 Ns to chr16:94209635-94210145\n",
      "Adding 1344 Ns to chr19:59345303-59346441\n",
      "Adding 1344 Ns to chr14:121153270-121153615\n",
      "Adding 1344 Ns to chrX:166384935-166385162\n",
      "Adding 1344 Ns to chr15:103393601-103393916\n",
      "Adding 1344 Ns to chr14:122149271-122149515\n",
      "Adding 1344 Ns to chr16:91265976-91266251\n",
      "Adding 1344 Ns to chr14:108744060-108744368\n",
      "Adding 1344 Ns to chr15:103197776-103198105\n",
      "Adding 1344 Ns to chr18:82812375-82812740\n",
      "Adding 1344 Ns to chr18:82841317-82841658\n",
      "Adding 1344 Ns to chr18:85216591-85217040\n",
      "Adding 1344 Ns to chrX:163063872-163064359\n",
      "Adding 1344 Ns to chr18:89143775-89144341\n"
     ]
    },
    {
     "name": "stdout",
     "output_type": "stream",
     "text": [
      "process 39000 peaks takes 10.7 s\n"
     ]
    },
    {
     "name": "stderr",
     "output_type": "stream",
     "text": [
      "Adding 1344 Ns to chr16:97804996-97805244\n",
      "Adding 1344 Ns to chr17:88431706-88431883\n",
      "Adding 1344 Ns to chr16:97356443-97357859\n",
      "Adding 1344 Ns to chrX:164313802-164314288\n",
      "Adding 1344 Ns to chr16:92994923-92995310\n",
      "Adding 1344 Ns to chrX:157079641-157079940\n",
      "Adding 1344 Ns to chrX:156644708-156644965\n",
      "Adding 1344 Ns to chr16:91969441-91970109\n",
      "Adding 1344 Ns to chr16:95978274-95978553\n",
      "Adding 1344 Ns to chr16:90800723-90801645\n",
      "Adding 1344 Ns to chr14:121080805-121081088\n",
      "Adding 1344 Ns to chr18:86676314-86676729\n",
      "Adding 1344 Ns to chrX:157736514-157736854\n",
      "Adding 1344 Ns to chr18:84909649-84910128\n",
      "Adding 1344 Ns to chr17:88764982-88765217\n",
      "Adding 1344 Ns to chrX:162412014-162412235\n",
      "Adding 1344 Ns to chr15:103482618-103482783\n",
      "Adding 1344 Ns to chr17:86305317-86305603\n"
     ]
    },
    {
     "name": "stdout",
     "output_type": "stream",
     "text": [
      "process 40000 peaks takes 10.9 s\n"
     ]
    },
    {
     "name": "stderr",
     "output_type": "stream",
     "text": [
      "Adding 1344 Ns to chr17:84596011-84596294\n",
      "Adding 1344 Ns to chr17:83278661-83278943\n",
      "Adding 1344 Ns to chr18:82372696-82373172\n",
      "Adding 1344 Ns to chrX:158920249-158920612\n",
      "Adding 1344 Ns to chr18:86827390-86827553\n",
      "Adding 1344 Ns to chr16:96582662-96583057\n",
      "Adding 1344 Ns to chrX:159210972-159211688\n",
      "Adding 1344 Ns to chr16:91053711-91053975\n",
      "Adding 1344 Ns to chrX:166369639-166369860\n",
      "Adding 1344 Ns to chr15:102302400-102302962\n",
      "Adding 1344 Ns to chr18:90018887-90019710\n",
      "Adding 1344 Ns to chr17:86214211-86215146\n",
      "Adding 1344 Ns to chr18:85304334-85305064\n",
      "Adding 1344 Ns to chr17:84574767-84575061\n",
      "Adding 1344 Ns to chr16:94743783-94744854\n",
      "Adding 1344 Ns to chr18:88747157-88747607\n",
      "Adding 1344 Ns to chrX:163929618-163929978\n",
      "Adding 1344 Ns to chr13:119800948-119801302\n",
      "Adding 1344 Ns to chr17:88614144-88614781\n",
      "Adding 1344 Ns to chr17:90455859-90456347\n",
      "Adding 1344 Ns to chr17:90749500-90749953\n",
      "Adding 1344 Ns to chr18:83936266-83937170\n",
      "Adding 1344 Ns to chr14:119797275-119797787\n"
     ]
    },
    {
     "name": "stdout",
     "output_type": "stream",
     "text": [
      "process 41000 peaks takes 11.2 s\n"
     ]
    },
    {
     "name": "stderr",
     "output_type": "stream",
     "text": [
      "Adding 1344 Ns to chr14:118970756-118971233\n",
      "Adding 1344 Ns to chr13:117129849-117130071\n",
      "Adding 1344 Ns to chr15:102839599-102840067\n",
      "Adding 1344 Ns to chrX:157994027-157994435\n",
      "Adding 1344 Ns to chr17:89246767-89246948\n",
      "Adding 1344 Ns to chr18:82854045-82854464\n",
      "Adding 1344 Ns to chr17:89173211-89173519\n",
      "Adding 1344 Ns to chrX:167082588-167083041\n",
      "Adding 1344 Ns to chr14:118616697-118617194\n",
      "Adding 1344 Ns to chr13:115852770-115853250\n",
      "Adding 1344 Ns to chr13:118091638-118091910\n",
      "Adding 1344 Ns to chr14:111631072-111631350\n",
      "Adding 1344 Ns to chr16:94624898-94625261\n",
      "Adding 1344 Ns to chr16:95684879-95685213\n",
      "Adding 1344 Ns to chr14:111674507-111675022\n",
      "Adding 1344 Ns to chr14:116957483-116957684\n",
      "Adding 1344 Ns to chr16:96235387-96236065\n",
      "Adding 1344 Ns to chr14:117903961-117904125\n",
      "Adding 1344 Ns to chr14:120144563-120144936\n",
      "Adding 1344 Ns to chr16:94570452-94570832\n",
      "Adding 1344 Ns to chr14:119247947-119248677\n",
      "Adding 1344 Ns to chr14:117023020-117023406\n",
      "Adding 1344 Ns to chr19:58819189-58819371\n"
     ]
    },
    {
     "name": "stdout",
     "output_type": "stream",
     "text": [
      "process 42000 peaks takes 11.4 s\n"
     ]
    },
    {
     "name": "stderr",
     "output_type": "stream",
     "text": [
      "Adding 1344 Ns to chr14:122474839-122475561\n",
      "Adding 1344 Ns to chrX:164725705-164725981\n",
      "Adding 1344 Ns to chr14:121245815-121246877\n",
      "Adding 1344 Ns to chr18:83686047-83686433\n",
      "Adding 1344 Ns to chrX:160504041-160504401\n",
      "Adding 1344 Ns to chrX:169839989-169840195\n",
      "Adding 1344 Ns to chr16:97366944-97367156\n",
      "Adding 1344 Ns to chr17:88103319-88103525\n",
      "Adding 1344 Ns to chr17:84056807-84057735\n",
      "Adding 1344 Ns to chr18:86600639-86601322\n",
      "Adding 1344 Ns to chrX:162081975-162082309\n",
      "Adding 1344 Ns to chrX:167329682-167330173\n",
      "Adding 1344 Ns to chr14:117951715-117952082\n",
      "Adding 1344 Ns to chr19:59784436-59784934\n",
      "Adding 1344 Ns to chr17:86535713-86536643\n",
      "Adding 1344 Ns to chr17:87125210-87125711\n",
      "Adding 1344 Ns to chr14:114504794-114505313\n",
      "Adding 1344 Ns to chr18:82575375-82575997\n",
      "Adding 1344 Ns to chr19:58829438-58830567\n",
      "Adding 1344 Ns to chr14:124180084-124180808\n",
      "Adding 1344 Ns to chr18:83529145-83529403\n",
      "Adding 1344 Ns to chrX:159291697-159291977\n",
      "Adding 1344 Ns to chr18:84050099-84050365\n",
      "Adding 1344 Ns to chr14:117813436-117813932\n"
     ]
    },
    {
     "name": "stdout",
     "output_type": "stream",
     "text": [
      "process 43000 peaks takes 11.7 s\n"
     ]
    },
    {
     "name": "stderr",
     "output_type": "stream",
     "text": [
      "Adding 1344 Ns to chr16:95398847-95399536\n",
      "Adding 1344 Ns to chr14:114450599-114450824\n",
      "Adding 1344 Ns to chr16:96623647-96623926\n",
      "Adding 1344 Ns to chr17:88042529-88043120\n",
      "Adding 1344 Ns to chr17:83378490-83378804\n",
      "Adding 1344 Ns to chr17:86610733-86610890\n",
      "Adding 1344 Ns to chr18:83134799-83135578\n",
      "Adding 1344 Ns to chr14:109257197-109257710\n",
      "Adding 1344 Ns to chr13:114668520-114669029\n",
      "Adding 1344 Ns to chr14:119060690-119061237\n",
      "Adding 1344 Ns to chr14:108555534-108555715\n",
      "Adding 1344 Ns to chr14:124409436-124409600\n",
      "Adding 1344 Ns to chr14:120607790-120608253\n",
      "Adding 1344 Ns to chr14:123817621-123817811\n",
      "Adding 1344 Ns to chrX:157847043-157847472\n",
      "Adding 1344 Ns to chr16:95739366-95739907\n",
      "Adding 1344 Ns to chr14:116019896-116020155\n",
      "Adding 1344 Ns to chr17:86167279-86168558\n",
      "Adding 1344 Ns to chrX:167382474-167383055\n",
      "Adding 1344 Ns to chr13:116782561-116782753\n",
      "Adding 1344 Ns to chr14:122581878-122582118\n",
      "Adding 1344 Ns to chr14:121268415-121268733\n",
      "Adding 1344 Ns to chr15:102316329-102316565\n",
      "Adding 1344 Ns to chr18:90289604-90290010\n",
      "Adding 1344 Ns to chr18:83501682-83501844\n",
      "Adding 1344 Ns to chr15:103292697-103293090\n",
      "Adding 1344 Ns to chr18:83430442-83431131\n",
      "Adding 1344 Ns to chr19:59922329-59922584\n",
      "Adding 1344 Ns to chr16:96782893-96783352\n",
      "Adding 1344 Ns to chr15:103121347-103121805\n"
     ]
    },
    {
     "name": "stdout",
     "output_type": "stream",
     "text": [
      "process 44000 peaks takes 12.0 s\n"
     ]
    },
    {
     "name": "stderr",
     "output_type": "stream",
     "text": [
      "Adding 1344 Ns to chr15:102692943-102693437\n",
      "Adding 1344 Ns to chr16:94555931-94556437\n",
      "Adding 1344 Ns to chr16:92134120-92134759\n",
      "Adding 1344 Ns to chrX:165943416-165943937\n",
      "Adding 1344 Ns to chr17:88937278-88937486\n",
      "Adding 1344 Ns to chr16:92336244-92336642\n",
      "Adding 1344 Ns to chr17:89308938-89309351\n",
      "Adding 1344 Ns to chr17:89036680-89037272\n",
      "Adding 1344 Ns to chr18:89507199-89507399\n",
      "Adding 1344 Ns to chrX:162554858-162555357\n",
      "Adding 1344 Ns to chr14:116137842-116138188\n",
      "Adding 1344 Ns to chr18:86450576-86450915\n",
      "Adding 1344 Ns to chr18:85261679-85262132\n",
      "Adding 1344 Ns to chr14:117684789-117685096\n",
      "Adding 1344 Ns to chr17:86555003-86555152\n",
      "Adding 1344 Ns to chr16:93744003-93744354\n",
      "Adding 1344 Ns to chr19:59454277-59454507\n",
      "Adding 1344 Ns to chr17:89275785-89276137\n",
      "Adding 1344 Ns to chr16:96467419-96468005\n",
      "Adding 1344 Ns to chrX:167614894-167615357\n",
      "Adding 1344 Ns to chr16:91904499-91904648\n",
      "Adding 1344 Ns to chr14:120621079-120621465\n",
      "Adding 1344 Ns to chrX:169228597-169228746\n",
      "Adding 1344 Ns to chr18:80729299-80729696\n",
      "Adding 1344 Ns to chr16:95729816-95730126\n",
      "Adding 1344 Ns to chr13:115101481-115101661\n",
      "Adding 1344 Ns to chrX:160813695-160814091\n",
      "Adding 1344 Ns to chr14:118919113-118919319\n",
      "Adding 1344 Ns to chr17:85241998-85242683\n",
      "Adding 1344 Ns to chr17:91738886-91739344\n",
      "Adding 1344 Ns to chr14:117214135-117214729\n",
      "Adding 1344 Ns to chr14:120809309-120810026\n"
     ]
    },
    {
     "name": "stdout",
     "output_type": "stream",
     "text": [
      "process 45000 peaks takes 12.2 s\n"
     ]
    },
    {
     "name": "stderr",
     "output_type": "stream",
     "text": [
      "Adding 1344 Ns to chr13:116969645-116970197\n",
      "Adding 1344 Ns to chr14:121852518-121853437\n",
      "Adding 1344 Ns to chr16:95196717-95197004\n",
      "Adding 1344 Ns to chr17:86456554-86457081\n",
      "Adding 1344 Ns to chr19:60064890-60065118\n",
      "Adding 1344 Ns to chr17:84876077-84876404\n",
      "Adding 1344 Ns to chr18:83035403-83035697\n",
      "Adding 1344 Ns to chr14:121259799-121260149\n",
      "Adding 1344 Ns to chr17:83819484-83819937\n",
      "Adding 1344 Ns to chr17:86629701-86630146\n",
      "Adding 1344 Ns to chr16:90999986-91000144\n",
      "Adding 1344 Ns to chr19:60147054-60147284\n",
      "Adding 1344 Ns to chr17:88483830-88484020\n",
      "Adding 1344 Ns to chr14:120805660-120806008\n",
      "Adding 1344 Ns to chr17:86411897-86412103\n",
      "Adding 1344 Ns to chr14:119720513-119720879\n",
      "Adding 1344 Ns to chr16:90654714-90655250\n",
      "Adding 1344 Ns to chr18:82051628-82051829\n",
      "Adding 1344 Ns to chr17:85473045-85473645\n",
      "Adding 1344 Ns to chr18:85254800-85255229\n",
      "Adding 1344 Ns to chr18:82390611-82390936\n"
     ]
    },
    {
     "name": "stdout",
     "output_type": "stream",
     "text": [
      "process 46000 peaks takes 12.5 s\n"
     ]
    },
    {
     "name": "stderr",
     "output_type": "stream",
     "text": [
      "Adding 1344 Ns to chrX:158769376-158769916\n",
      "Adding 1344 Ns to chr16:96062446-96062956\n",
      "Adding 1344 Ns to chr16:95654012-95654683\n",
      "Adding 1344 Ns to chr17:90584163-90584388\n",
      "Adding 1344 Ns to chr15:102686376-102686617\n",
      "Adding 1344 Ns to chr14:120632755-120633140\n",
      "Adding 1344 Ns to chr14:118972224-118972540\n",
      "Adding 1344 Ns to chr13:117829107-117829322\n",
      "Adding 1344 Ns to chrX:161480531-161480736\n",
      "Adding 1344 Ns to chr14:120709372-120709675\n",
      "Adding 1344 Ns to chr14:121327294-121327545\n",
      "Adding 1344 Ns to chr13:118715810-118716095\n",
      "Adding 1344 Ns to chr14:123554936-123555282\n",
      "Adding 1344 Ns to chr16:93935744-93936075\n",
      "Adding 1344 Ns to chr17:84865200-84865531\n",
      "Adding 1344 Ns to chr13:117233982-117234214\n",
      "Adding 1344 Ns to chr17:86840951-86841433\n",
      "Adding 1344 Ns to chr16:93102040-93102567\n",
      "Adding 1344 Ns to chr13:118372801-118373454\n",
      "Adding 1344 Ns to chr13:116488997-116489385\n",
      "Adding 1344 Ns to chrX:156809252-156809489\n",
      "Adding 1344 Ns to chr19:59742991-59743143\n",
      "Adding 1344 Ns to chr18:82792800-82793152\n",
      "Adding 1344 Ns to chr16:96258753-96258982\n",
      "Adding 1344 Ns to chr17:86204163-86204740\n",
      "Adding 1344 Ns to chrX:167523231-167523457\n",
      "Adding 1344 Ns to chr17:90744383-90744744\n",
      "Adding 1344 Ns to chr14:120033683-120034200\n"
     ]
    },
    {
     "name": "stdout",
     "output_type": "stream",
     "text": [
      "process 47000 peaks takes 12.8 s\n"
     ]
    },
    {
     "name": "stderr",
     "output_type": "stream",
     "text": [
      "Adding 1344 Ns to chr18:83778014-83778192\n",
      "Adding 1344 Ns to chrX:162556158-162556837\n",
      "Adding 1344 Ns to chr14:109241314-109241698\n",
      "Adding 1344 Ns to chr14:113050824-113051050\n",
      "Adding 1344 Ns to chrX:160748428-160748706\n",
      "Adding 1344 Ns to chr17:87562914-87563669\n",
      "Adding 1344 Ns to chr16:96641965-96642355\n",
      "Adding 1344 Ns to chrX:168842213-168842483\n",
      "Adding 1344 Ns to chr13:116795827-116796241\n",
      "Adding 1344 Ns to chr16:93379653-93379993\n",
      "Adding 1344 Ns to chr15:103323047-103323760\n",
      "Adding 1344 Ns to chr16:91946336-91946533\n",
      "Adding 1344 Ns to chrX:167987329-167987750\n",
      "Adding 1344 Ns to chr14:118904424-118904809\n",
      "Adding 1344 Ns to chr16:95827199-95827802\n",
      "Adding 1344 Ns to chr19:60743267-60743692\n",
      "Adding 1344 Ns to chr18:85187985-85188348\n",
      "Adding 1344 Ns to chr14:118937515-118938117\n",
      "Adding 1344 Ns to chr17:86201087-86201513\n",
      "Adding 1344 Ns to chr14:122074257-122074586\n",
      "Adding 1344 Ns to chr14:124243760-124243985\n",
      "Adding 1344 Ns to chr17:84258622-84259283\n",
      "Adding 1344 Ns to chr16:92716796-92716977\n"
     ]
    },
    {
     "name": "stdout",
     "output_type": "stream",
     "text": [
      "process 48000 peaks takes 13.0 s\n"
     ]
    },
    {
     "name": "stderr",
     "output_type": "stream",
     "text": [
      "Adding 1344 Ns to chr16:96145062-96145860\n",
      "Adding 1344 Ns to chr18:80604045-80604206\n",
      "Adding 1344 Ns to chr16:91612693-91613152\n",
      "Adding 1344 Ns to chr14:111523871-111524176\n",
      "Adding 1344 Ns to chr16:94781951-94783126\n",
      "Adding 1344 Ns to chrX:169201160-169201313\n",
      "Adding 1344 Ns to chr14:121270494-121271098\n",
      "Adding 1344 Ns to chrX:157292854-157293502\n",
      "Adding 1344 Ns to chrX:159946170-159946524\n",
      "Adding 1344 Ns to chr14:120678508-120679466\n",
      "Adding 1344 Ns to chr14:121871916-121872232\n",
      "Adding 1344 Ns to chr14:117330408-117330690\n",
      "Adding 1344 Ns to chr18:82634708-82634880\n",
      "Adding 1344 Ns to chr16:92099991-92100549\n",
      "Adding 1344 Ns to chr19:60389865-60390135\n",
      "Adding 1344 Ns to chr16:91280600-91280975\n",
      "Adding 1344 Ns to chr14:117895055-117896126\n",
      "Adding 1344 Ns to chr16:96528446-96528879\n",
      "Adding 1344 Ns to chrX:160914112-160914662\n",
      "Adding 1344 Ns to chr18:84245850-84246362\n",
      "Adding 1344 Ns to chr17:90614675-90614880\n",
      "Adding 1344 Ns to chr16:91471666-91471873\n",
      "Adding 1344 Ns to chrX:164437140-164437333\n",
      "Adding 1344 Ns to chr18:85799417-85799615\n",
      "Adding 1344 Ns to chr17:83943035-83943527\n",
      "Adding 1344 Ns to chr17:87585223-87585473\n",
      "Adding 1344 Ns to chr14:120626765-120627005\n",
      "Adding 1344 Ns to chr16:95584396-95584545\n",
      "Adding 1344 Ns to chr14:120561316-120561651\n",
      "Adding 1344 Ns to chr14:121535847-121536210\n",
      "Adding 1344 Ns to chr16:97401717-97402184\n"
     ]
    },
    {
     "name": "stdout",
     "output_type": "stream",
     "text": [
      "process 49000 peaks takes 13.3 s\n"
     ]
    },
    {
     "name": "stderr",
     "output_type": "stream",
     "text": [
      "Adding 1344 Ns to chr16:93246647-93247246\n",
      "Adding 1344 Ns to chr16:91875515-91876361\n",
      "Adding 1344 Ns to chr14:108747699-108747857\n",
      "Adding 1344 Ns to chr17:83312215-83313037\n",
      "Adding 1344 Ns to chr17:86791213-86791613\n",
      "Adding 1344 Ns to chr18:89012934-89013150\n",
      "Adding 1344 Ns to chr14:112239485-112239882\n",
      "Adding 1344 Ns to chrX:158394105-158395039\n",
      "Adding 1344 Ns to chr17:90094927-90095406\n",
      "Adding 1344 Ns to chr18:89179399-89179902\n",
      "Adding 1344 Ns to chr16:96243884-96244070\n",
      "Adding 1344 Ns to chrX:159719520-159719927\n",
      "Adding 1344 Ns to chr19:60457723-60458112\n",
      "Adding 1344 Ns to chr19:61084325-61084850\n",
      "Adding 1344 Ns to chrX:158809911-158810344\n",
      "Adding 1344 Ns to chrX:164952684-164952943\n",
      "Adding 1344 Ns to chr19:59943085-59944087\n",
      "Adding 1344 Ns to chr16:91712246-91712449\n",
      "Adding 1344 Ns to chr16:94866578-94866985\n",
      "Adding 1344 Ns to chr14:116957203-116957472\n",
      "Adding 1344 Ns to chr14:118607792-118608134\n",
      "Adding 1344 Ns to chrX:161572623-161573140\n",
      "Adding 1344 Ns to chr18:88098016-88098319\n",
      "Adding 1344 Ns to chr16:90460337-90460634\n",
      "Adding 1344 Ns to chr17:86365359-86365527\n",
      "Adding 1344 Ns to chr13:119710290-119710478\n",
      "Adding 1344 Ns to chr15:103163133-103163737\n",
      "Adding 1344 Ns to chr17:89861359-89861613\n",
      "Adding 1344 Ns to chr17:87364244-87364437\n",
      "Adding 1344 Ns to chr13:117289491-117289995\n",
      "Adding 1344 Ns to chr17:91385878-91386443\n",
      "Adding 1344 Ns to chr14:120848689-120849511\n",
      "Adding 1344 Ns to chr16:95815408-95816109\n",
      "Adding 1344 Ns to chr14:115475293-115475681\n"
     ]
    },
    {
     "name": "stdout",
     "output_type": "stream",
     "text": [
      "process 50000 peaks takes 13.6 s\n"
     ]
    },
    {
     "name": "stderr",
     "output_type": "stream",
     "text": [
      "Adding 1344 Ns to chr17:83681868-83682350\n",
      "Adding 1344 Ns to chr17:90454166-90454630\n",
      "Adding 1344 Ns to chrX:157873795-157873954\n",
      "Adding 1344 Ns to chr17:88567572-88567970\n",
      "Adding 1344 Ns to chr17:88899096-88899692\n",
      "Adding 1344 Ns to chrX:162913635-162914088\n",
      "Adding 1344 Ns to chr17:88817488-88817945\n",
      "Adding 1344 Ns to chr17:86769908-86770198\n",
      "Adding 1344 Ns to chr14:114750693-114751022\n",
      "Adding 1344 Ns to chr17:86433717-86434255\n",
      "Adding 1344 Ns to chr13:117742847-117743351\n",
      "Adding 1344 Ns to chr17:90797534-90798091\n",
      "Adding 1344 Ns to chr17:90007699-90008261\n",
      "Adding 1344 Ns to chr18:85659013-85659446\n",
      "Adding 1344 Ns to chr14:108812346-108812610\n",
      "Adding 1344 Ns to chr16:97024456-97024787\n",
      "Adding 1344 Ns to chrX:157838489-157838857\n",
      "Adding 1344 Ns to chr14:116979951-116980637\n",
      "Adding 1344 Ns to chr17:94172956-94173596\n",
      "Adding 1344 Ns to chr14:124317168-124317332\n",
      "Adding 1344 Ns to chr16:97072466-97073181\n",
      "Adding 1344 Ns to chr17:85926366-85926664\n",
      "Adding 1344 Ns to chr14:122721724-122722073\n"
     ]
    },
    {
     "name": "stdout",
     "output_type": "stream",
     "text": [
      "process 51000 peaks takes 13.8 s\n"
     ]
    },
    {
     "name": "stderr",
     "output_type": "stream",
     "text": [
      "Adding 1344 Ns to chr14:120595583-120596159\n",
      "Adding 1344 Ns to chr14:118922278-118922467\n",
      "Adding 1344 Ns to chrX:157995728-157995909\n",
      "Adding 1344 Ns to chr14:116208947-116209610\n",
      "Adding 1344 Ns to chr14:117407888-117408371\n",
      "Adding 1344 Ns to chr14:119502659-119503070\n",
      "Adding 1344 Ns to chr14:111676946-111677370\n",
      "Adding 1344 Ns to chr16:90686084-90686403\n",
      "Adding 1344 Ns to chr18:81975223-81975820\n",
      "Adding 1344 Ns to chrX:167812277-167812803\n",
      "Adding 1344 Ns to chr16:96468210-96468359\n",
      "Adding 1344 Ns to chr15:103172571-103172860\n",
      "Adding 1344 Ns to chrX:166621512-166622177\n",
      "Adding 1344 Ns to chr18:80764929-80765185\n",
      "Adding 1344 Ns to chr16:94906036-94906528\n",
      "Adding 1344 Ns to chr14:122081834-122082143\n",
      "Adding 1344 Ns to chr14:111166039-111166277\n",
      "Adding 1344 Ns to chrX:161635132-161635460\n",
      "Adding 1344 Ns to chr18:85155089-85156060\n",
      "Adding 1344 Ns to chr16:90801992-90802238\n",
      "Adding 1344 Ns to chr16:91191344-91192351\n",
      "Adding 1344 Ns to chr17:88209478-88209631\n",
      "Adding 1344 Ns to chr14:120815891-120816303\n",
      "Adding 1344 Ns to chrX:167934445-167934923\n",
      "Adding 1344 Ns to chrX:162510445-162510985\n",
      "Adding 1344 Ns to chr18:83676728-83677119\n",
      "Adding 1344 Ns to chr14:110399054-110399436\n",
      "Adding 1344 Ns to chr18:81127905-81128170\n",
      "Adding 1344 Ns to chr15:102239251-102239670\n",
      "Adding 1344 Ns to chr18:81152632-81153110\n",
      "Adding 1344 Ns to chr17:84146012-84146164\n",
      "Adding 1344 Ns to chr17:89197249-89197617\n",
      "Adding 1344 Ns to chr16:96680023-96680435\n",
      "Adding 1344 Ns to chr16:97673629-97674036\n"
     ]
    },
    {
     "name": "stdout",
     "output_type": "stream",
     "text": [
      "process 52000 peaks takes 14.1 s\n"
     ]
    },
    {
     "name": "stderr",
     "output_type": "stream",
     "text": [
      "Adding 1344 Ns to chr15:103313497-103313873\n",
      "Adding 1344 Ns to chrX:163848593-163849094\n",
      "Adding 1344 Ns to chr14:124322165-124322405\n",
      "Adding 1344 Ns to chr17:91275871-91276251\n",
      "Adding 1344 Ns to chr15:103536813-103537542\n",
      "Adding 1344 Ns to chr18:83737193-83737408\n",
      "Adding 1344 Ns to chr17:87391113-87391642\n",
      "Adding 1344 Ns to chrX:161373508-161373771\n",
      "Adding 1344 Ns to chr16:94289087-94289645\n",
      "Adding 1344 Ns to chr14:110832066-110832334\n",
      "Adding 1344 Ns to chr16:94227709-94228001\n",
      "Adding 1344 Ns to chr16:91583983-91584271\n",
      "Adding 1344 Ns to chr17:86054549-86054852\n",
      "Adding 1344 Ns to chr13:117024272-117024985\n",
      "Adding 1344 Ns to chr17:86150809-86151334\n",
      "Adding 1344 Ns to chr14:120061173-120061413\n",
      "Adding 1344 Ns to chr14:116108262-116108632\n",
      "Adding 1344 Ns to chr17:83365989-83366393\n",
      "Adding 1344 Ns to chr17:84474378-84474804\n",
      "Adding 1344 Ns to chrX:158655970-158656251\n",
      "Adding 1344 Ns to chrX:167331861-167332128\n",
      "Adding 1344 Ns to chrX:168168935-168169225\n",
      "Adding 1344 Ns to chr17:84419361-84419640\n",
      "Adding 1344 Ns to chr13:115697911-115698284\n",
      "Adding 1344 Ns to chr16:94534610-94535038\n",
      "Adding 1344 Ns to chr17:94133141-94133683\n",
      "Adding 1344 Ns to chr18:82613310-82613882\n",
      "Adding 1344 Ns to chrX:159415414-159415778\n",
      "Adding 1344 Ns to chr14:123626473-123627389\n",
      "Adding 1344 Ns to chr17:87531449-87531908\n",
      "Adding 1344 Ns to chr14:119857174-119857906\n",
      "Adding 1344 Ns to chr16:94651740-94652621\n",
      "Adding 1344 Ns to chr17:91092381-91093572\n"
     ]
    },
    {
     "name": "stdout",
     "output_type": "stream",
     "text": [
      "process 53000 peaks takes 14.4 s\n"
     ]
    },
    {
     "name": "stderr",
     "output_type": "stream",
     "text": [
      "Adding 1344 Ns to chr14:115821025-115821339\n",
      "Adding 1344 Ns to chr14:121480110-121480429\n",
      "Adding 1344 Ns to chr17:88379364-88379590\n",
      "Adding 1344 Ns to chrX:167205837-167206140\n",
      "Adding 1344 Ns to chrX:163957837-163959015\n",
      "Adding 1344 Ns to chr14:111996235-111996629\n",
      "Adding 1344 Ns to chr17:87236596-87236841\n",
      "Adding 1344 Ns to chr14:119040331-119040587\n",
      "Adding 1344 Ns to chrX:167814105-167814894\n",
      "Adding 1344 Ns to chr13:118379200-118379482\n",
      "Adding 1344 Ns to chr17:93263202-93263421\n",
      "Adding 1344 Ns to chr18:83536822-83537053\n",
      "Adding 1344 Ns to chr18:81962130-81962358\n",
      "Adding 1344 Ns to chr16:96740059-96740867\n",
      "Adding 1344 Ns to chr13:118204669-118204855\n",
      "Adding 1344 Ns to chr14:119466828-119467475\n",
      "Adding 1344 Ns to chr16:94447220-94447433\n",
      "Adding 1344 Ns to chr16:91639605-91639987\n",
      "Adding 1344 Ns to chrX:156594839-156595234\n",
      "Adding 1344 Ns to chr17:90501120-90501565\n",
      "Adding 1344 Ns to chr16:90385327-90386234\n",
      "Adding 1344 Ns to chr13:114456205-114456472\n",
      "Adding 1344 Ns to chr18:82677125-82677734\n"
     ]
    },
    {
     "name": "stdout",
     "output_type": "stream",
     "text": [
      "process 0 peaks takes 0.3 s\n"
     ]
    },
    {
     "name": "stderr",
     "output_type": "stream",
     "text": [
      "Adding 1344 Ns to chr15:103090816-103091272\n",
      "Adding 1344 Ns to chrX:166334384-166334959\n",
      "Adding 1344 Ns to chr18:82728764-82729412\n",
      "Adding 1344 Ns to chr17:84610506-84610741\n",
      "Adding 1344 Ns to chr19:60712181-60712467\n",
      "Adding 1344 Ns to chr14:121435683-121436291\n",
      "Adding 1344 Ns to chr13:115031289-115031550\n",
      "Adding 1344 Ns to chr18:81038829-81038995\n",
      "Adding 1344 Ns to chr17:85440825-85441199\n",
      "Adding 1344 Ns to chr16:96113525-96113843\n",
      "Adding 1344 Ns to chr14:115819124-115819350\n",
      "Adding 1344 Ns to chr17:84510269-84510809\n",
      "Adding 1344 Ns to chr14:110041231-110041655\n",
      "Adding 1344 Ns to chr16:94331943-94332102\n",
      "Adding 1344 Ns to chr15:103552145-103552415\n",
      "Adding 1344 Ns to chrX:168781515-168781714\n",
      "Adding 1344 Ns to chr17:86315034-86315422\n",
      "Adding 1344 Ns to chrX:162472596-162472791\n",
      "Adding 1344 Ns to chr17:83563999-83564187\n",
      "Adding 1344 Ns to chr19:60861050-60861695\n",
      "Adding 1344 Ns to chr14:113627116-113627561\n",
      "Adding 1344 Ns to chr14:120993367-120993561\n",
      "Adding 1344 Ns to chr18:80377258-80378113\n",
      "Adding 1344 Ns to chr18:89487515-89488007\n",
      "Adding 1344 Ns to chrX:159701074-159701481\n",
      "Adding 1344 Ns to chr14:119779774-119780137\n",
      "Adding 1344 Ns to chr14:111584476-111584691\n",
      "Adding 1344 Ns to chr16:91884338-91884487\n",
      "Adding 1344 Ns to chr18:85295454-85295774\n",
      "Adding 1344 Ns to chr18:84293664-84294306\n",
      "Adding 1344 Ns to chr18:82750935-82751683\n"
     ]
    },
    {
     "name": "stdout",
     "output_type": "stream",
     "text": [
      "process 1000 peaks takes 0.5 s\n"
     ]
    },
    {
     "name": "stderr",
     "output_type": "stream",
     "text": [
      "Adding 1344 Ns to chr17:87044306-87044750\n",
      "Adding 1344 Ns to chr16:95293013-95293917\n",
      "Adding 1344 Ns to chr14:119557624-119557912\n",
      "Adding 1344 Ns to chr14:121107861-121108238\n",
      "Adding 1344 Ns to chr18:83290654-83291127\n",
      "Adding 1344 Ns to chr14:124634779-124635324\n",
      "Adding 1344 Ns to chr17:83449657-83450209\n",
      "Adding 1344 Ns to chr16:96725436-96725714\n",
      "Adding 1344 Ns to chr14:114556818-114557275\n",
      "Adding 1344 Ns to chr17:87167362-87167799\n",
      "Adding 1344 Ns to chr15:102192420-102192783\n",
      "Adding 1344 Ns to chr17:86392531-86392846\n",
      "Adding 1344 Ns to chr17:83323724-83323948\n",
      "Adding 1344 Ns to chrX:162448543-162448734\n",
      "Adding 1344 Ns to chr16:93381240-93381591\n",
      "Adding 1344 Ns to chr14:108821313-108822062\n",
      "Adding 1344 Ns to chr17:88613777-88613974\n",
      "Adding 1344 Ns to chr16:93377168-93377367\n",
      "Adding 1344 Ns to chrX:157981822-157982250\n"
     ]
    },
    {
     "name": "stdout",
     "output_type": "stream",
     "text": [
      "process 2000 peaks takes 0.8 s\n"
     ]
    },
    {
     "name": "stderr",
     "output_type": "stream",
     "text": [
      "Adding 1344 Ns to chr17:90542630-90542875\n",
      "Adding 1344 Ns to chr14:120897715-120898074\n",
      "Adding 1344 Ns to chrX:167436403-167436790\n",
      "Adding 1344 Ns to chrX:161689377-161689644\n",
      "Adding 1344 Ns to chr14:110225203-110225597\n",
      "Adding 1344 Ns to chr14:111517647-111518032\n",
      "Adding 1344 Ns to chr16:96514673-96514869\n",
      "Adding 1344 Ns to chr16:96034357-96034937\n",
      "Adding 1344 Ns to chr18:88468558-88469114\n",
      "Adding 1344 Ns to chr14:122002300-122002574\n",
      "Adding 1344 Ns to chr16:91896354-91897077\n",
      "Adding 1344 Ns to chr16:95413471-95414054\n",
      "Adding 1344 Ns to chr16:93812573-93812871\n",
      "Adding 1344 Ns to chr16:90673373-90674083\n",
      "Adding 1344 Ns to chr17:90400508-90400851\n",
      "Adding 1344 Ns to chr16:94350034-94350214\n",
      "Adding 1344 Ns to chr19:58750657-58751213\n",
      "Adding 1344 Ns to chr17:83741163-83741563\n",
      "Adding 1344 Ns to chr14:118090139-118090522\n",
      "Adding 1344 Ns to chr14:119840407-119840796\n",
      "Adding 1344 Ns to chr18:82620868-82621869\n",
      "Adding 1344 Ns to chr18:84734652-84735103\n",
      "Adding 1344 Ns to chr15:102331513-102332211\n",
      "Adding 1344 Ns to chr17:89081328-89081714\n",
      "Adding 1344 Ns to chr15:103457965-103458122\n",
      "Adding 1344 Ns to chr17:86283842-86284067\n",
      "Adding 1344 Ns to chrX:167886096-167886496\n",
      "Adding 1344 Ns to chr13:116714880-116715163\n",
      "Adding 1344 Ns to chr14:124109183-124109533\n",
      "Adding 1344 Ns to chr17:91013808-91014345\n",
      "Adding 1344 Ns to chr17:84989492-84989988\n",
      "Adding 1344 Ns to chr15:102732460-102732809\n",
      "Adding 1344 Ns to chr14:120369005-120369375\n",
      "Adding 1344 Ns to chrX:162159446-162159631\n",
      "Adding 1344 Ns to chr15:102870924-102871301\n",
      "Adding 1344 Ns to chr14:120757577-120757851\n",
      "Adding 1344 Ns to chr14:110618781-110618940\n",
      "Adding 1344 Ns to chr14:114563179-114563454\n"
     ]
    },
    {
     "name": "stdout",
     "output_type": "stream",
     "text": [
      "process 0 peaks takes 0.4 s\n"
     ]
    },
    {
     "name": "stderr",
     "output_type": "stream",
     "text": [
      "Adding 1344 Ns to chr16:90453141-90453703\n",
      "Adding 1344 Ns to chr19:59280952-59281180\n",
      "Adding 1344 Ns to chrX:167518091-167518819\n",
      "Adding 1344 Ns to chr14:113519458-113519849\n",
      "Adding 1344 Ns to chr18:84930496-84930788\n",
      "Adding 1344 Ns to chr13:114878688-114879137\n",
      "Adding 1344 Ns to chr16:95446579-95446754\n",
      "Adding 1344 Ns to chr14:117940394-117940662\n",
      "Adding 1344 Ns to chr17:87521783-87522181\n",
      "Adding 1344 Ns to chr14:109660514-109660730\n",
      "Adding 1344 Ns to chr17:90039761-90040181\n",
      "Adding 1344 Ns to chr16:94313166-94314123\n",
      "Adding 1344 Ns to chr13:115131495-115131764\n",
      "Adding 1344 Ns to chr14:119347281-119347852\n",
      "Adding 1344 Ns to chr17:93510170-93510534\n",
      "Adding 1344 Ns to chr16:94919448-94919611\n",
      "Adding 1344 Ns to chr16:97343583-97343851\n",
      "Adding 1344 Ns to chr19:58931176-58931528\n",
      "Adding 1344 Ns to chr13:119393143-119393371\n",
      "Adding 1344 Ns to chr14:119809471-119809620\n",
      "Adding 1344 Ns to chr15:102500716-102500882\n",
      "Adding 1344 Ns to chr14:123837586-123838254\n",
      "Adding 1344 Ns to chr16:95701792-95702795\n",
      "Adding 1344 Ns to chr17:90383160-90383426\n",
      "Adding 1344 Ns to chr18:82480221-82480495\n",
      "Adding 1344 Ns to chrX:168747118-168747314\n",
      "Adding 1344 Ns to chr15:102194377-102194796\n",
      "Adding 1344 Ns to chr13:117603044-117603311\n",
      "Adding 1344 Ns to chr17:84187799-84188802\n",
      "Adding 1344 Ns to chr17:83335184-83335566\n",
      "Adding 1344 Ns to chr14:120826276-120826571\n",
      "Adding 1344 Ns to chr17:85292272-85292887\n",
      "Adding 1344 Ns to chr14:117633892-117634157\n"
     ]
    },
    {
     "name": "stdout",
     "output_type": "stream",
     "text": [
      "process 1000 peaks takes 0.8 s\n",
      "Namespace(ad_file='2024-01-27-06_43_00data/atac1.h5ad', input_fasta='hg38.fa', out_path='2024-01-27-06_43_00processed/processed1')\n",
      "successful writing h5ad file.\n",
      "successful writing bed file.\n",
      "successful writing split file.\n",
      "successful writing sparse m.\n"
     ]
    },
    {
     "name": "stderr",
     "output_type": "stream",
     "text": [
      "Adding 1344 Ns to chr17:83600889-83601563\n",
      "Adding 1344 Ns to chr19:60765721-60765873\n",
      "Adding 1344 Ns to chr18:85582543-85582875\n",
      "Adding 1344 Ns to chr14:119558419-119559244\n",
      "Adding 1344 Ns to chr17:86040349-86040611\n",
      "Adding 1344 Ns to chr15:102302400-102302962\n",
      "Adding 1344 Ns to chr14:109081295-109081618\n",
      "Adding 1344 Ns to chr16:97250940-97251213\n",
      "Adding 1344 Ns to chr18:83732269-83732490\n",
      "Adding 1344 Ns to chr14:121742236-121742504\n",
      "Adding 1344 Ns to chrX:162645776-162646017\n",
      "Adding 1344 Ns to chr15:103182050-103182703\n",
      "Adding 1344 Ns to chrX:165765610-165766013\n",
      "Adding 1344 Ns to chr17:83859790-83860132\n",
      "Adding 1344 Ns to chr16:92991439-92991805\n",
      "Adding 1344 Ns to chr16:94882021-94882566\n",
      "Adding 1344 Ns to chrX:166214320-166215111\n",
      "Adding 1344 Ns to chr15:102108040-102108319\n",
      "Adding 1344 Ns to chr16:94866578-94866985\n",
      "Adding 1344 Ns to chr17:83277371-83278121\n",
      "Adding 1344 Ns to chr16:96915644-96915966\n",
      "Adding 1344 Ns to chr17:83552615-83553064\n"
     ]
    },
    {
     "name": "stdout",
     "output_type": "stream",
     "text": [
      "process 0 peaks takes 0.3 s\n"
     ]
    },
    {
     "name": "stderr",
     "output_type": "stream",
     "text": [
      "Adding 1344 Ns to chr18:85241532-85241848\n",
      "Adding 1344 Ns to chr18:84239069-84239366\n",
      "Adding 1344 Ns to chr16:96634036-96634605\n",
      "Adding 1344 Ns to chr14:114543947-114544289\n",
      "Adding 1344 Ns to chrX:162509294-162510022\n",
      "Adding 1344 Ns to chr19:60837757-60838224\n",
      "Adding 1344 Ns to chr16:95802202-95803187\n",
      "Adding 1344 Ns to chr16:96740059-96740867\n",
      "Adding 1344 Ns to chrX:166243320-166243601\n",
      "Adding 1344 Ns to chr13:118271164-118271412\n",
      "Adding 1344 Ns to chr14:117426018-117426505\n",
      "Adding 1344 Ns to chr16:97602238-97602636\n",
      "Adding 1344 Ns to chr17:86121797-86121958\n",
      "Adding 1344 Ns to chr16:93379653-93379993\n",
      "Adding 1344 Ns to chr18:82006394-82007069\n",
      "Adding 1344 Ns to chr16:96498835-96499587\n",
      "Adding 1344 Ns to chr17:91046350-91046577\n",
      "Adding 1344 Ns to chrX:166147363-166147823\n",
      "Adding 1344 Ns to chrX:168020875-168021059\n",
      "Adding 1344 Ns to chr14:117767336-117767590\n",
      "Adding 1344 Ns to chr16:95334041-95334529\n",
      "Adding 1344 Ns to chr18:80408619-80408797\n",
      "Adding 1344 Ns to chr14:122436808-122437146\n"
     ]
    },
    {
     "name": "stdout",
     "output_type": "stream",
     "text": [
      "process 1000 peaks takes 0.6 s\n"
     ]
    },
    {
     "name": "stderr",
     "output_type": "stream",
     "text": [
      "Adding 1344 Ns to chr14:109434108-109434544\n",
      "Adding 1344 Ns to chr17:86135646-86136316\n",
      "Adding 1344 Ns to chr19:59394006-59394662\n",
      "Adding 1344 Ns to chr16:96102937-96103391\n",
      "Adding 1344 Ns to chrX:159291697-159291977\n",
      "Adding 1344 Ns to chr17:87477650-87478047\n",
      "Adding 1344 Ns to chr16:92435440-92436086\n",
      "Adding 1344 Ns to chr16:92432381-92432997\n",
      "Adding 1344 Ns to chr16:97701159-97701376\n",
      "Adding 1344 Ns to chr17:89974422-89974677\n",
      "Adding 1344 Ns to chr14:112248113-112248574\n",
      "Adding 1344 Ns to chr16:95225097-95226141\n",
      "Adding 1344 Ns to chr16:92478541-92478850\n",
      "Adding 1344 Ns to chr16:94640919-94641083\n",
      "Adding 1344 Ns to chr16:91743130-91743331\n",
      "Adding 1344 Ns to chr15:102246325-102248150\n",
      "Adding 1344 Ns to chr13:114845728-114846069\n",
      "Adding 1344 Ns to chr16:90608092-90608574\n",
      "Adding 1344 Ns to chr18:83067060-83067446\n",
      "Adding 1344 Ns to chr16:95602549-95602837\n",
      "Adding 1344 Ns to chr14:122181373-122182099\n",
      "Adding 1344 Ns to chr17:86791213-86791613\n",
      "Adding 1344 Ns to chr15:102316329-102316565\n",
      "Adding 1344 Ns to chr16:93766949-93767346\n",
      "Adding 1344 Ns to chr16:93202726-93202906\n",
      "Adding 1344 Ns to chr17:90130124-90130401\n"
     ]
    },
    {
     "name": "stdout",
     "output_type": "stream",
     "text": [
      "process 2000 peaks takes 0.8 s\n"
     ]
    },
    {
     "name": "stderr",
     "output_type": "stream",
     "text": [
      "Adding 1344 Ns to chr16:90946567-90946829\n",
      "Adding 1344 Ns to chr17:84642993-84643493\n",
      "Adding 1344 Ns to chr14:121254077-121254285\n",
      "Adding 1344 Ns to chr14:119203327-119203944\n",
      "Adding 1344 Ns to chr16:96039263-96039897\n",
      "Adding 1344 Ns to chr14:120830278-120830861\n",
      "Adding 1344 Ns to chrX:168997328-168997786\n",
      "Adding 1344 Ns to chr19:58762409-58762639\n",
      "Adding 1344 Ns to chr14:122858061-122858387\n",
      "Adding 1344 Ns to chr14:115095601-115095882\n",
      "Adding 1344 Ns to chr18:88924387-88924987\n",
      "Adding 1344 Ns to chrX:166843919-166844277\n",
      "Adding 1344 Ns to chr16:93981206-93981742\n",
      "Adding 1344 Ns to chr16:92314125-92314607\n",
      "Adding 1344 Ns to chr18:82396685-82397533\n",
      "Adding 1344 Ns to chr19:60196179-60196390\n",
      "Adding 1344 Ns to chr18:82599487-82600223\n",
      "Adding 1344 Ns to chr18:86442676-86443089\n"
     ]
    },
    {
     "name": "stdout",
     "output_type": "stream",
     "text": [
      "process 3000 peaks takes 1.1 s\n"
     ]
    },
    {
     "name": "stderr",
     "output_type": "stream",
     "text": [
      "Adding 1344 Ns to chr17:89089944-89090349\n",
      "Adding 1344 Ns to chr17:83783374-83783642\n",
      "Adding 1344 Ns to chr14:121165320-121166216\n",
      "Adding 1344 Ns to chr17:87571328-87571979\n",
      "Adding 1344 Ns to chr14:122060659-122061223\n",
      "Adding 1344 Ns to chr14:124003402-124003763\n",
      "Adding 1344 Ns to chr17:86380385-86380657\n",
      "Adding 1344 Ns to chr14:109257197-109257710\n",
      "Adding 1344 Ns to chr14:108994590-108994849\n",
      "Adding 1344 Ns to chr13:117012118-117012364\n",
      "Adding 1344 Ns to chr16:92450362-92450866\n",
      "Adding 1344 Ns to chr14:121322574-121323155\n",
      "Adding 1344 Ns to chr14:109699955-109700147\n",
      "Adding 1344 Ns to chr17:90809216-90809710\n",
      "Adding 1344 Ns to chr14:117931060-117931832\n",
      "Adding 1344 Ns to chr14:114912288-114912585\n",
      "Adding 1344 Ns to chr13:117074482-117074676\n",
      "Adding 1344 Ns to chrX:159867609-159868146\n",
      "Adding 1344 Ns to chr18:83086048-83086378\n",
      "Adding 1344 Ns to chrX:167014486-167014781\n",
      "Adding 1344 Ns to chrX:158535722-158536132\n",
      "Adding 1344 Ns to chr14:119708138-119708473\n",
      "Adding 1344 Ns to chr17:84763130-84763505\n",
      "Adding 1344 Ns to chr14:117998923-117999245\n"
     ]
    },
    {
     "name": "stdout",
     "output_type": "stream",
     "text": [
      "process 4000 peaks takes 1.4 s\n"
     ]
    },
    {
     "name": "stderr",
     "output_type": "stream",
     "text": [
      "Adding 1344 Ns to chrX:160619284-160619879\n",
      "Adding 1344 Ns to chr17:90667713-90667907\n",
      "Adding 1344 Ns to chrX:160583623-160584108\n",
      "Adding 1344 Ns to chrX:167331861-167332128\n",
      "Adding 1344 Ns to chr16:95436550-95436951\n",
      "Adding 1344 Ns to chr17:84987100-84987320\n",
      "Adding 1344 Ns to chr13:116976288-116976681\n",
      "Adding 1344 Ns to chrX:167552808-167553320\n",
      "Adding 1344 Ns to chr15:103136533-103136783\n",
      "Adding 1344 Ns to chr16:94845785-94846122\n",
      "Adding 1344 Ns to chr14:110146206-110146473\n",
      "Adding 1344 Ns to chr14:120669606-120670213\n",
      "Adding 1344 Ns to chr16:94730894-94731411\n",
      "Adding 1344 Ns to chr17:94194504-94194900\n",
      "Adding 1344 Ns to chr14:119820577-119820851\n",
      "Adding 1344 Ns to chr17:88251957-88252365\n",
      "Adding 1344 Ns to chr19:58704455-58704968\n",
      "Adding 1344 Ns to chr18:83929307-83929815\n",
      "Adding 1344 Ns to chr14:123353035-123353287\n",
      "Adding 1344 Ns to chr14:111485578-111485998\n",
      "Adding 1344 Ns to chr14:118883381-118883670\n",
      "Adding 1344 Ns to chr13:117079330-117079603\n",
      "Adding 1344 Ns to chr13:115852770-115853250\n",
      "Adding 1344 Ns to chr17:94730541-94730769\n",
      "Adding 1344 Ns to chr14:120632755-120633140\n",
      "Adding 1344 Ns to chr18:82750935-82751683\n",
      "Adding 1344 Ns to chr13:119800948-119801302\n"
     ]
    },
    {
     "name": "stdout",
     "output_type": "stream",
     "text": [
      "process 5000 peaks takes 1.6 s\n"
     ]
    },
    {
     "name": "stderr",
     "output_type": "stream",
     "text": [
      "Adding 1344 Ns to chr14:117930591-117930998\n",
      "Adding 1344 Ns to chrX:158180326-158180889\n",
      "Adding 1344 Ns to chr14:111096205-111096653\n",
      "Adding 1344 Ns to chrX:157781257-157781459\n",
      "Adding 1344 Ns to chr13:114378980-114379598\n",
      "Adding 1344 Ns to chr16:97144549-97144850\n",
      "Adding 1344 Ns to chr17:90859238-90859525\n",
      "Adding 1344 Ns to chr18:82910538-82911102\n",
      "Adding 1344 Ns to chr14:124536323-124536490\n",
      "Adding 1344 Ns to chr17:90138253-90138474\n",
      "Adding 1344 Ns to chr16:96857583-96857958\n",
      "Adding 1344 Ns to chr14:113470018-113470595\n",
      "Adding 1344 Ns to chr13:119712299-119712887\n",
      "Adding 1344 Ns to chr17:90759908-90760378\n",
      "Adding 1344 Ns to chr14:123371512-123371848\n",
      "Adding 1344 Ns to chr16:91443260-91443738\n",
      "Adding 1344 Ns to chr18:89012934-89013150\n",
      "Adding 1344 Ns to chr18:84618616-84618807\n",
      "Adding 1344 Ns to chrX:166225524-166226014\n",
      "Adding 1344 Ns to chrX:163205525-163205744\n",
      "Adding 1344 Ns to chr14:124409436-124409600\n",
      "Adding 1344 Ns to chrX:166665338-166665649\n",
      "Adding 1344 Ns to chr14:120953506-120953722\n",
      "Adding 1344 Ns to chr14:117408508-117408792\n",
      "Adding 1344 Ns to chr16:96493365-96493684\n",
      "Adding 1344 Ns to chr15:102217364-102217750\n",
      "Adding 1344 Ns to chr17:83481632-83481964\n",
      "Adding 1344 Ns to chr14:121604187-121604339\n",
      "Adding 1344 Ns to chr18:80807289-80807605\n",
      "Adding 1344 Ns to chr15:102325923-102326865\n"
     ]
    },
    {
     "name": "stdout",
     "output_type": "stream",
     "text": [
      "process 6000 peaks takes 1.9 s\n"
     ]
    },
    {
     "name": "stderr",
     "output_type": "stream",
     "text": [
      "Adding 1344 Ns to chr14:114981206-114981429\n",
      "Adding 1344 Ns to chr16:95815408-95816109\n",
      "Adding 1344 Ns to chr13:119337945-119338198\n",
      "Adding 1344 Ns to chr18:82901953-82902187\n",
      "Adding 1344 Ns to chr17:87964497-87964854\n",
      "Adding 1344 Ns to chrX:161030321-161030573\n",
      "Adding 1344 Ns to chr18:82104969-82105492\n",
      "Adding 1344 Ns to chrX:164437758-164438129\n",
      "Adding 1344 Ns to chr14:119123035-119123196\n",
      "Adding 1344 Ns to chr14:110130577-110130983\n",
      "Adding 1344 Ns to chr18:84397209-84397431\n",
      "Adding 1344 Ns to chr17:92542189-92542867\n",
      "Adding 1344 Ns to chr14:118676433-118677049\n",
      "Adding 1344 Ns to chr14:116208947-116209610\n",
      "Adding 1344 Ns to chr16:95300388-95300831\n",
      "Adding 1344 Ns to chr18:88468558-88469114\n",
      "Adding 1344 Ns to chr17:89682413-89682802\n",
      "Adding 1344 Ns to chr19:58838574-58839170\n",
      "Adding 1344 Ns to chr17:84999713-85000105\n",
      "Adding 1344 Ns to chr14:115641875-115642345\n",
      "Adding 1344 Ns to chr14:108180503-108180728\n",
      "Adding 1344 Ns to chr18:85289061-85289510\n",
      "Adding 1344 Ns to chr13:114458509-114459359\n",
      "Adding 1344 Ns to chr17:85062855-85063193\n",
      "Adding 1344 Ns to chr18:86407581-86407762\n",
      "Adding 1344 Ns to chr18:90545830-90546033\n",
      "Adding 1344 Ns to chr18:83450926-83451308\n"
     ]
    },
    {
     "name": "stdout",
     "output_type": "stream",
     "text": [
      "process 7000 peaks takes 2.2 s\n"
     ]
    },
    {
     "name": "stderr",
     "output_type": "stream",
     "text": [
      "Adding 1344 Ns to chr18:86187292-86187621\n",
      "Adding 1344 Ns to chrX:157818621-157818887\n",
      "Adding 1344 Ns to chr15:102673575-102673931\n",
      "Adding 1344 Ns to chrX:156594839-156595234\n",
      "Adding 1344 Ns to chr13:119768512-119769143\n",
      "Adding 1344 Ns to chr14:120835835-120836113\n",
      "Adding 1344 Ns to chr17:87426812-87427051\n",
      "Adding 1344 Ns to chrX:166660873-166662240\n",
      "Adding 1344 Ns to chr15:102746128-102747300\n",
      "Adding 1344 Ns to chr14:111437397-111437673\n",
      "Adding 1344 Ns to chr14:108370690-108370952\n",
      "Adding 1344 Ns to chr16:92158474-92159340\n",
      "Adding 1344 Ns to chrX:168649311-168649801\n",
      "Adding 1344 Ns to chr17:90558273-90558694\n",
      "Adding 1344 Ns to chr14:116276888-116277150\n",
      "Adding 1344 Ns to chr17:84669732-84670092\n",
      "Adding 1344 Ns to chr16:97526926-97527345\n",
      "Adding 1344 Ns to chr16:97875817-97876139\n",
      "Adding 1344 Ns to chr14:116377382-116377666\n",
      "Adding 1344 Ns to chr15:103258309-103258804\n",
      "Adding 1344 Ns to chr18:85308373-85308542\n",
      "Adding 1344 Ns to chr16:91280600-91280975\n",
      "Adding 1344 Ns to chrX:161926468-161926944\n",
      "Adding 1344 Ns to chrX:165767889-165768198\n",
      "Adding 1344 Ns to chr14:122061422-122061676\n",
      "Adding 1344 Ns to chr18:81575609-81575758\n"
     ]
    },
    {
     "name": "stdout",
     "output_type": "stream",
     "text": [
      "process 8000 peaks takes 2.4 s\n"
     ]
    },
    {
     "name": "stderr",
     "output_type": "stream",
     "text": [
      "Adding 1344 Ns to chr18:84086315-84086872\n",
      "Adding 1344 Ns to chr17:91956041-91956246\n",
      "Adding 1344 Ns to chr14:121248319-121248667\n",
      "Adding 1344 Ns to chr16:96528446-96528879\n",
      "Adding 1344 Ns to chr17:84247477-84247839\n",
      "Adding 1344 Ns to chr17:91159505-91159693\n",
      "Adding 1344 Ns to chr14:123301066-123301330\n",
      "Adding 1344 Ns to chrX:166307717-166308220\n",
      "Adding 1344 Ns to chr16:95382263-95382934\n",
      "Adding 1344 Ns to chr18:88770552-88770799\n",
      "Adding 1344 Ns to chr17:90040742-90040922\n",
      "Adding 1344 Ns to chr16:95748974-95749781\n",
      "Adding 1344 Ns to chr14:109840463-109840643\n",
      "Adding 1344 Ns to chr16:90852840-90853053\n",
      "Adding 1344 Ns to chr14:118922278-118922467\n",
      "Adding 1344 Ns to chr13:116883112-116883408\n",
      "Adding 1344 Ns to chrX:166803292-166803908\n",
      "Adding 1344 Ns to chr18:89443289-89443600\n",
      "Adding 1344 Ns to chr16:91741078-91741300\n",
      "Adding 1344 Ns to chr18:84133839-84134501\n",
      "Adding 1344 Ns to chr17:90668013-90668227\n",
      "Adding 1344 Ns to chrX:157829970-157830581\n",
      "Adding 1344 Ns to chr16:94070985-94071184\n",
      "Adding 1344 Ns to chr19:58728388-58729058\n",
      "Adding 1344 Ns to chr16:93259415-93259637\n",
      "Adding 1344 Ns to chr15:102648561-102649322\n",
      "Adding 1344 Ns to chr18:85752829-85753115\n"
     ]
    },
    {
     "name": "stdout",
     "output_type": "stream",
     "text": [
      "process 9000 peaks takes 2.7 s\n"
     ]
    },
    {
     "name": "stderr",
     "output_type": "stream",
     "text": [
      "Adding 1344 Ns to chr14:121589374-121589702\n",
      "Adding 1344 Ns to chr19:58810533-58810937\n",
      "Adding 1344 Ns to chr14:120338202-120338591\n",
      "Adding 1344 Ns to chr17:94255523-94256070\n",
      "Adding 1344 Ns to chr16:97953633-97953791\n",
      "Adding 1344 Ns to chr16:90421103-90421580\n",
      "Adding 1344 Ns to chr14:118956473-118956826\n",
      "Adding 1344 Ns to chr18:86420991-86421270\n",
      "Adding 1344 Ns to chr13:114387388-114388221\n",
      "Adding 1344 Ns to chr16:96127216-96128495\n",
      "Adding 1344 Ns to chr16:96901235-96901656\n",
      "Adding 1344 Ns to chr16:94045032-94045375\n",
      "Adding 1344 Ns to chr18:86540192-86540426\n",
      "Adding 1344 Ns to chr17:90176594-90176893\n",
      "Adding 1344 Ns to chr17:88637030-88637357\n",
      "Adding 1344 Ns to chr18:80729299-80729696\n",
      "Adding 1344 Ns to chr16:92785378-92785611\n",
      "Adding 1344 Ns to chr15:102038641-102038922\n",
      "Adding 1344 Ns to chr14:117992412-117992839\n",
      "Adding 1344 Ns to chr14:123914374-123914615\n",
      "Adding 1344 Ns to chr17:92949158-92949482\n",
      "Adding 1344 Ns to chr17:89450747-89451028\n",
      "Adding 1344 Ns to chr16:93369121-93370158\n",
      "Adding 1344 Ns to chr13:118031049-118031558\n",
      "Adding 1344 Ns to chr13:115477833-115478143\n",
      "Adding 1344 Ns to chr14:124222533-124222828\n",
      "Adding 1344 Ns to chr16:90497615-90498173\n",
      "Adding 1344 Ns to chr17:87206736-87207434\n",
      "Adding 1344 Ns to chrX:167208430-167208691\n"
     ]
    },
    {
     "name": "stdout",
     "output_type": "stream",
     "text": [
      "process 10000 peaks takes 3.0 s\n"
     ]
    },
    {
     "name": "stderr",
     "output_type": "stream",
     "text": [
      "Adding 1344 Ns to chr17:90775338-90775776\n",
      "Adding 1344 Ns to chr18:83278440-83278690\n",
      "Adding 1344 Ns to chr16:94834505-94834976\n",
      "Adding 1344 Ns to chr14:122130429-122130891\n",
      "Adding 1344 Ns to chr17:87129589-87129757\n",
      "Adding 1344 Ns to chr13:114604131-114604690\n",
      "Adding 1344 Ns to chrX:160153527-160153914\n",
      "Adding 1344 Ns to chr17:86280985-86281215\n",
      "Adding 1344 Ns to chr15:102374095-102374364\n",
      "Adding 1344 Ns to chr17:91738886-91739344\n",
      "Adding 1344 Ns to chr14:120374794-120375430\n",
      "Adding 1344 Ns to chrX:166296091-166296281\n",
      "Adding 1344 Ns to chr14:115173803-115174192\n",
      "Adding 1344 Ns to chr14:121100880-121101197\n",
      "Adding 1344 Ns to chr17:91076888-91077081\n",
      "Adding 1344 Ns to chr13:117347016-117347187\n",
      "Adding 1344 Ns to chr16:95794234-95794607\n",
      "Adding 1344 Ns to chr18:88464451-88464890\n",
      "Adding 1344 Ns to chr13:118347891-118348107\n",
      "Adding 1344 Ns to chr13:115101481-115101661\n"
     ]
    },
    {
     "name": "stdout",
     "output_type": "stream",
     "text": [
      "process 11000 peaks takes 3.2 s\n"
     ]
    },
    {
     "name": "stderr",
     "output_type": "stream",
     "text": [
      "Adding 1344 Ns to chr17:87249188-87249501\n",
      "Adding 1344 Ns to chr14:118321041-118321476\n",
      "Adding 1344 Ns to chr18:86290401-86290744\n",
      "Adding 1344 Ns to chr17:85700024-85700395\n",
      "Adding 1344 Ns to chr17:88858663-88859064\n",
      "Adding 1344 Ns to chr19:59252942-59253146\n",
      "Adding 1344 Ns to chr18:83639019-83639277\n",
      "Adding 1344 Ns to chr16:97669914-97670442\n",
      "Adding 1344 Ns to chr17:83724983-83725176\n",
      "Adding 1344 Ns to chr17:90039317-90039619\n",
      "Adding 1344 Ns to chr16:90592642-90593347\n",
      "Adding 1344 Ns to chr14:118538636-118538910\n",
      "Adding 1344 Ns to chrX:164401638-164402191\n",
      "Adding 1344 Ns to chrX:162698971-162699193\n",
      "Adding 1344 Ns to chrX:160796211-160796772\n",
      "Adding 1344 Ns to chr14:121303277-121304060\n",
      "Adding 1344 Ns to chr14:122662650-122662818\n",
      "Adding 1344 Ns to chr17:86500176-86500325\n",
      "Adding 1344 Ns to chr19:60889578-60890720\n",
      "Adding 1344 Ns to chr18:83006048-83006326\n",
      "Adding 1344 Ns to chr17:87377652-87377978\n",
      "Adding 1344 Ns to chr14:113012367-113012920\n",
      "Adding 1344 Ns to chrX:163644037-163644186\n",
      "Adding 1344 Ns to chr17:85311362-85311724\n",
      "Adding 1344 Ns to chrX:157089583-157089732\n",
      "Adding 1344 Ns to chr14:107080576-107080767\n",
      "Adding 1344 Ns to chr17:84859062-84859300\n"
     ]
    },
    {
     "name": "stdout",
     "output_type": "stream",
     "text": [
      "process 12000 peaks takes 3.5 s\n"
     ]
    },
    {
     "name": "stderr",
     "output_type": "stream",
     "text": [
      "Adding 1344 Ns to chr14:115362244-115362435\n",
      "Adding 1344 Ns to chr17:87360966-87361883\n",
      "Adding 1344 Ns to chr18:82684826-82685264\n",
      "Adding 1344 Ns to chrX:163663892-163664086\n",
      "Adding 1344 Ns to chr15:102105503-102105748\n",
      "Adding 1344 Ns to chr14:122912792-122913535\n",
      "Adding 1344 Ns to chr16:93883376-93884181\n",
      "Adding 1344 Ns to chr19:59529869-59530385\n",
      "Adding 1344 Ns to chrX:167714607-167714872\n",
      "Adding 1344 Ns to chr17:88558270-88558806\n",
      "Adding 1344 Ns to chrX:162380695-162381085\n",
      "Adding 1344 Ns to chr18:84030247-84030772\n",
      "Adding 1344 Ns to chrX:157673964-157674534\n",
      "Adding 1344 Ns to chr17:89197249-89197617\n",
      "Adding 1344 Ns to chr15:103576007-103576195\n",
      "Adding 1344 Ns to chr16:97297050-97297636\n",
      "Adding 1344 Ns to chr19:58798659-58798981\n",
      "Adding 1344 Ns to chr14:120141150-120141729\n",
      "Adding 1344 Ns to chr17:94040716-94041225\n",
      "Adding 1344 Ns to chr14:119215668-119216284\n",
      "Adding 1344 Ns to chrX:164013278-164013427\n",
      "Adding 1344 Ns to chr18:84709685-84710323\n",
      "Adding 1344 Ns to chr16:96049258-96049453\n",
      "Adding 1344 Ns to chr16:90942456-90942687\n",
      "Adding 1344 Ns to chrX:164436752-164437099\n",
      "Adding 1344 Ns to chrX:159701074-159701481\n"
     ]
    },
    {
     "name": "stdout",
     "output_type": "stream",
     "text": [
      "process 13000 peaks takes 3.8 s\n"
     ]
    },
    {
     "name": "stderr",
     "output_type": "stream",
     "text": [
      "Adding 1344 Ns to chr14:119606762-119607179\n",
      "Adding 1344 Ns to chr18:85134679-85134851\n",
      "Adding 1344 Ns to chr18:88703144-88703482\n",
      "Adding 1344 Ns to chr14:118385211-118385464\n",
      "Adding 1344 Ns to chr18:90509571-90509801\n",
      "Adding 1344 Ns to chrX:159365951-159366117\n",
      "Adding 1344 Ns to chrX:161653224-161653549\n",
      "Adding 1344 Ns to chr16:95814476-95815178\n",
      "Adding 1344 Ns to chr16:92890855-92891240\n",
      "Adding 1344 Ns to chr14:119227654-119228126\n",
      "Adding 1344 Ns to chr16:91282658-91282903\n",
      "Adding 1344 Ns to chr17:90926273-90926623\n",
      "Adding 1344 Ns to chr13:117946825-117947241\n",
      "Adding 1344 Ns to chr14:119060690-119061237\n",
      "Adding 1344 Ns to chrX:164367666-164367852\n",
      "Adding 1344 Ns to chr17:84273575-84273729\n",
      "Adding 1344 Ns to chr16:96278756-96279247\n",
      "Adding 1344 Ns to chr14:117571961-117572779\n",
      "Adding 1344 Ns to chr18:84855324-84855611\n",
      "Adding 1344 Ns to chr16:91233428-91234146\n",
      "Adding 1344 Ns to chr18:86827390-86827553\n",
      "Adding 1344 Ns to chr16:94435873-94436229\n",
      "Adding 1344 Ns to chr18:80609659-80609854\n",
      "Adding 1344 Ns to chr14:120755209-120755716\n",
      "Adding 1344 Ns to chr16:94348890-94349039\n",
      "Adding 1344 Ns to chr17:83830734-83831277\n",
      "Adding 1344 Ns to chr16:94624898-94625261\n",
      "Adding 1344 Ns to chrX:165188417-165188963\n",
      "Adding 1344 Ns to chr17:90749500-90749953\n",
      "Adding 1344 Ns to chr17:83907580-83908087\n",
      "Adding 1344 Ns to chr18:83872137-83872368\n",
      "Adding 1344 Ns to chr18:83796222-83796773\n",
      "Adding 1344 Ns to chr17:85116718-85116951\n",
      "Adding 1344 Ns to chrX:158394105-158395039\n"
     ]
    },
    {
     "name": "stdout",
     "output_type": "stream",
     "text": [
      "process 14000 peaks takes 4.0 s\n"
     ]
    },
    {
     "name": "stderr",
     "output_type": "stream",
     "text": [
      "Adding 1344 Ns to chr14:119780194-119780459\n",
      "Adding 1344 Ns to chr13:117605039-117605340\n",
      "Adding 1344 Ns to chr14:108658589-108658992\n",
      "Adding 1344 Ns to chr14:118796005-118796515\n",
      "Adding 1344 Ns to chr16:92739992-92740531\n",
      "Adding 1344 Ns to chr14:112891566-112891997\n",
      "Adding 1344 Ns to chr17:83941750-83942085\n",
      "Adding 1344 Ns to chr18:85871049-85871655\n",
      "Adding 1344 Ns to chr14:124470864-124471610\n",
      "Adding 1344 Ns to chr17:89119279-89120296\n",
      "Adding 1344 Ns to chr18:84671775-84672148\n",
      "Adding 1344 Ns to chr16:94792609-94792887\n",
      "Adding 1344 Ns to chrX:163848593-163849094\n",
      "Adding 1344 Ns to chr16:96695939-96696315\n",
      "Adding 1344 Ns to chrX:167276448-167277284\n",
      "Adding 1344 Ns to chr13:118104683-118104846\n",
      "Adding 1344 Ns to chr16:96034357-96034937\n",
      "Adding 1344 Ns to chr16:95446579-95446754\n",
      "Adding 1344 Ns to chrX:164856150-164856308\n",
      "Adding 1344 Ns to chr14:121278989-121279508\n",
      "Adding 1344 Ns to chr18:84796905-84797327\n"
     ]
    },
    {
     "name": "stdout",
     "output_type": "stream",
     "text": [
      "process 15000 peaks takes 4.3 s\n"
     ]
    },
    {
     "name": "stderr",
     "output_type": "stream",
     "text": [
      "Adding 1344 Ns to chr16:94984221-94984663\n",
      "Adding 1344 Ns to chr18:85502350-85502855\n",
      "Adding 1344 Ns to chr16:96782893-96783352\n",
      "Adding 1344 Ns to chr16:95558457-95558841\n",
      "Adding 1344 Ns to chr18:84098130-84098429\n",
      "Adding 1344 Ns to chrX:163908416-163909298\n",
      "Adding 1344 Ns to chr17:84279679-84279955\n",
      "Adding 1344 Ns to chrX:166952558-166952845\n",
      "Adding 1344 Ns to chr14:124028384-124028615\n",
      "Adding 1344 Ns to chrX:162399047-162399385\n",
      "Adding 1344 Ns to chr14:121295406-121295717\n",
      "Adding 1344 Ns to chr16:94301508-94302012\n",
      "Adding 1344 Ns to chr16:96021780-96022056\n",
      "Adding 1344 Ns to chr13:116517115-116517274\n",
      "Adding 1344 Ns to chr17:83267311-83268299\n",
      "Adding 1344 Ns to chr18:81928173-81928407\n",
      "Adding 1344 Ns to chrX:168277996-168278346\n",
      "Adding 1344 Ns to chr14:117360176-117360578\n",
      "Adding 1344 Ns to chr19:58911456-58911762\n",
      "Adding 1344 Ns to chr14:120029758-120030287\n",
      "Adding 1344 Ns to chr16:94956535-94956801\n",
      "Adding 1344 Ns to chr14:121188233-121188457\n",
      "Adding 1344 Ns to chrX:159704481-159704871\n",
      "Adding 1344 Ns to chr16:96907537-96908230\n",
      "Adding 1344 Ns to chrX:165897592-165898054\n",
      "Adding 1344 Ns to chr14:110782905-110783226\n",
      "Adding 1344 Ns to chr18:81796945-81797168\n"
     ]
    },
    {
     "name": "stdout",
     "output_type": "stream",
     "text": [
      "process 16000 peaks takes 4.6 s\n"
     ]
    },
    {
     "name": "stderr",
     "output_type": "stream",
     "text": [
      "Adding 1344 Ns to chrX:169923522-169923721\n",
      "Adding 1344 Ns to chrX:158675847-158676161\n",
      "Adding 1344 Ns to chrX:159626979-159627846\n",
      "Adding 1344 Ns to chr16:92994923-92995310\n",
      "Adding 1344 Ns to chr17:90289823-90290150\n",
      "Adding 1344 Ns to chr14:120310786-120311001\n",
      "Adding 1344 Ns to chr18:85569533-85569845\n",
      "Adding 1344 Ns to chrX:159171201-159171431\n",
      "Adding 1344 Ns to chr14:120261648-120262040\n",
      "Adding 1344 Ns to chrX:162759824-162760562\n",
      "Adding 1344 Ns to chr14:122494573-122494909\n",
      "Adding 1344 Ns to chr13:117722152-117722397\n",
      "Adding 1344 Ns to chr13:116969645-116970197\n",
      "Adding 1344 Ns to chr17:91137418-91137780\n",
      "Adding 1344 Ns to chrX:160921619-160921954\n",
      "Adding 1344 Ns to chr16:92023566-92023751\n",
      "Adding 1344 Ns to chr19:61140479-61141195\n",
      "Adding 1344 Ns to chr14:120163136-120163548\n",
      "Adding 1344 Ns to chr16:95831544-95832621\n",
      "Adding 1344 Ns to chr17:94269709-94270259\n",
      "Adding 1344 Ns to chr16:95776156-95776463\n",
      "Adding 1344 Ns to chr14:121124393-121124981\n",
      "Adding 1344 Ns to chr14:116747210-116747718\n",
      "Adding 1344 Ns to chr15:102624973-102625832\n",
      "Adding 1344 Ns to chr14:119306490-119306940\n",
      "Adding 1344 Ns to chr15:103360266-103360573\n",
      "Adding 1344 Ns to chr16:97153873-97154342\n",
      "Adding 1344 Ns to chr16:90388955-90389534\n"
     ]
    },
    {
     "name": "stdout",
     "output_type": "stream",
     "text": [
      "process 17000 peaks takes 4.8 s\n"
     ]
    },
    {
     "name": "stderr",
     "output_type": "stream",
     "text": [
      "Adding 1344 Ns to chr17:87745834-87746687\n",
      "Adding 1344 Ns to chr13:119631591-119632138\n",
      "Adding 1344 Ns to chr17:86177607-86177824\n",
      "Adding 1344 Ns to chr14:118709607-118710176\n",
      "Adding 1344 Ns to chr17:90892313-90892748\n",
      "Adding 1344 Ns to chrX:162589446-162589764\n",
      "Adding 1344 Ns to chr13:116995392-116995669\n",
      "Adding 1344 Ns to chr14:111793848-111794214\n",
      "Adding 1344 Ns to chr14:120061173-120061413\n",
      "Adding 1344 Ns to chr17:88581506-88582067\n",
      "Adding 1344 Ns to chr16:91885649-91885798\n",
      "Adding 1344 Ns to chr14:118392185-118392494\n",
      "Adding 1344 Ns to chr13:119702880-119703116\n",
      "Adding 1344 Ns to chr17:87502684-87503024\n",
      "Adding 1344 Ns to chr14:119153111-119153439\n",
      "Adding 1344 Ns to chr17:84989492-84989988\n",
      "Adding 1344 Ns to chr17:86466716-86466978\n",
      "Adding 1344 Ns to chr18:83674485-83674740\n",
      "Adding 1344 Ns to chrX:166691083-166691619\n",
      "Adding 1344 Ns to chrX:169813676-169814083\n",
      "Adding 1344 Ns to chr15:102807425-102807882\n",
      "Adding 1344 Ns to chr14:117639635-117640138\n",
      "Adding 1344 Ns to chr15:103145764-103146579\n",
      "Adding 1344 Ns to chr14:112230251-112230927\n",
      "Adding 1344 Ns to chrX:169228597-169228746\n",
      "Adding 1344 Ns to chr14:120499553-120499788\n",
      "Adding 1344 Ns to chr16:96235387-96236065\n",
      "Adding 1344 Ns to chr18:84730522-84730875\n",
      "Adding 1344 Ns to chr16:93118281-93118499\n",
      "Adding 1344 Ns to chrX:167640727-167641233\n",
      "Adding 1344 Ns to chr14:120762844-120763136\n",
      "Adding 1344 Ns to chrX:159799718-159799933\n",
      "Adding 1344 Ns to chr17:94287887-94288133\n"
     ]
    },
    {
     "name": "stdout",
     "output_type": "stream",
     "text": [
      "process 18000 peaks takes 5.1 s\n"
     ]
    },
    {
     "name": "stderr",
     "output_type": "stream",
     "text": [
      "Adding 1344 Ns to chr17:85872980-85873254\n",
      "Adding 1344 Ns to chr13:114584678-114585038\n",
      "Adding 1344 Ns to chr16:95073114-95073345\n",
      "Adding 1344 Ns to chr14:113826253-113826636\n",
      "Adding 1344 Ns to chrX:160669952-160670425\n",
      "Adding 1344 Ns to chr16:94888591-94888756\n",
      "Adding 1344 Ns to chr14:108982464-108982782\n",
      "Adding 1344 Ns to chr16:90609734-90609992\n",
      "Adding 1344 Ns to chr17:86228786-86229252\n",
      "Adding 1344 Ns to chr18:83424153-83424399\n",
      "Adding 1344 Ns to chr18:86490708-86491013\n",
      "Adding 1344 Ns to chr14:113613716-113614169\n",
      "Adding 1344 Ns to chr13:117224573-117225103\n",
      "Adding 1344 Ns to chr14:111996235-111996629\n",
      "Adding 1344 Ns to chr18:82547296-82547546\n"
     ]
    },
    {
     "name": "stdout",
     "output_type": "stream",
     "text": [
      "process 19000 peaks takes 5.3 s\n"
     ]
    },
    {
     "name": "stderr",
     "output_type": "stream",
     "text": [
      "Adding 1344 Ns to chrX:166440131-166441091\n",
      "Adding 1344 Ns to chrX:160116751-160117067\n",
      "Adding 1344 Ns to chr17:93104483-93104925\n",
      "Adding 1344 Ns to chr14:113422999-113423345\n",
      "Adding 1344 Ns to chr14:108074526-108074827\n",
      "Adding 1344 Ns to chr16:90351723-90352181\n",
      "Adding 1344 Ns to chrX:166892563-166892757\n",
      "Adding 1344 Ns to chrX:167523231-167523457\n",
      "Adding 1344 Ns to chr17:90556434-90556675\n",
      "Adding 1344 Ns to chr17:86609316-86609484\n",
      "Adding 1344 Ns to chr14:119901231-119901874\n",
      "Adding 1344 Ns to chr17:90506546-90506738\n",
      "Adding 1344 Ns to chr16:92364644-92364901\n",
      "Adding 1344 Ns to chr17:90818026-90818206\n",
      "Adding 1344 Ns to chr13:115089763-115090674\n",
      "Adding 1344 Ns to chr18:90229061-90229427\n",
      "Adding 1344 Ns to chr14:123529998-123530379\n",
      "Adding 1344 Ns to chr18:88750611-88750850\n",
      "Adding 1344 Ns to chr14:120993367-120993561\n",
      "Adding 1344 Ns to chr14:122064685-122064877\n",
      "Adding 1344 Ns to chr19:59336204-59336644\n",
      "Adding 1344 Ns to chr14:112388344-112388841\n",
      "Adding 1344 Ns to chr14:111822073-111822749\n",
      "Adding 1344 Ns to chr16:93750527-93750924\n",
      "Adding 1344 Ns to chr16:91083333-91083569\n",
      "Adding 1344 Ns to chr17:87866762-87867302\n",
      "Adding 1344 Ns to chr14:116193822-116194258\n",
      "Adding 1344 Ns to chrX:157451685-157451900\n"
     ]
    },
    {
     "name": "stdout",
     "output_type": "stream",
     "text": [
      "process 20000 peaks takes 5.6 s\n"
     ]
    },
    {
     "name": "stderr",
     "output_type": "stream",
     "text": [
      "Adding 1344 Ns to chr16:94425584-94425917\n",
      "Adding 1344 Ns to chr16:97430044-97430586\n",
      "Adding 1344 Ns to chr18:88911389-88911704\n",
      "Adding 1344 Ns to chr16:94208792-94209190\n",
      "Adding 1344 Ns to chr16:95701792-95702795\n",
      "Adding 1344 Ns to chr14:119953144-119953776\n",
      "Adding 1344 Ns to chr19:58893318-58893820\n",
      "Adding 1344 Ns to chrX:160619992-160620142\n",
      "Adding 1344 Ns to chr17:87446617-87447605\n",
      "Adding 1344 Ns to chr17:94735493-94735774\n",
      "Adding 1344 Ns to chr14:110956840-110957120\n",
      "Adding 1344 Ns to chr16:97842610-97842810\n",
      "Adding 1344 Ns to chrX:167305568-167305825\n",
      "Adding 1344 Ns to chr16:90666199-90666999\n",
      "Adding 1344 Ns to chrX:167518091-167518819\n",
      "Adding 1344 Ns to chr17:86122280-86122740\n",
      "Adding 1344 Ns to chrX:157736514-157736854\n",
      "Adding 1344 Ns to chr13:119790505-119791641\n",
      "Adding 1344 Ns to chr16:96025199-96025837\n",
      "Adding 1344 Ns to chr14:109941263-109941736\n",
      "Adding 1344 Ns to chr14:114866403-114866910\n",
      "Adding 1344 Ns to chrX:162462073-162462593\n",
      "Adding 1344 Ns to chr13:116712291-116712579\n",
      "Adding 1344 Ns to chr16:90424111-90424346\n",
      "Adding 1344 Ns to chrX:169408429-169408741\n",
      "Adding 1344 Ns to chr14:108998867-108999208\n",
      "Adding 1344 Ns to chr14:117255453-117255795\n",
      "Adding 1344 Ns to chr14:120467432-120468281\n",
      "Adding 1344 Ns to chr17:84709520-84709805\n",
      "Adding 1344 Ns to chr18:82624274-82624476\n"
     ]
    },
    {
     "name": "stdout",
     "output_type": "stream",
     "text": [
      "process 21000 peaks takes 5.9 s\n"
     ]
    },
    {
     "name": "stderr",
     "output_type": "stream",
     "text": [
      "Adding 1344 Ns to chr14:108178907-108179152\n",
      "Adding 1344 Ns to chr17:84256378-84256848\n",
      "Adding 1344 Ns to chr15:102797206-102797619\n",
      "Adding 1344 Ns to chr16:93436775-93437048\n",
      "Adding 1344 Ns to chr14:118889886-118890582\n",
      "Adding 1344 Ns to chrX:167886096-167886496\n",
      "Adding 1344 Ns to chrX:162800459-162800686\n",
      "Adding 1344 Ns to chr17:86559289-86559514\n",
      "Adding 1344 Ns to chr17:84748463-84748694\n",
      "Adding 1344 Ns to chr17:85473045-85473645\n",
      "Adding 1344 Ns to chr15:102458860-102459370\n",
      "Adding 1344 Ns to chr16:92246467-92246691\n",
      "Adding 1344 Ns to chr13:117710887-117711164\n",
      "Adding 1344 Ns to chr13:119640474-119641043\n",
      "Adding 1344 Ns to chrX:169837965-169838267\n",
      "Adding 1344 Ns to chr17:86271302-86272102\n",
      "Adding 1344 Ns to chr16:94125049-94125858\n",
      "Adding 1344 Ns to chr17:86962329-86962720\n",
      "Adding 1344 Ns to chr14:118915121-118915460\n",
      "Adding 1344 Ns to chrX:160808428-160808684\n",
      "Adding 1344 Ns to chr18:80777542-80777984\n",
      "Adding 1344 Ns to chr14:122104762-122105227\n",
      "Adding 1344 Ns to chrX:158714996-158715289\n",
      "Adding 1344 Ns to chr14:118970756-118971233\n",
      "Adding 1344 Ns to chrX:159817548-159818001\n",
      "Adding 1344 Ns to chr14:108912234-108912383\n"
     ]
    },
    {
     "name": "stdout",
     "output_type": "stream",
     "text": [
      "process 22000 peaks takes 6.1 s\n"
     ]
    },
    {
     "name": "stderr",
     "output_type": "stream",
     "text": [
      "Adding 1344 Ns to chrX:164417910-164418369\n",
      "Adding 1344 Ns to chr18:86319184-86319579\n",
      "Adding 1344 Ns to chr17:85121776-85122263\n",
      "Adding 1344 Ns to chr15:102685274-102685595\n",
      "Adding 1344 Ns to chr18:82733471-82733886\n",
      "Adding 1344 Ns to chr14:114851062-114851211\n",
      "Adding 1344 Ns to chr18:89179050-89179327\n",
      "Adding 1344 Ns to chr16:90741021-90741241\n",
      "Adding 1344 Ns to chr17:88981085-88981323\n",
      "Adding 1344 Ns to chrX:157840877-157841340\n",
      "Adding 1344 Ns to chr14:121963639-121963923\n",
      "Adding 1344 Ns to chr17:89591190-89591365\n",
      "Adding 1344 Ns to chrX:161142286-161142721\n",
      "Adding 1344 Ns to chr16:96406403-96406692\n",
      "Adding 1344 Ns to chr14:116723356-116723982\n",
      "Adding 1344 Ns to chr17:88329791-88330132\n",
      "Adding 1344 Ns to chr16:92720833-92721131\n",
      "Adding 1344 Ns to chr16:92340974-92341591\n",
      "Adding 1344 Ns to chr18:80764929-80765185\n"
     ]
    },
    {
     "name": "stdout",
     "output_type": "stream",
     "text": [
      "process 23000 peaks takes 6.4 s\n"
     ]
    },
    {
     "name": "stderr",
     "output_type": "stream",
     "text": [
      "Adding 1344 Ns to chr14:114032437-114032836\n",
      "Adding 1344 Ns to chr14:119310307-119310717\n",
      "Adding 1344 Ns to chr18:86724105-86724308\n",
      "Adding 1344 Ns to chrX:168659833-168660126\n",
      "Adding 1344 Ns to chr16:93673406-93673696\n",
      "Adding 1344 Ns to chr18:88092483-88092918\n",
      "Adding 1344 Ns to chr16:94401961-94402611\n",
      "Adding 1344 Ns to chr16:95484040-95484360\n",
      "Adding 1344 Ns to chr17:90629644-90630271\n",
      "Adding 1344 Ns to chr15:103552145-103552415\n",
      "Adding 1344 Ns to chr14:108729232-108729384\n",
      "Adding 1344 Ns to chr18:88748388-88748598\n",
      "Adding 1344 Ns to chr16:91720982-91721441\n",
      "Adding 1344 Ns to chr14:113689199-113689494\n",
      "Adding 1344 Ns to chrX:165193641-165193890\n",
      "Adding 1344 Ns to chr14:114425475-114425963\n",
      "Adding 1344 Ns to chr14:117813436-117813932\n",
      "Adding 1344 Ns to chr17:86819459-86819725\n",
      "Adding 1344 Ns to chr17:90382356-90382901\n",
      "Adding 1344 Ns to chrX:166809150-166809786\n",
      "Adding 1344 Ns to chr13:120193148-120193355\n",
      "Adding 1344 Ns to chr16:90970976-90971369\n",
      "Adding 1344 Ns to chr15:102203244-102204438\n",
      "Adding 1344 Ns to chr16:92696647-92696995\n",
      "Adding 1344 Ns to chr16:91222323-91222847\n",
      "Adding 1344 Ns to chrX:162642444-162642629\n",
      "Adding 1344 Ns to chrX:158835017-158835332\n",
      "Adding 1344 Ns to chr17:91031026-91031369\n",
      "Adding 1344 Ns to chr18:80987298-80987524\n"
     ]
    },
    {
     "name": "stdout",
     "output_type": "stream",
     "text": [
      "process 24000 peaks takes 6.7 s\n"
     ]
    },
    {
     "name": "stderr",
     "output_type": "stream",
     "text": [
      "Adding 1344 Ns to chr19:59759913-59760198\n",
      "Adding 1344 Ns to chr17:84096382-84096970\n",
      "Adding 1344 Ns to chr17:94553261-94553677\n",
      "Adding 1344 Ns to chr18:86711184-86711865\n",
      "Adding 1344 Ns to chr16:91632279-91632827\n",
      "Adding 1344 Ns to chr17:88440206-88441133\n",
      "Adding 1344 Ns to chrX:164339821-164340043\n",
      "Adding 1344 Ns to chr18:82654168-82654787\n",
      "Adding 1344 Ns to chrX:166384935-166385162\n",
      "Adding 1344 Ns to chr16:94250309-94251427\n",
      "Adding 1344 Ns to chr14:119172086-119172244\n",
      "Adding 1344 Ns to chr14:120675768-120676153\n",
      "Adding 1344 Ns to chr16:91839453-91839714\n",
      "Adding 1344 Ns to chr18:81252130-81252592\n",
      "Adding 1344 Ns to chr14:123511966-123512325\n",
      "Adding 1344 Ns to chr14:113468993-113469558\n",
      "Adding 1344 Ns to chr14:118212737-118213124\n",
      "Adding 1344 Ns to chr14:115475293-115475681\n",
      "Adding 1344 Ns to chr17:88262637-88263324\n",
      "Adding 1344 Ns to chr18:83290654-83291127\n",
      "Adding 1344 Ns to chr17:90704745-90705233\n",
      "Adding 1344 Ns to chr14:122643381-122643737\n",
      "Adding 1344 Ns to chr18:83075732-83076113\n",
      "Adding 1344 Ns to chr14:121535847-121536210\n",
      "Adding 1344 Ns to chr17:86371030-86371440\n",
      "Adding 1344 Ns to chr14:117975536-117975698\n",
      "Adding 1344 Ns to chr16:90550138-90550604\n"
     ]
    },
    {
     "name": "stdout",
     "output_type": "stream",
     "text": [
      "process 25000 peaks takes 6.9 s\n"
     ]
    },
    {
     "name": "stderr",
     "output_type": "stream",
     "text": [
      "Adding 1344 Ns to chr15:103506483-103506768\n",
      "Adding 1344 Ns to chr17:87405605-87405933\n",
      "Adding 1344 Ns to chr16:94034501-94034823\n",
      "Adding 1344 Ns to chr14:121099987-121100299\n",
      "Adding 1344 Ns to chr19:60184101-60184452\n",
      "Adding 1344 Ns to chr16:96996956-96997186\n",
      "Adding 1344 Ns to chrX:168672455-168672792\n",
      "Adding 1344 Ns to chr13:119341929-119342185\n",
      "Adding 1344 Ns to chr16:96023125-96023318\n",
      "Adding 1344 Ns to chr16:97850563-97852468\n",
      "Adding 1344 Ns to chr18:89695031-89695282\n",
      "Adding 1344 Ns to chr17:90556958-90557325\n",
      "Adding 1344 Ns to chr14:120053102-120053335\n",
      "Adding 1344 Ns to chr19:59316632-59316902\n",
      "Adding 1344 Ns to chr16:91579311-91579780\n",
      "Adding 1344 Ns to chr14:118591526-118592190\n",
      "Adding 1344 Ns to chr19:60121388-60121569\n",
      "Adding 1344 Ns to chr18:84967706-84968180\n",
      "Adding 1344 Ns to chr17:88936747-88936913\n",
      "Adding 1344 Ns to chr18:88098016-88098319\n",
      "Adding 1344 Ns to chr14:119720513-119720879\n",
      "Adding 1344 Ns to chr14:114774539-114775338\n",
      "Adding 1344 Ns to chr17:88919585-88919970\n",
      "Adding 1344 Ns to chr14:117246874-117247119\n",
      "Adding 1344 Ns to chr16:94899329-94899729\n"
     ]
    },
    {
     "name": "stdout",
     "output_type": "stream",
     "text": [
      "process 26000 peaks takes 7.2 s\n"
     ]
    },
    {
     "name": "stderr",
     "output_type": "stream",
     "text": [
      "Adding 1344 Ns to chr17:88103319-88103525\n",
      "Adding 1344 Ns to chr17:87691956-87692309\n",
      "Adding 1344 Ns to chr14:117407888-117408371\n",
      "Adding 1344 Ns to chr14:117826713-117827158\n",
      "Adding 1344 Ns to chrX:166365868-166366736\n",
      "Adding 1344 Ns to chr19:58993325-58993517\n",
      "Adding 1344 Ns to chr18:89391618-89392029\n",
      "Adding 1344 Ns to chr16:91639605-91639987\n",
      "Adding 1344 Ns to chr17:86840951-86841433\n",
      "Adding 1344 Ns to chr17:85292272-85292887\n",
      "Adding 1344 Ns to chr14:124634779-124635324\n",
      "Adding 1344 Ns to chr13:117406215-117406514\n",
      "Adding 1344 Ns to chr14:121642373-121642950\n",
      "Adding 1344 Ns to chr17:86128781-86129085\n",
      "Adding 1344 Ns to chr14:118703385-118703747\n",
      "Adding 1344 Ns to chr14:118422266-118422772\n",
      "Adding 1344 Ns to chr17:88786899-88787256\n",
      "Adding 1344 Ns to chrX:162643370-162643984\n",
      "Adding 1344 Ns to chr18:82486408-82486719\n",
      "Adding 1344 Ns to chr16:97438200-97438528\n"
     ]
    },
    {
     "name": "stdout",
     "output_type": "stream",
     "text": [
      "process 27000 peaks takes 7.4 s\n"
     ]
    },
    {
     "name": "stderr",
     "output_type": "stream",
     "text": [
      "Adding 1344 Ns to chr19:60064890-60065118\n",
      "Adding 1344 Ns to chr17:83402732-83402928\n",
      "Adding 1344 Ns to chrX:163957837-163959015\n",
      "Adding 1344 Ns to chr18:86675176-86675670\n",
      "Adding 1344 Ns to chrX:162922810-162923163\n",
      "Adding 1344 Ns to chr16:97169858-97171167\n",
      "Adding 1344 Ns to chr18:83000870-83001134\n",
      "Adding 1344 Ns to chr18:89897035-89897541\n",
      "Adding 1344 Ns to chr17:84610506-84610741\n",
      "Adding 1344 Ns to chrX:161511131-161511460\n",
      "Adding 1344 Ns to chr16:91504773-91505596\n",
      "Adding 1344 Ns to chr14:117695401-117695792\n",
      "Adding 1344 Ns to chr17:87473566-87474501\n",
      "Adding 1344 Ns to chr14:107206315-107206518\n",
      "Adding 1344 Ns to chrX:158591547-158591820\n",
      "Adding 1344 Ns to chr16:90610044-90610948\n",
      "Adding 1344 Ns to chrX:169948689-169948986\n",
      "Adding 1344 Ns to chr14:120937832-120938472\n",
      "Adding 1344 Ns to chrX:158946764-158947023\n",
      "Adding 1344 Ns to chr16:96487317-96487790\n",
      "Adding 1344 Ns to chr18:82534466-82534738\n",
      "Adding 1344 Ns to chrX:168569230-168569740\n"
     ]
    },
    {
     "name": "stdout",
     "output_type": "stream",
     "text": [
      "process 28000 peaks takes 7.7 s\n"
     ]
    },
    {
     "name": "stderr",
     "output_type": "stream",
     "text": [
      "Adding 1344 Ns to chr16:92543485-92543731\n",
      "Adding 1344 Ns to chrX:166976849-166976998\n",
      "Adding 1344 Ns to chr16:94588111-94588743\n",
      "Adding 1344 Ns to chr17:83275998-83276700\n",
      "Adding 1344 Ns to chr15:102779868-102780362\n",
      "Adding 1344 Ns to chr14:118607792-118608134\n",
      "Adding 1344 Ns to chr14:113278062-113278248\n",
      "Adding 1344 Ns to chr18:81767717-81768455\n",
      "Adding 1344 Ns to chr16:91491029-91491349\n",
      "Adding 1344 Ns to chr16:95037732-95038095\n",
      "Adding 1344 Ns to chr18:83779267-83779554\n",
      "Adding 1344 Ns to chr16:96399988-96400353\n",
      "Adding 1344 Ns to chrX:162791487-162791694\n",
      "Adding 1344 Ns to chr19:60465922-60466104\n",
      "Adding 1344 Ns to chr13:119654706-119655238\n",
      "Adding 1344 Ns to chr18:82037867-82038304\n",
      "Adding 1344 Ns to chrX:159255323-159256487\n",
      "Adding 1344 Ns to chr15:102613066-102613288\n",
      "Adding 1344 Ns to chrX:158034677-158034871\n",
      "Adding 1344 Ns to chr17:87468455-87468940\n",
      "Adding 1344 Ns to chr17:85803808-85804002\n",
      "Adding 1344 Ns to chr18:84128345-84128900\n",
      "Adding 1344 Ns to chr14:116349264-116349706\n",
      "Adding 1344 Ns to chr17:85706862-85707011\n",
      "Adding 1344 Ns to chrX:159626232-159626807\n",
      "Adding 1344 Ns to chr14:121268415-121268733\n",
      "Adding 1344 Ns to chr14:123400576-123401093\n"
     ]
    },
    {
     "name": "stdout",
     "output_type": "stream",
     "text": [
      "process 29000 peaks takes 8.0 s\n"
     ]
    },
    {
     "name": "stderr",
     "output_type": "stream",
     "text": [
      "Adding 1344 Ns to chr16:96289465-96289735\n",
      "Adding 1344 Ns to chr18:86232295-86232590\n",
      "Adding 1344 Ns to chr16:93487780-93488091\n",
      "Adding 1344 Ns to chr17:94239384-94239557\n",
      "Adding 1344 Ns to chr15:102770858-102771531\n",
      "Adding 1344 Ns to chr13:117217145-117217460\n",
      "Adding 1344 Ns to chr14:119633107-119633547\n",
      "Adding 1344 Ns to chr14:121316210-121316512\n",
      "Adding 1344 Ns to chrX:158931404-158931824\n",
      "Adding 1344 Ns to chr14:117229567-117229887\n",
      "Adding 1344 Ns to chrX:166316618-166317684\n",
      "Adding 1344 Ns to chr18:86970795-86971130\n",
      "Adding 1344 Ns to chr16:97673629-97674036\n",
      "Adding 1344 Ns to chr18:81668029-81668228\n",
      "Adding 1344 Ns to chrX:163878286-163878511\n",
      "Adding 1344 Ns to chr14:123272220-123272441\n",
      "Adding 1344 Ns to chr16:91677334-91677483\n",
      "Adding 1344 Ns to chr16:92398761-92399085\n",
      "Adding 1344 Ns to chrX:167925626-167926064\n",
      "Adding 1344 Ns to chr17:90353910-90354142\n",
      "Adding 1344 Ns to chr16:91830201-91830717\n",
      "Adding 1344 Ns to chr19:60629780-60630330\n",
      "Adding 1344 Ns to chr14:120757577-120757851\n",
      "Adding 1344 Ns to chr18:80416904-80417300\n",
      "Adding 1344 Ns to chr16:93150282-93150929\n",
      "Adding 1344 Ns to chr16:94140646-94141200\n",
      "Adding 1344 Ns to chr17:90249590-90249885\n"
     ]
    },
    {
     "name": "stdout",
     "output_type": "stream",
     "text": [
      "process 30000 peaks takes 8.2 s\n"
     ]
    },
    {
     "name": "stderr",
     "output_type": "stream",
     "text": [
      "Adding 1344 Ns to chr18:82655218-82655516\n",
      "Adding 1344 Ns to chr14:123187781-123188041\n",
      "Adding 1344 Ns to chr18:80712663-80713272\n",
      "Adding 1344 Ns to chr17:87530312-87531092\n",
      "Adding 1344 Ns to chr16:90518194-90518709\n",
      "Adding 1344 Ns to chr14:114318102-114318495\n",
      "Adding 1344 Ns to chr14:118972224-118972540\n",
      "Adding 1344 Ns to chr13:117467396-117467653\n",
      "Adding 1344 Ns to chr17:84605905-84606282\n",
      "Adding 1344 Ns to chr17:85134869-85135244\n",
      "Adding 1344 Ns to chr14:119686994-119687239\n",
      "Adding 1344 Ns to chr15:103511709-103512025\n",
      "Adding 1344 Ns to chrX:157633643-157633809\n",
      "Adding 1344 Ns to chr17:87695872-87696356\n",
      "Adding 1344 Ns to chrX:166170191-166170764\n",
      "Adding 1344 Ns to chr16:94227709-94228001\n",
      "Adding 1344 Ns to chrX:158166136-158166600\n",
      "Adding 1344 Ns to chr19:59697577-59698428\n"
     ]
    },
    {
     "name": "stdout",
     "output_type": "stream",
     "text": [
      "process 31000 peaks takes 8.5 s\n"
     ]
    },
    {
     "name": "stderr",
     "output_type": "stream",
     "text": [
      "Adding 1344 Ns to chr13:116534239-116534539\n",
      "Adding 1344 Ns to chr16:94674590-94674762\n",
      "Adding 1344 Ns to chrX:160192968-160193537\n",
      "Adding 1344 Ns to chr18:85526314-85526744\n",
      "Adding 1344 Ns to chr17:88779007-88779463\n",
      "Adding 1344 Ns to chr16:95117536-95117928\n",
      "Adding 1344 Ns to chr17:92807194-92807343\n",
      "Adding 1344 Ns to chr19:59208544-59208807\n",
      "Adding 1344 Ns to chr19:61070815-61071096\n",
      "Adding 1344 Ns to chr17:90351642-90351915\n",
      "Adding 1344 Ns to chr16:96835322-96835509\n",
      "Adding 1344 Ns to chr14:113928548-113928897\n",
      "Adding 1344 Ns to chr14:118875180-118875773\n",
      "Adding 1344 Ns to chr14:107526046-107526664\n",
      "Adding 1344 Ns to chr16:91936417-91936810\n",
      "Adding 1344 Ns to chr14:121313078-121313836\n",
      "Adding 1344 Ns to chr19:59388896-59389676\n",
      "Adding 1344 Ns to chr14:118612985-118613290\n",
      "Adding 1344 Ns to chr19:60789941-60791233\n",
      "Adding 1344 Ns to chr13:117401443-117402748\n",
      "Adding 1344 Ns to chr14:122943093-122943540\n",
      "Adding 1344 Ns to chrX:162759040-162759522\n"
     ]
    },
    {
     "name": "stdout",
     "output_type": "stream",
     "text": [
      "process 32000 peaks takes 8.7 s\n"
     ]
    },
    {
     "name": "stderr",
     "output_type": "stream",
     "text": [
      "Adding 1344 Ns to chr19:60755675-60757194\n",
      "Adding 1344 Ns to chrX:158933569-158933844\n",
      "Adding 1344 Ns to chr18:82961266-82961512\n",
      "Adding 1344 Ns to chr17:90280322-90280728\n",
      "Adding 1344 Ns to chr14:120578383-120579272\n",
      "Adding 1344 Ns to chr16:93116686-93116941\n",
      "Adding 1344 Ns to chrX:167017433-167017890\n",
      "Adding 1344 Ns to chr17:90252193-90252397\n",
      "Adding 1344 Ns to chr14:119989327-119989833\n",
      "Adding 1344 Ns to chr13:118849519-118850015\n",
      "Adding 1344 Ns to chr16:97035173-97035698\n",
      "Adding 1344 Ns to chr14:117674474-117674790\n",
      "Adding 1344 Ns to chr14:114450599-114450824\n",
      "Adding 1344 Ns to chr14:118854441-118855111\n",
      "Adding 1344 Ns to chr16:91553574-91553759\n",
      "Adding 1344 Ns to chr17:89064518-89065111\n",
      "Adding 1344 Ns to chr16:92399853-92400794\n",
      "Adding 1344 Ns to chr14:119021314-119021759\n",
      "Adding 1344 Ns to chr16:91848513-91848792\n",
      "Adding 1344 Ns to chr16:94807171-94807445\n",
      "Adding 1344 Ns to chr16:96887130-96887391\n",
      "Adding 1344 Ns to chr16:91862971-91863147\n",
      "Adding 1344 Ns to chr17:84803098-84803697\n",
      "Adding 1344 Ns to chr17:89871115-89871594\n",
      "Adding 1344 Ns to chr14:121774690-121775108\n",
      "Adding 1344 Ns to chr15:102216632-102216811\n",
      "Adding 1344 Ns to chrX:156228510-156228752\n",
      "Adding 1344 Ns to chr14:116108262-116108632\n",
      "Adding 1344 Ns to chr17:84044254-84044608\n"
     ]
    },
    {
     "name": "stdout",
     "output_type": "stream",
     "text": [
      "process 33000 peaks takes 9.0 s\n"
     ]
    },
    {
     "name": "stderr",
     "output_type": "stream",
     "text": [
      "Adding 1344 Ns to chr16:91192754-91193031\n",
      "Adding 1344 Ns to chrX:165894865-165895038\n",
      "Adding 1344 Ns to chr17:90857120-90857329\n",
      "Adding 1344 Ns to chr15:102684645-102684904\n",
      "Adding 1344 Ns to chrX:167204181-167204732\n",
      "Adding 1344 Ns to chr14:116957483-116957684\n",
      "Adding 1344 Ns to chr17:87331921-87332425\n",
      "Adding 1344 Ns to chr17:85241998-85242683\n",
      "Adding 1344 Ns to chr17:87436950-87437143\n",
      "Adding 1344 Ns to chr16:95844584-95845006\n",
      "Adding 1344 Ns to chr14:108843500-108844152\n",
      "Adding 1344 Ns to chr18:82779862-82780794\n",
      "Adding 1344 Ns to chr19:58866721-58867006\n",
      "Adding 1344 Ns to chrX:167056125-167056343\n",
      "Adding 1344 Ns to chr14:122953398-122953646\n",
      "Adding 1344 Ns to chr16:91880913-91881759\n",
      "Adding 1344 Ns to chr17:90744383-90744744\n",
      "Adding 1344 Ns to chr17:90594789-90595263\n",
      "Adding 1344 Ns to chr17:88505269-88505835\n",
      "Adding 1344 Ns to chr16:92319158-92320006\n",
      "Adding 1344 Ns to chrX:161017865-161018951\n",
      "Adding 1344 Ns to chr18:83686047-83686433\n",
      "Adding 1344 Ns to chr16:93238239-93238555\n",
      "Adding 1344 Ns to chr13:117792775-117793200\n",
      "Adding 1344 Ns to chr14:110544106-110544469\n",
      "Adding 1344 Ns to chr18:80573964-80574260\n",
      "Adding 1344 Ns to chr14:107052958-107053288\n",
      "Adding 1344 Ns to chr13:118344198-118344638\n",
      "Adding 1344 Ns to chr14:120382244-120382557\n",
      "Adding 1344 Ns to chr17:89550800-89551096\n",
      "Adding 1344 Ns to chr14:119409721-119410050\n",
      "Adding 1344 Ns to chr16:91010713-91011796\n",
      "Adding 1344 Ns to chr14:122280014-122280213\n",
      "Adding 1344 Ns to chr17:89970558-89970730\n"
     ]
    },
    {
     "name": "stdout",
     "output_type": "stream",
     "text": [
      "process 34000 peaks takes 9.3 s\n"
     ]
    },
    {
     "name": "stderr",
     "output_type": "stream",
     "text": [
      "Adding 1344 Ns to chr18:81581436-81581795\n",
      "Adding 1344 Ns to chr17:84285245-84285657\n",
      "Adding 1344 Ns to chr16:95449587-95449743\n",
      "Adding 1344 Ns to chr16:92006885-92007327\n",
      "Adding 1344 Ns to chr17:83631808-83632744\n",
      "Adding 1344 Ns to chr17:90439728-90440068\n",
      "Adding 1344 Ns to chr16:92203690-92203919\n",
      "Adding 1344 Ns to chr13:119761369-119762060\n",
      "Adding 1344 Ns to chr14:121040067-121040456\n",
      "Adding 1344 Ns to chr18:89559774-89560149\n",
      "Adding 1344 Ns to chr19:61097785-61098036\n",
      "Adding 1344 Ns to chr14:121987153-121987810\n",
      "Adding 1344 Ns to chr13:115697911-115698284\n",
      "Adding 1344 Ns to chr18:84909649-84910128\n",
      "Adding 1344 Ns to chr18:86222177-86222536\n",
      "Adding 1344 Ns to chr17:89347103-89348128\n",
      "Adding 1344 Ns to chr18:88893522-88894708\n"
     ]
    },
    {
     "name": "stdout",
     "output_type": "stream",
     "text": [
      "process 35000 peaks takes 9.5 s\n"
     ]
    },
    {
     "name": "stderr",
     "output_type": "stream",
     "text": [
      "Adding 1344 Ns to chr16:91314153-91314724\n",
      "Adding 1344 Ns to chr18:83840901-83841217\n",
      "Adding 1344 Ns to chr16:94419459-94419887\n",
      "Adding 1344 Ns to chr14:121311519-121311764\n",
      "Adding 1344 Ns to chrX:157292854-157293502\n",
      "Adding 1344 Ns to chr14:111576783-111577189\n",
      "Adding 1344 Ns to chr18:84873627-84874066\n",
      "Adding 1344 Ns to chr17:90532413-90532597\n",
      "Adding 1344 Ns to chr17:89470410-89470767\n",
      "Adding 1344 Ns to chr16:94362084-94362642\n",
      "Adding 1344 Ns to chrX:164183907-164184135\n",
      "Adding 1344 Ns to chr15:102750231-102750803\n",
      "Adding 1344 Ns to chr17:88578707-88578859\n",
      "Adding 1344 Ns to chr14:114863526-114863971\n",
      "Adding 1344 Ns to chr16:96353969-96354243\n",
      "Adding 1344 Ns to chr16:94047624-94048060\n",
      "Adding 1344 Ns to chr14:108812346-108812610\n",
      "Adding 1344 Ns to chr17:84370355-84370616\n",
      "Adding 1344 Ns to chr17:83776117-83776304\n",
      "Adding 1344 Ns to chr16:90516827-90516997\n",
      "Adding 1344 Ns to chr19:59280952-59281180\n",
      "Adding 1344 Ns to chr18:85134919-85135184\n",
      "Adding 1344 Ns to chr16:96258753-96258982\n",
      "Adding 1344 Ns to chr14:122249495-122249670\n",
      "Adding 1344 Ns to chr16:95175139-95175652\n",
      "Adding 1344 Ns to chr19:58819189-58819371\n",
      "Adding 1344 Ns to chr17:90761217-90761554\n",
      "Adding 1344 Ns to chr18:88735710-88735975\n"
     ]
    },
    {
     "name": "stdout",
     "output_type": "stream",
     "text": [
      "process 36000 peaks takes 9.8 s\n"
     ]
    },
    {
     "name": "stderr",
     "output_type": "stream",
     "text": [
      "Adding 1344 Ns to chr14:121034902-121035903\n",
      "Adding 1344 Ns to chr13:117633179-117633368\n",
      "Adding 1344 Ns to chr13:119330662-119331105\n",
      "Adding 1344 Ns to chr14:120296059-120296608\n",
      "Adding 1344 Ns to chr18:82616708-82617017\n",
      "Adding 1344 Ns to chr17:94254715-94255247\n",
      "Adding 1344 Ns to chr16:95033458-95033805\n",
      "Adding 1344 Ns to chr18:83232176-83232788\n",
      "Adding 1344 Ns to chr17:86580713-86581282\n",
      "Adding 1344 Ns to chr14:115070580-115070907\n",
      "Adding 1344 Ns to chrX:166373501-166373650\n",
      "Adding 1344 Ns to chr16:97002086-97002695\n",
      "Adding 1344 Ns to chr14:115025041-115025500\n",
      "Adding 1344 Ns to chr14:109310452-109310763\n",
      "Adding 1344 Ns to chr18:82672448-82672787\n",
      "Adding 1344 Ns to chr17:84261316-84261687\n",
      "Adding 1344 Ns to chr14:120867118-120867655\n",
      "Adding 1344 Ns to chrX:160516390-160516575\n",
      "Adding 1344 Ns to chr18:89547061-89547402\n",
      "Adding 1344 Ns to chr19:59027916-59028543\n",
      "Adding 1344 Ns to chr16:94940402-94941102\n",
      "Adding 1344 Ns to chr15:102233676-102234249\n",
      "Adding 1344 Ns to chr19:59074801-59076045\n",
      "Adding 1344 Ns to chr13:118379200-118379482\n",
      "Adding 1344 Ns to chrX:166289242-166289490\n",
      "Adding 1344 Ns to chr14:120441874-120442305\n",
      "Adding 1344 Ns to chr16:95182478-95182689\n",
      "Adding 1344 Ns to chr16:94997271-94997891\n",
      "Adding 1344 Ns to chr14:120994368-120994859\n",
      "Adding 1344 Ns to chrX:160994511-160995636\n",
      "Adding 1344 Ns to chr16:96617879-96618069\n",
      "Adding 1344 Ns to chr13:115186620-115187305\n",
      "Adding 1344 Ns to chrX:159963251-159963607\n",
      "Adding 1344 Ns to chr17:87609700-87610140\n"
     ]
    },
    {
     "name": "stdout",
     "output_type": "stream",
     "text": [
      "process 37000 peaks takes 10.1 s\n"
     ]
    },
    {
     "name": "stderr",
     "output_type": "stream",
     "text": [
      "Adding 1344 Ns to chr15:103299434-103300497\n",
      "Adding 1344 Ns to chrX:162913635-162914088\n",
      "Adding 1344 Ns to chrX:164953199-164953559\n",
      "Adding 1344 Ns to chr14:116913243-116913728\n",
      "Adding 1344 Ns to chrX:168429516-168430324\n",
      "Adding 1344 Ns to chr17:83527223-83527453\n",
      "Adding 1344 Ns to chr14:122655186-122655425\n",
      "Adding 1344 Ns to chr14:122841518-122841931\n",
      "Adding 1344 Ns to chrX:158548541-158548877\n",
      "Adding 1344 Ns to chr13:116322194-116322505\n",
      "Adding 1344 Ns to chr17:88580245-88580604\n",
      "Adding 1344 Ns to chr17:94564715-94564922\n",
      "Adding 1344 Ns to chr17:90400508-90400851\n",
      "Adding 1344 Ns to chr17:83389585-83389781\n",
      "Adding 1344 Ns to chr17:90695624-90695908\n",
      "Adding 1344 Ns to chr17:86906180-86906483\n",
      "Adding 1344 Ns to chr17:85826065-85826659\n",
      "Adding 1344 Ns to chrX:160773053-160773919\n",
      "Adding 1344 Ns to chr17:84783273-84783422\n",
      "Adding 1344 Ns to chrX:167212859-167213047\n",
      "Adding 1344 Ns to chr17:88065544-88066748\n",
      "Adding 1344 Ns to chr16:96280645-96281320\n",
      "Adding 1344 Ns to chr14:123037714-123038449\n",
      "Adding 1344 Ns to chr14:122343383-122343671\n",
      "Adding 1344 Ns to chr17:86249872-86250932\n",
      "Adding 1344 Ns to chr19:59417972-59418603\n",
      "Adding 1344 Ns to chr17:83378490-83378804\n"
     ]
    },
    {
     "name": "stdout",
     "output_type": "stream",
     "text": [
      "process 38000 peaks takes 10.4 s\n"
     ]
    },
    {
     "name": "stderr",
     "output_type": "stream",
     "text": [
      "Adding 1344 Ns to chr17:86618580-86618897\n",
      "Adding 1344 Ns to chr17:93510170-93510534\n",
      "Adding 1344 Ns to chr16:93797882-93798953\n",
      "Adding 1344 Ns to chr17:86282781-86283444\n",
      "Adding 1344 Ns to chr17:83586907-83588183\n",
      "Adding 1344 Ns to chrX:158613913-158615039\n",
      "Adding 1344 Ns to chr16:90928660-90929378\n",
      "Adding 1344 Ns to chr16:92421362-92421628\n",
      "Adding 1344 Ns to chr18:89575798-89576058\n",
      "Adding 1344 Ns to chr19:59382864-59383078\n",
      "Adding 1344 Ns to chr18:83992489-83992735\n",
      "Adding 1344 Ns to chr14:107769381-107769641\n",
      "Adding 1344 Ns to chr14:116553303-116553723\n",
      "Adding 1344 Ns to chr14:120685216-120685842\n",
      "Adding 1344 Ns to chr15:102503391-102503613\n",
      "Adding 1344 Ns to chrX:167208997-167209366\n",
      "Adding 1344 Ns to chrX:158536245-158536628\n",
      "Adding 1344 Ns to chr16:97405412-97405975\n",
      "Adding 1344 Ns to chr18:80853266-80853807\n",
      "Adding 1344 Ns to chr17:87949004-87949307\n",
      "Adding 1344 Ns to chr18:89146180-89146416\n",
      "Adding 1344 Ns to chr18:82669896-82670045\n"
     ]
    },
    {
     "name": "stdout",
     "output_type": "stream",
     "text": [
      "process 39000 peaks takes 10.6 s\n"
     ]
    },
    {
     "name": "stderr",
     "output_type": "stream",
     "text": [
      "Adding 1344 Ns to chr17:86197124-86197514\n",
      "Adding 1344 Ns to chr16:92588633-92589024\n",
      "Adding 1344 Ns to chr18:81962130-81962358\n",
      "Adding 1344 Ns to chr18:89564374-89564656\n",
      "Adding 1344 Ns to chr17:86549160-86549347\n",
      "Adding 1344 Ns to chr16:94232525-94232716\n",
      "Adding 1344 Ns to chr17:84723923-84724403\n",
      "Adding 1344 Ns to chrX:161162410-161163182\n",
      "Adding 1344 Ns to chr16:94931283-94932417\n",
      "Adding 1344 Ns to chr13:119754341-119754610\n",
      "Adding 1344 Ns to chr14:116559174-116559444\n",
      "Adding 1344 Ns to chr18:80755062-80755265\n",
      "Adding 1344 Ns to chrX:163537353-163537643\n",
      "Adding 1344 Ns to chr16:95684879-95685213\n",
      "Adding 1344 Ns to chr17:84183461-84183811\n",
      "Adding 1344 Ns to chr14:121119342-121119598\n",
      "Adding 1344 Ns to chr16:97956574-97957060\n",
      "Adding 1344 Ns to chr14:117905444-117905832\n",
      "Adding 1344 Ns to chrX:164268984-164269998\n",
      "Adding 1344 Ns to chr18:82591757-82592709\n",
      "Adding 1344 Ns to chr16:95150452-95150893\n",
      "Adding 1344 Ns to chr18:89036563-89036955\n"
     ]
    },
    {
     "name": "stdout",
     "output_type": "stream",
     "text": [
      "process 40000 peaks takes 10.9 s\n"
     ]
    },
    {
     "name": "stderr",
     "output_type": "stream",
     "text": [
      "Adding 1344 Ns to chr18:82469937-82470418\n",
      "Adding 1344 Ns to chr14:123843693-123844039\n",
      "Adding 1344 Ns to chr19:60179338-60179832\n",
      "Adding 1344 Ns to chr14:117977171-117977420\n",
      "Adding 1344 Ns to chr16:90511345-90512145\n",
      "Adding 1344 Ns to chr17:84728904-84729260\n",
      "Adding 1344 Ns to chr18:82508232-82509040\n",
      "Adding 1344 Ns to chrX:161613350-161613593\n",
      "Adding 1344 Ns to chrX:157981822-157982250\n",
      "Adding 1344 Ns to chr13:117938971-117939399\n",
      "Adding 1344 Ns to chrX:157532392-157532541\n",
      "Adding 1344 Ns to chr16:96753780-96754199\n",
      "Adding 1344 Ns to chr17:93378926-93379091\n",
      "Adding 1344 Ns to chrX:165246957-165247314\n",
      "Adding 1344 Ns to chr17:86540582-86540897\n",
      "Adding 1344 Ns to chr18:85300688-85301352\n",
      "Adding 1344 Ns to chr17:90422387-90422579\n",
      "Adding 1344 Ns to chr14:120033683-120034200\n",
      "Adding 1344 Ns to chr14:120925967-120926650\n",
      "Adding 1344 Ns to chr14:114781150-114781597\n",
      "Adding 1344 Ns to chr18:86284033-86284228\n",
      "Adding 1344 Ns to chr17:84551241-84551667\n",
      "Adding 1344 Ns to chr17:86785329-86786310\n",
      "Adding 1344 Ns to chr18:84995959-84996316\n",
      "Adding 1344 Ns to chr17:86404679-86405304\n",
      "Adding 1344 Ns to chrX:159459329-159459891\n",
      "Adding 1344 Ns to chr16:94555931-94556437\n",
      "Adding 1344 Ns to chr18:83813304-83813542\n",
      "Adding 1344 Ns to chr14:120581629-120581894\n",
      "Adding 1344 Ns to chr17:90342621-90342780\n",
      "Adding 1344 Ns to chr16:96209911-96210133\n"
     ]
    },
    {
     "name": "stdout",
     "output_type": "stream",
     "text": [
      "process 41000 peaks takes 11.1 s\n"
     ]
    },
    {
     "name": "stderr",
     "output_type": "stream",
     "text": [
      "Adding 1344 Ns to chr14:117664408-117665182\n",
      "Adding 1344 Ns to chr18:80567581-80567843\n",
      "Adding 1344 Ns to chr16:92864331-92864525\n",
      "Adding 1344 Ns to chr15:102870924-102871301\n",
      "Adding 1344 Ns to chr17:92407789-92407938\n",
      "Adding 1344 Ns to chr16:96636049-96636362\n",
      "Adding 1344 Ns to chr17:86802372-86802636\n",
      "Adding 1344 Ns to chr14:122450967-122451365\n",
      "Adding 1344 Ns to chr18:82718486-82718974\n",
      "Adding 1344 Ns to chrX:165308139-165308507\n",
      "Adding 1344 Ns to chr14:123143492-123144069\n",
      "Adding 1344 Ns to chr17:93325659-93325874\n",
      "Adding 1344 Ns to chr14:119608276-119609023\n",
      "Adding 1344 Ns to chr15:102279148-102280249\n",
      "Adding 1344 Ns to chr14:123158766-123159055\n",
      "Adding 1344 Ns to chr16:95667866-95668337\n",
      "Adding 1344 Ns to chrX:158411100-158411618\n",
      "Adding 1344 Ns to chr17:87351655-87351936\n",
      "Adding 1344 Ns to chr18:82792800-82793152\n",
      "Adding 1344 Ns to chr16:96294978-96295261\n",
      "Adding 1344 Ns to chr14:118001210-118001985\n",
      "Adding 1344 Ns to chr17:83574654-83574973\n",
      "Adding 1344 Ns to chr17:85873963-85874585\n",
      "Adding 1344 Ns to chr18:87901623-87901880\n",
      "Adding 1344 Ns to chrX:162527301-162527627\n",
      "Adding 1344 Ns to chrX:169343270-169343577\n"
     ]
    },
    {
     "name": "stdout",
     "output_type": "stream",
     "text": [
      "process 42000 peaks takes 11.4 s\n"
     ]
    },
    {
     "name": "stderr",
     "output_type": "stream",
     "text": [
      "Adding 1344 Ns to chr18:82867731-82868079\n",
      "Adding 1344 Ns to chrX:159675081-159675316\n",
      "Adding 1344 Ns to chr16:90990042-90990798\n",
      "Adding 1344 Ns to chr14:120495557-120495706\n",
      "Adding 1344 Ns to chr17:87745040-87745724\n",
      "Adding 1344 Ns to chr17:84322210-84322490\n",
      "Adding 1344 Ns to chr14:121225474-121226219\n",
      "Adding 1344 Ns to chr15:102296004-102296504\n",
      "Adding 1344 Ns to chrX:164443542-164443709\n",
      "Adding 1344 Ns to chr17:86593821-86594130\n",
      "Adding 1344 Ns to chr19:60603033-60603696\n",
      "Adding 1344 Ns to chr16:94472215-94473474\n",
      "Adding 1344 Ns to chr17:85027384-85027620\n",
      "Adding 1344 Ns to chrX:167749206-167749803\n",
      "Adding 1344 Ns to chr17:85704380-85704644\n",
      "Adding 1344 Ns to chrX:167158644-167159004\n"
     ]
    },
    {
     "name": "stdout",
     "output_type": "stream",
     "text": [
      "process 43000 peaks takes 11.7 s\n"
     ]
    },
    {
     "name": "stderr",
     "output_type": "stream",
     "text": [
      "Adding 1344 Ns to chr19:59784436-59784934\n",
      "Adding 1344 Ns to chr14:119247947-119248677\n",
      "Adding 1344 Ns to chrX:163192429-163192834\n",
      "Adding 1344 Ns to chr14:117975122-117975323\n",
      "Adding 1344 Ns to chr15:103576723-103577330\n",
      "Adding 1344 Ns to chr14:123968009-123968330\n",
      "Adding 1344 Ns to chr14:122475772-122476299\n",
      "Adding 1344 Ns to chr17:87945237-87945702\n",
      "Adding 1344 Ns to chr18:88707382-88707532\n",
      "Adding 1344 Ns to chr16:95209637-95209988\n",
      "Adding 1344 Ns to chr16:96539157-96539432\n",
      "Adding 1344 Ns to chr16:91466523-91466835\n",
      "Adding 1344 Ns to chr17:90346767-90347049\n",
      "Adding 1344 Ns to chrX:162762122-162762386\n",
      "Adding 1344 Ns to chr17:90845662-90845858\n",
      "Adding 1344 Ns to chr14:112380586-112380809\n",
      "Adding 1344 Ns to chrX:167507517-167507916\n"
     ]
    },
    {
     "name": "stdout",
     "output_type": "stream",
     "text": [
      "process 44000 peaks takes 11.9 s\n"
     ]
    },
    {
     "name": "stderr",
     "output_type": "stream",
     "text": [
      "Adding 1344 Ns to chr14:109874271-109874510\n",
      "Adding 1344 Ns to chr13:114878688-114879137\n",
      "Adding 1344 Ns to chr16:94209635-94210145\n",
      "Adding 1344 Ns to chr15:103513539-103514005\n",
      "Adding 1344 Ns to chr14:109432546-109432983\n",
      "Adding 1344 Ns to chr17:88937639-88938098\n",
      "Adding 1344 Ns to chr14:123574743-123575320\n",
      "Adding 1344 Ns to chr16:91884875-91885267\n",
      "Adding 1344 Ns to chr18:86409120-86409320\n",
      "Adding 1344 Ns to chrX:161038725-161039109\n",
      "Adding 1344 Ns to chrX:159856611-159857315\n",
      "Adding 1344 Ns to chr17:87177181-87177536\n",
      "Adding 1344 Ns to chr16:94883741-94883921\n",
      "Adding 1344 Ns to chr18:82563185-82563334\n",
      "Adding 1344 Ns to chr17:87797656-87798312\n",
      "Adding 1344 Ns to chr15:103340814-103341181\n",
      "Adding 1344 Ns to chr17:83850596-83850793\n",
      "Adding 1344 Ns to chr18:81916109-81916698\n",
      "Adding 1344 Ns to chr15:103070120-103070390\n",
      "Adding 1344 Ns to chr16:96559654-96560188\n",
      "Adding 1344 Ns to chrX:157383057-157383480\n",
      "Adding 1344 Ns to chr18:84914312-84915258\n",
      "Adding 1344 Ns to chr15:102109159-102109587\n",
      "Adding 1344 Ns to chr17:86725040-86725415\n",
      "Adding 1344 Ns to chrX:166860484-166860847\n",
      "Adding 1344 Ns to chr16:92454039-92454287\n",
      "Adding 1344 Ns to chr14:121254776-121255389\n",
      "Adding 1344 Ns to chrX:169909994-169910261\n",
      "Adding 1344 Ns to chr17:83461605-83461853\n",
      "Adding 1344 Ns to chr17:89360106-89360470\n",
      "Adding 1344 Ns to chr14:122097811-122098480\n",
      "Adding 1344 Ns to chr18:80676740-80677112\n",
      "Adding 1344 Ns to chr19:60408340-60408938\n",
      "Adding 1344 Ns to chr17:85357796-85357991\n",
      "Adding 1344 Ns to chr18:82725782-82726246\n"
     ]
    },
    {
     "name": "stdout",
     "output_type": "stream",
     "text": [
      "process 45000 peaks takes 12.2 s\n"
     ]
    },
    {
     "name": "stderr",
     "output_type": "stream",
     "text": [
      "Adding 1344 Ns to chr15:103298027-103298335\n",
      "Adding 1344 Ns to chr16:91053711-91053975\n",
      "Adding 1344 Ns to chr17:90088067-90088665\n",
      "Adding 1344 Ns to chr17:83807969-83808329\n",
      "Adding 1344 Ns to chr17:90634849-90635401\n",
      "Adding 1344 Ns to chr17:85335385-85336277\n",
      "Adding 1344 Ns to chr19:61023987-61024392\n",
      "Adding 1344 Ns to chr17:86980458-86980691\n",
      "Adding 1344 Ns to chr14:121044232-121044438\n",
      "Adding 1344 Ns to chr17:90225726-90225978\n",
      "Adding 1344 Ns to chr14:122719168-122719414\n",
      "Adding 1344 Ns to chr17:90262455-90262614\n",
      "Adding 1344 Ns to chr16:94568940-94570159\n",
      "Adding 1344 Ns to chr18:84655730-84655908\n",
      "Adding 1344 Ns to chr17:84575158-84575428\n",
      "Adding 1344 Ns to chrX:168206890-168207467\n",
      "Adding 1344 Ns to chr18:86453749-86454110\n",
      "Adding 1344 Ns to chr16:92099991-92100549\n",
      "Adding 1344 Ns to chr18:84880357-84880961\n",
      "Adding 1344 Ns to chr17:86310352-86310669\n",
      "Adding 1344 Ns to chrX:163364832-163365178\n",
      "Adding 1344 Ns to chrX:156448832-156449349\n",
      "Adding 1344 Ns to chr17:86715848-86716082\n",
      "Adding 1344 Ns to chr16:91184500-91184919\n",
      "Adding 1344 Ns to chrX:167652017-167652746\n",
      "Adding 1344 Ns to chr17:84146012-84146164\n",
      "Adding 1344 Ns to chr14:119797275-119797787\n",
      "Adding 1344 Ns to chrX:166950933-166951377\n",
      "Adding 1344 Ns to chr16:90628939-90629674\n",
      "Adding 1344 Ns to chr18:88765170-88765607\n",
      "Adding 1344 Ns to chr13:117837604-117838003\n",
      "Adding 1344 Ns to chr18:86798652-86799193\n"
     ]
    },
    {
     "name": "stdout",
     "output_type": "stream",
     "text": [
      "process 46000 peaks takes 12.5 s\n"
     ]
    },
    {
     "name": "stderr",
     "output_type": "stream",
     "text": [
      "Adding 1344 Ns to chrX:161896778-161897116\n",
      "Adding 1344 Ns to chr19:59338415-59338721\n",
      "Adding 1344 Ns to chr17:85995725-85996083\n",
      "Adding 1344 Ns to chr13:114892063-114892535\n",
      "Adding 1344 Ns to chr17:86315034-86315422\n",
      "Adding 1344 Ns to chr16:92105010-92105307\n",
      "Adding 1344 Ns to chr16:91809311-91809733\n",
      "Adding 1344 Ns to chrX:167081420-167081670\n",
      "Adding 1344 Ns to chr14:123367817-123368023\n",
      "Adding 1344 Ns to chr14:117821770-117822117\n",
      "Adding 1344 Ns to chrX:160542780-160543248\n",
      "Adding 1344 Ns to chr16:97738098-97738354\n",
      "Adding 1344 Ns to chr14:121480110-121480429\n",
      "Adding 1344 Ns to chrX:160914112-160914662\n",
      "Adding 1344 Ns to chr15:103183185-103183548\n",
      "Adding 1344 Ns to chr15:103121347-103121805\n",
      "Adding 1344 Ns to chr18:82254174-82254534\n",
      "Adding 1344 Ns to chr17:84571644-84571950\n",
      "Adding 1344 Ns to chrX:157606118-157606553\n",
      "Adding 1344 Ns to chr14:121223751-121223973\n",
      "Adding 1344 Ns to chr13:114794222-114794436\n",
      "Adding 1344 Ns to chr17:90542630-90542875\n",
      "Adding 1344 Ns to chr16:97286577-97287150\n",
      "Adding 1344 Ns to chr18:84245850-84246362\n",
      "Adding 1344 Ns to chr17:87460663-87461016\n",
      "Adding 1344 Ns to chr17:84048402-84048874\n"
     ]
    },
    {
     "name": "stdout",
     "output_type": "stream",
     "text": [
      "process 47000 peaks takes 12.7 s\n"
     ]
    },
    {
     "name": "stderr",
     "output_type": "stream",
     "text": [
      "Adding 1344 Ns to chrX:160504041-160504401\n",
      "Adding 1344 Ns to chr14:117174903-117175115\n",
      "Adding 1344 Ns to chr18:82677125-82677734\n",
      "Adding 1344 Ns to chr15:102355946-102356375\n",
      "Adding 1344 Ns to chr14:121455478-121456008\n",
      "Adding 1344 Ns to chr14:108913878-108914332\n",
      "Adding 1344 Ns to chr14:119188070-119188457\n",
      "Adding 1344 Ns to chr13:119251970-119252358\n",
      "Adding 1344 Ns to chrX:159001183-159001369\n",
      "Adding 1344 Ns to chrX:168058196-168058421\n",
      "Adding 1344 Ns to chr14:120772296-120772609\n",
      "Adding 1344 Ns to chr18:84293664-84294306\n",
      "Adding 1344 Ns to chr14:120155632-120156445\n",
      "Adding 1344 Ns to chr18:80760672-80760866\n",
      "Adding 1344 Ns to chr18:88484834-88485169\n",
      "Adding 1344 Ns to chr15:103122399-103122821\n",
      "Adding 1344 Ns to chr14:116321672-116321850\n",
      "Adding 1344 Ns to chrX:167261900-167262106\n"
     ]
    },
    {
     "name": "stdout",
     "output_type": "stream",
     "text": [
      "process 48000 peaks takes 13.0 s\n"
     ]
    },
    {
     "name": "stderr",
     "output_type": "stream",
     "text": [
      "Adding 1344 Ns to chr17:86909853-86910257\n",
      "Adding 1344 Ns to chr17:83489114-83489390\n",
      "Adding 1344 Ns to chr16:96755066-96755514\n",
      "Adding 1344 Ns to chr14:123461073-123461236\n",
      "Adding 1344 Ns to chr17:91385878-91386443\n",
      "Adding 1344 Ns to chr17:84781248-84781494\n",
      "Adding 1344 Ns to chr17:88908729-88909258\n",
      "Adding 1344 Ns to chr17:83324315-83324686\n",
      "Adding 1344 Ns to chrX:166709825-166710231\n",
      "Adding 1344 Ns to chr17:91361335-91361603\n",
      "Adding 1344 Ns to chr17:84465690-84466581\n",
      "Adding 1344 Ns to chr17:86345193-86346112\n",
      "Adding 1344 Ns to chrX:158381130-158381476\n",
      "Adding 1344 Ns to chr14:117023020-117023406\n",
      "Adding 1344 Ns to chr13:114817889-114818421\n",
      "Adding 1344 Ns to chr18:83492004-83492371\n",
      "Adding 1344 Ns to chr16:95573053-95573611\n",
      "Adding 1344 Ns to chr16:92705675-92706189\n",
      "Adding 1344 Ns to chr14:121186991-121187259\n",
      "Adding 1344 Ns to chr16:92158120-92158307\n",
      "Adding 1344 Ns to chr15:102194377-102194796\n",
      "Adding 1344 Ns to chr17:83528217-83528437\n",
      "Adding 1344 Ns to chr14:120404296-120404676\n",
      "Adding 1344 Ns to chr15:102262513-102263049\n",
      "Adding 1344 Ns to chrX:164980076-164980815\n",
      "Adding 1344 Ns to chr17:88021213-88021959\n",
      "Adding 1344 Ns to chr19:60489587-60489914\n",
      "Adding 1344 Ns to chr16:95114028-95114225\n",
      "Adding 1344 Ns to chr17:84100515-84100967\n",
      "Adding 1344 Ns to chr16:91265976-91266251\n",
      "Adding 1344 Ns to chrX:159459054-159459292\n",
      "Adding 1344 Ns to chr14:111674507-111675022\n"
     ]
    },
    {
     "name": "stdout",
     "output_type": "stream",
     "text": [
      "process 49000 peaks takes 13.2 s\n"
     ]
    },
    {
     "name": "stderr",
     "output_type": "stream",
     "text": [
      "Adding 1344 Ns to chr15:103371387-103371711\n",
      "Adding 1344 Ns to chr16:96518813-96519219\n",
      "Adding 1344 Ns to chr16:90483295-90483823\n",
      "Adding 1344 Ns to chr17:88449568-88449722\n",
      "Adding 1344 Ns to chr16:96345132-96345479\n",
      "Adding 1344 Ns to chrX:164801722-164801991\n",
      "Adding 1344 Ns to chr14:120487569-120487853\n",
      "Adding 1344 Ns to chr15:102013638-102013970\n",
      "Adding 1344 Ns to chrX:166316034-166316300\n",
      "Adding 1344 Ns to chrX:166323065-166323637\n",
      "Adding 1344 Ns to chr17:93597998-93598803\n",
      "Adding 1344 Ns to chr17:86663114-86663295\n",
      "Adding 1344 Ns to chr16:95525815-95526195\n",
      "Adding 1344 Ns to chr16:91785168-91785418\n",
      "Adding 1344 Ns to chr13:117707355-117707797\n",
      "Adding 1344 Ns to chr14:116543637-116544101\n",
      "Adding 1344 Ns to chr14:121749757-121750098\n",
      "Adding 1344 Ns to chrX:166393036-166393332\n",
      "Adding 1344 Ns to chr14:119702938-119703608\n",
      "Adding 1344 Ns to chrX:158976494-158976747\n",
      "Adding 1344 Ns to chrX:162636893-162637133\n",
      "Adding 1344 Ns to chr14:122957818-122958385\n",
      "Adding 1344 Ns to chr15:102256834-102257976\n",
      "Adding 1344 Ns to chr19:58680217-58680621\n"
     ]
    },
    {
     "name": "stdout",
     "output_type": "stream",
     "text": [
      "process 50000 peaks takes 13.5 s\n"
     ]
    },
    {
     "name": "stderr",
     "output_type": "stream",
     "text": [
      "Adding 1344 Ns to chr14:109582981-109583611\n",
      "Adding 1344 Ns to chrX:160603831-160604795\n",
      "Adding 1344 Ns to chr14:118908902-118909284\n",
      "Adding 1344 Ns to chrX:166732989-166733355\n",
      "Adding 1344 Ns to chr16:94885041-94885590\n",
      "Adding 1344 Ns to chr14:116948223-116948593\n",
      "Adding 1344 Ns to chr19:58761623-58762033\n",
      "Adding 1344 Ns to chr16:97897605-97897865\n",
      "Adding 1344 Ns to chrX:158632425-158632869\n",
      "Adding 1344 Ns to chrX:161854000-161854210\n",
      "Adding 1344 Ns to chr14:121148137-121148442\n",
      "Adding 1344 Ns to chr14:121107861-121108238\n",
      "Adding 1344 Ns to chr16:95740131-95740403\n",
      "Adding 1344 Ns to chr17:93263202-93263421\n",
      "Adding 1344 Ns to chr19:59922329-59922584\n",
      "Adding 1344 Ns to chr16:96938896-96939202\n",
      "Adding 1344 Ns to chr18:85187985-85188348\n",
      "Adding 1344 Ns to chrX:157079641-157079940\n",
      "Adding 1344 Ns to chr17:83527688-83527857\n",
      "Adding 1344 Ns to chr16:96753077-96753610\n",
      "Adding 1344 Ns to chr16:96304532-96304792\n",
      "Adding 1344 Ns to chr16:92605598-92606087\n",
      "Adding 1344 Ns to chr15:103239286-103240518\n",
      "Adding 1344 Ns to chr14:117892055-117892416\n",
      "Adding 1344 Ns to chr14:124502159-124502542\n",
      "Adding 1344 Ns to chr17:89960324-89960942\n",
      "Adding 1344 Ns to chr16:91882193-91882564\n",
      "Adding 1344 Ns to chr14:124598278-124598729\n"
     ]
    },
    {
     "name": "stdout",
     "output_type": "stream",
     "text": [
      "process 51000 peaks takes 13.8 s\n"
     ]
    },
    {
     "name": "stderr",
     "output_type": "stream",
     "text": [
      "Adding 1344 Ns to chr17:84600272-84600850\n",
      "Adding 1344 Ns to chr18:84999288-84999664\n",
      "Adding 1344 Ns to chr19:58750657-58751213\n",
      "Adding 1344 Ns to chr14:124596892-124597142\n",
      "Adding 1344 Ns to chr15:103013593-103013813\n",
      "Adding 1344 Ns to chr19:58953312-58953495\n",
      "Adding 1344 Ns to chrX:158833048-158833524\n",
      "Adding 1344 Ns to chr17:87540387-87540536\n",
      "Adding 1344 Ns to chr18:82012242-82012438\n",
      "Adding 1344 Ns to chr15:103457965-103458122\n",
      "Adding 1344 Ns to chr16:92291269-92291526\n",
      "Adding 1344 Ns to chrX:162540910-162541145\n",
      "Adding 1344 Ns to chr19:58843706-58843952\n",
      "Adding 1344 Ns to chr13:119780192-119780587\n",
      "Adding 1344 Ns to chr14:113441289-113441480\n",
      "Adding 1344 Ns to chr16:96540914-96541316\n",
      "Adding 1344 Ns to chr14:114556818-114557275\n",
      "Adding 1344 Ns to chr18:84230715-84230991\n",
      "Adding 1344 Ns to chr14:121878085-121878819\n",
      "Adding 1344 Ns to chrX:159215201-159215931\n",
      "Adding 1344 Ns to chrX:162397548-162398016\n",
      "Adding 1344 Ns to chr17:91430802-91431172\n"
     ]
    },
    {
     "name": "stdout",
     "output_type": "stream",
     "text": [
      "process 52000 peaks takes 14.0 s\n"
     ]
    },
    {
     "name": "stderr",
     "output_type": "stream",
     "text": [
      "Adding 1344 Ns to chr18:90310185-90310581\n",
      "Adding 1344 Ns to chr15:102524435-102524701\n",
      "Adding 1344 Ns to chr14:119489017-119489713\n",
      "Adding 1344 Ns to chrX:162470294-162470658\n",
      "Adding 1344 Ns to chrX:168639450-168640031\n",
      "Adding 1344 Ns to chr17:84642043-84642831\n",
      "Adding 1344 Ns to chr14:117267924-117268132\n",
      "Adding 1344 Ns to chr14:123043107-123043505\n",
      "Adding 1344 Ns to chr13:114848979-114849327\n",
      "Adding 1344 Ns to chr18:82765183-82765604\n",
      "Adding 1344 Ns to chr16:90372201-90372403\n",
      "Adding 1344 Ns to chr17:86218602-86218798\n",
      "Adding 1344 Ns to chr14:117241740-117241969\n",
      "Adding 1344 Ns to chr14:108741359-108741686\n",
      "Adding 1344 Ns to chr17:90509143-90509606\n",
      "Adding 1344 Ns to chrX:158655970-158656251\n",
      "Adding 1344 Ns to chr18:84951904-84952388\n",
      "Adding 1344 Ns to chr18:89786336-89786671\n",
      "Adding 1344 Ns to chr15:102743295-102743499\n",
      "Adding 1344 Ns to chr17:84142891-84143193\n",
      "Adding 1344 Ns to chr14:117903961-117904125\n",
      "Adding 1344 Ns to chr18:80858316-80859073\n",
      "Adding 1344 Ns to chr16:94289087-94289645\n",
      "Adding 1344 Ns to chr13:114478521-114478818\n"
     ]
    },
    {
     "name": "stdout",
     "output_type": "stream",
     "text": [
      "process 53000 peaks takes 14.3 s\n"
     ]
    },
    {
     "name": "stderr",
     "output_type": "stream",
     "text": [
      "Adding 1344 Ns to chr15:103248661-103248840\n",
      "Adding 1344 Ns to chrX:160835636-160835922\n",
      "Adding 1344 Ns to chrX:162901209-162902697\n",
      "Adding 1344 Ns to chrX:166238767-166239226\n",
      "Adding 1344 Ns to chr13:118091638-118091910\n",
      "Adding 1344 Ns to chr14:108744060-108744368\n",
      "Adding 1344 Ns to chr14:111631072-111631350\n",
      "Adding 1344 Ns to chr14:117890662-117891206\n",
      "Adding 1344 Ns to chr15:102740014-102740249\n",
      "Adding 1344 Ns to chr17:85045806-85045977\n",
      "Adding 1344 Ns to chr15:102596203-102596472\n",
      "Adding 1344 Ns to chrX:169123219-169123451\n",
      "Adding 1344 Ns to chr15:103233103-103233608\n",
      "Adding 1344 Ns to chr19:60437620-60438313\n",
      "Adding 1344 Ns to chr18:88782173-88782818\n",
      "Adding 1344 Ns to chrX:160137782-160138761\n",
      "Adding 1344 Ns to chr14:114833069-114833285\n",
      "Adding 1344 Ns to chr17:87826892-87827373\n",
      "Adding 1344 Ns to chrX:162915734-162916043\n",
      "Adding 1344 Ns to chr14:122599944-122600111\n",
      "Adding 1344 Ns to chr19:60195695-60196027\n",
      "Adding 1344 Ns to chr17:83460619-83461099\n",
      "Adding 1344 Ns to chr16:92770122-92770387\n",
      "Adding 1344 Ns to chrX:167798583-167798772\n",
      "Adding 1344 Ns to chr18:80738927-80739217\n",
      "Adding 1344 Ns to chr18:84916868-84917141\n",
      "Adding 1344 Ns to chr18:83636241-83636538\n"
     ]
    },
    {
     "name": "stdout",
     "output_type": "stream",
     "text": [
      "process 54000 peaks takes 14.6 s\n"
     ]
    },
    {
     "name": "stderr",
     "output_type": "stream",
     "text": [
      "Adding 1344 Ns to chr16:93186585-93187044\n",
      "Adding 1344 Ns to chr17:90963297-90963492\n",
      "Adding 1344 Ns to chr17:86296536-86296751\n",
      "Adding 1344 Ns to chr18:86394632-86395737\n",
      "Adding 1344 Ns to chr14:124195535-124196148\n",
      "Adding 1344 Ns to chrX:157709201-157709842\n",
      "Adding 1344 Ns to chr16:94890132-94890432\n",
      "Adding 1344 Ns to chr17:86986515-86986782\n",
      "Adding 1344 Ns to chr18:81038829-81038995\n",
      "Adding 1344 Ns to chr14:120466899-120467115\n",
      "Adding 1344 Ns to chr17:84646479-84647244\n",
      "Adding 1344 Ns to chr17:86801251-86801630\n",
      "Adding 1344 Ns to chr14:120423450-120423756\n",
      "Adding 1344 Ns to chr17:88274075-88275372\n",
      "Adding 1344 Ns to chrX:167988027-167988461\n",
      "Adding 1344 Ns to chr18:89179399-89179902\n",
      "Adding 1344 Ns to chr18:83962403-83962711\n",
      "Adding 1344 Ns to chr17:86639361-86639660\n",
      "Adding 1344 Ns to chr18:84685332-84686111\n",
      "Adding 1344 Ns to chr18:89263474-89263842\n",
      "Adding 1344 Ns to chr13:118386578-118387617\n"
     ]
    },
    {
     "name": "stdout",
     "output_type": "stream",
     "text": [
      "process 55000 peaks takes 14.8 s\n"
     ]
    },
    {
     "name": "stderr",
     "output_type": "stream",
     "text": [
      "Adding 1344 Ns to chr15:102129455-102129767\n",
      "Adding 1344 Ns to chr14:121736493-121736828\n",
      "Adding 1344 Ns to chr18:84087339-84088329\n",
      "Adding 1344 Ns to chr16:97073972-97074197\n",
      "Adding 1344 Ns to chr17:89581271-89581723\n",
      "Adding 1344 Ns to chr17:93217644-93218181\n",
      "Adding 1344 Ns to chr14:117951147-117951626\n",
      "Adding 1344 Ns to chr14:120522070-120522312\n",
      "Adding 1344 Ns to chr14:122721724-122722073\n",
      "Adding 1344 Ns to chr16:94769118-94769370\n",
      "Adding 1344 Ns to chr16:94477692-94477899\n",
      "Adding 1344 Ns to chr16:90992344-90992493\n",
      "Adding 1344 Ns to chr16:96091159-96092149\n",
      "Adding 1344 Ns to chr15:102651178-102651514\n",
      "Adding 1344 Ns to chr16:93935292-93935544\n",
      "Adding 1344 Ns to chr14:119747248-119747738\n",
      "Adding 1344 Ns to chrX:169056251-169056500\n",
      "Adding 1344 Ns to chr17:84713543-84714119\n",
      "Adding 1344 Ns to chr18:84851055-84851553\n",
      "Adding 1344 Ns to chr14:123513383-123513737\n",
      "Adding 1344 Ns to chr19:60614165-60614377\n",
      "Adding 1344 Ns to chr14:114528673-114528918\n",
      "Adding 1344 Ns to chrX:161739341-161739536\n"
     ]
    },
    {
     "name": "stdout",
     "output_type": "stream",
     "text": [
      "process 56000 peaks takes 15.1 s\n"
     ]
    },
    {
     "name": "stderr",
     "output_type": "stream",
     "text": [
      "Adding 1344 Ns to chr14:116926250-116927245\n",
      "Adding 1344 Ns to chr17:86754148-86754430\n",
      "Adding 1344 Ns to chr17:90195368-90195610\n",
      "Adding 1344 Ns to chr17:90659488-90659822\n",
      "Adding 1344 Ns to chr14:116237939-116238299\n",
      "Adding 1344 Ns to chrX:162556158-162556837\n",
      "Adding 1344 Ns to chrX:168013503-168013881\n",
      "Adding 1344 Ns to chr18:82989227-82989611\n",
      "Adding 1344 Ns to chr13:117687714-117688170\n",
      "Adding 1344 Ns to chr17:84362933-84363247\n",
      "Adding 1344 Ns to chrX:166457992-166458196\n",
      "Adding 1344 Ns to chr14:121734217-121734528\n",
      "Adding 1344 Ns to chr17:87142336-87142793\n",
      "Adding 1344 Ns to chr17:84419693-84420298\n",
      "Adding 1344 Ns to chr15:103500703-103501071\n",
      "Adding 1344 Ns to chr14:117246099-117246326\n",
      "Adding 1344 Ns to chr14:122146372-122146721\n",
      "Adding 1344 Ns to chr16:97441360-97441742\n",
      "Adding 1344 Ns to chr17:86913188-86913746\n",
      "Adding 1344 Ns to chr17:86970948-86971395\n"
     ]
    },
    {
     "name": "stdout",
     "output_type": "stream",
     "text": [
      "process 57000 peaks takes 15.3 s\n"
     ]
    },
    {
     "name": "stderr",
     "output_type": "stream",
     "text": [
      "Adding 1344 Ns to chr18:83362214-83362365\n",
      "Adding 1344 Ns to chrX:169115371-169115572\n",
      "Adding 1344 Ns to chr14:115240990-115241392\n",
      "Adding 1344 Ns to chr17:86967119-86967336\n",
      "Adding 1344 Ns to chrX:169772369-169772599\n",
      "Adding 1344 Ns to chr18:81838948-81839356\n",
      "Adding 1344 Ns to chr14:117958242-117959091\n",
      "Adding 1344 Ns to chr16:94411213-94411629\n",
      "Adding 1344 Ns to chrX:159271632-159271781\n",
      "Adding 1344 Ns to chr16:91081493-91081895\n",
      "Adding 1344 Ns to chr16:97439063-97439274\n",
      "Adding 1344 Ns to chr17:88545824-88546112\n",
      "Adding 1344 Ns to chr16:94586193-94586610\n",
      "Adding 1344 Ns to chr13:117676395-117676988\n",
      "Adding 1344 Ns to chr17:87459374-87460583\n",
      "Adding 1344 Ns to chr16:92013225-92013766\n",
      "Adding 1344 Ns to chr15:103530388-103530752\n",
      "Adding 1344 Ns to chr14:121738357-121739025\n",
      "Adding 1344 Ns to chr14:114587446-114587808\n",
      "Adding 1344 Ns to chr17:90435478-90436505\n",
      "Adding 1344 Ns to chr14:124400913-124401134\n",
      "Adding 1344 Ns to chr16:94660125-94660649\n",
      "Adding 1344 Ns to chr19:59388313-59388720\n",
      "Adding 1344 Ns to chr17:85944398-85944826\n",
      "Adding 1344 Ns to chrX:160749943-160750557\n",
      "Adding 1344 Ns to chr18:80802500-80803008\n"
     ]
    },
    {
     "name": "stdout",
     "output_type": "stream",
     "text": [
      "process 58000 peaks takes 15.6 s\n"
     ]
    },
    {
     "name": "stderr",
     "output_type": "stream",
     "text": [
      "Adding 1344 Ns to chr16:90746525-90746786\n",
      "Adding 1344 Ns to chr14:124289349-124289682\n",
      "Adding 1344 Ns to chr17:86411897-86412103\n",
      "Adding 1344 Ns to chr14:108356437-108356931\n",
      "Adding 1344 Ns to chr14:121865245-121865511\n",
      "Adding 1344 Ns to chrX:157920086-157920595\n",
      "Adding 1344 Ns to chr16:92402164-92402476\n",
      "Adding 1344 Ns to chr16:96684669-96684903\n",
      "Adding 1344 Ns to chr17:90454166-90454630\n",
      "Adding 1344 Ns to chr14:119209354-119210047\n",
      "Adding 1344 Ns to chrX:167769853-167770250\n",
      "Adding 1344 Ns to chr16:97192348-97192566\n",
      "Adding 1344 Ns to chr17:88325863-88326715\n",
      "Adding 1344 Ns to chr17:84181718-84181967\n",
      "Adding 1344 Ns to chr18:80838037-80838391\n",
      "Adding 1344 Ns to chr16:91442414-91442718\n",
      "Adding 1344 Ns to chr13:117880603-117880978\n",
      "Adding 1344 Ns to chr15:103473043-103473681\n",
      "Adding 1344 Ns to chr14:122854057-122854344\n",
      "Adding 1344 Ns to chr16:94570452-94570832\n",
      "Adding 1344 Ns to chr17:84713110-84713491\n",
      "Adding 1344 Ns to chr13:117877917-117878218\n",
      "Adding 1344 Ns to chr16:95825751-95826034\n",
      "Adding 1344 Ns to chr16:90955697-90955937\n",
      "Adding 1344 Ns to chrX:169377727-169377964\n",
      "Adding 1344 Ns to chr17:90584747-90585754\n",
      "Adding 1344 Ns to chrX:157714045-157714727\n",
      "Adding 1344 Ns to chr14:119145121-119145777\n",
      "Adding 1344 Ns to chrX:164041949-164042526\n",
      "Adding 1344 Ns to chr16:90624028-90624320\n"
     ]
    },
    {
     "name": "stdout",
     "output_type": "stream",
     "text": [
      "process 59000 peaks takes 15.9 s\n"
     ]
    },
    {
     "name": "stderr",
     "output_type": "stream",
     "text": [
      "Adding 1344 Ns to chr17:83600889-83601563\n",
      "Adding 1344 Ns to chr19:60765721-60765873\n",
      "Adding 1344 Ns to chr18:85582543-85582875\n",
      "Adding 1344 Ns to chr14:119558419-119559244\n",
      "Adding 1344 Ns to chr17:86040349-86040611\n",
      "Adding 1344 Ns to chr15:102302400-102302962\n",
      "Adding 1344 Ns to chr14:109081295-109081618\n",
      "Adding 1344 Ns to chr16:97250940-97251213\n",
      "Adding 1344 Ns to chr18:83732269-83732490\n",
      "Adding 1344 Ns to chr14:121742236-121742504\n",
      "Adding 1344 Ns to chrX:162645776-162646017\n",
      "Adding 1344 Ns to chr15:103182050-103182703\n",
      "Adding 1344 Ns to chrX:165765610-165766013\n",
      "Adding 1344 Ns to chr17:83859790-83860132\n",
      "Adding 1344 Ns to chr16:92991439-92991805\n",
      "Adding 1344 Ns to chr16:94882021-94882566\n",
      "Adding 1344 Ns to chrX:166214320-166215111\n",
      "Adding 1344 Ns to chr16:94866578-94866985\n",
      "Adding 1344 Ns to chr17:83277371-83278121\n",
      "Adding 1344 Ns to chr16:96915644-96915966\n",
      "Adding 1344 Ns to chr17:83552615-83553064\n",
      "Adding 1344 Ns to chr18:85241532-85241848\n"
     ]
    },
    {
     "name": "stdout",
     "output_type": "stream",
     "text": [
      "process 0 peaks takes 0.3 s\n"
     ]
    },
    {
     "name": "stderr",
     "output_type": "stream",
     "text": [
      "Adding 1344 Ns to chr18:84239069-84239366\n",
      "Adding 1344 Ns to chr16:96634036-96634605\n",
      "Adding 1344 Ns to chr14:114543947-114544289\n",
      "Adding 1344 Ns to chr19:60837757-60838224\n",
      "Adding 1344 Ns to chr16:95802202-95803187\n",
      "Adding 1344 Ns to chr16:96740059-96740867\n",
      "Adding 1344 Ns to chrX:166243320-166243601\n",
      "Adding 1344 Ns to chr14:117426018-117426505\n",
      "Adding 1344 Ns to chr16:97602238-97602636\n",
      "Adding 1344 Ns to chr17:86121797-86121958\n",
      "Adding 1344 Ns to chr16:93379653-93379993\n",
      "Adding 1344 Ns to chr16:96498835-96499587\n",
      "Adding 1344 Ns to chr17:91046350-91046577\n",
      "Adding 1344 Ns to chrX:166147363-166147823\n",
      "Adding 1344 Ns to chrX:168020875-168021059\n",
      "Adding 1344 Ns to chr14:117767336-117767590\n",
      "Adding 1344 Ns to chr16:95334041-95334529\n",
      "Adding 1344 Ns to chr18:80408619-80408797\n",
      "Adding 1344 Ns to chr14:122436808-122437146\n",
      "Adding 1344 Ns to chr14:109434108-109434544\n",
      "Adding 1344 Ns to chr17:86135646-86136316\n",
      "Adding 1344 Ns to chr19:59394006-59394662\n",
      "Adding 1344 Ns to chrX:159291697-159291977\n",
      "Adding 1344 Ns to chr17:87477650-87478047\n"
     ]
    },
    {
     "name": "stdout",
     "output_type": "stream",
     "text": [
      "process 1000 peaks takes 0.6 s\n"
     ]
    },
    {
     "name": "stderr",
     "output_type": "stream",
     "text": [
      "Adding 1344 Ns to chr16:92435440-92436086\n",
      "Adding 1344 Ns to chr16:92432381-92432997\n",
      "Adding 1344 Ns to chr17:89974422-89974677\n",
      "Adding 1344 Ns to chr14:112248113-112248574\n",
      "Adding 1344 Ns to chr16:95225097-95226141\n",
      "Adding 1344 Ns to chr16:92478541-92478850\n",
      "Adding 1344 Ns to chr16:94640919-94641083\n",
      "Adding 1344 Ns to chr16:91743130-91743331\n",
      "Adding 1344 Ns to chr15:102246325-102248150\n",
      "Adding 1344 Ns to chr13:114845728-114846069\n",
      "Adding 1344 Ns to chr16:90608092-90608574\n",
      "Adding 1344 Ns to chr18:83067060-83067446\n",
      "Adding 1344 Ns to chr16:95602549-95602837\n",
      "Adding 1344 Ns to chr14:122181373-122182099\n",
      "Adding 1344 Ns to chr17:86791213-86791613\n",
      "Adding 1344 Ns to chr15:102316329-102316565\n",
      "Adding 1344 Ns to chr16:93766949-93767346\n",
      "Adding 1344 Ns to chr16:93202726-93202906\n",
      "Adding 1344 Ns to chr17:90130124-90130401\n",
      "Adding 1344 Ns to chr16:90946567-90946829\n",
      "Adding 1344 Ns to chr17:84642993-84643493\n",
      "Adding 1344 Ns to chr14:121254077-121254285\n",
      "Adding 1344 Ns to chr14:119203327-119203944\n",
      "Adding 1344 Ns to chr16:96039263-96039897\n",
      "Adding 1344 Ns to chr14:120830278-120830861\n",
      "Adding 1344 Ns to chr14:122858061-122858387\n"
     ]
    },
    {
     "name": "stdout",
     "output_type": "stream",
     "text": [
      "process 2000 peaks takes 0.8 s\n"
     ]
    },
    {
     "name": "stderr",
     "output_type": "stream",
     "text": [
      "Adding 1344 Ns to chr14:115095601-115095882\n",
      "Adding 1344 Ns to chr18:88924387-88924987\n",
      "Adding 1344 Ns to chrX:166843919-166844277\n",
      "Adding 1344 Ns to chr16:93981206-93981742\n",
      "Adding 1344 Ns to chr16:92314125-92314607\n",
      "Adding 1344 Ns to chr18:82396685-82397533\n",
      "Adding 1344 Ns to chr19:60196179-60196390\n",
      "Adding 1344 Ns to chr18:82599487-82600223\n",
      "Adding 1344 Ns to chr18:86442676-86443089\n",
      "Adding 1344 Ns to chr17:89089944-89090349\n",
      "Adding 1344 Ns to chr17:83783374-83783642\n",
      "Adding 1344 Ns to chr14:121165320-121166216\n",
      "Adding 1344 Ns to chr17:87571328-87571979\n",
      "Adding 1344 Ns to chr14:122060659-122061223\n",
      "Adding 1344 Ns to chr14:124003402-124003763\n"
     ]
    },
    {
     "name": "stdout",
     "output_type": "stream",
     "text": [
      "process 3000 peaks takes 1.1 s\n"
     ]
    },
    {
     "name": "stderr",
     "output_type": "stream",
     "text": [
      "Adding 1344 Ns to chr17:86380385-86380657\n",
      "Adding 1344 Ns to chr14:109257197-109257710\n",
      "Adding 1344 Ns to chr14:108994590-108994849\n",
      "Adding 1344 Ns to chr13:117012118-117012364\n",
      "Adding 1344 Ns to chr16:92450362-92450866\n",
      "Adding 1344 Ns to chr14:121322574-121323155\n",
      "Adding 1344 Ns to chr14:109699955-109700147\n",
      "Adding 1344 Ns to chr17:90809216-90809710\n",
      "Adding 1344 Ns to chr14:117931060-117931832\n",
      "Adding 1344 Ns to chr14:114912288-114912585\n",
      "Adding 1344 Ns to chr13:117074482-117074676\n",
      "Adding 1344 Ns to chr18:83086048-83086378\n",
      "Adding 1344 Ns to chrX:167014486-167014781\n",
      "Adding 1344 Ns to chr14:119708138-119708473\n",
      "Adding 1344 Ns to chr17:84763130-84763505\n",
      "Adding 1344 Ns to chrX:160619284-160619879\n",
      "Adding 1344 Ns to chrX:160583623-160584108\n",
      "Adding 1344 Ns to chrX:167331861-167332128\n",
      "Adding 1344 Ns to chr16:95436550-95436951\n",
      "Adding 1344 Ns to chr17:84987100-84987320\n",
      "Adding 1344 Ns to chr13:116976288-116976681\n",
      "Adding 1344 Ns to chrX:167552808-167553320\n",
      "Adding 1344 Ns to chr15:103136533-103136783\n",
      "Adding 1344 Ns to chr16:94845785-94846122\n",
      "Adding 1344 Ns to chr14:110146206-110146473\n",
      "Adding 1344 Ns to chr14:120669606-120670213\n",
      "Adding 1344 Ns to chr16:94730894-94731411\n"
     ]
    },
    {
     "name": "stdout",
     "output_type": "stream",
     "text": [
      "process 4000 peaks takes 1.4 s\n"
     ]
    },
    {
     "name": "stderr",
     "output_type": "stream",
     "text": [
      "Adding 1344 Ns to chr17:94194504-94194900\n",
      "Adding 1344 Ns to chr14:119820577-119820851\n",
      "Adding 1344 Ns to chr17:88251957-88252365\n",
      "Adding 1344 Ns to chr19:58704455-58704968\n",
      "Adding 1344 Ns to chr14:123353035-123353287\n",
      "Adding 1344 Ns to chr14:111485578-111485998\n",
      "Adding 1344 Ns to chr14:118883381-118883670\n",
      "Adding 1344 Ns to chr13:117079330-117079603\n",
      "Adding 1344 Ns to chr13:115852770-115853250\n",
      "Adding 1344 Ns to chr17:94730541-94730769\n",
      "Adding 1344 Ns to chr14:120632755-120633140\n",
      "Adding 1344 Ns to chr18:82750935-82751683\n",
      "Adding 1344 Ns to chr14:117930591-117930998\n",
      "Adding 1344 Ns to chrX:158180326-158180889\n",
      "Adding 1344 Ns to chr14:111096205-111096653\n",
      "Adding 1344 Ns to chrX:157781257-157781459\n",
      "Adding 1344 Ns to chr13:114378980-114379598\n",
      "Adding 1344 Ns to chr16:97144549-97144850\n",
      "Adding 1344 Ns to chr17:90859238-90859525\n",
      "Adding 1344 Ns to chr14:124536323-124536490\n",
      "Adding 1344 Ns to chr17:90138253-90138474\n",
      "Adding 1344 Ns to chr16:96857583-96857958\n",
      "Adding 1344 Ns to chr14:113470018-113470595\n",
      "Adding 1344 Ns to chr13:119712299-119712887\n",
      "Adding 1344 Ns to chr17:90759908-90760378\n",
      "Adding 1344 Ns to chr14:123371512-123371848\n",
      "Adding 1344 Ns to chr16:91443260-91443738\n",
      "Adding 1344 Ns to chr18:89012934-89013150\n",
      "Adding 1344 Ns to chr18:84618616-84618807\n",
      "Adding 1344 Ns to chrX:166225524-166226014\n",
      "Adding 1344 Ns to chr14:124409436-124409600\n"
     ]
    },
    {
     "name": "stdout",
     "output_type": "stream",
     "text": [
      "process 5000 peaks takes 1.6 s\n"
     ]
    },
    {
     "name": "stderr",
     "output_type": "stream",
     "text": [
      "Adding 1344 Ns to chrX:166665338-166665649\n",
      "Adding 1344 Ns to chr14:120953506-120953722\n",
      "Adding 1344 Ns to chr14:117408508-117408792\n",
      "Adding 1344 Ns to chr16:96493365-96493684\n",
      "Adding 1344 Ns to chr15:102217364-102217750\n",
      "Adding 1344 Ns to chr17:83481632-83481964\n",
      "Adding 1344 Ns to chr14:121604187-121604339\n",
      "Adding 1344 Ns to chr15:102325923-102326865\n",
      "Adding 1344 Ns to chr14:114981206-114981429\n",
      "Adding 1344 Ns to chr16:95815408-95816109\n",
      "Adding 1344 Ns to chr13:119337945-119338198\n",
      "Adding 1344 Ns to chr18:82901953-82902187\n",
      "Adding 1344 Ns to chrX:161030321-161030573\n",
      "Adding 1344 Ns to chr18:82104969-82105492\n",
      "Adding 1344 Ns to chrX:164437758-164438129\n",
      "Adding 1344 Ns to chr14:110130577-110130983\n",
      "Adding 1344 Ns to chr18:84397209-84397431\n",
      "Adding 1344 Ns to chr17:92542189-92542867\n",
      "Adding 1344 Ns to chr14:118676433-118677049\n",
      "Adding 1344 Ns to chr14:116208947-116209610\n",
      "Adding 1344 Ns to chr18:88468558-88469114\n"
     ]
    },
    {
     "name": "stdout",
     "output_type": "stream",
     "text": [
      "process 6000 peaks takes 1.9 s\n"
     ]
    },
    {
     "name": "stderr",
     "output_type": "stream",
     "text": [
      "Adding 1344 Ns to chr19:58838574-58839170\n",
      "Adding 1344 Ns to chr17:84999713-85000105\n",
      "Adding 1344 Ns to chr14:115641875-115642345\n",
      "Adding 1344 Ns to chr14:108180503-108180728\n",
      "Adding 1344 Ns to chr18:85289061-85289510\n",
      "Adding 1344 Ns to chr13:114458509-114459359\n",
      "Adding 1344 Ns to chr17:85062855-85063193\n",
      "Adding 1344 Ns to chr18:86407581-86407762\n",
      "Adding 1344 Ns to chr18:90545830-90546033\n",
      "Adding 1344 Ns to chr18:83450926-83451308\n",
      "Adding 1344 Ns to chr18:86187292-86187621\n",
      "Adding 1344 Ns to chrX:157818621-157818887\n",
      "Adding 1344 Ns to chr15:102673575-102673931\n",
      "Adding 1344 Ns to chrX:156594839-156595234\n",
      "Adding 1344 Ns to chr13:119768512-119769143\n",
      "Adding 1344 Ns to chrX:166660873-166662240\n",
      "Adding 1344 Ns to chr15:102746128-102747300\n",
      "Adding 1344 Ns to chr14:108370690-108370952\n",
      "Adding 1344 Ns to chr16:92158474-92159340\n",
      "Adding 1344 Ns to chrX:168649311-168649801\n",
      "Adding 1344 Ns to chr17:90558273-90558694\n",
      "Adding 1344 Ns to chr14:116276888-116277150\n",
      "Adding 1344 Ns to chr17:84669732-84670092\n",
      "Adding 1344 Ns to chr16:97526926-97527345\n",
      "Adding 1344 Ns to chr16:97875817-97876139\n",
      "Adding 1344 Ns to chr14:116377382-116377666\n",
      "Adding 1344 Ns to chr15:103258309-103258804\n",
      "Adding 1344 Ns to chr16:91280600-91280975\n"
     ]
    },
    {
     "name": "stdout",
     "output_type": "stream",
     "text": [
      "process 7000 peaks takes 2.2 s\n"
     ]
    },
    {
     "name": "stderr",
     "output_type": "stream",
     "text": [
      "Adding 1344 Ns to chrX:161926468-161926944\n",
      "Adding 1344 Ns to chrX:165767889-165768198\n",
      "Adding 1344 Ns to chr14:122061422-122061676\n",
      "Adding 1344 Ns to chr18:81575609-81575758\n",
      "Adding 1344 Ns to chr18:84086315-84086872\n",
      "Adding 1344 Ns to chr17:91956041-91956246\n",
      "Adding 1344 Ns to chr14:121248319-121248667\n",
      "Adding 1344 Ns to chr16:96528446-96528879\n",
      "Adding 1344 Ns to chr17:84247477-84247839\n",
      "Adding 1344 Ns to chr17:91159505-91159693\n",
      "Adding 1344 Ns to chr14:123301066-123301330\n",
      "Adding 1344 Ns to chrX:166307717-166308220\n",
      "Adding 1344 Ns to chr16:95382263-95382934\n",
      "Adding 1344 Ns to chr18:88770552-88770799\n",
      "Adding 1344 Ns to chr17:90040742-90040922\n",
      "Adding 1344 Ns to chr16:95748974-95749781\n",
      "Adding 1344 Ns to chr14:109840463-109840643\n",
      "Adding 1344 Ns to chr16:90852840-90853053\n",
      "Adding 1344 Ns to chr14:118922278-118922467\n",
      "Adding 1344 Ns to chr13:116883112-116883408\n",
      "Adding 1344 Ns to chrX:166803292-166803908\n",
      "Adding 1344 Ns to chr18:89443289-89443600\n",
      "Adding 1344 Ns to chr16:91741078-91741300\n",
      "Adding 1344 Ns to chr18:84133839-84134501\n",
      "Adding 1344 Ns to chr17:90668013-90668227\n",
      "Adding 1344 Ns to chrX:157829970-157830581\n",
      "Adding 1344 Ns to chr16:94070985-94071184\n",
      "Adding 1344 Ns to chr19:58728388-58729058\n",
      "Adding 1344 Ns to chr16:93259415-93259637\n",
      "Adding 1344 Ns to chr15:102648561-102649322\n",
      "Adding 1344 Ns to chr18:85752829-85753115\n",
      "Adding 1344 Ns to chr14:121589374-121589702\n",
      "Adding 1344 Ns to chr19:58810533-58810937\n"
     ]
    },
    {
     "name": "stdout",
     "output_type": "stream",
     "text": [
      "process 8000 peaks takes 2.4 s\n"
     ]
    },
    {
     "name": "stderr",
     "output_type": "stream",
     "text": [
      "Adding 1344 Ns to chr14:120338202-120338591\n",
      "Adding 1344 Ns to chr17:94255523-94256070\n",
      "Adding 1344 Ns to chr16:97953633-97953791\n",
      "Adding 1344 Ns to chr16:90421103-90421580\n",
      "Adding 1344 Ns to chr14:118956473-118956826\n",
      "Adding 1344 Ns to chr13:114387388-114388221\n",
      "Adding 1344 Ns to chr16:96127216-96128495\n",
      "Adding 1344 Ns to chr16:96901235-96901656\n",
      "Adding 1344 Ns to chr16:94045032-94045375\n",
      "Adding 1344 Ns to chr18:86540192-86540426\n",
      "Adding 1344 Ns to chr17:90176594-90176893\n",
      "Adding 1344 Ns to chr17:88637030-88637357\n",
      "Adding 1344 Ns to chr18:80729299-80729696\n",
      "Adding 1344 Ns to chr16:92785378-92785611\n",
      "Adding 1344 Ns to chr15:102038641-102038922\n",
      "Adding 1344 Ns to chr14:117992412-117992839\n",
      "Adding 1344 Ns to chr17:92949158-92949482\n",
      "Adding 1344 Ns to chr17:89450747-89451028\n",
      "Adding 1344 Ns to chr16:93369121-93370158\n",
      "Adding 1344 Ns to chr13:118031049-118031558\n",
      "Adding 1344 Ns to chr13:115477833-115478143\n",
      "Adding 1344 Ns to chr14:124222533-124222828\n",
      "Adding 1344 Ns to chr16:90497615-90498173\n",
      "Adding 1344 Ns to chr17:87206736-87207434\n",
      "Adding 1344 Ns to chrX:167208430-167208691\n",
      "Adding 1344 Ns to chr17:90775338-90775776\n",
      "Adding 1344 Ns to chr18:83278440-83278690\n"
     ]
    },
    {
     "name": "stdout",
     "output_type": "stream",
     "text": [
      "process 9000 peaks takes 2.7 s\n"
     ]
    },
    {
     "name": "stderr",
     "output_type": "stream",
     "text": [
      "Adding 1344 Ns to chr16:94834505-94834976\n",
      "Adding 1344 Ns to chr14:122130429-122130891\n",
      "Adding 1344 Ns to chr17:87129589-87129757\n",
      "Adding 1344 Ns to chr13:114604131-114604690\n",
      "Adding 1344 Ns to chrX:160153527-160153914\n",
      "Adding 1344 Ns to chr15:102374095-102374364\n",
      "Adding 1344 Ns to chr17:91738886-91739344\n",
      "Adding 1344 Ns to chr14:120374794-120375430\n",
      "Adding 1344 Ns to chr14:115173803-115174192\n",
      "Adding 1344 Ns to chr14:121100880-121101197\n",
      "Adding 1344 Ns to chr17:91076888-91077081\n",
      "Adding 1344 Ns to chr13:117347016-117347187\n",
      "Adding 1344 Ns to chr16:95794234-95794607\n",
      "Adding 1344 Ns to chr18:88464451-88464890\n",
      "Adding 1344 Ns to chr13:118347891-118348107\n",
      "Adding 1344 Ns to chr13:115101481-115101661\n",
      "Adding 1344 Ns to chr17:87249188-87249501\n",
      "Adding 1344 Ns to chr14:118321041-118321476\n",
      "Adding 1344 Ns to chr18:86290401-86290744\n",
      "Adding 1344 Ns to chr17:85700024-85700395\n",
      "Adding 1344 Ns to chr17:88858663-88859064\n",
      "Adding 1344 Ns to chr19:59252942-59253146\n",
      "Adding 1344 Ns to chr18:83639019-83639277\n"
     ]
    },
    {
     "name": "stdout",
     "output_type": "stream",
     "text": [
      "process 10000 peaks takes 2.9 s\n"
     ]
    },
    {
     "name": "stderr",
     "output_type": "stream",
     "text": [
      "Adding 1344 Ns to chr16:97669914-97670442\n",
      "Adding 1344 Ns to chr17:83724983-83725176\n",
      "Adding 1344 Ns to chr17:90039317-90039619\n",
      "Adding 1344 Ns to chr14:118538636-118538910\n",
      "Adding 1344 Ns to chrX:164401638-164402191\n",
      "Adding 1344 Ns to chrX:162698971-162699193\n",
      "Adding 1344 Ns to chrX:160796211-160796772\n",
      "Adding 1344 Ns to chr14:121303277-121304060\n",
      "Adding 1344 Ns to chr14:122662650-122662818\n",
      "Adding 1344 Ns to chr17:86500176-86500325\n",
      "Adding 1344 Ns to chr18:83006048-83006326\n",
      "Adding 1344 Ns to chr17:87377652-87377978\n",
      "Adding 1344 Ns to chr14:113012367-113012920\n",
      "Adding 1344 Ns to chrX:163644037-163644186\n",
      "Adding 1344 Ns to chr17:85311362-85311724\n",
      "Adding 1344 Ns to chrX:157089583-157089732\n",
      "Adding 1344 Ns to chr14:107080576-107080767\n",
      "Adding 1344 Ns to chr17:84859062-84859300\n",
      "Adding 1344 Ns to chr14:115362244-115362435\n",
      "Adding 1344 Ns to chr17:87360966-87361883\n",
      "Adding 1344 Ns to chr18:82684826-82685264\n",
      "Adding 1344 Ns to chrX:163663892-163664086\n",
      "Adding 1344 Ns to chr15:102105503-102105748\n",
      "Adding 1344 Ns to chr14:122912792-122913535\n",
      "Adding 1344 Ns to chr16:93883376-93884181\n",
      "Adding 1344 Ns to chr19:59529869-59530385\n",
      "Adding 1344 Ns to chrX:167714607-167714872\n",
      "Adding 1344 Ns to chr17:88558270-88558806\n",
      "Adding 1344 Ns to chrX:162380695-162381085\n",
      "Adding 1344 Ns to chr18:84030247-84030772\n"
     ]
    },
    {
     "name": "stdout",
     "output_type": "stream",
     "text": [
      "process 11000 peaks takes 3.2 s\n"
     ]
    },
    {
     "name": "stderr",
     "output_type": "stream",
     "text": [
      "Adding 1344 Ns to chrX:157673964-157674534\n",
      "Adding 1344 Ns to chr17:89197249-89197617\n",
      "Adding 1344 Ns to chr15:103576007-103576195\n",
      "Adding 1344 Ns to chr16:97297050-97297636\n",
      "Adding 1344 Ns to chr19:58798659-58798981\n",
      "Adding 1344 Ns to chr14:120141150-120141729\n",
      "Adding 1344 Ns to chr17:94040716-94041225\n",
      "Adding 1344 Ns to chr14:119215668-119216284\n",
      "Adding 1344 Ns to chrX:164013278-164013427\n",
      "Adding 1344 Ns to chr16:90942456-90942687\n",
      "Adding 1344 Ns to chrX:164436752-164437099\n",
      "Adding 1344 Ns to chrX:159701074-159701481\n",
      "Adding 1344 Ns to chr18:85134679-85134851\n",
      "Adding 1344 Ns to chr18:88703144-88703482\n",
      "Adding 1344 Ns to chr18:90509571-90509801\n",
      "Adding 1344 Ns to chrX:159365951-159366117\n",
      "Adding 1344 Ns to chrX:161653224-161653549\n",
      "Adding 1344 Ns to chr16:95814476-95815178\n",
      "Adding 1344 Ns to chr16:92890855-92891240\n",
      "Adding 1344 Ns to chr16:91282658-91282903\n",
      "Adding 1344 Ns to chr17:90926273-90926623\n",
      "Adding 1344 Ns to chr13:117946825-117947241\n",
      "Adding 1344 Ns to chrX:164367666-164367852\n"
     ]
    },
    {
     "name": "stdout",
     "output_type": "stream",
     "text": [
      "process 12000 peaks takes 3.5 s\n"
     ]
    },
    {
     "name": "stderr",
     "output_type": "stream",
     "text": [
      "Adding 1344 Ns to chr17:84273575-84273729\n",
      "Adding 1344 Ns to chr16:96278756-96279247\n",
      "Adding 1344 Ns to chr14:117571961-117572779\n",
      "Adding 1344 Ns to chr18:84855324-84855611\n",
      "Adding 1344 Ns to chr16:91233428-91234146\n",
      "Adding 1344 Ns to chr16:94435873-94436229\n",
      "Adding 1344 Ns to chr18:80609659-80609854\n",
      "Adding 1344 Ns to chr14:120755209-120755716\n",
      "Adding 1344 Ns to chr16:94348890-94349039\n",
      "Adding 1344 Ns to chr17:83830734-83831277\n",
      "Adding 1344 Ns to chr16:94624898-94625261\n",
      "Adding 1344 Ns to chrX:165188417-165188963\n",
      "Adding 1344 Ns to chr17:90749500-90749953\n",
      "Adding 1344 Ns to chr17:83907580-83908087\n",
      "Adding 1344 Ns to chr18:83872137-83872368\n",
      "Adding 1344 Ns to chr18:83796222-83796773\n",
      "Adding 1344 Ns to chr17:85116718-85116951\n",
      "Adding 1344 Ns to chrX:158394105-158395039\n",
      "Adding 1344 Ns to chr14:119780194-119780459\n",
      "Adding 1344 Ns to chr13:117605039-117605340\n",
      "Adding 1344 Ns to chr14:108658589-108658992\n",
      "Adding 1344 Ns to chr14:118796005-118796515\n",
      "Adding 1344 Ns to chr16:92739992-92740531\n",
      "Adding 1344 Ns to chr14:112891566-112891997\n",
      "Adding 1344 Ns to chr17:83941750-83942085\n",
      "Adding 1344 Ns to chr18:85871049-85871655\n",
      "Adding 1344 Ns to chr14:124470864-124471610\n",
      "Adding 1344 Ns to chr17:89119279-89120296\n",
      "Adding 1344 Ns to chr18:84671775-84672148\n",
      "Adding 1344 Ns to chr16:94792609-94792887\n"
     ]
    },
    {
     "name": "stdout",
     "output_type": "stream",
     "text": [
      "process 13000 peaks takes 3.7 s\n"
     ]
    },
    {
     "name": "stderr",
     "output_type": "stream",
     "text": [
      "Adding 1344 Ns to chrX:163848593-163849094\n",
      "Adding 1344 Ns to chr16:96695939-96696315\n",
      "Adding 1344 Ns to chrX:167276448-167277284\n",
      "Adding 1344 Ns to chr13:118104683-118104846\n",
      "Adding 1344 Ns to chr16:96034357-96034937\n",
      "Adding 1344 Ns to chr16:95446579-95446754\n",
      "Adding 1344 Ns to chrX:164856150-164856308\n",
      "Adding 1344 Ns to chr14:121278989-121279508\n",
      "Adding 1344 Ns to chr18:84796905-84797327\n",
      "Adding 1344 Ns to chr16:96782893-96783352\n",
      "Adding 1344 Ns to chr16:95558457-95558841\n",
      "Adding 1344 Ns to chr18:84098130-84098429\n",
      "Adding 1344 Ns to chrX:163908416-163909298\n",
      "Adding 1344 Ns to chr17:84279679-84279955\n",
      "Adding 1344 Ns to chrX:166952558-166952845\n",
      "Adding 1344 Ns to chr14:124028384-124028615\n",
      "Adding 1344 Ns to chrX:162399047-162399385\n",
      "Adding 1344 Ns to chr14:121295406-121295717\n",
      "Adding 1344 Ns to chr16:94301508-94302012\n",
      "Adding 1344 Ns to chr16:96021780-96022056\n",
      "Adding 1344 Ns to chr13:116517115-116517274\n"
     ]
    },
    {
     "name": "stdout",
     "output_type": "stream",
     "text": [
      "process 14000 peaks takes 4.0 s\n"
     ]
    },
    {
     "name": "stderr",
     "output_type": "stream",
     "text": [
      "Adding 1344 Ns to chr17:83267311-83268299\n",
      "Adding 1344 Ns to chr18:81928173-81928407\n",
      "Adding 1344 Ns to chrX:168277996-168278346\n",
      "Adding 1344 Ns to chr14:117360176-117360578\n",
      "Adding 1344 Ns to chr19:58911456-58911762\n",
      "Adding 1344 Ns to chr14:120029758-120030287\n",
      "Adding 1344 Ns to chr16:94956535-94956801\n",
      "Adding 1344 Ns to chr14:121188233-121188457\n",
      "Adding 1344 Ns to chrX:159704481-159704871\n",
      "Adding 1344 Ns to chrX:165897592-165898054\n",
      "Adding 1344 Ns to chr14:110782905-110783226\n",
      "Adding 1344 Ns to chr18:81796945-81797168\n",
      "Adding 1344 Ns to chrX:169923522-169923721\n",
      "Adding 1344 Ns to chrX:158675847-158676161\n",
      "Adding 1344 Ns to chrX:159626979-159627846\n",
      "Adding 1344 Ns to chr16:92994923-92995310\n",
      "Adding 1344 Ns to chr14:120310786-120311001\n",
      "Adding 1344 Ns to chr18:85569533-85569845\n",
      "Adding 1344 Ns to chrX:159171201-159171431\n",
      "Adding 1344 Ns to chr14:120261648-120262040\n",
      "Adding 1344 Ns to chrX:162759824-162760562\n",
      "Adding 1344 Ns to chr14:122494573-122494909\n",
      "Adding 1344 Ns to chr13:117722152-117722397\n",
      "Adding 1344 Ns to chr13:116969645-116970197\n",
      "Adding 1344 Ns to chr17:91137418-91137780\n",
      "Adding 1344 Ns to chrX:160921619-160921954\n",
      "Adding 1344 Ns to chr16:92023566-92023751\n",
      "Adding 1344 Ns to chr19:61140479-61141195\n",
      "Adding 1344 Ns to chr14:120163136-120163548\n",
      "Adding 1344 Ns to chr16:95831544-95832621\n",
      "Adding 1344 Ns to chr17:94269709-94270259\n",
      "Adding 1344 Ns to chr14:121124393-121124981\n"
     ]
    },
    {
     "name": "stdout",
     "output_type": "stream",
     "text": [
      "process 15000 peaks takes 4.3 s\n"
     ]
    },
    {
     "name": "stderr",
     "output_type": "stream",
     "text": [
      "Adding 1344 Ns to chr14:116747210-116747718\n",
      "Adding 1344 Ns to chr15:102624973-102625832\n",
      "Adding 1344 Ns to chr14:119306490-119306940\n",
      "Adding 1344 Ns to chr15:103360266-103360573\n",
      "Adding 1344 Ns to chr16:97153873-97154342\n",
      "Adding 1344 Ns to chr16:90388955-90389534\n",
      "Adding 1344 Ns to chr17:87745834-87746687\n",
      "Adding 1344 Ns to chr13:119631591-119632138\n",
      "Adding 1344 Ns to chr17:86177607-86177824\n",
      "Adding 1344 Ns to chr14:118709607-118710176\n",
      "Adding 1344 Ns to chr17:90892313-90892748\n",
      "Adding 1344 Ns to chrX:162589446-162589764\n",
      "Adding 1344 Ns to chr13:116995392-116995669\n",
      "Adding 1344 Ns to chr14:111793848-111794214\n",
      "Adding 1344 Ns to chr14:120061173-120061413\n",
      "Adding 1344 Ns to chr17:88581506-88582067\n",
      "Adding 1344 Ns to chr16:91885649-91885798\n",
      "Adding 1344 Ns to chr14:118392185-118392494\n",
      "Adding 1344 Ns to chr13:119702880-119703116\n",
      "Adding 1344 Ns to chr17:87502684-87503024\n",
      "Adding 1344 Ns to chr14:119153111-119153439\n",
      "Adding 1344 Ns to chr17:84989492-84989988\n",
      "Adding 1344 Ns to chr17:86466716-86466978\n",
      "Adding 1344 Ns to chr18:83674485-83674740\n",
      "Adding 1344 Ns to chrX:166691083-166691619\n",
      "Adding 1344 Ns to chrX:169813676-169814083\n",
      "Adding 1344 Ns to chr15:102807425-102807882\n",
      "Adding 1344 Ns to chr14:112230251-112230927\n",
      "Adding 1344 Ns to chrX:169228597-169228746\n",
      "Adding 1344 Ns to chr14:120499553-120499788\n",
      "Adding 1344 Ns to chr16:96235387-96236065\n"
     ]
    },
    {
     "name": "stdout",
     "output_type": "stream",
     "text": [
      "process 16000 peaks takes 4.5 s\n"
     ]
    },
    {
     "name": "stderr",
     "output_type": "stream",
     "text": [
      "Adding 1344 Ns to chr18:84730522-84730875\n",
      "Adding 1344 Ns to chrX:167640727-167641233\n",
      "Adding 1344 Ns to chr14:120762844-120763136\n",
      "Adding 1344 Ns to chrX:159799718-159799933\n",
      "Adding 1344 Ns to chr17:94287887-94288133\n",
      "Adding 1344 Ns to chr17:85872980-85873254\n",
      "Adding 1344 Ns to chr13:114584678-114585038\n",
      "Adding 1344 Ns to chr16:95073114-95073345\n",
      "Adding 1344 Ns to chr14:113826253-113826636\n",
      "Adding 1344 Ns to chrX:160669952-160670425\n",
      "Adding 1344 Ns to chr16:94888591-94888756\n",
      "Adding 1344 Ns to chr14:108982464-108982782\n",
      "Adding 1344 Ns to chr16:90609734-90609992\n",
      "Adding 1344 Ns to chr17:86228786-86229252\n",
      "Adding 1344 Ns to chr18:86490708-86491013\n",
      "Adding 1344 Ns to chr14:113613716-113614169\n",
      "Adding 1344 Ns to chr13:117224573-117225103\n",
      "Adding 1344 Ns to chr14:111996235-111996629\n",
      "Adding 1344 Ns to chr18:82547296-82547546\n"
     ]
    },
    {
     "name": "stdout",
     "output_type": "stream",
     "text": [
      "process 17000 peaks takes 4.8 s\n"
     ]
    },
    {
     "name": "stderr",
     "output_type": "stream",
     "text": [
      "Adding 1344 Ns to chrX:166440131-166441091\n",
      "Adding 1344 Ns to chrX:160116751-160117067\n",
      "Adding 1344 Ns to chr17:93104483-93104925\n",
      "Adding 1344 Ns to chr14:113422999-113423345\n",
      "Adding 1344 Ns to chr16:90351723-90352181\n",
      "Adding 1344 Ns to chrX:166892563-166892757\n",
      "Adding 1344 Ns to chrX:167523231-167523457\n",
      "Adding 1344 Ns to chr17:86609316-86609484\n",
      "Adding 1344 Ns to chr14:119901231-119901874\n",
      "Adding 1344 Ns to chr17:90506546-90506738\n",
      "Adding 1344 Ns to chr16:92364644-92364901\n",
      "Adding 1344 Ns to chr17:90818026-90818206\n",
      "Adding 1344 Ns to chr13:115089763-115090674\n",
      "Adding 1344 Ns to chr18:90229061-90229427\n",
      "Adding 1344 Ns to chr14:123529998-123530379\n",
      "Adding 1344 Ns to chr18:88750611-88750850\n",
      "Adding 1344 Ns to chr14:120993367-120993561\n",
      "Adding 1344 Ns to chr19:59336204-59336644\n",
      "Adding 1344 Ns to chr14:112388344-112388841\n",
      "Adding 1344 Ns to chr14:111822073-111822749\n",
      "Adding 1344 Ns to chr16:93750527-93750924\n",
      "Adding 1344 Ns to chr17:87866762-87867302\n",
      "Adding 1344 Ns to chr14:116193822-116194258\n",
      "Adding 1344 Ns to chrX:157451685-157451900\n",
      "Adding 1344 Ns to chr16:94425584-94425917\n"
     ]
    },
    {
     "name": "stdout",
     "output_type": "stream",
     "text": [
      "process 18000 peaks takes 5.1 s\n"
     ]
    },
    {
     "name": "stderr",
     "output_type": "stream",
     "text": [
      "Adding 1344 Ns to chr18:88911389-88911704\n",
      "Adding 1344 Ns to chr16:94208792-94209190\n",
      "Adding 1344 Ns to chr16:95701792-95702795\n",
      "Adding 1344 Ns to chr14:119953144-119953776\n",
      "Adding 1344 Ns to chr19:58893318-58893820\n",
      "Adding 1344 Ns to chrX:160619992-160620142\n",
      "Adding 1344 Ns to chr17:87446617-87447605\n",
      "Adding 1344 Ns to chr17:94735493-94735774\n",
      "Adding 1344 Ns to chr14:110956840-110957120\n",
      "Adding 1344 Ns to chr16:97842610-97842810\n",
      "Adding 1344 Ns to chrX:167305568-167305825\n",
      "Adding 1344 Ns to chr16:90666199-90666999\n",
      "Adding 1344 Ns to chrX:167518091-167518819\n",
      "Adding 1344 Ns to chr17:86122280-86122740\n",
      "Adding 1344 Ns to chrX:157736514-157736854\n",
      "Adding 1344 Ns to chr13:119790505-119791641\n",
      "Adding 1344 Ns to chr16:96025199-96025837\n",
      "Adding 1344 Ns to chr14:114866403-114866910\n",
      "Adding 1344 Ns to chrX:162462073-162462593\n",
      "Adding 1344 Ns to chr13:116712291-116712579\n",
      "Adding 1344 Ns to chr16:90424111-90424346\n",
      "Adding 1344 Ns to chrX:169408429-169408741\n",
      "Adding 1344 Ns to chr14:108998867-108999208\n",
      "Adding 1344 Ns to chr14:117255453-117255795\n",
      "Adding 1344 Ns to chr14:120467432-120468281\n",
      "Adding 1344 Ns to chr17:84709520-84709805\n",
      "Adding 1344 Ns to chr18:82624274-82624476\n",
      "Adding 1344 Ns to chr14:108178907-108179152\n",
      "Adding 1344 Ns to chr17:84256378-84256848\n",
      "Adding 1344 Ns to chr15:102797206-102797619\n",
      "Adding 1344 Ns to chr16:93436775-93437048\n",
      "Adding 1344 Ns to chr14:118889886-118890582\n",
      "Adding 1344 Ns to chrX:167886096-167886496\n"
     ]
    },
    {
     "name": "stdout",
     "output_type": "stream",
     "text": [
      "process 19000 peaks takes 5.3 s\n"
     ]
    },
    {
     "name": "stderr",
     "output_type": "stream",
     "text": [
      "Adding 1344 Ns to chr17:86559289-86559514\n",
      "Adding 1344 Ns to chr17:85473045-85473645\n",
      "Adding 1344 Ns to chr15:102458860-102459370\n",
      "Adding 1344 Ns to chr16:92246467-92246691\n",
      "Adding 1344 Ns to chr13:117710887-117711164\n",
      "Adding 1344 Ns to chr13:119640474-119641043\n",
      "Adding 1344 Ns to chrX:169837965-169838267\n",
      "Adding 1344 Ns to chr16:94125049-94125858\n",
      "Adding 1344 Ns to chr17:86962329-86962720\n",
      "Adding 1344 Ns to chr14:118915121-118915460\n",
      "Adding 1344 Ns to chrX:160808428-160808684\n",
      "Adding 1344 Ns to chr18:80777542-80777984\n",
      "Adding 1344 Ns to chr14:122104762-122105227\n",
      "Adding 1344 Ns to chrX:158714996-158715289\n",
      "Adding 1344 Ns to chr14:118970756-118971233\n",
      "Adding 1344 Ns to chrX:159817548-159818001\n",
      "Adding 1344 Ns to chrX:164417910-164418369\n",
      "Adding 1344 Ns to chr17:85121776-85122263\n",
      "Adding 1344 Ns to chr15:102685274-102685595\n",
      "Adding 1344 Ns to chr14:114851062-114851211\n",
      "Adding 1344 Ns to chr18:89179050-89179327\n"
     ]
    },
    {
     "name": "stdout",
     "output_type": "stream",
     "text": [
      "process 20000 peaks takes 5.6 s\n"
     ]
    },
    {
     "name": "stderr",
     "output_type": "stream",
     "text": [
      "Adding 1344 Ns to chr16:90741021-90741241\n",
      "Adding 1344 Ns to chr17:88981085-88981323\n",
      "Adding 1344 Ns to chrX:157840877-157841340\n",
      "Adding 1344 Ns to chr14:121963639-121963923\n",
      "Adding 1344 Ns to chr17:89591190-89591365\n",
      "Adding 1344 Ns to chrX:161142286-161142721\n",
      "Adding 1344 Ns to chr16:96406403-96406692\n",
      "Adding 1344 Ns to chr17:88329791-88330132\n",
      "Adding 1344 Ns to chr16:92720833-92721131\n",
      "Adding 1344 Ns to chr16:92340974-92341591\n",
      "Adding 1344 Ns to chr18:80764929-80765185\n",
      "Adding 1344 Ns to chr14:114032437-114032836\n",
      "Adding 1344 Ns to chr14:119310307-119310717\n",
      "Adding 1344 Ns to chr18:86724105-86724308\n",
      "Adding 1344 Ns to chrX:168659833-168660126\n",
      "Adding 1344 Ns to chr16:93673406-93673696\n",
      "Adding 1344 Ns to chr18:88092483-88092918\n",
      "Adding 1344 Ns to chr16:94401961-94402611\n",
      "Adding 1344 Ns to chr16:95484040-95484360\n",
      "Adding 1344 Ns to chr17:90629644-90630271\n",
      "Adding 1344 Ns to chr15:103552145-103552415\n",
      "Adding 1344 Ns to chr18:88748388-88748598\n",
      "Adding 1344 Ns to chr16:91720982-91721441\n",
      "Adding 1344 Ns to chr14:113689199-113689494\n",
      "Adding 1344 Ns to chrX:165193641-165193890\n"
     ]
    },
    {
     "name": "stdout",
     "output_type": "stream",
     "text": [
      "process 21000 peaks takes 5.8 s\n"
     ]
    },
    {
     "name": "stderr",
     "output_type": "stream",
     "text": [
      "Adding 1344 Ns to chr14:114425475-114425963\n",
      "Adding 1344 Ns to chr14:117813436-117813932\n",
      "Adding 1344 Ns to chr17:86819459-86819725\n",
      "Adding 1344 Ns to chr17:90382356-90382901\n",
      "Adding 1344 Ns to chrX:166809150-166809786\n",
      "Adding 1344 Ns to chr13:120193148-120193355\n",
      "Adding 1344 Ns to chr16:90970976-90971369\n",
      "Adding 1344 Ns to chr15:102203244-102204438\n",
      "Adding 1344 Ns to chr16:92696647-92696995\n",
      "Adding 1344 Ns to chr16:91222323-91222847\n",
      "Adding 1344 Ns to chrX:162642444-162642629\n",
      "Adding 1344 Ns to chrX:158835017-158835332\n",
      "Adding 1344 Ns to chr17:91031026-91031369\n",
      "Adding 1344 Ns to chr18:80987298-80987524\n",
      "Adding 1344 Ns to chr19:59759913-59760198\n",
      "Adding 1344 Ns to chr17:84096382-84096970\n",
      "Adding 1344 Ns to chr17:94553261-94553677\n",
      "Adding 1344 Ns to chr18:86711184-86711865\n",
      "Adding 1344 Ns to chr16:91632279-91632827\n",
      "Adding 1344 Ns to chr17:88440206-88441133\n",
      "Adding 1344 Ns to chrX:164339821-164340043\n",
      "Adding 1344 Ns to chr18:82654168-82654787\n",
      "Adding 1344 Ns to chrX:166384935-166385162\n",
      "Adding 1344 Ns to chr16:94250309-94251427\n",
      "Adding 1344 Ns to chr14:119172086-119172244\n",
      "Adding 1344 Ns to chr14:120675768-120676153\n",
      "Adding 1344 Ns to chr16:91839453-91839714\n"
     ]
    },
    {
     "name": "stdout",
     "output_type": "stream",
     "text": [
      "process 22000 peaks takes 6.1 s\n"
     ]
    },
    {
     "name": "stderr",
     "output_type": "stream",
     "text": [
      "Adding 1344 Ns to chr18:81252130-81252592\n",
      "Adding 1344 Ns to chr14:123511966-123512325\n",
      "Adding 1344 Ns to chr14:113468993-113469558\n",
      "Adding 1344 Ns to chr14:118212737-118213124\n",
      "Adding 1344 Ns to chr14:115475293-115475681\n",
      "Adding 1344 Ns to chr18:83290654-83291127\n",
      "Adding 1344 Ns to chr17:90704745-90705233\n",
      "Adding 1344 Ns to chr14:122643381-122643737\n",
      "Adding 1344 Ns to chr18:83075732-83076113\n",
      "Adding 1344 Ns to chr14:121535847-121536210\n",
      "Adding 1344 Ns to chr17:86371030-86371440\n",
      "Adding 1344 Ns to chr14:117975536-117975698\n",
      "Adding 1344 Ns to chr16:90550138-90550604\n",
      "Adding 1344 Ns to chr15:103506483-103506768\n",
      "Adding 1344 Ns to chr17:87405605-87405933\n",
      "Adding 1344 Ns to chr16:94034501-94034823\n",
      "Adding 1344 Ns to chr14:121099987-121100299\n",
      "Adding 1344 Ns to chr19:60184101-60184452\n",
      "Adding 1344 Ns to chr16:96996956-96997186\n",
      "Adding 1344 Ns to chr13:119341929-119342185\n",
      "Adding 1344 Ns to chr16:96023125-96023318\n",
      "Adding 1344 Ns to chr16:97850563-97852468\n",
      "Adding 1344 Ns to chr18:89695031-89695282\n",
      "Adding 1344 Ns to chr17:90556958-90557325\n",
      "Adding 1344 Ns to chr14:120053102-120053335\n",
      "Adding 1344 Ns to chr19:59316632-59316902\n",
      "Adding 1344 Ns to chr16:91579311-91579780\n",
      "Adding 1344 Ns to chr14:118591526-118592190\n",
      "Adding 1344 Ns to chr19:60121388-60121569\n"
     ]
    },
    {
     "name": "stdout",
     "output_type": "stream",
     "text": [
      "process 23000 peaks takes 6.4 s\n"
     ]
    },
    {
     "name": "stderr",
     "output_type": "stream",
     "text": [
      "Adding 1344 Ns to chr18:84967706-84968180\n",
      "Adding 1344 Ns to chr17:88936747-88936913\n",
      "Adding 1344 Ns to chr18:88098016-88098319\n",
      "Adding 1344 Ns to chr14:119720513-119720879\n",
      "Adding 1344 Ns to chr14:114774539-114775338\n",
      "Adding 1344 Ns to chr17:88919585-88919970\n",
      "Adding 1344 Ns to chr14:117246874-117247119\n",
      "Adding 1344 Ns to chr16:94899329-94899729\n",
      "Adding 1344 Ns to chr17:88103319-88103525\n",
      "Adding 1344 Ns to chr17:87691956-87692309\n",
      "Adding 1344 Ns to chr14:117407888-117408371\n",
      "Adding 1344 Ns to chr14:117826713-117827158\n",
      "Adding 1344 Ns to chrX:166365868-166366736\n",
      "Adding 1344 Ns to chr19:58993325-58993517\n",
      "Adding 1344 Ns to chr18:89391618-89392029\n",
      "Adding 1344 Ns to chr16:91639605-91639987\n",
      "Adding 1344 Ns to chr17:85292272-85292887\n",
      "Adding 1344 Ns to chr14:124634779-124635324\n",
      "Adding 1344 Ns to chr13:117406215-117406514\n",
      "Adding 1344 Ns to chr17:86128781-86129085\n",
      "Adding 1344 Ns to chr14:118703385-118703747\n",
      "Adding 1344 Ns to chr14:118422266-118422772\n"
     ]
    },
    {
     "name": "stdout",
     "output_type": "stream",
     "text": [
      "process 24000 peaks takes 6.6 s\n"
     ]
    },
    {
     "name": "stderr",
     "output_type": "stream",
     "text": [
      "Adding 1344 Ns to chrX:162643370-162643984\n",
      "Adding 1344 Ns to chr18:82486408-82486719\n",
      "Adding 1344 Ns to chr16:97438200-97438528\n",
      "Adding 1344 Ns to chr19:60064890-60065118\n",
      "Adding 1344 Ns to chr17:83402732-83402928\n",
      "Adding 1344 Ns to chrX:163957837-163959015\n",
      "Adding 1344 Ns to chr18:86675176-86675670\n",
      "Adding 1344 Ns to chrX:162922810-162923163\n",
      "Adding 1344 Ns to chr16:97169858-97171167\n",
      "Adding 1344 Ns to chr18:83000870-83001134\n",
      "Adding 1344 Ns to chr18:89897035-89897541\n",
      "Adding 1344 Ns to chr17:84610506-84610741\n",
      "Adding 1344 Ns to chrX:161511131-161511460\n",
      "Adding 1344 Ns to chr14:117695401-117695792\n",
      "Adding 1344 Ns to chr17:87473566-87474501\n",
      "Adding 1344 Ns to chr14:107206315-107206518\n",
      "Adding 1344 Ns to chr16:90610044-90610948\n",
      "Adding 1344 Ns to chrX:169948689-169948986\n",
      "Adding 1344 Ns to chr14:120937832-120938472\n",
      "Adding 1344 Ns to chrX:158946764-158947023\n",
      "Adding 1344 Ns to chr16:96487317-96487790\n",
      "Adding 1344 Ns to chr18:82534466-82534738\n"
     ]
    },
    {
     "name": "stdout",
     "output_type": "stream",
     "text": [
      "process 25000 peaks takes 6.9 s\n"
     ]
    },
    {
     "name": "stderr",
     "output_type": "stream",
     "text": [
      "Adding 1344 Ns to chrX:168569230-168569740\n",
      "Adding 1344 Ns to chr16:92543485-92543731\n",
      "Adding 1344 Ns to chrX:166976849-166976998\n",
      "Adding 1344 Ns to chr16:94588111-94588743\n",
      "Adding 1344 Ns to chr17:83275998-83276700\n",
      "Adding 1344 Ns to chr15:102779868-102780362\n",
      "Adding 1344 Ns to chr14:118607792-118608134\n",
      "Adding 1344 Ns to chr14:113278062-113278248\n",
      "Adding 1344 Ns to chr18:81767717-81768455\n",
      "Adding 1344 Ns to chr16:91491029-91491349\n",
      "Adding 1344 Ns to chr16:95037732-95038095\n",
      "Adding 1344 Ns to chr18:83779267-83779554\n",
      "Adding 1344 Ns to chr16:96399988-96400353\n",
      "Adding 1344 Ns to chrX:162791487-162791694\n",
      "Adding 1344 Ns to chr19:60465922-60466104\n",
      "Adding 1344 Ns to chr13:119654706-119655238\n",
      "Adding 1344 Ns to chr18:82037867-82038304\n",
      "Adding 1344 Ns to chrX:159255323-159256487\n",
      "Adding 1344 Ns to chr15:102613066-102613288\n",
      "Adding 1344 Ns to chrX:158034677-158034871\n",
      "Adding 1344 Ns to chr17:87468455-87468940\n",
      "Adding 1344 Ns to chr17:85803808-85804002\n",
      "Adding 1344 Ns to chr18:84128345-84128900\n",
      "Adding 1344 Ns to chr14:116349264-116349706\n",
      "Adding 1344 Ns to chr17:85706862-85707011\n",
      "Adding 1344 Ns to chrX:159626232-159626807\n",
      "Adding 1344 Ns to chr14:121268415-121268733\n",
      "Adding 1344 Ns to chr14:123400576-123401093\n",
      "Adding 1344 Ns to chr16:96289465-96289735\n"
     ]
    },
    {
     "name": "stdout",
     "output_type": "stream",
     "text": [
      "process 26000 peaks takes 7.2 s\n"
     ]
    },
    {
     "name": "stderr",
     "output_type": "stream",
     "text": [
      "Adding 1344 Ns to chr18:86232295-86232590\n",
      "Adding 1344 Ns to chr16:93487780-93488091\n",
      "Adding 1344 Ns to chr17:94239384-94239557\n",
      "Adding 1344 Ns to chr15:102770858-102771531\n",
      "Adding 1344 Ns to chr13:117217145-117217460\n",
      "Adding 1344 Ns to chr14:119633107-119633547\n",
      "Adding 1344 Ns to chr14:121316210-121316512\n",
      "Adding 1344 Ns to chrX:158931404-158931824\n",
      "Adding 1344 Ns to chr14:117229567-117229887\n",
      "Adding 1344 Ns to chrX:166316618-166317684\n",
      "Adding 1344 Ns to chr18:86970795-86971130\n",
      "Adding 1344 Ns to chr16:97673629-97674036\n",
      "Adding 1344 Ns to chr18:81668029-81668228\n",
      "Adding 1344 Ns to chrX:163878286-163878511\n",
      "Adding 1344 Ns to chr16:91677334-91677483\n",
      "Adding 1344 Ns to chr16:92398761-92399085\n",
      "Adding 1344 Ns to chrX:167925626-167926064\n",
      "Adding 1344 Ns to chr17:90353910-90354142\n",
      "Adding 1344 Ns to chr16:91830201-91830717\n",
      "Adding 1344 Ns to chr14:120757577-120757851\n",
      "Adding 1344 Ns to chr18:80416904-80417300\n",
      "Adding 1344 Ns to chr16:93150282-93150929\n",
      "Adding 1344 Ns to chr17:90249590-90249885\n",
      "Adding 1344 Ns to chr18:82655218-82655516\n"
     ]
    },
    {
     "name": "stdout",
     "output_type": "stream",
     "text": [
      "process 27000 peaks takes 7.4 s\n"
     ]
    },
    {
     "name": "stderr",
     "output_type": "stream",
     "text": [
      "Adding 1344 Ns to chr14:123187781-123188041\n",
      "Adding 1344 Ns to chr18:80712663-80713272\n",
      "Adding 1344 Ns to chr17:87530312-87531092\n",
      "Adding 1344 Ns to chr16:90518194-90518709\n",
      "Adding 1344 Ns to chr14:114318102-114318495\n",
      "Adding 1344 Ns to chr13:117467396-117467653\n",
      "Adding 1344 Ns to chr17:84605905-84606282\n",
      "Adding 1344 Ns to chr17:85134869-85135244\n",
      "Adding 1344 Ns to chr14:119686994-119687239\n",
      "Adding 1344 Ns to chr15:103511709-103512025\n",
      "Adding 1344 Ns to chr17:87695872-87696356\n",
      "Adding 1344 Ns to chrX:166170191-166170764\n",
      "Adding 1344 Ns to chr19:59697577-59698428\n",
      "Adding 1344 Ns to chr13:116534239-116534539\n",
      "Adding 1344 Ns to chr16:94674590-94674762\n"
     ]
    },
    {
     "name": "stdout",
     "output_type": "stream",
     "text": [
      "process 28000 peaks takes 7.7 s\n"
     ]
    },
    {
     "name": "stderr",
     "output_type": "stream",
     "text": [
      "Adding 1344 Ns to chrX:160192968-160193537\n",
      "Adding 1344 Ns to chr18:85526314-85526744\n",
      "Adding 1344 Ns to chr17:88779007-88779463\n",
      "Adding 1344 Ns to chr16:95117536-95117928\n",
      "Adding 1344 Ns to chr17:92807194-92807343\n",
      "Adding 1344 Ns to chr19:59208544-59208807\n",
      "Adding 1344 Ns to chr19:61070815-61071096\n",
      "Adding 1344 Ns to chr17:90351642-90351915\n",
      "Adding 1344 Ns to chr16:96835322-96835509\n",
      "Adding 1344 Ns to chr14:113928548-113928897\n",
      "Adding 1344 Ns to chr14:118875180-118875773\n",
      "Adding 1344 Ns to chr14:107526046-107526664\n",
      "Adding 1344 Ns to chr16:91936417-91936810\n",
      "Adding 1344 Ns to chr14:121313078-121313836\n",
      "Adding 1344 Ns to chr19:59388896-59389676\n",
      "Adding 1344 Ns to chr14:118612985-118613290\n",
      "Adding 1344 Ns to chr19:60789941-60791233\n",
      "Adding 1344 Ns to chr13:117401443-117402748\n",
      "Adding 1344 Ns to chr14:122943093-122943540\n",
      "Adding 1344 Ns to chr19:60755675-60757194\n",
      "Adding 1344 Ns to chrX:158933569-158933844\n",
      "Adding 1344 Ns to chr18:82961266-82961512\n",
      "Adding 1344 Ns to chr14:120578383-120579272\n",
      "Adding 1344 Ns to chr16:93116686-93116941\n",
      "Adding 1344 Ns to chrX:167017433-167017890\n",
      "Adding 1344 Ns to chr17:90252193-90252397\n"
     ]
    },
    {
     "name": "stdout",
     "output_type": "stream",
     "text": [
      "process 29000 peaks takes 8.0 s\n"
     ]
    },
    {
     "name": "stderr",
     "output_type": "stream",
     "text": [
      "Adding 1344 Ns to chr14:119989327-119989833\n",
      "Adding 1344 Ns to chr13:118849519-118850015\n",
      "Adding 1344 Ns to chr16:97035173-97035698\n",
      "Adding 1344 Ns to chr14:117674474-117674790\n",
      "Adding 1344 Ns to chr14:114450599-114450824\n",
      "Adding 1344 Ns to chr16:91553574-91553759\n",
      "Adding 1344 Ns to chr17:89064518-89065111\n",
      "Adding 1344 Ns to chr16:92399853-92400794\n",
      "Adding 1344 Ns to chr14:119021314-119021759\n",
      "Adding 1344 Ns to chr16:91848513-91848792\n",
      "Adding 1344 Ns to chr16:94807171-94807445\n",
      "Adding 1344 Ns to chr16:96887130-96887391\n",
      "Adding 1344 Ns to chr16:91862971-91863147\n",
      "Adding 1344 Ns to chr17:84803098-84803697\n",
      "Adding 1344 Ns to chr17:89871115-89871594\n",
      "Adding 1344 Ns to chr14:121774690-121775108\n",
      "Adding 1344 Ns to chr15:102216632-102216811\n",
      "Adding 1344 Ns to chrX:156228510-156228752\n",
      "Adding 1344 Ns to chr14:116108262-116108632\n",
      "Adding 1344 Ns to chr16:91192754-91193031\n",
      "Adding 1344 Ns to chrX:165894865-165895038\n",
      "Adding 1344 Ns to chr17:90857120-90857329\n",
      "Adding 1344 Ns to chrX:167204181-167204732\n",
      "Adding 1344 Ns to chr14:116957483-116957684\n",
      "Adding 1344 Ns to chr17:87331921-87332425\n",
      "Adding 1344 Ns to chr17:85241998-85242683\n",
      "Adding 1344 Ns to chr17:87436950-87437143\n",
      "Adding 1344 Ns to chr14:108843500-108844152\n",
      "Adding 1344 Ns to chr18:82779862-82780794\n"
     ]
    },
    {
     "name": "stdout",
     "output_type": "stream",
     "text": [
      "process 30000 peaks takes 8.2 s\n"
     ]
    },
    {
     "name": "stderr",
     "output_type": "stream",
     "text": [
      "Adding 1344 Ns to chr19:58866721-58867006\n",
      "Adding 1344 Ns to chrX:167056125-167056343\n",
      "Adding 1344 Ns to chr14:122953398-122953646\n",
      "Adding 1344 Ns to chr16:91880913-91881759\n",
      "Adding 1344 Ns to chr17:90744383-90744744\n",
      "Adding 1344 Ns to chr17:90594789-90595263\n",
      "Adding 1344 Ns to chr17:88505269-88505835\n",
      "Adding 1344 Ns to chr16:92319158-92320006\n",
      "Adding 1344 Ns to chr18:83686047-83686433\n",
      "Adding 1344 Ns to chr16:93238239-93238555\n",
      "Adding 1344 Ns to chr13:117792775-117793200\n",
      "Adding 1344 Ns to chr14:110544106-110544469\n",
      "Adding 1344 Ns to chr18:80573964-80574260\n",
      "Adding 1344 Ns to chr14:107052958-107053288\n",
      "Adding 1344 Ns to chr13:118344198-118344638\n",
      "Adding 1344 Ns to chr14:120382244-120382557\n",
      "Adding 1344 Ns to chr17:89550800-89551096\n",
      "Adding 1344 Ns to chr14:119409721-119410050\n",
      "Adding 1344 Ns to chr16:91010713-91011796\n",
      "Adding 1344 Ns to chr14:122280014-122280213\n",
      "Adding 1344 Ns to chr17:89970558-89970730\n",
      "Adding 1344 Ns to chr18:81581436-81581795\n",
      "Adding 1344 Ns to chr16:95449587-95449743\n",
      "Adding 1344 Ns to chr16:92006885-92007327\n",
      "Adding 1344 Ns to chr17:83631808-83632744\n",
      "Adding 1344 Ns to chr17:90439728-90440068\n",
      "Adding 1344 Ns to chr16:92203690-92203919\n",
      "Adding 1344 Ns to chr13:119761369-119762060\n",
      "Adding 1344 Ns to chr14:121040067-121040456\n",
      "Adding 1344 Ns to chr18:89559774-89560149\n",
      "Adding 1344 Ns to chr14:121987153-121987810\n",
      "Adding 1344 Ns to chr13:115697911-115698284\n"
     ]
    },
    {
     "name": "stdout",
     "output_type": "stream",
     "text": [
      "process 31000 peaks takes 8.5 s\n"
     ]
    },
    {
     "name": "stderr",
     "output_type": "stream",
     "text": [
      "Adding 1344 Ns to chr18:86222177-86222536\n",
      "Adding 1344 Ns to chr17:89347103-89348128\n",
      "Adding 1344 Ns to chr18:88893522-88894708\n",
      "Adding 1344 Ns to chr16:91314153-91314724\n",
      "Adding 1344 Ns to chr18:83840901-83841217\n",
      "Adding 1344 Ns to chr16:94419459-94419887\n",
      "Adding 1344 Ns to chrX:157292854-157293502\n",
      "Adding 1344 Ns to chr14:111576783-111577189\n",
      "Adding 1344 Ns to chr18:84873627-84874066\n",
      "Adding 1344 Ns to chr17:90532413-90532597\n",
      "Adding 1344 Ns to chr17:89470410-89470767\n",
      "Adding 1344 Ns to chr16:94362084-94362642\n",
      "Adding 1344 Ns to chrX:164183907-164184135\n",
      "Adding 1344 Ns to chr15:102750231-102750803\n",
      "Adding 1344 Ns to chr17:88578707-88578859\n",
      "Adding 1344 Ns to chr14:114863526-114863971\n",
      "Adding 1344 Ns to chr16:94047624-94048060\n",
      "Adding 1344 Ns to chr14:108812346-108812610\n",
      "Adding 1344 Ns to chr17:84370355-84370616\n"
     ]
    },
    {
     "name": "stdout",
     "output_type": "stream",
     "text": [
      "process 32000 peaks takes 8.8 s\n"
     ]
    },
    {
     "name": "stderr",
     "output_type": "stream",
     "text": [
      "Adding 1344 Ns to chr16:90516827-90516997\n",
      "Adding 1344 Ns to chr19:59280952-59281180\n",
      "Adding 1344 Ns to chr18:85134919-85135184\n",
      "Adding 1344 Ns to chr14:122249495-122249670\n",
      "Adding 1344 Ns to chr16:95175139-95175652\n",
      "Adding 1344 Ns to chr19:58819189-58819371\n",
      "Adding 1344 Ns to chr17:90761217-90761554\n",
      "Adding 1344 Ns to chr14:121034902-121035903\n",
      "Adding 1344 Ns to chr13:119330662-119331105\n",
      "Adding 1344 Ns to chr14:120296059-120296608\n",
      "Adding 1344 Ns to chr18:82616708-82617017\n",
      "Adding 1344 Ns to chr17:94254715-94255247\n",
      "Adding 1344 Ns to chr16:95033458-95033805\n",
      "Adding 1344 Ns to chr18:83232176-83232788\n",
      "Adding 1344 Ns to chr17:86580713-86581282\n",
      "Adding 1344 Ns to chr14:115070580-115070907\n",
      "Adding 1344 Ns to chrX:166373501-166373650\n",
      "Adding 1344 Ns to chr16:97002086-97002695\n",
      "Adding 1344 Ns to chr14:115025041-115025500\n",
      "Adding 1344 Ns to chr14:109310452-109310763\n",
      "Adding 1344 Ns to chr18:82672448-82672787\n",
      "Adding 1344 Ns to chr17:84261316-84261687\n",
      "Adding 1344 Ns to chr14:120867118-120867655\n",
      "Adding 1344 Ns to chrX:160516390-160516575\n",
      "Adding 1344 Ns to chr18:89547061-89547402\n",
      "Adding 1344 Ns to chr19:59027916-59028543\n",
      "Adding 1344 Ns to chr16:94940402-94941102\n",
      "Adding 1344 Ns to chr13:118379200-118379482\n"
     ]
    },
    {
     "name": "stdout",
     "output_type": "stream",
     "text": [
      "process 33000 peaks takes 9.0 s\n"
     ]
    },
    {
     "name": "stderr",
     "output_type": "stream",
     "text": [
      "Adding 1344 Ns to chrX:166289242-166289490\n",
      "Adding 1344 Ns to chr16:95182478-95182689\n",
      "Adding 1344 Ns to chr16:94997271-94997891\n",
      "Adding 1344 Ns to chr14:120994368-120994859\n",
      "Adding 1344 Ns to chrX:160994511-160995636\n",
      "Adding 1344 Ns to chr16:96617879-96618069\n",
      "Adding 1344 Ns to chr13:115186620-115187305\n",
      "Adding 1344 Ns to chrX:159963251-159963607\n",
      "Adding 1344 Ns to chr17:87609700-87610140\n",
      "Adding 1344 Ns to chr15:103299434-103300497\n",
      "Adding 1344 Ns to chrX:162913635-162914088\n",
      "Adding 1344 Ns to chrX:164953199-164953559\n",
      "Adding 1344 Ns to chr14:116913243-116913728\n",
      "Adding 1344 Ns to chrX:168429516-168430324\n",
      "Adding 1344 Ns to chr17:83527223-83527453\n",
      "Adding 1344 Ns to chr14:122655186-122655425\n",
      "Adding 1344 Ns to chrX:158548541-158548877\n",
      "Adding 1344 Ns to chr13:116322194-116322505\n",
      "Adding 1344 Ns to chr17:88580245-88580604\n",
      "Adding 1344 Ns to chr17:94564715-94564922\n",
      "Adding 1344 Ns to chr17:90400508-90400851\n",
      "Adding 1344 Ns to chr17:83389585-83389781\n",
      "Adding 1344 Ns to chr17:90695624-90695908\n",
      "Adding 1344 Ns to chr17:86906180-86906483\n",
      "Adding 1344 Ns to chr17:85826065-85826659\n",
      "Adding 1344 Ns to chrX:160773053-160773919\n",
      "Adding 1344 Ns to chr17:84783273-84783422\n",
      "Adding 1344 Ns to chrX:167212859-167213047\n",
      "Adding 1344 Ns to chr17:88065544-88066748\n",
      "Adding 1344 Ns to chr16:96280645-96281320\n",
      "Adding 1344 Ns to chr14:123037714-123038449\n",
      "Adding 1344 Ns to chr14:122343383-122343671\n",
      "Adding 1344 Ns to chr17:86249872-86250932\n",
      "Adding 1344 Ns to chr19:59417972-59418603\n"
     ]
    },
    {
     "name": "stdout",
     "output_type": "stream",
     "text": [
      "process 34000 peaks takes 9.3 s\n"
     ]
    },
    {
     "name": "stderr",
     "output_type": "stream",
     "text": [
      "Adding 1344 Ns to chr17:83378490-83378804\n",
      "Adding 1344 Ns to chr17:86618580-86618897\n",
      "Adding 1344 Ns to chr17:93510170-93510534\n",
      "Adding 1344 Ns to chr16:93797882-93798953\n",
      "Adding 1344 Ns to chr17:86282781-86283444\n",
      "Adding 1344 Ns to chrX:158613913-158615039\n",
      "Adding 1344 Ns to chr16:90928660-90929378\n",
      "Adding 1344 Ns to chr16:92421362-92421628\n",
      "Adding 1344 Ns to chr18:89575798-89576058\n",
      "Adding 1344 Ns to chr19:59382864-59383078\n",
      "Adding 1344 Ns to chr18:83992489-83992735\n",
      "Adding 1344 Ns to chr14:107769381-107769641\n",
      "Adding 1344 Ns to chr14:116553303-116553723\n",
      "Adding 1344 Ns to chr15:102503391-102503613\n",
      "Adding 1344 Ns to chrX:167208997-167209366\n",
      "Adding 1344 Ns to chr16:97405412-97405975\n",
      "Adding 1344 Ns to chr18:80853266-80853807\n",
      "Adding 1344 Ns to chr17:87949004-87949307\n",
      "Adding 1344 Ns to chr18:89146180-89146416\n"
     ]
    },
    {
     "name": "stdout",
     "output_type": "stream",
     "text": [
      "process 35000 peaks takes 9.6 s\n"
     ]
    },
    {
     "name": "stderr",
     "output_type": "stream",
     "text": [
      "Adding 1344 Ns to chr17:86197124-86197514\n",
      "Adding 1344 Ns to chr16:92588633-92589024\n",
      "Adding 1344 Ns to chr18:81962130-81962358\n",
      "Adding 1344 Ns to chr18:89564374-89564656\n",
      "Adding 1344 Ns to chr17:86549160-86549347\n",
      "Adding 1344 Ns to chr16:94232525-94232716\n",
      "Adding 1344 Ns to chr17:84723923-84724403\n",
      "Adding 1344 Ns to chrX:161162410-161163182\n",
      "Adding 1344 Ns to chr16:94931283-94932417\n",
      "Adding 1344 Ns to chr13:119754341-119754610\n",
      "Adding 1344 Ns to chr14:116559174-116559444\n",
      "Adding 1344 Ns to chr18:80755062-80755265\n",
      "Adding 1344 Ns to chrX:163537353-163537643\n",
      "Adding 1344 Ns to chr16:95684879-95685213\n",
      "Adding 1344 Ns to chr17:84183461-84183811\n",
      "Adding 1344 Ns to chr14:121119342-121119598\n",
      "Adding 1344 Ns to chr16:97956574-97957060\n",
      "Adding 1344 Ns to chr14:117905444-117905832\n",
      "Adding 1344 Ns to chrX:164268984-164269998\n",
      "Adding 1344 Ns to chr18:82591757-82592709\n",
      "Adding 1344 Ns to chr16:95150452-95150893\n",
      "Adding 1344 Ns to chr18:89036563-89036955\n",
      "Adding 1344 Ns to chr18:82469937-82470418\n",
      "Adding 1344 Ns to chr14:123843693-123844039\n",
      "Adding 1344 Ns to chr19:60179338-60179832\n",
      "Adding 1344 Ns to chr14:117977171-117977420\n"
     ]
    },
    {
     "name": "stdout",
     "output_type": "stream",
     "text": [
      "process 36000 peaks takes 9.9 s\n"
     ]
    },
    {
     "name": "stderr",
     "output_type": "stream",
     "text": [
      "Adding 1344 Ns to chr17:84728904-84729260\n",
      "Adding 1344 Ns to chr18:82508232-82509040\n",
      "Adding 1344 Ns to chrX:161613350-161613593\n",
      "Adding 1344 Ns to chr13:117938971-117939399\n",
      "Adding 1344 Ns to chrX:157532392-157532541\n",
      "Adding 1344 Ns to chr16:96753780-96754199\n",
      "Adding 1344 Ns to chr17:93378926-93379091\n",
      "Adding 1344 Ns to chr17:86540582-86540897\n",
      "Adding 1344 Ns to chr18:85300688-85301352\n",
      "Adding 1344 Ns to chr17:90422387-90422579\n",
      "Adding 1344 Ns to chr14:120033683-120034200\n",
      "Adding 1344 Ns to chr14:120925967-120926650\n",
      "Adding 1344 Ns to chr18:86284033-86284228\n",
      "Adding 1344 Ns to chr17:86785329-86786310\n",
      "Adding 1344 Ns to chr18:84995959-84996316\n",
      "Adding 1344 Ns to chr17:86404679-86405304\n",
      "Adding 1344 Ns to chrX:159459329-159459891\n",
      "Adding 1344 Ns to chr16:94555931-94556437\n",
      "Adding 1344 Ns to chr18:83813304-83813542\n",
      "Adding 1344 Ns to chr14:120581629-120581894\n",
      "Adding 1344 Ns to chr17:90342621-90342780\n",
      "Adding 1344 Ns to chr16:96209911-96210133\n",
      "Adding 1344 Ns to chr14:117664408-117665182\n",
      "Adding 1344 Ns to chr18:80567581-80567843\n",
      "Adding 1344 Ns to chr16:92864331-92864525\n",
      "Adding 1344 Ns to chr15:102870924-102871301\n",
      "Adding 1344 Ns to chr17:92407789-92407938\n"
     ]
    },
    {
     "name": "stdout",
     "output_type": "stream",
     "text": [
      "process 37000 peaks takes 10.1 s\n"
     ]
    },
    {
     "name": "stderr",
     "output_type": "stream",
     "text": [
      "Adding 1344 Ns to chr16:96636049-96636362\n",
      "Adding 1344 Ns to chr17:86802372-86802636\n",
      "Adding 1344 Ns to chr14:122450967-122451365\n",
      "Adding 1344 Ns to chr18:82718486-82718974\n",
      "Adding 1344 Ns to chrX:165308139-165308507\n",
      "Adding 1344 Ns to chr14:123143492-123144069\n",
      "Adding 1344 Ns to chr17:93325659-93325874\n",
      "Adding 1344 Ns to chr14:119608276-119609023\n",
      "Adding 1344 Ns to chr15:102279148-102280249\n",
      "Adding 1344 Ns to chr14:123158766-123159055\n",
      "Adding 1344 Ns to chr16:95667866-95668337\n",
      "Adding 1344 Ns to chrX:158411100-158411618\n",
      "Adding 1344 Ns to chr18:82792800-82793152\n",
      "Adding 1344 Ns to chr16:96294978-96295261\n",
      "Adding 1344 Ns to chr14:118001210-118001985\n",
      "Adding 1344 Ns to chr17:83574654-83574973\n",
      "Adding 1344 Ns to chr17:85873963-85874585\n",
      "Adding 1344 Ns to chr18:87901623-87901880\n",
      "Adding 1344 Ns to chrX:162527301-162527627\n",
      "Adding 1344 Ns to chrX:169343270-169343577\n",
      "Adding 1344 Ns to chr18:82867731-82868079\n",
      "Adding 1344 Ns to chrX:159675081-159675316\n",
      "Adding 1344 Ns to chr16:90990042-90990798\n",
      "Adding 1344 Ns to chr14:120495557-120495706\n",
      "Adding 1344 Ns to chr17:87745040-87745724\n"
     ]
    },
    {
     "name": "stdout",
     "output_type": "stream",
     "text": [
      "process 38000 peaks takes 10.4 s\n"
     ]
    },
    {
     "name": "stderr",
     "output_type": "stream",
     "text": [
      "Adding 1344 Ns to chr17:84322210-84322490\n",
      "Adding 1344 Ns to chr14:121225474-121226219\n",
      "Adding 1344 Ns to chr15:102296004-102296504\n",
      "Adding 1344 Ns to chrX:164443542-164443709\n",
      "Adding 1344 Ns to chr17:86593821-86594130\n",
      "Adding 1344 Ns to chr19:60603033-60603696\n",
      "Adding 1344 Ns to chr16:94472215-94473474\n",
      "Adding 1344 Ns to chr17:85027384-85027620\n",
      "Adding 1344 Ns to chrX:167749206-167749803\n",
      "Adding 1344 Ns to chr17:85704380-85704644\n",
      "Adding 1344 Ns to chrX:167158644-167159004\n",
      "Adding 1344 Ns to chr19:59784436-59784934\n",
      "Adding 1344 Ns to chr14:119247947-119248677\n",
      "Adding 1344 Ns to chrX:163192429-163192834\n",
      "Adding 1344 Ns to chr14:117975122-117975323\n",
      "Adding 1344 Ns to chr15:103576723-103577330\n",
      "Adding 1344 Ns to chr14:123968009-123968330\n",
      "Adding 1344 Ns to chr14:122475772-122476299\n"
     ]
    },
    {
     "name": "stdout",
     "output_type": "stream",
     "text": [
      "process 39000 peaks takes 10.6 s\n"
     ]
    },
    {
     "name": "stderr",
     "output_type": "stream",
     "text": [
      "Adding 1344 Ns to chr17:87945237-87945702\n",
      "Adding 1344 Ns to chr18:88707382-88707532\n",
      "Adding 1344 Ns to chr16:95209637-95209988\n",
      "Adding 1344 Ns to chr16:91466523-91466835\n",
      "Adding 1344 Ns to chr17:90346767-90347049\n",
      "Adding 1344 Ns to chrX:162762122-162762386\n",
      "Adding 1344 Ns to chr17:90845662-90845858\n",
      "Adding 1344 Ns to chr14:112380586-112380809\n",
      "Adding 1344 Ns to chrX:167507517-167507916\n",
      "Adding 1344 Ns to chr14:109874271-109874510\n",
      "Adding 1344 Ns to chr13:114878688-114879137\n",
      "Adding 1344 Ns to chr16:94209635-94210145\n",
      "Adding 1344 Ns to chr15:103513539-103514005\n",
      "Adding 1344 Ns to chr14:109432546-109432983\n",
      "Adding 1344 Ns to chr17:88937639-88938098\n",
      "Adding 1344 Ns to chr16:91884875-91885267\n",
      "Adding 1344 Ns to chr18:86409120-86409320\n",
      "Adding 1344 Ns to chrX:161038725-161039109\n",
      "Adding 1344 Ns to chrX:159856611-159857315\n",
      "Adding 1344 Ns to chr17:87177181-87177536\n",
      "Adding 1344 Ns to chr16:94883741-94883921\n",
      "Adding 1344 Ns to chr18:82563185-82563334\n"
     ]
    },
    {
     "name": "stdout",
     "output_type": "stream",
     "text": [
      "process 40000 peaks takes 10.9 s\n"
     ]
    },
    {
     "name": "stderr",
     "output_type": "stream",
     "text": [
      "Adding 1344 Ns to chr17:87797656-87798312\n",
      "Adding 1344 Ns to chr15:103340814-103341181\n",
      "Adding 1344 Ns to chr17:83850596-83850793\n",
      "Adding 1344 Ns to chr18:81916109-81916698\n",
      "Adding 1344 Ns to chr15:103070120-103070390\n",
      "Adding 1344 Ns to chr16:96559654-96560188\n",
      "Adding 1344 Ns to chrX:157383057-157383480\n",
      "Adding 1344 Ns to chr18:84914312-84915258\n",
      "Adding 1344 Ns to chr15:102109159-102109587\n",
      "Adding 1344 Ns to chr17:86725040-86725415\n",
      "Adding 1344 Ns to chrX:166860484-166860847\n",
      "Adding 1344 Ns to chrX:169909994-169910261\n",
      "Adding 1344 Ns to chr17:83461605-83461853\n",
      "Adding 1344 Ns to chr17:89360106-89360470\n",
      "Adding 1344 Ns to chr18:80676740-80677112\n",
      "Adding 1344 Ns to chr19:60408340-60408938\n",
      "Adding 1344 Ns to chr17:85357796-85357991\n",
      "Adding 1344 Ns to chr18:82725782-82726246\n",
      "Adding 1344 Ns to chr15:103298027-103298335\n",
      "Adding 1344 Ns to chr16:91053711-91053975\n",
      "Adding 1344 Ns to chr17:90088067-90088665\n",
      "Adding 1344 Ns to chr17:83807969-83808329\n",
      "Adding 1344 Ns to chr17:90634849-90635401\n",
      "Adding 1344 Ns to chr17:85335385-85336277\n",
      "Adding 1344 Ns to chr19:61023987-61024392\n",
      "Adding 1344 Ns to chr17:86980458-86980691\n",
      "Adding 1344 Ns to chr14:121044232-121044438\n",
      "Adding 1344 Ns to chr14:122719168-122719414\n",
      "Adding 1344 Ns to chr17:90262455-90262614\n",
      "Adding 1344 Ns to chr18:84655730-84655908\n",
      "Adding 1344 Ns to chr17:84575158-84575428\n",
      "Adding 1344 Ns to chrX:168206890-168207467\n",
      "Adding 1344 Ns to chr18:86453749-86454110\n",
      "Adding 1344 Ns to chr16:92099991-92100549\n",
      "Adding 1344 Ns to chr18:84880357-84880961\n",
      "Adding 1344 Ns to chr17:86310352-86310669\n"
     ]
    },
    {
     "name": "stdout",
     "output_type": "stream",
     "text": [
      "process 41000 peaks takes 11.2 s\n"
     ]
    },
    {
     "name": "stderr",
     "output_type": "stream",
     "text": [
      "Adding 1344 Ns to chrX:163364832-163365178\n",
      "Adding 1344 Ns to chrX:156448832-156449349\n",
      "Adding 1344 Ns to chr17:86715848-86716082\n",
      "Adding 1344 Ns to chr16:91184500-91184919\n",
      "Adding 1344 Ns to chrX:167652017-167652746\n",
      "Adding 1344 Ns to chr17:84146012-84146164\n",
      "Adding 1344 Ns to chr16:90628939-90629674\n",
      "Adding 1344 Ns to chr18:88765170-88765607\n",
      "Adding 1344 Ns to chr13:117837604-117838003\n",
      "Adding 1344 Ns to chr18:86798652-86799193\n",
      "Adding 1344 Ns to chrX:161896778-161897116\n",
      "Adding 1344 Ns to chr17:85995725-85996083\n",
      "Adding 1344 Ns to chr13:114892063-114892535\n",
      "Adding 1344 Ns to chr16:92105010-92105307\n",
      "Adding 1344 Ns to chr16:91809311-91809733\n",
      "Adding 1344 Ns to chrX:167081420-167081670\n",
      "Adding 1344 Ns to chr14:117821770-117822117\n",
      "Adding 1344 Ns to chrX:160542780-160543248\n",
      "Adding 1344 Ns to chr16:97738098-97738354\n",
      "Adding 1344 Ns to chrX:160914112-160914662\n",
      "Adding 1344 Ns to chr15:103183185-103183548\n",
      "Adding 1344 Ns to chr15:103121347-103121805\n",
      "Adding 1344 Ns to chr18:82254174-82254534\n",
      "Adding 1344 Ns to chr17:84571644-84571950\n",
      "Adding 1344 Ns to chrX:157606118-157606553\n",
      "Adding 1344 Ns to chr14:121223751-121223973\n"
     ]
    },
    {
     "name": "stdout",
     "output_type": "stream",
     "text": [
      "process 42000 peaks takes 11.4 s\n"
     ]
    },
    {
     "name": "stderr",
     "output_type": "stream",
     "text": [
      "Adding 1344 Ns to chr13:114794222-114794436\n",
      "Adding 1344 Ns to chr17:90542630-90542875\n",
      "Adding 1344 Ns to chr16:97286577-97287150\n",
      "Adding 1344 Ns to chr18:84245850-84246362\n",
      "Adding 1344 Ns to chr17:87460663-87461016\n",
      "Adding 1344 Ns to chr17:84048402-84048874\n",
      "Adding 1344 Ns to chrX:160504041-160504401\n",
      "Adding 1344 Ns to chr14:117174903-117175115\n",
      "Adding 1344 Ns to chr14:121455478-121456008\n",
      "Adding 1344 Ns to chr14:108913878-108914332\n",
      "Adding 1344 Ns to chr14:119188070-119188457\n",
      "Adding 1344 Ns to chr13:119251970-119252358\n",
      "Adding 1344 Ns to chrX:159001183-159001369\n",
      "Adding 1344 Ns to chrX:168058196-168058421\n",
      "Adding 1344 Ns to chr14:120772296-120772609\n",
      "Adding 1344 Ns to chr18:84293664-84294306\n",
      "Adding 1344 Ns to chr14:120155632-120156445\n",
      "Adding 1344 Ns to chr18:80760672-80760866\n",
      "Adding 1344 Ns to chr18:88484834-88485169\n"
     ]
    },
    {
     "name": "stdout",
     "output_type": "stream",
     "text": [
      "process 43000 peaks takes 11.7 s\n"
     ]
    },
    {
     "name": "stderr",
     "output_type": "stream",
     "text": [
      "Adding 1344 Ns to chr15:103122399-103122821\n",
      "Adding 1344 Ns to chr14:116321672-116321850\n",
      "Adding 1344 Ns to chrX:167261900-167262106\n",
      "Adding 1344 Ns to chr17:86909853-86910257\n",
      "Adding 1344 Ns to chr17:83489114-83489390\n",
      "Adding 1344 Ns to chr16:96755066-96755514\n",
      "Adding 1344 Ns to chr17:91385878-91386443\n",
      "Adding 1344 Ns to chr17:84781248-84781494\n",
      "Adding 1344 Ns to chr17:88908729-88909258\n",
      "Adding 1344 Ns to chr17:83324315-83324686\n",
      "Adding 1344 Ns to chrX:166709825-166710231\n",
      "Adding 1344 Ns to chr17:91361335-91361603\n",
      "Adding 1344 Ns to chr17:84465690-84466581\n",
      "Adding 1344 Ns to chr17:86345193-86346112\n",
      "Adding 1344 Ns to chrX:158381130-158381476\n",
      "Adding 1344 Ns to chr14:117023020-117023406\n",
      "Adding 1344 Ns to chr13:114817889-114818421\n",
      "Adding 1344 Ns to chr18:83492004-83492371\n",
      "Adding 1344 Ns to chr16:92705675-92706189\n",
      "Adding 1344 Ns to chr14:121186991-121187259\n",
      "Adding 1344 Ns to chr17:83528217-83528437\n",
      "Adding 1344 Ns to chr14:120404296-120404676\n",
      "Adding 1344 Ns to chr15:102262513-102263049\n",
      "Adding 1344 Ns to chrX:164980076-164980815\n",
      "Adding 1344 Ns to chr17:88021213-88021959\n",
      "Adding 1344 Ns to chr19:60489587-60489914\n",
      "Adding 1344 Ns to chr16:95114028-95114225\n"
     ]
    },
    {
     "name": "stdout",
     "output_type": "stream",
     "text": [
      "process 44000 peaks takes 12.0 s\n"
     ]
    },
    {
     "name": "stderr",
     "output_type": "stream",
     "text": [
      "Adding 1344 Ns to chr16:91265976-91266251\n",
      "Adding 1344 Ns to chrX:159459054-159459292\n",
      "Adding 1344 Ns to chr14:111674507-111675022\n",
      "Adding 1344 Ns to chr15:103371387-103371711\n",
      "Adding 1344 Ns to chr16:96518813-96519219\n",
      "Adding 1344 Ns to chr16:90483295-90483823\n",
      "Adding 1344 Ns to chr17:88449568-88449722\n",
      "Adding 1344 Ns to chr16:96345132-96345479\n",
      "Adding 1344 Ns to chrX:164801722-164801991\n",
      "Adding 1344 Ns to chr14:120487569-120487853\n",
      "Adding 1344 Ns to chrX:166316034-166316300\n",
      "Adding 1344 Ns to chrX:166323065-166323637\n",
      "Adding 1344 Ns to chr17:93597998-93598803\n",
      "Adding 1344 Ns to chr17:86663114-86663295\n",
      "Adding 1344 Ns to chr16:95525815-95526195\n",
      "Adding 1344 Ns to chr16:91785168-91785418\n",
      "Adding 1344 Ns to chr13:117707355-117707797\n",
      "Adding 1344 Ns to chr14:116543637-116544101\n",
      "Adding 1344 Ns to chr14:121749757-121750098\n",
      "Adding 1344 Ns to chrX:166393036-166393332\n",
      "Adding 1344 Ns to chr14:119702938-119703608\n",
      "Adding 1344 Ns to chrX:158976494-158976747\n",
      "Adding 1344 Ns to chrX:162636893-162637133\n",
      "Adding 1344 Ns to chr14:122957818-122958385\n",
      "Adding 1344 Ns to chr15:102256834-102257976\n",
      "Adding 1344 Ns to chr19:58680217-58680621\n",
      "Adding 1344 Ns to chrX:160603831-160604795\n"
     ]
    },
    {
     "name": "stdout",
     "output_type": "stream",
     "text": [
      "process 45000 peaks takes 12.2 s\n"
     ]
    },
    {
     "name": "stderr",
     "output_type": "stream",
     "text": [
      "Adding 1344 Ns to chr14:118908902-118909284\n",
      "Adding 1344 Ns to chr16:94885041-94885590\n",
      "Adding 1344 Ns to chr19:58761623-58762033\n",
      "Adding 1344 Ns to chr16:97897605-97897865\n",
      "Adding 1344 Ns to chrX:158632425-158632869\n",
      "Adding 1344 Ns to chr14:121148137-121148442\n",
      "Adding 1344 Ns to chr14:121107861-121108238\n",
      "Adding 1344 Ns to chr16:95740131-95740403\n",
      "Adding 1344 Ns to chr17:93263202-93263421\n",
      "Adding 1344 Ns to chr16:96938896-96939202\n",
      "Adding 1344 Ns to chr18:85187985-85188348\n",
      "Adding 1344 Ns to chrX:157079641-157079940\n",
      "Adding 1344 Ns to chr17:83527688-83527857\n",
      "Adding 1344 Ns to chr16:96304532-96304792\n",
      "Adding 1344 Ns to chr16:92605598-92606087\n",
      "Adding 1344 Ns to chr15:103239286-103240518\n",
      "Adding 1344 Ns to chr14:117892055-117892416\n",
      "Adding 1344 Ns to chr14:124502159-124502542\n",
      "Adding 1344 Ns to chr17:89960324-89960942\n",
      "Adding 1344 Ns to chr14:124598278-124598729\n",
      "Adding 1344 Ns to chr17:84600272-84600850\n",
      "Adding 1344 Ns to chr18:84999288-84999664\n",
      "Adding 1344 Ns to chr19:58750657-58751213\n"
     ]
    },
    {
     "name": "stdout",
     "output_type": "stream",
     "text": [
      "process 46000 peaks takes 12.5 s\n"
     ]
    },
    {
     "name": "stderr",
     "output_type": "stream",
     "text": [
      "Adding 1344 Ns to chr15:103013593-103013813\n",
      "Adding 1344 Ns to chr19:58953312-58953495\n",
      "Adding 1344 Ns to chrX:158833048-158833524\n",
      "Adding 1344 Ns to chr17:87540387-87540536\n",
      "Adding 1344 Ns to chr18:82012242-82012438\n",
      "Adding 1344 Ns to chr15:103457965-103458122\n",
      "Adding 1344 Ns to chr16:92291269-92291526\n",
      "Adding 1344 Ns to chrX:162540910-162541145\n",
      "Adding 1344 Ns to chr19:58843706-58843952\n",
      "Adding 1344 Ns to chr14:113441289-113441480\n",
      "Adding 1344 Ns to chr16:96540914-96541316\n",
      "Adding 1344 Ns to chr14:114556818-114557275\n",
      "Adding 1344 Ns to chr18:84230715-84230991\n",
      "Adding 1344 Ns to chr14:121878085-121878819\n",
      "Adding 1344 Ns to chrX:159215201-159215931\n",
      "Adding 1344 Ns to chrX:162397548-162398016\n",
      "Adding 1344 Ns to chr17:91430802-91431172\n",
      "Adding 1344 Ns to chr18:90310185-90310581\n",
      "Adding 1344 Ns to chr15:102524435-102524701\n",
      "Adding 1344 Ns to chr14:119489017-119489713\n",
      "Adding 1344 Ns to chrX:162470294-162470658\n",
      "Adding 1344 Ns to chrX:168639450-168640031\n",
      "Adding 1344 Ns to chr17:84642043-84642831\n",
      "Adding 1344 Ns to chr14:117267924-117268132\n",
      "Adding 1344 Ns to chr14:123043107-123043505\n"
     ]
    },
    {
     "name": "stdout",
     "output_type": "stream",
     "text": [
      "process 47000 peaks takes 12.8 s\n"
     ]
    },
    {
     "name": "stderr",
     "output_type": "stream",
     "text": [
      "Adding 1344 Ns to chr13:114848979-114849327\n",
      "Adding 1344 Ns to chr18:82765183-82765604\n",
      "Adding 1344 Ns to chr16:90372201-90372403\n",
      "Adding 1344 Ns to chr17:86218602-86218798\n",
      "Adding 1344 Ns to chr14:117241740-117241969\n",
      "Adding 1344 Ns to chr14:108741359-108741686\n",
      "Adding 1344 Ns to chr17:90509143-90509606\n",
      "Adding 1344 Ns to chrX:158655970-158656251\n",
      "Adding 1344 Ns to chr18:84951904-84952388\n",
      "Adding 1344 Ns to chr18:89786336-89786671\n",
      "Adding 1344 Ns to chr15:102743295-102743499\n",
      "Adding 1344 Ns to chr17:84142891-84143193\n",
      "Adding 1344 Ns to chr14:117903961-117904125\n",
      "Adding 1344 Ns to chr18:80858316-80859073\n",
      "Adding 1344 Ns to chr16:94289087-94289645\n",
      "Adding 1344 Ns to chr13:114478521-114478818\n",
      "Adding 1344 Ns to chr15:103248661-103248840\n",
      "Adding 1344 Ns to chrX:160835636-160835922\n",
      "Adding 1344 Ns to chrX:162901209-162902697\n",
      "Adding 1344 Ns to chrX:166238767-166239226\n",
      "Adding 1344 Ns to chr13:118091638-118091910\n",
      "Adding 1344 Ns to chr14:108744060-108744368\n",
      "Adding 1344 Ns to chr14:111631072-111631350\n",
      "Adding 1344 Ns to chr14:117890662-117891206\n",
      "Adding 1344 Ns to chr15:102740014-102740249\n"
     ]
    },
    {
     "name": "stdout",
     "output_type": "stream",
     "text": [
      "process 48000 peaks takes 13.0 s\n"
     ]
    },
    {
     "name": "stderr",
     "output_type": "stream",
     "text": [
      "Adding 1344 Ns to chr17:85045806-85045977\n",
      "Adding 1344 Ns to chr15:102596203-102596472\n",
      "Adding 1344 Ns to chrX:169123219-169123451\n",
      "Adding 1344 Ns to chr15:103233103-103233608\n",
      "Adding 1344 Ns to chr14:114833069-114833285\n",
      "Adding 1344 Ns to chr17:87826892-87827373\n",
      "Adding 1344 Ns to chrX:162915734-162916043\n",
      "Adding 1344 Ns to chr19:60195695-60196027\n",
      "Adding 1344 Ns to chr17:83460619-83461099\n",
      "Adding 1344 Ns to chr16:92770122-92770387\n",
      "Adding 1344 Ns to chrX:167798583-167798772\n",
      "Adding 1344 Ns to chr18:80738927-80739217\n",
      "Adding 1344 Ns to chr18:84916868-84917141\n",
      "Adding 1344 Ns to chr18:83636241-83636538\n",
      "Adding 1344 Ns to chr16:93186585-93187044\n",
      "Adding 1344 Ns to chr17:90963297-90963492\n",
      "Adding 1344 Ns to chr14:124195535-124196148\n",
      "Adding 1344 Ns to chrX:157709201-157709842\n",
      "Adding 1344 Ns to chr16:94890132-94890432\n",
      "Adding 1344 Ns to chr17:86986515-86986782\n",
      "Adding 1344 Ns to chr18:81038829-81038995\n",
      "Adding 1344 Ns to chr14:120466899-120467115\n",
      "Adding 1344 Ns to chr17:84646479-84647244\n",
      "Adding 1344 Ns to chr17:86801251-86801630\n",
      "Adding 1344 Ns to chr14:120423450-120423756\n"
     ]
    },
    {
     "name": "stdout",
     "output_type": "stream",
     "text": [
      "process 49000 peaks takes 13.3 s\n"
     ]
    },
    {
     "name": "stderr",
     "output_type": "stream",
     "text": [
      "Adding 1344 Ns to chr17:88274075-88275372\n",
      "Adding 1344 Ns to chrX:167988027-167988461\n",
      "Adding 1344 Ns to chr18:89179399-89179902\n",
      "Adding 1344 Ns to chr18:83962403-83962711\n",
      "Adding 1344 Ns to chr17:86639361-86639660\n",
      "Adding 1344 Ns to chr18:84685332-84686111\n",
      "Adding 1344 Ns to chr13:118386578-118387617\n",
      "Adding 1344 Ns to chr15:102129455-102129767\n",
      "Adding 1344 Ns to chr14:121736493-121736828\n",
      "Adding 1344 Ns to chr18:84087339-84088329\n",
      "Adding 1344 Ns to chr16:97073972-97074197\n",
      "Adding 1344 Ns to chr17:89581271-89581723\n",
      "Adding 1344 Ns to chr17:93217644-93218181\n",
      "Adding 1344 Ns to chr14:117951147-117951626\n",
      "Adding 1344 Ns to chr14:122721724-122722073\n",
      "Adding 1344 Ns to chr16:94769118-94769370\n",
      "Adding 1344 Ns to chr16:94477692-94477899\n"
     ]
    },
    {
     "name": "stdout",
     "output_type": "stream",
     "text": [
      "process 50000 peaks takes 13.5 s\n"
     ]
    },
    {
     "name": "stderr",
     "output_type": "stream",
     "text": [
      "Adding 1344 Ns to chr16:90992344-90992493\n",
      "Adding 1344 Ns to chr16:96091159-96092149\n",
      "Adding 1344 Ns to chr16:93935292-93935544\n",
      "Adding 1344 Ns to chr14:119747248-119747738\n",
      "Adding 1344 Ns to chrX:169056251-169056500\n",
      "Adding 1344 Ns to chr17:84713543-84714119\n",
      "Adding 1344 Ns to chr18:84851055-84851553\n",
      "Adding 1344 Ns to chr14:123513383-123513737\n",
      "Adding 1344 Ns to chr19:60614165-60614377\n",
      "Adding 1344 Ns to chr14:114528673-114528918\n",
      "Adding 1344 Ns to chrX:161739341-161739536\n",
      "Adding 1344 Ns to chr17:86754148-86754430\n",
      "Adding 1344 Ns to chr17:90195368-90195610\n",
      "Adding 1344 Ns to chr14:116237939-116238299\n",
      "Adding 1344 Ns to chrX:162556158-162556837\n",
      "Adding 1344 Ns to chrX:168013503-168013881\n",
      "Adding 1344 Ns to chr18:82989227-82989611\n",
      "Adding 1344 Ns to chr13:117687714-117688170\n",
      "Adding 1344 Ns to chr17:84362933-84363247\n",
      "Adding 1344 Ns to chrX:166457992-166458196\n",
      "Adding 1344 Ns to chr14:121734217-121734528\n"
     ]
    },
    {
     "name": "stdout",
     "output_type": "stream",
     "text": [
      "process 51000 peaks takes 13.8 s\n"
     ]
    },
    {
     "name": "stderr",
     "output_type": "stream",
     "text": [
      "Adding 1344 Ns to chr17:87142336-87142793\n",
      "Adding 1344 Ns to chr17:84419693-84420298\n",
      "Adding 1344 Ns to chr15:103500703-103501071\n",
      "Adding 1344 Ns to chr14:117246099-117246326\n",
      "Adding 1344 Ns to chr14:122146372-122146721\n",
      "Adding 1344 Ns to chr16:97441360-97441742\n",
      "Adding 1344 Ns to chr17:86913188-86913746\n",
      "Adding 1344 Ns to chr17:86970948-86971395\n",
      "Adding 1344 Ns to chr18:83362214-83362365\n",
      "Adding 1344 Ns to chrX:169115371-169115572\n",
      "Adding 1344 Ns to chr14:115240990-115241392\n",
      "Adding 1344 Ns to chr17:86967119-86967336\n",
      "Adding 1344 Ns to chrX:169772369-169772599\n",
      "Adding 1344 Ns to chr18:81838948-81839356\n",
      "Adding 1344 Ns to chr14:117958242-117959091\n",
      "Adding 1344 Ns to chr16:94411213-94411629\n",
      "Adding 1344 Ns to chrX:159271632-159271781\n",
      "Adding 1344 Ns to chr16:91081493-91081895\n",
      "Adding 1344 Ns to chr16:97439063-97439274\n",
      "Adding 1344 Ns to chr17:88545824-88546112\n",
      "Adding 1344 Ns to chr16:94586193-94586610\n",
      "Adding 1344 Ns to chr13:117676395-117676988\n",
      "Adding 1344 Ns to chr17:87459374-87460583\n",
      "Adding 1344 Ns to chr16:92013225-92013766\n",
      "Adding 1344 Ns to chr15:103530388-103530752\n",
      "Adding 1344 Ns to chr14:121738357-121739025\n",
      "Adding 1344 Ns to chr14:124400913-124401134\n",
      "Adding 1344 Ns to chr16:94660125-94660649\n",
      "Adding 1344 Ns to chr17:85944398-85944826\n"
     ]
    },
    {
     "name": "stdout",
     "output_type": "stream",
     "text": [
      "process 52000 peaks takes 14.1 s\n"
     ]
    },
    {
     "name": "stderr",
     "output_type": "stream",
     "text": [
      "Adding 1344 Ns to chr18:80802500-80803008\n",
      "Adding 1344 Ns to chr17:86411897-86412103\n",
      "Adding 1344 Ns to chr14:108356437-108356931\n",
      "Adding 1344 Ns to chr14:121865245-121865511\n",
      "Adding 1344 Ns to chr16:92402164-92402476\n",
      "Adding 1344 Ns to chr16:96684669-96684903\n",
      "Adding 1344 Ns to chr17:90454166-90454630\n",
      "Adding 1344 Ns to chr14:119209354-119210047\n",
      "Adding 1344 Ns to chr16:97192348-97192566\n",
      "Adding 1344 Ns to chr17:88325863-88326715\n",
      "Adding 1344 Ns to chr17:84181718-84181967\n",
      "Adding 1344 Ns to chr18:80838037-80838391\n",
      "Adding 1344 Ns to chr17:84713110-84713491\n",
      "Adding 1344 Ns to chr13:117877917-117878218\n",
      "Adding 1344 Ns to chr16:95825751-95826034\n",
      "Adding 1344 Ns to chr16:90955697-90955937\n",
      "Adding 1344 Ns to chrX:169377727-169377964\n",
      "Adding 1344 Ns to chr17:90584747-90585754\n",
      "Adding 1344 Ns to chrX:157714045-157714727\n",
      "Adding 1344 Ns to chr14:119145121-119145777\n",
      "Adding 1344 Ns to chrX:164041949-164042526\n",
      "Adding 1344 Ns to chr16:90624028-90624320\n"
     ]
    },
    {
     "name": "stdout",
     "output_type": "stream",
     "text": [
      "process 53000 peaks takes 14.3 s\n"
     ]
    },
    {
     "name": "stderr",
     "output_type": "stream",
     "text": [
      "Adding 1344 Ns to chrX:162509294-162510022\n",
      "Adding 1344 Ns to chr18:82006394-82007069\n",
      "Adding 1344 Ns to chr16:96102937-96103391\n",
      "Adding 1344 Ns to chrX:168997328-168997786\n",
      "Adding 1344 Ns to chrX:158535722-158536132\n",
      "Adding 1344 Ns to chr14:117998923-117999245\n",
      "Adding 1344 Ns to chr13:119800948-119801302\n",
      "Adding 1344 Ns to chr18:82910538-82911102\n",
      "Adding 1344 Ns to chr17:87964497-87964854\n",
      "Adding 1344 Ns to chr14:119123035-119123196\n",
      "Adding 1344 Ns to chr16:95300388-95300831\n",
      "Adding 1344 Ns to chr17:89682413-89682802\n",
      "Adding 1344 Ns to chr18:86420991-86421270\n",
      "Adding 1344 Ns to chr14:123914374-123914615\n",
      "Adding 1344 Ns to chr17:86280985-86281215\n",
      "Adding 1344 Ns to chr16:90592642-90593347\n",
      "Adding 1344 Ns to chr14:118385211-118385464\n",
      "Adding 1344 Ns to chr14:119227654-119228126\n",
      "Adding 1344 Ns to chr14:119060690-119061237\n",
      "Adding 1344 Ns to chr18:86827390-86827553\n",
      "Adding 1344 Ns to chr18:85502350-85502855\n",
      "Adding 1344 Ns to chr16:96907537-96908230\n",
      "Adding 1344 Ns to chr16:95776156-95776463\n",
      "Adding 1344 Ns to chr14:117639635-117640138\n",
      "Adding 1344 Ns to chr16:93118281-93118499\n",
      "Adding 1344 Ns to chr18:83424153-83424399\n"
     ]
    },
    {
     "name": "stdout",
     "output_type": "stream",
     "text": [
      "process 0 peaks takes 0.3 s\n"
     ]
    },
    {
     "name": "stderr",
     "output_type": "stream",
     "text": [
      "Adding 1344 Ns to chr14:108074526-108074827\n",
      "Adding 1344 Ns to chr17:90556434-90556675\n",
      "Adding 1344 Ns to chrX:162800459-162800686\n",
      "Adding 1344 Ns to chr17:84748463-84748694\n",
      "Adding 1344 Ns to chr14:108912234-108912383\n",
      "Adding 1344 Ns to chr18:86319184-86319579\n",
      "Adding 1344 Ns to chr18:82733471-82733886\n",
      "Adding 1344 Ns to chr14:116723356-116723982\n",
      "Adding 1344 Ns to chr14:108729232-108729384\n",
      "Adding 1344 Ns to chrX:168672455-168672792\n",
      "Adding 1344 Ns to chr17:86840951-86841433\n",
      "Adding 1344 Ns to chr14:121642373-121642950\n",
      "Adding 1344 Ns to chr17:88786899-88787256\n",
      "Adding 1344 Ns to chr16:91504773-91505596\n",
      "Adding 1344 Ns to chrX:158591547-158591820\n",
      "Adding 1344 Ns to chr19:60629780-60630330\n",
      "Adding 1344 Ns to chrX:158166136-158166600\n",
      "Adding 1344 Ns to chrX:162759040-162759522\n",
      "Adding 1344 Ns to chr14:118854441-118855111\n",
      "Adding 1344 Ns to chr17:84044254-84044608\n",
      "Adding 1344 Ns to chr18:84909649-84910128\n",
      "Adding 1344 Ns to chr14:121311519-121311764\n",
      "Adding 1344 Ns to chr17:83776117-83776304\n",
      "Adding 1344 Ns to chr13:117633179-117633368\n",
      "Adding 1344 Ns to chr14:120441874-120442305\n"
     ]
    },
    {
     "name": "stdout",
     "output_type": "stream",
     "text": [
      "process 1000 peaks takes 0.5 s\n"
     ]
    },
    {
     "name": "stderr",
     "output_type": "stream",
     "text": [
      "Adding 1344 Ns to chr14:123574743-123575320\n",
      "Adding 1344 Ns to chr16:92454039-92454287\n",
      "Adding 1344 Ns to chr14:121254776-121255389\n",
      "Adding 1344 Ns to chr14:122097811-122098480\n",
      "Adding 1344 Ns to chr17:90225726-90225978\n",
      "Adding 1344 Ns to chr19:59338415-59338721\n",
      "Adding 1344 Ns to chr15:102355946-102356375\n",
      "Adding 1344 Ns to chr16:95573053-95573611\n",
      "Adding 1344 Ns to chr16:92158120-92158307\n",
      "Adding 1344 Ns to chr15:102194377-102194796\n",
      "Adding 1344 Ns to chr15:102013638-102013970\n",
      "Adding 1344 Ns to chr14:109582981-109583611\n",
      "Adding 1344 Ns to chrX:166732989-166733355\n",
      "Adding 1344 Ns to chrX:161854000-161854210\n",
      "Adding 1344 Ns to chr16:96753077-96753610\n",
      "Adding 1344 Ns to chr14:124596892-124597142\n",
      "Adding 1344 Ns to chrX:160137782-160138761\n",
      "Adding 1344 Ns to chr14:122599944-122600111\n",
      "Adding 1344 Ns to chr18:89263474-89263842\n",
      "Adding 1344 Ns to chr14:120522070-120522312\n",
      "Adding 1344 Ns to chr17:90659488-90659822\n",
      "Adding 1344 Ns to chr14:114587446-114587808\n",
      "Adding 1344 Ns to chr17:90435478-90436505\n",
      "Adding 1344 Ns to chr19:59388313-59388720\n",
      "Adding 1344 Ns to chrX:160749943-160750557\n",
      "Adding 1344 Ns to chr16:90746525-90746786\n",
      "Adding 1344 Ns to chrX:157920086-157920595\n",
      "Adding 1344 Ns to chr16:91442414-91442718\n",
      "Adding 1344 Ns to chr13:117880603-117880978\n",
      "Adding 1344 Ns to chr15:103473043-103473681\n",
      "Adding 1344 Ns to chr14:122854057-122854344\n"
     ]
    },
    {
     "name": "stdout",
     "output_type": "stream",
     "text": [
      "process 2000 peaks takes 0.8 s\n"
     ]
    },
    {
     "name": "stderr",
     "output_type": "stream",
     "text": [
      "Adding 1344 Ns to chrX:157633643-157633809\n",
      "Adding 1344 Ns to chr14:111437397-111437673\n",
      "Adding 1344 Ns to chr14:120685216-120685842\n",
      "Adding 1344 Ns to chr15:102651178-102651514\n",
      "Adding 1344 Ns to chr16:96049258-96049453\n",
      "Adding 1344 Ns to chr18:88735710-88735975\n",
      "Adding 1344 Ns to chr14:123461073-123461236\n",
      "Adding 1344 Ns to chr18:84709685-84710323\n",
      "Adding 1344 Ns to chr19:60437620-60438313\n",
      "Adding 1344 Ns to chr14:120835835-120836113\n",
      "Adding 1344 Ns to chr17:86315034-86315422\n",
      "Adding 1344 Ns to chr19:61097785-61098036\n",
      "Adding 1344 Ns to chr15:102233676-102234249\n",
      "Adding 1344 Ns to chr17:90289823-90290150\n",
      "Adding 1344 Ns to chr14:109941263-109941736\n",
      "Adding 1344 Ns to chr19:59074801-59076045\n",
      "Adding 1344 Ns to chr19:59922329-59922584\n",
      "Adding 1344 Ns to chr14:119797275-119797787\n",
      "Adding 1344 Ns to chr16:96258753-96258982\n",
      "Adding 1344 Ns to chr14:116948223-116948593\n",
      "Adding 1344 Ns to chr15:103145764-103146579\n",
      "Adding 1344 Ns to chr19:58762409-58762639\n",
      "Adding 1344 Ns to chr15:102684645-102684904\n",
      "Adding 1344 Ns to chrX:158536245-158536628\n",
      "Adding 1344 Ns to chr14:123272220-123272441\n",
      "Adding 1344 Ns to chr17:90280322-90280728\n",
      "Adding 1344 Ns to chr17:90667713-90667907\n",
      "Adding 1344 Ns to chrX:161017865-161018951\n",
      "Adding 1344 Ns to chrX:166950933-166951377\n",
      "Adding 1344 Ns to chr19:60889578-60890720\n",
      "Adding 1344 Ns to chrX:157981822-157982250\n",
      "Adding 1344 Ns to chr14:118972224-118972540\n"
     ]
    },
    {
     "name": "stdout",
     "output_type": "stream",
     "text": [
      "process 0 peaks takes 0.4 s\n"
     ]
    },
    {
     "name": "stderr",
     "output_type": "stream",
     "text": [
      "Adding 1344 Ns to chr17:88262637-88263324\n",
      "Adding 1344 Ns to chrX:159867609-159868146\n",
      "Adding 1344 Ns to chrX:167769853-167770250\n",
      "Adding 1344 Ns to chr17:86271302-86272102\n",
      "Adding 1344 Ns to chr16:97430044-97430586\n",
      "Adding 1344 Ns to chr14:114781150-114781597\n",
      "Adding 1344 Ns to chr16:94140646-94141200\n",
      "Adding 1344 Ns to chr16:94984221-94984663\n",
      "Adding 1344 Ns to chr16:91083333-91083569\n",
      "Adding 1344 Ns to chr18:83929307-83929815\n",
      "Adding 1344 Ns to chr18:86394632-86395737\n",
      "Adding 1344 Ns to chr18:88782173-88782818\n",
      "Adding 1344 Ns to chr14:124289349-124289682\n",
      "Adding 1344 Ns to chr18:82669896-82670045\n",
      "Adding 1344 Ns to chr15:102108040-102108319\n",
      "Adding 1344 Ns to chr16:95844584-95845006\n",
      "Adding 1344 Ns to chr16:91882193-91882564\n",
      "Adding 1344 Ns to chrX:165246957-165247314\n",
      "Adding 1344 Ns to chr17:84551241-84551667\n",
      "Adding 1344 Ns to chr16:90511345-90512145\n",
      "Adding 1344 Ns to chr18:82677125-82677734\n",
      "Adding 1344 Ns to chrX:163205525-163205744\n",
      "Adding 1344 Ns to chrX:166296091-166296281\n",
      "Adding 1344 Ns to chr17:86296536-86296751\n",
      "Adding 1344 Ns to chr14:122841518-122841931\n",
      "Adding 1344 Ns to chr16:94227709-94228001\n",
      "Adding 1344 Ns to chr13:118271164-118271412\n",
      "Adding 1344 Ns to chr14:123367817-123368023\n",
      "Adding 1344 Ns to chr17:84100515-84100967\n",
      "Adding 1344 Ns to chr17:83586907-83588183\n",
      "Adding 1344 Ns to chr18:85308373-85308542\n",
      "Adding 1344 Ns to chr16:94568940-94570159\n",
      "Adding 1344 Ns to chr16:97701159-97701376\n",
      "Adding 1344 Ns to chr17:87351655-87351936\n",
      "Adding 1344 Ns to chr14:121480110-121480429\n",
      "Adding 1344 Ns to chr16:96539157-96539432\n",
      "Adding 1344 Ns to chr18:80807289-80807605\n",
      "Adding 1344 Ns to chr14:116926250-116927245\n",
      "Adding 1344 Ns to chr16:94570452-94570832\n",
      "Adding 1344 Ns to chr17:87426812-87427051\n",
      "Adding 1344 Ns to chr13:119780192-119780587\n",
      "Adding 1344 Ns to chr17:84285245-84285657\n",
      "Adding 1344 Ns to chr14:119606762-119607179\n",
      "Adding 1344 Ns to chr16:96353969-96354243\n",
      "Adding 1344 Ns to chr14:122064685-122064877\n"
     ]
    },
    {
     "name": "stdout",
     "output_type": "stream",
     "text": [
      "process 1000 peaks takes 0.8 s\n",
      "Namespace(ad_file='2024-01-27-06_43_00data/atac2.h5ad', input_fasta='hg38.fa', out_path='2024-01-27-06_43_00processed/processed2')\n",
      "successful writing h5ad file.\n",
      "successful writing bed file.\n",
      "successful writing split file.\n",
      "successful writing sparse m.\n"
     ]
    },
    {
     "name": "stderr",
     "output_type": "stream",
     "text": [
      "Adding 1344 Ns to chr17:83600889-83601563\n",
      "Adding 1344 Ns to chr19:60765721-60765873\n",
      "Adding 1344 Ns to chr18:85582543-85582875\n",
      "Adding 1344 Ns to chr14:119558419-119559244\n",
      "Adding 1344 Ns to chr17:86040349-86040611\n",
      "Adding 1344 Ns to chr15:102302400-102302962\n",
      "Adding 1344 Ns to chr14:109081295-109081618\n",
      "Adding 1344 Ns to chr16:97250940-97251213\n",
      "Adding 1344 Ns to chr18:83732269-83732490\n",
      "Adding 1344 Ns to chr14:121742236-121742504\n",
      "Adding 1344 Ns to chrX:162645776-162646017\n",
      "Adding 1344 Ns to chr15:103182050-103182703\n",
      "Adding 1344 Ns to chrX:165765610-165766013\n",
      "Adding 1344 Ns to chr17:83859790-83860132\n",
      "Adding 1344 Ns to chr16:92991439-92991805\n",
      "Adding 1344 Ns to chr16:94882021-94882566\n",
      "Adding 1344 Ns to chrX:166214320-166215111\n",
      "Adding 1344 Ns to chr15:102108040-102108319\n",
      "Adding 1344 Ns to chr16:94866578-94866985\n",
      "Adding 1344 Ns to chr17:83277371-83278121\n",
      "Adding 1344 Ns to chr16:96915644-96915966\n",
      "Adding 1344 Ns to chr17:83552615-83553064\n"
     ]
    },
    {
     "name": "stdout",
     "output_type": "stream",
     "text": [
      "process 0 peaks takes 0.3 s\n"
     ]
    },
    {
     "name": "stderr",
     "output_type": "stream",
     "text": [
      "Adding 1344 Ns to chr18:85241532-85241848\n",
      "Adding 1344 Ns to chr18:84239069-84239366\n",
      "Adding 1344 Ns to chr16:96634036-96634605\n",
      "Adding 1344 Ns to chr14:114543947-114544289\n",
      "Adding 1344 Ns to chrX:162509294-162510022\n",
      "Adding 1344 Ns to chr19:60837757-60838224\n",
      "Adding 1344 Ns to chr16:95802202-95803187\n",
      "Adding 1344 Ns to chr16:96740059-96740867\n",
      "Adding 1344 Ns to chrX:166243320-166243601\n",
      "Adding 1344 Ns to chr13:118271164-118271412\n",
      "Adding 1344 Ns to chr14:117426018-117426505\n",
      "Adding 1344 Ns to chr16:97602238-97602636\n",
      "Adding 1344 Ns to chr17:86121797-86121958\n",
      "Adding 1344 Ns to chr16:93379653-93379993\n",
      "Adding 1344 Ns to chr18:82006394-82007069\n",
      "Adding 1344 Ns to chr16:96498835-96499587\n",
      "Adding 1344 Ns to chr17:91046350-91046577\n",
      "Adding 1344 Ns to chrX:166147363-166147823\n",
      "Adding 1344 Ns to chrX:168020875-168021059\n",
      "Adding 1344 Ns to chr14:117767336-117767590\n",
      "Adding 1344 Ns to chr16:95334041-95334529\n",
      "Adding 1344 Ns to chr18:80408619-80408797\n",
      "Adding 1344 Ns to chr14:122436808-122437146\n"
     ]
    },
    {
     "name": "stdout",
     "output_type": "stream",
     "text": [
      "process 1000 peaks takes 0.6 s\n"
     ]
    },
    {
     "name": "stderr",
     "output_type": "stream",
     "text": [
      "Adding 1344 Ns to chr14:109434108-109434544\n",
      "Adding 1344 Ns to chr17:86135646-86136316\n",
      "Adding 1344 Ns to chr19:59394006-59394662\n",
      "Adding 1344 Ns to chr16:96102937-96103391\n",
      "Adding 1344 Ns to chrX:159291697-159291977\n",
      "Adding 1344 Ns to chr17:87477650-87478047\n",
      "Adding 1344 Ns to chr16:92435440-92436086\n",
      "Adding 1344 Ns to chr16:92432381-92432997\n",
      "Adding 1344 Ns to chr16:97701159-97701376\n",
      "Adding 1344 Ns to chr17:89974422-89974677\n",
      "Adding 1344 Ns to chr14:112248113-112248574\n",
      "Adding 1344 Ns to chr16:95225097-95226141\n",
      "Adding 1344 Ns to chr16:92478541-92478850\n",
      "Adding 1344 Ns to chr16:94640919-94641083\n",
      "Adding 1344 Ns to chr16:91743130-91743331\n",
      "Adding 1344 Ns to chr15:102246325-102248150\n",
      "Adding 1344 Ns to chr13:114845728-114846069\n",
      "Adding 1344 Ns to chr16:90608092-90608574\n",
      "Adding 1344 Ns to chr18:83067060-83067446\n",
      "Adding 1344 Ns to chr16:95602549-95602837\n",
      "Adding 1344 Ns to chr14:122181373-122182099\n",
      "Adding 1344 Ns to chr17:86791213-86791613\n",
      "Adding 1344 Ns to chr15:102316329-102316565\n",
      "Adding 1344 Ns to chr16:93766949-93767346\n",
      "Adding 1344 Ns to chr16:93202726-93202906\n",
      "Adding 1344 Ns to chr17:90130124-90130401\n"
     ]
    },
    {
     "name": "stdout",
     "output_type": "stream",
     "text": [
      "process 2000 peaks takes 0.8 s\n"
     ]
    },
    {
     "name": "stderr",
     "output_type": "stream",
     "text": [
      "Adding 1344 Ns to chr16:90946567-90946829\n",
      "Adding 1344 Ns to chr17:84642993-84643493\n",
      "Adding 1344 Ns to chr14:121254077-121254285\n",
      "Adding 1344 Ns to chr14:119203327-119203944\n",
      "Adding 1344 Ns to chr16:96039263-96039897\n",
      "Adding 1344 Ns to chr14:120830278-120830861\n",
      "Adding 1344 Ns to chrX:168997328-168997786\n",
      "Adding 1344 Ns to chr19:58762409-58762639\n",
      "Adding 1344 Ns to chr14:122858061-122858387\n",
      "Adding 1344 Ns to chr14:115095601-115095882\n",
      "Adding 1344 Ns to chr18:88924387-88924987\n",
      "Adding 1344 Ns to chrX:166843919-166844277\n",
      "Adding 1344 Ns to chr16:93981206-93981742\n",
      "Adding 1344 Ns to chr16:92314125-92314607\n",
      "Adding 1344 Ns to chr18:82396685-82397533\n",
      "Adding 1344 Ns to chr19:60196179-60196390\n",
      "Adding 1344 Ns to chr18:82599487-82600223\n",
      "Adding 1344 Ns to chr18:86442676-86443089\n"
     ]
    },
    {
     "name": "stdout",
     "output_type": "stream",
     "text": [
      "process 3000 peaks takes 1.1 s\n"
     ]
    },
    {
     "name": "stderr",
     "output_type": "stream",
     "text": [
      "Adding 1344 Ns to chr17:89089944-89090349\n",
      "Adding 1344 Ns to chr17:83783374-83783642\n",
      "Adding 1344 Ns to chr14:121165320-121166216\n",
      "Adding 1344 Ns to chr17:87571328-87571979\n",
      "Adding 1344 Ns to chr14:122060659-122061223\n",
      "Adding 1344 Ns to chr14:124003402-124003763\n",
      "Adding 1344 Ns to chr17:86380385-86380657\n",
      "Adding 1344 Ns to chr14:109257197-109257710\n",
      "Adding 1344 Ns to chr14:108994590-108994849\n",
      "Adding 1344 Ns to chr13:117012118-117012364\n",
      "Adding 1344 Ns to chr16:92450362-92450866\n",
      "Adding 1344 Ns to chr14:121322574-121323155\n",
      "Adding 1344 Ns to chr14:109699955-109700147\n",
      "Adding 1344 Ns to chr17:90809216-90809710\n",
      "Adding 1344 Ns to chr14:117931060-117931832\n",
      "Adding 1344 Ns to chr14:114912288-114912585\n",
      "Adding 1344 Ns to chr13:117074482-117074676\n",
      "Adding 1344 Ns to chrX:159867609-159868146\n",
      "Adding 1344 Ns to chr18:83086048-83086378\n",
      "Adding 1344 Ns to chrX:167014486-167014781\n",
      "Adding 1344 Ns to chrX:158535722-158536132\n",
      "Adding 1344 Ns to chr14:119708138-119708473\n",
      "Adding 1344 Ns to chr17:84763130-84763505\n",
      "Adding 1344 Ns to chr14:117998923-117999245\n"
     ]
    },
    {
     "name": "stdout",
     "output_type": "stream",
     "text": [
      "process 4000 peaks takes 1.4 s\n"
     ]
    },
    {
     "name": "stderr",
     "output_type": "stream",
     "text": [
      "Adding 1344 Ns to chrX:160619284-160619879\n",
      "Adding 1344 Ns to chr17:90667713-90667907\n",
      "Adding 1344 Ns to chrX:160583623-160584108\n",
      "Adding 1344 Ns to chrX:167331861-167332128\n",
      "Adding 1344 Ns to chr16:95436550-95436951\n",
      "Adding 1344 Ns to chr17:84987100-84987320\n",
      "Adding 1344 Ns to chr13:116976288-116976681\n",
      "Adding 1344 Ns to chrX:167552808-167553320\n",
      "Adding 1344 Ns to chr15:103136533-103136783\n",
      "Adding 1344 Ns to chr16:94845785-94846122\n",
      "Adding 1344 Ns to chr14:110146206-110146473\n",
      "Adding 1344 Ns to chr14:120669606-120670213\n",
      "Adding 1344 Ns to chr16:94730894-94731411\n",
      "Adding 1344 Ns to chr17:94194504-94194900\n",
      "Adding 1344 Ns to chr14:119820577-119820851\n",
      "Adding 1344 Ns to chr17:88251957-88252365\n",
      "Adding 1344 Ns to chr19:58704455-58704968\n",
      "Adding 1344 Ns to chr18:83929307-83929815\n",
      "Adding 1344 Ns to chr14:123353035-123353287\n",
      "Adding 1344 Ns to chr14:111485578-111485998\n",
      "Adding 1344 Ns to chr14:118883381-118883670\n",
      "Adding 1344 Ns to chr13:117079330-117079603\n",
      "Adding 1344 Ns to chr13:115852770-115853250\n",
      "Adding 1344 Ns to chr17:94730541-94730769\n",
      "Adding 1344 Ns to chr14:120632755-120633140\n",
      "Adding 1344 Ns to chr18:82750935-82751683\n",
      "Adding 1344 Ns to chr13:119800948-119801302\n"
     ]
    },
    {
     "name": "stdout",
     "output_type": "stream",
     "text": [
      "process 5000 peaks takes 1.6 s\n"
     ]
    },
    {
     "name": "stderr",
     "output_type": "stream",
     "text": [
      "Adding 1344 Ns to chr14:117930591-117930998\n",
      "Adding 1344 Ns to chrX:158180326-158180889\n",
      "Adding 1344 Ns to chr14:111096205-111096653\n",
      "Adding 1344 Ns to chrX:157781257-157781459\n",
      "Adding 1344 Ns to chr13:114378980-114379598\n",
      "Adding 1344 Ns to chr16:97144549-97144850\n",
      "Adding 1344 Ns to chr17:90859238-90859525\n",
      "Adding 1344 Ns to chr18:82910538-82911102\n",
      "Adding 1344 Ns to chr14:124536323-124536490\n",
      "Adding 1344 Ns to chr17:90138253-90138474\n",
      "Adding 1344 Ns to chr16:96857583-96857958\n",
      "Adding 1344 Ns to chr14:113470018-113470595\n",
      "Adding 1344 Ns to chr13:119712299-119712887\n",
      "Adding 1344 Ns to chr17:90759908-90760378\n",
      "Adding 1344 Ns to chr14:123371512-123371848\n",
      "Adding 1344 Ns to chr16:91443260-91443738\n",
      "Adding 1344 Ns to chr18:89012934-89013150\n",
      "Adding 1344 Ns to chr18:84618616-84618807\n",
      "Adding 1344 Ns to chrX:166225524-166226014\n",
      "Adding 1344 Ns to chrX:163205525-163205744\n",
      "Adding 1344 Ns to chr14:124409436-124409600\n",
      "Adding 1344 Ns to chrX:166665338-166665649\n",
      "Adding 1344 Ns to chr14:120953506-120953722\n",
      "Adding 1344 Ns to chr14:117408508-117408792\n",
      "Adding 1344 Ns to chr16:96493365-96493684\n",
      "Adding 1344 Ns to chr15:102217364-102217750\n",
      "Adding 1344 Ns to chr17:83481632-83481964\n",
      "Adding 1344 Ns to chr14:121604187-121604339\n",
      "Adding 1344 Ns to chr18:80807289-80807605\n",
      "Adding 1344 Ns to chr15:102325923-102326865\n"
     ]
    },
    {
     "name": "stdout",
     "output_type": "stream",
     "text": [
      "process 6000 peaks takes 1.9 s\n"
     ]
    },
    {
     "name": "stderr",
     "output_type": "stream",
     "text": [
      "Adding 1344 Ns to chr14:114981206-114981429\n",
      "Adding 1344 Ns to chr16:95815408-95816109\n",
      "Adding 1344 Ns to chr13:119337945-119338198\n",
      "Adding 1344 Ns to chr18:82901953-82902187\n",
      "Adding 1344 Ns to chr17:87964497-87964854\n",
      "Adding 1344 Ns to chrX:161030321-161030573\n",
      "Adding 1344 Ns to chr18:82104969-82105492\n",
      "Adding 1344 Ns to chrX:164437758-164438129\n",
      "Adding 1344 Ns to chr14:119123035-119123196\n",
      "Adding 1344 Ns to chr14:110130577-110130983\n",
      "Adding 1344 Ns to chr18:84397209-84397431\n",
      "Adding 1344 Ns to chr17:92542189-92542867\n",
      "Adding 1344 Ns to chr14:118676433-118677049\n",
      "Adding 1344 Ns to chr14:116208947-116209610\n",
      "Adding 1344 Ns to chr16:95300388-95300831\n",
      "Adding 1344 Ns to chr18:88468558-88469114\n",
      "Adding 1344 Ns to chr17:89682413-89682802\n",
      "Adding 1344 Ns to chr19:58838574-58839170\n",
      "Adding 1344 Ns to chr17:84999713-85000105\n",
      "Adding 1344 Ns to chr14:115641875-115642345\n",
      "Adding 1344 Ns to chr14:108180503-108180728\n",
      "Adding 1344 Ns to chr18:85289061-85289510\n",
      "Adding 1344 Ns to chr13:114458509-114459359\n",
      "Adding 1344 Ns to chr17:85062855-85063193\n",
      "Adding 1344 Ns to chr18:86407581-86407762\n",
      "Adding 1344 Ns to chr18:90545830-90546033\n",
      "Adding 1344 Ns to chr18:83450926-83451308\n"
     ]
    },
    {
     "name": "stdout",
     "output_type": "stream",
     "text": [
      "process 7000 peaks takes 2.2 s\n"
     ]
    },
    {
     "name": "stderr",
     "output_type": "stream",
     "text": [
      "Adding 1344 Ns to chr18:86187292-86187621\n",
      "Adding 1344 Ns to chrX:157818621-157818887\n",
      "Adding 1344 Ns to chr15:102673575-102673931\n",
      "Adding 1344 Ns to chrX:156594839-156595234\n",
      "Adding 1344 Ns to chr13:119768512-119769143\n",
      "Adding 1344 Ns to chr14:120835835-120836113\n",
      "Adding 1344 Ns to chr17:87426812-87427051\n",
      "Adding 1344 Ns to chrX:166660873-166662240\n",
      "Adding 1344 Ns to chr15:102746128-102747300\n",
      "Adding 1344 Ns to chr14:111437397-111437673\n",
      "Adding 1344 Ns to chr14:108370690-108370952\n",
      "Adding 1344 Ns to chr16:92158474-92159340\n",
      "Adding 1344 Ns to chrX:168649311-168649801\n",
      "Adding 1344 Ns to chr17:90558273-90558694\n",
      "Adding 1344 Ns to chr14:116276888-116277150\n",
      "Adding 1344 Ns to chr17:84669732-84670092\n",
      "Adding 1344 Ns to chr16:97526926-97527345\n",
      "Adding 1344 Ns to chr16:97875817-97876139\n",
      "Adding 1344 Ns to chr14:116377382-116377666\n",
      "Adding 1344 Ns to chr15:103258309-103258804\n",
      "Adding 1344 Ns to chr18:85308373-85308542\n",
      "Adding 1344 Ns to chr16:91280600-91280975\n",
      "Adding 1344 Ns to chrX:161926468-161926944\n",
      "Adding 1344 Ns to chrX:165767889-165768198\n",
      "Adding 1344 Ns to chr14:122061422-122061676\n",
      "Adding 1344 Ns to chr18:81575609-81575758\n"
     ]
    },
    {
     "name": "stdout",
     "output_type": "stream",
     "text": [
      "process 8000 peaks takes 2.4 s\n"
     ]
    },
    {
     "name": "stderr",
     "output_type": "stream",
     "text": [
      "Adding 1344 Ns to chr18:84086315-84086872\n",
      "Adding 1344 Ns to chr17:91956041-91956246\n",
      "Adding 1344 Ns to chr14:121248319-121248667\n",
      "Adding 1344 Ns to chr16:96528446-96528879\n",
      "Adding 1344 Ns to chr17:84247477-84247839\n",
      "Adding 1344 Ns to chr17:91159505-91159693\n",
      "Adding 1344 Ns to chr14:123301066-123301330\n",
      "Adding 1344 Ns to chrX:166307717-166308220\n",
      "Adding 1344 Ns to chr16:95382263-95382934\n",
      "Adding 1344 Ns to chr18:88770552-88770799\n",
      "Adding 1344 Ns to chr17:90040742-90040922\n",
      "Adding 1344 Ns to chr16:95748974-95749781\n",
      "Adding 1344 Ns to chr14:109840463-109840643\n",
      "Adding 1344 Ns to chr16:90852840-90853053\n",
      "Adding 1344 Ns to chr14:118922278-118922467\n",
      "Adding 1344 Ns to chr13:116883112-116883408\n",
      "Adding 1344 Ns to chrX:166803292-166803908\n",
      "Adding 1344 Ns to chr18:89443289-89443600\n",
      "Adding 1344 Ns to chr16:91741078-91741300\n",
      "Adding 1344 Ns to chr18:84133839-84134501\n",
      "Adding 1344 Ns to chr17:90668013-90668227\n",
      "Adding 1344 Ns to chrX:157829970-157830581\n",
      "Adding 1344 Ns to chr16:94070985-94071184\n",
      "Adding 1344 Ns to chr19:58728388-58729058\n",
      "Adding 1344 Ns to chr16:93259415-93259637\n",
      "Adding 1344 Ns to chr15:102648561-102649322\n",
      "Adding 1344 Ns to chr18:85752829-85753115\n"
     ]
    },
    {
     "name": "stdout",
     "output_type": "stream",
     "text": [
      "process 9000 peaks takes 2.7 s\n"
     ]
    },
    {
     "name": "stderr",
     "output_type": "stream",
     "text": [
      "Adding 1344 Ns to chr14:121589374-121589702\n",
      "Adding 1344 Ns to chr19:58810533-58810937\n",
      "Adding 1344 Ns to chr14:120338202-120338591\n",
      "Adding 1344 Ns to chr17:94255523-94256070\n",
      "Adding 1344 Ns to chr16:97953633-97953791\n",
      "Adding 1344 Ns to chr16:90421103-90421580\n",
      "Adding 1344 Ns to chr14:118956473-118956826\n",
      "Adding 1344 Ns to chr18:86420991-86421270\n",
      "Adding 1344 Ns to chr13:114387388-114388221\n",
      "Adding 1344 Ns to chr16:96127216-96128495\n",
      "Adding 1344 Ns to chr16:96901235-96901656\n",
      "Adding 1344 Ns to chr16:94045032-94045375\n",
      "Adding 1344 Ns to chr18:86540192-86540426\n",
      "Adding 1344 Ns to chr17:90176594-90176893\n",
      "Adding 1344 Ns to chr17:88637030-88637357\n",
      "Adding 1344 Ns to chr18:80729299-80729696\n",
      "Adding 1344 Ns to chr16:92785378-92785611\n",
      "Adding 1344 Ns to chr15:102038641-102038922\n",
      "Adding 1344 Ns to chr14:117992412-117992839\n",
      "Adding 1344 Ns to chr14:123914374-123914615\n",
      "Adding 1344 Ns to chr17:92949158-92949482\n",
      "Adding 1344 Ns to chr17:89450747-89451028\n",
      "Adding 1344 Ns to chr16:93369121-93370158\n",
      "Adding 1344 Ns to chr13:118031049-118031558\n",
      "Adding 1344 Ns to chr13:115477833-115478143\n",
      "Adding 1344 Ns to chr14:124222533-124222828\n",
      "Adding 1344 Ns to chr16:90497615-90498173\n",
      "Adding 1344 Ns to chr17:87206736-87207434\n",
      "Adding 1344 Ns to chrX:167208430-167208691\n"
     ]
    },
    {
     "name": "stdout",
     "output_type": "stream",
     "text": [
      "process 10000 peaks takes 3.0 s\n"
     ]
    },
    {
     "name": "stderr",
     "output_type": "stream",
     "text": [
      "Adding 1344 Ns to chr17:90775338-90775776\n",
      "Adding 1344 Ns to chr18:83278440-83278690\n",
      "Adding 1344 Ns to chr16:94834505-94834976\n",
      "Adding 1344 Ns to chr14:122130429-122130891\n",
      "Adding 1344 Ns to chr17:87129589-87129757\n",
      "Adding 1344 Ns to chr13:114604131-114604690\n",
      "Adding 1344 Ns to chrX:160153527-160153914\n",
      "Adding 1344 Ns to chr17:86280985-86281215\n",
      "Adding 1344 Ns to chr15:102374095-102374364\n",
      "Adding 1344 Ns to chr17:91738886-91739344\n",
      "Adding 1344 Ns to chr14:120374794-120375430\n",
      "Adding 1344 Ns to chrX:166296091-166296281\n",
      "Adding 1344 Ns to chr14:115173803-115174192\n",
      "Adding 1344 Ns to chr14:121100880-121101197\n",
      "Adding 1344 Ns to chr17:91076888-91077081\n",
      "Adding 1344 Ns to chr13:117347016-117347187\n",
      "Adding 1344 Ns to chr16:95794234-95794607\n",
      "Adding 1344 Ns to chr18:88464451-88464890\n",
      "Adding 1344 Ns to chr13:118347891-118348107\n",
      "Adding 1344 Ns to chr13:115101481-115101661\n"
     ]
    },
    {
     "name": "stdout",
     "output_type": "stream",
     "text": [
      "process 11000 peaks takes 3.2 s\n"
     ]
    },
    {
     "name": "stderr",
     "output_type": "stream",
     "text": [
      "Adding 1344 Ns to chr17:87249188-87249501\n",
      "Adding 1344 Ns to chr14:118321041-118321476\n",
      "Adding 1344 Ns to chr18:86290401-86290744\n",
      "Adding 1344 Ns to chr17:85700024-85700395\n",
      "Adding 1344 Ns to chr17:88858663-88859064\n",
      "Adding 1344 Ns to chr19:59252942-59253146\n",
      "Adding 1344 Ns to chr18:83639019-83639277\n",
      "Adding 1344 Ns to chr16:97669914-97670442\n",
      "Adding 1344 Ns to chr17:83724983-83725176\n",
      "Adding 1344 Ns to chr17:90039317-90039619\n",
      "Adding 1344 Ns to chr16:90592642-90593347\n",
      "Adding 1344 Ns to chr14:118538636-118538910\n",
      "Adding 1344 Ns to chrX:164401638-164402191\n",
      "Adding 1344 Ns to chrX:162698971-162699193\n",
      "Adding 1344 Ns to chrX:160796211-160796772\n",
      "Adding 1344 Ns to chr14:121303277-121304060\n",
      "Adding 1344 Ns to chr14:122662650-122662818\n",
      "Adding 1344 Ns to chr17:86500176-86500325\n",
      "Adding 1344 Ns to chr19:60889578-60890720\n",
      "Adding 1344 Ns to chr18:83006048-83006326\n",
      "Adding 1344 Ns to chr17:87377652-87377978\n",
      "Adding 1344 Ns to chr14:113012367-113012920\n",
      "Adding 1344 Ns to chrX:163644037-163644186\n",
      "Adding 1344 Ns to chr17:85311362-85311724\n",
      "Adding 1344 Ns to chrX:157089583-157089732\n",
      "Adding 1344 Ns to chr14:107080576-107080767\n",
      "Adding 1344 Ns to chr17:84859062-84859300\n"
     ]
    },
    {
     "name": "stdout",
     "output_type": "stream",
     "text": [
      "process 12000 peaks takes 3.5 s\n"
     ]
    },
    {
     "name": "stderr",
     "output_type": "stream",
     "text": [
      "Adding 1344 Ns to chr14:115362244-115362435\n",
      "Adding 1344 Ns to chr17:87360966-87361883\n",
      "Adding 1344 Ns to chr18:82684826-82685264\n",
      "Adding 1344 Ns to chrX:163663892-163664086\n",
      "Adding 1344 Ns to chr15:102105503-102105748\n",
      "Adding 1344 Ns to chr14:122912792-122913535\n",
      "Adding 1344 Ns to chr16:93883376-93884181\n",
      "Adding 1344 Ns to chr19:59529869-59530385\n",
      "Adding 1344 Ns to chrX:167714607-167714872\n",
      "Adding 1344 Ns to chr17:88558270-88558806\n",
      "Adding 1344 Ns to chrX:162380695-162381085\n",
      "Adding 1344 Ns to chr18:84030247-84030772\n",
      "Adding 1344 Ns to chrX:157673964-157674534\n",
      "Adding 1344 Ns to chr17:89197249-89197617\n",
      "Adding 1344 Ns to chr15:103576007-103576195\n",
      "Adding 1344 Ns to chr16:97297050-97297636\n",
      "Adding 1344 Ns to chr19:58798659-58798981\n",
      "Adding 1344 Ns to chr14:120141150-120141729\n",
      "Adding 1344 Ns to chr17:94040716-94041225\n",
      "Adding 1344 Ns to chr14:119215668-119216284\n",
      "Adding 1344 Ns to chrX:164013278-164013427\n",
      "Adding 1344 Ns to chr18:84709685-84710323\n",
      "Adding 1344 Ns to chr16:96049258-96049453\n",
      "Adding 1344 Ns to chr16:90942456-90942687\n",
      "Adding 1344 Ns to chrX:164436752-164437099\n",
      "Adding 1344 Ns to chrX:159701074-159701481\n"
     ]
    },
    {
     "name": "stdout",
     "output_type": "stream",
     "text": [
      "process 13000 peaks takes 3.8 s\n"
     ]
    },
    {
     "name": "stderr",
     "output_type": "stream",
     "text": [
      "Adding 1344 Ns to chr14:119606762-119607179\n",
      "Adding 1344 Ns to chr18:85134679-85134851\n",
      "Adding 1344 Ns to chr18:88703144-88703482\n",
      "Adding 1344 Ns to chr14:118385211-118385464\n",
      "Adding 1344 Ns to chr18:90509571-90509801\n",
      "Adding 1344 Ns to chrX:159365951-159366117\n",
      "Adding 1344 Ns to chrX:161653224-161653549\n",
      "Adding 1344 Ns to chr16:95814476-95815178\n",
      "Adding 1344 Ns to chr16:92890855-92891240\n",
      "Adding 1344 Ns to chr14:119227654-119228126\n",
      "Adding 1344 Ns to chr16:91282658-91282903\n",
      "Adding 1344 Ns to chr17:90926273-90926623\n",
      "Adding 1344 Ns to chr13:117946825-117947241\n",
      "Adding 1344 Ns to chr14:119060690-119061237\n",
      "Adding 1344 Ns to chrX:164367666-164367852\n",
      "Adding 1344 Ns to chr17:84273575-84273729\n",
      "Adding 1344 Ns to chr16:96278756-96279247\n",
      "Adding 1344 Ns to chr14:117571961-117572779\n",
      "Adding 1344 Ns to chr18:84855324-84855611\n",
      "Adding 1344 Ns to chr16:91233428-91234146\n",
      "Adding 1344 Ns to chr18:86827390-86827553\n",
      "Adding 1344 Ns to chr16:94435873-94436229\n",
      "Adding 1344 Ns to chr18:80609659-80609854\n",
      "Adding 1344 Ns to chr14:120755209-120755716\n",
      "Adding 1344 Ns to chr16:94348890-94349039\n",
      "Adding 1344 Ns to chr17:83830734-83831277\n",
      "Adding 1344 Ns to chr16:94624898-94625261\n",
      "Adding 1344 Ns to chrX:165188417-165188963\n",
      "Adding 1344 Ns to chr17:90749500-90749953\n",
      "Adding 1344 Ns to chr17:83907580-83908087\n",
      "Adding 1344 Ns to chr18:83872137-83872368\n",
      "Adding 1344 Ns to chr18:83796222-83796773\n",
      "Adding 1344 Ns to chr17:85116718-85116951\n",
      "Adding 1344 Ns to chrX:158394105-158395039\n"
     ]
    },
    {
     "name": "stdout",
     "output_type": "stream",
     "text": [
      "process 14000 peaks takes 4.0 s\n"
     ]
    },
    {
     "name": "stderr",
     "output_type": "stream",
     "text": [
      "Adding 1344 Ns to chr14:119780194-119780459\n",
      "Adding 1344 Ns to chr13:117605039-117605340\n",
      "Adding 1344 Ns to chr14:108658589-108658992\n",
      "Adding 1344 Ns to chr14:118796005-118796515\n",
      "Adding 1344 Ns to chr16:92739992-92740531\n",
      "Adding 1344 Ns to chr14:112891566-112891997\n",
      "Adding 1344 Ns to chr17:83941750-83942085\n",
      "Adding 1344 Ns to chr18:85871049-85871655\n",
      "Adding 1344 Ns to chr14:124470864-124471610\n",
      "Adding 1344 Ns to chr17:89119279-89120296\n",
      "Adding 1344 Ns to chr18:84671775-84672148\n",
      "Adding 1344 Ns to chr16:94792609-94792887\n",
      "Adding 1344 Ns to chrX:163848593-163849094\n",
      "Adding 1344 Ns to chr16:96695939-96696315\n",
      "Adding 1344 Ns to chrX:167276448-167277284\n",
      "Adding 1344 Ns to chr13:118104683-118104846\n",
      "Adding 1344 Ns to chr16:96034357-96034937\n",
      "Adding 1344 Ns to chr16:95446579-95446754\n",
      "Adding 1344 Ns to chrX:164856150-164856308\n",
      "Adding 1344 Ns to chr14:121278989-121279508\n",
      "Adding 1344 Ns to chr18:84796905-84797327\n"
     ]
    },
    {
     "name": "stdout",
     "output_type": "stream",
     "text": [
      "process 15000 peaks takes 4.3 s\n"
     ]
    },
    {
     "name": "stderr",
     "output_type": "stream",
     "text": [
      "Adding 1344 Ns to chr16:94984221-94984663\n",
      "Adding 1344 Ns to chr18:85502350-85502855\n",
      "Adding 1344 Ns to chr16:96782893-96783352\n",
      "Adding 1344 Ns to chr16:95558457-95558841\n",
      "Adding 1344 Ns to chr18:84098130-84098429\n",
      "Adding 1344 Ns to chrX:163908416-163909298\n",
      "Adding 1344 Ns to chr17:84279679-84279955\n",
      "Adding 1344 Ns to chrX:166952558-166952845\n",
      "Adding 1344 Ns to chr14:124028384-124028615\n",
      "Adding 1344 Ns to chrX:162399047-162399385\n",
      "Adding 1344 Ns to chr14:121295406-121295717\n",
      "Adding 1344 Ns to chr16:94301508-94302012\n",
      "Adding 1344 Ns to chr16:96021780-96022056\n",
      "Adding 1344 Ns to chr13:116517115-116517274\n",
      "Adding 1344 Ns to chr17:83267311-83268299\n",
      "Adding 1344 Ns to chr18:81928173-81928407\n",
      "Adding 1344 Ns to chrX:168277996-168278346\n",
      "Adding 1344 Ns to chr14:117360176-117360578\n",
      "Adding 1344 Ns to chr19:58911456-58911762\n",
      "Adding 1344 Ns to chr14:120029758-120030287\n",
      "Adding 1344 Ns to chr16:94956535-94956801\n",
      "Adding 1344 Ns to chr14:121188233-121188457\n",
      "Adding 1344 Ns to chrX:159704481-159704871\n",
      "Adding 1344 Ns to chr16:96907537-96908230\n",
      "Adding 1344 Ns to chrX:165897592-165898054\n",
      "Adding 1344 Ns to chr14:110782905-110783226\n",
      "Adding 1344 Ns to chr18:81796945-81797168\n"
     ]
    },
    {
     "name": "stdout",
     "output_type": "stream",
     "text": [
      "process 16000 peaks takes 4.6 s\n"
     ]
    },
    {
     "name": "stderr",
     "output_type": "stream",
     "text": [
      "Adding 1344 Ns to chrX:169923522-169923721\n",
      "Adding 1344 Ns to chrX:158675847-158676161\n",
      "Adding 1344 Ns to chrX:159626979-159627846\n",
      "Adding 1344 Ns to chr16:92994923-92995310\n",
      "Adding 1344 Ns to chr17:90289823-90290150\n",
      "Adding 1344 Ns to chr14:120310786-120311001\n",
      "Adding 1344 Ns to chr18:85569533-85569845\n",
      "Adding 1344 Ns to chrX:159171201-159171431\n",
      "Adding 1344 Ns to chr14:120261648-120262040\n",
      "Adding 1344 Ns to chrX:162759824-162760562\n",
      "Adding 1344 Ns to chr14:122494573-122494909\n",
      "Adding 1344 Ns to chr13:117722152-117722397\n",
      "Adding 1344 Ns to chr13:116969645-116970197\n",
      "Adding 1344 Ns to chr17:91137418-91137780\n",
      "Adding 1344 Ns to chrX:160921619-160921954\n",
      "Adding 1344 Ns to chr16:92023566-92023751\n",
      "Adding 1344 Ns to chr19:61140479-61141195\n",
      "Adding 1344 Ns to chr14:120163136-120163548\n",
      "Adding 1344 Ns to chr16:95831544-95832621\n",
      "Adding 1344 Ns to chr17:94269709-94270259\n",
      "Adding 1344 Ns to chr16:95776156-95776463\n",
      "Adding 1344 Ns to chr14:121124393-121124981\n",
      "Adding 1344 Ns to chr14:116747210-116747718\n",
      "Adding 1344 Ns to chr15:102624973-102625832\n",
      "Adding 1344 Ns to chr14:119306490-119306940\n",
      "Adding 1344 Ns to chr15:103360266-103360573\n",
      "Adding 1344 Ns to chr16:97153873-97154342\n",
      "Adding 1344 Ns to chr16:90388955-90389534\n"
     ]
    },
    {
     "name": "stdout",
     "output_type": "stream",
     "text": [
      "process 17000 peaks takes 4.8 s\n"
     ]
    },
    {
     "name": "stderr",
     "output_type": "stream",
     "text": [
      "Adding 1344 Ns to chr17:87745834-87746687\n",
      "Adding 1344 Ns to chr13:119631591-119632138\n",
      "Adding 1344 Ns to chr17:86177607-86177824\n",
      "Adding 1344 Ns to chr14:118709607-118710176\n",
      "Adding 1344 Ns to chr17:90892313-90892748\n",
      "Adding 1344 Ns to chrX:162589446-162589764\n",
      "Adding 1344 Ns to chr13:116995392-116995669\n",
      "Adding 1344 Ns to chr14:111793848-111794214\n",
      "Adding 1344 Ns to chr14:120061173-120061413\n",
      "Adding 1344 Ns to chr17:88581506-88582067\n",
      "Adding 1344 Ns to chr16:91885649-91885798\n",
      "Adding 1344 Ns to chr14:118392185-118392494\n",
      "Adding 1344 Ns to chr13:119702880-119703116\n",
      "Adding 1344 Ns to chr17:87502684-87503024\n",
      "Adding 1344 Ns to chr14:119153111-119153439\n",
      "Adding 1344 Ns to chr17:84989492-84989988\n",
      "Adding 1344 Ns to chr17:86466716-86466978\n",
      "Adding 1344 Ns to chr18:83674485-83674740\n",
      "Adding 1344 Ns to chrX:166691083-166691619\n",
      "Adding 1344 Ns to chrX:169813676-169814083\n",
      "Adding 1344 Ns to chr15:102807425-102807882\n",
      "Adding 1344 Ns to chr14:117639635-117640138\n",
      "Adding 1344 Ns to chr15:103145764-103146579\n",
      "Adding 1344 Ns to chr14:112230251-112230927\n",
      "Adding 1344 Ns to chrX:169228597-169228746\n",
      "Adding 1344 Ns to chr14:120499553-120499788\n",
      "Adding 1344 Ns to chr16:96235387-96236065\n",
      "Adding 1344 Ns to chr18:84730522-84730875\n",
      "Adding 1344 Ns to chr16:93118281-93118499\n",
      "Adding 1344 Ns to chrX:167640727-167641233\n",
      "Adding 1344 Ns to chr14:120762844-120763136\n",
      "Adding 1344 Ns to chrX:159799718-159799933\n",
      "Adding 1344 Ns to chr17:94287887-94288133\n"
     ]
    },
    {
     "name": "stdout",
     "output_type": "stream",
     "text": [
      "process 18000 peaks takes 5.1 s\n"
     ]
    },
    {
     "name": "stderr",
     "output_type": "stream",
     "text": [
      "Adding 1344 Ns to chr17:85872980-85873254\n",
      "Adding 1344 Ns to chr13:114584678-114585038\n",
      "Adding 1344 Ns to chr16:95073114-95073345\n",
      "Adding 1344 Ns to chr14:113826253-113826636\n",
      "Adding 1344 Ns to chrX:160669952-160670425\n",
      "Adding 1344 Ns to chr16:94888591-94888756\n",
      "Adding 1344 Ns to chr14:108982464-108982782\n",
      "Adding 1344 Ns to chr16:90609734-90609992\n",
      "Adding 1344 Ns to chr17:86228786-86229252\n",
      "Adding 1344 Ns to chr18:83424153-83424399\n",
      "Adding 1344 Ns to chr18:86490708-86491013\n",
      "Adding 1344 Ns to chr14:113613716-113614169\n",
      "Adding 1344 Ns to chr13:117224573-117225103\n",
      "Adding 1344 Ns to chr14:111996235-111996629\n",
      "Adding 1344 Ns to chr18:82547296-82547546\n"
     ]
    },
    {
     "name": "stdout",
     "output_type": "stream",
     "text": [
      "process 19000 peaks takes 5.4 s\n"
     ]
    },
    {
     "name": "stderr",
     "output_type": "stream",
     "text": [
      "Adding 1344 Ns to chrX:166440131-166441091\n",
      "Adding 1344 Ns to chrX:160116751-160117067\n",
      "Adding 1344 Ns to chr17:93104483-93104925\n",
      "Adding 1344 Ns to chr14:113422999-113423345\n",
      "Adding 1344 Ns to chr14:108074526-108074827\n",
      "Adding 1344 Ns to chr16:90351723-90352181\n",
      "Adding 1344 Ns to chrX:166892563-166892757\n",
      "Adding 1344 Ns to chrX:167523231-167523457\n",
      "Adding 1344 Ns to chr17:90556434-90556675\n",
      "Adding 1344 Ns to chr17:86609316-86609484\n",
      "Adding 1344 Ns to chr14:119901231-119901874\n",
      "Adding 1344 Ns to chr17:90506546-90506738\n",
      "Adding 1344 Ns to chr16:92364644-92364901\n",
      "Adding 1344 Ns to chr17:90818026-90818206\n",
      "Adding 1344 Ns to chr13:115089763-115090674\n",
      "Adding 1344 Ns to chr18:90229061-90229427\n",
      "Adding 1344 Ns to chr14:123529998-123530379\n",
      "Adding 1344 Ns to chr18:88750611-88750850\n",
      "Adding 1344 Ns to chr14:120993367-120993561\n",
      "Adding 1344 Ns to chr14:122064685-122064877\n",
      "Adding 1344 Ns to chr19:59336204-59336644\n",
      "Adding 1344 Ns to chr14:112388344-112388841\n",
      "Adding 1344 Ns to chr14:111822073-111822749\n",
      "Adding 1344 Ns to chr16:93750527-93750924\n",
      "Adding 1344 Ns to chr16:91083333-91083569\n",
      "Adding 1344 Ns to chr17:87866762-87867302\n",
      "Adding 1344 Ns to chr14:116193822-116194258\n",
      "Adding 1344 Ns to chrX:157451685-157451900\n"
     ]
    },
    {
     "name": "stdout",
     "output_type": "stream",
     "text": [
      "process 20000 peaks takes 5.6 s\n"
     ]
    },
    {
     "name": "stderr",
     "output_type": "stream",
     "text": [
      "Adding 1344 Ns to chr16:94425584-94425917\n",
      "Adding 1344 Ns to chr16:97430044-97430586\n",
      "Adding 1344 Ns to chr18:88911389-88911704\n",
      "Adding 1344 Ns to chr16:94208792-94209190\n",
      "Adding 1344 Ns to chr16:95701792-95702795\n",
      "Adding 1344 Ns to chr14:119953144-119953776\n",
      "Adding 1344 Ns to chr19:58893318-58893820\n",
      "Adding 1344 Ns to chrX:160619992-160620142\n",
      "Adding 1344 Ns to chr17:87446617-87447605\n",
      "Adding 1344 Ns to chr17:94735493-94735774\n",
      "Adding 1344 Ns to chr14:110956840-110957120\n",
      "Adding 1344 Ns to chr16:97842610-97842810\n",
      "Adding 1344 Ns to chrX:167305568-167305825\n",
      "Adding 1344 Ns to chr16:90666199-90666999\n",
      "Adding 1344 Ns to chrX:167518091-167518819\n",
      "Adding 1344 Ns to chr17:86122280-86122740\n",
      "Adding 1344 Ns to chrX:157736514-157736854\n",
      "Adding 1344 Ns to chr13:119790505-119791641\n",
      "Adding 1344 Ns to chr16:96025199-96025837\n",
      "Adding 1344 Ns to chr14:109941263-109941736\n",
      "Adding 1344 Ns to chr14:114866403-114866910\n",
      "Adding 1344 Ns to chrX:162462073-162462593\n",
      "Adding 1344 Ns to chr13:116712291-116712579\n",
      "Adding 1344 Ns to chr16:90424111-90424346\n",
      "Adding 1344 Ns to chrX:169408429-169408741\n",
      "Adding 1344 Ns to chr14:108998867-108999208\n",
      "Adding 1344 Ns to chr14:117255453-117255795\n",
      "Adding 1344 Ns to chr14:120467432-120468281\n",
      "Adding 1344 Ns to chr17:84709520-84709805\n",
      "Adding 1344 Ns to chr18:82624274-82624476\n"
     ]
    },
    {
     "name": "stdout",
     "output_type": "stream",
     "text": [
      "process 21000 peaks takes 5.9 s\n"
     ]
    },
    {
     "name": "stderr",
     "output_type": "stream",
     "text": [
      "Adding 1344 Ns to chr14:108178907-108179152\n",
      "Adding 1344 Ns to chr17:84256378-84256848\n",
      "Adding 1344 Ns to chr15:102797206-102797619\n",
      "Adding 1344 Ns to chr16:93436775-93437048\n",
      "Adding 1344 Ns to chr14:118889886-118890582\n",
      "Adding 1344 Ns to chrX:167886096-167886496\n",
      "Adding 1344 Ns to chrX:162800459-162800686\n",
      "Adding 1344 Ns to chr17:86559289-86559514\n",
      "Adding 1344 Ns to chr17:84748463-84748694\n",
      "Adding 1344 Ns to chr17:85473045-85473645\n",
      "Adding 1344 Ns to chr15:102458860-102459370\n",
      "Adding 1344 Ns to chr16:92246467-92246691\n",
      "Adding 1344 Ns to chr13:117710887-117711164\n",
      "Adding 1344 Ns to chr13:119640474-119641043\n",
      "Adding 1344 Ns to chrX:169837965-169838267\n",
      "Adding 1344 Ns to chr17:86271302-86272102\n",
      "Adding 1344 Ns to chr16:94125049-94125858\n",
      "Adding 1344 Ns to chr17:86962329-86962720\n",
      "Adding 1344 Ns to chr14:118915121-118915460\n",
      "Adding 1344 Ns to chrX:160808428-160808684\n",
      "Adding 1344 Ns to chr18:80777542-80777984\n",
      "Adding 1344 Ns to chr14:122104762-122105227\n",
      "Adding 1344 Ns to chrX:158714996-158715289\n",
      "Adding 1344 Ns to chr14:118970756-118971233\n",
      "Adding 1344 Ns to chrX:159817548-159818001\n",
      "Adding 1344 Ns to chr14:108912234-108912383\n"
     ]
    },
    {
     "name": "stdout",
     "output_type": "stream",
     "text": [
      "process 22000 peaks takes 6.2 s\n"
     ]
    },
    {
     "name": "stderr",
     "output_type": "stream",
     "text": [
      "Adding 1344 Ns to chrX:164417910-164418369\n",
      "Adding 1344 Ns to chr18:86319184-86319579\n",
      "Adding 1344 Ns to chr17:85121776-85122263\n",
      "Adding 1344 Ns to chr15:102685274-102685595\n",
      "Adding 1344 Ns to chr18:82733471-82733886\n",
      "Adding 1344 Ns to chr14:114851062-114851211\n",
      "Adding 1344 Ns to chr18:89179050-89179327\n",
      "Adding 1344 Ns to chr16:90741021-90741241\n",
      "Adding 1344 Ns to chr17:88981085-88981323\n",
      "Adding 1344 Ns to chrX:157840877-157841340\n",
      "Adding 1344 Ns to chr14:121963639-121963923\n",
      "Adding 1344 Ns to chr17:89591190-89591365\n",
      "Adding 1344 Ns to chrX:161142286-161142721\n",
      "Adding 1344 Ns to chr16:96406403-96406692\n",
      "Adding 1344 Ns to chr14:116723356-116723982\n",
      "Adding 1344 Ns to chr17:88329791-88330132\n",
      "Adding 1344 Ns to chr16:92720833-92721131\n",
      "Adding 1344 Ns to chr16:92340974-92341591\n",
      "Adding 1344 Ns to chr18:80764929-80765185\n"
     ]
    },
    {
     "name": "stdout",
     "output_type": "stream",
     "text": [
      "process 23000 peaks takes 6.4 s\n"
     ]
    },
    {
     "name": "stderr",
     "output_type": "stream",
     "text": [
      "Adding 1344 Ns to chr14:114032437-114032836\n",
      "Adding 1344 Ns to chr14:119310307-119310717\n",
      "Adding 1344 Ns to chr18:86724105-86724308\n",
      "Adding 1344 Ns to chrX:168659833-168660126\n",
      "Adding 1344 Ns to chr16:93673406-93673696\n",
      "Adding 1344 Ns to chr18:88092483-88092918\n",
      "Adding 1344 Ns to chr16:94401961-94402611\n",
      "Adding 1344 Ns to chr16:95484040-95484360\n",
      "Adding 1344 Ns to chr17:90629644-90630271\n",
      "Adding 1344 Ns to chr15:103552145-103552415\n",
      "Adding 1344 Ns to chr14:108729232-108729384\n",
      "Adding 1344 Ns to chr18:88748388-88748598\n",
      "Adding 1344 Ns to chr16:91720982-91721441\n",
      "Adding 1344 Ns to chr14:113689199-113689494\n",
      "Adding 1344 Ns to chrX:165193641-165193890\n",
      "Adding 1344 Ns to chr14:114425475-114425963\n",
      "Adding 1344 Ns to chr14:117813436-117813932\n",
      "Adding 1344 Ns to chr17:86819459-86819725\n",
      "Adding 1344 Ns to chr17:90382356-90382901\n",
      "Adding 1344 Ns to chrX:166809150-166809786\n",
      "Adding 1344 Ns to chr13:120193148-120193355\n",
      "Adding 1344 Ns to chr16:90970976-90971369\n",
      "Adding 1344 Ns to chr15:102203244-102204438\n",
      "Adding 1344 Ns to chr16:92696647-92696995\n",
      "Adding 1344 Ns to chr16:91222323-91222847\n",
      "Adding 1344 Ns to chrX:162642444-162642629\n",
      "Adding 1344 Ns to chrX:158835017-158835332\n",
      "Adding 1344 Ns to chr17:91031026-91031369\n",
      "Adding 1344 Ns to chr18:80987298-80987524\n"
     ]
    },
    {
     "name": "stdout",
     "output_type": "stream",
     "text": [
      "process 24000 peaks takes 6.7 s\n"
     ]
    },
    {
     "name": "stderr",
     "output_type": "stream",
     "text": [
      "Adding 1344 Ns to chr19:59759913-59760198\n",
      "Adding 1344 Ns to chr17:84096382-84096970\n",
      "Adding 1344 Ns to chr17:94553261-94553677\n",
      "Adding 1344 Ns to chr18:86711184-86711865\n",
      "Adding 1344 Ns to chr16:91632279-91632827\n",
      "Adding 1344 Ns to chr17:88440206-88441133\n",
      "Adding 1344 Ns to chrX:164339821-164340043\n",
      "Adding 1344 Ns to chr18:82654168-82654787\n",
      "Adding 1344 Ns to chrX:166384935-166385162\n",
      "Adding 1344 Ns to chr16:94250309-94251427\n",
      "Adding 1344 Ns to chr14:119172086-119172244\n",
      "Adding 1344 Ns to chr14:120675768-120676153\n",
      "Adding 1344 Ns to chr16:91839453-91839714\n",
      "Adding 1344 Ns to chr18:81252130-81252592\n",
      "Adding 1344 Ns to chr14:123511966-123512325\n",
      "Adding 1344 Ns to chr14:113468993-113469558\n",
      "Adding 1344 Ns to chr14:118212737-118213124\n",
      "Adding 1344 Ns to chr14:115475293-115475681\n",
      "Adding 1344 Ns to chr17:88262637-88263324\n",
      "Adding 1344 Ns to chr18:83290654-83291127\n",
      "Adding 1344 Ns to chr17:90704745-90705233\n",
      "Adding 1344 Ns to chr14:122643381-122643737\n",
      "Adding 1344 Ns to chr18:83075732-83076113\n",
      "Adding 1344 Ns to chr14:121535847-121536210\n",
      "Adding 1344 Ns to chr17:86371030-86371440\n",
      "Adding 1344 Ns to chr14:117975536-117975698\n",
      "Adding 1344 Ns to chr16:90550138-90550604\n"
     ]
    },
    {
     "name": "stdout",
     "output_type": "stream",
     "text": [
      "process 25000 peaks takes 7.0 s\n"
     ]
    },
    {
     "name": "stderr",
     "output_type": "stream",
     "text": [
      "Adding 1344 Ns to chr15:103506483-103506768\n",
      "Adding 1344 Ns to chr17:87405605-87405933\n",
      "Adding 1344 Ns to chr16:94034501-94034823\n",
      "Adding 1344 Ns to chr14:121099987-121100299\n",
      "Adding 1344 Ns to chr19:60184101-60184452\n",
      "Adding 1344 Ns to chr16:96996956-96997186\n",
      "Adding 1344 Ns to chrX:168672455-168672792\n",
      "Adding 1344 Ns to chr13:119341929-119342185\n",
      "Adding 1344 Ns to chr16:96023125-96023318\n",
      "Adding 1344 Ns to chr16:97850563-97852468\n",
      "Adding 1344 Ns to chr18:89695031-89695282\n",
      "Adding 1344 Ns to chr17:90556958-90557325\n",
      "Adding 1344 Ns to chr14:120053102-120053335\n",
      "Adding 1344 Ns to chr19:59316632-59316902\n",
      "Adding 1344 Ns to chr16:91579311-91579780\n",
      "Adding 1344 Ns to chr14:118591526-118592190\n",
      "Adding 1344 Ns to chr19:60121388-60121569\n",
      "Adding 1344 Ns to chr18:84967706-84968180\n",
      "Adding 1344 Ns to chr17:88936747-88936913\n",
      "Adding 1344 Ns to chr18:88098016-88098319\n",
      "Adding 1344 Ns to chr14:119720513-119720879\n",
      "Adding 1344 Ns to chr14:114774539-114775338\n",
      "Adding 1344 Ns to chr17:88919585-88919970\n",
      "Adding 1344 Ns to chr14:117246874-117247119\n",
      "Adding 1344 Ns to chr16:94899329-94899729\n"
     ]
    },
    {
     "name": "stdout",
     "output_type": "stream",
     "text": [
      "process 26000 peaks takes 7.3 s\n"
     ]
    },
    {
     "name": "stderr",
     "output_type": "stream",
     "text": [
      "Adding 1344 Ns to chr17:88103319-88103525\n",
      "Adding 1344 Ns to chr17:87691956-87692309\n",
      "Adding 1344 Ns to chr14:117407888-117408371\n",
      "Adding 1344 Ns to chr14:117826713-117827158\n",
      "Adding 1344 Ns to chrX:166365868-166366736\n",
      "Adding 1344 Ns to chr19:58993325-58993517\n",
      "Adding 1344 Ns to chr18:89391618-89392029\n",
      "Adding 1344 Ns to chr16:91639605-91639987\n",
      "Adding 1344 Ns to chr17:86840951-86841433\n",
      "Adding 1344 Ns to chr17:85292272-85292887\n",
      "Adding 1344 Ns to chr14:124634779-124635324\n",
      "Adding 1344 Ns to chr13:117406215-117406514\n",
      "Adding 1344 Ns to chr14:121642373-121642950\n",
      "Adding 1344 Ns to chr17:86128781-86129085\n",
      "Adding 1344 Ns to chr14:118703385-118703747\n",
      "Adding 1344 Ns to chr14:118422266-118422772\n",
      "Adding 1344 Ns to chr17:88786899-88787256\n",
      "Adding 1344 Ns to chrX:162643370-162643984\n",
      "Adding 1344 Ns to chr18:82486408-82486719\n",
      "Adding 1344 Ns to chr16:97438200-97438528\n"
     ]
    },
    {
     "name": "stdout",
     "output_type": "stream",
     "text": [
      "process 27000 peaks takes 7.5 s\n"
     ]
    },
    {
     "name": "stderr",
     "output_type": "stream",
     "text": [
      "Adding 1344 Ns to chr19:60064890-60065118\n",
      "Adding 1344 Ns to chr17:83402732-83402928\n",
      "Adding 1344 Ns to chrX:163957837-163959015\n",
      "Adding 1344 Ns to chr18:86675176-86675670\n",
      "Adding 1344 Ns to chrX:162922810-162923163\n",
      "Adding 1344 Ns to chr16:97169858-97171167\n",
      "Adding 1344 Ns to chr18:83000870-83001134\n",
      "Adding 1344 Ns to chr18:89897035-89897541\n",
      "Adding 1344 Ns to chr17:84610506-84610741\n",
      "Adding 1344 Ns to chrX:161511131-161511460\n",
      "Adding 1344 Ns to chr16:91504773-91505596\n",
      "Adding 1344 Ns to chr14:117695401-117695792\n",
      "Adding 1344 Ns to chr17:87473566-87474501\n",
      "Adding 1344 Ns to chr14:107206315-107206518\n",
      "Adding 1344 Ns to chrX:158591547-158591820\n",
      "Adding 1344 Ns to chr16:90610044-90610948\n",
      "Adding 1344 Ns to chrX:169948689-169948986\n",
      "Adding 1344 Ns to chr14:120937832-120938472\n",
      "Adding 1344 Ns to chrX:158946764-158947023\n",
      "Adding 1344 Ns to chr16:96487317-96487790\n",
      "Adding 1344 Ns to chr18:82534466-82534738\n",
      "Adding 1344 Ns to chrX:168569230-168569740\n"
     ]
    },
    {
     "name": "stdout",
     "output_type": "stream",
     "text": [
      "process 28000 peaks takes 7.8 s\n"
     ]
    },
    {
     "name": "stderr",
     "output_type": "stream",
     "text": [
      "Adding 1344 Ns to chr16:92543485-92543731\n",
      "Adding 1344 Ns to chrX:166976849-166976998\n",
      "Adding 1344 Ns to chr16:94588111-94588743\n",
      "Adding 1344 Ns to chr17:83275998-83276700\n",
      "Adding 1344 Ns to chr15:102779868-102780362\n",
      "Adding 1344 Ns to chr14:118607792-118608134\n",
      "Adding 1344 Ns to chr14:113278062-113278248\n",
      "Adding 1344 Ns to chr18:81767717-81768455\n",
      "Adding 1344 Ns to chr16:91491029-91491349\n",
      "Adding 1344 Ns to chr16:95037732-95038095\n",
      "Adding 1344 Ns to chr18:83779267-83779554\n",
      "Adding 1344 Ns to chr16:96399988-96400353\n",
      "Adding 1344 Ns to chrX:162791487-162791694\n",
      "Adding 1344 Ns to chr19:60465922-60466104\n",
      "Adding 1344 Ns to chr13:119654706-119655238\n",
      "Adding 1344 Ns to chr18:82037867-82038304\n",
      "Adding 1344 Ns to chrX:159255323-159256487\n",
      "Adding 1344 Ns to chr15:102613066-102613288\n",
      "Adding 1344 Ns to chrX:158034677-158034871\n",
      "Adding 1344 Ns to chr17:87468455-87468940\n",
      "Adding 1344 Ns to chr17:85803808-85804002\n",
      "Adding 1344 Ns to chr18:84128345-84128900\n",
      "Adding 1344 Ns to chr14:116349264-116349706\n",
      "Adding 1344 Ns to chr17:85706862-85707011\n",
      "Adding 1344 Ns to chrX:159626232-159626807\n",
      "Adding 1344 Ns to chr14:121268415-121268733\n",
      "Adding 1344 Ns to chr14:123400576-123401093\n"
     ]
    },
    {
     "name": "stdout",
     "output_type": "stream",
     "text": [
      "process 29000 peaks takes 8.1 s\n"
     ]
    },
    {
     "name": "stderr",
     "output_type": "stream",
     "text": [
      "Adding 1344 Ns to chr16:96289465-96289735\n",
      "Adding 1344 Ns to chr18:86232295-86232590\n",
      "Adding 1344 Ns to chr16:93487780-93488091\n",
      "Adding 1344 Ns to chr17:94239384-94239557\n",
      "Adding 1344 Ns to chr15:102770858-102771531\n",
      "Adding 1344 Ns to chr13:117217145-117217460\n",
      "Adding 1344 Ns to chr14:119633107-119633547\n",
      "Adding 1344 Ns to chr14:121316210-121316512\n",
      "Adding 1344 Ns to chrX:158931404-158931824\n",
      "Adding 1344 Ns to chr14:117229567-117229887\n",
      "Adding 1344 Ns to chrX:166316618-166317684\n",
      "Adding 1344 Ns to chr18:86970795-86971130\n",
      "Adding 1344 Ns to chr16:97673629-97674036\n",
      "Adding 1344 Ns to chr18:81668029-81668228\n",
      "Adding 1344 Ns to chrX:163878286-163878511\n",
      "Adding 1344 Ns to chr14:123272220-123272441\n",
      "Adding 1344 Ns to chr16:91677334-91677483\n",
      "Adding 1344 Ns to chr16:92398761-92399085\n",
      "Adding 1344 Ns to chrX:167925626-167926064\n",
      "Adding 1344 Ns to chr17:90353910-90354142\n",
      "Adding 1344 Ns to chr16:91830201-91830717\n",
      "Adding 1344 Ns to chr19:60629780-60630330\n",
      "Adding 1344 Ns to chr14:120757577-120757851\n",
      "Adding 1344 Ns to chr18:80416904-80417300\n",
      "Adding 1344 Ns to chr16:93150282-93150929\n",
      "Adding 1344 Ns to chr16:94140646-94141200\n",
      "Adding 1344 Ns to chr17:90249590-90249885\n"
     ]
    },
    {
     "name": "stdout",
     "output_type": "stream",
     "text": [
      "process 30000 peaks takes 8.3 s\n"
     ]
    },
    {
     "name": "stderr",
     "output_type": "stream",
     "text": [
      "Adding 1344 Ns to chr18:82655218-82655516\n",
      "Adding 1344 Ns to chr14:123187781-123188041\n",
      "Adding 1344 Ns to chr18:80712663-80713272\n",
      "Adding 1344 Ns to chr17:87530312-87531092\n",
      "Adding 1344 Ns to chr16:90518194-90518709\n",
      "Adding 1344 Ns to chr14:114318102-114318495\n",
      "Adding 1344 Ns to chr14:118972224-118972540\n",
      "Adding 1344 Ns to chr13:117467396-117467653\n",
      "Adding 1344 Ns to chr17:84605905-84606282\n",
      "Adding 1344 Ns to chr17:85134869-85135244\n",
      "Adding 1344 Ns to chr14:119686994-119687239\n",
      "Adding 1344 Ns to chr15:103511709-103512025\n",
      "Adding 1344 Ns to chrX:157633643-157633809\n",
      "Adding 1344 Ns to chr17:87695872-87696356\n",
      "Adding 1344 Ns to chrX:166170191-166170764\n",
      "Adding 1344 Ns to chr16:94227709-94228001\n",
      "Adding 1344 Ns to chrX:158166136-158166600\n",
      "Adding 1344 Ns to chr19:59697577-59698428\n"
     ]
    },
    {
     "name": "stdout",
     "output_type": "stream",
     "text": [
      "process 31000 peaks takes 8.6 s\n"
     ]
    },
    {
     "name": "stderr",
     "output_type": "stream",
     "text": [
      "Adding 1344 Ns to chr13:116534239-116534539\n",
      "Adding 1344 Ns to chr16:94674590-94674762\n",
      "Adding 1344 Ns to chrX:160192968-160193537\n",
      "Adding 1344 Ns to chr18:85526314-85526744\n",
      "Adding 1344 Ns to chr17:88779007-88779463\n",
      "Adding 1344 Ns to chr16:95117536-95117928\n",
      "Adding 1344 Ns to chr17:92807194-92807343\n",
      "Adding 1344 Ns to chr19:59208544-59208807\n",
      "Adding 1344 Ns to chr19:61070815-61071096\n",
      "Adding 1344 Ns to chr17:90351642-90351915\n",
      "Adding 1344 Ns to chr16:96835322-96835509\n",
      "Adding 1344 Ns to chr14:113928548-113928897\n",
      "Adding 1344 Ns to chr14:118875180-118875773\n",
      "Adding 1344 Ns to chr14:107526046-107526664\n",
      "Adding 1344 Ns to chr16:91936417-91936810\n",
      "Adding 1344 Ns to chr14:121313078-121313836\n",
      "Adding 1344 Ns to chr19:59388896-59389676\n",
      "Adding 1344 Ns to chr14:118612985-118613290\n",
      "Adding 1344 Ns to chr19:60789941-60791233\n",
      "Adding 1344 Ns to chr13:117401443-117402748\n",
      "Adding 1344 Ns to chr14:122943093-122943540\n",
      "Adding 1344 Ns to chrX:162759040-162759522\n"
     ]
    },
    {
     "name": "stdout",
     "output_type": "stream",
     "text": [
      "process 32000 peaks takes 8.9 s\n"
     ]
    },
    {
     "name": "stderr",
     "output_type": "stream",
     "text": [
      "Adding 1344 Ns to chr19:60755675-60757194\n",
      "Adding 1344 Ns to chrX:158933569-158933844\n",
      "Adding 1344 Ns to chr18:82961266-82961512\n",
      "Adding 1344 Ns to chr17:90280322-90280728\n",
      "Adding 1344 Ns to chr14:120578383-120579272\n",
      "Adding 1344 Ns to chr16:93116686-93116941\n",
      "Adding 1344 Ns to chrX:167017433-167017890\n",
      "Adding 1344 Ns to chr17:90252193-90252397\n",
      "Adding 1344 Ns to chr14:119989327-119989833\n",
      "Adding 1344 Ns to chr13:118849519-118850015\n",
      "Adding 1344 Ns to chr16:97035173-97035698\n",
      "Adding 1344 Ns to chr14:117674474-117674790\n",
      "Adding 1344 Ns to chr14:114450599-114450824\n",
      "Adding 1344 Ns to chr14:118854441-118855111\n",
      "Adding 1344 Ns to chr16:91553574-91553759\n",
      "Adding 1344 Ns to chr17:89064518-89065111\n",
      "Adding 1344 Ns to chr16:92399853-92400794\n",
      "Adding 1344 Ns to chr14:119021314-119021759\n",
      "Adding 1344 Ns to chr16:91848513-91848792\n",
      "Adding 1344 Ns to chr16:94807171-94807445\n",
      "Adding 1344 Ns to chr16:96887130-96887391\n",
      "Adding 1344 Ns to chr16:91862971-91863147\n",
      "Adding 1344 Ns to chr17:84803098-84803697\n",
      "Adding 1344 Ns to chr17:89871115-89871594\n",
      "Adding 1344 Ns to chr14:121774690-121775108\n",
      "Adding 1344 Ns to chr15:102216632-102216811\n",
      "Adding 1344 Ns to chrX:156228510-156228752\n",
      "Adding 1344 Ns to chr14:116108262-116108632\n",
      "Adding 1344 Ns to chr17:84044254-84044608\n"
     ]
    },
    {
     "name": "stdout",
     "output_type": "stream",
     "text": [
      "process 33000 peaks takes 9.2 s\n"
     ]
    },
    {
     "name": "stderr",
     "output_type": "stream",
     "text": [
      "Adding 1344 Ns to chr16:91192754-91193031\n",
      "Adding 1344 Ns to chrX:165894865-165895038\n",
      "Adding 1344 Ns to chr17:90857120-90857329\n",
      "Adding 1344 Ns to chr15:102684645-102684904\n",
      "Adding 1344 Ns to chrX:167204181-167204732\n",
      "Adding 1344 Ns to chr14:116957483-116957684\n",
      "Adding 1344 Ns to chr17:87331921-87332425\n",
      "Adding 1344 Ns to chr17:85241998-85242683\n",
      "Adding 1344 Ns to chr17:87436950-87437143\n",
      "Adding 1344 Ns to chr16:95844584-95845006\n",
      "Adding 1344 Ns to chr14:108843500-108844152\n",
      "Adding 1344 Ns to chr18:82779862-82780794\n",
      "Adding 1344 Ns to chr19:58866721-58867006\n",
      "Adding 1344 Ns to chrX:167056125-167056343\n",
      "Adding 1344 Ns to chr14:122953398-122953646\n",
      "Adding 1344 Ns to chr16:91880913-91881759\n",
      "Adding 1344 Ns to chr17:90744383-90744744\n",
      "Adding 1344 Ns to chr17:90594789-90595263\n",
      "Adding 1344 Ns to chr17:88505269-88505835\n",
      "Adding 1344 Ns to chr16:92319158-92320006\n",
      "Adding 1344 Ns to chrX:161017865-161018951\n",
      "Adding 1344 Ns to chr18:83686047-83686433\n",
      "Adding 1344 Ns to chr16:93238239-93238555\n",
      "Adding 1344 Ns to chr13:117792775-117793200\n",
      "Adding 1344 Ns to chr14:110544106-110544469\n",
      "Adding 1344 Ns to chr18:80573964-80574260\n",
      "Adding 1344 Ns to chr14:107052958-107053288\n",
      "Adding 1344 Ns to chr13:118344198-118344638\n",
      "Adding 1344 Ns to chr14:120382244-120382557\n",
      "Adding 1344 Ns to chr17:89550800-89551096\n",
      "Adding 1344 Ns to chr14:119409721-119410050\n",
      "Adding 1344 Ns to chr16:91010713-91011796\n",
      "Adding 1344 Ns to chr14:122280014-122280213\n",
      "Adding 1344 Ns to chr17:89970558-89970730\n"
     ]
    },
    {
     "name": "stdout",
     "output_type": "stream",
     "text": [
      "process 34000 peaks takes 9.4 s\n"
     ]
    },
    {
     "name": "stderr",
     "output_type": "stream",
     "text": [
      "Adding 1344 Ns to chr18:81581436-81581795\n",
      "Adding 1344 Ns to chr17:84285245-84285657\n",
      "Adding 1344 Ns to chr16:95449587-95449743\n",
      "Adding 1344 Ns to chr16:92006885-92007327\n",
      "Adding 1344 Ns to chr17:83631808-83632744\n",
      "Adding 1344 Ns to chr17:90439728-90440068\n",
      "Adding 1344 Ns to chr16:92203690-92203919\n",
      "Adding 1344 Ns to chr13:119761369-119762060\n",
      "Adding 1344 Ns to chr14:121040067-121040456\n",
      "Adding 1344 Ns to chr18:89559774-89560149\n",
      "Adding 1344 Ns to chr19:61097785-61098036\n",
      "Adding 1344 Ns to chr14:121987153-121987810\n",
      "Adding 1344 Ns to chr13:115697911-115698284\n",
      "Adding 1344 Ns to chr18:84909649-84910128\n",
      "Adding 1344 Ns to chr18:86222177-86222536\n",
      "Adding 1344 Ns to chr17:89347103-89348128\n",
      "Adding 1344 Ns to chr18:88893522-88894708\n"
     ]
    },
    {
     "name": "stdout",
     "output_type": "stream",
     "text": [
      "process 35000 peaks takes 9.7 s\n"
     ]
    },
    {
     "name": "stderr",
     "output_type": "stream",
     "text": [
      "Adding 1344 Ns to chr16:91314153-91314724\n",
      "Adding 1344 Ns to chr18:83840901-83841217\n",
      "Adding 1344 Ns to chr16:94419459-94419887\n",
      "Adding 1344 Ns to chr14:121311519-121311764\n",
      "Adding 1344 Ns to chrX:157292854-157293502\n",
      "Adding 1344 Ns to chr14:111576783-111577189\n",
      "Adding 1344 Ns to chr18:84873627-84874066\n",
      "Adding 1344 Ns to chr17:90532413-90532597\n",
      "Adding 1344 Ns to chr17:89470410-89470767\n",
      "Adding 1344 Ns to chr16:94362084-94362642\n",
      "Adding 1344 Ns to chrX:164183907-164184135\n",
      "Adding 1344 Ns to chr15:102750231-102750803\n",
      "Adding 1344 Ns to chr17:88578707-88578859\n",
      "Adding 1344 Ns to chr14:114863526-114863971\n",
      "Adding 1344 Ns to chr16:96353969-96354243\n",
      "Adding 1344 Ns to chr16:94047624-94048060\n",
      "Adding 1344 Ns to chr14:108812346-108812610\n",
      "Adding 1344 Ns to chr17:84370355-84370616\n",
      "Adding 1344 Ns to chr17:83776117-83776304\n",
      "Adding 1344 Ns to chr16:90516827-90516997\n",
      "Adding 1344 Ns to chr19:59280952-59281180\n",
      "Adding 1344 Ns to chr18:85134919-85135184\n",
      "Adding 1344 Ns to chr16:96258753-96258982\n",
      "Adding 1344 Ns to chr14:122249495-122249670\n",
      "Adding 1344 Ns to chr16:95175139-95175652\n",
      "Adding 1344 Ns to chr19:58819189-58819371\n",
      "Adding 1344 Ns to chr17:90761217-90761554\n",
      "Adding 1344 Ns to chr18:88735710-88735975\n"
     ]
    },
    {
     "name": "stdout",
     "output_type": "stream",
     "text": [
      "process 36000 peaks takes 10.0 s\n"
     ]
    },
    {
     "name": "stderr",
     "output_type": "stream",
     "text": [
      "Adding 1344 Ns to chr14:121034902-121035903\n",
      "Adding 1344 Ns to chr13:117633179-117633368\n",
      "Adding 1344 Ns to chr13:119330662-119331105\n",
      "Adding 1344 Ns to chr14:120296059-120296608\n",
      "Adding 1344 Ns to chr18:82616708-82617017\n",
      "Adding 1344 Ns to chr17:94254715-94255247\n",
      "Adding 1344 Ns to chr16:95033458-95033805\n",
      "Adding 1344 Ns to chr18:83232176-83232788\n",
      "Adding 1344 Ns to chr17:86580713-86581282\n",
      "Adding 1344 Ns to chr14:115070580-115070907\n",
      "Adding 1344 Ns to chrX:166373501-166373650\n",
      "Adding 1344 Ns to chr16:97002086-97002695\n",
      "Adding 1344 Ns to chr14:115025041-115025500\n",
      "Adding 1344 Ns to chr14:109310452-109310763\n",
      "Adding 1344 Ns to chr18:82672448-82672787\n",
      "Adding 1344 Ns to chr17:84261316-84261687\n",
      "Adding 1344 Ns to chr14:120867118-120867655\n",
      "Adding 1344 Ns to chrX:160516390-160516575\n",
      "Adding 1344 Ns to chr18:89547061-89547402\n",
      "Adding 1344 Ns to chr19:59027916-59028543\n",
      "Adding 1344 Ns to chr16:94940402-94941102\n",
      "Adding 1344 Ns to chr15:102233676-102234249\n",
      "Adding 1344 Ns to chr19:59074801-59076045\n",
      "Adding 1344 Ns to chr13:118379200-118379482\n",
      "Adding 1344 Ns to chrX:166289242-166289490\n",
      "Adding 1344 Ns to chr14:120441874-120442305\n",
      "Adding 1344 Ns to chr16:95182478-95182689\n",
      "Adding 1344 Ns to chr16:94997271-94997891\n",
      "Adding 1344 Ns to chr14:120994368-120994859\n",
      "Adding 1344 Ns to chrX:160994511-160995636\n",
      "Adding 1344 Ns to chr16:96617879-96618069\n",
      "Adding 1344 Ns to chr13:115186620-115187305\n",
      "Adding 1344 Ns to chrX:159963251-159963607\n",
      "Adding 1344 Ns to chr17:87609700-87610140\n"
     ]
    },
    {
     "name": "stdout",
     "output_type": "stream",
     "text": [
      "process 37000 peaks takes 10.2 s\n"
     ]
    },
    {
     "name": "stderr",
     "output_type": "stream",
     "text": [
      "Adding 1344 Ns to chr15:103299434-103300497\n",
      "Adding 1344 Ns to chrX:162913635-162914088\n",
      "Adding 1344 Ns to chrX:164953199-164953559\n",
      "Adding 1344 Ns to chr14:116913243-116913728\n",
      "Adding 1344 Ns to chrX:168429516-168430324\n",
      "Adding 1344 Ns to chr17:83527223-83527453\n",
      "Adding 1344 Ns to chr14:122655186-122655425\n",
      "Adding 1344 Ns to chr14:122841518-122841931\n",
      "Adding 1344 Ns to chrX:158548541-158548877\n",
      "Adding 1344 Ns to chr13:116322194-116322505\n",
      "Adding 1344 Ns to chr17:88580245-88580604\n",
      "Adding 1344 Ns to chr17:94564715-94564922\n",
      "Adding 1344 Ns to chr17:90400508-90400851\n",
      "Adding 1344 Ns to chr17:83389585-83389781\n",
      "Adding 1344 Ns to chr17:90695624-90695908\n",
      "Adding 1344 Ns to chr17:86906180-86906483\n",
      "Adding 1344 Ns to chr17:85826065-85826659\n",
      "Adding 1344 Ns to chrX:160773053-160773919\n",
      "Adding 1344 Ns to chr17:84783273-84783422\n",
      "Adding 1344 Ns to chrX:167212859-167213047\n",
      "Adding 1344 Ns to chr17:88065544-88066748\n",
      "Adding 1344 Ns to chr16:96280645-96281320\n",
      "Adding 1344 Ns to chr14:123037714-123038449\n",
      "Adding 1344 Ns to chr14:122343383-122343671\n",
      "Adding 1344 Ns to chr17:86249872-86250932\n",
      "Adding 1344 Ns to chr19:59417972-59418603\n",
      "Adding 1344 Ns to chr17:83378490-83378804\n"
     ]
    },
    {
     "name": "stdout",
     "output_type": "stream",
     "text": [
      "process 38000 peaks takes 10.5 s\n"
     ]
    },
    {
     "name": "stderr",
     "output_type": "stream",
     "text": [
      "Adding 1344 Ns to chr17:86618580-86618897\n",
      "Adding 1344 Ns to chr17:93510170-93510534\n",
      "Adding 1344 Ns to chr16:93797882-93798953\n",
      "Adding 1344 Ns to chr17:86282781-86283444\n",
      "Adding 1344 Ns to chr17:83586907-83588183\n",
      "Adding 1344 Ns to chrX:158613913-158615039\n",
      "Adding 1344 Ns to chr16:90928660-90929378\n",
      "Adding 1344 Ns to chr16:92421362-92421628\n",
      "Adding 1344 Ns to chr18:89575798-89576058\n",
      "Adding 1344 Ns to chr19:59382864-59383078\n",
      "Adding 1344 Ns to chr18:83992489-83992735\n",
      "Adding 1344 Ns to chr14:107769381-107769641\n",
      "Adding 1344 Ns to chr14:116553303-116553723\n",
      "Adding 1344 Ns to chr14:120685216-120685842\n",
      "Adding 1344 Ns to chr15:102503391-102503613\n",
      "Adding 1344 Ns to chrX:167208997-167209366\n",
      "Adding 1344 Ns to chrX:158536245-158536628\n",
      "Adding 1344 Ns to chr16:97405412-97405975\n",
      "Adding 1344 Ns to chr18:80853266-80853807\n",
      "Adding 1344 Ns to chr17:87949004-87949307\n",
      "Adding 1344 Ns to chr18:89146180-89146416\n",
      "Adding 1344 Ns to chr18:82669896-82670045\n"
     ]
    },
    {
     "name": "stdout",
     "output_type": "stream",
     "text": [
      "process 39000 peaks takes 10.8 s\n"
     ]
    },
    {
     "name": "stderr",
     "output_type": "stream",
     "text": [
      "Adding 1344 Ns to chr17:86197124-86197514\n",
      "Adding 1344 Ns to chr16:92588633-92589024\n",
      "Adding 1344 Ns to chr18:81962130-81962358\n",
      "Adding 1344 Ns to chr18:89564374-89564656\n",
      "Adding 1344 Ns to chr17:86549160-86549347\n",
      "Adding 1344 Ns to chr16:94232525-94232716\n",
      "Adding 1344 Ns to chr17:84723923-84724403\n",
      "Adding 1344 Ns to chrX:161162410-161163182\n",
      "Adding 1344 Ns to chr16:94931283-94932417\n",
      "Adding 1344 Ns to chr13:119754341-119754610\n",
      "Adding 1344 Ns to chr14:116559174-116559444\n",
      "Adding 1344 Ns to chr18:80755062-80755265\n",
      "Adding 1344 Ns to chrX:163537353-163537643\n",
      "Adding 1344 Ns to chr16:95684879-95685213\n",
      "Adding 1344 Ns to chr17:84183461-84183811\n",
      "Adding 1344 Ns to chr14:121119342-121119598\n",
      "Adding 1344 Ns to chr16:97956574-97957060\n",
      "Adding 1344 Ns to chr14:117905444-117905832\n",
      "Adding 1344 Ns to chrX:164268984-164269998\n",
      "Adding 1344 Ns to chr18:82591757-82592709\n",
      "Adding 1344 Ns to chr16:95150452-95150893\n",
      "Adding 1344 Ns to chr18:89036563-89036955\n"
     ]
    },
    {
     "name": "stdout",
     "output_type": "stream",
     "text": [
      "process 40000 peaks takes 11.0 s\n"
     ]
    },
    {
     "name": "stderr",
     "output_type": "stream",
     "text": [
      "Adding 1344 Ns to chr18:82469937-82470418\n",
      "Adding 1344 Ns to chr14:123843693-123844039\n",
      "Adding 1344 Ns to chr19:60179338-60179832\n",
      "Adding 1344 Ns to chr14:117977171-117977420\n",
      "Adding 1344 Ns to chr16:90511345-90512145\n",
      "Adding 1344 Ns to chr17:84728904-84729260\n",
      "Adding 1344 Ns to chr18:82508232-82509040\n",
      "Adding 1344 Ns to chrX:161613350-161613593\n",
      "Adding 1344 Ns to chrX:157981822-157982250\n",
      "Adding 1344 Ns to chr13:117938971-117939399\n",
      "Adding 1344 Ns to chrX:157532392-157532541\n",
      "Adding 1344 Ns to chr16:96753780-96754199\n",
      "Adding 1344 Ns to chr17:93378926-93379091\n",
      "Adding 1344 Ns to chrX:165246957-165247314\n",
      "Adding 1344 Ns to chr17:86540582-86540897\n",
      "Adding 1344 Ns to chr18:85300688-85301352\n",
      "Adding 1344 Ns to chr17:90422387-90422579\n",
      "Adding 1344 Ns to chr14:120033683-120034200\n",
      "Adding 1344 Ns to chr14:120925967-120926650\n",
      "Adding 1344 Ns to chr14:114781150-114781597\n",
      "Adding 1344 Ns to chr18:86284033-86284228\n",
      "Adding 1344 Ns to chr17:84551241-84551667\n",
      "Adding 1344 Ns to chr17:86785329-86786310\n",
      "Adding 1344 Ns to chr18:84995959-84996316\n",
      "Adding 1344 Ns to chr17:86404679-86405304\n",
      "Adding 1344 Ns to chrX:159459329-159459891\n",
      "Adding 1344 Ns to chr16:94555931-94556437\n",
      "Adding 1344 Ns to chr18:83813304-83813542\n",
      "Adding 1344 Ns to chr14:120581629-120581894\n",
      "Adding 1344 Ns to chr17:90342621-90342780\n",
      "Adding 1344 Ns to chr16:96209911-96210133\n"
     ]
    },
    {
     "name": "stdout",
     "output_type": "stream",
     "text": [
      "process 41000 peaks takes 11.3 s\n"
     ]
    },
    {
     "name": "stderr",
     "output_type": "stream",
     "text": [
      "Adding 1344 Ns to chr14:117664408-117665182\n",
      "Adding 1344 Ns to chr18:80567581-80567843\n",
      "Adding 1344 Ns to chr16:92864331-92864525\n",
      "Adding 1344 Ns to chr15:102870924-102871301\n",
      "Adding 1344 Ns to chr17:92407789-92407938\n",
      "Adding 1344 Ns to chr16:96636049-96636362\n",
      "Adding 1344 Ns to chr17:86802372-86802636\n",
      "Adding 1344 Ns to chr14:122450967-122451365\n",
      "Adding 1344 Ns to chr18:82718486-82718974\n",
      "Adding 1344 Ns to chrX:165308139-165308507\n",
      "Adding 1344 Ns to chr14:123143492-123144069\n",
      "Adding 1344 Ns to chr17:93325659-93325874\n",
      "Adding 1344 Ns to chr14:119608276-119609023\n",
      "Adding 1344 Ns to chr15:102279148-102280249\n",
      "Adding 1344 Ns to chr14:123158766-123159055\n",
      "Adding 1344 Ns to chr16:95667866-95668337\n",
      "Adding 1344 Ns to chrX:158411100-158411618\n",
      "Adding 1344 Ns to chr17:87351655-87351936\n",
      "Adding 1344 Ns to chr18:82792800-82793152\n",
      "Adding 1344 Ns to chr16:96294978-96295261\n",
      "Adding 1344 Ns to chr14:118001210-118001985\n",
      "Adding 1344 Ns to chr17:83574654-83574973\n",
      "Adding 1344 Ns to chr17:85873963-85874585\n",
      "Adding 1344 Ns to chr18:87901623-87901880\n",
      "Adding 1344 Ns to chrX:162527301-162527627\n",
      "Adding 1344 Ns to chrX:169343270-169343577\n"
     ]
    },
    {
     "name": "stdout",
     "output_type": "stream",
     "text": [
      "process 42000 peaks takes 11.6 s\n"
     ]
    },
    {
     "name": "stderr",
     "output_type": "stream",
     "text": [
      "Adding 1344 Ns to chr18:82867731-82868079\n",
      "Adding 1344 Ns to chrX:159675081-159675316\n",
      "Adding 1344 Ns to chr16:90990042-90990798\n",
      "Adding 1344 Ns to chr14:120495557-120495706\n",
      "Adding 1344 Ns to chr17:87745040-87745724\n",
      "Adding 1344 Ns to chr17:84322210-84322490\n",
      "Adding 1344 Ns to chr14:121225474-121226219\n",
      "Adding 1344 Ns to chr15:102296004-102296504\n",
      "Adding 1344 Ns to chrX:164443542-164443709\n",
      "Adding 1344 Ns to chr17:86593821-86594130\n",
      "Adding 1344 Ns to chr19:60603033-60603696\n",
      "Adding 1344 Ns to chr16:94472215-94473474\n",
      "Adding 1344 Ns to chr17:85027384-85027620\n",
      "Adding 1344 Ns to chrX:167749206-167749803\n",
      "Adding 1344 Ns to chr17:85704380-85704644\n",
      "Adding 1344 Ns to chrX:167158644-167159004\n"
     ]
    },
    {
     "name": "stdout",
     "output_type": "stream",
     "text": [
      "process 43000 peaks takes 11.8 s\n"
     ]
    },
    {
     "name": "stderr",
     "output_type": "stream",
     "text": [
      "Adding 1344 Ns to chr19:59784436-59784934\n",
      "Adding 1344 Ns to chr14:119247947-119248677\n",
      "Adding 1344 Ns to chrX:163192429-163192834\n",
      "Adding 1344 Ns to chr14:117975122-117975323\n",
      "Adding 1344 Ns to chr15:103576723-103577330\n",
      "Adding 1344 Ns to chr14:123968009-123968330\n",
      "Adding 1344 Ns to chr14:122475772-122476299\n",
      "Adding 1344 Ns to chr17:87945237-87945702\n",
      "Adding 1344 Ns to chr18:88707382-88707532\n",
      "Adding 1344 Ns to chr16:95209637-95209988\n",
      "Adding 1344 Ns to chr16:96539157-96539432\n",
      "Adding 1344 Ns to chr16:91466523-91466835\n",
      "Adding 1344 Ns to chr17:90346767-90347049\n",
      "Adding 1344 Ns to chrX:162762122-162762386\n",
      "Adding 1344 Ns to chr17:90845662-90845858\n",
      "Adding 1344 Ns to chr14:112380586-112380809\n",
      "Adding 1344 Ns to chrX:167507517-167507916\n"
     ]
    },
    {
     "name": "stdout",
     "output_type": "stream",
     "text": [
      "process 44000 peaks takes 12.1 s\n"
     ]
    },
    {
     "name": "stderr",
     "output_type": "stream",
     "text": [
      "Adding 1344 Ns to chr14:109874271-109874510\n",
      "Adding 1344 Ns to chr13:114878688-114879137\n",
      "Adding 1344 Ns to chr16:94209635-94210145\n",
      "Adding 1344 Ns to chr15:103513539-103514005\n",
      "Adding 1344 Ns to chr14:109432546-109432983\n",
      "Adding 1344 Ns to chr17:88937639-88938098\n",
      "Adding 1344 Ns to chr14:123574743-123575320\n",
      "Adding 1344 Ns to chr16:91884875-91885267\n",
      "Adding 1344 Ns to chr18:86409120-86409320\n",
      "Adding 1344 Ns to chrX:161038725-161039109\n",
      "Adding 1344 Ns to chrX:159856611-159857315\n",
      "Adding 1344 Ns to chr17:87177181-87177536\n",
      "Adding 1344 Ns to chr16:94883741-94883921\n",
      "Adding 1344 Ns to chr18:82563185-82563334\n",
      "Adding 1344 Ns to chr17:87797656-87798312\n",
      "Adding 1344 Ns to chr15:103340814-103341181\n",
      "Adding 1344 Ns to chr17:83850596-83850793\n",
      "Adding 1344 Ns to chr18:81916109-81916698\n",
      "Adding 1344 Ns to chr15:103070120-103070390\n",
      "Adding 1344 Ns to chr16:96559654-96560188\n",
      "Adding 1344 Ns to chrX:157383057-157383480\n",
      "Adding 1344 Ns to chr18:84914312-84915258\n",
      "Adding 1344 Ns to chr15:102109159-102109587\n",
      "Adding 1344 Ns to chr17:86725040-86725415\n",
      "Adding 1344 Ns to chrX:166860484-166860847\n",
      "Adding 1344 Ns to chr16:92454039-92454287\n",
      "Adding 1344 Ns to chr14:121254776-121255389\n",
      "Adding 1344 Ns to chrX:169909994-169910261\n",
      "Adding 1344 Ns to chr17:83461605-83461853\n",
      "Adding 1344 Ns to chr17:89360106-89360470\n",
      "Adding 1344 Ns to chr14:122097811-122098480\n",
      "Adding 1344 Ns to chr18:80676740-80677112\n",
      "Adding 1344 Ns to chr19:60408340-60408938\n",
      "Adding 1344 Ns to chr17:85357796-85357991\n",
      "Adding 1344 Ns to chr18:82725782-82726246\n"
     ]
    },
    {
     "name": "stdout",
     "output_type": "stream",
     "text": [
      "process 45000 peaks takes 12.4 s\n"
     ]
    },
    {
     "name": "stderr",
     "output_type": "stream",
     "text": [
      "Adding 1344 Ns to chr15:103298027-103298335\n",
      "Adding 1344 Ns to chr16:91053711-91053975\n",
      "Adding 1344 Ns to chr17:90088067-90088665\n",
      "Adding 1344 Ns to chr17:83807969-83808329\n",
      "Adding 1344 Ns to chr17:90634849-90635401\n",
      "Adding 1344 Ns to chr17:85335385-85336277\n",
      "Adding 1344 Ns to chr19:61023987-61024392\n",
      "Adding 1344 Ns to chr17:86980458-86980691\n",
      "Adding 1344 Ns to chr14:121044232-121044438\n",
      "Adding 1344 Ns to chr17:90225726-90225978\n",
      "Adding 1344 Ns to chr14:122719168-122719414\n",
      "Adding 1344 Ns to chr17:90262455-90262614\n",
      "Adding 1344 Ns to chr16:94568940-94570159\n",
      "Adding 1344 Ns to chr18:84655730-84655908\n",
      "Adding 1344 Ns to chr17:84575158-84575428\n",
      "Adding 1344 Ns to chrX:168206890-168207467\n",
      "Adding 1344 Ns to chr18:86453749-86454110\n",
      "Adding 1344 Ns to chr16:92099991-92100549\n",
      "Adding 1344 Ns to chr18:84880357-84880961\n",
      "Adding 1344 Ns to chr17:86310352-86310669\n",
      "Adding 1344 Ns to chrX:163364832-163365178\n",
      "Adding 1344 Ns to chrX:156448832-156449349\n",
      "Adding 1344 Ns to chr17:86715848-86716082\n",
      "Adding 1344 Ns to chr16:91184500-91184919\n",
      "Adding 1344 Ns to chrX:167652017-167652746\n",
      "Adding 1344 Ns to chr17:84146012-84146164\n",
      "Adding 1344 Ns to chr14:119797275-119797787\n",
      "Adding 1344 Ns to chrX:166950933-166951377\n",
      "Adding 1344 Ns to chr16:90628939-90629674\n",
      "Adding 1344 Ns to chr18:88765170-88765607\n",
      "Adding 1344 Ns to chr13:117837604-117838003\n",
      "Adding 1344 Ns to chr18:86798652-86799193\n"
     ]
    },
    {
     "name": "stdout",
     "output_type": "stream",
     "text": [
      "process 46000 peaks takes 12.7 s\n"
     ]
    },
    {
     "name": "stderr",
     "output_type": "stream",
     "text": [
      "Adding 1344 Ns to chrX:161896778-161897116\n",
      "Adding 1344 Ns to chr19:59338415-59338721\n",
      "Adding 1344 Ns to chr17:85995725-85996083\n",
      "Adding 1344 Ns to chr13:114892063-114892535\n",
      "Adding 1344 Ns to chr17:86315034-86315422\n",
      "Adding 1344 Ns to chr16:92105010-92105307\n",
      "Adding 1344 Ns to chr16:91809311-91809733\n",
      "Adding 1344 Ns to chrX:167081420-167081670\n",
      "Adding 1344 Ns to chr14:123367817-123368023\n",
      "Adding 1344 Ns to chr14:117821770-117822117\n",
      "Adding 1344 Ns to chrX:160542780-160543248\n",
      "Adding 1344 Ns to chr16:97738098-97738354\n",
      "Adding 1344 Ns to chr14:121480110-121480429\n",
      "Adding 1344 Ns to chrX:160914112-160914662\n",
      "Adding 1344 Ns to chr15:103183185-103183548\n",
      "Adding 1344 Ns to chr15:103121347-103121805\n",
      "Adding 1344 Ns to chr18:82254174-82254534\n",
      "Adding 1344 Ns to chr17:84571644-84571950\n",
      "Adding 1344 Ns to chrX:157606118-157606553\n",
      "Adding 1344 Ns to chr14:121223751-121223973\n",
      "Adding 1344 Ns to chr13:114794222-114794436\n",
      "Adding 1344 Ns to chr17:90542630-90542875\n",
      "Adding 1344 Ns to chr16:97286577-97287150\n",
      "Adding 1344 Ns to chr18:84245850-84246362\n",
      "Adding 1344 Ns to chr17:87460663-87461016\n",
      "Adding 1344 Ns to chr17:84048402-84048874\n"
     ]
    },
    {
     "name": "stdout",
     "output_type": "stream",
     "text": [
      "process 47000 peaks takes 12.9 s\n"
     ]
    },
    {
     "name": "stderr",
     "output_type": "stream",
     "text": [
      "Adding 1344 Ns to chrX:160504041-160504401\n",
      "Adding 1344 Ns to chr14:117174903-117175115\n",
      "Adding 1344 Ns to chr18:82677125-82677734\n",
      "Adding 1344 Ns to chr15:102355946-102356375\n",
      "Adding 1344 Ns to chr14:121455478-121456008\n",
      "Adding 1344 Ns to chr14:108913878-108914332\n",
      "Adding 1344 Ns to chr14:119188070-119188457\n",
      "Adding 1344 Ns to chr13:119251970-119252358\n",
      "Adding 1344 Ns to chrX:159001183-159001369\n",
      "Adding 1344 Ns to chrX:168058196-168058421\n",
      "Adding 1344 Ns to chr14:120772296-120772609\n",
      "Adding 1344 Ns to chr18:84293664-84294306\n",
      "Adding 1344 Ns to chr14:120155632-120156445\n",
      "Adding 1344 Ns to chr18:80760672-80760866\n",
      "Adding 1344 Ns to chr18:88484834-88485169\n",
      "Adding 1344 Ns to chr15:103122399-103122821\n",
      "Adding 1344 Ns to chr14:116321672-116321850\n",
      "Adding 1344 Ns to chrX:167261900-167262106\n"
     ]
    },
    {
     "name": "stdout",
     "output_type": "stream",
     "text": [
      "process 48000 peaks takes 13.2 s\n"
     ]
    },
    {
     "name": "stderr",
     "output_type": "stream",
     "text": [
      "Adding 1344 Ns to chr17:86909853-86910257\n",
      "Adding 1344 Ns to chr17:83489114-83489390\n",
      "Adding 1344 Ns to chr16:96755066-96755514\n",
      "Adding 1344 Ns to chr14:123461073-123461236\n",
      "Adding 1344 Ns to chr17:91385878-91386443\n",
      "Adding 1344 Ns to chr17:84781248-84781494\n",
      "Adding 1344 Ns to chr17:88908729-88909258\n",
      "Adding 1344 Ns to chr17:83324315-83324686\n",
      "Adding 1344 Ns to chrX:166709825-166710231\n",
      "Adding 1344 Ns to chr17:91361335-91361603\n",
      "Adding 1344 Ns to chr17:84465690-84466581\n",
      "Adding 1344 Ns to chr17:86345193-86346112\n",
      "Adding 1344 Ns to chrX:158381130-158381476\n",
      "Adding 1344 Ns to chr14:117023020-117023406\n",
      "Adding 1344 Ns to chr13:114817889-114818421\n",
      "Adding 1344 Ns to chr18:83492004-83492371\n",
      "Adding 1344 Ns to chr16:95573053-95573611\n",
      "Adding 1344 Ns to chr16:92705675-92706189\n",
      "Adding 1344 Ns to chr14:121186991-121187259\n",
      "Adding 1344 Ns to chr16:92158120-92158307\n",
      "Adding 1344 Ns to chr15:102194377-102194796\n",
      "Adding 1344 Ns to chr17:83528217-83528437\n",
      "Adding 1344 Ns to chr14:120404296-120404676\n",
      "Adding 1344 Ns to chr15:102262513-102263049\n",
      "Adding 1344 Ns to chrX:164980076-164980815\n",
      "Adding 1344 Ns to chr17:88021213-88021959\n",
      "Adding 1344 Ns to chr19:60489587-60489914\n",
      "Adding 1344 Ns to chr16:95114028-95114225\n",
      "Adding 1344 Ns to chr17:84100515-84100967\n",
      "Adding 1344 Ns to chr16:91265976-91266251\n",
      "Adding 1344 Ns to chrX:159459054-159459292\n",
      "Adding 1344 Ns to chr14:111674507-111675022\n"
     ]
    },
    {
     "name": "stdout",
     "output_type": "stream",
     "text": [
      "process 49000 peaks takes 13.5 s\n"
     ]
    },
    {
     "name": "stderr",
     "output_type": "stream",
     "text": [
      "Adding 1344 Ns to chr15:103371387-103371711\n",
      "Adding 1344 Ns to chr16:96518813-96519219\n",
      "Adding 1344 Ns to chr16:90483295-90483823\n",
      "Adding 1344 Ns to chr17:88449568-88449722\n",
      "Adding 1344 Ns to chr16:96345132-96345479\n",
      "Adding 1344 Ns to chrX:164801722-164801991\n",
      "Adding 1344 Ns to chr14:120487569-120487853\n",
      "Adding 1344 Ns to chr15:102013638-102013970\n",
      "Adding 1344 Ns to chrX:166316034-166316300\n",
      "Adding 1344 Ns to chrX:166323065-166323637\n",
      "Adding 1344 Ns to chr17:93597998-93598803\n",
      "Adding 1344 Ns to chr17:86663114-86663295\n",
      "Adding 1344 Ns to chr16:95525815-95526195\n",
      "Adding 1344 Ns to chr16:91785168-91785418\n",
      "Adding 1344 Ns to chr13:117707355-117707797\n",
      "Adding 1344 Ns to chr14:116543637-116544101\n",
      "Adding 1344 Ns to chr14:121749757-121750098\n",
      "Adding 1344 Ns to chrX:166393036-166393332\n",
      "Adding 1344 Ns to chr14:119702938-119703608\n",
      "Adding 1344 Ns to chrX:158976494-158976747\n",
      "Adding 1344 Ns to chrX:162636893-162637133\n",
      "Adding 1344 Ns to chr14:122957818-122958385\n",
      "Adding 1344 Ns to chr15:102256834-102257976\n",
      "Adding 1344 Ns to chr19:58680217-58680621\n"
     ]
    },
    {
     "name": "stdout",
     "output_type": "stream",
     "text": [
      "process 50000 peaks takes 13.7 s\n"
     ]
    },
    {
     "name": "stderr",
     "output_type": "stream",
     "text": [
      "Adding 1344 Ns to chr14:109582981-109583611\n",
      "Adding 1344 Ns to chrX:160603831-160604795\n",
      "Adding 1344 Ns to chr14:118908902-118909284\n",
      "Adding 1344 Ns to chrX:166732989-166733355\n",
      "Adding 1344 Ns to chr16:94885041-94885590\n",
      "Adding 1344 Ns to chr14:116948223-116948593\n",
      "Adding 1344 Ns to chr19:58761623-58762033\n",
      "Adding 1344 Ns to chr16:97897605-97897865\n",
      "Adding 1344 Ns to chrX:158632425-158632869\n",
      "Adding 1344 Ns to chrX:161854000-161854210\n",
      "Adding 1344 Ns to chr14:121148137-121148442\n",
      "Adding 1344 Ns to chr14:121107861-121108238\n",
      "Adding 1344 Ns to chr16:95740131-95740403\n",
      "Adding 1344 Ns to chr17:93263202-93263421\n",
      "Adding 1344 Ns to chr19:59922329-59922584\n",
      "Adding 1344 Ns to chr16:96938896-96939202\n",
      "Adding 1344 Ns to chr18:85187985-85188348\n",
      "Adding 1344 Ns to chrX:157079641-157079940\n",
      "Adding 1344 Ns to chr17:83527688-83527857\n",
      "Adding 1344 Ns to chr16:96753077-96753610\n",
      "Adding 1344 Ns to chr16:96304532-96304792\n",
      "Adding 1344 Ns to chr16:92605598-92606087\n",
      "Adding 1344 Ns to chr15:103239286-103240518\n",
      "Adding 1344 Ns to chr14:117892055-117892416\n",
      "Adding 1344 Ns to chr14:124502159-124502542\n",
      "Adding 1344 Ns to chr17:89960324-89960942\n",
      "Adding 1344 Ns to chr16:91882193-91882564\n",
      "Adding 1344 Ns to chr14:124598278-124598729\n"
     ]
    },
    {
     "name": "stdout",
     "output_type": "stream",
     "text": [
      "process 51000 peaks takes 14.0 s\n"
     ]
    },
    {
     "name": "stderr",
     "output_type": "stream",
     "text": [
      "Adding 1344 Ns to chr17:84600272-84600850\n",
      "Adding 1344 Ns to chr18:84999288-84999664\n",
      "Adding 1344 Ns to chr19:58750657-58751213\n",
      "Adding 1344 Ns to chr14:124596892-124597142\n",
      "Adding 1344 Ns to chr15:103013593-103013813\n",
      "Adding 1344 Ns to chr19:58953312-58953495\n",
      "Adding 1344 Ns to chrX:158833048-158833524\n",
      "Adding 1344 Ns to chr17:87540387-87540536\n",
      "Adding 1344 Ns to chr18:82012242-82012438\n",
      "Adding 1344 Ns to chr15:103457965-103458122\n",
      "Adding 1344 Ns to chr16:92291269-92291526\n",
      "Adding 1344 Ns to chrX:162540910-162541145\n",
      "Adding 1344 Ns to chr19:58843706-58843952\n",
      "Adding 1344 Ns to chr13:119780192-119780587\n",
      "Adding 1344 Ns to chr14:113441289-113441480\n",
      "Adding 1344 Ns to chr16:96540914-96541316\n",
      "Adding 1344 Ns to chr14:114556818-114557275\n",
      "Adding 1344 Ns to chr18:84230715-84230991\n",
      "Adding 1344 Ns to chr14:121878085-121878819\n",
      "Adding 1344 Ns to chrX:159215201-159215931\n",
      "Adding 1344 Ns to chrX:162397548-162398016\n",
      "Adding 1344 Ns to chr17:91430802-91431172\n"
     ]
    },
    {
     "name": "stdout",
     "output_type": "stream",
     "text": [
      "process 52000 peaks takes 14.3 s\n"
     ]
    },
    {
     "name": "stderr",
     "output_type": "stream",
     "text": [
      "Adding 1344 Ns to chr18:90310185-90310581\n",
      "Adding 1344 Ns to chr15:102524435-102524701\n",
      "Adding 1344 Ns to chr14:119489017-119489713\n",
      "Adding 1344 Ns to chrX:162470294-162470658\n",
      "Adding 1344 Ns to chrX:168639450-168640031\n",
      "Adding 1344 Ns to chr17:84642043-84642831\n",
      "Adding 1344 Ns to chr14:117267924-117268132\n",
      "Adding 1344 Ns to chr14:123043107-123043505\n",
      "Adding 1344 Ns to chr13:114848979-114849327\n",
      "Adding 1344 Ns to chr18:82765183-82765604\n",
      "Adding 1344 Ns to chr16:90372201-90372403\n",
      "Adding 1344 Ns to chr17:86218602-86218798\n",
      "Adding 1344 Ns to chr14:117241740-117241969\n",
      "Adding 1344 Ns to chr14:108741359-108741686\n",
      "Adding 1344 Ns to chr17:90509143-90509606\n",
      "Adding 1344 Ns to chrX:158655970-158656251\n",
      "Adding 1344 Ns to chr18:84951904-84952388\n",
      "Adding 1344 Ns to chr18:89786336-89786671\n",
      "Adding 1344 Ns to chr15:102743295-102743499\n",
      "Adding 1344 Ns to chr17:84142891-84143193\n",
      "Adding 1344 Ns to chr14:117903961-117904125\n",
      "Adding 1344 Ns to chr18:80858316-80859073\n",
      "Adding 1344 Ns to chr16:94289087-94289645\n",
      "Adding 1344 Ns to chr13:114478521-114478818\n"
     ]
    },
    {
     "name": "stdout",
     "output_type": "stream",
     "text": [
      "process 53000 peaks takes 14.5 s\n"
     ]
    },
    {
     "name": "stderr",
     "output_type": "stream",
     "text": [
      "Adding 1344 Ns to chr15:103248661-103248840\n",
      "Adding 1344 Ns to chrX:160835636-160835922\n",
      "Adding 1344 Ns to chrX:162901209-162902697\n",
      "Adding 1344 Ns to chrX:166238767-166239226\n",
      "Adding 1344 Ns to chr13:118091638-118091910\n",
      "Adding 1344 Ns to chr14:108744060-108744368\n",
      "Adding 1344 Ns to chr14:111631072-111631350\n",
      "Adding 1344 Ns to chr14:117890662-117891206\n",
      "Adding 1344 Ns to chr15:102740014-102740249\n",
      "Adding 1344 Ns to chr17:85045806-85045977\n",
      "Adding 1344 Ns to chr15:102596203-102596472\n",
      "Adding 1344 Ns to chrX:169123219-169123451\n",
      "Adding 1344 Ns to chr15:103233103-103233608\n",
      "Adding 1344 Ns to chr19:60437620-60438313\n",
      "Adding 1344 Ns to chr18:88782173-88782818\n",
      "Adding 1344 Ns to chrX:160137782-160138761\n",
      "Adding 1344 Ns to chr14:114833069-114833285\n",
      "Adding 1344 Ns to chr17:87826892-87827373\n",
      "Adding 1344 Ns to chrX:162915734-162916043\n",
      "Adding 1344 Ns to chr14:122599944-122600111\n",
      "Adding 1344 Ns to chr19:60195695-60196027\n",
      "Adding 1344 Ns to chr17:83460619-83461099\n",
      "Adding 1344 Ns to chr16:92770122-92770387\n",
      "Adding 1344 Ns to chrX:167798583-167798772\n",
      "Adding 1344 Ns to chr18:80738927-80739217\n",
      "Adding 1344 Ns to chr18:84916868-84917141\n",
      "Adding 1344 Ns to chr18:83636241-83636538\n"
     ]
    },
    {
     "name": "stdout",
     "output_type": "stream",
     "text": [
      "process 54000 peaks takes 14.8 s\n"
     ]
    },
    {
     "name": "stderr",
     "output_type": "stream",
     "text": [
      "Adding 1344 Ns to chr16:93186585-93187044\n",
      "Adding 1344 Ns to chr17:90963297-90963492\n",
      "Adding 1344 Ns to chr17:86296536-86296751\n",
      "Adding 1344 Ns to chr18:86394632-86395737\n",
      "Adding 1344 Ns to chr14:124195535-124196148\n",
      "Adding 1344 Ns to chrX:157709201-157709842\n",
      "Adding 1344 Ns to chr16:94890132-94890432\n",
      "Adding 1344 Ns to chr17:86986515-86986782\n",
      "Adding 1344 Ns to chr18:81038829-81038995\n",
      "Adding 1344 Ns to chr14:120466899-120467115\n",
      "Adding 1344 Ns to chr17:84646479-84647244\n",
      "Adding 1344 Ns to chr17:86801251-86801630\n",
      "Adding 1344 Ns to chr14:120423450-120423756\n",
      "Adding 1344 Ns to chr17:88274075-88275372\n",
      "Adding 1344 Ns to chrX:167988027-167988461\n",
      "Adding 1344 Ns to chr18:89179399-89179902\n",
      "Adding 1344 Ns to chr18:83962403-83962711\n",
      "Adding 1344 Ns to chr17:86639361-86639660\n",
      "Adding 1344 Ns to chr18:84685332-84686111\n",
      "Adding 1344 Ns to chr18:89263474-89263842\n",
      "Adding 1344 Ns to chr13:118386578-118387617\n"
     ]
    },
    {
     "name": "stdout",
     "output_type": "stream",
     "text": [
      "process 55000 peaks takes 15.1 s\n"
     ]
    },
    {
     "name": "stderr",
     "output_type": "stream",
     "text": [
      "Adding 1344 Ns to chr15:102129455-102129767\n",
      "Adding 1344 Ns to chr14:121736493-121736828\n",
      "Adding 1344 Ns to chr18:84087339-84088329\n",
      "Adding 1344 Ns to chr16:97073972-97074197\n",
      "Adding 1344 Ns to chr17:89581271-89581723\n",
      "Adding 1344 Ns to chr17:93217644-93218181\n",
      "Adding 1344 Ns to chr14:117951147-117951626\n",
      "Adding 1344 Ns to chr14:120522070-120522312\n",
      "Adding 1344 Ns to chr14:122721724-122722073\n",
      "Adding 1344 Ns to chr16:94769118-94769370\n",
      "Adding 1344 Ns to chr16:94477692-94477899\n",
      "Adding 1344 Ns to chr16:90992344-90992493\n",
      "Adding 1344 Ns to chr16:96091159-96092149\n",
      "Adding 1344 Ns to chr15:102651178-102651514\n",
      "Adding 1344 Ns to chr16:93935292-93935544\n",
      "Adding 1344 Ns to chr14:119747248-119747738\n",
      "Adding 1344 Ns to chrX:169056251-169056500\n",
      "Adding 1344 Ns to chr17:84713543-84714119\n",
      "Adding 1344 Ns to chr18:84851055-84851553\n",
      "Adding 1344 Ns to chr14:123513383-123513737\n",
      "Adding 1344 Ns to chr19:60614165-60614377\n",
      "Adding 1344 Ns to chr14:114528673-114528918\n",
      "Adding 1344 Ns to chrX:161739341-161739536\n"
     ]
    },
    {
     "name": "stdout",
     "output_type": "stream",
     "text": [
      "process 56000 peaks takes 15.3 s\n"
     ]
    },
    {
     "name": "stderr",
     "output_type": "stream",
     "text": [
      "Adding 1344 Ns to chr14:116926250-116927245\n",
      "Adding 1344 Ns to chr17:86754148-86754430\n",
      "Adding 1344 Ns to chr17:90195368-90195610\n",
      "Adding 1344 Ns to chr17:90659488-90659822\n",
      "Adding 1344 Ns to chr14:116237939-116238299\n",
      "Adding 1344 Ns to chrX:162556158-162556837\n",
      "Adding 1344 Ns to chrX:168013503-168013881\n",
      "Adding 1344 Ns to chr18:82989227-82989611\n",
      "Adding 1344 Ns to chr13:117687714-117688170\n",
      "Adding 1344 Ns to chr17:84362933-84363247\n",
      "Adding 1344 Ns to chrX:166457992-166458196\n",
      "Adding 1344 Ns to chr14:121734217-121734528\n",
      "Adding 1344 Ns to chr17:87142336-87142793\n",
      "Adding 1344 Ns to chr17:84419693-84420298\n",
      "Adding 1344 Ns to chr15:103500703-103501071\n",
      "Adding 1344 Ns to chr14:117246099-117246326\n",
      "Adding 1344 Ns to chr14:122146372-122146721\n",
      "Adding 1344 Ns to chr16:97441360-97441742\n",
      "Adding 1344 Ns to chr17:86913188-86913746\n",
      "Adding 1344 Ns to chr17:86970948-86971395\n"
     ]
    },
    {
     "name": "stdout",
     "output_type": "stream",
     "text": [
      "process 57000 peaks takes 15.6 s\n"
     ]
    },
    {
     "name": "stderr",
     "output_type": "stream",
     "text": [
      "Adding 1344 Ns to chr18:83362214-83362365\n",
      "Adding 1344 Ns to chrX:169115371-169115572\n",
      "Adding 1344 Ns to chr14:115240990-115241392\n",
      "Adding 1344 Ns to chr17:86967119-86967336\n",
      "Adding 1344 Ns to chrX:169772369-169772599\n",
      "Adding 1344 Ns to chr18:81838948-81839356\n",
      "Adding 1344 Ns to chr14:117958242-117959091\n",
      "Adding 1344 Ns to chr16:94411213-94411629\n",
      "Adding 1344 Ns to chrX:159271632-159271781\n",
      "Adding 1344 Ns to chr16:91081493-91081895\n",
      "Adding 1344 Ns to chr16:97439063-97439274\n",
      "Adding 1344 Ns to chr17:88545824-88546112\n",
      "Adding 1344 Ns to chr16:94586193-94586610\n",
      "Adding 1344 Ns to chr13:117676395-117676988\n",
      "Adding 1344 Ns to chr17:87459374-87460583\n",
      "Adding 1344 Ns to chr16:92013225-92013766\n",
      "Adding 1344 Ns to chr15:103530388-103530752\n",
      "Adding 1344 Ns to chr14:121738357-121739025\n",
      "Adding 1344 Ns to chr14:114587446-114587808\n",
      "Adding 1344 Ns to chr17:90435478-90436505\n",
      "Adding 1344 Ns to chr14:124400913-124401134\n",
      "Adding 1344 Ns to chr16:94660125-94660649\n",
      "Adding 1344 Ns to chr19:59388313-59388720\n",
      "Adding 1344 Ns to chr17:85944398-85944826\n",
      "Adding 1344 Ns to chrX:160749943-160750557\n",
      "Adding 1344 Ns to chr18:80802500-80803008\n"
     ]
    },
    {
     "name": "stdout",
     "output_type": "stream",
     "text": [
      "process 58000 peaks takes 15.9 s\n"
     ]
    },
    {
     "name": "stderr",
     "output_type": "stream",
     "text": [
      "Adding 1344 Ns to chr16:90746525-90746786\n",
      "Adding 1344 Ns to chr14:124289349-124289682\n",
      "Adding 1344 Ns to chr17:86411897-86412103\n",
      "Adding 1344 Ns to chr14:108356437-108356931\n",
      "Adding 1344 Ns to chr14:121865245-121865511\n",
      "Adding 1344 Ns to chrX:157920086-157920595\n",
      "Adding 1344 Ns to chr16:92402164-92402476\n",
      "Adding 1344 Ns to chr16:96684669-96684903\n",
      "Adding 1344 Ns to chr17:90454166-90454630\n",
      "Adding 1344 Ns to chr14:119209354-119210047\n",
      "Adding 1344 Ns to chrX:167769853-167770250\n",
      "Adding 1344 Ns to chr16:97192348-97192566\n",
      "Adding 1344 Ns to chr17:88325863-88326715\n",
      "Adding 1344 Ns to chr17:84181718-84181967\n",
      "Adding 1344 Ns to chr18:80838037-80838391\n",
      "Adding 1344 Ns to chr16:91442414-91442718\n",
      "Adding 1344 Ns to chr13:117880603-117880978\n",
      "Adding 1344 Ns to chr15:103473043-103473681\n",
      "Adding 1344 Ns to chr14:122854057-122854344\n",
      "Adding 1344 Ns to chr16:94570452-94570832\n",
      "Adding 1344 Ns to chr17:84713110-84713491\n",
      "Adding 1344 Ns to chr13:117877917-117878218\n",
      "Adding 1344 Ns to chr16:95825751-95826034\n",
      "Adding 1344 Ns to chr16:90955697-90955937\n",
      "Adding 1344 Ns to chrX:169377727-169377964\n",
      "Adding 1344 Ns to chr17:90584747-90585754\n",
      "Adding 1344 Ns to chrX:157714045-157714727\n",
      "Adding 1344 Ns to chr14:119145121-119145777\n",
      "Adding 1344 Ns to chrX:164041949-164042526\n",
      "Adding 1344 Ns to chr16:90624028-90624320\n"
     ]
    },
    {
     "name": "stdout",
     "output_type": "stream",
     "text": [
      "process 59000 peaks takes 16.1 s\n"
     ]
    },
    {
     "name": "stderr",
     "output_type": "stream",
     "text": [
      "Adding 1344 Ns to chr17:83600889-83601563\n",
      "Adding 1344 Ns to chr19:60765721-60765873\n",
      "Adding 1344 Ns to chr18:85582543-85582875\n",
      "Adding 1344 Ns to chr14:119558419-119559244\n",
      "Adding 1344 Ns to chr17:86040349-86040611\n",
      "Adding 1344 Ns to chr15:102302400-102302962\n",
      "Adding 1344 Ns to chr14:109081295-109081618\n",
      "Adding 1344 Ns to chr16:97250940-97251213\n",
      "Adding 1344 Ns to chr18:83732269-83732490\n",
      "Adding 1344 Ns to chr14:121742236-121742504\n",
      "Adding 1344 Ns to chrX:162645776-162646017\n",
      "Adding 1344 Ns to chr15:103182050-103182703\n",
      "Adding 1344 Ns to chrX:165765610-165766013\n",
      "Adding 1344 Ns to chr17:83859790-83860132\n",
      "Adding 1344 Ns to chr16:92991439-92991805\n",
      "Adding 1344 Ns to chr16:94882021-94882566\n",
      "Adding 1344 Ns to chrX:166214320-166215111\n",
      "Adding 1344 Ns to chr16:94866578-94866985\n",
      "Adding 1344 Ns to chr17:83277371-83278121\n",
      "Adding 1344 Ns to chr16:96915644-96915966\n",
      "Adding 1344 Ns to chr17:83552615-83553064\n",
      "Adding 1344 Ns to chr18:85241532-85241848\n"
     ]
    },
    {
     "name": "stdout",
     "output_type": "stream",
     "text": [
      "process 0 peaks takes 0.3 s\n"
     ]
    },
    {
     "name": "stderr",
     "output_type": "stream",
     "text": [
      "Adding 1344 Ns to chr18:84239069-84239366\n",
      "Adding 1344 Ns to chr16:96634036-96634605\n",
      "Adding 1344 Ns to chr14:114543947-114544289\n",
      "Adding 1344 Ns to chr19:60837757-60838224\n",
      "Adding 1344 Ns to chr16:95802202-95803187\n",
      "Adding 1344 Ns to chr16:96740059-96740867\n",
      "Adding 1344 Ns to chrX:166243320-166243601\n",
      "Adding 1344 Ns to chr14:117426018-117426505\n",
      "Adding 1344 Ns to chr16:97602238-97602636\n",
      "Adding 1344 Ns to chr17:86121797-86121958\n",
      "Adding 1344 Ns to chr16:93379653-93379993\n",
      "Adding 1344 Ns to chr16:96498835-96499587\n",
      "Adding 1344 Ns to chr17:91046350-91046577\n",
      "Adding 1344 Ns to chrX:166147363-166147823\n",
      "Adding 1344 Ns to chrX:168020875-168021059\n",
      "Adding 1344 Ns to chr14:117767336-117767590\n",
      "Adding 1344 Ns to chr16:95334041-95334529\n",
      "Adding 1344 Ns to chr18:80408619-80408797\n",
      "Adding 1344 Ns to chr14:122436808-122437146\n",
      "Adding 1344 Ns to chr14:109434108-109434544\n",
      "Adding 1344 Ns to chr17:86135646-86136316\n",
      "Adding 1344 Ns to chr19:59394006-59394662\n",
      "Adding 1344 Ns to chrX:159291697-159291977\n",
      "Adding 1344 Ns to chr17:87477650-87478047\n"
     ]
    },
    {
     "name": "stdout",
     "output_type": "stream",
     "text": [
      "process 1000 peaks takes 0.6 s\n"
     ]
    },
    {
     "name": "stderr",
     "output_type": "stream",
     "text": [
      "Adding 1344 Ns to chr16:92435440-92436086\n",
      "Adding 1344 Ns to chr16:92432381-92432997\n",
      "Adding 1344 Ns to chr17:89974422-89974677\n",
      "Adding 1344 Ns to chr14:112248113-112248574\n",
      "Adding 1344 Ns to chr16:95225097-95226141\n",
      "Adding 1344 Ns to chr16:92478541-92478850\n",
      "Adding 1344 Ns to chr16:94640919-94641083\n",
      "Adding 1344 Ns to chr16:91743130-91743331\n",
      "Adding 1344 Ns to chr15:102246325-102248150\n",
      "Adding 1344 Ns to chr13:114845728-114846069\n",
      "Adding 1344 Ns to chr16:90608092-90608574\n",
      "Adding 1344 Ns to chr18:83067060-83067446\n",
      "Adding 1344 Ns to chr16:95602549-95602837\n",
      "Adding 1344 Ns to chr14:122181373-122182099\n",
      "Adding 1344 Ns to chr17:86791213-86791613\n",
      "Adding 1344 Ns to chr15:102316329-102316565\n",
      "Adding 1344 Ns to chr16:93766949-93767346\n",
      "Adding 1344 Ns to chr16:93202726-93202906\n",
      "Adding 1344 Ns to chr17:90130124-90130401\n",
      "Adding 1344 Ns to chr16:90946567-90946829\n",
      "Adding 1344 Ns to chr17:84642993-84643493\n",
      "Adding 1344 Ns to chr14:121254077-121254285\n",
      "Adding 1344 Ns to chr14:119203327-119203944\n",
      "Adding 1344 Ns to chr16:96039263-96039897\n",
      "Adding 1344 Ns to chr14:120830278-120830861\n",
      "Adding 1344 Ns to chr14:122858061-122858387\n"
     ]
    },
    {
     "name": "stdout",
     "output_type": "stream",
     "text": [
      "process 2000 peaks takes 0.8 s\n"
     ]
    },
    {
     "name": "stderr",
     "output_type": "stream",
     "text": [
      "Adding 1344 Ns to chr14:115095601-115095882\n",
      "Adding 1344 Ns to chr18:88924387-88924987\n",
      "Adding 1344 Ns to chrX:166843919-166844277\n",
      "Adding 1344 Ns to chr16:93981206-93981742\n",
      "Adding 1344 Ns to chr16:92314125-92314607\n",
      "Adding 1344 Ns to chr18:82396685-82397533\n",
      "Adding 1344 Ns to chr19:60196179-60196390\n",
      "Adding 1344 Ns to chr18:82599487-82600223\n",
      "Adding 1344 Ns to chr18:86442676-86443089\n",
      "Adding 1344 Ns to chr17:89089944-89090349\n",
      "Adding 1344 Ns to chr17:83783374-83783642\n",
      "Adding 1344 Ns to chr14:121165320-121166216\n",
      "Adding 1344 Ns to chr17:87571328-87571979\n",
      "Adding 1344 Ns to chr14:122060659-122061223\n",
      "Adding 1344 Ns to chr14:124003402-124003763\n"
     ]
    },
    {
     "name": "stdout",
     "output_type": "stream",
     "text": [
      "process 3000 peaks takes 1.1 s\n"
     ]
    },
    {
     "name": "stderr",
     "output_type": "stream",
     "text": [
      "Adding 1344 Ns to chr17:86380385-86380657\n",
      "Adding 1344 Ns to chr14:109257197-109257710\n",
      "Adding 1344 Ns to chr14:108994590-108994849\n",
      "Adding 1344 Ns to chr13:117012118-117012364\n",
      "Adding 1344 Ns to chr16:92450362-92450866\n",
      "Adding 1344 Ns to chr14:121322574-121323155\n",
      "Adding 1344 Ns to chr14:109699955-109700147\n",
      "Adding 1344 Ns to chr17:90809216-90809710\n",
      "Adding 1344 Ns to chr14:117931060-117931832\n",
      "Adding 1344 Ns to chr14:114912288-114912585\n",
      "Adding 1344 Ns to chr13:117074482-117074676\n",
      "Adding 1344 Ns to chr18:83086048-83086378\n",
      "Adding 1344 Ns to chrX:167014486-167014781\n",
      "Adding 1344 Ns to chr14:119708138-119708473\n",
      "Adding 1344 Ns to chr17:84763130-84763505\n",
      "Adding 1344 Ns to chrX:160619284-160619879\n",
      "Adding 1344 Ns to chrX:160583623-160584108\n",
      "Adding 1344 Ns to chrX:167331861-167332128\n",
      "Adding 1344 Ns to chr16:95436550-95436951\n",
      "Adding 1344 Ns to chr17:84987100-84987320\n",
      "Adding 1344 Ns to chr13:116976288-116976681\n",
      "Adding 1344 Ns to chrX:167552808-167553320\n",
      "Adding 1344 Ns to chr15:103136533-103136783\n",
      "Adding 1344 Ns to chr16:94845785-94846122\n",
      "Adding 1344 Ns to chr14:110146206-110146473\n",
      "Adding 1344 Ns to chr14:120669606-120670213\n",
      "Adding 1344 Ns to chr16:94730894-94731411\n"
     ]
    },
    {
     "name": "stdout",
     "output_type": "stream",
     "text": [
      "process 4000 peaks takes 1.4 s\n"
     ]
    },
    {
     "name": "stderr",
     "output_type": "stream",
     "text": [
      "Adding 1344 Ns to chr17:94194504-94194900\n",
      "Adding 1344 Ns to chr14:119820577-119820851\n",
      "Adding 1344 Ns to chr17:88251957-88252365\n",
      "Adding 1344 Ns to chr19:58704455-58704968\n",
      "Adding 1344 Ns to chr14:123353035-123353287\n",
      "Adding 1344 Ns to chr14:111485578-111485998\n",
      "Adding 1344 Ns to chr14:118883381-118883670\n",
      "Adding 1344 Ns to chr13:117079330-117079603\n",
      "Adding 1344 Ns to chr13:115852770-115853250\n",
      "Adding 1344 Ns to chr17:94730541-94730769\n",
      "Adding 1344 Ns to chr14:120632755-120633140\n",
      "Adding 1344 Ns to chr18:82750935-82751683\n",
      "Adding 1344 Ns to chr14:117930591-117930998\n",
      "Adding 1344 Ns to chrX:158180326-158180889\n",
      "Adding 1344 Ns to chr14:111096205-111096653\n",
      "Adding 1344 Ns to chrX:157781257-157781459\n",
      "Adding 1344 Ns to chr13:114378980-114379598\n",
      "Adding 1344 Ns to chr16:97144549-97144850\n",
      "Adding 1344 Ns to chr17:90859238-90859525\n",
      "Adding 1344 Ns to chr14:124536323-124536490\n",
      "Adding 1344 Ns to chr17:90138253-90138474\n",
      "Adding 1344 Ns to chr16:96857583-96857958\n",
      "Adding 1344 Ns to chr14:113470018-113470595\n",
      "Adding 1344 Ns to chr13:119712299-119712887\n",
      "Adding 1344 Ns to chr17:90759908-90760378\n",
      "Adding 1344 Ns to chr14:123371512-123371848\n",
      "Adding 1344 Ns to chr16:91443260-91443738\n",
      "Adding 1344 Ns to chr18:89012934-89013150\n",
      "Adding 1344 Ns to chr18:84618616-84618807\n",
      "Adding 1344 Ns to chrX:166225524-166226014\n",
      "Adding 1344 Ns to chr14:124409436-124409600\n"
     ]
    },
    {
     "name": "stdout",
     "output_type": "stream",
     "text": [
      "process 5000 peaks takes 1.7 s\n"
     ]
    },
    {
     "name": "stderr",
     "output_type": "stream",
     "text": [
      "Adding 1344 Ns to chrX:166665338-166665649\n",
      "Adding 1344 Ns to chr14:120953506-120953722\n",
      "Adding 1344 Ns to chr14:117408508-117408792\n",
      "Adding 1344 Ns to chr16:96493365-96493684\n",
      "Adding 1344 Ns to chr15:102217364-102217750\n",
      "Adding 1344 Ns to chr17:83481632-83481964\n",
      "Adding 1344 Ns to chr14:121604187-121604339\n",
      "Adding 1344 Ns to chr15:102325923-102326865\n",
      "Adding 1344 Ns to chr14:114981206-114981429\n",
      "Adding 1344 Ns to chr16:95815408-95816109\n",
      "Adding 1344 Ns to chr13:119337945-119338198\n",
      "Adding 1344 Ns to chr18:82901953-82902187\n",
      "Adding 1344 Ns to chrX:161030321-161030573\n",
      "Adding 1344 Ns to chr18:82104969-82105492\n",
      "Adding 1344 Ns to chrX:164437758-164438129\n",
      "Adding 1344 Ns to chr14:110130577-110130983\n",
      "Adding 1344 Ns to chr18:84397209-84397431\n",
      "Adding 1344 Ns to chr17:92542189-92542867\n",
      "Adding 1344 Ns to chr14:118676433-118677049\n",
      "Adding 1344 Ns to chr14:116208947-116209610\n",
      "Adding 1344 Ns to chr18:88468558-88469114\n"
     ]
    },
    {
     "name": "stdout",
     "output_type": "stream",
     "text": [
      "process 6000 peaks takes 1.9 s\n"
     ]
    },
    {
     "name": "stderr",
     "output_type": "stream",
     "text": [
      "Adding 1344 Ns to chr19:58838574-58839170\n",
      "Adding 1344 Ns to chr17:84999713-85000105\n",
      "Adding 1344 Ns to chr14:115641875-115642345\n",
      "Adding 1344 Ns to chr14:108180503-108180728\n",
      "Adding 1344 Ns to chr18:85289061-85289510\n",
      "Adding 1344 Ns to chr13:114458509-114459359\n",
      "Adding 1344 Ns to chr17:85062855-85063193\n",
      "Adding 1344 Ns to chr18:86407581-86407762\n",
      "Adding 1344 Ns to chr18:90545830-90546033\n",
      "Adding 1344 Ns to chr18:83450926-83451308\n",
      "Adding 1344 Ns to chr18:86187292-86187621\n",
      "Adding 1344 Ns to chrX:157818621-157818887\n",
      "Adding 1344 Ns to chr15:102673575-102673931\n",
      "Adding 1344 Ns to chrX:156594839-156595234\n",
      "Adding 1344 Ns to chr13:119768512-119769143\n",
      "Adding 1344 Ns to chrX:166660873-166662240\n",
      "Adding 1344 Ns to chr15:102746128-102747300\n",
      "Adding 1344 Ns to chr14:108370690-108370952\n",
      "Adding 1344 Ns to chr16:92158474-92159340\n",
      "Adding 1344 Ns to chrX:168649311-168649801\n",
      "Adding 1344 Ns to chr17:90558273-90558694\n",
      "Adding 1344 Ns to chr14:116276888-116277150\n",
      "Adding 1344 Ns to chr17:84669732-84670092\n",
      "Adding 1344 Ns to chr16:97526926-97527345\n",
      "Adding 1344 Ns to chr16:97875817-97876139\n",
      "Adding 1344 Ns to chr14:116377382-116377666\n",
      "Adding 1344 Ns to chr15:103258309-103258804\n",
      "Adding 1344 Ns to chr16:91280600-91280975\n"
     ]
    },
    {
     "name": "stdout",
     "output_type": "stream",
     "text": [
      "process 7000 peaks takes 2.2 s\n"
     ]
    },
    {
     "name": "stderr",
     "output_type": "stream",
     "text": [
      "Adding 1344 Ns to chrX:161926468-161926944\n",
      "Adding 1344 Ns to chrX:165767889-165768198\n",
      "Adding 1344 Ns to chr14:122061422-122061676\n",
      "Adding 1344 Ns to chr18:81575609-81575758\n",
      "Adding 1344 Ns to chr18:84086315-84086872\n",
      "Adding 1344 Ns to chr17:91956041-91956246\n",
      "Adding 1344 Ns to chr14:121248319-121248667\n",
      "Adding 1344 Ns to chr16:96528446-96528879\n",
      "Adding 1344 Ns to chr17:84247477-84247839\n",
      "Adding 1344 Ns to chr17:91159505-91159693\n",
      "Adding 1344 Ns to chr14:123301066-123301330\n",
      "Adding 1344 Ns to chrX:166307717-166308220\n",
      "Adding 1344 Ns to chr16:95382263-95382934\n",
      "Adding 1344 Ns to chr18:88770552-88770799\n",
      "Adding 1344 Ns to chr17:90040742-90040922\n",
      "Adding 1344 Ns to chr16:95748974-95749781\n",
      "Adding 1344 Ns to chr14:109840463-109840643\n",
      "Adding 1344 Ns to chr16:90852840-90853053\n",
      "Adding 1344 Ns to chr14:118922278-118922467\n",
      "Adding 1344 Ns to chr13:116883112-116883408\n",
      "Adding 1344 Ns to chrX:166803292-166803908\n",
      "Adding 1344 Ns to chr18:89443289-89443600\n",
      "Adding 1344 Ns to chr16:91741078-91741300\n",
      "Adding 1344 Ns to chr18:84133839-84134501\n",
      "Adding 1344 Ns to chr17:90668013-90668227\n",
      "Adding 1344 Ns to chrX:157829970-157830581\n",
      "Adding 1344 Ns to chr16:94070985-94071184\n",
      "Adding 1344 Ns to chr19:58728388-58729058\n",
      "Adding 1344 Ns to chr16:93259415-93259637\n",
      "Adding 1344 Ns to chr15:102648561-102649322\n",
      "Adding 1344 Ns to chr18:85752829-85753115\n",
      "Adding 1344 Ns to chr14:121589374-121589702\n",
      "Adding 1344 Ns to chr19:58810533-58810937\n"
     ]
    },
    {
     "name": "stdout",
     "output_type": "stream",
     "text": [
      "process 8000 peaks takes 2.5 s\n"
     ]
    },
    {
     "name": "stderr",
     "output_type": "stream",
     "text": [
      "Adding 1344 Ns to chr14:120338202-120338591\n",
      "Adding 1344 Ns to chr17:94255523-94256070\n",
      "Adding 1344 Ns to chr16:97953633-97953791\n",
      "Adding 1344 Ns to chr16:90421103-90421580\n",
      "Adding 1344 Ns to chr14:118956473-118956826\n",
      "Adding 1344 Ns to chr13:114387388-114388221\n",
      "Adding 1344 Ns to chr16:96127216-96128495\n",
      "Adding 1344 Ns to chr16:96901235-96901656\n",
      "Adding 1344 Ns to chr16:94045032-94045375\n",
      "Adding 1344 Ns to chr18:86540192-86540426\n",
      "Adding 1344 Ns to chr17:90176594-90176893\n",
      "Adding 1344 Ns to chr17:88637030-88637357\n",
      "Adding 1344 Ns to chr18:80729299-80729696\n",
      "Adding 1344 Ns to chr16:92785378-92785611\n",
      "Adding 1344 Ns to chr15:102038641-102038922\n",
      "Adding 1344 Ns to chr14:117992412-117992839\n",
      "Adding 1344 Ns to chr17:92949158-92949482\n",
      "Adding 1344 Ns to chr17:89450747-89451028\n",
      "Adding 1344 Ns to chr16:93369121-93370158\n",
      "Adding 1344 Ns to chr13:118031049-118031558\n",
      "Adding 1344 Ns to chr13:115477833-115478143\n",
      "Adding 1344 Ns to chr14:124222533-124222828\n",
      "Adding 1344 Ns to chr16:90497615-90498173\n",
      "Adding 1344 Ns to chr17:87206736-87207434\n",
      "Adding 1344 Ns to chrX:167208430-167208691\n",
      "Adding 1344 Ns to chr17:90775338-90775776\n",
      "Adding 1344 Ns to chr18:83278440-83278690\n"
     ]
    },
    {
     "name": "stdout",
     "output_type": "stream",
     "text": [
      "process 9000 peaks takes 2.7 s\n"
     ]
    },
    {
     "name": "stderr",
     "output_type": "stream",
     "text": [
      "Adding 1344 Ns to chr16:94834505-94834976\n",
      "Adding 1344 Ns to chr14:122130429-122130891\n",
      "Adding 1344 Ns to chr17:87129589-87129757\n",
      "Adding 1344 Ns to chr13:114604131-114604690\n",
      "Adding 1344 Ns to chrX:160153527-160153914\n",
      "Adding 1344 Ns to chr15:102374095-102374364\n",
      "Adding 1344 Ns to chr17:91738886-91739344\n",
      "Adding 1344 Ns to chr14:120374794-120375430\n",
      "Adding 1344 Ns to chr14:115173803-115174192\n",
      "Adding 1344 Ns to chr14:121100880-121101197\n",
      "Adding 1344 Ns to chr17:91076888-91077081\n",
      "Adding 1344 Ns to chr13:117347016-117347187\n",
      "Adding 1344 Ns to chr16:95794234-95794607\n",
      "Adding 1344 Ns to chr18:88464451-88464890\n",
      "Adding 1344 Ns to chr13:118347891-118348107\n",
      "Adding 1344 Ns to chr13:115101481-115101661\n",
      "Adding 1344 Ns to chr17:87249188-87249501\n",
      "Adding 1344 Ns to chr14:118321041-118321476\n",
      "Adding 1344 Ns to chr18:86290401-86290744\n",
      "Adding 1344 Ns to chr17:85700024-85700395\n",
      "Adding 1344 Ns to chr17:88858663-88859064\n",
      "Adding 1344 Ns to chr19:59252942-59253146\n",
      "Adding 1344 Ns to chr18:83639019-83639277\n"
     ]
    },
    {
     "name": "stdout",
     "output_type": "stream",
     "text": [
      "process 10000 peaks takes 3.0 s\n"
     ]
    },
    {
     "name": "stderr",
     "output_type": "stream",
     "text": [
      "Adding 1344 Ns to chr16:97669914-97670442\n",
      "Adding 1344 Ns to chr17:83724983-83725176\n",
      "Adding 1344 Ns to chr17:90039317-90039619\n",
      "Adding 1344 Ns to chr14:118538636-118538910\n",
      "Adding 1344 Ns to chrX:164401638-164402191\n",
      "Adding 1344 Ns to chrX:162698971-162699193\n",
      "Adding 1344 Ns to chrX:160796211-160796772\n",
      "Adding 1344 Ns to chr14:121303277-121304060\n",
      "Adding 1344 Ns to chr14:122662650-122662818\n",
      "Adding 1344 Ns to chr17:86500176-86500325\n",
      "Adding 1344 Ns to chr18:83006048-83006326\n",
      "Adding 1344 Ns to chr17:87377652-87377978\n",
      "Adding 1344 Ns to chr14:113012367-113012920\n",
      "Adding 1344 Ns to chrX:163644037-163644186\n",
      "Adding 1344 Ns to chr17:85311362-85311724\n",
      "Adding 1344 Ns to chrX:157089583-157089732\n",
      "Adding 1344 Ns to chr14:107080576-107080767\n",
      "Adding 1344 Ns to chr17:84859062-84859300\n",
      "Adding 1344 Ns to chr14:115362244-115362435\n",
      "Adding 1344 Ns to chr17:87360966-87361883\n",
      "Adding 1344 Ns to chr18:82684826-82685264\n",
      "Adding 1344 Ns to chrX:163663892-163664086\n",
      "Adding 1344 Ns to chr15:102105503-102105748\n",
      "Adding 1344 Ns to chr14:122912792-122913535\n",
      "Adding 1344 Ns to chr16:93883376-93884181\n",
      "Adding 1344 Ns to chr19:59529869-59530385\n",
      "Adding 1344 Ns to chrX:167714607-167714872\n",
      "Adding 1344 Ns to chr17:88558270-88558806\n",
      "Adding 1344 Ns to chrX:162380695-162381085\n",
      "Adding 1344 Ns to chr18:84030247-84030772\n"
     ]
    },
    {
     "name": "stdout",
     "output_type": "stream",
     "text": [
      "process 11000 peaks takes 3.3 s\n"
     ]
    },
    {
     "name": "stderr",
     "output_type": "stream",
     "text": [
      "Adding 1344 Ns to chrX:157673964-157674534\n",
      "Adding 1344 Ns to chr17:89197249-89197617\n",
      "Adding 1344 Ns to chr15:103576007-103576195\n",
      "Adding 1344 Ns to chr16:97297050-97297636\n",
      "Adding 1344 Ns to chr19:58798659-58798981\n",
      "Adding 1344 Ns to chr14:120141150-120141729\n",
      "Adding 1344 Ns to chr17:94040716-94041225\n",
      "Adding 1344 Ns to chr14:119215668-119216284\n",
      "Adding 1344 Ns to chrX:164013278-164013427\n",
      "Adding 1344 Ns to chr16:90942456-90942687\n",
      "Adding 1344 Ns to chrX:164436752-164437099\n",
      "Adding 1344 Ns to chrX:159701074-159701481\n",
      "Adding 1344 Ns to chr18:85134679-85134851\n",
      "Adding 1344 Ns to chr18:88703144-88703482\n",
      "Adding 1344 Ns to chr18:90509571-90509801\n",
      "Adding 1344 Ns to chrX:159365951-159366117\n",
      "Adding 1344 Ns to chrX:161653224-161653549\n",
      "Adding 1344 Ns to chr16:95814476-95815178\n",
      "Adding 1344 Ns to chr16:92890855-92891240\n",
      "Adding 1344 Ns to chr16:91282658-91282903\n",
      "Adding 1344 Ns to chr17:90926273-90926623\n",
      "Adding 1344 Ns to chr13:117946825-117947241\n",
      "Adding 1344 Ns to chrX:164367666-164367852\n"
     ]
    },
    {
     "name": "stdout",
     "output_type": "stream",
     "text": [
      "process 12000 peaks takes 3.5 s\n"
     ]
    },
    {
     "name": "stderr",
     "output_type": "stream",
     "text": [
      "Adding 1344 Ns to chr17:84273575-84273729\n",
      "Adding 1344 Ns to chr16:96278756-96279247\n",
      "Adding 1344 Ns to chr14:117571961-117572779\n",
      "Adding 1344 Ns to chr18:84855324-84855611\n",
      "Adding 1344 Ns to chr16:91233428-91234146\n",
      "Adding 1344 Ns to chr16:94435873-94436229\n",
      "Adding 1344 Ns to chr18:80609659-80609854\n",
      "Adding 1344 Ns to chr14:120755209-120755716\n",
      "Adding 1344 Ns to chr16:94348890-94349039\n",
      "Adding 1344 Ns to chr17:83830734-83831277\n",
      "Adding 1344 Ns to chr16:94624898-94625261\n",
      "Adding 1344 Ns to chrX:165188417-165188963\n",
      "Adding 1344 Ns to chr17:90749500-90749953\n",
      "Adding 1344 Ns to chr17:83907580-83908087\n",
      "Adding 1344 Ns to chr18:83872137-83872368\n",
      "Adding 1344 Ns to chr18:83796222-83796773\n",
      "Adding 1344 Ns to chr17:85116718-85116951\n",
      "Adding 1344 Ns to chrX:158394105-158395039\n",
      "Adding 1344 Ns to chr14:119780194-119780459\n",
      "Adding 1344 Ns to chr13:117605039-117605340\n",
      "Adding 1344 Ns to chr14:108658589-108658992\n",
      "Adding 1344 Ns to chr14:118796005-118796515\n",
      "Adding 1344 Ns to chr16:92739992-92740531\n",
      "Adding 1344 Ns to chr14:112891566-112891997\n",
      "Adding 1344 Ns to chr17:83941750-83942085\n",
      "Adding 1344 Ns to chr18:85871049-85871655\n",
      "Adding 1344 Ns to chr14:124470864-124471610\n",
      "Adding 1344 Ns to chr17:89119279-89120296\n",
      "Adding 1344 Ns to chr18:84671775-84672148\n",
      "Adding 1344 Ns to chr16:94792609-94792887\n"
     ]
    },
    {
     "name": "stdout",
     "output_type": "stream",
     "text": [
      "process 13000 peaks takes 3.8 s\n"
     ]
    },
    {
     "name": "stderr",
     "output_type": "stream",
     "text": [
      "Adding 1344 Ns to chrX:163848593-163849094\n",
      "Adding 1344 Ns to chr16:96695939-96696315\n",
      "Adding 1344 Ns to chrX:167276448-167277284\n",
      "Adding 1344 Ns to chr13:118104683-118104846\n",
      "Adding 1344 Ns to chr16:96034357-96034937\n",
      "Adding 1344 Ns to chr16:95446579-95446754\n",
      "Adding 1344 Ns to chrX:164856150-164856308\n",
      "Adding 1344 Ns to chr14:121278989-121279508\n",
      "Adding 1344 Ns to chr18:84796905-84797327\n",
      "Adding 1344 Ns to chr16:96782893-96783352\n",
      "Adding 1344 Ns to chr16:95558457-95558841\n",
      "Adding 1344 Ns to chr18:84098130-84098429\n",
      "Adding 1344 Ns to chrX:163908416-163909298\n",
      "Adding 1344 Ns to chr17:84279679-84279955\n",
      "Adding 1344 Ns to chrX:166952558-166952845\n",
      "Adding 1344 Ns to chr14:124028384-124028615\n",
      "Adding 1344 Ns to chrX:162399047-162399385\n",
      "Adding 1344 Ns to chr14:121295406-121295717\n",
      "Adding 1344 Ns to chr16:94301508-94302012\n",
      "Adding 1344 Ns to chr16:96021780-96022056\n",
      "Adding 1344 Ns to chr13:116517115-116517274\n"
     ]
    },
    {
     "name": "stdout",
     "output_type": "stream",
     "text": [
      "process 14000 peaks takes 4.1 s\n"
     ]
    },
    {
     "name": "stderr",
     "output_type": "stream",
     "text": [
      "Adding 1344 Ns to chr17:83267311-83268299\n",
      "Adding 1344 Ns to chr18:81928173-81928407\n",
      "Adding 1344 Ns to chrX:168277996-168278346\n",
      "Adding 1344 Ns to chr14:117360176-117360578\n",
      "Adding 1344 Ns to chr19:58911456-58911762\n",
      "Adding 1344 Ns to chr14:120029758-120030287\n",
      "Adding 1344 Ns to chr16:94956535-94956801\n",
      "Adding 1344 Ns to chr14:121188233-121188457\n",
      "Adding 1344 Ns to chrX:159704481-159704871\n",
      "Adding 1344 Ns to chrX:165897592-165898054\n",
      "Adding 1344 Ns to chr14:110782905-110783226\n",
      "Adding 1344 Ns to chr18:81796945-81797168\n",
      "Adding 1344 Ns to chrX:169923522-169923721\n",
      "Adding 1344 Ns to chrX:158675847-158676161\n",
      "Adding 1344 Ns to chrX:159626979-159627846\n",
      "Adding 1344 Ns to chr16:92994923-92995310\n",
      "Adding 1344 Ns to chr14:120310786-120311001\n",
      "Adding 1344 Ns to chr18:85569533-85569845\n",
      "Adding 1344 Ns to chrX:159171201-159171431\n",
      "Adding 1344 Ns to chr14:120261648-120262040\n",
      "Adding 1344 Ns to chrX:162759824-162760562\n",
      "Adding 1344 Ns to chr14:122494573-122494909\n",
      "Adding 1344 Ns to chr13:117722152-117722397\n",
      "Adding 1344 Ns to chr13:116969645-116970197\n",
      "Adding 1344 Ns to chr17:91137418-91137780\n",
      "Adding 1344 Ns to chrX:160921619-160921954\n",
      "Adding 1344 Ns to chr16:92023566-92023751\n",
      "Adding 1344 Ns to chr19:61140479-61141195\n",
      "Adding 1344 Ns to chr14:120163136-120163548\n",
      "Adding 1344 Ns to chr16:95831544-95832621\n",
      "Adding 1344 Ns to chr17:94269709-94270259\n",
      "Adding 1344 Ns to chr14:121124393-121124981\n"
     ]
    },
    {
     "name": "stdout",
     "output_type": "stream",
     "text": [
      "process 15000 peaks takes 4.3 s\n"
     ]
    },
    {
     "name": "stderr",
     "output_type": "stream",
     "text": [
      "Adding 1344 Ns to chr14:116747210-116747718\n",
      "Adding 1344 Ns to chr15:102624973-102625832\n",
      "Adding 1344 Ns to chr14:119306490-119306940\n",
      "Adding 1344 Ns to chr15:103360266-103360573\n",
      "Adding 1344 Ns to chr16:97153873-97154342\n",
      "Adding 1344 Ns to chr16:90388955-90389534\n",
      "Adding 1344 Ns to chr17:87745834-87746687\n",
      "Adding 1344 Ns to chr13:119631591-119632138\n",
      "Adding 1344 Ns to chr17:86177607-86177824\n",
      "Adding 1344 Ns to chr14:118709607-118710176\n",
      "Adding 1344 Ns to chr17:90892313-90892748\n",
      "Adding 1344 Ns to chrX:162589446-162589764\n",
      "Adding 1344 Ns to chr13:116995392-116995669\n",
      "Adding 1344 Ns to chr14:111793848-111794214\n",
      "Adding 1344 Ns to chr14:120061173-120061413\n",
      "Adding 1344 Ns to chr17:88581506-88582067\n",
      "Adding 1344 Ns to chr16:91885649-91885798\n",
      "Adding 1344 Ns to chr14:118392185-118392494\n",
      "Adding 1344 Ns to chr13:119702880-119703116\n",
      "Adding 1344 Ns to chr17:87502684-87503024\n",
      "Adding 1344 Ns to chr14:119153111-119153439\n",
      "Adding 1344 Ns to chr17:84989492-84989988\n",
      "Adding 1344 Ns to chr17:86466716-86466978\n",
      "Adding 1344 Ns to chr18:83674485-83674740\n",
      "Adding 1344 Ns to chrX:166691083-166691619\n",
      "Adding 1344 Ns to chrX:169813676-169814083\n",
      "Adding 1344 Ns to chr15:102807425-102807882\n",
      "Adding 1344 Ns to chr14:112230251-112230927\n",
      "Adding 1344 Ns to chrX:169228597-169228746\n",
      "Adding 1344 Ns to chr14:120499553-120499788\n",
      "Adding 1344 Ns to chr16:96235387-96236065\n"
     ]
    },
    {
     "name": "stdout",
     "output_type": "stream",
     "text": [
      "process 16000 peaks takes 4.6 s\n"
     ]
    },
    {
     "name": "stderr",
     "output_type": "stream",
     "text": [
      "Adding 1344 Ns to chr18:84730522-84730875\n",
      "Adding 1344 Ns to chrX:167640727-167641233\n",
      "Adding 1344 Ns to chr14:120762844-120763136\n",
      "Adding 1344 Ns to chrX:159799718-159799933\n",
      "Adding 1344 Ns to chr17:94287887-94288133\n",
      "Adding 1344 Ns to chr17:85872980-85873254\n",
      "Adding 1344 Ns to chr13:114584678-114585038\n",
      "Adding 1344 Ns to chr16:95073114-95073345\n",
      "Adding 1344 Ns to chr14:113826253-113826636\n",
      "Adding 1344 Ns to chrX:160669952-160670425\n",
      "Adding 1344 Ns to chr16:94888591-94888756\n",
      "Adding 1344 Ns to chr14:108982464-108982782\n",
      "Adding 1344 Ns to chr16:90609734-90609992\n",
      "Adding 1344 Ns to chr17:86228786-86229252\n",
      "Adding 1344 Ns to chr18:86490708-86491013\n",
      "Adding 1344 Ns to chr14:113613716-113614169\n",
      "Adding 1344 Ns to chr13:117224573-117225103\n",
      "Adding 1344 Ns to chr14:111996235-111996629\n",
      "Adding 1344 Ns to chr18:82547296-82547546\n"
     ]
    },
    {
     "name": "stdout",
     "output_type": "stream",
     "text": [
      "process 17000 peaks takes 4.9 s\n"
     ]
    },
    {
     "name": "stderr",
     "output_type": "stream",
     "text": [
      "Adding 1344 Ns to chrX:166440131-166441091\n",
      "Adding 1344 Ns to chrX:160116751-160117067\n",
      "Adding 1344 Ns to chr17:93104483-93104925\n",
      "Adding 1344 Ns to chr14:113422999-113423345\n",
      "Adding 1344 Ns to chr16:90351723-90352181\n",
      "Adding 1344 Ns to chrX:166892563-166892757\n",
      "Adding 1344 Ns to chrX:167523231-167523457\n",
      "Adding 1344 Ns to chr17:86609316-86609484\n",
      "Adding 1344 Ns to chr14:119901231-119901874\n",
      "Adding 1344 Ns to chr17:90506546-90506738\n",
      "Adding 1344 Ns to chr16:92364644-92364901\n",
      "Adding 1344 Ns to chr17:90818026-90818206\n",
      "Adding 1344 Ns to chr13:115089763-115090674\n",
      "Adding 1344 Ns to chr18:90229061-90229427\n",
      "Adding 1344 Ns to chr14:123529998-123530379\n",
      "Adding 1344 Ns to chr18:88750611-88750850\n",
      "Adding 1344 Ns to chr14:120993367-120993561\n",
      "Adding 1344 Ns to chr19:59336204-59336644\n",
      "Adding 1344 Ns to chr14:112388344-112388841\n",
      "Adding 1344 Ns to chr14:111822073-111822749\n",
      "Adding 1344 Ns to chr16:93750527-93750924\n",
      "Adding 1344 Ns to chr17:87866762-87867302\n",
      "Adding 1344 Ns to chr14:116193822-116194258\n",
      "Adding 1344 Ns to chrX:157451685-157451900\n",
      "Adding 1344 Ns to chr16:94425584-94425917\n"
     ]
    },
    {
     "name": "stdout",
     "output_type": "stream",
     "text": [
      "process 18000 peaks takes 5.1 s\n"
     ]
    },
    {
     "name": "stderr",
     "output_type": "stream",
     "text": [
      "Adding 1344 Ns to chr18:88911389-88911704\n",
      "Adding 1344 Ns to chr16:94208792-94209190\n",
      "Adding 1344 Ns to chr16:95701792-95702795\n",
      "Adding 1344 Ns to chr14:119953144-119953776\n",
      "Adding 1344 Ns to chr19:58893318-58893820\n",
      "Adding 1344 Ns to chrX:160619992-160620142\n",
      "Adding 1344 Ns to chr17:87446617-87447605\n",
      "Adding 1344 Ns to chr17:94735493-94735774\n",
      "Adding 1344 Ns to chr14:110956840-110957120\n",
      "Adding 1344 Ns to chr16:97842610-97842810\n",
      "Adding 1344 Ns to chrX:167305568-167305825\n",
      "Adding 1344 Ns to chr16:90666199-90666999\n",
      "Adding 1344 Ns to chrX:167518091-167518819\n",
      "Adding 1344 Ns to chr17:86122280-86122740\n",
      "Adding 1344 Ns to chrX:157736514-157736854\n",
      "Adding 1344 Ns to chr13:119790505-119791641\n",
      "Adding 1344 Ns to chr16:96025199-96025837\n",
      "Adding 1344 Ns to chr14:114866403-114866910\n",
      "Adding 1344 Ns to chrX:162462073-162462593\n",
      "Adding 1344 Ns to chr13:116712291-116712579\n",
      "Adding 1344 Ns to chr16:90424111-90424346\n",
      "Adding 1344 Ns to chrX:169408429-169408741\n",
      "Adding 1344 Ns to chr14:108998867-108999208\n",
      "Adding 1344 Ns to chr14:117255453-117255795\n",
      "Adding 1344 Ns to chr14:120467432-120468281\n",
      "Adding 1344 Ns to chr17:84709520-84709805\n",
      "Adding 1344 Ns to chr18:82624274-82624476\n",
      "Adding 1344 Ns to chr14:108178907-108179152\n",
      "Adding 1344 Ns to chr17:84256378-84256848\n",
      "Adding 1344 Ns to chr15:102797206-102797619\n",
      "Adding 1344 Ns to chr16:93436775-93437048\n",
      "Adding 1344 Ns to chr14:118889886-118890582\n",
      "Adding 1344 Ns to chrX:167886096-167886496\n"
     ]
    },
    {
     "name": "stdout",
     "output_type": "stream",
     "text": [
      "process 19000 peaks takes 5.4 s\n"
     ]
    },
    {
     "name": "stderr",
     "output_type": "stream",
     "text": [
      "Adding 1344 Ns to chr17:86559289-86559514\n",
      "Adding 1344 Ns to chr17:85473045-85473645\n",
      "Adding 1344 Ns to chr15:102458860-102459370\n",
      "Adding 1344 Ns to chr16:92246467-92246691\n",
      "Adding 1344 Ns to chr13:117710887-117711164\n",
      "Adding 1344 Ns to chr13:119640474-119641043\n",
      "Adding 1344 Ns to chrX:169837965-169838267\n",
      "Adding 1344 Ns to chr16:94125049-94125858\n",
      "Adding 1344 Ns to chr17:86962329-86962720\n",
      "Adding 1344 Ns to chr14:118915121-118915460\n",
      "Adding 1344 Ns to chrX:160808428-160808684\n",
      "Adding 1344 Ns to chr18:80777542-80777984\n",
      "Adding 1344 Ns to chr14:122104762-122105227\n",
      "Adding 1344 Ns to chrX:158714996-158715289\n",
      "Adding 1344 Ns to chr14:118970756-118971233\n",
      "Adding 1344 Ns to chrX:159817548-159818001\n",
      "Adding 1344 Ns to chrX:164417910-164418369\n",
      "Adding 1344 Ns to chr17:85121776-85122263\n",
      "Adding 1344 Ns to chr15:102685274-102685595\n",
      "Adding 1344 Ns to chr14:114851062-114851211\n",
      "Adding 1344 Ns to chr18:89179050-89179327\n"
     ]
    },
    {
     "name": "stdout",
     "output_type": "stream",
     "text": [
      "process 20000 peaks takes 5.7 s\n"
     ]
    },
    {
     "name": "stderr",
     "output_type": "stream",
     "text": [
      "Adding 1344 Ns to chr16:90741021-90741241\n",
      "Adding 1344 Ns to chr17:88981085-88981323\n",
      "Adding 1344 Ns to chrX:157840877-157841340\n",
      "Adding 1344 Ns to chr14:121963639-121963923\n",
      "Adding 1344 Ns to chr17:89591190-89591365\n",
      "Adding 1344 Ns to chrX:161142286-161142721\n",
      "Adding 1344 Ns to chr16:96406403-96406692\n",
      "Adding 1344 Ns to chr17:88329791-88330132\n",
      "Adding 1344 Ns to chr16:92720833-92721131\n",
      "Adding 1344 Ns to chr16:92340974-92341591\n",
      "Adding 1344 Ns to chr18:80764929-80765185\n",
      "Adding 1344 Ns to chr14:114032437-114032836\n",
      "Adding 1344 Ns to chr14:119310307-119310717\n",
      "Adding 1344 Ns to chr18:86724105-86724308\n",
      "Adding 1344 Ns to chrX:168659833-168660126\n",
      "Adding 1344 Ns to chr16:93673406-93673696\n",
      "Adding 1344 Ns to chr18:88092483-88092918\n",
      "Adding 1344 Ns to chr16:94401961-94402611\n",
      "Adding 1344 Ns to chr16:95484040-95484360\n",
      "Adding 1344 Ns to chr17:90629644-90630271\n",
      "Adding 1344 Ns to chr15:103552145-103552415\n",
      "Adding 1344 Ns to chr18:88748388-88748598\n",
      "Adding 1344 Ns to chr16:91720982-91721441\n",
      "Adding 1344 Ns to chr14:113689199-113689494\n",
      "Adding 1344 Ns to chrX:165193641-165193890\n"
     ]
    },
    {
     "name": "stdout",
     "output_type": "stream",
     "text": [
      "process 21000 peaks takes 5.9 s\n"
     ]
    },
    {
     "name": "stderr",
     "output_type": "stream",
     "text": [
      "Adding 1344 Ns to chr14:114425475-114425963\n",
      "Adding 1344 Ns to chr14:117813436-117813932\n",
      "Adding 1344 Ns to chr17:86819459-86819725\n",
      "Adding 1344 Ns to chr17:90382356-90382901\n",
      "Adding 1344 Ns to chrX:166809150-166809786\n",
      "Adding 1344 Ns to chr13:120193148-120193355\n",
      "Adding 1344 Ns to chr16:90970976-90971369\n",
      "Adding 1344 Ns to chr15:102203244-102204438\n",
      "Adding 1344 Ns to chr16:92696647-92696995\n",
      "Adding 1344 Ns to chr16:91222323-91222847\n",
      "Adding 1344 Ns to chrX:162642444-162642629\n",
      "Adding 1344 Ns to chrX:158835017-158835332\n",
      "Adding 1344 Ns to chr17:91031026-91031369\n",
      "Adding 1344 Ns to chr18:80987298-80987524\n",
      "Adding 1344 Ns to chr19:59759913-59760198\n",
      "Adding 1344 Ns to chr17:84096382-84096970\n",
      "Adding 1344 Ns to chr17:94553261-94553677\n",
      "Adding 1344 Ns to chr18:86711184-86711865\n",
      "Adding 1344 Ns to chr16:91632279-91632827\n",
      "Adding 1344 Ns to chr17:88440206-88441133\n",
      "Adding 1344 Ns to chrX:164339821-164340043\n",
      "Adding 1344 Ns to chr18:82654168-82654787\n",
      "Adding 1344 Ns to chrX:166384935-166385162\n",
      "Adding 1344 Ns to chr16:94250309-94251427\n",
      "Adding 1344 Ns to chr14:119172086-119172244\n",
      "Adding 1344 Ns to chr14:120675768-120676153\n",
      "Adding 1344 Ns to chr16:91839453-91839714\n"
     ]
    },
    {
     "name": "stdout",
     "output_type": "stream",
     "text": [
      "process 22000 peaks takes 6.2 s\n"
     ]
    },
    {
     "name": "stderr",
     "output_type": "stream",
     "text": [
      "Adding 1344 Ns to chr18:81252130-81252592\n",
      "Adding 1344 Ns to chr14:123511966-123512325\n",
      "Adding 1344 Ns to chr14:113468993-113469558\n",
      "Adding 1344 Ns to chr14:118212737-118213124\n",
      "Adding 1344 Ns to chr14:115475293-115475681\n",
      "Adding 1344 Ns to chr18:83290654-83291127\n",
      "Adding 1344 Ns to chr17:90704745-90705233\n",
      "Adding 1344 Ns to chr14:122643381-122643737\n",
      "Adding 1344 Ns to chr18:83075732-83076113\n",
      "Adding 1344 Ns to chr14:121535847-121536210\n",
      "Adding 1344 Ns to chr17:86371030-86371440\n",
      "Adding 1344 Ns to chr14:117975536-117975698\n",
      "Adding 1344 Ns to chr16:90550138-90550604\n",
      "Adding 1344 Ns to chr15:103506483-103506768\n",
      "Adding 1344 Ns to chr17:87405605-87405933\n",
      "Adding 1344 Ns to chr16:94034501-94034823\n",
      "Adding 1344 Ns to chr14:121099987-121100299\n",
      "Adding 1344 Ns to chr19:60184101-60184452\n",
      "Adding 1344 Ns to chr16:96996956-96997186\n",
      "Adding 1344 Ns to chr13:119341929-119342185\n",
      "Adding 1344 Ns to chr16:96023125-96023318\n",
      "Adding 1344 Ns to chr16:97850563-97852468\n",
      "Adding 1344 Ns to chr18:89695031-89695282\n",
      "Adding 1344 Ns to chr17:90556958-90557325\n",
      "Adding 1344 Ns to chr14:120053102-120053335\n",
      "Adding 1344 Ns to chr19:59316632-59316902\n",
      "Adding 1344 Ns to chr16:91579311-91579780\n",
      "Adding 1344 Ns to chr14:118591526-118592190\n",
      "Adding 1344 Ns to chr19:60121388-60121569\n"
     ]
    },
    {
     "name": "stdout",
     "output_type": "stream",
     "text": [
      "process 23000 peaks takes 6.4 s\n"
     ]
    },
    {
     "name": "stderr",
     "output_type": "stream",
     "text": [
      "Adding 1344 Ns to chr18:84967706-84968180\n",
      "Adding 1344 Ns to chr17:88936747-88936913\n",
      "Adding 1344 Ns to chr18:88098016-88098319\n",
      "Adding 1344 Ns to chr14:119720513-119720879\n",
      "Adding 1344 Ns to chr14:114774539-114775338\n",
      "Adding 1344 Ns to chr17:88919585-88919970\n",
      "Adding 1344 Ns to chr14:117246874-117247119\n",
      "Adding 1344 Ns to chr16:94899329-94899729\n",
      "Adding 1344 Ns to chr17:88103319-88103525\n",
      "Adding 1344 Ns to chr17:87691956-87692309\n",
      "Adding 1344 Ns to chr14:117407888-117408371\n",
      "Adding 1344 Ns to chr14:117826713-117827158\n",
      "Adding 1344 Ns to chrX:166365868-166366736\n",
      "Adding 1344 Ns to chr19:58993325-58993517\n",
      "Adding 1344 Ns to chr18:89391618-89392029\n",
      "Adding 1344 Ns to chr16:91639605-91639987\n",
      "Adding 1344 Ns to chr17:85292272-85292887\n",
      "Adding 1344 Ns to chr14:124634779-124635324\n",
      "Adding 1344 Ns to chr13:117406215-117406514\n",
      "Adding 1344 Ns to chr17:86128781-86129085\n",
      "Adding 1344 Ns to chr14:118703385-118703747\n",
      "Adding 1344 Ns to chr14:118422266-118422772\n"
     ]
    },
    {
     "name": "stdout",
     "output_type": "stream",
     "text": [
      "process 24000 peaks takes 6.7 s\n"
     ]
    },
    {
     "name": "stderr",
     "output_type": "stream",
     "text": [
      "Adding 1344 Ns to chrX:162643370-162643984\n",
      "Adding 1344 Ns to chr18:82486408-82486719\n",
      "Adding 1344 Ns to chr16:97438200-97438528\n",
      "Adding 1344 Ns to chr19:60064890-60065118\n",
      "Adding 1344 Ns to chr17:83402732-83402928\n",
      "Adding 1344 Ns to chrX:163957837-163959015\n",
      "Adding 1344 Ns to chr18:86675176-86675670\n",
      "Adding 1344 Ns to chrX:162922810-162923163\n",
      "Adding 1344 Ns to chr16:97169858-97171167\n",
      "Adding 1344 Ns to chr18:83000870-83001134\n",
      "Adding 1344 Ns to chr18:89897035-89897541\n",
      "Adding 1344 Ns to chr17:84610506-84610741\n",
      "Adding 1344 Ns to chrX:161511131-161511460\n",
      "Adding 1344 Ns to chr14:117695401-117695792\n",
      "Adding 1344 Ns to chr17:87473566-87474501\n",
      "Adding 1344 Ns to chr14:107206315-107206518\n",
      "Adding 1344 Ns to chr16:90610044-90610948\n",
      "Adding 1344 Ns to chrX:169948689-169948986\n",
      "Adding 1344 Ns to chr14:120937832-120938472\n",
      "Adding 1344 Ns to chrX:158946764-158947023\n",
      "Adding 1344 Ns to chr16:96487317-96487790\n",
      "Adding 1344 Ns to chr18:82534466-82534738\n"
     ]
    },
    {
     "name": "stdout",
     "output_type": "stream",
     "text": [
      "process 25000 peaks takes 7.0 s\n"
     ]
    },
    {
     "name": "stderr",
     "output_type": "stream",
     "text": [
      "Adding 1344 Ns to chrX:168569230-168569740\n",
      "Adding 1344 Ns to chr16:92543485-92543731\n",
      "Adding 1344 Ns to chrX:166976849-166976998\n",
      "Adding 1344 Ns to chr16:94588111-94588743\n",
      "Adding 1344 Ns to chr17:83275998-83276700\n",
      "Adding 1344 Ns to chr15:102779868-102780362\n",
      "Adding 1344 Ns to chr14:118607792-118608134\n",
      "Adding 1344 Ns to chr14:113278062-113278248\n",
      "Adding 1344 Ns to chr18:81767717-81768455\n",
      "Adding 1344 Ns to chr16:91491029-91491349\n",
      "Adding 1344 Ns to chr16:95037732-95038095\n",
      "Adding 1344 Ns to chr18:83779267-83779554\n",
      "Adding 1344 Ns to chr16:96399988-96400353\n",
      "Adding 1344 Ns to chrX:162791487-162791694\n",
      "Adding 1344 Ns to chr19:60465922-60466104\n",
      "Adding 1344 Ns to chr13:119654706-119655238\n",
      "Adding 1344 Ns to chr18:82037867-82038304\n",
      "Adding 1344 Ns to chrX:159255323-159256487\n",
      "Adding 1344 Ns to chr15:102613066-102613288\n",
      "Adding 1344 Ns to chrX:158034677-158034871\n",
      "Adding 1344 Ns to chr17:87468455-87468940\n",
      "Adding 1344 Ns to chr17:85803808-85804002\n",
      "Adding 1344 Ns to chr18:84128345-84128900\n",
      "Adding 1344 Ns to chr14:116349264-116349706\n",
      "Adding 1344 Ns to chr17:85706862-85707011\n",
      "Adding 1344 Ns to chrX:159626232-159626807\n",
      "Adding 1344 Ns to chr14:121268415-121268733\n",
      "Adding 1344 Ns to chr14:123400576-123401093\n",
      "Adding 1344 Ns to chr16:96289465-96289735\n"
     ]
    },
    {
     "name": "stdout",
     "output_type": "stream",
     "text": [
      "process 26000 peaks takes 7.2 s\n"
     ]
    },
    {
     "name": "stderr",
     "output_type": "stream",
     "text": [
      "Adding 1344 Ns to chr18:86232295-86232590\n",
      "Adding 1344 Ns to chr16:93487780-93488091\n",
      "Adding 1344 Ns to chr17:94239384-94239557\n",
      "Adding 1344 Ns to chr15:102770858-102771531\n",
      "Adding 1344 Ns to chr13:117217145-117217460\n",
      "Adding 1344 Ns to chr14:119633107-119633547\n",
      "Adding 1344 Ns to chr14:121316210-121316512\n",
      "Adding 1344 Ns to chrX:158931404-158931824\n",
      "Adding 1344 Ns to chr14:117229567-117229887\n",
      "Adding 1344 Ns to chrX:166316618-166317684\n",
      "Adding 1344 Ns to chr18:86970795-86971130\n",
      "Adding 1344 Ns to chr16:97673629-97674036\n",
      "Adding 1344 Ns to chr18:81668029-81668228\n",
      "Adding 1344 Ns to chrX:163878286-163878511\n",
      "Adding 1344 Ns to chr16:91677334-91677483\n",
      "Adding 1344 Ns to chr16:92398761-92399085\n",
      "Adding 1344 Ns to chrX:167925626-167926064\n",
      "Adding 1344 Ns to chr17:90353910-90354142\n",
      "Adding 1344 Ns to chr16:91830201-91830717\n",
      "Adding 1344 Ns to chr14:120757577-120757851\n",
      "Adding 1344 Ns to chr18:80416904-80417300\n",
      "Adding 1344 Ns to chr16:93150282-93150929\n",
      "Adding 1344 Ns to chr17:90249590-90249885\n",
      "Adding 1344 Ns to chr18:82655218-82655516\n"
     ]
    },
    {
     "name": "stdout",
     "output_type": "stream",
     "text": [
      "process 27000 peaks takes 7.5 s\n"
     ]
    },
    {
     "name": "stderr",
     "output_type": "stream",
     "text": [
      "Adding 1344 Ns to chr14:123187781-123188041\n",
      "Adding 1344 Ns to chr18:80712663-80713272\n",
      "Adding 1344 Ns to chr17:87530312-87531092\n",
      "Adding 1344 Ns to chr16:90518194-90518709\n",
      "Adding 1344 Ns to chr14:114318102-114318495\n",
      "Adding 1344 Ns to chr13:117467396-117467653\n",
      "Adding 1344 Ns to chr17:84605905-84606282\n",
      "Adding 1344 Ns to chr17:85134869-85135244\n",
      "Adding 1344 Ns to chr14:119686994-119687239\n",
      "Adding 1344 Ns to chr15:103511709-103512025\n",
      "Adding 1344 Ns to chr17:87695872-87696356\n",
      "Adding 1344 Ns to chrX:166170191-166170764\n",
      "Adding 1344 Ns to chr19:59697577-59698428\n",
      "Adding 1344 Ns to chr13:116534239-116534539\n",
      "Adding 1344 Ns to chr16:94674590-94674762\n"
     ]
    },
    {
     "name": "stdout",
     "output_type": "stream",
     "text": [
      "process 28000 peaks takes 7.8 s\n"
     ]
    },
    {
     "name": "stderr",
     "output_type": "stream",
     "text": [
      "Adding 1344 Ns to chrX:160192968-160193537\n",
      "Adding 1344 Ns to chr18:85526314-85526744\n",
      "Adding 1344 Ns to chr17:88779007-88779463\n",
      "Adding 1344 Ns to chr16:95117536-95117928\n",
      "Adding 1344 Ns to chr17:92807194-92807343\n",
      "Adding 1344 Ns to chr19:59208544-59208807\n",
      "Adding 1344 Ns to chr19:61070815-61071096\n",
      "Adding 1344 Ns to chr17:90351642-90351915\n",
      "Adding 1344 Ns to chr16:96835322-96835509\n",
      "Adding 1344 Ns to chr14:113928548-113928897\n",
      "Adding 1344 Ns to chr14:118875180-118875773\n",
      "Adding 1344 Ns to chr14:107526046-107526664\n",
      "Adding 1344 Ns to chr16:91936417-91936810\n",
      "Adding 1344 Ns to chr14:121313078-121313836\n",
      "Adding 1344 Ns to chr19:59388896-59389676\n",
      "Adding 1344 Ns to chr14:118612985-118613290\n",
      "Adding 1344 Ns to chr19:60789941-60791233\n",
      "Adding 1344 Ns to chr13:117401443-117402748\n",
      "Adding 1344 Ns to chr14:122943093-122943540\n",
      "Adding 1344 Ns to chr19:60755675-60757194\n",
      "Adding 1344 Ns to chrX:158933569-158933844\n",
      "Adding 1344 Ns to chr18:82961266-82961512\n",
      "Adding 1344 Ns to chr14:120578383-120579272\n",
      "Adding 1344 Ns to chr16:93116686-93116941\n",
      "Adding 1344 Ns to chrX:167017433-167017890\n",
      "Adding 1344 Ns to chr17:90252193-90252397\n"
     ]
    },
    {
     "name": "stdout",
     "output_type": "stream",
     "text": [
      "process 29000 peaks takes 8.0 s\n"
     ]
    },
    {
     "name": "stderr",
     "output_type": "stream",
     "text": [
      "Adding 1344 Ns to chr14:119989327-119989833\n",
      "Adding 1344 Ns to chr13:118849519-118850015\n",
      "Adding 1344 Ns to chr16:97035173-97035698\n",
      "Adding 1344 Ns to chr14:117674474-117674790\n",
      "Adding 1344 Ns to chr14:114450599-114450824\n",
      "Adding 1344 Ns to chr16:91553574-91553759\n",
      "Adding 1344 Ns to chr17:89064518-89065111\n",
      "Adding 1344 Ns to chr16:92399853-92400794\n",
      "Adding 1344 Ns to chr14:119021314-119021759\n",
      "Adding 1344 Ns to chr16:91848513-91848792\n",
      "Adding 1344 Ns to chr16:94807171-94807445\n",
      "Adding 1344 Ns to chr16:96887130-96887391\n",
      "Adding 1344 Ns to chr16:91862971-91863147\n",
      "Adding 1344 Ns to chr17:84803098-84803697\n",
      "Adding 1344 Ns to chr17:89871115-89871594\n",
      "Adding 1344 Ns to chr14:121774690-121775108\n",
      "Adding 1344 Ns to chr15:102216632-102216811\n",
      "Adding 1344 Ns to chrX:156228510-156228752\n",
      "Adding 1344 Ns to chr14:116108262-116108632\n",
      "Adding 1344 Ns to chr16:91192754-91193031\n",
      "Adding 1344 Ns to chrX:165894865-165895038\n",
      "Adding 1344 Ns to chr17:90857120-90857329\n",
      "Adding 1344 Ns to chrX:167204181-167204732\n",
      "Adding 1344 Ns to chr14:116957483-116957684\n",
      "Adding 1344 Ns to chr17:87331921-87332425\n",
      "Adding 1344 Ns to chr17:85241998-85242683\n",
      "Adding 1344 Ns to chr17:87436950-87437143\n",
      "Adding 1344 Ns to chr14:108843500-108844152\n",
      "Adding 1344 Ns to chr18:82779862-82780794\n"
     ]
    },
    {
     "name": "stdout",
     "output_type": "stream",
     "text": [
      "process 30000 peaks takes 8.3 s\n"
     ]
    },
    {
     "name": "stderr",
     "output_type": "stream",
     "text": [
      "Adding 1344 Ns to chr19:58866721-58867006\n",
      "Adding 1344 Ns to chrX:167056125-167056343\n",
      "Adding 1344 Ns to chr14:122953398-122953646\n",
      "Adding 1344 Ns to chr16:91880913-91881759\n",
      "Adding 1344 Ns to chr17:90744383-90744744\n",
      "Adding 1344 Ns to chr17:90594789-90595263\n",
      "Adding 1344 Ns to chr17:88505269-88505835\n",
      "Adding 1344 Ns to chr16:92319158-92320006\n",
      "Adding 1344 Ns to chr18:83686047-83686433\n",
      "Adding 1344 Ns to chr16:93238239-93238555\n",
      "Adding 1344 Ns to chr13:117792775-117793200\n",
      "Adding 1344 Ns to chr14:110544106-110544469\n",
      "Adding 1344 Ns to chr18:80573964-80574260\n",
      "Adding 1344 Ns to chr14:107052958-107053288\n",
      "Adding 1344 Ns to chr13:118344198-118344638\n",
      "Adding 1344 Ns to chr14:120382244-120382557\n",
      "Adding 1344 Ns to chr17:89550800-89551096\n",
      "Adding 1344 Ns to chr14:119409721-119410050\n",
      "Adding 1344 Ns to chr16:91010713-91011796\n",
      "Adding 1344 Ns to chr14:122280014-122280213\n",
      "Adding 1344 Ns to chr17:89970558-89970730\n",
      "Adding 1344 Ns to chr18:81581436-81581795\n",
      "Adding 1344 Ns to chr16:95449587-95449743\n",
      "Adding 1344 Ns to chr16:92006885-92007327\n",
      "Adding 1344 Ns to chr17:83631808-83632744\n",
      "Adding 1344 Ns to chr17:90439728-90440068\n",
      "Adding 1344 Ns to chr16:92203690-92203919\n",
      "Adding 1344 Ns to chr13:119761369-119762060\n",
      "Adding 1344 Ns to chr14:121040067-121040456\n",
      "Adding 1344 Ns to chr18:89559774-89560149\n",
      "Adding 1344 Ns to chr14:121987153-121987810\n",
      "Adding 1344 Ns to chr13:115697911-115698284\n"
     ]
    },
    {
     "name": "stdout",
     "output_type": "stream",
     "text": [
      "process 31000 peaks takes 8.6 s\n"
     ]
    },
    {
     "name": "stderr",
     "output_type": "stream",
     "text": [
      "Adding 1344 Ns to chr18:86222177-86222536\n",
      "Adding 1344 Ns to chr17:89347103-89348128\n",
      "Adding 1344 Ns to chr18:88893522-88894708\n",
      "Adding 1344 Ns to chr16:91314153-91314724\n",
      "Adding 1344 Ns to chr18:83840901-83841217\n",
      "Adding 1344 Ns to chr16:94419459-94419887\n",
      "Adding 1344 Ns to chrX:157292854-157293502\n",
      "Adding 1344 Ns to chr14:111576783-111577189\n",
      "Adding 1344 Ns to chr18:84873627-84874066\n",
      "Adding 1344 Ns to chr17:90532413-90532597\n",
      "Adding 1344 Ns to chr17:89470410-89470767\n",
      "Adding 1344 Ns to chr16:94362084-94362642\n",
      "Adding 1344 Ns to chrX:164183907-164184135\n",
      "Adding 1344 Ns to chr15:102750231-102750803\n",
      "Adding 1344 Ns to chr17:88578707-88578859\n",
      "Adding 1344 Ns to chr14:114863526-114863971\n",
      "Adding 1344 Ns to chr16:94047624-94048060\n",
      "Adding 1344 Ns to chr14:108812346-108812610\n",
      "Adding 1344 Ns to chr17:84370355-84370616\n"
     ]
    },
    {
     "name": "stdout",
     "output_type": "stream",
     "text": [
      "process 32000 peaks takes 8.8 s\n"
     ]
    },
    {
     "name": "stderr",
     "output_type": "stream",
     "text": [
      "Adding 1344 Ns to chr16:90516827-90516997\n",
      "Adding 1344 Ns to chr19:59280952-59281180\n",
      "Adding 1344 Ns to chr18:85134919-85135184\n",
      "Adding 1344 Ns to chr14:122249495-122249670\n",
      "Adding 1344 Ns to chr16:95175139-95175652\n",
      "Adding 1344 Ns to chr19:58819189-58819371\n",
      "Adding 1344 Ns to chr17:90761217-90761554\n",
      "Adding 1344 Ns to chr14:121034902-121035903\n",
      "Adding 1344 Ns to chr13:119330662-119331105\n",
      "Adding 1344 Ns to chr14:120296059-120296608\n",
      "Adding 1344 Ns to chr18:82616708-82617017\n",
      "Adding 1344 Ns to chr17:94254715-94255247\n",
      "Adding 1344 Ns to chr16:95033458-95033805\n",
      "Adding 1344 Ns to chr18:83232176-83232788\n",
      "Adding 1344 Ns to chr17:86580713-86581282\n",
      "Adding 1344 Ns to chr14:115070580-115070907\n",
      "Adding 1344 Ns to chrX:166373501-166373650\n",
      "Adding 1344 Ns to chr16:97002086-97002695\n",
      "Adding 1344 Ns to chr14:115025041-115025500\n",
      "Adding 1344 Ns to chr14:109310452-109310763\n",
      "Adding 1344 Ns to chr18:82672448-82672787\n",
      "Adding 1344 Ns to chr17:84261316-84261687\n",
      "Adding 1344 Ns to chr14:120867118-120867655\n",
      "Adding 1344 Ns to chrX:160516390-160516575\n",
      "Adding 1344 Ns to chr18:89547061-89547402\n",
      "Adding 1344 Ns to chr19:59027916-59028543\n",
      "Adding 1344 Ns to chr16:94940402-94941102\n",
      "Adding 1344 Ns to chr13:118379200-118379482\n"
     ]
    },
    {
     "name": "stdout",
     "output_type": "stream",
     "text": [
      "process 33000 peaks takes 9.1 s\n"
     ]
    },
    {
     "name": "stderr",
     "output_type": "stream",
     "text": [
      "Adding 1344 Ns to chrX:166289242-166289490\n",
      "Adding 1344 Ns to chr16:95182478-95182689\n",
      "Adding 1344 Ns to chr16:94997271-94997891\n",
      "Adding 1344 Ns to chr14:120994368-120994859\n",
      "Adding 1344 Ns to chrX:160994511-160995636\n",
      "Adding 1344 Ns to chr16:96617879-96618069\n",
      "Adding 1344 Ns to chr13:115186620-115187305\n",
      "Adding 1344 Ns to chrX:159963251-159963607\n",
      "Adding 1344 Ns to chr17:87609700-87610140\n",
      "Adding 1344 Ns to chr15:103299434-103300497\n",
      "Adding 1344 Ns to chrX:162913635-162914088\n",
      "Adding 1344 Ns to chrX:164953199-164953559\n",
      "Adding 1344 Ns to chr14:116913243-116913728\n",
      "Adding 1344 Ns to chrX:168429516-168430324\n",
      "Adding 1344 Ns to chr17:83527223-83527453\n",
      "Adding 1344 Ns to chr14:122655186-122655425\n",
      "Adding 1344 Ns to chrX:158548541-158548877\n",
      "Adding 1344 Ns to chr13:116322194-116322505\n",
      "Adding 1344 Ns to chr17:88580245-88580604\n",
      "Adding 1344 Ns to chr17:94564715-94564922\n",
      "Adding 1344 Ns to chr17:90400508-90400851\n",
      "Adding 1344 Ns to chr17:83389585-83389781\n",
      "Adding 1344 Ns to chr17:90695624-90695908\n",
      "Adding 1344 Ns to chr17:86906180-86906483\n",
      "Adding 1344 Ns to chr17:85826065-85826659\n",
      "Adding 1344 Ns to chrX:160773053-160773919\n",
      "Adding 1344 Ns to chr17:84783273-84783422\n",
      "Adding 1344 Ns to chrX:167212859-167213047\n",
      "Adding 1344 Ns to chr17:88065544-88066748\n",
      "Adding 1344 Ns to chr16:96280645-96281320\n",
      "Adding 1344 Ns to chr14:123037714-123038449\n",
      "Adding 1344 Ns to chr14:122343383-122343671\n",
      "Adding 1344 Ns to chr17:86249872-86250932\n",
      "Adding 1344 Ns to chr19:59417972-59418603\n"
     ]
    },
    {
     "name": "stdout",
     "output_type": "stream",
     "text": [
      "process 34000 peaks takes 9.4 s\n"
     ]
    },
    {
     "name": "stderr",
     "output_type": "stream",
     "text": [
      "Adding 1344 Ns to chr17:83378490-83378804\n",
      "Adding 1344 Ns to chr17:86618580-86618897\n",
      "Adding 1344 Ns to chr17:93510170-93510534\n",
      "Adding 1344 Ns to chr16:93797882-93798953\n",
      "Adding 1344 Ns to chr17:86282781-86283444\n",
      "Adding 1344 Ns to chrX:158613913-158615039\n",
      "Adding 1344 Ns to chr16:90928660-90929378\n",
      "Adding 1344 Ns to chr16:92421362-92421628\n",
      "Adding 1344 Ns to chr18:89575798-89576058\n",
      "Adding 1344 Ns to chr19:59382864-59383078\n",
      "Adding 1344 Ns to chr18:83992489-83992735\n",
      "Adding 1344 Ns to chr14:107769381-107769641\n",
      "Adding 1344 Ns to chr14:116553303-116553723\n",
      "Adding 1344 Ns to chr15:102503391-102503613\n",
      "Adding 1344 Ns to chrX:167208997-167209366\n",
      "Adding 1344 Ns to chr16:97405412-97405975\n",
      "Adding 1344 Ns to chr18:80853266-80853807\n",
      "Adding 1344 Ns to chr17:87949004-87949307\n",
      "Adding 1344 Ns to chr18:89146180-89146416\n"
     ]
    },
    {
     "name": "stdout",
     "output_type": "stream",
     "text": [
      "process 35000 peaks takes 9.6 s\n"
     ]
    },
    {
     "name": "stderr",
     "output_type": "stream",
     "text": [
      "Adding 1344 Ns to chr17:86197124-86197514\n",
      "Adding 1344 Ns to chr16:92588633-92589024\n",
      "Adding 1344 Ns to chr18:81962130-81962358\n",
      "Adding 1344 Ns to chr18:89564374-89564656\n",
      "Adding 1344 Ns to chr17:86549160-86549347\n",
      "Adding 1344 Ns to chr16:94232525-94232716\n",
      "Adding 1344 Ns to chr17:84723923-84724403\n",
      "Adding 1344 Ns to chrX:161162410-161163182\n",
      "Adding 1344 Ns to chr16:94931283-94932417\n",
      "Adding 1344 Ns to chr13:119754341-119754610\n",
      "Adding 1344 Ns to chr14:116559174-116559444\n",
      "Adding 1344 Ns to chr18:80755062-80755265\n",
      "Adding 1344 Ns to chrX:163537353-163537643\n",
      "Adding 1344 Ns to chr16:95684879-95685213\n",
      "Adding 1344 Ns to chr17:84183461-84183811\n",
      "Adding 1344 Ns to chr14:121119342-121119598\n",
      "Adding 1344 Ns to chr16:97956574-97957060\n",
      "Adding 1344 Ns to chr14:117905444-117905832\n",
      "Adding 1344 Ns to chrX:164268984-164269998\n",
      "Adding 1344 Ns to chr18:82591757-82592709\n",
      "Adding 1344 Ns to chr16:95150452-95150893\n",
      "Adding 1344 Ns to chr18:89036563-89036955\n",
      "Adding 1344 Ns to chr18:82469937-82470418\n",
      "Adding 1344 Ns to chr14:123843693-123844039\n",
      "Adding 1344 Ns to chr19:60179338-60179832\n",
      "Adding 1344 Ns to chr14:117977171-117977420\n"
     ]
    },
    {
     "name": "stdout",
     "output_type": "stream",
     "text": [
      "process 36000 peaks takes 9.9 s\n"
     ]
    },
    {
     "name": "stderr",
     "output_type": "stream",
     "text": [
      "Adding 1344 Ns to chr17:84728904-84729260\n",
      "Adding 1344 Ns to chr18:82508232-82509040\n",
      "Adding 1344 Ns to chrX:161613350-161613593\n",
      "Adding 1344 Ns to chr13:117938971-117939399\n",
      "Adding 1344 Ns to chrX:157532392-157532541\n",
      "Adding 1344 Ns to chr16:96753780-96754199\n",
      "Adding 1344 Ns to chr17:93378926-93379091\n",
      "Adding 1344 Ns to chr17:86540582-86540897\n",
      "Adding 1344 Ns to chr18:85300688-85301352\n",
      "Adding 1344 Ns to chr17:90422387-90422579\n",
      "Adding 1344 Ns to chr14:120033683-120034200\n",
      "Adding 1344 Ns to chr14:120925967-120926650\n",
      "Adding 1344 Ns to chr18:86284033-86284228\n",
      "Adding 1344 Ns to chr17:86785329-86786310\n",
      "Adding 1344 Ns to chr18:84995959-84996316\n",
      "Adding 1344 Ns to chr17:86404679-86405304\n",
      "Adding 1344 Ns to chrX:159459329-159459891\n",
      "Adding 1344 Ns to chr16:94555931-94556437\n",
      "Adding 1344 Ns to chr18:83813304-83813542\n",
      "Adding 1344 Ns to chr14:120581629-120581894\n",
      "Adding 1344 Ns to chr17:90342621-90342780\n",
      "Adding 1344 Ns to chr16:96209911-96210133\n",
      "Adding 1344 Ns to chr14:117664408-117665182\n",
      "Adding 1344 Ns to chr18:80567581-80567843\n",
      "Adding 1344 Ns to chr16:92864331-92864525\n",
      "Adding 1344 Ns to chr15:102870924-102871301\n",
      "Adding 1344 Ns to chr17:92407789-92407938\n"
     ]
    },
    {
     "name": "stdout",
     "output_type": "stream",
     "text": [
      "process 37000 peaks takes 10.2 s\n"
     ]
    },
    {
     "name": "stderr",
     "output_type": "stream",
     "text": [
      "Adding 1344 Ns to chr16:96636049-96636362\n",
      "Adding 1344 Ns to chr17:86802372-86802636\n",
      "Adding 1344 Ns to chr14:122450967-122451365\n",
      "Adding 1344 Ns to chr18:82718486-82718974\n",
      "Adding 1344 Ns to chrX:165308139-165308507\n",
      "Adding 1344 Ns to chr14:123143492-123144069\n",
      "Adding 1344 Ns to chr17:93325659-93325874\n",
      "Adding 1344 Ns to chr14:119608276-119609023\n",
      "Adding 1344 Ns to chr15:102279148-102280249\n",
      "Adding 1344 Ns to chr14:123158766-123159055\n",
      "Adding 1344 Ns to chr16:95667866-95668337\n",
      "Adding 1344 Ns to chrX:158411100-158411618\n",
      "Adding 1344 Ns to chr18:82792800-82793152\n",
      "Adding 1344 Ns to chr16:96294978-96295261\n",
      "Adding 1344 Ns to chr14:118001210-118001985\n",
      "Adding 1344 Ns to chr17:83574654-83574973\n",
      "Adding 1344 Ns to chr17:85873963-85874585\n",
      "Adding 1344 Ns to chr18:87901623-87901880\n",
      "Adding 1344 Ns to chrX:162527301-162527627\n",
      "Adding 1344 Ns to chrX:169343270-169343577\n",
      "Adding 1344 Ns to chr18:82867731-82868079\n",
      "Adding 1344 Ns to chrX:159675081-159675316\n",
      "Adding 1344 Ns to chr16:90990042-90990798\n",
      "Adding 1344 Ns to chr14:120495557-120495706\n",
      "Adding 1344 Ns to chr17:87745040-87745724\n"
     ]
    },
    {
     "name": "stdout",
     "output_type": "stream",
     "text": [
      "process 38000 peaks takes 10.4 s\n"
     ]
    },
    {
     "name": "stderr",
     "output_type": "stream",
     "text": [
      "Adding 1344 Ns to chr17:84322210-84322490\n",
      "Adding 1344 Ns to chr14:121225474-121226219\n",
      "Adding 1344 Ns to chr15:102296004-102296504\n",
      "Adding 1344 Ns to chrX:164443542-164443709\n",
      "Adding 1344 Ns to chr17:86593821-86594130\n",
      "Adding 1344 Ns to chr19:60603033-60603696\n",
      "Adding 1344 Ns to chr16:94472215-94473474\n",
      "Adding 1344 Ns to chr17:85027384-85027620\n",
      "Adding 1344 Ns to chrX:167749206-167749803\n",
      "Adding 1344 Ns to chr17:85704380-85704644\n",
      "Adding 1344 Ns to chrX:167158644-167159004\n",
      "Adding 1344 Ns to chr19:59784436-59784934\n",
      "Adding 1344 Ns to chr14:119247947-119248677\n",
      "Adding 1344 Ns to chrX:163192429-163192834\n",
      "Adding 1344 Ns to chr14:117975122-117975323\n",
      "Adding 1344 Ns to chr15:103576723-103577330\n",
      "Adding 1344 Ns to chr14:123968009-123968330\n",
      "Adding 1344 Ns to chr14:122475772-122476299\n"
     ]
    },
    {
     "name": "stdout",
     "output_type": "stream",
     "text": [
      "process 39000 peaks takes 10.7 s\n"
     ]
    },
    {
     "name": "stderr",
     "output_type": "stream",
     "text": [
      "Adding 1344 Ns to chr17:87945237-87945702\n",
      "Adding 1344 Ns to chr18:88707382-88707532\n",
      "Adding 1344 Ns to chr16:95209637-95209988\n",
      "Adding 1344 Ns to chr16:91466523-91466835\n",
      "Adding 1344 Ns to chr17:90346767-90347049\n",
      "Adding 1344 Ns to chrX:162762122-162762386\n",
      "Adding 1344 Ns to chr17:90845662-90845858\n",
      "Adding 1344 Ns to chr14:112380586-112380809\n",
      "Adding 1344 Ns to chrX:167507517-167507916\n",
      "Adding 1344 Ns to chr14:109874271-109874510\n",
      "Adding 1344 Ns to chr13:114878688-114879137\n",
      "Adding 1344 Ns to chr16:94209635-94210145\n",
      "Adding 1344 Ns to chr15:103513539-103514005\n",
      "Adding 1344 Ns to chr14:109432546-109432983\n",
      "Adding 1344 Ns to chr17:88937639-88938098\n",
      "Adding 1344 Ns to chr16:91884875-91885267\n",
      "Adding 1344 Ns to chr18:86409120-86409320\n",
      "Adding 1344 Ns to chrX:161038725-161039109\n",
      "Adding 1344 Ns to chrX:159856611-159857315\n",
      "Adding 1344 Ns to chr17:87177181-87177536\n",
      "Adding 1344 Ns to chr16:94883741-94883921\n",
      "Adding 1344 Ns to chr18:82563185-82563334\n"
     ]
    },
    {
     "name": "stdout",
     "output_type": "stream",
     "text": [
      "process 40000 peaks takes 11.0 s\n"
     ]
    },
    {
     "name": "stderr",
     "output_type": "stream",
     "text": [
      "Adding 1344 Ns to chr17:87797656-87798312\n",
      "Adding 1344 Ns to chr15:103340814-103341181\n",
      "Adding 1344 Ns to chr17:83850596-83850793\n",
      "Adding 1344 Ns to chr18:81916109-81916698\n",
      "Adding 1344 Ns to chr15:103070120-103070390\n",
      "Adding 1344 Ns to chr16:96559654-96560188\n",
      "Adding 1344 Ns to chrX:157383057-157383480\n",
      "Adding 1344 Ns to chr18:84914312-84915258\n",
      "Adding 1344 Ns to chr15:102109159-102109587\n",
      "Adding 1344 Ns to chr17:86725040-86725415\n",
      "Adding 1344 Ns to chrX:166860484-166860847\n",
      "Adding 1344 Ns to chrX:169909994-169910261\n",
      "Adding 1344 Ns to chr17:83461605-83461853\n",
      "Adding 1344 Ns to chr17:89360106-89360470\n",
      "Adding 1344 Ns to chr18:80676740-80677112\n",
      "Adding 1344 Ns to chr19:60408340-60408938\n",
      "Adding 1344 Ns to chr17:85357796-85357991\n",
      "Adding 1344 Ns to chr18:82725782-82726246\n",
      "Adding 1344 Ns to chr15:103298027-103298335\n",
      "Adding 1344 Ns to chr16:91053711-91053975\n",
      "Adding 1344 Ns to chr17:90088067-90088665\n",
      "Adding 1344 Ns to chr17:83807969-83808329\n",
      "Adding 1344 Ns to chr17:90634849-90635401\n",
      "Adding 1344 Ns to chr17:85335385-85336277\n",
      "Adding 1344 Ns to chr19:61023987-61024392\n",
      "Adding 1344 Ns to chr17:86980458-86980691\n",
      "Adding 1344 Ns to chr14:121044232-121044438\n",
      "Adding 1344 Ns to chr14:122719168-122719414\n",
      "Adding 1344 Ns to chr17:90262455-90262614\n",
      "Adding 1344 Ns to chr18:84655730-84655908\n",
      "Adding 1344 Ns to chr17:84575158-84575428\n",
      "Adding 1344 Ns to chrX:168206890-168207467\n",
      "Adding 1344 Ns to chr18:86453749-86454110\n",
      "Adding 1344 Ns to chr16:92099991-92100549\n",
      "Adding 1344 Ns to chr18:84880357-84880961\n",
      "Adding 1344 Ns to chr17:86310352-86310669\n"
     ]
    },
    {
     "name": "stdout",
     "output_type": "stream",
     "text": [
      "process 41000 peaks takes 11.2 s\n"
     ]
    },
    {
     "name": "stderr",
     "output_type": "stream",
     "text": [
      "Adding 1344 Ns to chrX:163364832-163365178\n",
      "Adding 1344 Ns to chrX:156448832-156449349\n",
      "Adding 1344 Ns to chr17:86715848-86716082\n",
      "Adding 1344 Ns to chr16:91184500-91184919\n",
      "Adding 1344 Ns to chrX:167652017-167652746\n",
      "Adding 1344 Ns to chr17:84146012-84146164\n",
      "Adding 1344 Ns to chr16:90628939-90629674\n",
      "Adding 1344 Ns to chr18:88765170-88765607\n",
      "Adding 1344 Ns to chr13:117837604-117838003\n",
      "Adding 1344 Ns to chr18:86798652-86799193\n",
      "Adding 1344 Ns to chrX:161896778-161897116\n",
      "Adding 1344 Ns to chr17:85995725-85996083\n",
      "Adding 1344 Ns to chr13:114892063-114892535\n",
      "Adding 1344 Ns to chr16:92105010-92105307\n",
      "Adding 1344 Ns to chr16:91809311-91809733\n",
      "Adding 1344 Ns to chrX:167081420-167081670\n",
      "Adding 1344 Ns to chr14:117821770-117822117\n",
      "Adding 1344 Ns to chrX:160542780-160543248\n",
      "Adding 1344 Ns to chr16:97738098-97738354\n",
      "Adding 1344 Ns to chrX:160914112-160914662\n",
      "Adding 1344 Ns to chr15:103183185-103183548\n",
      "Adding 1344 Ns to chr15:103121347-103121805\n",
      "Adding 1344 Ns to chr18:82254174-82254534\n",
      "Adding 1344 Ns to chr17:84571644-84571950\n",
      "Adding 1344 Ns to chrX:157606118-157606553\n",
      "Adding 1344 Ns to chr14:121223751-121223973\n"
     ]
    },
    {
     "name": "stdout",
     "output_type": "stream",
     "text": [
      "process 42000 peaks takes 11.5 s\n"
     ]
    },
    {
     "name": "stderr",
     "output_type": "stream",
     "text": [
      "Adding 1344 Ns to chr13:114794222-114794436\n",
      "Adding 1344 Ns to chr17:90542630-90542875\n",
      "Adding 1344 Ns to chr16:97286577-97287150\n",
      "Adding 1344 Ns to chr18:84245850-84246362\n",
      "Adding 1344 Ns to chr17:87460663-87461016\n",
      "Adding 1344 Ns to chr17:84048402-84048874\n",
      "Adding 1344 Ns to chrX:160504041-160504401\n",
      "Adding 1344 Ns to chr14:117174903-117175115\n",
      "Adding 1344 Ns to chr14:121455478-121456008\n",
      "Adding 1344 Ns to chr14:108913878-108914332\n",
      "Adding 1344 Ns to chr14:119188070-119188457\n",
      "Adding 1344 Ns to chr13:119251970-119252358\n",
      "Adding 1344 Ns to chrX:159001183-159001369\n",
      "Adding 1344 Ns to chrX:168058196-168058421\n",
      "Adding 1344 Ns to chr14:120772296-120772609\n",
      "Adding 1344 Ns to chr18:84293664-84294306\n",
      "Adding 1344 Ns to chr14:120155632-120156445\n",
      "Adding 1344 Ns to chr18:80760672-80760866\n",
      "Adding 1344 Ns to chr18:88484834-88485169\n"
     ]
    },
    {
     "name": "stdout",
     "output_type": "stream",
     "text": [
      "process 43000 peaks takes 11.8 s\n"
     ]
    },
    {
     "name": "stderr",
     "output_type": "stream",
     "text": [
      "Adding 1344 Ns to chr15:103122399-103122821\n",
      "Adding 1344 Ns to chr14:116321672-116321850\n",
      "Adding 1344 Ns to chrX:167261900-167262106\n",
      "Adding 1344 Ns to chr17:86909853-86910257\n",
      "Adding 1344 Ns to chr17:83489114-83489390\n",
      "Adding 1344 Ns to chr16:96755066-96755514\n",
      "Adding 1344 Ns to chr17:91385878-91386443\n",
      "Adding 1344 Ns to chr17:84781248-84781494\n",
      "Adding 1344 Ns to chr17:88908729-88909258\n",
      "Adding 1344 Ns to chr17:83324315-83324686\n",
      "Adding 1344 Ns to chrX:166709825-166710231\n",
      "Adding 1344 Ns to chr17:91361335-91361603\n",
      "Adding 1344 Ns to chr17:84465690-84466581\n",
      "Adding 1344 Ns to chr17:86345193-86346112\n",
      "Adding 1344 Ns to chrX:158381130-158381476\n",
      "Adding 1344 Ns to chr14:117023020-117023406\n",
      "Adding 1344 Ns to chr13:114817889-114818421\n",
      "Adding 1344 Ns to chr18:83492004-83492371\n",
      "Adding 1344 Ns to chr16:92705675-92706189\n",
      "Adding 1344 Ns to chr14:121186991-121187259\n",
      "Adding 1344 Ns to chr17:83528217-83528437\n",
      "Adding 1344 Ns to chr14:120404296-120404676\n",
      "Adding 1344 Ns to chr15:102262513-102263049\n",
      "Adding 1344 Ns to chrX:164980076-164980815\n",
      "Adding 1344 Ns to chr17:88021213-88021959\n",
      "Adding 1344 Ns to chr19:60489587-60489914\n",
      "Adding 1344 Ns to chr16:95114028-95114225\n"
     ]
    },
    {
     "name": "stdout",
     "output_type": "stream",
     "text": [
      "process 44000 peaks takes 12.0 s\n"
     ]
    },
    {
     "name": "stderr",
     "output_type": "stream",
     "text": [
      "Adding 1344 Ns to chr16:91265976-91266251\n",
      "Adding 1344 Ns to chrX:159459054-159459292\n",
      "Adding 1344 Ns to chr14:111674507-111675022\n",
      "Adding 1344 Ns to chr15:103371387-103371711\n",
      "Adding 1344 Ns to chr16:96518813-96519219\n",
      "Adding 1344 Ns to chr16:90483295-90483823\n",
      "Adding 1344 Ns to chr17:88449568-88449722\n",
      "Adding 1344 Ns to chr16:96345132-96345479\n",
      "Adding 1344 Ns to chrX:164801722-164801991\n",
      "Adding 1344 Ns to chr14:120487569-120487853\n",
      "Adding 1344 Ns to chrX:166316034-166316300\n",
      "Adding 1344 Ns to chrX:166323065-166323637\n",
      "Adding 1344 Ns to chr17:93597998-93598803\n",
      "Adding 1344 Ns to chr17:86663114-86663295\n",
      "Adding 1344 Ns to chr16:95525815-95526195\n",
      "Adding 1344 Ns to chr16:91785168-91785418\n",
      "Adding 1344 Ns to chr13:117707355-117707797\n",
      "Adding 1344 Ns to chr14:116543637-116544101\n",
      "Adding 1344 Ns to chr14:121749757-121750098\n",
      "Adding 1344 Ns to chrX:166393036-166393332\n",
      "Adding 1344 Ns to chr14:119702938-119703608\n",
      "Adding 1344 Ns to chrX:158976494-158976747\n",
      "Adding 1344 Ns to chrX:162636893-162637133\n",
      "Adding 1344 Ns to chr14:122957818-122958385\n",
      "Adding 1344 Ns to chr15:102256834-102257976\n",
      "Adding 1344 Ns to chr19:58680217-58680621\n",
      "Adding 1344 Ns to chrX:160603831-160604795\n"
     ]
    },
    {
     "name": "stdout",
     "output_type": "stream",
     "text": [
      "process 45000 peaks takes 12.3 s\n"
     ]
    },
    {
     "name": "stderr",
     "output_type": "stream",
     "text": [
      "Adding 1344 Ns to chr14:118908902-118909284\n",
      "Adding 1344 Ns to chr16:94885041-94885590\n",
      "Adding 1344 Ns to chr19:58761623-58762033\n",
      "Adding 1344 Ns to chr16:97897605-97897865\n",
      "Adding 1344 Ns to chrX:158632425-158632869\n",
      "Adding 1344 Ns to chr14:121148137-121148442\n",
      "Adding 1344 Ns to chr14:121107861-121108238\n",
      "Adding 1344 Ns to chr16:95740131-95740403\n",
      "Adding 1344 Ns to chr17:93263202-93263421\n",
      "Adding 1344 Ns to chr16:96938896-96939202\n",
      "Adding 1344 Ns to chr18:85187985-85188348\n",
      "Adding 1344 Ns to chrX:157079641-157079940\n",
      "Adding 1344 Ns to chr17:83527688-83527857\n",
      "Adding 1344 Ns to chr16:96304532-96304792\n",
      "Adding 1344 Ns to chr16:92605598-92606087\n",
      "Adding 1344 Ns to chr15:103239286-103240518\n",
      "Adding 1344 Ns to chr14:117892055-117892416\n",
      "Adding 1344 Ns to chr14:124502159-124502542\n",
      "Adding 1344 Ns to chr17:89960324-89960942\n",
      "Adding 1344 Ns to chr14:124598278-124598729\n",
      "Adding 1344 Ns to chr17:84600272-84600850\n",
      "Adding 1344 Ns to chr18:84999288-84999664\n",
      "Adding 1344 Ns to chr19:58750657-58751213\n"
     ]
    },
    {
     "name": "stdout",
     "output_type": "stream",
     "text": [
      "process 46000 peaks takes 12.6 s\n"
     ]
    },
    {
     "name": "stderr",
     "output_type": "stream",
     "text": [
      "Adding 1344 Ns to chr15:103013593-103013813\n",
      "Adding 1344 Ns to chr19:58953312-58953495\n",
      "Adding 1344 Ns to chrX:158833048-158833524\n",
      "Adding 1344 Ns to chr17:87540387-87540536\n",
      "Adding 1344 Ns to chr18:82012242-82012438\n",
      "Adding 1344 Ns to chr15:103457965-103458122\n",
      "Adding 1344 Ns to chr16:92291269-92291526\n",
      "Adding 1344 Ns to chrX:162540910-162541145\n",
      "Adding 1344 Ns to chr19:58843706-58843952\n",
      "Adding 1344 Ns to chr14:113441289-113441480\n",
      "Adding 1344 Ns to chr16:96540914-96541316\n",
      "Adding 1344 Ns to chr14:114556818-114557275\n",
      "Adding 1344 Ns to chr18:84230715-84230991\n",
      "Adding 1344 Ns to chr14:121878085-121878819\n",
      "Adding 1344 Ns to chrX:159215201-159215931\n",
      "Adding 1344 Ns to chrX:162397548-162398016\n",
      "Adding 1344 Ns to chr17:91430802-91431172\n",
      "Adding 1344 Ns to chr18:90310185-90310581\n",
      "Adding 1344 Ns to chr15:102524435-102524701\n",
      "Adding 1344 Ns to chr14:119489017-119489713\n",
      "Adding 1344 Ns to chrX:162470294-162470658\n",
      "Adding 1344 Ns to chrX:168639450-168640031\n",
      "Adding 1344 Ns to chr17:84642043-84642831\n",
      "Adding 1344 Ns to chr14:117267924-117268132\n",
      "Adding 1344 Ns to chr14:123043107-123043505\n"
     ]
    },
    {
     "name": "stdout",
     "output_type": "stream",
     "text": [
      "process 47000 peaks takes 12.8 s\n"
     ]
    },
    {
     "name": "stderr",
     "output_type": "stream",
     "text": [
      "Adding 1344 Ns to chr13:114848979-114849327\n",
      "Adding 1344 Ns to chr18:82765183-82765604\n",
      "Adding 1344 Ns to chr16:90372201-90372403\n",
      "Adding 1344 Ns to chr17:86218602-86218798\n",
      "Adding 1344 Ns to chr14:117241740-117241969\n",
      "Adding 1344 Ns to chr14:108741359-108741686\n",
      "Adding 1344 Ns to chr17:90509143-90509606\n",
      "Adding 1344 Ns to chrX:158655970-158656251\n",
      "Adding 1344 Ns to chr18:84951904-84952388\n",
      "Adding 1344 Ns to chr18:89786336-89786671\n",
      "Adding 1344 Ns to chr15:102743295-102743499\n",
      "Adding 1344 Ns to chr17:84142891-84143193\n",
      "Adding 1344 Ns to chr14:117903961-117904125\n",
      "Adding 1344 Ns to chr18:80858316-80859073\n",
      "Adding 1344 Ns to chr16:94289087-94289645\n",
      "Adding 1344 Ns to chr13:114478521-114478818\n",
      "Adding 1344 Ns to chr15:103248661-103248840\n",
      "Adding 1344 Ns to chrX:160835636-160835922\n",
      "Adding 1344 Ns to chrX:162901209-162902697\n",
      "Adding 1344 Ns to chrX:166238767-166239226\n",
      "Adding 1344 Ns to chr13:118091638-118091910\n",
      "Adding 1344 Ns to chr14:108744060-108744368\n",
      "Adding 1344 Ns to chr14:111631072-111631350\n",
      "Adding 1344 Ns to chr14:117890662-117891206\n",
      "Adding 1344 Ns to chr15:102740014-102740249\n"
     ]
    },
    {
     "name": "stdout",
     "output_type": "stream",
     "text": [
      "process 48000 peaks takes 13.1 s\n"
     ]
    },
    {
     "name": "stderr",
     "output_type": "stream",
     "text": [
      "Adding 1344 Ns to chr17:85045806-85045977\n",
      "Adding 1344 Ns to chr15:102596203-102596472\n",
      "Adding 1344 Ns to chrX:169123219-169123451\n",
      "Adding 1344 Ns to chr15:103233103-103233608\n",
      "Adding 1344 Ns to chr14:114833069-114833285\n",
      "Adding 1344 Ns to chr17:87826892-87827373\n",
      "Adding 1344 Ns to chrX:162915734-162916043\n",
      "Adding 1344 Ns to chr19:60195695-60196027\n",
      "Adding 1344 Ns to chr17:83460619-83461099\n",
      "Adding 1344 Ns to chr16:92770122-92770387\n",
      "Adding 1344 Ns to chrX:167798583-167798772\n",
      "Adding 1344 Ns to chr18:80738927-80739217\n",
      "Adding 1344 Ns to chr18:84916868-84917141\n",
      "Adding 1344 Ns to chr18:83636241-83636538\n",
      "Adding 1344 Ns to chr16:93186585-93187044\n",
      "Adding 1344 Ns to chr17:90963297-90963492\n",
      "Adding 1344 Ns to chr14:124195535-124196148\n",
      "Adding 1344 Ns to chrX:157709201-157709842\n",
      "Adding 1344 Ns to chr16:94890132-94890432\n",
      "Adding 1344 Ns to chr17:86986515-86986782\n",
      "Adding 1344 Ns to chr18:81038829-81038995\n",
      "Adding 1344 Ns to chr14:120466899-120467115\n",
      "Adding 1344 Ns to chr17:84646479-84647244\n",
      "Adding 1344 Ns to chr17:86801251-86801630\n",
      "Adding 1344 Ns to chr14:120423450-120423756\n"
     ]
    },
    {
     "name": "stdout",
     "output_type": "stream",
     "text": [
      "process 49000 peaks takes 13.4 s\n"
     ]
    },
    {
     "name": "stderr",
     "output_type": "stream",
     "text": [
      "Adding 1344 Ns to chr17:88274075-88275372\n",
      "Adding 1344 Ns to chrX:167988027-167988461\n",
      "Adding 1344 Ns to chr18:89179399-89179902\n",
      "Adding 1344 Ns to chr18:83962403-83962711\n",
      "Adding 1344 Ns to chr17:86639361-86639660\n",
      "Adding 1344 Ns to chr18:84685332-84686111\n",
      "Adding 1344 Ns to chr13:118386578-118387617\n",
      "Adding 1344 Ns to chr15:102129455-102129767\n",
      "Adding 1344 Ns to chr14:121736493-121736828\n",
      "Adding 1344 Ns to chr18:84087339-84088329\n",
      "Adding 1344 Ns to chr16:97073972-97074197\n",
      "Adding 1344 Ns to chr17:89581271-89581723\n",
      "Adding 1344 Ns to chr17:93217644-93218181\n",
      "Adding 1344 Ns to chr14:117951147-117951626\n",
      "Adding 1344 Ns to chr14:122721724-122722073\n",
      "Adding 1344 Ns to chr16:94769118-94769370\n",
      "Adding 1344 Ns to chr16:94477692-94477899\n"
     ]
    },
    {
     "name": "stdout",
     "output_type": "stream",
     "text": [
      "process 50000 peaks takes 13.6 s\n"
     ]
    },
    {
     "name": "stderr",
     "output_type": "stream",
     "text": [
      "Adding 1344 Ns to chr16:90992344-90992493\n",
      "Adding 1344 Ns to chr16:96091159-96092149\n",
      "Adding 1344 Ns to chr16:93935292-93935544\n",
      "Adding 1344 Ns to chr14:119747248-119747738\n",
      "Adding 1344 Ns to chrX:169056251-169056500\n",
      "Adding 1344 Ns to chr17:84713543-84714119\n",
      "Adding 1344 Ns to chr18:84851055-84851553\n",
      "Adding 1344 Ns to chr14:123513383-123513737\n",
      "Adding 1344 Ns to chr19:60614165-60614377\n",
      "Adding 1344 Ns to chr14:114528673-114528918\n",
      "Adding 1344 Ns to chrX:161739341-161739536\n",
      "Adding 1344 Ns to chr17:86754148-86754430\n",
      "Adding 1344 Ns to chr17:90195368-90195610\n",
      "Adding 1344 Ns to chr14:116237939-116238299\n",
      "Adding 1344 Ns to chrX:162556158-162556837\n",
      "Adding 1344 Ns to chrX:168013503-168013881\n",
      "Adding 1344 Ns to chr18:82989227-82989611\n",
      "Adding 1344 Ns to chr13:117687714-117688170\n",
      "Adding 1344 Ns to chr17:84362933-84363247\n",
      "Adding 1344 Ns to chrX:166457992-166458196\n",
      "Adding 1344 Ns to chr14:121734217-121734528\n"
     ]
    },
    {
     "name": "stdout",
     "output_type": "stream",
     "text": [
      "process 51000 peaks takes 13.9 s\n"
     ]
    },
    {
     "name": "stderr",
     "output_type": "stream",
     "text": [
      "Adding 1344 Ns to chr17:87142336-87142793\n",
      "Adding 1344 Ns to chr17:84419693-84420298\n",
      "Adding 1344 Ns to chr15:103500703-103501071\n",
      "Adding 1344 Ns to chr14:117246099-117246326\n",
      "Adding 1344 Ns to chr14:122146372-122146721\n",
      "Adding 1344 Ns to chr16:97441360-97441742\n",
      "Adding 1344 Ns to chr17:86913188-86913746\n",
      "Adding 1344 Ns to chr17:86970948-86971395\n",
      "Adding 1344 Ns to chr18:83362214-83362365\n",
      "Adding 1344 Ns to chrX:169115371-169115572\n",
      "Adding 1344 Ns to chr14:115240990-115241392\n",
      "Adding 1344 Ns to chr17:86967119-86967336\n",
      "Adding 1344 Ns to chrX:169772369-169772599\n",
      "Adding 1344 Ns to chr18:81838948-81839356\n",
      "Adding 1344 Ns to chr14:117958242-117959091\n",
      "Adding 1344 Ns to chr16:94411213-94411629\n",
      "Adding 1344 Ns to chrX:159271632-159271781\n",
      "Adding 1344 Ns to chr16:91081493-91081895\n",
      "Adding 1344 Ns to chr16:97439063-97439274\n",
      "Adding 1344 Ns to chr17:88545824-88546112\n",
      "Adding 1344 Ns to chr16:94586193-94586610\n",
      "Adding 1344 Ns to chr13:117676395-117676988\n",
      "Adding 1344 Ns to chr17:87459374-87460583\n",
      "Adding 1344 Ns to chr16:92013225-92013766\n",
      "Adding 1344 Ns to chr15:103530388-103530752\n",
      "Adding 1344 Ns to chr14:121738357-121739025\n",
      "Adding 1344 Ns to chr14:124400913-124401134\n",
      "Adding 1344 Ns to chr16:94660125-94660649\n",
      "Adding 1344 Ns to chr17:85944398-85944826\n"
     ]
    },
    {
     "name": "stdout",
     "output_type": "stream",
     "text": [
      "process 52000 peaks takes 14.2 s\n"
     ]
    },
    {
     "name": "stderr",
     "output_type": "stream",
     "text": [
      "Adding 1344 Ns to chr18:80802500-80803008\n",
      "Adding 1344 Ns to chr17:86411897-86412103\n",
      "Adding 1344 Ns to chr14:108356437-108356931\n",
      "Adding 1344 Ns to chr14:121865245-121865511\n",
      "Adding 1344 Ns to chr16:92402164-92402476\n",
      "Adding 1344 Ns to chr16:96684669-96684903\n",
      "Adding 1344 Ns to chr17:90454166-90454630\n",
      "Adding 1344 Ns to chr14:119209354-119210047\n",
      "Adding 1344 Ns to chr16:97192348-97192566\n",
      "Adding 1344 Ns to chr17:88325863-88326715\n",
      "Adding 1344 Ns to chr17:84181718-84181967\n",
      "Adding 1344 Ns to chr18:80838037-80838391\n",
      "Adding 1344 Ns to chr17:84713110-84713491\n",
      "Adding 1344 Ns to chr13:117877917-117878218\n",
      "Adding 1344 Ns to chr16:95825751-95826034\n",
      "Adding 1344 Ns to chr16:90955697-90955937\n",
      "Adding 1344 Ns to chrX:169377727-169377964\n",
      "Adding 1344 Ns to chr17:90584747-90585754\n",
      "Adding 1344 Ns to chrX:157714045-157714727\n",
      "Adding 1344 Ns to chr14:119145121-119145777\n",
      "Adding 1344 Ns to chrX:164041949-164042526\n",
      "Adding 1344 Ns to chr16:90624028-90624320\n"
     ]
    },
    {
     "name": "stdout",
     "output_type": "stream",
     "text": [
      "process 53000 peaks takes 14.4 s\n"
     ]
    },
    {
     "name": "stderr",
     "output_type": "stream",
     "text": [
      "Adding 1344 Ns to chrX:162509294-162510022\n",
      "Adding 1344 Ns to chr18:82006394-82007069\n",
      "Adding 1344 Ns to chr16:96102937-96103391\n",
      "Adding 1344 Ns to chrX:168997328-168997786\n",
      "Adding 1344 Ns to chrX:158535722-158536132\n",
      "Adding 1344 Ns to chr14:117998923-117999245\n",
      "Adding 1344 Ns to chr13:119800948-119801302\n",
      "Adding 1344 Ns to chr18:82910538-82911102\n",
      "Adding 1344 Ns to chr17:87964497-87964854\n",
      "Adding 1344 Ns to chr14:119123035-119123196\n",
      "Adding 1344 Ns to chr16:95300388-95300831\n",
      "Adding 1344 Ns to chr17:89682413-89682802\n",
      "Adding 1344 Ns to chr18:86420991-86421270\n",
      "Adding 1344 Ns to chr14:123914374-123914615\n",
      "Adding 1344 Ns to chr17:86280985-86281215\n",
      "Adding 1344 Ns to chr16:90592642-90593347\n",
      "Adding 1344 Ns to chr14:118385211-118385464\n",
      "Adding 1344 Ns to chr14:119227654-119228126\n",
      "Adding 1344 Ns to chr14:119060690-119061237\n",
      "Adding 1344 Ns to chr18:86827390-86827553\n",
      "Adding 1344 Ns to chr18:85502350-85502855\n",
      "Adding 1344 Ns to chr16:96907537-96908230\n",
      "Adding 1344 Ns to chr16:95776156-95776463\n",
      "Adding 1344 Ns to chr14:117639635-117640138\n",
      "Adding 1344 Ns to chr16:93118281-93118499\n",
      "Adding 1344 Ns to chr18:83424153-83424399\n"
     ]
    },
    {
     "name": "stdout",
     "output_type": "stream",
     "text": [
      "process 0 peaks takes 0.3 s\n"
     ]
    },
    {
     "name": "stderr",
     "output_type": "stream",
     "text": [
      "Adding 1344 Ns to chr14:108074526-108074827\n",
      "Adding 1344 Ns to chr17:90556434-90556675\n",
      "Adding 1344 Ns to chrX:162800459-162800686\n",
      "Adding 1344 Ns to chr17:84748463-84748694\n",
      "Adding 1344 Ns to chr14:108912234-108912383\n",
      "Adding 1344 Ns to chr18:86319184-86319579\n",
      "Adding 1344 Ns to chr18:82733471-82733886\n",
      "Adding 1344 Ns to chr14:116723356-116723982\n",
      "Adding 1344 Ns to chr14:108729232-108729384\n",
      "Adding 1344 Ns to chrX:168672455-168672792\n",
      "Adding 1344 Ns to chr17:86840951-86841433\n",
      "Adding 1344 Ns to chr14:121642373-121642950\n",
      "Adding 1344 Ns to chr17:88786899-88787256\n",
      "Adding 1344 Ns to chr16:91504773-91505596\n",
      "Adding 1344 Ns to chrX:158591547-158591820\n",
      "Adding 1344 Ns to chr19:60629780-60630330\n",
      "Adding 1344 Ns to chrX:158166136-158166600\n",
      "Adding 1344 Ns to chrX:162759040-162759522\n",
      "Adding 1344 Ns to chr14:118854441-118855111\n",
      "Adding 1344 Ns to chr17:84044254-84044608\n",
      "Adding 1344 Ns to chr18:84909649-84910128\n",
      "Adding 1344 Ns to chr14:121311519-121311764\n",
      "Adding 1344 Ns to chr17:83776117-83776304\n",
      "Adding 1344 Ns to chr13:117633179-117633368\n",
      "Adding 1344 Ns to chr14:120441874-120442305\n"
     ]
    },
    {
     "name": "stdout",
     "output_type": "stream",
     "text": [
      "process 1000 peaks takes 0.5 s\n"
     ]
    },
    {
     "name": "stderr",
     "output_type": "stream",
     "text": [
      "Adding 1344 Ns to chr14:123574743-123575320\n",
      "Adding 1344 Ns to chr16:92454039-92454287\n",
      "Adding 1344 Ns to chr14:121254776-121255389\n",
      "Adding 1344 Ns to chr14:122097811-122098480\n",
      "Adding 1344 Ns to chr17:90225726-90225978\n",
      "Adding 1344 Ns to chr19:59338415-59338721\n",
      "Adding 1344 Ns to chr15:102355946-102356375\n",
      "Adding 1344 Ns to chr16:95573053-95573611\n",
      "Adding 1344 Ns to chr16:92158120-92158307\n",
      "Adding 1344 Ns to chr15:102194377-102194796\n",
      "Adding 1344 Ns to chr15:102013638-102013970\n",
      "Adding 1344 Ns to chr14:109582981-109583611\n",
      "Adding 1344 Ns to chrX:166732989-166733355\n",
      "Adding 1344 Ns to chrX:161854000-161854210\n",
      "Adding 1344 Ns to chr16:96753077-96753610\n",
      "Adding 1344 Ns to chr14:124596892-124597142\n",
      "Adding 1344 Ns to chrX:160137782-160138761\n",
      "Adding 1344 Ns to chr14:122599944-122600111\n",
      "Adding 1344 Ns to chr18:89263474-89263842\n",
      "Adding 1344 Ns to chr14:120522070-120522312\n",
      "Adding 1344 Ns to chr17:90659488-90659822\n",
      "Adding 1344 Ns to chr14:114587446-114587808\n",
      "Adding 1344 Ns to chr17:90435478-90436505\n",
      "Adding 1344 Ns to chr19:59388313-59388720\n",
      "Adding 1344 Ns to chrX:160749943-160750557\n",
      "Adding 1344 Ns to chr16:90746525-90746786\n",
      "Adding 1344 Ns to chrX:157920086-157920595\n",
      "Adding 1344 Ns to chr16:91442414-91442718\n",
      "Adding 1344 Ns to chr13:117880603-117880978\n",
      "Adding 1344 Ns to chr15:103473043-103473681\n",
      "Adding 1344 Ns to chr14:122854057-122854344\n"
     ]
    },
    {
     "name": "stdout",
     "output_type": "stream",
     "text": [
      "process 2000 peaks takes 0.8 s\n"
     ]
    },
    {
     "name": "stderr",
     "output_type": "stream",
     "text": [
      "Adding 1344 Ns to chrX:157633643-157633809\n",
      "Adding 1344 Ns to chr14:111437397-111437673\n",
      "Adding 1344 Ns to chr14:120685216-120685842\n",
      "Adding 1344 Ns to chr15:102651178-102651514\n",
      "Adding 1344 Ns to chr16:96049258-96049453\n",
      "Adding 1344 Ns to chr18:88735710-88735975\n",
      "Adding 1344 Ns to chr14:123461073-123461236\n",
      "Adding 1344 Ns to chr18:84709685-84710323\n",
      "Adding 1344 Ns to chr19:60437620-60438313\n",
      "Adding 1344 Ns to chr14:120835835-120836113\n",
      "Adding 1344 Ns to chr17:86315034-86315422\n",
      "Adding 1344 Ns to chr19:61097785-61098036\n",
      "Adding 1344 Ns to chr15:102233676-102234249\n",
      "Adding 1344 Ns to chr17:90289823-90290150\n",
      "Adding 1344 Ns to chr14:109941263-109941736\n",
      "Adding 1344 Ns to chr19:59074801-59076045\n",
      "Adding 1344 Ns to chr19:59922329-59922584\n",
      "Adding 1344 Ns to chr14:119797275-119797787\n",
      "Adding 1344 Ns to chr16:96258753-96258982\n",
      "Adding 1344 Ns to chr14:116948223-116948593\n",
      "Adding 1344 Ns to chr15:103145764-103146579\n",
      "Adding 1344 Ns to chr19:58762409-58762639\n",
      "Adding 1344 Ns to chr15:102684645-102684904\n",
      "Adding 1344 Ns to chrX:158536245-158536628\n",
      "Adding 1344 Ns to chr14:123272220-123272441\n",
      "Adding 1344 Ns to chr17:90280322-90280728\n",
      "Adding 1344 Ns to chr17:90667713-90667907\n",
      "Adding 1344 Ns to chrX:161017865-161018951\n",
      "Adding 1344 Ns to chrX:166950933-166951377\n",
      "Adding 1344 Ns to chr19:60889578-60890720\n",
      "Adding 1344 Ns to chrX:157981822-157982250\n",
      "Adding 1344 Ns to chr14:118972224-118972540\n"
     ]
    },
    {
     "name": "stdout",
     "output_type": "stream",
     "text": [
      "process 0 peaks takes 0.4 s\n"
     ]
    },
    {
     "name": "stderr",
     "output_type": "stream",
     "text": [
      "Adding 1344 Ns to chr17:88262637-88263324\n",
      "Adding 1344 Ns to chrX:159867609-159868146\n",
      "Adding 1344 Ns to chrX:167769853-167770250\n",
      "Adding 1344 Ns to chr17:86271302-86272102\n",
      "Adding 1344 Ns to chr16:97430044-97430586\n",
      "Adding 1344 Ns to chr14:114781150-114781597\n",
      "Adding 1344 Ns to chr16:94140646-94141200\n",
      "Adding 1344 Ns to chr16:94984221-94984663\n",
      "Adding 1344 Ns to chr16:91083333-91083569\n",
      "Adding 1344 Ns to chr18:83929307-83929815\n",
      "Adding 1344 Ns to chr18:86394632-86395737\n",
      "Adding 1344 Ns to chr18:88782173-88782818\n",
      "Adding 1344 Ns to chr14:124289349-124289682\n",
      "Adding 1344 Ns to chr18:82669896-82670045\n",
      "Adding 1344 Ns to chr15:102108040-102108319\n",
      "Adding 1344 Ns to chr16:95844584-95845006\n",
      "Adding 1344 Ns to chr16:91882193-91882564\n",
      "Adding 1344 Ns to chrX:165246957-165247314\n",
      "Adding 1344 Ns to chr17:84551241-84551667\n",
      "Adding 1344 Ns to chr16:90511345-90512145\n",
      "Adding 1344 Ns to chr18:82677125-82677734\n",
      "Adding 1344 Ns to chrX:163205525-163205744\n",
      "Adding 1344 Ns to chrX:166296091-166296281\n",
      "Adding 1344 Ns to chr17:86296536-86296751\n",
      "Adding 1344 Ns to chr14:122841518-122841931\n",
      "Adding 1344 Ns to chr16:94227709-94228001\n",
      "Adding 1344 Ns to chr13:118271164-118271412\n",
      "Adding 1344 Ns to chr14:123367817-123368023\n",
      "Adding 1344 Ns to chr17:84100515-84100967\n",
      "Adding 1344 Ns to chr17:83586907-83588183\n",
      "Adding 1344 Ns to chr18:85308373-85308542\n",
      "Adding 1344 Ns to chr16:94568940-94570159\n",
      "Adding 1344 Ns to chr16:97701159-97701376\n",
      "Adding 1344 Ns to chr17:87351655-87351936\n",
      "Adding 1344 Ns to chr14:121480110-121480429\n",
      "Adding 1344 Ns to chr16:96539157-96539432\n",
      "Adding 1344 Ns to chr18:80807289-80807605\n",
      "Adding 1344 Ns to chr14:116926250-116927245\n",
      "Adding 1344 Ns to chr16:94570452-94570832\n",
      "Adding 1344 Ns to chr17:87426812-87427051\n",
      "Adding 1344 Ns to chr13:119780192-119780587\n",
      "Adding 1344 Ns to chr17:84285245-84285657\n",
      "Adding 1344 Ns to chr14:119606762-119607179\n",
      "Adding 1344 Ns to chr16:96353969-96354243\n",
      "Adding 1344 Ns to chr14:122064685-122064877\n"
     ]
    },
    {
     "name": "stdout",
     "output_type": "stream",
     "text": [
      "process 1000 peaks takes 0.8 s\n"
     ]
    }
   ],
   "source": [
    "\n",
    "atac=ad.read_h5ad('/home/ubuntu0/scBasset/Chen-2019-ATAC.h5ad')\n",
    "atacl= []\n",
    "file_name=[]\n",
    "processed_name =[]\n",
    "output=[]\n",
    "ncell=4000\n",
    "nfeature=60000\n",
    "atac=ad.read_h5ad('/home/ubuntu0/scBasset/Chen-2019-ATAC.h5ad')\n",
    "folder= now + 'data'\n",
    "os.makedirs(folder,exist_ok=True)\n",
    "os.makedirs(now+'processed',exist_ok=True)\n",
    "os.makedirs(now+'output',exist_ok=True)\n",
    "epoch=100\n",
    "trained_model=None # or best_model.h5 file\n",
    "\n",
    "for i in range(5):\n",
    "    #generate 3 dataset\n",
    "    atacl.append(draw_scb_data(atac,ncell,nfeature))\n",
    "    atacl[i].write_h5ad(folder+'/atac'+str(i)+'.h5ad')\n",
    "    file_name.append(folder+'/atac'+str(i)+'.h5ad')\n",
    "    processed_name.append(now+'processed/processed'+str(i))\n",
    "    #preprocess dataset\n",
    "    call_preprocess(file_name[i],processed_name[i])\n",
    "    output.append(now+'ouput/output'+str(i))\n",
    "    #train data for 100 epoch,change chrome length to 2344\n",
    "    # call_train(processed_name[i],epoch,output[i],trained_model)\n",
    "    \n"
   ]
  },
  {
   "cell_type": "code",
   "execution_count": 5,
   "id": "bf00d631-3672-49ca-a221-82221c8fb445",
   "metadata": {
    "tags": []
   },
   "outputs": [
    {
     "data": {
      "text/plain": [
       "['2024-01-27-06_43_00ouput/output0',\n",
       " '2024-01-27-06_43_00ouput/output1',\n",
       " '2024-01-27-06_43_00ouput/output2']"
      ]
     },
     "execution_count": 5,
     "metadata": {},
     "output_type": "execute_result"
    }
   ],
   "source": [
    "output"
   ]
  },
  {
   "cell_type": "code",
   "execution_count": 2,
   "id": "7b60fc31-91ff-4959-8408-a5f39e69e8a3",
   "metadata": {
    "tags": []
   },
   "outputs": [
    {
     "name": "stderr",
     "output_type": "stream",
     "text": [
      "2024-01-29 03:54:10.087390: I tensorflow/core/platform/cpu_feature_guard.cc:193] This TensorFlow binary is optimized with oneAPI Deep Neural Network Library (oneDNN) to use the following CPU instructions in performance-critical operations:  AVX2 AVX_VNNI FMA\n",
      "To enable them in other operations, rebuild TensorFlow with the appropriate compiler flags.\n",
      "2024-01-29 03:54:10.169055: I tensorflow/core/util/util.cc:169] oneDNN custom operations are on. You may see slightly different numerical results due to floating-point round-off errors from different computation orders. To turn them off, set the environment variable `TF_ENABLE_ONEDNN_OPTS=0`.\n",
      "2024-01-29 03:54:10.187523: E tensorflow/stream_executor/cuda/cuda_blas.cc:2981] Unable to register cuBLAS factory: Attempting to register factory for plugin cuBLAS when one has already been registered\n",
      "2024-01-29 03:54:10.546062: W tensorflow/stream_executor/platform/default/dso_loader.cc:64] Could not load dynamic library 'libnvinfer.so.7'; dlerror: libnvinfer.so.7: cannot open shared object file: No such file or directory; LD_LIBRARY_PATH: :/home/ubuntu0/miniconda3/envs/scbasset/lib\n",
      "2024-01-29 03:54:10.546140: W tensorflow/stream_executor/platform/default/dso_loader.cc:64] Could not load dynamic library 'libnvinfer_plugin.so.7'; dlerror: libnvinfer_plugin.so.7: cannot open shared object file: No such file or directory; LD_LIBRARY_PATH: :/home/ubuntu0/miniconda3/envs/scbasset/lib\n",
      "2024-01-29 03:54:10.546146: W tensorflow/compiler/tf2tensorrt/utils/py_utils.cc:38] TF-TRT Warning: Cannot dlopen some TensorRT libraries. If you would like to use Nvidia GPU with TensorRT, please make sure the missing libraries mentioned above are installed properly.\n"
     ]
    },
    {
     "name": "stdout",
     "output_type": "stream",
     "text": [
      "cpu memory used: 0.6GB.\n"
     ]
    },
    {
     "name": "stderr",
     "output_type": "stream",
     "text": [
      "2024-01-29 03:54:10.975775: I tensorflow/stream_executor/cuda/cuda_gpu_executor.cc:966] could not open file to read NUMA node: /sys/bus/pci/devices/0000:01:00.0/numa_node\n",
      "Your kernel may have been built without NUMA support.\n",
      "2024-01-29 03:54:10.982802: I tensorflow/stream_executor/cuda/cuda_gpu_executor.cc:966] could not open file to read NUMA node: /sys/bus/pci/devices/0000:01:00.0/numa_node\n",
      "Your kernel may have been built without NUMA support.\n",
      "2024-01-29 03:54:10.982860: I tensorflow/stream_executor/cuda/cuda_gpu_executor.cc:966] could not open file to read NUMA node: /sys/bus/pci/devices/0000:01:00.0/numa_node\n",
      "Your kernel may have been built without NUMA support.\n",
      "2024-01-29 03:54:10.983335: I tensorflow/core/platform/cpu_feature_guard.cc:193] This TensorFlow binary is optimized with oneAPI Deep Neural Network Library (oneDNN) to use the following CPU instructions in performance-critical operations:  AVX2 AVX_VNNI FMA\n",
      "To enable them in other operations, rebuild TensorFlow with the appropriate compiler flags.\n",
      "2024-01-29 03:54:10.985390: I tensorflow/stream_executor/cuda/cuda_gpu_executor.cc:966] could not open file to read NUMA node: /sys/bus/pci/devices/0000:01:00.0/numa_node\n",
      "Your kernel may have been built without NUMA support.\n",
      "2024-01-29 03:54:10.985449: I tensorflow/stream_executor/cuda/cuda_gpu_executor.cc:966] could not open file to read NUMA node: /sys/bus/pci/devices/0000:01:00.0/numa_node\n",
      "Your kernel may have been built without NUMA support.\n",
      "2024-01-29 03:54:10.985466: I tensorflow/stream_executor/cuda/cuda_gpu_executor.cc:966] could not open file to read NUMA node: /sys/bus/pci/devices/0000:01:00.0/numa_node\n",
      "Your kernel may have been built without NUMA support.\n",
      "2024-01-29 03:54:11.426399: I tensorflow/stream_executor/cuda/cuda_gpu_executor.cc:966] could not open file to read NUMA node: /sys/bus/pci/devices/0000:01:00.0/numa_node\n",
      "Your kernel may have been built without NUMA support.\n",
      "2024-01-29 03:54:11.426508: I tensorflow/stream_executor/cuda/cuda_gpu_executor.cc:966] could not open file to read NUMA node: /sys/bus/pci/devices/0000:01:00.0/numa_node\n",
      "Your kernel may have been built without NUMA support.\n",
      "2024-01-29 03:54:11.426516: I tensorflow/core/common_runtime/gpu/gpu_device.cc:1700] Could not identify NUMA node of platform GPU id 0, defaulting to 0.  Your kernel may not have been built with NUMA support.\n",
      "2024-01-29 03:54:11.426551: I tensorflow/stream_executor/cuda/cuda_gpu_executor.cc:966] could not open file to read NUMA node: /sys/bus/pci/devices/0000:01:00.0/numa_node\n",
      "Your kernel may have been built without NUMA support.\n",
      "2024-01-29 03:54:11.426584: I tensorflow/core/common_runtime/gpu/gpu_device.cc:1616] Created device /job:localhost/replica:0/task:0/device:GPU:0 with 5399 MB memory:  -> device: 0, name: NVIDIA GeForce RTX 4060 Laptop GPU, pci bus id: 0000:01:00.0, compute capability: 8.9\n"
     ]
    },
    {
     "name": "stdout",
     "output_type": "stream",
     "text": [
      "Model: \"model\"\n",
      "__________________________________________________________________________________________________\n",
      " Layer (type)                   Output Shape         Param #     Connected to                     \n",
      "==================================================================================================\n",
      " sequence (InputLayer)          [(None, 1344, 4)]    0           []                               \n",
      "                                                                                                  \n",
      " stochastic_reverse_complement   ((None, 1344, 4),   0           ['sequence[0][0]']               \n",
      " (StochasticReverseComplement)   ())                                                              \n",
      "                                                                                                  \n",
      " stochastic_shift (StochasticSh  (None, 1344, 4)     0           ['stochastic_reverse_complement[0\n",
      " ift)                                                            ][0]']                           \n",
      "                                                                                                  \n",
      " gelu (GELU)                    (None, 1344, 4)      0           ['stochastic_shift[0][0]']       \n",
      "                                                                                                  \n",
      " conv1d (Conv1D)                (None, 1344, 288)    19584       ['gelu[0][0]']                   \n",
      "                                                                                                  \n",
      " batch_normalization (BatchNorm  (None, 1344, 288)   1152        ['conv1d[0][0]']                 \n",
      " alization)                                                                                       \n",
      "                                                                                                  \n",
      " max_pooling1d (MaxPooling1D)   (None, 448, 288)     0           ['batch_normalization[0][0]']    \n",
      "                                                                                                  \n",
      " gelu_1 (GELU)                  (None, 448, 288)     0           ['max_pooling1d[0][0]']          \n",
      "                                                                                                  \n",
      " conv1d_1 (Conv1D)              (None, 448, 288)     414720      ['gelu_1[0][0]']                 \n",
      "                                                                                                  \n",
      " batch_normalization_1 (BatchNo  (None, 448, 288)    1152        ['conv1d_1[0][0]']               \n",
      " rmalization)                                                                                     \n",
      "                                                                                                  \n",
      " max_pooling1d_1 (MaxPooling1D)  (None, 224, 288)    0           ['batch_normalization_1[0][0]']  \n",
      "                                                                                                  \n",
      " gelu_2 (GELU)                  (None, 224, 288)     0           ['max_pooling1d_1[0][0]']        \n",
      "                                                                                                  \n",
      " conv1d_2 (Conv1D)              (None, 224, 323)     465120      ['gelu_2[0][0]']                 \n",
      "                                                                                                  \n",
      " batch_normalization_2 (BatchNo  (None, 224, 323)    1292        ['conv1d_2[0][0]']               \n",
      " rmalization)                                                                                     \n",
      "                                                                                                  \n",
      " max_pooling1d_2 (MaxPooling1D)  (None, 112, 323)    0           ['batch_normalization_2[0][0]']  \n",
      "                                                                                                  \n",
      " gelu_3 (GELU)                  (None, 112, 323)     0           ['max_pooling1d_2[0][0]']        \n",
      "                                                                                                  \n",
      " conv1d_3 (Conv1D)              (None, 112, 363)     586245      ['gelu_3[0][0]']                 \n",
      "                                                                                                  \n",
      " batch_normalization_3 (BatchNo  (None, 112, 363)    1452        ['conv1d_3[0][0]']               \n",
      " rmalization)                                                                                     \n",
      "                                                                                                  \n",
      " max_pooling1d_3 (MaxPooling1D)  (None, 56, 363)     0           ['batch_normalization_3[0][0]']  \n",
      "                                                                                                  \n",
      " gelu_4 (GELU)                  (None, 56, 363)      0           ['max_pooling1d_3[0][0]']        \n",
      "                                                                                                  \n",
      " conv1d_4 (Conv1D)              (None, 56, 407)      738705      ['gelu_4[0][0]']                 \n",
      "                                                                                                  \n",
      " batch_normalization_4 (BatchNo  (None, 56, 407)     1628        ['conv1d_4[0][0]']               \n",
      " rmalization)                                                                                     \n",
      "                                                                                                  \n",
      " max_pooling1d_4 (MaxPooling1D)  (None, 28, 407)     0           ['batch_normalization_4[0][0]']  \n",
      "                                                                                                  \n",
      " gelu_5 (GELU)                  (None, 28, 407)      0           ['max_pooling1d_4[0][0]']        \n",
      "                                                                                                  \n",
      " conv1d_5 (Conv1D)              (None, 28, 456)      927960      ['gelu_5[0][0]']                 \n",
      "                                                                                                  \n",
      " batch_normalization_5 (BatchNo  (None, 28, 456)     1824        ['conv1d_5[0][0]']               \n",
      " rmalization)                                                                                     \n",
      "                                                                                                  \n",
      " max_pooling1d_5 (MaxPooling1D)  (None, 14, 456)     0           ['batch_normalization_5[0][0]']  \n",
      "                                                                                                  \n",
      " gelu_6 (GELU)                  (None, 14, 456)      0           ['max_pooling1d_5[0][0]']        \n",
      "                                                                                                  \n",
      " conv1d_6 (Conv1D)              (None, 14, 512)      1167360     ['gelu_6[0][0]']                 \n",
      "                                                                                                  \n",
      " batch_normalization_6 (BatchNo  (None, 14, 512)     2048        ['conv1d_6[0][0]']               \n",
      " rmalization)                                                                                     \n",
      "                                                                                                  \n",
      " max_pooling1d_6 (MaxPooling1D)  (None, 7, 512)      0           ['batch_normalization_6[0][0]']  \n",
      "                                                                                                  \n",
      " gelu_7 (GELU)                  (None, 7, 512)       0           ['max_pooling1d_6[0][0]']        \n",
      "                                                                                                  \n",
      " conv1d_7 (Conv1D)              (None, 7, 256)       131072      ['gelu_7[0][0]']                 \n",
      "                                                                                                  \n",
      " batch_normalization_7 (BatchNo  (None, 7, 256)      1024        ['conv1d_7[0][0]']               \n",
      " rmalization)                                                                                     \n",
      "                                                                                                  \n",
      " gelu_8 (GELU)                  (None, 7, 256)       0           ['batch_normalization_7[0][0]']  \n",
      "                                                                                                  \n",
      " reshape (Reshape)              (None, 1, 1792)      0           ['gelu_8[0][0]']                 \n",
      "                                                                                                  \n",
      " dense (Dense)                  (None, 1, 100)       179200      ['reshape[0][0]']                \n",
      "                                                                                                  \n",
      " batch_normalization_8 (BatchNo  (None, 1, 100)      400         ['dense[0][0]']                  \n",
      " rmalization)                                                                                     \n",
      "                                                                                                  \n",
      " dropout (Dropout)              (None, 1, 100)       0           ['batch_normalization_8[0][0]']  \n",
      "                                                                                                  \n",
      " gelu_9 (GELU)                  (None, 1, 100)       0           ['dropout[0][0]']                \n",
      "                                                                                                  \n",
      " dense_1 (Dense)                (None, 1, 4000)      404000      ['gelu_9[0][0]']                 \n",
      "                                                                                                  \n",
      " switch_reverse (SwitchReverse)  (None, 1, 4000)     0           ['dense_1[0][0]',                \n",
      "                                                                  'stochastic_reverse_complement[0\n",
      "                                                                 ][1]']                           \n",
      "                                                                                                  \n",
      " flatten (Flatten)              (None, 4000)         0           ['switch_reverse[0][0]']         \n",
      "                                                                                                  \n",
      "==================================================================================================\n",
      "Total params: 5,045,938\n",
      "Trainable params: 5,039,952\n",
      "Non-trainable params: 5,986\n",
      "__________________________________________________________________________________________________\n",
      "Epoch 1/100\n"
     ]
    },
    {
     "name": "stderr",
     "output_type": "stream",
     "text": [
      "2024-01-29 03:54:14.987655: I tensorflow/stream_executor/cuda/cuda_dnn.cc:384] Loaded cuDNN version 8201\n",
      "2024-01-29 03:54:15.813233: W tensorflow/stream_executor/gpu/asm_compiler.cc:230] Falling back to the CUDA driver for PTX compilation; ptxas does not support CC 8.9\n",
      "2024-01-29 03:54:15.813269: W tensorflow/stream_executor/gpu/asm_compiler.cc:233] Used ptxas at ptxas\n",
      "2024-01-29 03:54:15.813346: W tensorflow/stream_executor/gpu/redzone_allocator.cc:314] UNIMPLEMENTED: ptxas ptxas too old. Falling back to the driver to compile.\n",
      "Relying on driver to perform ptx compilation. \n",
      "Modify $PATH to customize ptxas location.\n",
      "This message will be only logged once.\n",
      "2024-01-29 03:54:16.784862: I tensorflow/stream_executor/cuda/cuda_blas.cc:1614] TensorFloat-32 will be used for the matrix multiplication. This will only be logged once.\n"
     ]
    },
    {
     "name": "stdout",
     "output_type": "stream",
     "text": [
      "422/422 [==============================] - 71s 152ms/step - loss: 0.0680 - auc: 0.5022 - auc_1: 0.0105 - val_loss: 0.0563 - val_auc: 0.5011 - val_auc_1: 0.0106\n",
      "Epoch 2/100\n",
      "422/422 [==============================] - 62s 146ms/step - loss: 0.0578 - auc: 0.5005 - auc_1: 0.0105 - val_loss: 0.0553 - val_auc: 0.5026 - val_auc_1: 0.0105\n",
      "Epoch 3/100\n",
      "422/422 [==============================] - 62s 147ms/step - loss: 0.0575 - auc: 0.4969 - auc_1: 0.0103 - val_loss: 0.0558 - val_auc: 0.5082 - val_auc_1: 0.0105\n",
      "Epoch 4/100\n",
      "422/422 [==============================] - 62s 146ms/step - loss: 0.0573 - auc: 0.4996 - auc_1: 0.0107 - val_loss: 0.0555 - val_auc: 0.5078 - val_auc_1: 0.0106\n",
      "Epoch 5/100\n",
      "422/422 [==============================] - 62s 146ms/step - loss: 0.0571 - auc: 0.4971 - auc_1: 0.0103 - val_loss: 0.0553 - val_auc: 0.5012 - val_auc_1: 0.0105\n",
      "Epoch 6/100\n",
      "422/422 [==============================] - 62s 146ms/step - loss: 0.0568 - auc: 0.5020 - auc_1: 0.0105 - val_loss: 0.0542 - val_auc: 0.5053 - val_auc_1: 0.0112\n",
      "Epoch 7/100\n",
      "422/422 [==============================] - 62s 147ms/step - loss: 0.0567 - auc: 0.5016 - auc_1: 0.0105 - val_loss: 0.0541 - val_auc: 0.4931 - val_auc_1: 0.0099\n",
      "Epoch 8/100\n",
      "422/422 [==============================] - 62s 146ms/step - loss: 0.0567 - auc: 0.4972 - auc_1: 0.0103 - val_loss: 0.0544 - val_auc: 0.4985 - val_auc_1: 0.0101\n",
      "Epoch 9/100\n",
      "422/422 [==============================] - 62s 146ms/step - loss: 0.0566 - auc: 0.4998 - auc_1: 0.0104 - val_loss: 0.0549 - val_auc: 0.5044 - val_auc_1: 0.0107\n",
      "Epoch 10/100\n",
      "422/422 [==============================] - 62s 146ms/step - loss: 0.0566 - auc: 0.4974 - auc_1: 0.0103 - val_loss: 0.0549 - val_auc: 0.5096 - val_auc_1: 0.0108\n",
      "Epoch 11/100\n",
      "422/422 [==============================] - 62s 147ms/step - loss: 0.0566 - auc: 0.5005 - auc_1: 0.0105 - val_loss: 0.0549 - val_auc: 0.5032 - val_auc_1: 0.0105\n",
      "Epoch 12/100\n",
      "422/422 [==============================] - 62s 147ms/step - loss: 0.0565 - auc: 0.5016 - auc_1: 0.0105 - val_loss: 0.0545 - val_auc: 0.4962 - val_auc_1: 0.0098\n",
      "Epoch 13/100\n",
      "422/422 [==============================] - 62s 147ms/step - loss: 0.0565 - auc: 0.4993 - auc_1: 0.0105 - val_loss: 0.0541 - val_auc: 0.5031 - val_auc_1: 0.0103\n",
      "Epoch 14/100\n",
      "422/422 [==============================] - 62s 147ms/step - loss: 0.0565 - auc: 0.4983 - auc_1: 0.0104 - val_loss: 0.0541 - val_auc: 0.4998 - val_auc_1: 0.0101\n",
      "Epoch 15/100\n",
      "422/422 [==============================] - 62s 147ms/step - loss: 0.0565 - auc: 0.5022 - auc_1: 0.0105 - val_loss: 0.0543 - val_auc: 0.5015 - val_auc_1: 0.0105\n",
      "Epoch 16/100\n",
      "422/422 [==============================] - 63s 147ms/step - loss: 0.0565 - auc: 0.4989 - auc_1: 0.0104 - val_loss: 0.0540 - val_auc: 0.5020 - val_auc_1: 0.0105\n",
      "Epoch 17/100\n",
      "422/422 [==============================] - 62s 147ms/step - loss: 0.0565 - auc: 0.5006 - auc_1: 0.0105 - val_loss: 0.0546 - val_auc: 0.5022 - val_auc_1: 0.0102\n",
      "Epoch 18/100\n",
      "422/422 [==============================] - 63s 147ms/step - loss: 0.0565 - auc: 0.5007 - auc_1: 0.0105 - val_loss: 0.0544 - val_auc: 0.5012 - val_auc_1: 0.0103\n",
      "Epoch 19/100\n",
      "422/422 [==============================] - 63s 147ms/step - loss: 0.0565 - auc: 0.5025 - auc_1: 0.0106 - val_loss: 0.0541 - val_auc: 0.4990 - val_auc_1: 0.0099\n",
      "Epoch 20/100\n",
      "422/422 [==============================] - 63s 147ms/step - loss: 0.0564 - auc: 0.5009 - auc_1: 0.0105 - val_loss: 0.0539 - val_auc: 0.5008 - val_auc_1: 0.0102\n",
      "Epoch 21/100\n",
      "422/422 [==============================] - 62s 147ms/step - loss: 0.0564 - auc: 0.5016 - auc_1: 0.0105 - val_loss: 0.0543 - val_auc: 0.4984 - val_auc_1: 0.0101\n",
      "Epoch 22/100\n",
      "422/422 [==============================] - 63s 148ms/step - loss: 0.0565 - auc: 0.4998 - auc_1: 0.0104 - val_loss: 0.0541 - val_auc: 0.5006 - val_auc_1: 0.0102\n",
      "Epoch 23/100\n",
      "422/422 [==============================] - 63s 147ms/step - loss: 0.0564 - auc: 0.5009 - auc_1: 0.0105 - val_loss: 0.0541 - val_auc: 0.5000 - val_auc_1: 0.0101\n",
      "Epoch 24/100\n",
      "422/422 [==============================] - 62s 147ms/step - loss: 0.0563 - auc: 0.5040 - auc_1: 0.0106 - val_loss: 0.0541 - val_auc: 0.4977 - val_auc_1: 0.0099\n",
      "Epoch 25/100\n",
      "422/422 [==============================] - 62s 146ms/step - loss: 0.0564 - auc: 0.5035 - auc_1: 0.0106 - val_loss: 0.0545 - val_auc: 0.4983 - val_auc_1: 0.0103\n",
      "Epoch 26/100\n",
      "422/422 [==============================] - 62s 147ms/step - loss: 0.0565 - auc: 0.5004 - auc_1: 0.0105 - val_loss: 0.0539 - val_auc: 0.4985 - val_auc_1: 0.0101\n",
      "Epoch 27/100\n",
      "422/422 [==============================] - 62s 146ms/step - loss: 0.0564 - auc: 0.5004 - auc_1: 0.0104 - val_loss: 0.0544 - val_auc: 0.5073 - val_auc_1: 0.0107\n",
      "Epoch 28/100\n",
      "422/422 [==============================] - 62s 146ms/step - loss: 0.0564 - auc: 0.4998 - auc_1: 0.0104 - val_loss: 0.0539 - val_auc: 0.4995 - val_auc_1: 0.0099\n",
      "Epoch 29/100\n",
      "422/422 [==============================] - 62s 147ms/step - loss: 0.0564 - auc: 0.4991 - auc_1: 0.0104 - val_loss: 0.0546 - val_auc: 0.5013 - val_auc_1: 0.0104\n",
      "Epoch 30/100\n",
      "422/422 [==============================] - 62s 147ms/step - loss: 0.0564 - auc: 0.4987 - auc_1: 0.0103 - val_loss: 0.0545 - val_auc: 0.5029 - val_auc_1: 0.0107\n",
      "Epoch 31/100\n",
      "422/422 [==============================] - 62s 147ms/step - loss: 0.0563 - auc: 0.4991 - auc_1: 0.0105 - val_loss: 0.0539 - val_auc: 0.4960 - val_auc_1: 0.0099\n",
      "Epoch 32/100\n",
      "422/422 [==============================] - 62s 146ms/step - loss: 0.0563 - auc: 0.5007 - auc_1: 0.0104 - val_loss: 0.0545 - val_auc: 0.4998 - val_auc_1: 0.0101\n",
      "Epoch 33/100\n",
      "422/422 [==============================] - 62s 146ms/step - loss: 0.0563 - auc: 0.5009 - auc_1: 0.0105 - val_loss: 0.0539 - val_auc: 0.4996 - val_auc_1: 0.0100\n",
      "Epoch 34/100\n",
      "422/422 [==============================] - 62s 147ms/step - loss: 0.0563 - auc: 0.5029 - auc_1: 0.0105 - val_loss: 0.0540 - val_auc: 0.5041 - val_auc_1: 0.0105\n",
      "Epoch 35/100\n",
      "422/422 [==============================] - 63s 147ms/step - loss: 0.0563 - auc: 0.5033 - auc_1: 0.0105 - val_loss: 0.0542 - val_auc: 0.5049 - val_auc_1: 0.0105\n",
      "Epoch 36/100\n",
      "422/422 [==============================] - 63s 147ms/step - loss: 0.0563 - auc: 0.5028 - auc_1: 0.0106 - val_loss: 0.0542 - val_auc: 0.5045 - val_auc_1: 0.0107\n",
      "Epoch 37/100\n",
      "422/422 [==============================] - 63s 148ms/step - loss: 0.0563 - auc: 0.5045 - auc_1: 0.0107 - val_loss: 0.0544 - val_auc: 0.5043 - val_auc_1: 0.0102\n",
      "Epoch 38/100\n",
      "422/422 [==============================] - 63s 148ms/step - loss: 0.0562 - auc: 0.5055 - auc_1: 0.0106 - val_loss: 0.0539 - val_auc: 0.5012 - val_auc_1: 0.0103\n",
      "Epoch 39/100\n",
      "422/422 [==============================] - 63s 148ms/step - loss: 0.0563 - auc: 0.5050 - auc_1: 0.0106 - val_loss: 0.0538 - val_auc: 0.5023 - val_auc_1: 0.0108\n",
      "Epoch 40/100\n",
      "422/422 [==============================] - 63s 148ms/step - loss: 0.0562 - auc: 0.5061 - auc_1: 0.0107 - val_loss: 0.0542 - val_auc: 0.5010 - val_auc_1: 0.0104\n",
      "Epoch 41/100\n",
      "422/422 [==============================] - 63s 148ms/step - loss: 0.0562 - auc: 0.5081 - auc_1: 0.0107 - val_loss: 0.0543 - val_auc: 0.5007 - val_auc_1: 0.0101\n",
      "Epoch 42/100\n",
      "422/422 [==============================] - 63s 148ms/step - loss: 0.0562 - auc: 0.5080 - auc_1: 0.0108 - val_loss: 0.0539 - val_auc: 0.5035 - val_auc_1: 0.0105\n",
      "Epoch 43/100\n",
      "422/422 [==============================] - 63s 148ms/step - loss: 0.0562 - auc: 0.5079 - auc_1: 0.0108 - val_loss: 0.0540 - val_auc: 0.5045 - val_auc_1: 0.0106\n",
      "Epoch 44/100\n",
      "422/422 [==============================] - 63s 148ms/step - loss: 0.0562 - auc: 0.5105 - auc_1: 0.0108 - val_loss: 0.0541 - val_auc: 0.5038 - val_auc_1: 0.0107\n",
      "Epoch 45/100\n",
      "422/422 [==============================] - 63s 148ms/step - loss: 0.0561 - auc: 0.5112 - auc_1: 0.0109 - val_loss: 0.0542 - val_auc: 0.5035 - val_auc_1: 0.0103\n",
      "Epoch 46/100\n",
      "422/422 [==============================] - 63s 148ms/step - loss: 0.0561 - auc: 0.5140 - auc_1: 0.0110 - val_loss: 0.0540 - val_auc: 0.5010 - val_auc_1: 0.0107\n",
      "Epoch 47/100\n",
      "422/422 [==============================] - 63s 148ms/step - loss: 0.0561 - auc: 0.5154 - auc_1: 0.0111 - val_loss: 0.0541 - val_auc: 0.4980 - val_auc_1: 0.0103\n",
      "Epoch 48/100\n",
      "422/422 [==============================] - 63s 148ms/step - loss: 0.0561 - auc: 0.5166 - auc_1: 0.0112 - val_loss: 0.0541 - val_auc: 0.5057 - val_auc_1: 0.0110\n",
      "Epoch 49/100\n",
      "422/422 [==============================] - 63s 148ms/step - loss: 0.0560 - auc: 0.5189 - auc_1: 0.0113 - val_loss: 0.0540 - val_auc: 0.5047 - val_auc_1: 0.0106\n",
      "Epoch 50/100\n",
      "422/422 [==============================] - 63s 148ms/step - loss: 0.0560 - auc: 0.5245 - auc_1: 0.0117 - val_loss: 0.0541 - val_auc: 0.5004 - val_auc_1: 0.0103\n",
      "Epoch 51/100\n",
      "422/422 [==============================] - 63s 146ms/step - loss: 0.0560 - auc: 0.5274 - auc_1: 0.0117 - val_loss: 0.0540 - val_auc: 0.5002 - val_auc_1: 0.0103\n",
      "Epoch 52/100\n",
      "422/422 [==============================] - 63s 147ms/step - loss: 0.0559 - auc: 0.5318 - auc_1: 0.0120 - val_loss: 0.0540 - val_auc: 0.5001 - val_auc_1: 0.0110\n",
      "Epoch 53/100\n",
      "422/422 [==============================] - 63s 148ms/step - loss: 0.0559 - auc: 0.5366 - auc_1: 0.0123 - val_loss: 0.0540 - val_auc: 0.5016 - val_auc_1: 0.0113\n",
      "Epoch 54/100\n",
      "422/422 [==============================] - 63s 148ms/step - loss: 0.0559 - auc: 0.5384 - auc_1: 0.0127 - val_loss: 0.0541 - val_auc: 0.5026 - val_auc_1: 0.0105\n",
      "Epoch 55/100\n",
      "422/422 [==============================] - 63s 148ms/step - loss: 0.0558 - auc: 0.5435 - auc_1: 0.0128 - val_loss: 0.0542 - val_auc: 0.4956 - val_auc_1: 0.0104\n",
      "Epoch 56/100\n",
      "422/422 [==============================] - 63s 149ms/step - loss: 0.0557 - auc: 0.5555 - auc_1: 0.0135 - val_loss: 0.0542 - val_auc: 0.4952 - val_auc_1: 0.0104\n",
      "Epoch 57/100\n",
      "422/422 [==============================] - 63s 148ms/step - loss: 0.0557 - auc: 0.5575 - auc_1: 0.0139 - val_loss: 0.0542 - val_auc: 0.5063 - val_auc_1: 0.0107\n",
      "Epoch 58/100\n",
      "422/422 [==============================] - 63s 147ms/step - loss: 0.0556 - auc: 0.5642 - auc_1: 0.0146 - val_loss: 0.0545 - val_auc: 0.5028 - val_auc_1: 0.0111\n",
      "Epoch 59/100\n",
      "422/422 [==============================] - 63s 147ms/step - loss: 0.0555 - auc: 0.5742 - auc_1: 0.0153 - val_loss: 0.0543 - val_auc: 0.5054 - val_auc_1: 0.0112\n",
      "Epoch 60/100\n",
      "422/422 [==============================] - 63s 148ms/step - loss: 0.0554 - auc: 0.5804 - auc_1: 0.0164 - val_loss: 0.0549 - val_auc: 0.4956 - val_auc_1: 0.0111\n",
      "Epoch 61/100\n",
      "422/422 [==============================] - 63s 148ms/step - loss: 0.0553 - auc: 0.5863 - auc_1: 0.0171 - val_loss: 0.0548 - val_auc: 0.5037 - val_auc_1: 0.0111\n",
      "Epoch 62/100\n",
      "422/422 [==============================] - 63s 148ms/step - loss: 0.0550 - auc: 0.5991 - auc_1: 0.0194 - val_loss: 0.0548 - val_auc: 0.5025 - val_auc_1: 0.0117\n",
      "Epoch 63/100\n",
      "422/422 [==============================] - 63s 149ms/step - loss: 0.0549 - auc: 0.6025 - auc_1: 0.0220 - val_loss: 0.0548 - val_auc: 0.4979 - val_auc_1: 0.0120\n",
      "Epoch 64/100\n",
      "422/422 [==============================] - 63s 149ms/step - loss: 0.0547 - auc: 0.6085 - auc_1: 0.0244 - val_loss: 0.0545 - val_auc: 0.5028 - val_auc_1: 0.0109\n",
      "Epoch 65/100\n",
      "422/422 [==============================] - 63s 149ms/step - loss: 0.0543 - auc: 0.6168 - auc_1: 0.0290 - val_loss: 0.0548 - val_auc: 0.4919 - val_auc_1: 0.0121\n",
      "Epoch 66/100\n",
      "422/422 [==============================] - 63s 149ms/step - loss: 0.0541 - auc: 0.6237 - auc_1: 0.0315 - val_loss: 0.0547 - val_auc: 0.4936 - val_auc_1: 0.0104\n",
      "Epoch 67/100\n",
      "422/422 [==============================] - 63s 149ms/step - loss: 0.0539 - auc: 0.6292 - auc_1: 0.0334 - val_loss: 0.0546 - val_auc: 0.5019 - val_auc_1: 0.0115\n",
      "Epoch 68/100\n",
      "422/422 [==============================] - 63s 149ms/step - loss: 0.0536 - auc: 0.6386 - auc_1: 0.0367 - val_loss: 0.0551 - val_auc: 0.5023 - val_auc_1: 0.0118\n",
      "Epoch 69/100\n",
      "422/422 [==============================] - 63s 146ms/step - loss: 0.0533 - auc: 0.6459 - auc_1: 0.0400 - val_loss: 0.0549 - val_auc: 0.5057 - val_auc_1: 0.0115\n",
      "Epoch 70/100\n",
      "422/422 [==============================] - 62s 146ms/step - loss: 0.0529 - auc: 0.6589 - auc_1: 0.0437 - val_loss: 0.0554 - val_auc: 0.4996 - val_auc_1: 0.0119\n",
      "Epoch 71/100\n",
      "422/422 [==============================] - 63s 146ms/step - loss: 0.0526 - auc: 0.6659 - auc_1: 0.0464 - val_loss: 0.0551 - val_auc: 0.5015 - val_auc_1: 0.0118\n",
      "Epoch 72/100\n",
      "422/422 [==============================] - 62s 146ms/step - loss: 0.0524 - auc: 0.6739 - auc_1: 0.0490 - val_loss: 0.0551 - val_auc: 0.5008 - val_auc_1: 0.0113\n",
      "Epoch 73/100\n",
      "422/422 [==============================] - 62s 146ms/step - loss: 0.0521 - auc: 0.6821 - auc_1: 0.0514 - val_loss: 0.0553 - val_auc: 0.5113 - val_auc_1: 0.0112\n",
      "Epoch 74/100\n",
      "422/422 [==============================] - 62s 147ms/step - loss: 0.0518 - auc: 0.6922 - auc_1: 0.0538 - val_loss: 0.0556 - val_auc: 0.5091 - val_auc_1: 0.0115\n",
      "Epoch 75/100\n",
      "422/422 [==============================] - 62s 147ms/step - loss: 0.0513 - auc: 0.7010 - auc_1: 0.0588 - val_loss: 0.0558 - val_auc: 0.5008 - val_auc_1: 0.0107\n",
      "Epoch 76/100\n",
      "422/422 [==============================] - 62s 147ms/step - loss: 0.0511 - auc: 0.7073 - auc_1: 0.0599 - val_loss: 0.0556 - val_auc: 0.5106 - val_auc_1: 0.0112\n",
      "Epoch 77/100\n",
      "422/422 [==============================] - 62s 146ms/step - loss: 0.0509 - auc: 0.7140 - auc_1: 0.0602 - val_loss: 0.0563 - val_auc: 0.5082 - val_auc_1: 0.0110\n",
      "Epoch 78/100\n",
      "422/422 [==============================] - 63s 147ms/step - loss: 0.0507 - auc: 0.7203 - auc_1: 0.0618 - val_loss: 0.0557 - val_auc: 0.5007 - val_auc_1: 0.0108\n",
      "Epoch 79/100\n",
      "422/422 [==============================] - 62s 147ms/step - loss: 0.0503 - auc: 0.7285 - auc_1: 0.0648 - val_loss: 0.0562 - val_auc: 0.5011 - val_auc_1: 0.0110\n",
      "Epoch 80/100\n",
      "422/422 [==============================] - 62s 147ms/step - loss: 0.0500 - auc: 0.7364 - auc_1: 0.0669 - val_loss: 0.0565 - val_auc: 0.5058 - val_auc_1: 0.0108\n",
      "Epoch 81/100\n",
      "422/422 [==============================] - 62s 147ms/step - loss: 0.0497 - auc: 0.7425 - auc_1: 0.0689 - val_loss: 0.0567 - val_auc: 0.5049 - val_auc_1: 0.0113\n",
      "Epoch 82/100\n",
      "422/422 [==============================] - 63s 147ms/step - loss: 0.0494 - auc: 0.7488 - auc_1: 0.0709 - val_loss: 0.0563 - val_auc: 0.5051 - val_auc_1: 0.0109\n",
      "Epoch 83/100\n",
      "422/422 [==============================] - 63s 147ms/step - loss: 0.0492 - auc: 0.7540 - auc_1: 0.0725 - val_loss: 0.0565 - val_auc: 0.5173 - val_auc_1: 0.0114\n",
      "Epoch 84/100\n",
      "422/422 [==============================] - 62s 147ms/step - loss: 0.0490 - auc: 0.7594 - auc_1: 0.0731 - val_loss: 0.0570 - val_auc: 0.5076 - val_auc_1: 0.0116\n",
      "Epoch 85/100\n",
      "422/422 [==============================] - 62s 147ms/step - loss: 0.0488 - auc: 0.7624 - auc_1: 0.0743 - val_loss: 0.0568 - val_auc: 0.5102 - val_auc_1: 0.0110\n",
      "Epoch 86/100\n",
      "422/422 [==============================] - 63s 147ms/step - loss: 0.0486 - auc: 0.7680 - auc_1: 0.0756 - val_loss: 0.0572 - val_auc: 0.5091 - val_auc_1: 0.0130\n",
      "Epoch 87/100\n",
      "422/422 [==============================] - 63s 147ms/step - loss: 0.0485 - auc: 0.7711 - auc_1: 0.0760 - val_loss: 0.0570 - val_auc: 0.5135 - val_auc_1: 0.0121\n",
      "Epoch 88/100\n",
      "422/422 [==============================] - 62s 147ms/step - loss: 0.0484 - auc: 0.7739 - auc_1: 0.0766 - val_loss: 0.0570 - val_auc: 0.5055 - val_auc_1: 0.0111\n",
      "Epoch 89/100\n",
      "422/422 [==============================] - 63s 148ms/step - loss: 0.0482 - auc: 0.7779 - auc_1: 0.0763 - val_loss: 0.0570 - val_auc: 0.5107 - val_auc_1: 0.0122\n",
      "Epoch 90/100\n",
      "422/422 [==============================] - 63s 149ms/step - loss: 0.0480 - auc: 0.7810 - auc_1: 0.0780 - val_loss: 0.0575 - val_auc: 0.5065 - val_auc_1: 0.0109\n",
      "Epoch 91/100\n",
      "422/422 [==============================] - 63s 149ms/step - loss: 0.0479 - auc: 0.7831 - auc_1: 0.0785 - val_loss: 0.0577 - val_auc: 0.5063 - val_auc_1: 0.0113\n",
      "Epoch 92/100\n",
      "422/422 [==============================] - 63s 149ms/step - loss: 0.0478 - auc: 0.7860 - auc_1: 0.0788 - val_loss: 0.0574 - val_auc: 0.5049 - val_auc_1: 0.0134\n",
      "Epoch 93/100\n",
      "422/422 [==============================] - 64s 150ms/step - loss: 0.0477 - auc: 0.7878 - auc_1: 0.0807 - val_loss: 0.0569 - val_auc: 0.5088 - val_auc_1: 0.0120\n",
      "Epoch 94/100\n",
      "422/422 [==============================] - 64s 150ms/step - loss: 0.0476 - auc: 0.7907 - auc_1: 0.0803 - val_loss: 0.0570 - val_auc: 0.5130 - val_auc_1: 0.0118\n",
      "Epoch 95/100\n",
      "422/422 [==============================] - 64s 150ms/step - loss: 0.0475 - auc: 0.7922 - auc_1: 0.0814 - val_loss: 0.0576 - val_auc: 0.5065 - val_auc_1: 0.0132\n",
      "Epoch 96/100\n",
      "422/422 [==============================] - 63s 149ms/step - loss: 0.0475 - auc: 0.7932 - auc_1: 0.0802 - val_loss: 0.0575 - val_auc: 0.5031 - val_auc_1: 0.0110\n",
      "Epoch 97/100\n",
      "422/422 [==============================] - 64s 150ms/step - loss: 0.0474 - auc: 0.7942 - auc_1: 0.0811 - val_loss: 0.0574 - val_auc: 0.5088 - val_auc_1: 0.0112\n",
      "Epoch 98/100\n",
      "422/422 [==============================] - 64s 150ms/step - loss: 0.0472 - auc: 0.7978 - auc_1: 0.0833 - val_loss: 0.0579 - val_auc: 0.5080 - val_auc_1: 0.0115\n",
      "Epoch 99/100\n",
      "422/422 [==============================] - 63s 147ms/step - loss: 0.0472 - auc: 0.7985 - auc_1: 0.0825 - val_loss: 0.0577 - val_auc: 0.5018 - val_auc_1: 0.0118\n",
      "Epoch 100/100\n",
      "422/422 [==============================] - 63s 148ms/step - loss: 0.0472 - auc: 0.7994 - auc_1: 0.0823 - val_loss: 0.0569 - val_auc: 0.5147 - val_auc_1: 0.0130\n"
     ]
    }
   ],
   "source": [
    "call_train('2024-01-27-06_43_00processed/processed0',100,100,'output0',None)"
   ]
  },
  {
   "cell_type": "code",
   "execution_count": 2,
   "id": "e3d899c4-7f17-45db-b2b5-01489e25a7c0",
   "metadata": {
    "tags": []
   },
   "outputs": [
    {
     "name": "stderr",
     "output_type": "stream",
     "text": [
      "2024-01-29 06:09:45.355590: I tensorflow/core/platform/cpu_feature_guard.cc:193] This TensorFlow binary is optimized with oneAPI Deep Neural Network Library (oneDNN) to use the following CPU instructions in performance-critical operations:  AVX2 AVX_VNNI FMA\n",
      "To enable them in other operations, rebuild TensorFlow with the appropriate compiler flags.\n",
      "2024-01-29 06:09:45.549261: I tensorflow/core/util/util.cc:169] oneDNN custom operations are on. You may see slightly different numerical results due to floating-point round-off errors from different computation orders. To turn them off, set the environment variable `TF_ENABLE_ONEDNN_OPTS=0`.\n",
      "2024-01-29 06:09:45.587245: E tensorflow/stream_executor/cuda/cuda_blas.cc:2981] Unable to register cuBLAS factory: Attempting to register factory for plugin cuBLAS when one has already been registered\n",
      "2024-01-29 06:09:46.040077: W tensorflow/stream_executor/platform/default/dso_loader.cc:64] Could not load dynamic library 'libnvinfer.so.7'; dlerror: libnvinfer.so.7: cannot open shared object file: No such file or directory; LD_LIBRARY_PATH: :/home/ubuntu0/miniconda3/envs/scbasset/lib\n",
      "2024-01-29 06:09:46.040201: W tensorflow/stream_executor/platform/default/dso_loader.cc:64] Could not load dynamic library 'libnvinfer_plugin.so.7'; dlerror: libnvinfer_plugin.so.7: cannot open shared object file: No such file or directory; LD_LIBRARY_PATH: :/home/ubuntu0/miniconda3/envs/scbasset/lib\n",
      "2024-01-29 06:09:46.040206: W tensorflow/compiler/tf2tensorrt/utils/py_utils.cc:38] TF-TRT Warning: Cannot dlopen some TensorRT libraries. If you would like to use Nvidia GPU with TensorRT, please make sure the missing libraries mentioned above are installed properly.\n"
     ]
    },
    {
     "name": "stdout",
     "output_type": "stream",
     "text": [
      "cpu memory used: 0.6GB.\n"
     ]
    },
    {
     "name": "stderr",
     "output_type": "stream",
     "text": [
      "2024-01-29 06:09:46.510577: I tensorflow/stream_executor/cuda/cuda_gpu_executor.cc:966] could not open file to read NUMA node: /sys/bus/pci/devices/0000:01:00.0/numa_node\n",
      "Your kernel may have been built without NUMA support.\n",
      "2024-01-29 06:09:46.527111: I tensorflow/stream_executor/cuda/cuda_gpu_executor.cc:966] could not open file to read NUMA node: /sys/bus/pci/devices/0000:01:00.0/numa_node\n",
      "Your kernel may have been built without NUMA support.\n",
      "2024-01-29 06:09:46.527161: I tensorflow/stream_executor/cuda/cuda_gpu_executor.cc:966] could not open file to read NUMA node: /sys/bus/pci/devices/0000:01:00.0/numa_node\n",
      "Your kernel may have been built without NUMA support.\n",
      "2024-01-29 06:09:46.527727: I tensorflow/core/platform/cpu_feature_guard.cc:193] This TensorFlow binary is optimized with oneAPI Deep Neural Network Library (oneDNN) to use the following CPU instructions in performance-critical operations:  AVX2 AVX_VNNI FMA\n",
      "To enable them in other operations, rebuild TensorFlow with the appropriate compiler flags.\n",
      "2024-01-29 06:09:46.530026: I tensorflow/stream_executor/cuda/cuda_gpu_executor.cc:966] could not open file to read NUMA node: /sys/bus/pci/devices/0000:01:00.0/numa_node\n",
      "Your kernel may have been built without NUMA support.\n",
      "2024-01-29 06:09:46.530079: I tensorflow/stream_executor/cuda/cuda_gpu_executor.cc:966] could not open file to read NUMA node: /sys/bus/pci/devices/0000:01:00.0/numa_node\n",
      "Your kernel may have been built without NUMA support.\n",
      "2024-01-29 06:09:46.530095: I tensorflow/stream_executor/cuda/cuda_gpu_executor.cc:966] could not open file to read NUMA node: /sys/bus/pci/devices/0000:01:00.0/numa_node\n",
      "Your kernel may have been built without NUMA support.\n",
      "2024-01-29 06:09:47.139277: I tensorflow/stream_executor/cuda/cuda_gpu_executor.cc:966] could not open file to read NUMA node: /sys/bus/pci/devices/0000:01:00.0/numa_node\n",
      "Your kernel may have been built without NUMA support.\n",
      "2024-01-29 06:09:47.139419: I tensorflow/stream_executor/cuda/cuda_gpu_executor.cc:966] could not open file to read NUMA node: /sys/bus/pci/devices/0000:01:00.0/numa_node\n",
      "Your kernel may have been built without NUMA support.\n",
      "2024-01-29 06:09:47.139427: I tensorflow/core/common_runtime/gpu/gpu_device.cc:1700] Could not identify NUMA node of platform GPU id 0, defaulting to 0.  Your kernel may not have been built with NUMA support.\n",
      "2024-01-29 06:09:47.139468: I tensorflow/stream_executor/cuda/cuda_gpu_executor.cc:966] could not open file to read NUMA node: /sys/bus/pci/devices/0000:01:00.0/numa_node\n",
      "Your kernel may have been built without NUMA support.\n",
      "2024-01-29 06:09:47.139542: I tensorflow/core/common_runtime/gpu/gpu_device.cc:1616] Created device /job:localhost/replica:0/task:0/device:GPU:0 with 5399 MB memory:  -> device: 0, name: NVIDIA GeForce RTX 4060 Laptop GPU, pci bus id: 0000:01:00.0, compute capability: 8.9\n"
     ]
    },
    {
     "name": "stdout",
     "output_type": "stream",
     "text": [
      "Model: \"model\"\n",
      "__________________________________________________________________________________________________\n",
      " Layer (type)                   Output Shape         Param #     Connected to                     \n",
      "==================================================================================================\n",
      " sequence (InputLayer)          [(None, 1344, 4)]    0           []                               \n",
      "                                                                                                  \n",
      " stochastic_reverse_complement   ((None, 1344, 4),   0           ['sequence[0][0]']               \n",
      " (StochasticReverseComplement)   ())                                                              \n",
      "                                                                                                  \n",
      " stochastic_shift (StochasticSh  (None, 1344, 4)     0           ['stochastic_reverse_complement[0\n",
      " ift)                                                            ][0]']                           \n",
      "                                                                                                  \n",
      " gelu (GELU)                    (None, 1344, 4)      0           ['stochastic_shift[0][0]']       \n",
      "                                                                                                  \n",
      " conv1d (Conv1D)                (None, 1344, 288)    19584       ['gelu[0][0]']                   \n",
      "                                                                                                  \n",
      " batch_normalization (BatchNorm  (None, 1344, 288)   1152        ['conv1d[0][0]']                 \n",
      " alization)                                                                                       \n",
      "                                                                                                  \n",
      " max_pooling1d (MaxPooling1D)   (None, 448, 288)     0           ['batch_normalization[0][0]']    \n",
      "                                                                                                  \n",
      " gelu_1 (GELU)                  (None, 448, 288)     0           ['max_pooling1d[0][0]']          \n",
      "                                                                                                  \n",
      " conv1d_1 (Conv1D)              (None, 448, 288)     414720      ['gelu_1[0][0]']                 \n",
      "                                                                                                  \n",
      " batch_normalization_1 (BatchNo  (None, 448, 288)    1152        ['conv1d_1[0][0]']               \n",
      " rmalization)                                                                                     \n",
      "                                                                                                  \n",
      " max_pooling1d_1 (MaxPooling1D)  (None, 224, 288)    0           ['batch_normalization_1[0][0]']  \n",
      "                                                                                                  \n",
      " gelu_2 (GELU)                  (None, 224, 288)     0           ['max_pooling1d_1[0][0]']        \n",
      "                                                                                                  \n",
      " conv1d_2 (Conv1D)              (None, 224, 323)     465120      ['gelu_2[0][0]']                 \n",
      "                                                                                                  \n",
      " batch_normalization_2 (BatchNo  (None, 224, 323)    1292        ['conv1d_2[0][0]']               \n",
      " rmalization)                                                                                     \n",
      "                                                                                                  \n",
      " max_pooling1d_2 (MaxPooling1D)  (None, 112, 323)    0           ['batch_normalization_2[0][0]']  \n",
      "                                                                                                  \n",
      " gelu_3 (GELU)                  (None, 112, 323)     0           ['max_pooling1d_2[0][0]']        \n",
      "                                                                                                  \n",
      " conv1d_3 (Conv1D)              (None, 112, 363)     586245      ['gelu_3[0][0]']                 \n",
      "                                                                                                  \n",
      " batch_normalization_3 (BatchNo  (None, 112, 363)    1452        ['conv1d_3[0][0]']               \n",
      " rmalization)                                                                                     \n",
      "                                                                                                  \n",
      " max_pooling1d_3 (MaxPooling1D)  (None, 56, 363)     0           ['batch_normalization_3[0][0]']  \n",
      "                                                                                                  \n",
      " gelu_4 (GELU)                  (None, 56, 363)      0           ['max_pooling1d_3[0][0]']        \n",
      "                                                                                                  \n",
      " conv1d_4 (Conv1D)              (None, 56, 407)      738705      ['gelu_4[0][0]']                 \n",
      "                                                                                                  \n",
      " batch_normalization_4 (BatchNo  (None, 56, 407)     1628        ['conv1d_4[0][0]']               \n",
      " rmalization)                                                                                     \n",
      "                                                                                                  \n",
      " max_pooling1d_4 (MaxPooling1D)  (None, 28, 407)     0           ['batch_normalization_4[0][0]']  \n",
      "                                                                                                  \n",
      " gelu_5 (GELU)                  (None, 28, 407)      0           ['max_pooling1d_4[0][0]']        \n",
      "                                                                                                  \n",
      " conv1d_5 (Conv1D)              (None, 28, 456)      927960      ['gelu_5[0][0]']                 \n",
      "                                                                                                  \n",
      " batch_normalization_5 (BatchNo  (None, 28, 456)     1824        ['conv1d_5[0][0]']               \n",
      " rmalization)                                                                                     \n",
      "                                                                                                  \n",
      " max_pooling1d_5 (MaxPooling1D)  (None, 14, 456)     0           ['batch_normalization_5[0][0]']  \n",
      "                                                                                                  \n",
      " gelu_6 (GELU)                  (None, 14, 456)      0           ['max_pooling1d_5[0][0]']        \n",
      "                                                                                                  \n",
      " conv1d_6 (Conv1D)              (None, 14, 512)      1167360     ['gelu_6[0][0]']                 \n",
      "                                                                                                  \n",
      " batch_normalization_6 (BatchNo  (None, 14, 512)     2048        ['conv1d_6[0][0]']               \n",
      " rmalization)                                                                                     \n",
      "                                                                                                  \n",
      " max_pooling1d_6 (MaxPooling1D)  (None, 7, 512)      0           ['batch_normalization_6[0][0]']  \n",
      "                                                                                                  \n",
      " gelu_7 (GELU)                  (None, 7, 512)       0           ['max_pooling1d_6[0][0]']        \n",
      "                                                                                                  \n",
      " conv1d_7 (Conv1D)              (None, 7, 256)       131072      ['gelu_7[0][0]']                 \n",
      "                                                                                                  \n",
      " batch_normalization_7 (BatchNo  (None, 7, 256)      1024        ['conv1d_7[0][0]']               \n",
      " rmalization)                                                                                     \n",
      "                                                                                                  \n",
      " gelu_8 (GELU)                  (None, 7, 256)       0           ['batch_normalization_7[0][0]']  \n",
      "                                                                                                  \n",
      " reshape (Reshape)              (None, 1, 1792)      0           ['gelu_8[0][0]']                 \n",
      "                                                                                                  \n",
      " dense (Dense)                  (None, 1, 100)       179200      ['reshape[0][0]']                \n",
      "                                                                                                  \n",
      " batch_normalization_8 (BatchNo  (None, 1, 100)      400         ['dense[0][0]']                  \n",
      " rmalization)                                                                                     \n",
      "                                                                                                  \n",
      " dropout (Dropout)              (None, 1, 100)       0           ['batch_normalization_8[0][0]']  \n",
      "                                                                                                  \n",
      " gelu_9 (GELU)                  (None, 1, 100)       0           ['dropout[0][0]']                \n",
      "                                                                                                  \n",
      " dense_1 (Dense)                (None, 1, 4000)      404000      ['gelu_9[0][0]']                 \n",
      "                                                                                                  \n",
      " switch_reverse (SwitchReverse)  (None, 1, 4000)     0           ['dense_1[0][0]',                \n",
      "                                                                  'stochastic_reverse_complement[0\n",
      "                                                                 ][1]']                           \n",
      "                                                                                                  \n",
      " flatten (Flatten)              (None, 4000)         0           ['switch_reverse[0][0]']         \n",
      "                                                                                                  \n",
      "==================================================================================================\n",
      "Total params: 5,045,938\n",
      "Trainable params: 5,039,952\n",
      "Non-trainable params: 5,986\n",
      "__________________________________________________________________________________________________\n",
      "Epoch 1/100\n"
     ]
    },
    {
     "name": "stderr",
     "output_type": "stream",
     "text": [
      "2024-01-29 06:09:50.795240: I tensorflow/stream_executor/cuda/cuda_dnn.cc:384] Loaded cuDNN version 8201\n",
      "2024-01-29 06:09:51.729867: W tensorflow/stream_executor/gpu/asm_compiler.cc:230] Falling back to the CUDA driver for PTX compilation; ptxas does not support CC 8.9\n",
      "2024-01-29 06:09:51.729892: W tensorflow/stream_executor/gpu/asm_compiler.cc:233] Used ptxas at ptxas\n",
      "2024-01-29 06:09:51.729958: W tensorflow/stream_executor/gpu/redzone_allocator.cc:314] UNIMPLEMENTED: ptxas ptxas too old. Falling back to the driver to compile.\n",
      "Relying on driver to perform ptx compilation. \n",
      "Modify $PATH to customize ptxas location.\n",
      "This message will be only logged once.\n",
      "2024-01-29 06:09:52.731971: I tensorflow/stream_executor/cuda/cuda_blas.cc:1614] TensorFloat-32 will be used for the matrix multiplication. This will only be logged once.\n"
     ]
    },
    {
     "name": "stdout",
     "output_type": "stream",
     "text": [
      "422/422 [==============================] - 71s 151ms/step - loss: 0.0669 - auc: 0.5027 - auc_1: 0.0103 - val_loss: 0.0571 - val_auc: 0.4971 - val_auc_1: 0.0114\n",
      "Epoch 2/100\n",
      "422/422 [==============================] - 62s 146ms/step - loss: 0.0568 - auc: 0.4984 - auc_1: 0.0103 - val_loss: 0.0585 - val_auc: 0.5066 - val_auc_1: 0.0109\n",
      "Epoch 3/100\n",
      "422/422 [==============================] - 63s 147ms/step - loss: 0.0565 - auc: 0.4992 - auc_1: 0.0102 - val_loss: 0.0564 - val_auc: 0.5073 - val_auc_1: 0.0117\n",
      "Epoch 4/100\n",
      "422/422 [==============================] - 63s 148ms/step - loss: 0.0561 - auc: 0.5018 - auc_1: 0.0103 - val_loss: 0.0569 - val_auc: 0.5022 - val_auc_1: 0.0120\n",
      "Epoch 5/100\n",
      "422/422 [==============================] - 63s 149ms/step - loss: 0.0560 - auc: 0.4978 - auc_1: 0.0102 - val_loss: 0.0568 - val_auc: 0.5005 - val_auc_1: 0.0109\n",
      "Epoch 6/100\n",
      "422/422 [==============================] - 63s 149ms/step - loss: 0.0559 - auc: 0.4995 - auc_1: 0.0103 - val_loss: 0.0567 - val_auc: 0.4993 - val_auc_1: 0.0110\n",
      "Epoch 7/100\n",
      "422/422 [==============================] - 64s 150ms/step - loss: 0.0559 - auc: 0.4990 - auc_1: 0.0102 - val_loss: 0.0572 - val_auc: 0.4992 - val_auc_1: 0.0109\n",
      "Epoch 8/100\n",
      "422/422 [==============================] - 63s 147ms/step - loss: 0.0559 - auc: 0.4969 - auc_1: 0.0101 - val_loss: 0.0565 - val_auc: 0.4987 - val_auc_1: 0.0107\n",
      "Epoch 9/100\n",
      "422/422 [==============================] - 63s 148ms/step - loss: 0.0557 - auc: 0.5006 - auc_1: 0.0103 - val_loss: 0.0565 - val_auc: 0.5026 - val_auc_1: 0.0114\n",
      "Epoch 10/100\n",
      "422/422 [==============================] - 63s 149ms/step - loss: 0.0557 - auc: 0.4980 - auc_1: 0.0102 - val_loss: 0.0569 - val_auc: 0.5019 - val_auc_1: 0.0115\n",
      "Epoch 11/100\n",
      "422/422 [==============================] - 64s 149ms/step - loss: 0.0558 - auc: 0.4978 - auc_1: 0.0101 - val_loss: 0.0566 - val_auc: 0.4996 - val_auc_1: 0.0115\n",
      "Epoch 12/100\n",
      "422/422 [==============================] - 64s 150ms/step - loss: 0.0557 - auc: 0.4999 - auc_1: 0.0102 - val_loss: 0.0566 - val_auc: 0.4989 - val_auc_1: 0.0108\n",
      "Epoch 13/100\n",
      "422/422 [==============================] - 63s 146ms/step - loss: 0.0557 - auc: 0.5019 - auc_1: 0.0103 - val_loss: 0.0564 - val_auc: 0.4984 - val_auc_1: 0.0105\n",
      "Epoch 14/100\n",
      "422/422 [==============================] - 63s 148ms/step - loss: 0.0557 - auc: 0.4997 - auc_1: 0.0102 - val_loss: 0.0568 - val_auc: 0.4991 - val_auc_1: 0.0107\n",
      "Epoch 15/100\n",
      "422/422 [==============================] - 63s 149ms/step - loss: 0.0557 - auc: 0.4999 - auc_1: 0.0102 - val_loss: 0.0564 - val_auc: 0.5029 - val_auc_1: 0.0116\n",
      "Epoch 16/100\n",
      "422/422 [==============================] - 63s 149ms/step - loss: 0.0557 - auc: 0.5001 - auc_1: 0.0103 - val_loss: 0.0564 - val_auc: 0.5025 - val_auc_1: 0.0115\n",
      "Epoch 17/100\n",
      "422/422 [==============================] - 64s 149ms/step - loss: 0.0556 - auc: 0.4999 - auc_1: 0.0103 - val_loss: 0.0563 - val_auc: 0.5014 - val_auc_1: 0.0112\n",
      "Epoch 18/100\n",
      "422/422 [==============================] - 64s 150ms/step - loss: 0.0557 - auc: 0.4966 - auc_1: 0.0101 - val_loss: 0.0566 - val_auc: 0.5032 - val_auc_1: 0.0119\n",
      "Epoch 19/100\n",
      "422/422 [==============================] - 63s 147ms/step - loss: 0.0556 - auc: 0.4991 - auc_1: 0.0102 - val_loss: 0.0564 - val_auc: 0.5024 - val_auc_1: 0.0119\n",
      "Epoch 20/100\n",
      "422/422 [==============================] - 63s 148ms/step - loss: 0.0556 - auc: 0.4970 - auc_1: 0.0101 - val_loss: 0.0563 - val_auc: 0.5005 - val_auc_1: 0.0107\n",
      "Epoch 21/100\n",
      "422/422 [==============================] - 64s 149ms/step - loss: 0.0555 - auc: 0.5001 - auc_1: 0.0103 - val_loss: 0.0566 - val_auc: 0.5021 - val_auc_1: 0.0116\n",
      "Epoch 22/100\n",
      "422/422 [==============================] - 63s 149ms/step - loss: 0.0556 - auc: 0.5008 - auc_1: 0.0102 - val_loss: 0.0567 - val_auc: 0.4996 - val_auc_1: 0.0110\n",
      "Epoch 23/100\n",
      "422/422 [==============================] - 63s 149ms/step - loss: 0.0556 - auc: 0.4996 - auc_1: 0.0102 - val_loss: 0.0563 - val_auc: 0.5039 - val_auc_1: 0.0115\n",
      "Epoch 24/100\n",
      "422/422 [==============================] - 64s 149ms/step - loss: 0.0555 - auc: 0.5015 - auc_1: 0.0103 - val_loss: 0.0565 - val_auc: 0.4983 - val_auc_1: 0.0104\n",
      "Epoch 25/100\n",
      "422/422 [==============================] - 64s 150ms/step - loss: 0.0555 - auc: 0.5014 - auc_1: 0.0103 - val_loss: 0.0563 - val_auc: 0.5021 - val_auc_1: 0.0113\n",
      "Epoch 26/100\n",
      "422/422 [==============================] - 63s 149ms/step - loss: 0.0555 - auc: 0.5009 - auc_1: 0.0103 - val_loss: 0.0566 - val_auc: 0.5012 - val_auc_1: 0.0106\n",
      "Epoch 27/100\n",
      "422/422 [==============================] - 64s 150ms/step - loss: 0.0555 - auc: 0.5021 - auc_1: 0.0103 - val_loss: 0.0563 - val_auc: 0.4981 - val_auc_1: 0.0107\n",
      "Epoch 28/100\n",
      "422/422 [==============================] - 64s 150ms/step - loss: 0.0556 - auc: 0.5013 - auc_1: 0.0103 - val_loss: 0.0565 - val_auc: 0.5029 - val_auc_1: 0.0117\n",
      "Epoch 29/100\n",
      "422/422 [==============================] - 64s 150ms/step - loss: 0.0555 - auc: 0.5008 - auc_1: 0.0103 - val_loss: 0.0565 - val_auc: 0.5012 - val_auc_1: 0.0109\n",
      "Epoch 30/100\n",
      "422/422 [==============================] - 64s 150ms/step - loss: 0.0555 - auc: 0.5026 - auc_1: 0.0104 - val_loss: 0.0565 - val_auc: 0.5041 - val_auc_1: 0.0110\n",
      "Epoch 31/100\n",
      "422/422 [==============================] - 64s 150ms/step - loss: 0.0554 - auc: 0.5025 - auc_1: 0.0103 - val_loss: 0.0563 - val_auc: 0.5022 - val_auc_1: 0.0110\n",
      "Epoch 32/100\n",
      "422/422 [==============================] - 64s 150ms/step - loss: 0.0554 - auc: 0.5035 - auc_1: 0.0104 - val_loss: 0.0563 - val_auc: 0.5079 - val_auc_1: 0.0118\n",
      "Epoch 33/100\n",
      "422/422 [==============================] - 64s 150ms/step - loss: 0.0554 - auc: 0.5049 - auc_1: 0.0104 - val_loss: 0.0565 - val_auc: 0.4999 - val_auc_1: 0.0109\n",
      "Epoch 34/100\n",
      "422/422 [==============================] - 64s 150ms/step - loss: 0.0554 - auc: 0.5017 - auc_1: 0.0103 - val_loss: 0.0563 - val_auc: 0.4998 - val_auc_1: 0.0109\n",
      "Epoch 35/100\n",
      "422/422 [==============================] - 64s 150ms/step - loss: 0.0554 - auc: 0.5034 - auc_1: 0.0104 - val_loss: 0.0563 - val_auc: 0.5043 - val_auc_1: 0.0108\n",
      "Epoch 36/100\n",
      "422/422 [==============================] - 64s 150ms/step - loss: 0.0554 - auc: 0.5091 - auc_1: 0.0107 - val_loss: 0.0563 - val_auc: 0.5022 - val_auc_1: 0.0108\n",
      "Epoch 37/100\n",
      "422/422 [==============================] - 64s 150ms/step - loss: 0.0554 - auc: 0.5065 - auc_1: 0.0105 - val_loss: 0.0563 - val_auc: 0.5050 - val_auc_1: 0.0114\n",
      "Epoch 38/100\n",
      "422/422 [==============================] - 64s 150ms/step - loss: 0.0554 - auc: 0.5073 - auc_1: 0.0105 - val_loss: 0.0563 - val_auc: 0.5046 - val_auc_1: 0.0107\n",
      "Epoch 39/100\n",
      "422/422 [==============================] - 64s 150ms/step - loss: 0.0554 - auc: 0.5112 - auc_1: 0.0106 - val_loss: 0.0563 - val_auc: 0.5015 - val_auc_1: 0.0117\n",
      "Epoch 40/100\n",
      "422/422 [==============================] - 64s 151ms/step - loss: 0.0553 - auc: 0.5145 - auc_1: 0.0108 - val_loss: 0.0563 - val_auc: 0.5009 - val_auc_1: 0.0107\n",
      "Epoch 41/100\n",
      "422/422 [==============================] - 64s 150ms/step - loss: 0.0553 - auc: 0.5126 - auc_1: 0.0108 - val_loss: 0.0563 - val_auc: 0.5044 - val_auc_1: 0.0108\n",
      "Epoch 42/100\n",
      "422/422 [==============================] - 64s 151ms/step - loss: 0.0552 - auc: 0.5198 - auc_1: 0.0111 - val_loss: 0.0564 - val_auc: 0.5026 - val_auc_1: 0.0111\n",
      "Epoch 43/100\n",
      "422/422 [==============================] - 64s 151ms/step - loss: 0.0552 - auc: 0.5196 - auc_1: 0.0112 - val_loss: 0.0563 - val_auc: 0.5039 - val_auc_1: 0.0109\n",
      "Epoch 44/100\n",
      "422/422 [==============================] - 64s 151ms/step - loss: 0.0552 - auc: 0.5245 - auc_1: 0.0115 - val_loss: 0.0563 - val_auc: 0.5036 - val_auc_1: 0.0109\n",
      "Epoch 45/100\n",
      "422/422 [==============================] - 64s 151ms/step - loss: 0.0552 - auc: 0.5250 - auc_1: 0.0117 - val_loss: 0.0566 - val_auc: 0.5012 - val_auc_1: 0.0108\n",
      "Epoch 46/100\n",
      "422/422 [==============================] - 64s 151ms/step - loss: 0.0551 - auc: 0.5316 - auc_1: 0.0123 - val_loss: 0.0565 - val_auc: 0.5118 - val_auc_1: 0.0112\n",
      "Epoch 47/100\n",
      "422/422 [==============================] - 64s 151ms/step - loss: 0.0551 - auc: 0.5339 - auc_1: 0.0124 - val_loss: 0.0565 - val_auc: 0.4951 - val_auc_1: 0.0109\n",
      "Epoch 48/100\n",
      "422/422 [==============================] - 64s 151ms/step - loss: 0.0550 - auc: 0.5402 - auc_1: 0.0133 - val_loss: 0.0565 - val_auc: 0.5042 - val_auc_1: 0.0112\n",
      "Epoch 49/100\n",
      "422/422 [==============================] - 64s 151ms/step - loss: 0.0550 - auc: 0.5421 - auc_1: 0.0138 - val_loss: 0.0564 - val_auc: 0.5033 - val_auc_1: 0.0111\n",
      "Epoch 50/100\n",
      "422/422 [==============================] - 64s 151ms/step - loss: 0.0549 - auc: 0.5518 - auc_1: 0.0148 - val_loss: 0.0567 - val_auc: 0.4972 - val_auc_1: 0.0114\n",
      "Epoch 51/100\n",
      "422/422 [==============================] - 64s 151ms/step - loss: 0.0548 - auc: 0.5511 - auc_1: 0.0159 - val_loss: 0.0565 - val_auc: 0.5017 - val_auc_1: 0.0112\n",
      "Epoch 52/100\n",
      "422/422 [==============================] - 64s 151ms/step - loss: 0.0547 - auc: 0.5582 - auc_1: 0.0171 - val_loss: 0.0565 - val_auc: 0.5045 - val_auc_1: 0.0115\n",
      "Epoch 53/100\n",
      "422/422 [==============================] - 64s 150ms/step - loss: 0.0545 - auc: 0.5674 - auc_1: 0.0189 - val_loss: 0.0566 - val_auc: 0.5136 - val_auc_1: 0.0113\n",
      "Epoch 54/100\n",
      "422/422 [==============================] - 64s 150ms/step - loss: 0.0543 - auc: 0.5758 - auc_1: 0.0211 - val_loss: 0.0564 - val_auc: 0.5109 - val_auc_1: 0.0118\n",
      "Epoch 55/100\n",
      "422/422 [==============================] - 64s 151ms/step - loss: 0.0541 - auc: 0.5835 - auc_1: 0.0229 - val_loss: 0.0570 - val_auc: 0.5037 - val_auc_1: 0.0112\n",
      "Epoch 56/100\n",
      "422/422 [==============================] - 64s 150ms/step - loss: 0.0540 - auc: 0.5879 - auc_1: 0.0244 - val_loss: 0.0566 - val_auc: 0.5059 - val_auc_1: 0.0110\n",
      "Epoch 57/100\n",
      "422/422 [==============================] - 64s 150ms/step - loss: 0.0538 - auc: 0.5910 - auc_1: 0.0279 - val_loss: 0.0564 - val_auc: 0.5125 - val_auc_1: 0.0118\n",
      "Epoch 58/100\n",
      "422/422 [==============================] - 64s 150ms/step - loss: 0.0536 - auc: 0.5988 - auc_1: 0.0282 - val_loss: 0.0568 - val_auc: 0.4969 - val_auc_1: 0.0113\n",
      "Epoch 59/100\n",
      "422/422 [==============================] - 64s 151ms/step - loss: 0.0533 - auc: 0.6082 - auc_1: 0.0320 - val_loss: 0.0569 - val_auc: 0.5014 - val_auc_1: 0.0116\n",
      "Epoch 60/100\n",
      "422/422 [==============================] - 64s 151ms/step - loss: 0.0530 - auc: 0.6178 - auc_1: 0.0351 - val_loss: 0.0570 - val_auc: 0.5098 - val_auc_1: 0.0121\n",
      "Epoch 61/100\n",
      "422/422 [==============================] - 64s 151ms/step - loss: 0.0529 - auc: 0.6229 - auc_1: 0.0355 - val_loss: 0.0568 - val_auc: 0.5088 - val_auc_1: 0.0114\n",
      "Epoch 62/100\n",
      "422/422 [==============================] - 64s 151ms/step - loss: 0.0526 - auc: 0.6304 - auc_1: 0.0385 - val_loss: 0.0573 - val_auc: 0.5060 - val_auc_1: 0.0115\n",
      "Epoch 63/100\n",
      "422/422 [==============================] - 63s 147ms/step - loss: 0.0524 - auc: 0.6367 - auc_1: 0.0411 - val_loss: 0.0571 - val_auc: 0.5072 - val_auc_1: 0.0115\n",
      "Epoch 64/100\n",
      "422/422 [==============================] - 64s 149ms/step - loss: 0.0521 - auc: 0.6452 - auc_1: 0.0441 - val_loss: 0.0572 - val_auc: 0.5054 - val_auc_1: 0.0115\n",
      "Epoch 65/100\n",
      "422/422 [==============================] - 64s 150ms/step - loss: 0.0519 - auc: 0.6519 - auc_1: 0.0453 - val_loss: 0.0573 - val_auc: 0.4989 - val_auc_1: 0.0113\n",
      "Epoch 66/100\n",
      "422/422 [==============================] - 64s 151ms/step - loss: 0.0517 - auc: 0.6602 - auc_1: 0.0464 - val_loss: 0.0574 - val_auc: 0.5016 - val_auc_1: 0.0113\n",
      "Epoch 67/100\n",
      "422/422 [==============================] - 64s 151ms/step - loss: 0.0514 - auc: 0.6646 - auc_1: 0.0490 - val_loss: 0.0575 - val_auc: 0.5046 - val_auc_1: 0.0114\n",
      "Epoch 68/100\n",
      "422/422 [==============================] - 64s 150ms/step - loss: 0.0511 - auc: 0.6717 - auc_1: 0.0524 - val_loss: 0.0580 - val_auc: 0.4998 - val_auc_1: 0.0111\n",
      "Epoch 69/100\n",
      "422/422 [==============================] - 63s 149ms/step - loss: 0.0512 - auc: 0.6699 - auc_1: 0.0499 - val_loss: 0.0575 - val_auc: 0.4999 - val_auc_1: 0.0109\n",
      "Epoch 70/100\n",
      "422/422 [==============================] - 63s 149ms/step - loss: 0.0508 - auc: 0.6806 - auc_1: 0.0539 - val_loss: 0.0577 - val_auc: 0.5031 - val_auc_1: 0.0111\n",
      "Epoch 71/100\n",
      "422/422 [==============================] - 63s 149ms/step - loss: 0.0506 - auc: 0.6853 - auc_1: 0.0548 - val_loss: 0.0581 - val_auc: 0.4963 - val_auc_1: 0.0112\n",
      "Epoch 72/100\n",
      "422/422 [==============================] - 63s 149ms/step - loss: 0.0504 - auc: 0.6917 - auc_1: 0.0552 - val_loss: 0.0576 - val_auc: 0.5042 - val_auc_1: 0.0113\n",
      "Epoch 73/100\n",
      "422/422 [==============================] - 63s 149ms/step - loss: 0.0502 - auc: 0.6968 - auc_1: 0.0562 - val_loss: 0.0580 - val_auc: 0.5034 - val_auc_1: 0.0116\n",
      "Epoch 74/100\n",
      "422/422 [==============================] - 63s 149ms/step - loss: 0.0500 - auc: 0.7021 - auc_1: 0.0583 - val_loss: 0.0582 - val_auc: 0.4964 - val_auc_1: 0.0110\n",
      "Epoch 75/100\n",
      "422/422 [==============================] - 63s 149ms/step - loss: 0.0498 - auc: 0.7079 - auc_1: 0.0599 - val_loss: 0.0578 - val_auc: 0.5027 - val_auc_1: 0.0116\n",
      "Epoch 76/100\n",
      "422/422 [==============================] - 63s 149ms/step - loss: 0.0496 - auc: 0.7142 - auc_1: 0.0618 - val_loss: 0.0586 - val_auc: 0.4996 - val_auc_1: 0.0115\n",
      "Epoch 77/100\n",
      "422/422 [==============================] - 63s 149ms/step - loss: 0.0495 - auc: 0.7166 - auc_1: 0.0614 - val_loss: 0.0587 - val_auc: 0.4949 - val_auc_1: 0.0112\n",
      "Epoch 78/100\n",
      "422/422 [==============================] - 63s 149ms/step - loss: 0.0494 - auc: 0.7192 - auc_1: 0.0620 - val_loss: 0.0588 - val_auc: 0.4859 - val_auc_1: 0.0109\n",
      "Epoch 79/100\n",
      "422/422 [==============================] - 63s 146ms/step - loss: 0.0493 - auc: 0.7239 - auc_1: 0.0636 - val_loss: 0.0586 - val_auc: 0.4910 - val_auc_1: 0.0109\n",
      "Epoch 80/100\n",
      "422/422 [==============================] - 63s 147ms/step - loss: 0.0491 - auc: 0.7292 - auc_1: 0.0650 - val_loss: 0.0590 - val_auc: 0.4871 - val_auc_1: 0.0105\n",
      "Epoch 81/100\n",
      "422/422 [==============================] - 64s 149ms/step - loss: 0.0490 - auc: 0.7315 - auc_1: 0.0659 - val_loss: 0.0594 - val_auc: 0.4933 - val_auc_1: 0.0107\n",
      "Epoch 82/100\n",
      "422/422 [==============================] - 64s 150ms/step - loss: 0.0488 - auc: 0.7347 - auc_1: 0.0671 - val_loss: 0.0588 - val_auc: 0.4914 - val_auc_1: 0.0106\n",
      "Epoch 83/100\n",
      "422/422 [==============================] - 64s 150ms/step - loss: 0.0487 - auc: 0.7398 - auc_1: 0.0678 - val_loss: 0.0586 - val_auc: 0.5004 - val_auc_1: 0.0110\n",
      "Epoch 84/100\n",
      "422/422 [==============================] - 64s 151ms/step - loss: 0.0486 - auc: 0.7415 - auc_1: 0.0681 - val_loss: 0.0586 - val_auc: 0.4861 - val_auc_1: 0.0106\n",
      "Epoch 85/100\n",
      "422/422 [==============================] - 64s 151ms/step - loss: 0.0484 - auc: 0.7465 - auc_1: 0.0696 - val_loss: 0.0592 - val_auc: 0.4888 - val_auc_1: 0.0111\n",
      "Epoch 86/100\n",
      "422/422 [==============================] - 64s 151ms/step - loss: 0.0483 - auc: 0.7483 - auc_1: 0.0695 - val_loss: 0.0590 - val_auc: 0.4942 - val_auc_1: 0.0109\n",
      "Epoch 87/100\n",
      "422/422 [==============================] - 64s 151ms/step - loss: 0.0482 - auc: 0.7526 - auc_1: 0.0701 - val_loss: 0.0591 - val_auc: 0.4814 - val_auc_1: 0.0104\n",
      "Epoch 88/100\n",
      "422/422 [==============================] - 64s 151ms/step - loss: 0.0481 - auc: 0.7551 - auc_1: 0.0708 - val_loss: 0.0590 - val_auc: 0.4905 - val_auc_1: 0.0108\n",
      "Epoch 89/100\n",
      "422/422 [==============================] - 64s 151ms/step - loss: 0.0480 - auc: 0.7570 - auc_1: 0.0704 - val_loss: 0.0595 - val_auc: 0.4870 - val_auc_1: 0.0105\n",
      "Epoch 90/100\n",
      "422/422 [==============================] - 64s 151ms/step - loss: 0.0479 - auc: 0.7598 - auc_1: 0.0717 - val_loss: 0.0600 - val_auc: 0.4942 - val_auc_1: 0.0110\n",
      "Epoch 91/100\n",
      "422/422 [==============================] - 64s 151ms/step - loss: 0.0478 - auc: 0.7627 - auc_1: 0.0728 - val_loss: 0.0594 - val_auc: 0.4962 - val_auc_1: 0.0112\n",
      "Epoch 92/100\n",
      "422/422 [==============================] - 64s 151ms/step - loss: 0.0477 - auc: 0.7659 - auc_1: 0.0728 - val_loss: 0.0597 - val_auc: 0.4877 - val_auc_1: 0.0104\n",
      "Epoch 93/100\n",
      "422/422 [==============================] - 64s 151ms/step - loss: 0.0477 - auc: 0.7674 - auc_1: 0.0746 - val_loss: 0.0593 - val_auc: 0.4946 - val_auc_1: 0.0111\n",
      "Epoch 94/100\n",
      "422/422 [==============================] - 64s 151ms/step - loss: 0.0476 - auc: 0.7692 - auc_1: 0.0751 - val_loss: 0.0595 - val_auc: 0.4969 - val_auc_1: 0.0115\n",
      "Epoch 95/100\n",
      "422/422 [==============================] - 64s 151ms/step - loss: 0.0475 - auc: 0.7714 - auc_1: 0.0756 - val_loss: 0.0607 - val_auc: 0.4988 - val_auc_1: 0.0113\n",
      "Epoch 96/100\n",
      "422/422 [==============================] - 65s 152ms/step - loss: 0.0474 - auc: 0.7736 - auc_1: 0.0757 - val_loss: 0.0603 - val_auc: 0.4847 - val_auc_1: 0.0104\n",
      "Epoch 97/100\n",
      "422/422 [==============================] - 64s 151ms/step - loss: 0.0473 - auc: 0.7762 - auc_1: 0.0764 - val_loss: 0.0597 - val_auc: 0.4934 - val_auc_1: 0.0112\n",
      "Epoch 98/100\n",
      "422/422 [==============================] - 64s 151ms/step - loss: 0.0473 - auc: 0.7770 - auc_1: 0.0767 - val_loss: 0.0604 - val_auc: 0.4869 - val_auc_1: 0.0110\n",
      "Epoch 99/100\n",
      "422/422 [==============================] - 64s 152ms/step - loss: 0.0472 - auc: 0.7794 - auc_1: 0.0772 - val_loss: 0.0601 - val_auc: 0.4961 - val_auc_1: 0.0110\n",
      "Epoch 100/100\n",
      "422/422 [==============================] - 64s 152ms/step - loss: 0.0472 - auc: 0.7800 - auc_1: 0.0775 - val_loss: 0.0602 - val_auc: 0.4894 - val_auc_1: 0.0112\n"
     ]
    }
   ],
   "source": [
    "call_train('2024-01-27-06_43_00processed/processed1',100,100,'output1',None)"
   ]
  },
  {
   "cell_type": "code",
   "execution_count": 2,
   "id": "fa6162fa-c3fe-4195-a08e-90aaabf60636",
   "metadata": {
    "tags": []
   },
   "outputs": [
    {
     "name": "stderr",
     "output_type": "stream",
     "text": [
      "2024-01-29 08:01:32.269026: I tensorflow/core/platform/cpu_feature_guard.cc:193] This TensorFlow binary is optimized with oneAPI Deep Neural Network Library (oneDNN) to use the following CPU instructions in performance-critical operations:  AVX2 AVX_VNNI FMA\n",
      "To enable them in other operations, rebuild TensorFlow with the appropriate compiler flags.\n",
      "2024-01-29 08:01:32.469891: I tensorflow/core/util/util.cc:169] oneDNN custom operations are on. You may see slightly different numerical results due to floating-point round-off errors from different computation orders. To turn them off, set the environment variable `TF_ENABLE_ONEDNN_OPTS=0`.\n",
      "2024-01-29 08:01:32.509524: E tensorflow/stream_executor/cuda/cuda_blas.cc:2981] Unable to register cuBLAS factory: Attempting to register factory for plugin cuBLAS when one has already been registered\n",
      "2024-01-29 08:01:33.001554: W tensorflow/stream_executor/platform/default/dso_loader.cc:64] Could not load dynamic library 'libnvinfer.so.7'; dlerror: libnvinfer.so.7: cannot open shared object file: No such file or directory; LD_LIBRARY_PATH: :/home/ubuntu0/miniconda3/envs/scbasset/lib\n",
      "2024-01-29 08:01:33.001653: W tensorflow/stream_executor/platform/default/dso_loader.cc:64] Could not load dynamic library 'libnvinfer_plugin.so.7'; dlerror: libnvinfer_plugin.so.7: cannot open shared object file: No such file or directory; LD_LIBRARY_PATH: :/home/ubuntu0/miniconda3/envs/scbasset/lib\n",
      "2024-01-29 08:01:33.001659: W tensorflow/compiler/tf2tensorrt/utils/py_utils.cc:38] TF-TRT Warning: Cannot dlopen some TensorRT libraries. If you would like to use Nvidia GPU with TensorRT, please make sure the missing libraries mentioned above are installed properly.\n"
     ]
    },
    {
     "name": "stdout",
     "output_type": "stream",
     "text": [
      "cpu memory used: 0.6GB.\n"
     ]
    },
    {
     "name": "stderr",
     "output_type": "stream",
     "text": [
      "2024-01-29 08:01:33.488521: I tensorflow/stream_executor/cuda/cuda_gpu_executor.cc:966] could not open file to read NUMA node: /sys/bus/pci/devices/0000:01:00.0/numa_node\n",
      "Your kernel may have been built without NUMA support.\n",
      "2024-01-29 08:01:33.511361: I tensorflow/stream_executor/cuda/cuda_gpu_executor.cc:966] could not open file to read NUMA node: /sys/bus/pci/devices/0000:01:00.0/numa_node\n",
      "Your kernel may have been built without NUMA support.\n",
      "2024-01-29 08:01:33.511414: I tensorflow/stream_executor/cuda/cuda_gpu_executor.cc:966] could not open file to read NUMA node: /sys/bus/pci/devices/0000:01:00.0/numa_node\n",
      "Your kernel may have been built without NUMA support.\n",
      "2024-01-29 08:01:33.511887: I tensorflow/core/platform/cpu_feature_guard.cc:193] This TensorFlow binary is optimized with oneAPI Deep Neural Network Library (oneDNN) to use the following CPU instructions in performance-critical operations:  AVX2 AVX_VNNI FMA\n",
      "To enable them in other operations, rebuild TensorFlow with the appropriate compiler flags.\n",
      "2024-01-29 08:01:33.513927: I tensorflow/stream_executor/cuda/cuda_gpu_executor.cc:966] could not open file to read NUMA node: /sys/bus/pci/devices/0000:01:00.0/numa_node\n",
      "Your kernel may have been built without NUMA support.\n",
      "2024-01-29 08:01:33.514050: I tensorflow/stream_executor/cuda/cuda_gpu_executor.cc:966] could not open file to read NUMA node: /sys/bus/pci/devices/0000:01:00.0/numa_node\n",
      "Your kernel may have been built without NUMA support.\n",
      "2024-01-29 08:01:33.514089: I tensorflow/stream_executor/cuda/cuda_gpu_executor.cc:966] could not open file to read NUMA node: /sys/bus/pci/devices/0000:01:00.0/numa_node\n",
      "Your kernel may have been built without NUMA support.\n",
      "2024-01-29 08:01:34.169419: I tensorflow/stream_executor/cuda/cuda_gpu_executor.cc:966] could not open file to read NUMA node: /sys/bus/pci/devices/0000:01:00.0/numa_node\n",
      "Your kernel may have been built without NUMA support.\n",
      "2024-01-29 08:01:34.169561: I tensorflow/stream_executor/cuda/cuda_gpu_executor.cc:966] could not open file to read NUMA node: /sys/bus/pci/devices/0000:01:00.0/numa_node\n",
      "Your kernel may have been built without NUMA support.\n",
      "2024-01-29 08:01:34.169569: I tensorflow/core/common_runtime/gpu/gpu_device.cc:1700] Could not identify NUMA node of platform GPU id 0, defaulting to 0.  Your kernel may not have been built with NUMA support.\n",
      "2024-01-29 08:01:34.169617: I tensorflow/stream_executor/cuda/cuda_gpu_executor.cc:966] could not open file to read NUMA node: /sys/bus/pci/devices/0000:01:00.0/numa_node\n",
      "Your kernel may have been built without NUMA support.\n",
      "2024-01-29 08:01:34.169691: I tensorflow/core/common_runtime/gpu/gpu_device.cc:1616] Created device /job:localhost/replica:0/task:0/device:GPU:0 with 5399 MB memory:  -> device: 0, name: NVIDIA GeForce RTX 4060 Laptop GPU, pci bus id: 0000:01:00.0, compute capability: 8.9\n"
     ]
    },
    {
     "name": "stdout",
     "output_type": "stream",
     "text": [
      "Model: \"model\"\n",
      "__________________________________________________________________________________________________\n",
      " Layer (type)                   Output Shape         Param #     Connected to                     \n",
      "==================================================================================================\n",
      " sequence (InputLayer)          [(None, 1344, 4)]    0           []                               \n",
      "                                                                                                  \n",
      " stochastic_reverse_complement   ((None, 1344, 4),   0           ['sequence[0][0]']               \n",
      " (StochasticReverseComplement)   ())                                                              \n",
      "                                                                                                  \n",
      " stochastic_shift (StochasticSh  (None, 1344, 4)     0           ['stochastic_reverse_complement[0\n",
      " ift)                                                            ][0]']                           \n",
      "                                                                                                  \n",
      " gelu (GELU)                    (None, 1344, 4)      0           ['stochastic_shift[0][0]']       \n",
      "                                                                                                  \n",
      " conv1d (Conv1D)                (None, 1344, 288)    19584       ['gelu[0][0]']                   \n",
      "                                                                                                  \n",
      " batch_normalization (BatchNorm  (None, 1344, 288)   1152        ['conv1d[0][0]']                 \n",
      " alization)                                                                                       \n",
      "                                                                                                  \n",
      " max_pooling1d (MaxPooling1D)   (None, 448, 288)     0           ['batch_normalization[0][0]']    \n",
      "                                                                                                  \n",
      " gelu_1 (GELU)                  (None, 448, 288)     0           ['max_pooling1d[0][0]']          \n",
      "                                                                                                  \n",
      " conv1d_1 (Conv1D)              (None, 448, 288)     414720      ['gelu_1[0][0]']                 \n",
      "                                                                                                  \n",
      " batch_normalization_1 (BatchNo  (None, 448, 288)    1152        ['conv1d_1[0][0]']               \n",
      " rmalization)                                                                                     \n",
      "                                                                                                  \n",
      " max_pooling1d_1 (MaxPooling1D)  (None, 224, 288)    0           ['batch_normalization_1[0][0]']  \n",
      "                                                                                                  \n",
      " gelu_2 (GELU)                  (None, 224, 288)     0           ['max_pooling1d_1[0][0]']        \n",
      "                                                                                                  \n",
      " conv1d_2 (Conv1D)              (None, 224, 323)     465120      ['gelu_2[0][0]']                 \n",
      "                                                                                                  \n",
      " batch_normalization_2 (BatchNo  (None, 224, 323)    1292        ['conv1d_2[0][0]']               \n",
      " rmalization)                                                                                     \n",
      "                                                                                                  \n",
      " max_pooling1d_2 (MaxPooling1D)  (None, 112, 323)    0           ['batch_normalization_2[0][0]']  \n",
      "                                                                                                  \n",
      " gelu_3 (GELU)                  (None, 112, 323)     0           ['max_pooling1d_2[0][0]']        \n",
      "                                                                                                  \n",
      " conv1d_3 (Conv1D)              (None, 112, 363)     586245      ['gelu_3[0][0]']                 \n",
      "                                                                                                  \n",
      " batch_normalization_3 (BatchNo  (None, 112, 363)    1452        ['conv1d_3[0][0]']               \n",
      " rmalization)                                                                                     \n",
      "                                                                                                  \n",
      " max_pooling1d_3 (MaxPooling1D)  (None, 56, 363)     0           ['batch_normalization_3[0][0]']  \n",
      "                                                                                                  \n",
      " gelu_4 (GELU)                  (None, 56, 363)      0           ['max_pooling1d_3[0][0]']        \n",
      "                                                                                                  \n",
      " conv1d_4 (Conv1D)              (None, 56, 407)      738705      ['gelu_4[0][0]']                 \n",
      "                                                                                                  \n",
      " batch_normalization_4 (BatchNo  (None, 56, 407)     1628        ['conv1d_4[0][0]']               \n",
      " rmalization)                                                                                     \n",
      "                                                                                                  \n",
      " max_pooling1d_4 (MaxPooling1D)  (None, 28, 407)     0           ['batch_normalization_4[0][0]']  \n",
      "                                                                                                  \n",
      " gelu_5 (GELU)                  (None, 28, 407)      0           ['max_pooling1d_4[0][0]']        \n",
      "                                                                                                  \n",
      " conv1d_5 (Conv1D)              (None, 28, 456)      927960      ['gelu_5[0][0]']                 \n",
      "                                                                                                  \n",
      " batch_normalization_5 (BatchNo  (None, 28, 456)     1824        ['conv1d_5[0][0]']               \n",
      " rmalization)                                                                                     \n",
      "                                                                                                  \n",
      " max_pooling1d_5 (MaxPooling1D)  (None, 14, 456)     0           ['batch_normalization_5[0][0]']  \n",
      "                                                                                                  \n",
      " gelu_6 (GELU)                  (None, 14, 456)      0           ['max_pooling1d_5[0][0]']        \n",
      "                                                                                                  \n",
      " conv1d_6 (Conv1D)              (None, 14, 512)      1167360     ['gelu_6[0][0]']                 \n",
      "                                                                                                  \n",
      " batch_normalization_6 (BatchNo  (None, 14, 512)     2048        ['conv1d_6[0][0]']               \n",
      " rmalization)                                                                                     \n",
      "                                                                                                  \n",
      " max_pooling1d_6 (MaxPooling1D)  (None, 7, 512)      0           ['batch_normalization_6[0][0]']  \n",
      "                                                                                                  \n",
      " gelu_7 (GELU)                  (None, 7, 512)       0           ['max_pooling1d_6[0][0]']        \n",
      "                                                                                                  \n",
      " conv1d_7 (Conv1D)              (None, 7, 256)       131072      ['gelu_7[0][0]']                 \n",
      "                                                                                                  \n",
      " batch_normalization_7 (BatchNo  (None, 7, 256)      1024        ['conv1d_7[0][0]']               \n",
      " rmalization)                                                                                     \n",
      "                                                                                                  \n",
      " gelu_8 (GELU)                  (None, 7, 256)       0           ['batch_normalization_7[0][0]']  \n",
      "                                                                                                  \n",
      " reshape (Reshape)              (None, 1, 1792)      0           ['gelu_8[0][0]']                 \n",
      "                                                                                                  \n",
      " dense (Dense)                  (None, 1, 100)       179200      ['reshape[0][0]']                \n",
      "                                                                                                  \n",
      " batch_normalization_8 (BatchNo  (None, 1, 100)      400         ['dense[0][0]']                  \n",
      " rmalization)                                                                                     \n",
      "                                                                                                  \n",
      " dropout (Dropout)              (None, 1, 100)       0           ['batch_normalization_8[0][0]']  \n",
      "                                                                                                  \n",
      " gelu_9 (GELU)                  (None, 1, 100)       0           ['dropout[0][0]']                \n",
      "                                                                                                  \n",
      " dense_1 (Dense)                (None, 1, 4000)      404000      ['gelu_9[0][0]']                 \n",
      "                                                                                                  \n",
      " switch_reverse (SwitchReverse)  (None, 1, 4000)     0           ['dense_1[0][0]',                \n",
      "                                                                  'stochastic_reverse_complement[0\n",
      "                                                                 ][1]']                           \n",
      "                                                                                                  \n",
      " flatten (Flatten)              (None, 4000)         0           ['switch_reverse[0][0]']         \n",
      "                                                                                                  \n",
      "==================================================================================================\n",
      "Total params: 5,045,938\n",
      "Trainable params: 5,039,952\n",
      "Non-trainable params: 5,986\n",
      "__________________________________________________________________________________________________\n",
      "Epoch 1/100\n"
     ]
    },
    {
     "name": "stderr",
     "output_type": "stream",
     "text": [
      "2024-01-29 08:01:38.030404: I tensorflow/stream_executor/cuda/cuda_dnn.cc:384] Loaded cuDNN version 8201\n",
      "2024-01-29 08:01:39.072958: W tensorflow/stream_executor/gpu/asm_compiler.cc:230] Falling back to the CUDA driver for PTX compilation; ptxas does not support CC 8.9\n",
      "2024-01-29 08:01:39.072991: W tensorflow/stream_executor/gpu/asm_compiler.cc:233] Used ptxas at ptxas\n",
      "2024-01-29 08:01:39.073051: W tensorflow/stream_executor/gpu/redzone_allocator.cc:314] UNIMPLEMENTED: ptxas ptxas too old. Falling back to the driver to compile.\n",
      "Relying on driver to perform ptx compilation. \n",
      "Modify $PATH to customize ptxas location.\n",
      "This message will be only logged once.\n",
      "2024-01-29 08:01:40.109480: I tensorflow/stream_executor/cuda/cuda_blas.cc:1614] TensorFloat-32 will be used for the matrix multiplication. This will only be logged once.\n"
     ]
    },
    {
     "name": "stdout",
     "output_type": "stream",
     "text": [
      "422/422 [==============================] - 69s 146ms/step - loss: 0.0673 - auc: 0.4981 - auc_1: 0.0102 - val_loss: 0.0579 - val_auc: 0.5135 - val_auc_1: 0.0115\n",
      "Epoch 2/100\n",
      "422/422 [==============================] - 60s 142ms/step - loss: 0.0568 - auc: 0.5019 - auc_1: 0.0103 - val_loss: 0.0575 - val_auc: 0.5083 - val_auc_1: 0.0114\n",
      "Epoch 3/100\n",
      "422/422 [==============================] - 61s 144ms/step - loss: 0.0563 - auc: 0.5018 - auc_1: 0.0103 - val_loss: 0.0576 - val_auc: 0.4989 - val_auc_1: 0.0110\n",
      "Epoch 4/100\n",
      "422/422 [==============================] - 62s 145ms/step - loss: 0.0563 - auc: 0.5013 - auc_1: 0.0103 - val_loss: 0.0568 - val_auc: 0.4953 - val_auc_1: 0.0110\n",
      "Epoch 5/100\n",
      "422/422 [==============================] - 62s 145ms/step - loss: 0.0561 - auc: 0.4999 - auc_1: 0.0103 - val_loss: 0.0572 - val_auc: 0.4962 - val_auc_1: 0.0108\n",
      "Epoch 6/100\n",
      "422/422 [==============================] - 62s 145ms/step - loss: 0.0559 - auc: 0.5002 - auc_1: 0.0103 - val_loss: 0.0572 - val_auc: 0.4995 - val_auc_1: 0.0116\n",
      "Epoch 7/100\n",
      "422/422 [==============================] - 62s 146ms/step - loss: 0.0559 - auc: 0.4994 - auc_1: 0.0102 - val_loss: 0.0571 - val_auc: 0.5075 - val_auc_1: 0.0118\n",
      "Epoch 8/100\n",
      "422/422 [==============================] - 61s 143ms/step - loss: 0.0558 - auc: 0.5014 - auc_1: 0.0102 - val_loss: 0.0564 - val_auc: 0.4973 - val_auc_1: 0.0106\n",
      "Epoch 9/100\n",
      "422/422 [==============================] - 62s 145ms/step - loss: 0.0557 - auc: 0.5002 - auc_1: 0.0102 - val_loss: 0.0565 - val_auc: 0.4973 - val_auc_1: 0.0105\n",
      "Epoch 10/100\n",
      "422/422 [==============================] - 62s 146ms/step - loss: 0.0558 - auc: 0.4961 - auc_1: 0.0101 - val_loss: 0.0566 - val_auc: 0.4966 - val_auc_1: 0.0105\n",
      "Epoch 11/100\n",
      "422/422 [==============================] - 62s 147ms/step - loss: 0.0557 - auc: 0.5010 - auc_1: 0.0103 - val_loss: 0.0564 - val_auc: 0.5002 - val_auc_1: 0.0107\n",
      "Epoch 12/100\n",
      "422/422 [==============================] - 62s 147ms/step - loss: 0.0557 - auc: 0.5001 - auc_1: 0.0102 - val_loss: 0.0565 - val_auc: 0.4933 - val_auc_1: 0.0104\n",
      "Epoch 13/100\n",
      "422/422 [==============================] - 62s 146ms/step - loss: 0.0557 - auc: 0.5000 - auc_1: 0.0102 - val_loss: 0.0563 - val_auc: 0.4980 - val_auc_1: 0.0106\n",
      "Epoch 14/100\n",
      "422/422 [==============================] - 62s 147ms/step - loss: 0.0557 - auc: 0.4996 - auc_1: 0.0102 - val_loss: 0.0564 - val_auc: 0.4985 - val_auc_1: 0.0107\n",
      "Epoch 15/100\n",
      "422/422 [==============================] - 62s 147ms/step - loss: 0.0556 - auc: 0.5001 - auc_1: 0.0102 - val_loss: 0.0567 - val_auc: 0.4944 - val_auc_1: 0.0105\n",
      "Epoch 16/100\n",
      "422/422 [==============================] - 62s 145ms/step - loss: 0.0557 - auc: 0.4987 - auc_1: 0.0102 - val_loss: 0.0564 - val_auc: 0.5045 - val_auc_1: 0.0109\n",
      "Epoch 17/100\n",
      "422/422 [==============================] - 62s 145ms/step - loss: 0.0556 - auc: 0.5008 - auc_1: 0.0103 - val_loss: 0.0563 - val_auc: 0.4973 - val_auc_1: 0.0106\n",
      "Epoch 18/100\n",
      "422/422 [==============================] - 62s 145ms/step - loss: 0.0557 - auc: 0.4977 - auc_1: 0.0102 - val_loss: 0.0563 - val_auc: 0.5015 - val_auc_1: 0.0107\n",
      "Epoch 19/100\n",
      "422/422 [==============================] - 62s 145ms/step - loss: 0.0557 - auc: 0.4974 - auc_1: 0.0101 - val_loss: 0.0563 - val_auc: 0.5003 - val_auc_1: 0.0105\n",
      "Epoch 20/100\n",
      "422/422 [==============================] - 62s 145ms/step - loss: 0.0557 - auc: 0.4966 - auc_1: 0.0101 - val_loss: 0.0563 - val_auc: 0.5024 - val_auc_1: 0.0112\n",
      "Epoch 21/100\n",
      "422/422 [==============================] - 62s 145ms/step - loss: 0.0556 - auc: 0.5001 - auc_1: 0.0103 - val_loss: 0.0563 - val_auc: 0.5011 - val_auc_1: 0.0113\n",
      "Epoch 22/100\n",
      "422/422 [==============================] - 62s 145ms/step - loss: 0.0557 - auc: 0.5000 - auc_1: 0.0103 - val_loss: 0.0563 - val_auc: 0.5022 - val_auc_1: 0.0112\n",
      "Epoch 23/100\n",
      "422/422 [==============================] - 62s 145ms/step - loss: 0.0555 - auc: 0.4984 - auc_1: 0.0101 - val_loss: 0.0563 - val_auc: 0.5054 - val_auc_1: 0.0114\n",
      "Epoch 24/100\n",
      "422/422 [==============================] - 62s 145ms/step - loss: 0.0555 - auc: 0.4989 - auc_1: 0.0102 - val_loss: 0.0563 - val_auc: 0.4991 - val_auc_1: 0.0105\n",
      "Epoch 25/100\n",
      "422/422 [==============================] - 62s 145ms/step - loss: 0.0555 - auc: 0.4994 - auc_1: 0.0102 - val_loss: 0.0564 - val_auc: 0.4974 - val_auc_1: 0.0104\n",
      "Epoch 26/100\n",
      "422/422 [==============================] - 62s 145ms/step - loss: 0.0555 - auc: 0.4993 - auc_1: 0.0102 - val_loss: 0.0564 - val_auc: 0.5051 - val_auc_1: 0.0119\n",
      "Epoch 27/100\n",
      "422/422 [==============================] - 62s 145ms/step - loss: 0.0555 - auc: 0.4987 - auc_1: 0.0102 - val_loss: 0.0565 - val_auc: 0.4996 - val_auc_1: 0.0113\n",
      "Epoch 28/100\n",
      "422/422 [==============================] - 62s 145ms/step - loss: 0.0555 - auc: 0.4976 - auc_1: 0.0101 - val_loss: 0.0565 - val_auc: 0.4975 - val_auc_1: 0.0107\n",
      "Epoch 29/100\n",
      "422/422 [==============================] - 60s 141ms/step - loss: 0.0556 - auc: 0.4975 - auc_1: 0.0101 - val_loss: 0.0564 - val_auc: 0.5009 - val_auc_1: 0.0112\n",
      "Epoch 30/100\n",
      "422/422 [==============================] - 60s 141ms/step - loss: 0.0555 - auc: 0.4996 - auc_1: 0.0102 - val_loss: 0.0563 - val_auc: 0.4986 - val_auc_1: 0.0105\n",
      "Epoch 31/100\n",
      "422/422 [==============================] - 61s 142ms/step - loss: 0.0555 - auc: 0.4977 - auc_1: 0.0101 - val_loss: 0.0563 - val_auc: 0.4962 - val_auc_1: 0.0105\n",
      "Epoch 32/100\n",
      "422/422 [==============================] - 61s 143ms/step - loss: 0.0555 - auc: 0.4964 - auc_1: 0.0100 - val_loss: 0.0563 - val_auc: 0.4969 - val_auc_1: 0.0104\n",
      "Epoch 33/100\n",
      "422/422 [==============================] - 61s 144ms/step - loss: 0.0555 - auc: 0.5000 - auc_1: 0.0102 - val_loss: 0.0562 - val_auc: 0.4985 - val_auc_1: 0.0103\n",
      "Epoch 34/100\n",
      "422/422 [==============================] - 61s 144ms/step - loss: 0.0554 - auc: 0.5008 - auc_1: 0.0102 - val_loss: 0.0562 - val_auc: 0.4997 - val_auc_1: 0.0104\n",
      "Epoch 35/100\n",
      "422/422 [==============================] - 62s 145ms/step - loss: 0.0555 - auc: 0.4990 - auc_1: 0.0102 - val_loss: 0.0563 - val_auc: 0.4996 - val_auc_1: 0.0104\n",
      "Epoch 36/100\n",
      "422/422 [==============================] - 61s 144ms/step - loss: 0.0554 - auc: 0.4988 - auc_1: 0.0101 - val_loss: 0.0566 - val_auc: 0.5006 - val_auc_1: 0.0104\n",
      "Epoch 37/100\n",
      "422/422 [==============================] - 61s 145ms/step - loss: 0.0554 - auc: 0.4988 - auc_1: 0.0101 - val_loss: 0.0563 - val_auc: 0.5026 - val_auc_1: 0.0105\n",
      "Epoch 38/100\n",
      "422/422 [==============================] - 62s 145ms/step - loss: 0.0554 - auc: 0.5019 - auc_1: 0.0102 - val_loss: 0.0565 - val_auc: 0.4980 - val_auc_1: 0.0104\n",
      "Epoch 39/100\n",
      "422/422 [==============================] - 62s 145ms/step - loss: 0.0554 - auc: 0.5000 - auc_1: 0.0102 - val_loss: 0.0562 - val_auc: 0.5032 - val_auc_1: 0.0106\n",
      "Epoch 40/100\n",
      "422/422 [==============================] - 61s 144ms/step - loss: 0.0554 - auc: 0.4989 - auc_1: 0.0101 - val_loss: 0.0563 - val_auc: 0.4968 - val_auc_1: 0.0104\n",
      "Epoch 41/100\n",
      "422/422 [==============================] - 62s 145ms/step - loss: 0.0554 - auc: 0.4979 - auc_1: 0.0101 - val_loss: 0.0563 - val_auc: 0.4985 - val_auc_1: 0.0104\n",
      "Epoch 42/100\n",
      "422/422 [==============================] - 62s 145ms/step - loss: 0.0554 - auc: 0.4976 - auc_1: 0.0101 - val_loss: 0.0562 - val_auc: 0.5007 - val_auc_1: 0.0104\n",
      "Epoch 43/100\n",
      "422/422 [==============================] - 61s 145ms/step - loss: 0.0554 - auc: 0.4995 - auc_1: 0.0101 - val_loss: 0.0564 - val_auc: 0.5032 - val_auc_1: 0.0105\n",
      "Epoch 44/100\n",
      "422/422 [==============================] - 60s 141ms/step - loss: 0.0554 - auc: 0.4995 - auc_1: 0.0101 - val_loss: 0.0562 - val_auc: 0.5042 - val_auc_1: 0.0106\n",
      "Epoch 45/100\n",
      "422/422 [==============================] - 61s 143ms/step - loss: 0.0553 - auc: 0.4992 - auc_1: 0.0101 - val_loss: 0.0563 - val_auc: 0.4987 - val_auc_1: 0.0104\n",
      "Epoch 46/100\n",
      "422/422 [==============================] - 61s 144ms/step - loss: 0.0554 - auc: 0.5008 - auc_1: 0.0102 - val_loss: 0.0562 - val_auc: 0.5015 - val_auc_1: 0.0105\n",
      "Epoch 47/100\n",
      "422/422 [==============================] - 61s 145ms/step - loss: 0.0553 - auc: 0.5020 - auc_1: 0.0102 - val_loss: 0.0562 - val_auc: 0.5040 - val_auc_1: 0.0105\n",
      "Epoch 48/100\n",
      "422/422 [==============================] - 61s 144ms/step - loss: 0.0553 - auc: 0.5040 - auc_1: 0.0103 - val_loss: 0.0563 - val_auc: 0.4957 - val_auc_1: 0.0104\n",
      "Epoch 49/100\n",
      "422/422 [==============================] - 62s 145ms/step - loss: 0.0553 - auc: 0.5061 - auc_1: 0.0104 - val_loss: 0.0562 - val_auc: 0.4965 - val_auc_1: 0.0104\n",
      "Epoch 50/100\n",
      "422/422 [==============================] - 62s 145ms/step - loss: 0.0553 - auc: 0.5054 - auc_1: 0.0103 - val_loss: 0.0563 - val_auc: 0.4988 - val_auc_1: 0.0104\n",
      "Epoch 51/100\n",
      "422/422 [==============================] - 61s 145ms/step - loss: 0.0553 - auc: 0.5064 - auc_1: 0.0104 - val_loss: 0.0563 - val_auc: 0.4960 - val_auc_1: 0.0104\n",
      "Epoch 52/100\n",
      "422/422 [==============================] - 62s 145ms/step - loss: 0.0553 - auc: 0.5064 - auc_1: 0.0104 - val_loss: 0.0562 - val_auc: 0.5020 - val_auc_1: 0.0105\n",
      "Epoch 53/100\n",
      "422/422 [==============================] - 62s 145ms/step - loss: 0.0553 - auc: 0.5085 - auc_1: 0.0105 - val_loss: 0.0562 - val_auc: 0.5004 - val_auc_1: 0.0105\n",
      "Epoch 54/100\n",
      "422/422 [==============================] - 62s 145ms/step - loss: 0.0552 - auc: 0.5101 - auc_1: 0.0105 - val_loss: 0.0563 - val_auc: 0.5000 - val_auc_1: 0.0105\n",
      "Epoch 55/100\n",
      "422/422 [==============================] - 62s 145ms/step - loss: 0.0552 - auc: 0.5124 - auc_1: 0.0106 - val_loss: 0.0562 - val_auc: 0.4990 - val_auc_1: 0.0105\n",
      "Epoch 56/100\n",
      "422/422 [==============================] - 62s 145ms/step - loss: 0.0552 - auc: 0.5118 - auc_1: 0.0106 - val_loss: 0.0562 - val_auc: 0.5002 - val_auc_1: 0.0105\n",
      "Epoch 57/100\n",
      "422/422 [==============================] - 62s 145ms/step - loss: 0.0552 - auc: 0.5155 - auc_1: 0.0107 - val_loss: 0.0563 - val_auc: 0.4975 - val_auc_1: 0.0105\n",
      "Epoch 58/100\n",
      "422/422 [==============================] - 62s 145ms/step - loss: 0.0552 - auc: 0.5160 - auc_1: 0.0108 - val_loss: 0.0563 - val_auc: 0.4992 - val_auc_1: 0.0107\n",
      "Epoch 59/100\n",
      "422/422 [==============================] - 61s 145ms/step - loss: 0.0552 - auc: 0.5178 - auc_1: 0.0108 - val_loss: 0.0562 - val_auc: 0.5028 - val_auc_1: 0.0108\n",
      "Epoch 60/100\n",
      "422/422 [==============================] - 62s 145ms/step - loss: 0.0552 - auc: 0.5188 - auc_1: 0.0109 - val_loss: 0.0562 - val_auc: 0.5014 - val_auc_1: 0.0107\n",
      "Epoch 61/100\n",
      "422/422 [==============================] - 62s 145ms/step - loss: 0.0551 - auc: 0.5200 - auc_1: 0.0109 - val_loss: 0.0563 - val_auc: 0.5002 - val_auc_1: 0.0107\n",
      "Epoch 62/100\n",
      "422/422 [==============================] - 62s 145ms/step - loss: 0.0551 - auc: 0.5220 - auc_1: 0.0110 - val_loss: 0.0563 - val_auc: 0.5011 - val_auc_1: 0.0107\n",
      "Epoch 63/100\n",
      "422/422 [==============================] - 62s 145ms/step - loss: 0.0551 - auc: 0.5251 - auc_1: 0.0112 - val_loss: 0.0563 - val_auc: 0.5011 - val_auc_1: 0.0108\n",
      "Epoch 64/100\n",
      "422/422 [==============================] - 61s 142ms/step - loss: 0.0551 - auc: 0.5255 - auc_1: 0.0111 - val_loss: 0.0562 - val_auc: 0.5034 - val_auc_1: 0.0108\n",
      "Epoch 65/100\n",
      "422/422 [==============================] - 61s 143ms/step - loss: 0.0551 - auc: 0.5272 - auc_1: 0.0113 - val_loss: 0.0562 - val_auc: 0.5032 - val_auc_1: 0.0109\n",
      "Epoch 66/100\n",
      "422/422 [==============================] - 61s 144ms/step - loss: 0.0551 - auc: 0.5305 - auc_1: 0.0114 - val_loss: 0.0563 - val_auc: 0.5037 - val_auc_1: 0.0111\n",
      "Epoch 67/100\n",
      "422/422 [==============================] - 61s 144ms/step - loss: 0.0550 - auc: 0.5320 - auc_1: 0.0115 - val_loss: 0.0564 - val_auc: 0.5045 - val_auc_1: 0.0109\n",
      "Epoch 68/100\n",
      "422/422 [==============================] - 62s 145ms/step - loss: 0.0550 - auc: 0.5345 - auc_1: 0.0116 - val_loss: 0.0565 - val_auc: 0.5026 - val_auc_1: 0.0111\n",
      "Epoch 69/100\n",
      "422/422 [==============================] - 62s 145ms/step - loss: 0.0550 - auc: 0.5367 - auc_1: 0.0117 - val_loss: 0.0564 - val_auc: 0.5091 - val_auc_1: 0.0111\n",
      "Epoch 70/100\n",
      "422/422 [==============================] - 62s 145ms/step - loss: 0.0550 - auc: 0.5389 - auc_1: 0.0118 - val_loss: 0.0565 - val_auc: 0.5001 - val_auc_1: 0.0109\n",
      "Epoch 71/100\n",
      "422/422 [==============================] - 62s 145ms/step - loss: 0.0550 - auc: 0.5417 - auc_1: 0.0119 - val_loss: 0.0566 - val_auc: 0.5020 - val_auc_1: 0.0110\n",
      "Epoch 72/100\n",
      "422/422 [==============================] - 62s 145ms/step - loss: 0.0549 - auc: 0.5455 - auc_1: 0.0121 - val_loss: 0.0565 - val_auc: 0.5094 - val_auc_1: 0.0112\n",
      "Epoch 73/100\n",
      "422/422 [==============================] - 62s 146ms/step - loss: 0.0549 - auc: 0.5469 - auc_1: 0.0122 - val_loss: 0.0566 - val_auc: 0.5042 - val_auc_1: 0.0110\n",
      "Epoch 74/100\n",
      "422/422 [==============================] - 62s 145ms/step - loss: 0.0549 - auc: 0.5497 - auc_1: 0.0124 - val_loss: 0.0565 - val_auc: 0.5086 - val_auc_1: 0.0111\n",
      "Epoch 75/100\n",
      "422/422 [==============================] - 62s 145ms/step - loss: 0.0549 - auc: 0.5539 - auc_1: 0.0128 - val_loss: 0.0566 - val_auc: 0.5147 - val_auc_1: 0.0116\n",
      "Epoch 76/100\n",
      "422/422 [==============================] - 62s 145ms/step - loss: 0.0548 - auc: 0.5564 - auc_1: 0.0128 - val_loss: 0.0567 - val_auc: 0.5134 - val_auc_1: 0.0116\n",
      "Epoch 77/100\n",
      "422/422 [==============================] - 62s 145ms/step - loss: 0.0548 - auc: 0.5626 - auc_1: 0.0134 - val_loss: 0.0567 - val_auc: 0.5217 - val_auc_1: 0.0121\n",
      "Epoch 78/100\n",
      "422/422 [==============================] - 60s 141ms/step - loss: 0.0548 - auc: 0.5612 - auc_1: 0.0134 - val_loss: 0.0565 - val_auc: 0.5165 - val_auc_1: 0.0127\n",
      "Epoch 79/100\n",
      "422/422 [==============================] - 61s 144ms/step - loss: 0.0547 - auc: 0.5659 - auc_1: 0.0140 - val_loss: 0.0567 - val_auc: 0.5189 - val_auc_1: 0.0116\n",
      "Epoch 80/100\n",
      "422/422 [==============================] - 61s 145ms/step - loss: 0.0547 - auc: 0.5680 - auc_1: 0.0142 - val_loss: 0.0569 - val_auc: 0.5092 - val_auc_1: 0.0116\n",
      "Epoch 81/100\n",
      "422/422 [==============================] - 60s 141ms/step - loss: 0.0547 - auc: 0.5703 - auc_1: 0.0145 - val_loss: 0.0569 - val_auc: 0.5179 - val_auc_1: 0.0114\n",
      "Epoch 82/100\n",
      "422/422 [==============================] - 61s 143ms/step - loss: 0.0546 - auc: 0.5724 - auc_1: 0.0152 - val_loss: 0.0574 - val_auc: 0.5050 - val_auc_1: 0.0119\n",
      "Epoch 83/100\n",
      "422/422 [==============================] - 61s 144ms/step - loss: 0.0546 - auc: 0.5746 - auc_1: 0.0162 - val_loss: 0.0566 - val_auc: 0.5194 - val_auc_1: 0.0118\n",
      "Epoch 84/100\n",
      "422/422 [==============================] - 61s 144ms/step - loss: 0.0545 - auc: 0.5785 - auc_1: 0.0176 - val_loss: 0.0572 - val_auc: 0.5164 - val_auc_1: 0.0129\n",
      "Epoch 85/100\n",
      "422/422 [==============================] - 62s 145ms/step - loss: 0.0543 - auc: 0.5859 - auc_1: 0.0181 - val_loss: 0.0570 - val_auc: 0.5139 - val_auc_1: 0.0114\n",
      "Epoch 86/100\n",
      "422/422 [==============================] - 62s 145ms/step - loss: 0.0543 - auc: 0.5871 - auc_1: 0.0199 - val_loss: 0.0571 - val_auc: 0.5059 - val_auc_1: 0.0111\n",
      "Epoch 87/100\n",
      "422/422 [==============================] - 62s 145ms/step - loss: 0.0542 - auc: 0.5884 - auc_1: 0.0206 - val_loss: 0.0567 - val_auc: 0.5157 - val_auc_1: 0.0120\n",
      "Epoch 88/100\n",
      "422/422 [==============================] - 62s 145ms/step - loss: 0.0541 - auc: 0.5914 - auc_1: 0.0228 - val_loss: 0.0569 - val_auc: 0.5106 - val_auc_1: 0.0143\n",
      "Epoch 89/100\n",
      "422/422 [==============================] - 62s 145ms/step - loss: 0.0539 - auc: 0.5992 - auc_1: 0.0245 - val_loss: 0.0572 - val_auc: 0.5079 - val_auc_1: 0.0117\n",
      "Epoch 90/100\n",
      "422/422 [==============================] - 62s 145ms/step - loss: 0.0538 - auc: 0.6031 - auc_1: 0.0255 - val_loss: 0.0572 - val_auc: 0.5054 - val_auc_1: 0.0113\n",
      "Epoch 91/100\n",
      "422/422 [==============================] - 62s 145ms/step - loss: 0.0537 - auc: 0.6064 - auc_1: 0.0260 - val_loss: 0.0572 - val_auc: 0.5026 - val_auc_1: 0.0114\n",
      "Epoch 92/100\n",
      "422/422 [==============================] - 62s 145ms/step - loss: 0.0536 - auc: 0.6107 - auc_1: 0.0275 - val_loss: 0.0580 - val_auc: 0.5087 - val_auc_1: 0.0113\n",
      "Epoch 93/100\n",
      "422/422 [==============================] - 62s 145ms/step - loss: 0.0534 - auc: 0.6157 - auc_1: 0.0301 - val_loss: 0.0572 - val_auc: 0.5015 - val_auc_1: 0.0118\n",
      "Epoch 94/100\n",
      "422/422 [==============================] - 62s 145ms/step - loss: 0.0532 - auc: 0.6197 - auc_1: 0.0329 - val_loss: 0.0576 - val_auc: 0.4968 - val_auc_1: 0.0114\n",
      "Epoch 95/100\n",
      "422/422 [==============================] - 62s 145ms/step - loss: 0.0532 - auc: 0.6227 - auc_1: 0.0322 - val_loss: 0.0578 - val_auc: 0.5035 - val_auc_1: 0.0110\n",
      "Epoch 96/100\n",
      "422/422 [==============================] - 62s 145ms/step - loss: 0.0530 - auc: 0.6290 - auc_1: 0.0351 - val_loss: 0.0575 - val_auc: 0.5006 - val_auc_1: 0.0114\n",
      "Epoch 97/100\n",
      "422/422 [==============================] - 62s 145ms/step - loss: 0.0527 - auc: 0.6362 - auc_1: 0.0377 - val_loss: 0.0574 - val_auc: 0.5055 - val_auc_1: 0.0118\n",
      "Epoch 98/100\n",
      "422/422 [==============================] - 62s 145ms/step - loss: 0.0527 - auc: 0.6368 - auc_1: 0.0376 - val_loss: 0.0571 - val_auc: 0.5060 - val_auc_1: 0.0121\n",
      "Epoch 99/100\n",
      "422/422 [==============================] - 62s 145ms/step - loss: 0.0524 - auc: 0.6457 - auc_1: 0.0419 - val_loss: 0.0575 - val_auc: 0.5031 - val_auc_1: 0.0117\n",
      "Epoch 100/100\n",
      "422/422 [==============================] - 62s 145ms/step - loss: 0.0524 - auc: 0.6467 - auc_1: 0.0399 - val_loss: 0.0579 - val_auc: 0.5024 - val_auc_1: 0.0118\n"
     ]
    }
   ],
   "source": [
    "call_train('2024-01-27-06_43_00processed/processed2',100,100,'output2',None)"
   ]
  },
  {
   "cell_type": "code",
   "execution_count": null,
   "id": "62c942a1-fb6b-4777-b6dd-2f1b3326ca23",
   "metadata": {},
   "outputs": [],
   "source": []
  }
 ],
 "metadata": {
  "kernelspec": {
   "display_name": "scbasset_env",
   "language": "python",
   "name": "scbasset"
  },
  "language_info": {
   "codemirror_mode": {
    "name": "ipython",
    "version": 3
   },
   "file_extension": ".py",
   "mimetype": "text/x-python",
   "name": "python",
   "nbconvert_exporter": "python",
   "pygments_lexer": "ipython3",
   "version": "3.7.16"
  }
 },
 "nbformat": 4,
 "nbformat_minor": 5
}
